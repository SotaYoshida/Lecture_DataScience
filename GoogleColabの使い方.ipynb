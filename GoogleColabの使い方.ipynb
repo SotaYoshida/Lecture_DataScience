{
  "nbformat": 4,
  "nbformat_minor": 0,
  "metadata": {
    "colab": {
      "name": "GoogleColabの使い方",
      "provenance": [],
      "mount_file_id": "https://github.com/SotaYoshida/Lecture_DataScience/blob/master/GoogleColab%E3%81%AE%E4%BD%BF%E3%81%84%E6%96%B9.ipynb",
      "authorship_tag": "ABX9TyNTQS52DoLhgC6pp8dkid12",
      "include_colab_link": true
    },
    "kernelspec": {
      "name": "python3",
      "display_name": "Python 3"
    }
  },
  "cells": [
    {
      "cell_type": "markdown",
      "metadata": {
        "id": "view-in-github",
        "colab_type": "text"
      },
      "source": [
        "<a href=\"https://colab.research.google.com/github/SotaYoshida/Lecture_DataScience/blob/2021/GoogleColab%E3%81%AE%E4%BD%BF%E3%81%84%E6%96%B9.ipynb\" target=\"_parent\"><img src=\"https://colab.research.google.com/assets/colab-badge.svg\" alt=\"Open In Colab\"/></a>"
      ]
    },
    {
      "cell_type": "markdown",
      "metadata": {
        "id": "m6vf4w7mQ1_g"
      },
      "source": [
        "#Google Colablatory(以下Google Colab.)の使い方\n",
        "\n",
        "\n",
        "完全には網羅していません, 随時更新中です.\n",
        "\n",
        "Googleサービスのアップデートに伴って、  \n",
        "数ヶ月経つと微妙に設定の文言が変更されている場合があるので、  \n",
        "適宜対応するものに置き換えて読んでいただけると助かります.\n",
        "\n"
      ]
    },
    {
      "cell_type": "markdown",
      "metadata": {
        "id": "IqbekeNETaRw"
      },
      "source": [
        "## 使用環境について\n",
        "\n",
        "Google Colabを使用する際には常にGoogleのアカウントに接続された状況で使用してください。\n",
        "\n",
        "吉田の動作確認済み環境(といってもそんなに環境依存はないはず):\n",
        "* Mac OS (Catalina, Mojave, BigSur) + Opera, Firefox, Google Chrome, Safari  \n",
        "* iPad OS 13+Safari, Google Chrome \n",
        "* 大学の端末室(Windows8?) + Firefox **\n",
        "\n",
        "*Microsoft Edgeは以前授業の際にGitHubが開けないことがあったので非推奨です。*"
      ]
    },
    {
      "cell_type": "markdown",
      "metadata": {
        "id": "2aCWfLT5RDsu"
      },
      "source": [
        "## ノートブックの作成・編集・保存に関して"
      ]
    },
    {
      "cell_type": "markdown",
      "metadata": {
        "id": "YFABQv9BRL3Z"
      },
      "source": [
        "授業で使うノートブックは、私のGitHubのLecture_DataScienceレポジトリ内で公開します。\n",
        "https://github.com/SotaYoshida/Lecture_DataScience  \n",
        "\n",
        "なお、授業を受ける皆さんがGitHubアカウントを取得する必要はありません.\n",
        "\n",
        "ファイル名が英語名なのは、かっこつけているわけではなく...   \n",
        "一般的にファイル名で2バイト文字(例:日本語)を使うのは、  \n",
        "環境依存があったり、CUI操作の邪魔になり得るため非推奨です。  \n",
        "多くのノートブック等ではその慣習にならっています。  \n",
        "(詳しくはノートブック5章の末尾を参照)\n",
        "\n",
        "* 新しいノートブックを作成したい　→ 左上の[ファイル]から[ノートブックの新規作成]  \n",
        "* 自身が以前編集したノートブックを開きたい:[ファイル]→[ノートブックを開く]  \n",
        "  ご自身のGoogle Driveに保存されているものや、GitHubに公開されているもの、  \n",
        "  またはPC内に保存しておいたipynb形式のノートブックファイルなどが読み込めます。\n"
      ]
    },
    {
      "cell_type": "markdown",
      "metadata": {
        "id": "dmYKIFoGDl6D"
      },
      "source": [
        "## 重要な注  \n"
      ]
    },
    {
      "cell_type": "markdown",
      "metadata": {
        "id": "kPzZ2PFwUfMB"
      },
      "source": [
        "\n",
        "私のGitHub(レポジトリ)から開いたノートブックは、  \n",
        "皆さんがコピーをするなどしない限り、実行はできますが保存はできません。\n",
        "\n",
        "**必ず、[ファイル]から[ドライブにコピーを保存]し、  \n",
        "ご自身のファイルを編集・保存するようにしてください**\n",
        "\n",
        "\n",
        "ノートブックのファイル名の横にGitHubのロゴ(タコ足猫)が表示されている場合、  \n",
        "皆さんが開いているのはGitHubからインポートされたノートブックであって、  \n",
        "皆さん自身のファイルではありません。\n",
        "途中でうっかりタブやブラウザを閉じてしまうと作業内容が消えてしまいます。\n",
        "\n",
        "![](https://drive.google.com/uc?export=view&id=1cs1XEAz0qbG2RtOqt1eIPGGiO9fngUE-)  \n",
        "\n",
        "\n",
        "私も一連の講義資料作成時にGitHubから開いたノートブックを直接編集して  \n",
        "数時間分の作業内容を消してしまったことが何度もあります...。辛いです。\n",
        "\n",
        "コピーを編集している場合は、左上のノートブック名の隣がGoogle driveのロゴになっているはずです。  \n",
        "この場合、編集されたものは定期的に自動でバックアップされるので安心ですし、  \n",
        "いつでもどの端末からでも開いて作業を再開することができます。\n",
        "\n",
        "![](https://drive.google.com/uc?export=view&id=1IibFQS1TVq6xDhG62AP9yG2Sy0c89Zut)\n",
        "\n",
        "\n",
        "明示的にGoogle Driveにバックアップを保存したいときは  \n",
        "WindowsならCtrl+ S, MacならCommand + S を押すと可能です。\n",
        "\n",
        "MS Officeなど、他の多くのソフトでも共通のショートカットなので、  \n",
        "こまめに保存するクセを付けておきましょう。"
      ]
    },
    {
      "cell_type": "markdown",
      "metadata": {
        "id": "Zgvudz7BnBao"
      },
      "source": [
        "## Google Driveからファイルのインポート"
      ]
    },
    {
      "cell_type": "markdown",
      "metadata": {
        "id": "nO2NAQP2nESG"
      },
      "source": [
        "Google Colaboratoryでは、Google Driveに保存されたファイルの内容を読み込んだり、  \n",
        "逆にコードでテキストファイル,エクセルファイルや画像,音声などを作成し  \n",
        "Google Driveに保存することができます。\n",
        "\n",
        "お使いのアカウントのDriveをGoogle colab.から操作できるようにするためには、  \n",
        "主に2通りの方法があります。\n",
        "\n"
      ]
    },
    {
      "cell_type": "markdown",
      "metadata": {
        "id": "bUREpnUdnZGG"
      },
      "source": [
        "1つめ: 以下を実行し、出てくるURLに遷移  \n",
        "authorization codeをコピーし枠内に貼り付けてEnterを押す  \n",
        "(Google colabからgoogle driveのファイルにアクセスできるようになります)\n"
      ]
    },
    {
      "cell_type": "code",
      "metadata": {
        "id": "akztupdtnkJ_"
      },
      "source": [
        "from google.colab import drive\n",
        "drive.mount('/content/drive/'') ##google driveを/content/という場所にマウント (２番めと整合するようにパスを選びましたが、マウントする場所は自由に選べます)"
      ],
      "execution_count": null,
      "outputs": []
    },
    {
      "cell_type": "markdown",
      "metadata": {
        "id": "wTDCgxVkpJHO"
      },
      "source": [
        "google drive直下にあるXXX.pngというファイルを指定したい場合は"
      ]
    },
    {
      "cell_type": "code",
      "metadata": {
        "id": "wgKeu1FSpMBF"
      },
      "source": [
        "filename = \"/content/drive/My Drive/XXX.png\""
      ],
      "execution_count": null,
      "outputs": []
    },
    {
      "cell_type": "markdown",
      "metadata": {
        "id": "Xj3LO1sVpQmj"
      },
      "source": [
        "とすれば良い。"
      ]
    },
    {
      "cell_type": "markdown",
      "metadata": {
        "id": "mTOvL--UnqJ1"
      },
      "source": [
        "2つめ: Google Colabの左側にあるフォルダマークをクリックし、  \n",
        "(「ファイルのブラウジングを有効にするには、ランタイムに接続してください。」  \n",
        "と出る場合は、少し待ってください)\n",
        "\n",
        "次に、Google driveのロゴがついたフォルダをクリックする  \n",
        "(画像の、[ファイル]というところの右下にある、  \n",
        "driveのロゴがついたグレーがかったフォルダマーク)\n",
        "\n",
        "\n",
        "![](https://drive.google.com/uc?export=view&id=1RMjCaZN7emkVBqlYF-gFMcG8FRnw-9Xv)\n"
      ]
    },
    {
      "cell_type": "markdown",
      "metadata": {
        "id": "2cqnRJYSo18u"
      },
      "source": [
        "この場合は自動で```/content/drive```という場所にマウントされるので(仕様が変更になる可能性あり)  \n",
        "google drive直下にあるXXX.pngというファイルを指定したい場合はやはり"
      ]
    },
    {
      "cell_type": "code",
      "metadata": {
        "id": "Q4QKZHs0pA9i"
      },
      "source": [
        "filename = \"/content/drive/My Drive/XXX.png\""
      ],
      "execution_count": null,
      "outputs": []
    },
    {
      "cell_type": "markdown",
      "metadata": {
        "id": "Qq2fCKk2pG0S"
      },
      "source": [
        "などとすれば良い。"
      ]
    },
    {
      "cell_type": "markdown",
      "metadata": {
        "id": "fpywELN6E3Y7"
      },
      "source": [
        "また、driveを一度マウントした後でパスがわからなくなったときには  \n",
        "左の[ファイル]からdriveに相当するフォルダにマウスオーバーして  \n",
        "縦3点 $\\vdots$から[パスをコピー]で、パスをクリップボードにコピーすることができます。"
      ]
    },
    {
      "cell_type": "markdown",
      "metadata": {
        "id": "TpQ_99KFDduR"
      },
      "source": [
        "### シェルコマンドとドライブ内のファイルのパス"
      ]
    },
    {
      "cell_type": "markdown",
      "metadata": {
        "id": "giHZDx4XDie5"
      },
      "source": [
        "Google Colab.では先頭にエクスクラメーションマークをつけることで\n",
        "* ls (リスト,ファイル等表示)\n",
        "* mkdir (ディレクトリ作成)\n",
        "\n",
        "などのLinux/Unixで用いられるコマンドを実行することもできます。  \n",
        "たとえばGoogle Driveをマウントした後に  \n",
        "マイドライブ直下にあるpng画像のリストを表示させたければ、"
      ]
    },
    {
      "cell_type": "code",
      "metadata": {
        "id": "iFLC5UEdDh4D"
      },
      "source": [
        "!ls /content/drive/My\\ Drive/*.png # 以前は半角スペースの前にバックスラッシュが必要だった\n",
        "!ls /content/drive/MyDrive/*.png # 2020年11月に仕様変更がありこれでもOKになった"
      ],
      "execution_count": null,
      "outputs": []
    },
    {
      "cell_type": "markdown",
      "metadata": {
        "id": "05QLm6QqEnMq"
      },
      "source": [
        "とします。半角のアスタリスクはワイルドカード記号と呼ばれるので、  \n",
        "「対象を任意に」という命令になっています。"
      ]
    },
    {
      "cell_type": "markdown",
      "metadata": {
        "id": "8okZSu8yRKPa"
      },
      "source": [
        "## 画像の挿入"
      ]
    },
    {
      "cell_type": "markdown",
      "metadata": {
        "id": "07oqDj3mSHD-"
      },
      "source": [
        "![](https://drive.google.com/uc?export=view&id=1xzIUfKUy9neaJI5C2BISAte1mMNHUsEx)\n",
        "\n",
        "こんな感じで自身のGoogle Driveにある画像をノートブックに貼ることができます。  \n",
        "(写真は以前撮った、大都会宇都宮市の駅前の様子です)\n",
        "\n",
        "画像の共有リンクを取得し、リンクのid部分を以下の xxxxx部分に挿入します。\n",
        "\n",
        "*↓はこのテキストタブを開かないと見えません  \n",
        "![](https://drive.google.com/uc?export=view&id=xxxxxxxxxxx)   \n",
        "*↑はこのテキストタブを開かないと見えません  \n",
        "\n",
        "リンクのid部分は、たとえば上の写真の共有リンクは\n",
        "https://drive.google.com/file/d/1xzIUfKUy9neaJI5C2BISAte1mMNHUsEx/view?usp=sharing となっていて、1xzIUfKUy9neaJI5C2BISAte1mMNHUsEx部分がidっぽいことがわかります。\n",
        "\n",
        "自分しか画像を見る必要がない場合は、特に共有設定を変更する必要はありませんが、  \n",
        "たとえばレポートをノートブック形式で提出する際には、  \n",
        "私にも見えるように共有設定を[リンクを知っている人全員]に設定するようにしてください。  \n",
        "(微妙に文言が異なる場合は適当なものを選択してください)\n",
        "\n",
        "ブラウザが複数インストールされている方は、   \n",
        "Googleのアカウントにログインしていないブラウザで、  \n",
        "他人がきちんと閲覧できる状態かをチェックしましょう。\n"
      ]
    },
    {
      "cell_type": "markdown",
      "metadata": {
        "id": "o7ZU7jJlSEOG"
      },
      "source": [
        "## 数式の挿入\n"
      ]
    },
    {
      "cell_type": "markdown",
      "metadata": {
        "id": "mE8YChxQSGIl"
      },
      "source": [
        "Google Colabでは$\\LaTeX$形式の数式をサポートしています。  \n",
        "ドルマークで囲むと、数式を表示させることが出来ます。  \n",
        "$f(x) = \\frac{1}{2}\\exp{(-2x^2 + 3x + 5)}$"
      ]
    },
    {
      "cell_type": "markdown",
      "metadata": {
        "id": "Y7GJy3WKFV95"
      },
      "source": [
        "## なんか挙動が変だな、と思ったら。\n",
        "\n"
      ]
    },
    {
      "cell_type": "markdown",
      "metadata": {
        "id": "R3JaQQaAcNyt"
      },
      "source": [
        "複数のセルにまたがるコードを実行していくうちに変数に意図しないものが入っていたり  \n",
        "なんか変だな、挙動が怪しいな、と思ったら  \n",
        "[ランタイム]や[編集]などから各種操作を行ってみましょう。\n",
        "\n",
        "* セルの実行を停止したい場合: [ランタイム]→[実行の中断]で中断 (or [セッションの管理]から不要なセッションを削除する)\n",
        "* 再起動したい場合: [ランタイム]→[ランタイムを再起動]\n",
        "* 出力をいったん全部消したい: [編集]→[出力をすべて消去]"
      ]
    },
    {
      "cell_type": "markdown",
      "metadata": {
        "id": "8gtE4wwicOUO"
      },
      "source": [
        "## Form機能"
      ]
    },
    {
      "cell_type": "markdown",
      "metadata": {
        "id": "BDfvpX6EcQP-"
      },
      "source": [
        "Google Colab.にはForm機能というものが用意されていて、\n",
        "\n",
        "以下はコードスニペット(左上の< >マーク)から挿入した  \n",
        "サンプルformです。\n",
        "\n",
        "コードセルにコメント(#)を駆使して以下のようなフォームを作ることができます。"
      ]
    },
    {
      "cell_type": "code",
      "metadata": {
        "id": "uivOP9FOcTRf"
      },
      "source": [
        "#@title Example form fields\n",
        "#@markdown Forms support many types of fields.\n",
        "\n",
        "no_type_checking = ''  #@param\n",
        "string_type = 'example'  #@param {type: \"string\"}\n",
        "slider_value = 164  #@param {type: \"slider\", min: 100, max: 200}\n",
        "number = 102  #@param {type: \"number\"}\n",
        "date = '2010-11-05'  #@param {type: \"date\"}\n",
        "pick_me = \"monday\"  #@param ['monday', 'tuesday', 'wednesday', 'thursday']\n",
        "select_or_input = \"apples\" #@param [\"apples\", \"bananas\", \"oranges\"] {allow-input: true}\n",
        "#@markdown ---\n"
      ],
      "execution_count": null,
      "outputs": []
    },
    {
      "cell_type": "markdown",
      "metadata": {
        "id": "Gr1s7sPNc3eA"
      },
      "source": [
        "たとえばスライダーボタンを右に動かすと、  \n",
        "コードセルの対応する\n",
        "```number = XX```のXX部分が変更されるかと思います。\n",
        "\n",
        "```@param```で、プルダウン、スライダーなどの\"type\"を指定し、  \n",
        "値や範囲をしていすることで、プルダウンやスライダー、  \n",
        "カレンダーなどのUIを作成することができます。\n",
        "\n",
        "この機能を駆使すれば、描画に使うデータをプルダウンから選択して  \n",
        "グラフを切り替える可視化ツールのようなものを作ることもできます。"
      ]
    },
    {
      "cell_type": "markdown",
      "metadata": {
        "id": "dPK_KIGcyuod"
      },
      "source": [
        "# LICENSE"
      ]
    },
    {
      "cell_type": "markdown",
      "metadata": {
        "id": "q943wB7Z4DYK"
      },
      "source": [
        "\n",
        "Copyright (C) 2021 Sota Yoshida\n",
        "\n",
        "[ライセンス:クリエイティブ・コモンズ 4.0 表示 (CC-BY 4.0)](https://creativecommons.org/licenses/by/4.0/deed.ja)"
      ]
    }
  ]
}