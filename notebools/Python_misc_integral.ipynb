{
  "nbformat": 4,
  "nbformat_minor": 0,
  "metadata": {
    "colab": {
      "name": "Python_misc_integral.ipynb",
      "provenance": [],
      "collapsed_sections": [
        "4dMj1-bpCxRQ",
        "iJbN-_V8C3o2"
      ],
      "include_colab_link": true
    },
    "kernelspec": {
      "name": "python3",
      "display_name": "Python 3"
    }
  },
  "cells": [
    {
      "cell_type": "markdown",
      "metadata": {
        "id": "view-in-github",
        "colab_type": "text"
      },
      "source": [
        "<a href=\"https://colab.research.google.com/github/SotaYoshida/Lecture_DataScience/blob/2021/notebools/Python_misc_integral.ipynb\" target=\"_parent\"><img src=\"https://colab.research.google.com/assets/colab-badge.svg\" alt=\"Open In Colab\"/></a>"
      ]
    },
    {
      "cell_type": "markdown",
      "metadata": {
        "id": "Ws7MIlNI8DVM"
      },
      "source": [
        "# 数値積分\n",
        "\n",
        "\n"
      ]
    },
    {
      "cell_type": "markdown",
      "metadata": {
        "id": "-WthzvSjWhCf"
      },
      "source": [
        "(編集中)"
      ]
    },
    {
      "cell_type": "markdown",
      "metadata": {
        "id": "4dMj1-bpCxRQ"
      },
      "source": [
        "##  台形公式"
      ]
    },
    {
      "cell_type": "code",
      "metadata": {
        "id": "Cw-cXXy0C3e3"
      },
      "source": [
        ""
      ],
      "execution_count": null,
      "outputs": []
    },
    {
      "cell_type": "markdown",
      "metadata": {
        "id": "5dfXqmjkEm8i"
      },
      "source": [
        ""
      ]
    },
    {
      "cell_type": "markdown",
      "metadata": {
        "id": "iJbN-_V8C3o2"
      },
      "source": [
        "## シンプソンの公式"
      ]
    },
    {
      "cell_type": "code",
      "metadata": {
        "id": "Imf_L_t0C9XL"
      },
      "source": [
        ""
      ],
      "execution_count": null,
      "outputs": []
    },
    {
      "cell_type": "markdown",
      "metadata": {
        "id": "l0vlN29eR3s-"
      },
      "source": [
        "## $\\clubsuit$ ガウス求積 (gaussian quadrature) $^{(※1)}$"
      ]
    },
    {
      "cell_type": "markdown",
      "metadata": {
        "id": "kgMrhSDBC9cz"
      },
      "source": [
        "\n",
        "\n",
        "\n",
        "任意の多項式関数$f(x)$について、区間$[-1,1]^{(※2)}$に渡る定積分$I$を、  \n",
        "正の整数$n$を用いて、\n",
        "$I = \\int^1_{-1}f(x) \\simeq \\sum^n_{i=1}w_i f(x_i)$  \n",
        "の形でなるべく正確に(実用的には、正確かつ少ない項数nで)近似する事を考える。\n",
        "\n",
        "$x_i$は積分点(またはガウス点)、$w_i$は重みと呼ばれる。\n",
        "\n",
        "ガウス求積というときは通常、後述のGauss-Legendre公式を指し、  \n",
        "$n$次のルジャンドル多項式の$n$個の零点([-1,1]内にある)を積分点として選ぶ。  \n",
        "このとき、$w_i$を(以降の小節のように)適切に選ぶと、$f(x)$が$2n-1$次以下の場合、等号が厳密に成り立つ。  \n",
        "逆に、関数$f(x)$が$2n$以上の次数を持つ多項式の場合や、多項式関数でない場合、  \n",
        "上の等号は成り立たない(近似の精度が十分な場合もある)。\n",
        "\n",
        ">※1: ガウスに因んで名付けられた数値解析の手法で、  \n",
        "物理などでよく出てくるガウス積分$\\int^\\infty_{-\\infty} dx \\exp{(-x^2)} = \\sqrt{\\pi}$とは特別関係はない\n",
        "\n",
        ">※2 一般には、任意の区間$[a,b]$についての積分がしたくなるが、  \n",
        "区間$[-1,1]$に\"標準化\"するのが慣例で、多くのライブラリ等での実装もそうなっている。  \n",
        "このためにはもちろん、元の変数$x$を$t = \\frac{2(x-a)}{b-a }- 1 $と 変数変換をすればよい。  \n",
        "具体的な表式を書いておくと...\n",
        "$\\int^b_a dx f(x) = \\frac{b-a}{2}\\int^1_{-1}dt f(\\frac{b-a}{2}t +\\frac{a+b}{2})$となる。\n",
        "\n",
        "\n",
        "### Gauss-Legendre公式\n",
        "\n",
        "上記の$n$個の積分点を$n$次のLegendre多項式の零点、  \n",
        "つまり$P_n(x_i)=0$となる点$x_i$(i=1,...,n)に取る。  \n",
        "また重みを$w_i=2/[ nP_{n-1}(x_i) P'_{n}(x_i)]$と取る。\n",
        "\n",
        "> このノートブックではルジャンドル多項式の性質を全て網羅することはしない。  \n",
        "人生で一度くらいは工学や物理などで出てくる直交多項式の漸化式などを勉強しておくと良いかも...。  \n",
        "ルジャンドル多項式, エルミート多項式，ラゲール多項式， etc.  \n",
        "覚えておく必要はなく、必要になった時に「アレに載ってたな...」と思い出せれば良い。  \n",
        "参考: [物理のための応用数学 (裳華房)][詳解応用物理数学演習 (共立出版)]\n",
        "\n",
        "数値積分をしてみよう。\n",
        "\n",
        "たとえば関数$f(x)= 7 x^6 + 20x^4 + 1$を考える。  \n",
        "この関数の区間$[-1,1]$における積分の値は手計算で求めることができて  \n",
        "$\\int^1_{-1}dx (7x^6 + 20 x^4 + 1) = [ x^7 + 4x^5 + x ]^{x=1}_{x=-1}=12 $である。\n"
      ]
    },
    {
      "cell_type": "code",
      "metadata": {
        "id": "YwH6GZP6NGqB"
      },
      "source": [
        "#関数を定義\n",
        "def f(x):\n",
        "    return 7 * x**6 + 20* x**4 + 1"
      ],
      "execution_count": 4,
      "outputs": []
    },
    {
      "cell_type": "markdown",
      "metadata": {
        "id": "YSsQfGyDNkIZ"
      },
      "source": [
        "ルジャンドル多項式の零点を求めるには、  \n",
        "numpyの中にある関数を使えばよい。"
      ]
    },
    {
      "cell_type": "code",
      "metadata": {
        "id": "o4aHdtoBPAIa"
      },
      "source": [
        "import numpy as np"
      ],
      "execution_count": null,
      "outputs": []
    },
    {
      "cell_type": "code",
      "metadata": {
        "colab": {
          "base_uri": "https://localhost:8080/"
        },
        "id": "zCE5K9__HqAE",
        "outputId": "fc7dc4e7-70af-4783-ca0c-0b7d23a35378"
      },
      "source": [
        "n=6\n",
        "\n",
        "# 零点と重みを計算する\n",
        "xs,ws = np.polynomial.legendre.leggauss(n)\n",
        "\n",
        "print(\"次数\",n);print(\"零点\",xs);print(\"重み\",ws)\n",
        "# s = f(xs[0])*ws[0] + f(xs[1])*ws[1] + ...\n",
        "s = np.dot(f(xs),ws) # numpyのブロードキャストで1行で書ける\n",
        "print(\"数値積分の結果\", s)"
      ],
      "execution_count": 10,
      "outputs": [
        {
          "output_type": "stream",
          "text": [
            "次数 6\n",
            "零点 [-0.93246951 -0.66120939 -0.23861919  0.23861919  0.66120939  0.93246951]\n",
            "重み [0.17132449 0.36076157 0.46791393 0.46791393 0.36076157 0.17132449]\n",
            "数値積分の結果 11.999999999999979\n"
          ],
          "name": "stdout"
        }
      ]
    },
    {
      "cell_type": "code",
      "metadata": {
        "colab": {
          "base_uri": "https://localhost:8080/"
        },
        "id": "YlQeGjLAPGLG",
        "outputId": "5496e738-63be-4bf2-dbc4-0d20c98686c1"
      },
      "source": [
        "for n in range(1,6):\n",
        "    xs,ws = np.polynomial.legendre.leggauss(n)\n",
        "    print(\"n=\",n, \" 積分値 \", np.dot(f(xs),ws))"
      ],
      "execution_count": 11,
      "outputs": [
        {
          "output_type": "stream",
          "text": [
            "n= 1  積分値  2.0\n",
            "n= 2  積分値  6.962962962962962\n",
            "n= 3  積分値  11.680000000000003\n",
            "n= 4  積分値  11.999999999999993\n",
            "n= 5  積分値  12.00000000000001\n"
          ],
          "name": "stdout"
        }
      ]
    },
    {
      "cell_type": "markdown",
      "metadata": {
        "id": "Cyy51Qv8PgEH"
      },
      "source": [
        "次数を下げて$n=4$程度でも、つまりたった4つの積分点で  \n",
        "積分値を高精度に近似できていることが分かる。\n"
      ]
    }
  ]
}