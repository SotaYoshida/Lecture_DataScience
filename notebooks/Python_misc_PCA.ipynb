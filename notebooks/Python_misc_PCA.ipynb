{
  "nbformat": 4,
  "nbformat_minor": 0,
  "metadata": {
    "colab": {
      "name": "Python_misc_PCA.ipynb",
      "provenance": [],
      "collapsed_sections": [],
      "include_colab_link": true
    },
    "kernelspec": {
      "name": "python3",
      "display_name": "Python 3"
    },
    "language_info": {
      "name": "python"
    }
  },
  "cells": [
    {
      "cell_type": "markdown",
      "metadata": {
        "id": "view-in-github",
        "colab_type": "text"
      },
      "source": [
        "<a href=\"https://colab.research.google.com/github/SotaYoshida/Lecture_DataScience/blob/2021/notebooks/Python_misc_PCA.ipynb\" target=\"_parent\"><img src=\"https://colab.research.google.com/assets/colab-badge.svg\" alt=\"Open In Colab\"/></a>"
      ]
    },
    {
      "cell_type": "markdown",
      "metadata": {
        "id": "dG3tCL-_aQHA"
      },
      "source": [
        "# 主成分分析"
      ]
    },
    {
      "cell_type": "markdown",
      "metadata": {
        "id": "bzqUoCdAaRxG"
      },
      "source": [
        "このノートブックでは主成分分析(principal component analysis, PCA)を説明する。  \n",
        "基礎の理解に重点を置くため、scikit-learnなど既存のライブラリにあるPCA関数を利用するだけではなく、  \n",
        "定式化とnumpyを用いた実装を行う。"
      ]
    },
    {
      "cell_type": "code",
      "metadata": {
        "id": "70ilJPZVd6LC"
      },
      "source": [
        "from matplotlib import pyplot as plt\n",
        "import numpy as np"
      ],
      "execution_count": 1,
      "outputs": []
    },
    {
      "cell_type": "markdown",
      "metadata": {
        "id": "WEJasJ_KbKVJ"
      },
      "source": [
        "## 主成分分析とは？"
      ]
    },
    {
      "cell_type": "markdown",
      "metadata": {
        "id": "U6D19ywlbNFz"
      },
      "source": [
        "まず主成分分析とはなんだろうか？  \n",
        "\n",
        "Wikipediaには\n",
        ">相関のある多数の変数から相関のない少数で全体のばらつきを最もよく表す  \n",
        "主成分と呼ばれる変数を合成する多変量解析の一手法\n",
        "\n",
        "とある。\n",
        "\n",
        "具体例を考えてみよう。  \n",
        "ある集団200人の身長($x$)と体重($y$)のデータが下のように  \n",
        "得られているとしよう。\n"
      ]
    },
    {
      "cell_type": "code",
      "metadata": {
        "colab": {
          "base_uri": "https://localhost:8080/",
          "height": 283
        },
        "id": "YZT6a_-cd5lG",
        "outputId": "ce4dfd59-4bc4-427d-c990-fb89f88afc40"
      },
      "source": [
        "mean = [165, 68]\n",
        "mvec = [0,0]\n",
        "cov=np.array([[1,0.8],[0.8,1.0]])\n",
        "np.random.seed(1234)\n",
        "x=[]; y=[]; n=200\n",
        "for i in range(n):\n",
        "    tx,ty = np.random.multivariate_normal(mvec,cov)\n",
        "    x += [ mean[0] + 8*tx]\n",
        "    y += [ mean[1] + 6*ty]\n",
        "x=np.array(x);y=np.array(y)\n",
        "xm = np.mean(x);ym = np.mean(y)\n",
        "xp = np.arange(140,190,1); yp = np.corrcoef(x,y)[0,1] * (xp-xm) + ym\n",
        "\n",
        "fig = plt.figure()\n",
        "plt.xlim(140,190); plt.ylim(40,100)\n",
        "plt.xlabel(\"height [cm]\")\n",
        "plt.ylabel(\"weight [kg]\")\n",
        "plt.scatter(x,y)\n",
        "plt.plot(xp,yp,color=\"red\",linestyle=\"dotted\")\n",
        "plt.show();plt.close()"
      ],
      "execution_count": 2,
      "outputs": [
        {
          "output_type": "display_data",
          "data": {
            "image/png": "[encoded data removed]",
            "text/plain": [
              "<Figure size 432x288 with 1 Axes>"
            ]
          },
          "metadata": {
            "needs_background": "light"
          }
        }
      ]
    },
    {
      "cell_type": "markdown",
      "metadata": {
        "id": "RxtGVOUQeVpB"
      },
      "source": [
        "上では\"何らかの方法で\"データの分布に沿った直線を描いてみた。  \n",
        "\n",
        "この赤色の線を\"体の大きさ\"とでも呼ぶことにすると、  \n",
        "元々は身長(x)と体重(y)の2つの量によってこの集団のデータを表現していたが、  \n",
        "集団に属する個人をこの\"体の大きさ\"という1つの量で  \n",
        "大雑把に指定(あるいは特徴づけ)できそうなことがわかる。\n",
        "\n",
        "主成分分析は**高次元のデータを特徴づける少数の\"軸方向\"を見つけて  \n",
        "その新たな軸に沿った値(主成分)でデータを表現し  \n",
        "データを低次元空間で近似する方法**と言える。\n",
        "\n",
        "\n",
        "人間が視覚的に理解できる情報は、3次元までである。  \n",
        "一方でデータを分析していると、多次元(4~数十など)のデータを扱うことが度々あるが、  \n",
        "主成分分析などを用いて特徴を抽出することで解釈がしやすくなったり、  \n",
        "大量のデータがあったときその冗長性を削減することができる。"
      ]
    },
    {
      "cell_type": "markdown",
      "metadata": {
        "id": "LwJ96CHthWmK"
      },
      "source": [
        "## PCAの定式化\n",
        "\n",
        "\n"
      ]
    },
    {
      "cell_type": "markdown",
      "metadata": {
        "id": "iDqwKCP325Hl"
      },
      "source": [
        "主成分分析の大雑把なモチベーションがわかったところで  \n",
        "上の軸方向/主成分の決め方を定式化しておこう。  \n",
        "\n",
        "主成分を決める方針は主に、[主成分の分散を最大化する方針]と  \n",
        "[情報量削減(主成分軸への距離の二乗和)の最小化]の2つがある。  \n",
        "以下では、前者を採用することにしよう。\n",
        "\n",
        "\n",
        "$p$次元の量を持つデータが$N$個観測されているとする→$\\{ x_{ni}\\} (n=1,...,N, i=1,....p)$  \n",
        "このとき$p$個の各変数について、平均値を$\\bar{x}_i = \\frac{1}{N} \\sum_{n=1}^N x_{ni} $で定義する。\n",
        "\n",
        "このとき、$p$次元の成分それぞれの共分散を行列にもつ共分散行列${\\bf C}$($p\\times p$行列)は  \n",
        "$\n",
        "{\\bf C}  = \\frac{1}{N} \\sum^N_{n=1,N} ({\\bf x}_n - {\\bf \\bar{x}})\\cdot ({\\bf x}_n - {\\bf \\bar{x}})^T\n",
        "$  \n",
        "とかける。  \n",
        "\n",
        "次に、各データを成分にもつ行列\n",
        "$\n",
        "{\\bf X} = \n",
        "\\begin{pmatrix}\n",
        "x_{11} & x_{12} & ... & x_{1p} \\\\\n",
        "x_{21} & x_{22} & ... & x_{2p} \\\\\n",
        "\\vdots & \\vdots &\\ddots & \\vdots \\\\ \n",
        "x_{n1} & x_{n2} & ... & x_{np} \n",
        "\\end{pmatrix}\n",
        "$\n",
        "と  \n",
        "成分が1の$N$次元列ベクトル$1_N$で以下の($N\\times p$)行列を定義する:  \n",
        "$\n",
        "\\tilde{{\\bf X}} = {\\bf X} - 1_N  {\\bf \\bar{x}}^T\n",
        "$\n",
        "\n",
        "これを用いて、もとの共分散行列を書き換えると...\n",
        "$ {\\bf C}  = \\frac{1}{N} \\tilde{{\\bf X}}^T \\tilde{{\\bf X}}$とかける。\n",
        "\n",
        "次にデータ集合をある$p$次元の係数ベクトル${\\bf u}$で$p$次元空間上に射影する:\n",
        "$\n",
        "{\\bf s}_n = {\\bf u}^T \\cdot ( {\\bf x}_n - {\\bf \\bar{x}})\n",
        "$  \n",
        "これを全データ点($n=1,2,...,N$)に対して行って$s_n$を縦に並べると$\n",
        "{\\bf S} = \\tilde{{\\bf X}} {\\bf u}\n",
        "$と書くことができる。\n",
        "\n",
        "\n",
        "\n",
        "このとき、適当な係数ベクトル${\\bf u}$のもとでの射影方向の分散は  \n",
        "$\\frac{1}{N}\\sum^N_{i=1} |{\\bf s}_i|^2 = \\frac{1}{N} ({\\bf u}^T\\tilde{{\\bf X}}^T) (\\tilde{{\\bf X}}{\\bf u}) = {\\bf u}^T {\\bf C} {\\bf u}\n",
        "$\n",
        "となる。\n",
        "\n",
        "今考えたい問題は、この分散を最大化するような射影${\\bf u}$を見つけることと言い換えられる。\n",
        "\n",
        "加えて、以下ではそのような射影として${\\bf u}^T \\cdot {\\bf u}=1$という条件を課すことにする。  \n",
        "($p$次元空間での正規直交基底間の変換を探すことに対応)\n",
        "\n",
        "そのためには$J({\\bf u}) = {\\bf u}^T {\\bf C} {\\bf u} - \\lambda ({\\bf u}^T\\cdot {\\bf u}-1)$の最大化を考えれば良い(ラグランジュ未定乗数法)  \n",
        "$\\frac{\\partial J}{\\partial {\\bf u}} = 2 {\\bf C} {\\bf u} - 2\\lambda{\\bf u}=0 $から、今解きたい最適化問題は固有値問題:  \n",
        "${\\bf C} {\\bf u}  = \\lambda{\\bf u}$に帰着されることがわかる。\n",
        "\n",
        "\n",
        "この表式と上の分散の式から\n",
        "$\\frac{1}{N}\\sum^N_{i=1} |{\\bf s}_i|^2 = \\lambda$となり  \n",
        "**未定乗数$\\lambda$がいま最大化したい分散に対応している**ことがわかる。 \n",
        "\n",
        "最大固有値$\\lambda_1$に属する固有ベクトルを第1主成分ベクトルと呼ぶ。  \n",
        "第2主成分からは同様にして、第1主成分ベクトルと直行する固有ベクトルを考えれば  \n",
        "分散を大きくする軸を順番に決定することができる。\n",
        "\n",
        "\n",
        "また、$\\frac{\\lambda_i}{\\sum^p_i \\lambda_i}$を$i$番目の寄与率と呼び  \n",
        "各主成分が元のデータに含まれる特徴をどの程度表現しているか  \n",
        "あるいは幾つ主成分を保持しておけば元のデータに含まれる特徴を十分に表現(近似)できるのかの指標として用いられる。"
      ]
    },
    {
      "cell_type": "markdown",
      "metadata": {
        "id": "H3O1n9lz4XUZ"
      },
      "source": [
        "## sklearnライブラリを使う方法"
      ]
    },
    {
      "cell_type": "markdown",
      "metadata": {
        "id": "nzN4jD9e4dAO"
      },
      "source": [
        "irisデータを使ってsklearnで主成分分析をやってみよう"
      ]
    },
    {
      "cell_type": "code",
      "metadata": {
        "id": "Zv70QfNg4aRG"
      },
      "source": [
        "from sklearn import datasets\n",
        "dataset = datasets.load_iris()\n",
        " \n",
        "target_names = dataset.target_names\n",
        "targets = dataset.target \n",
        "feature_names = dataset.feature_names\n",
        "features = dataset.data"
      ],
      "execution_count": 3,
      "outputs": []
    },
    {
      "cell_type": "markdown",
      "metadata": {
        "id": "czUhoCKO5OVh"
      },
      "source": [
        "このデータには、3種類('setosa,versicolor,virginica)のアヤメについて  \n",
        "がく片の長さ・幅と花弁の長さ・幅のデータが入っている。"
      ]
    },
    {
      "cell_type": "code",
      "metadata": {
        "colab": {
          "base_uri": "https://localhost:8080/"
        },
        "id": "mm9pfNPO5AAF",
        "outputId": "fea74b6f-38d5-4454-e6c2-7636921675df"
      },
      "source": [
        "print(target_names)"
      ],
      "execution_count": 4,
      "outputs": [
        {
          "output_type": "stream",
          "name": "stdout",
          "text": [
            "['setosa' 'versicolor' 'virginica']\n"
          ]
        }
      ]
    },
    {
      "cell_type": "code",
      "metadata": {
        "colab": {
          "base_uri": "https://localhost:8080/",
          "height": 206
        },
        "id": "bB57ea0d5dDH",
        "outputId": "38f05195-5869-4f7f-ae6d-9fc3ec78b600"
      },
      "source": [
        "import pandas as pd\n",
        "from pandas import DataFrame\n",
        "df = DataFrame(features, columns = feature_names)\n",
        "df['target'] = target_names[targets]\n",
        "df.head()"
      ],
      "execution_count": 5,
      "outputs": [
        {
          "output_type": "execute_result",
          "data": {
            "text/html": [
              "\n",
              "  <div id=\"df-01684064-ff77-45de-90a5-4886e6b33b67\">\n",
              "    <div class=\"colab-df-container\">\n",
              "      <div>\n",
              "<style scoped>\n",
              "    .dataframe tbody tr th:only-of-type {\n",
              "        vertical-align: middle;\n",
              "    }\n",
              "\n",
              "    .dataframe tbody tr th {\n",
              "        vertical-align: top;\n",
              "    }\n",
              "\n",
              "    .dataframe thead th {\n",
              "        text-align: right;\n",
              "    }\n",
              "</style>\n",
              "<table border=\"1\" class=\"dataframe\">\n",
              "  <thead>\n",
              "    <tr style=\"text-align: right;\">\n",
              "      <th></th>\n",
              "      <th>sepal length (cm)</th>\n",
              "      <th>sepal width (cm)</th>\n",
              "      <th>petal length (cm)</th>\n",
              "      <th>petal width (cm)</th>\n",
              "      <th>target</th>\n",
              "    </tr>\n",
              "  </thead>\n",
              "  <tbody>\n",
              "    <tr>\n",
              "      <th>0</th>\n",
              "      <td>5.1</td>\n",
              "      <td>3.5</td>\n",
              "      <td>1.4</td>\n",
              "      <td>0.2</td>\n",
              "      <td>setosa</td>\n",
              "    </tr>\n",
              "    <tr>\n",
              "      <th>1</th>\n",
              "      <td>4.9</td>\n",
              "      <td>3.0</td>\n",
              "      <td>1.4</td>\n",
              "      <td>0.2</td>\n",
              "      <td>setosa</td>\n",
              "    </tr>\n",
              "    <tr>\n",
              "      <th>2</th>\n",
              "      <td>4.7</td>\n",
              "      <td>3.2</td>\n",
              "      <td>1.3</td>\n",
              "      <td>0.2</td>\n",
              "      <td>setosa</td>\n",
              "    </tr>\n",
              "    <tr>\n",
              "      <th>3</th>\n",
              "      <td>4.6</td>\n",
              "      <td>3.1</td>\n",
              "      <td>1.5</td>\n",
              "      <td>0.2</td>\n",
              "      <td>setosa</td>\n",
              "    </tr>\n",
              "    <tr>\n",
              "      <th>4</th>\n",
              "      <td>5.0</td>\n",
              "      <td>3.6</td>\n",
              "      <td>1.4</td>\n",
              "      <td>0.2</td>\n",
              "      <td>setosa</td>\n",
              "    </tr>\n",
              "  </tbody>\n",
              "</table>\n",
              "</div>\n",
              "      <button class=\"colab-df-convert\" onclick=\"convertToInteractive('df-01684064-ff77-45de-90a5-4886e6b33b67')\"\n",
              "              title=\"Convert this dataframe to an interactive table.\"\n",
              "              style=\"display:none;\">\n",
              "        \n",
              "  <svg xmlns=\"http://www.w3.org/2000/svg\" height=\"24px\"viewBox=\"0 0 24 24\"\n",
              "       width=\"24px\">\n",
              "    <path d=\"M0 0h24v24H0V0z\" fill=\"none\"/>\n",
              "    <path d=\"M18.56 5.44l.94 2.06.94-2.06 2.06-.94-2.06-.94-.94-2.06-.94 2.06-2.06.94zm-11 1L8.5 8.5l.94-2.06 2.06-.94-2.06-.94L8.5 2.5l-.94 2.06-2.06.94zm10 10l.94 2.06.94-2.06 2.06-.94-2.06-.94-.94-2.06-.94 2.06-2.06.94z\"/><path d=\"M17.41 7.96l-1.37-1.37c-.4-.4-.92-.59-1.43-.59-.52 0-1.04.2-1.43.59L10.3 9.45l-7.72 7.72c-.78.78-.78 2.05 0 2.83L4 21.41c.39.39.9.59 1.41.59.51 0 1.02-.2 1.41-.59l7.78-7.78 2.81-2.81c.8-.78.8-2.07 0-2.86zM5.41 20L4 18.59l7.72-7.72 1.47 1.35L5.41 20z\"/>\n",
              "  </svg>\n",
              "      </button>\n",
              "      \n",
              "  <style>\n",
              "    .colab-df-container {\n",
              "      display:flex;\n",
              "      flex-wrap:wrap;\n",
              "      gap: 12px;\n",
              "    }\n",
              "\n",
              "    .colab-df-convert {\n",
              "      background-color: #E8F0FE;\n",
              "      border: none;\n",
              "      border-radius: 50%;\n",
              "      cursor: pointer;\n",
              "      display: none;\n",
              "      fill: #1967D2;\n",
              "      height: 32px;\n",
              "      padding: 0 0 0 0;\n",
              "      width: 32px;\n",
              "    }\n",
              "\n",
              "    .colab-df-convert:hover {\n",
              "      background-color: #E2EBFA;\n",
              "      box-shadow: 0px 1px 2px rgba(60, 64, 67, 0.3), 0px 1px 3px 1px rgba(60, 64, 67, 0.15);\n",
              "      fill: #174EA6;\n",
              "    }\n",
              "\n",
              "    [theme=dark] .colab-df-convert {\n",
              "      background-color: #3B4455;\n",
              "      fill: #D2E3FC;\n",
              "    }\n",
              "\n",
              "    [theme=dark] .colab-df-convert:hover {\n",
              "      background-color: #434B5C;\n",
              "      box-shadow: 0px 1px 3px 1px rgba(0, 0, 0, 0.15);\n",
              "      filter: drop-shadow(0px 1px 2px rgba(0, 0, 0, 0.3));\n",
              "      fill: #FFFFFF;\n",
              "    }\n",
              "  </style>\n",
              "\n",
              "      <script>\n",
              "        const buttonEl =\n",
              "          document.querySelector('#df-01684064-ff77-45de-90a5-4886e6b33b67 button.colab-df-convert');\n",
              "        buttonEl.style.display =\n",
              "          google.colab.kernel.accessAllowed ? 'block' : 'none';\n",
              "\n",
              "        async function convertToInteractive(key) {\n",
              "          const element = document.querySelector('#df-01684064-ff77-45de-90a5-4886e6b33b67');\n",
              "          const dataTable =\n",
              "            await google.colab.kernel.invokeFunction('convertToInteractive',\n",
              "                                                     [key], {});\n",
              "          if (!dataTable) return;\n",
              "\n",
              "          const docLinkHtml = 'Like what you see? Visit the ' +\n",
              "            '<a target=\"_blank\" href=https://colab.research.google.com/notebooks/data_table.ipynb>data table notebook</a>'\n",
              "            + ' to learn more about interactive tables.';\n",
              "          element.innerHTML = '';\n",
              "          dataTable['output_type'] = 'display_data';\n",
              "          await google.colab.output.renderOutput(dataTable, element);\n",
              "          const docLink = document.createElement('div');\n",
              "          docLink.innerHTML = docLinkHtml;\n",
              "          element.appendChild(docLink);\n",
              "        }\n",
              "      </script>\n",
              "    </div>\n",
              "  </div>\n",
              "  "
            ],
            "text/plain": [
              "   sepal length (cm)  sepal width (cm)  ...  petal width (cm)  target\n",
              "0                5.1               3.5  ...               0.2  setosa\n",
              "1                4.9               3.0  ...               0.2  setosa\n",
              "2                4.7               3.2  ...               0.2  setosa\n",
              "3                4.6               3.1  ...               0.2  setosa\n",
              "4                5.0               3.6  ...               0.2  setosa\n",
              "\n",
              "[5 rows x 5 columns]"
            ]
          },
          "metadata": {},
          "execution_count": 5
        }
      ]
    },
    {
      "cell_type": "markdown",
      "metadata": {
        "id": "7PGbM_BA5sdr"
      },
      "source": [
        "\n",
        "- がくの長さ/sepal length (cm)\n",
        "- がくの幅/sepal width (cm)\n",
        "- 花弁の長さ/petal length (cm)\n",
        "- 花弁の幅/petal width (cm)\n",
        "\n",
        "の4次元のデータで、可視化して理解することは難しい。  \n",
        "そこで、このデータを3次元/2次元に落とし込んで理解することを目指す。"
      ]
    },
    {
      "cell_type": "code",
      "metadata": {
        "colab": {
          "base_uri": "https://localhost:8080/",
          "height": 654
        },
        "id": "knCm13FX6b3H",
        "outputId": "5f95b71a-b7ff-4eed-df6b-8fa9a98834d1"
      },
      "source": [
        "from sklearn.decomposition import PCA\n",
        "import numpy as np\n",
        "from mpl_toolkits.mplot3d import Axes3D\n",
        "from matplotlib import pyplot as plt\n",
        "\n",
        "# PCA関数の使用 (3次元)\n",
        "pca = PCA(n_components=3)\n",
        "pca.fit(features)\n",
        "res = pca.fit_transform(features)\n",
        "print(\"固有値\",pca.explained_variance_)\n",
        "print(\"固有ベクトル\",pca.components_)\n",
        "#描画\n",
        "fig = plt.figure(figsize = (4, 4))\n",
        "ax = Axes3D(fig) \n",
        "for label in np.unique(targets):\n",
        "    p = ax.scatter(res[targets == label, 0],\n",
        "                   res[targets == label, 1],\n",
        "                   res[targets == label, 2],\n",
        "                   marker = 'o', s = 20)\n",
        "plt.show()\n",
        "plt.close()\n",
        "\n",
        "# PCA関数の使用 (2次元)\n",
        "pca = PCA(n_components=2)\n",
        "pca.fit(features)\n",
        "res = pca.fit_transform(features)\n",
        "\n",
        "#描画\n",
        "fig = plt.figure(figsize = (4, 4))\n",
        "plt.xlabel(\"PC1\"); plt.ylabel(\"PC2\")\n",
        "for label in np.unique(targets):\n",
        "    plt.scatter(res[targets == label, 0],res[targets == label, 1],label=target_names[label])\n",
        "plt.legend()\n",
        "plt.show()\n",
        "plt.close()"
      ],
      "execution_count": 6,
      "outputs": [
        {
          "output_type": "stream",
          "name": "stdout",
          "text": [
            "固有値 [4.22824171 0.24267075 0.0782095 ]\n",
            "固有ベクトル [[ 0.36138659 -0.08452251  0.85667061  0.3582892 ]\n",
            " [ 0.65658877  0.73016143 -0.17337266 -0.07548102]\n",
            " [-0.58202985  0.59791083  0.07623608  0.54583143]]\n"
          ]
        },
        {
          "output_type": "display_data",
          "data": {
            "image/png": "[encoded data removed]",
            "text/plain": [
              "<Figure size 288x288 with 1 Axes>"
            ]
          },
          "metadata": {
            "needs_background": "light"
          }
        },
        {
          "output_type": "display_data",
          "data": {
            "image/png": "[encoded data removed]",
            "text/plain": [
              "<Figure size 288x288 with 1 Axes>"
            ]
          },
          "metadata": {
            "needs_background": "light"
          }
        }
      ]
    },
    {
      "cell_type": "markdown",
      "metadata": {
        "id": "3O_gzsZv0ARL"
      },
      "source": [
        "このように、４次元のデータを低次元に射影することで  \n",
        "3種類のアヤメの持つ特徴を可視化できるようになる。"
      ]
    },
    {
      "cell_type": "markdown",
      "metadata": {
        "id": "0Kfac71jDg_m"
      },
      "source": [
        "## 実装してみよう\n",
        "\n",
        "sklearnなどのライブラリは非常に便利だが  \n",
        "中で行われている計算がブラックボックスのため  \n",
        "「本当に自身が意図した計算をやっているのか」が分かりづらい。\n",
        "\n",
        "ライブラリを「使えれば良い」と「中身を分かった上で使う」の間には  \n",
        "* 問題が起きたときの対処能力\n",
        "* 自身で新規な手法を開発して実装する能力\n",
        "\n",
        "などなど、様々な面で決定的な差が生じる。\n",
        "\n",
        "\n",
        "以下では、必要な計算をなるべくブラックボックスにしないで  \n",
        "PCAを実装してみよう。"
      ]
    },
    {
      "cell_type": "code",
      "metadata": {
        "colab": {
          "base_uri": "https://localhost:8080/",
          "height": 206
        },
        "id": "XzrwCPxiENxC",
        "outputId": "547606c2-6165-4379-985e-6ebd9a1f3d17"
      },
      "source": [
        "#上のコードと同様 irisデータを取得\n",
        "import numpy as np\n",
        "import matplotlib.pyplot as plt\n",
        "import pandas as pd\n",
        "from pandas import DataFrame\n",
        "from sklearn import datasets\n",
        "dataset = datasets.load_iris()\n",
        " \n",
        "target_names = dataset.target_names\n",
        "targets = dataset.target \n",
        "feature_names = dataset.feature_names\n",
        "features = dataset.data\n",
        "\n",
        "df = DataFrame(features, columns = feature_names) \n",
        "df.shape\n",
        "df.head()"
      ],
      "execution_count": 7,
      "outputs": [
        {
          "output_type": "execute_result",
          "data": {
            "text/html": [
              "\n",
              "  <div id=\"df-34a24533-7fb8-4995-98cb-f31db7418278\">\n",
              "    <div class=\"colab-df-container\">\n",
              "      <div>\n",
              "<style scoped>\n",
              "    .dataframe tbody tr th:only-of-type {\n",
              "        vertical-align: middle;\n",
              "    }\n",
              "\n",
              "    .dataframe tbody tr th {\n",
              "        vertical-align: top;\n",
              "    }\n",
              "\n",
              "    .dataframe thead th {\n",
              "        text-align: right;\n",
              "    }\n",
              "</style>\n",
              "<table border=\"1\" class=\"dataframe\">\n",
              "  <thead>\n",
              "    <tr style=\"text-align: right;\">\n",
              "      <th></th>\n",
              "      <th>sepal length (cm)</th>\n",
              "      <th>sepal width (cm)</th>\n",
              "      <th>petal length (cm)</th>\n",
              "      <th>petal width (cm)</th>\n",
              "    </tr>\n",
              "  </thead>\n",
              "  <tbody>\n",
              "    <tr>\n",
              "      <th>0</th>\n",
              "      <td>5.1</td>\n",
              "      <td>3.5</td>\n",
              "      <td>1.4</td>\n",
              "      <td>0.2</td>\n",
              "    </tr>\n",
              "    <tr>\n",
              "      <th>1</th>\n",
              "      <td>4.9</td>\n",
              "      <td>3.0</td>\n",
              "      <td>1.4</td>\n",
              "      <td>0.2</td>\n",
              "    </tr>\n",
              "    <tr>\n",
              "      <th>2</th>\n",
              "      <td>4.7</td>\n",
              "      <td>3.2</td>\n",
              "      <td>1.3</td>\n",
              "      <td>0.2</td>\n",
              "    </tr>\n",
              "    <tr>\n",
              "      <th>3</th>\n",
              "      <td>4.6</td>\n",
              "      <td>3.1</td>\n",
              "      <td>1.5</td>\n",
              "      <td>0.2</td>\n",
              "    </tr>\n",
              "    <tr>\n",
              "      <th>4</th>\n",
              "      <td>5.0</td>\n",
              "      <td>3.6</td>\n",
              "      <td>1.4</td>\n",
              "      <td>0.2</td>\n",
              "    </tr>\n",
              "  </tbody>\n",
              "</table>\n",
              "</div>\n",
              "      <button class=\"colab-df-convert\" onclick=\"convertToInteractive('df-34a24533-7fb8-4995-98cb-f31db7418278')\"\n",
              "              title=\"Convert this dataframe to an interactive table.\"\n",
              "              style=\"display:none;\">\n",
              "        \n",
              "  <svg xmlns=\"http://www.w3.org/2000/svg\" height=\"24px\"viewBox=\"0 0 24 24\"\n",
              "       width=\"24px\">\n",
              "    <path d=\"M0 0h24v24H0V0z\" fill=\"none\"/>\n",
              "    <path d=\"M18.56 5.44l.94 2.06.94-2.06 2.06-.94-2.06-.94-.94-2.06-.94 2.06-2.06.94zm-11 1L8.5 8.5l.94-2.06 2.06-.94-2.06-.94L8.5 2.5l-.94 2.06-2.06.94zm10 10l.94 2.06.94-2.06 2.06-.94-2.06-.94-.94-2.06-.94 2.06-2.06.94z\"/><path d=\"M17.41 7.96l-1.37-1.37c-.4-.4-.92-.59-1.43-.59-.52 0-1.04.2-1.43.59L10.3 9.45l-7.72 7.72c-.78.78-.78 2.05 0 2.83L4 21.41c.39.39.9.59 1.41.59.51 0 1.02-.2 1.41-.59l7.78-7.78 2.81-2.81c.8-.78.8-2.07 0-2.86zM5.41 20L4 18.59l7.72-7.72 1.47 1.35L5.41 20z\"/>\n",
              "  </svg>\n",
              "      </button>\n",
              "      \n",
              "  <style>\n",
              "    .colab-df-container {\n",
              "      display:flex;\n",
              "      flex-wrap:wrap;\n",
              "      gap: 12px;\n",
              "    }\n",
              "\n",
              "    .colab-df-convert {\n",
              "      background-color: #E8F0FE;\n",
              "      border: none;\n",
              "      border-radius: 50%;\n",
              "      cursor: pointer;\n",
              "      display: none;\n",
              "      fill: #1967D2;\n",
              "      height: 32px;\n",
              "      padding: 0 0 0 0;\n",
              "      width: 32px;\n",
              "    }\n",
              "\n",
              "    .colab-df-convert:hover {\n",
              "      background-color: #E2EBFA;\n",
              "      box-shadow: 0px 1px 2px rgba(60, 64, 67, 0.3), 0px 1px 3px 1px rgba(60, 64, 67, 0.15);\n",
              "      fill: #174EA6;\n",
              "    }\n",
              "\n",
              "    [theme=dark] .colab-df-convert {\n",
              "      background-color: #3B4455;\n",
              "      fill: #D2E3FC;\n",
              "    }\n",
              "\n",
              "    [theme=dark] .colab-df-convert:hover {\n",
              "      background-color: #434B5C;\n",
              "      box-shadow: 0px 1px 3px 1px rgba(0, 0, 0, 0.15);\n",
              "      filter: drop-shadow(0px 1px 2px rgba(0, 0, 0, 0.3));\n",
              "      fill: #FFFFFF;\n",
              "    }\n",
              "  </style>\n",
              "\n",
              "      <script>\n",
              "        const buttonEl =\n",
              "          document.querySelector('#df-34a24533-7fb8-4995-98cb-f31db7418278 button.colab-df-convert');\n",
              "        buttonEl.style.display =\n",
              "          google.colab.kernel.accessAllowed ? 'block' : 'none';\n",
              "\n",
              "        async function convertToInteractive(key) {\n",
              "          const element = document.querySelector('#df-34a24533-7fb8-4995-98cb-f31db7418278');\n",
              "          const dataTable =\n",
              "            await google.colab.kernel.invokeFunction('convertToInteractive',\n",
              "                                                     [key], {});\n",
              "          if (!dataTable) return;\n",
              "\n",
              "          const docLinkHtml = 'Like what you see? Visit the ' +\n",
              "            '<a target=\"_blank\" href=https://colab.research.google.com/notebooks/data_table.ipynb>data table notebook</a>'\n",
              "            + ' to learn more about interactive tables.';\n",
              "          element.innerHTML = '';\n",
              "          dataTable['output_type'] = 'display_data';\n",
              "          await google.colab.output.renderOutput(dataTable, element);\n",
              "          const docLink = document.createElement('div');\n",
              "          docLink.innerHTML = docLinkHtml;\n",
              "          element.appendChild(docLink);\n",
              "        }\n",
              "      </script>\n",
              "    </div>\n",
              "  </div>\n",
              "  "
            ],
            "text/plain": [
              "   sepal length (cm)  sepal width (cm)  petal length (cm)  petal width (cm)\n",
              "0                5.1               3.5                1.4               0.2\n",
              "1                4.9               3.0                1.4               0.2\n",
              "2                4.7               3.2                1.3               0.2\n",
              "3                4.6               3.1                1.5               0.2\n",
              "4                5.0               3.6                1.4               0.2"
            ]
          },
          "metadata": {},
          "execution_count": 7
        }
      ]
    },
    {
      "cell_type": "markdown",
      "metadata": {
        "id": "yvMc5aRnEzW9"
      },
      "source": [
        "今のデータは、上の定式化におけるN=150, p =4の場合に相当する事がわかる。"
      ]
    },
    {
      "cell_type": "code",
      "metadata": {
        "id": "bL_YdesrEh_Z"
      },
      "source": [
        "N,p=df.shape\n",
        "#データ行列の定義\n",
        "X = df.values \n",
        "\n",
        "#p=1,2,3,4 各列の平均ベクトル(p×1行列)を定義\n",
        "mv = np.array([ np.mean(X[:,i]) for i in range(p) ]).reshape(p,1) \n",
        "\n",
        "#共分散行列Cの計算\n",
        "C = np.zeros((p,p)) # p×pのゼロ行列を作成\n",
        "for i in range(N):\n",
        "    d = X[i,:].reshape(p,1) - mv \n",
        "    C += np.dot(d,d.T) / N "
      ],
      "execution_count": 8,
      "outputs": []
    },
    {
      "cell_type": "markdown",
      "metadata": {
        "id": "HuxOkOthHxFz"
      },
      "source": [
        "行列の固有値を求める部分の詳しい説明は、それだけでノートブックが複数必要なので  \n",
        "Numpyの中にある固有値・固有ベクトルを計算する関数```np.linalg.eig```を用いる。"
      ]
    },
    {
      "cell_type": "code",
      "metadata": {
        "colab": {
          "base_uri": "https://localhost:8080/"
        },
        "id": "QqPxlliMIBYR",
        "outputId": "6dabab37-e2b2-430d-bac4-8e5236d591de"
      },
      "source": [
        "vals,vecs = np.linalg.eig(C)\n",
        "print(\"固有値\",vals)\n",
        "print(\"固有ベクトル\",vecs.T) #固有ベクトルは縦に並んでいることに注意"
      ],
      "execution_count": 9,
      "outputs": [
        {
          "output_type": "stream",
          "name": "stdout",
          "text": [
            "固有値 [4.20005343 0.24105294 0.0776881  0.02367619]\n",
            "固有ベクトル [[ 0.36138659 -0.08452251  0.85667061  0.3582892 ]\n",
            " [-0.65658877 -0.73016143  0.17337266  0.07548102]\n",
            " [-0.58202985  0.59791083  0.07623608  0.54583143]\n",
            " [ 0.31548719 -0.3197231  -0.47983899  0.75365743]]\n"
          ]
        }
      ]
    },
    {
      "cell_type": "markdown",
      "metadata": {
        "id": "MxWvorgrOokz"
      },
      "source": [
        "sklearnで計算された```explained_variance_```(固有値に対応)=```4.22824171, 0.24267075, 0.0782095```と  \n",
        "わずかに値が異なっている。\n",
        "\n",
        "実はsklearnでは不偏分散が使われているため、"
      ]
    },
    {
      "cell_type": "code",
      "metadata": {
        "colab": {
          "base_uri": "https://localhost:8080/"
        },
        "id": "Xi7ViJPcI0Ub",
        "outputId": "f725627e-41a2-4484-a772-cde66ab75df9"
      },
      "source": [
        "#共分散行列Cの計算 (不偏分散, sklearnと整合)\n",
        "C = np.zeros((p,p)) # p×pのゼロ行列を作成\n",
        "for i in range(N):\n",
        "    d = X[i,:].reshape(p,1) - mv \n",
        "    C += np.dot(d,d.T) / (N-1) #分母 N → N-1\n",
        "vals,vecs = np.linalg.eig(C)\n",
        "print(vals)\n",
        "print(vecs.T)"
      ],
      "execution_count": 10,
      "outputs": [
        {
          "output_type": "stream",
          "name": "stdout",
          "text": [
            "[4.22824171 0.24267075 0.0782095  0.02383509]\n",
            "[[ 0.36138659 -0.08452251  0.85667061  0.3582892 ]\n",
            " [-0.65658877 -0.73016143  0.17337266  0.07548102]\n",
            " [-0.58202985  0.59791083  0.07623608  0.54583143]\n",
            " [ 0.31548719 -0.3197231  -0.47983899  0.75365743]]\n"
          ]
        }
      ]
    },
    {
      "cell_type": "markdown",
      "metadata": {
        "id": "3jM5vMf-PMTg"
      },
      "source": [
        "とすると、両者を整合させることができる。  \n",
        "以降では、上の定式化を修正して不偏分散を用いることにしよう。\n",
        "\n",
        "このように、ライブラリのソースコードを読むか自身で実装した関数と比較することで初めて  \n",
        "「sklearnでは不偏分散が使われているんだな」ということが分かったりする。  \n",
        "\n",
        "細かな実装が式と整合しているかどうかを確かめるのは重要で  \n",
        "これを怠ると、再現性が損なわれたりバグの温床になる。  \n",
        "\n",
        "余談:  \n",
        "世の中でプログラムを書く人が全員「動けばいいや」の考えだと  \n",
        "それがいつかサービスやシステムを通して社会(や自分自身)に大きな不利益をもたらすかもしれない。  \n",
        "(たとえば自動運転の車による事故などを想像してみよう)"
      ]
    },
    {
      "cell_type": "markdown",
      "metadata": {
        "id": "sCnY12i_I0oo"
      },
      "source": [
        "各データに対する第1主成分軸に沿った\"得点\"は、  \n",
        "最大固有値に対応する固有ベクトル```vecs[:,0]```が  \n",
        "射影になっていることを思い出すと、内積を取ればよい。  \n",
        "```vecs[0]```とすると0番目の行ベクトルが取られて誤りになるので注意!\n",
        "\n",
        "各点について第1主成分得点を計算してリストに詰めておこう"
      ]
    },
    {
      "cell_type": "code",
      "metadata": {
        "id": "s87q-rYSI5Pe"
      },
      "source": [
        "PC1s = [ ]\n",
        "for i in range(N):\n",
        "    x = X[i,:].reshape(p,1) - mv \n",
        "    u = vecs[:,0].reshape(p,1)\n",
        "    PC1 = np.dot(u.T,x)\n",
        "    PC1s += [PC1]\n",
        "    #print(\"i\",i, \"PC1\",PC1)"
      ],
      "execution_count": 11,
      "outputs": []
    },
    {
      "cell_type": "markdown",
      "metadata": {
        "id": "Ahhgln0nJWyC"
      },
      "source": [
        "同様にして"
      ]
    },
    {
      "cell_type": "code",
      "metadata": {
        "id": "39Of18TJJXuy"
      },
      "source": [
        "PC2s = [ ] \n",
        "for i in range(N):\n",
        "    x = X[i,:].reshape(p,1) - mv \n",
        "    u = vecs[:,1].reshape(p,1)\n",
        "    PC2 = np.dot(u.T,x)\n",
        "    PC2s += [ PC2 ]"
      ],
      "execution_count": 12,
      "outputs": []
    },
    {
      "cell_type": "markdown",
      "metadata": {
        "id": "tDgcr88IU8gQ"
      },
      "source": [
        "プロットしてみよう"
      ]
    },
    {
      "cell_type": "code",
      "metadata": {
        "colab": {
          "base_uri": "https://localhost:8080/",
          "height": 279
        },
        "id": "uel1NAySJlIA",
        "outputId": "36c11e0e-0709-49e3-9b59-c86ec0f82803"
      },
      "source": [
        "cols = [\"blue\",\"orange\",\"green\"]\n",
        "\n",
        "fig = plt.figure(figsize = (4,4))\n",
        "plt.xlabel(\"PC1\"); plt.ylabel(\"PC2\")\n",
        "for i in range(N):\n",
        "    x = PC1s[i]\n",
        "    y = PC2s[i]\n",
        "    plt.scatter(x,y,color=cols[targets[i]],alpha=0.4)\n",
        "plt.show()\n",
        "plt.close()"
      ],
      "execution_count": 13,
      "outputs": [
        {
          "output_type": "display_data",
          "data": {
            "image/png": "[encoded data removed]",
            "text/plain": [
              "<Figure size 288x288 with 1 Axes>"
            ]
          },
          "metadata": {
            "needs_background": "light"
          }
        }
      ]
    },
    {
      "cell_type": "markdown",
      "metadata": {
        "id": "yFZRJdJIVDHD"
      },
      "source": [
        "sklearnの出力と上下がひっくり返っている。  \n",
        "yにマイナスをかけて向きをあわせてみると..."
      ]
    },
    {
      "cell_type": "code",
      "metadata": {
        "colab": {
          "base_uri": "https://localhost:8080/",
          "height": 283
        },
        "id": "EpFUgJ2tVUVP",
        "outputId": "c85ae172-7208-492f-fb71-bdb828a4f06f"
      },
      "source": [
        "fig = plt.figure(figsize = (4, 4))\n",
        "plt.xlabel(\"PC1\"); plt.ylabel(\"PC2\")\n",
        "for i in range(N):\n",
        "    x = PC1s[i]\n",
        "    y = PC2s[i]\n",
        "    plt.scatter(x,-y,color=cols[targets[i]],alpha=0.4)\n",
        "plt.show()\n",
        "plt.close()"
      ],
      "execution_count": 15,
      "outputs": [
        {
          "output_type": "display_data",
          "data": {
            "image/png": "[encoded data removed]",
            "text/plain": [
              "<Figure size 288x288 with 1 Axes>"
            ]
          },
          "metadata": {
            "needs_background": "light"
          }
        }
      ]
    },
    {
      "cell_type": "markdown",
      "metadata": {
        "id": "ZLPdJtjsV6Tw"
      },
      "source": [
        "sklearnと同じ結果を与える自作コードを作ることが出来ました。"
      ]
    },
    {
      "cell_type": "markdown",
      "metadata": {
        "id": "snHoZ1M0VbX0"
      },
      "source": [
        "上の符号反転について:\n",
        "\n",
        "第2主成分に対応する固有ベクトルは、sklearnと自前関数で得られた値で符号が異なっている。  \n",
        "今のように、分散を大きくする軸を見つける場合、  \n",
        "当然軸の反転(固有ベクトル全体の符号)の自由度が残されている。    \n",
        "実装によって符号が異なるのは、固有値問題を解く際に使用されているソルバー\n",
        "におけるconventionの違いなどに由来している。"
      ]
    },
    {
      "cell_type": "markdown",
      "metadata": {
        "id": "Oyz3uBo1Pa56"
      },
      "source": [
        "# $\\clubsuit$ オートエンコーダ(自己符号化器)\n",
        "\n",
        "\n"
      ]
    },
    {
      "cell_type": "markdown",
      "metadata": {
        "id": "wlQDrQiuYVi2"
      },
      "source": [
        "編集予定"
      ]
    },
    {
      "cell_type": "markdown",
      "metadata": {
        "id": "LYda0m0PPd_4"
      },
      "source": [
        "#LICENSE\n",
        "\n",
        "\n",
        "Copyright (C) 2021 Sota Yoshida\n",
        "\n",
        "[ライセンス:クリエイティブ・コモンズ 4.0 表示 (CC-BY 4.0)](https://creativecommons.org/licenses/by/4.0/deed.ja)"
      ]
    }
  ]
}