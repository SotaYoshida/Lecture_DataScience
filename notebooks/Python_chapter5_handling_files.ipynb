{
  "nbformat": 4,
  "nbformat_minor": 0,
  "metadata": {
    "colab": {
      "name": "Python_chapter5_handling_files.ipynb",
      "provenance": [],
      "collapsed_sections": [],
      "toc_visible": true,
      "include_colab_link": true
    },
    "kernelspec": {
      "name": "python3",
      "display_name": "Python 3"
    }
  },
  "cells": [
    {
      "cell_type": "markdown",
      "metadata": {
        "id": "view-in-github",
        "colab_type": "text"
      },
      "source": [
        "<a href=\"https://colab.research.google.com/github/SotaYoshida/Lecture_DataScience/tree/2021/notebooks/Python_chapter5_handling_files.ipynb\" target=\"_parent\"><img src=\"https://colab.research.google.com/assets/colab-badge.svg\" alt=\"Open In Colab\"/></a>"
      ]
    },
    {
      "cell_type": "markdown",
      "metadata": {
        "id": "JXf9XKfop6wz"
      },
      "source": [
        "# ファイル操作\n",
        "\n",
        "[この章の目的]\n",
        "text,csvやxlsx形式のデータをプログラムでサクッと扱えるようになる。"
      ]
    },
    {
      "cell_type": "markdown",
      "metadata": {
        "id": "LfaRUw0tp8wv"
      },
      "source": [
        "この章では、テキストファイルやcsvファイル(excelファイル)を  \n",
        "Pythonで操作する簡単な方法を学習します。  \n",
        "\n",
        "これまでの章では、データはリストとして既に与えられた状態から解析を行いましたが、  \n",
        "実際にデータを扱う際は既に誰かが作成した何らかのファイルを  \n",
        "プログラムで読み込んで操作する場合も多くあります。\n",
        "\n",
        "この章の内容は、データ解析というよりは、  \n",
        "Pythonでデータ解析をするための下準備に相当するかと思います。  \n",
        "\n",
        "愚直にコードを書いている事もあり少々泥臭い部分が多いですが、  \n",
        "この章のような操作のエッセンスを抑えておけば、  \n",
        "普通にやると膨大な時間がかかる様々な処理を  \n",
        "高速化することができると思うので、頑張りましょう。\n"
      ]
    },
    {
      "cell_type": "markdown",
      "metadata": {
        "id": "Y0pkvGuu6B4t"
      },
      "source": [
        "##授業で使うファイルの準備\n",
        "\n",
        "ファイルをアップしてColab.から読み込むまでに時間がかかるので  \n",
        "予め以下のリンクをクリックして、ファイルをダウンロードし、  \n",
        "ご自身のGoogle Driveにアップロードしておいてください。\n",
        "\n",
        "* [test.txt](https://drive.google.com/file/d/1xhTpHVi3BanXJwF2GLzUEty17CEeFy1Q/view?usp=sharing) (テキストファイル)\n",
        "\n",
        "* [python_handling_test.csv](https://drive.google.com/file/d/1bYJNWdtujcQWfSBAa1UeXi2ZzJRJktil/view?usp=sharing) (csv, カンマ区切りのテキストファイル)\n",
        "\n",
        "* [kakei.xlsx](https://drive.google.com/file/d/1gJMVHivmP7R9Qf4LdqRhdPVc3x0IzD8v/view?usp=sharing) (エクセルファイル)\n",
        "\n",
        "\n",
        "以下のコードをそのまま使いたいという方は、  \n",
        "マイドライブ直下にAdDS2020というフォルダを作成し、  \n",
        "その中にファイルをいれてください。"
      ]
    },
    {
      "cell_type": "markdown",
      "metadata": {
        "id": "GT7Cl8yb8iL8"
      },
      "source": [
        "## テキストファイルの操作"
      ]
    },
    {
      "cell_type": "markdown",
      "metadata": {
        "id": "5LKmHodPF_n0"
      },
      "source": [
        "膨大な行のテキストファイルに対して、  \n",
        "人間が手で操作をするというのは時として非現実的です。  \n",
        "\n",
        "誤変換を置換するくらいなら、  \n",
        "どのテキスト/メモ帳アプリやwordでもできますが、  \n",
        "全行(数千とか数万)に対して、決まった操作が必要な場合、  \n",
        "プログラムにしてしまったほうが遥かに便利です。\n",
        "\n",
        "以下では、google driveのマイドライブの```AdDS2020```というフォルダに  \n",
        "ファイルを保存したと仮定して話を進めますので、  \n",
        "**適宜皆さんの場合に置き換えて使用してください**。\n"
      ]
    },
    {
      "cell_type": "markdown",
      "metadata": {
        "id": "B6oBjOGQ8k1K"
      },
      "source": [
        "まずはgoogle driveに保存した```test.txt```という名前のファイルを読み込んでみましょう。  \n",
        "既に何回かやったようにgoogle driveをマウントします。\n",
        "\n",
        "\n"
      ]
    },
    {
      "cell_type": "code",
      "metadata": {
        "id": "oKJPB3hafCDd",
        "colab": {
          "base_uri": "https://localhost:8080/"
        },
        "outputId": "049962cd-f63b-420d-9958-8204485bc1ba"
      },
      "source": [
        "from google.colab import drive\n",
        "drive.mount('/content/drive')"
      ],
      "execution_count": null,
      "outputs": [
        {
          "output_type": "stream",
          "text": [
            "Drive already mounted at /content/drive; to attempt to forcibly remount, call drive.mount(\"/content/drive\", force_remount=True).\n"
          ],
          "name": "stdout"
        }
      ]
    },
    {
      "cell_type": "code",
      "metadata": {
        "id": "Nx4kIQw48w7y",
        "colab": {
          "base_uri": "https://localhost:8080/"
        },
        "outputId": "104c6c98-7b1a-4df3-bdbe-2208e39ae503"
      },
      "source": [
        "!ls /content/drive/My\\ Drive/AdDS2020/*.txt        # ターミナルコマンドでspaceを表現するときはバックスラッシュを入れるか、\n",
        "#!ls /content/drive/\"My Drive\"/AdDS2020/*  # これでもOK"
      ],
      "execution_count": null,
      "outputs": [
        {
          "output_type": "stream",
          "text": [
            "'/content/drive/My Drive/AdDS2020/test_replace.txt'\n",
            "'/content/drive/My Drive/AdDS2020/test.txt'\n"
          ],
          "name": "stdout"
        }
      ]
    },
    {
      "cell_type": "markdown",
      "metadata": {
        "id": "Zh2U6rU79rDl"
      },
      "source": [
        "とするとgoogle driveのマイドライブ/AdDS2020にあるファイルの一覧を表示させることができます。\n",
        "\n",
        "*はワイルドカード記号で、対象を任意とする命令に相当します。  \n",
        "*.拡張子などとして使うのも便利です。"
      ]
    },
    {
      "cell_type": "code",
      "metadata": {
        "id": "Ayz1B8fz9wGb",
        "colab": {
          "base_uri": "https://localhost:8080/"
        },
        "outputId": "5753f5fd-7a9b-4682-81e7-f9a29f830dc7"
      },
      "source": [
        "!ls /content/drive/My\\ Drive/AdDS2020/*txt ## /content/drive/AdDS2020以下の.txtファイルを全て表示"
      ],
      "execution_count": null,
      "outputs": [
        {
          "output_type": "stream",
          "text": [
            "'/content/drive/My Drive/AdDS2020/test_replace.txt'\n",
            "'/content/drive/My Drive/AdDS2020/test.txt'\n"
          ],
          "name": "stdout"
        }
      ]
    },
    {
      "cell_type": "markdown",
      "metadata": {
        "id": "uYhMU-Od-s4Z"
      },
      "source": [
        "test.txtが見つかったでしょうか？  \n",
        "(アップロードしてから読み込みできるまでに少し時間がかかる場合があります)\n",
        "\n",
        "ファイルパスの概念に不慣れな方は、このノートの後半を参照してください\n",
        "\n",
        "\n",
        "\n",
        "では次に、このファイルに書かれているテキストを取得してみましょう。  \n",
        "方法はいくつかありますが、最もポピュラーなものとして、  \n",
        "ファイルを開いてテキストを取得する方式を採用します。"
      ]
    },
    {
      "cell_type": "code",
      "metadata": {
        "id": "4qbsm40WpqK1"
      },
      "source": [
        "filename = \"/content/drive/My Drive/AdDS2020/test.txt\" \n",
        "inp = open(filename,\"r\") # \"r\"はread(読み出し)を意味するオプション\n",
        "lines = inp.readlines()\n",
        "inp.close()"
      ],
      "execution_count": null,
      "outputs": []
    },
    {
      "cell_type": "markdown",
      "metadata": {
        "id": "aZxGX1R4_QUN"
      },
      "source": [
        "1行目でファイル名(正確にはファイルのパス)を指定し、  \n",
        "```filename```という名前に格納しました。  \n",
        "\n",
        "2行目では、指定したパスにあるファイルを開いています。  \n",
        "今はファイルに書き込むのではなく、既にあるファイルを開いて読み込むので  \n",
        "\"r\"というオプションを指定します。  \n",
        "他には\"w\"(書き出し,上書き), \"a\"(書き出し,追記)などがあります。  \n",
        "新しく上書きでファイルを作成したい場合は\"w\",  \n",
        "すでにあるファイルの内容は消さずに追記したい場合は\"a\"を指定します。\n",
        "\n",
        "3行目では、inpという名前をつけたファイルに対して、  \n",
        "```readlines```という操作を適用しています。\n",
        "これは、ファイルに書かれているテキストを[全行に渡って]読み込む関数です。  \n",
        "実際、\n"
      ]
    },
    {
      "cell_type": "code",
      "metadata": {
        "id": "TMHIZJPTAvd7",
        "colab": {
          "base_uri": "https://localhost:8080/"
        },
        "outputId": "61dd791b-e2c2-4411-9016-1d4b9642db0c"
      },
      "source": [
        "print(lines)"
      ],
      "execution_count": null,
      "outputs": [
        {
          "output_type": "stream",
          "text": [
            "['これは講義用のテキストファイルです。\\n', '書かれていることには特に意味はないですが、\\n', 'ファイル操作に慣れていきましょう。\\n', '### data\\n', '1, 2, 3, 4, 5, 6\\n', '11, 12, 13, 14, 15, 16\\n', '21, 22, 23, 24, 25, 26\\n', 'Aさん:\\t180cm 65kg A型\\n', 'Bさん:\\t165cm 56kg B型\\n', 'Zさん:  150cm 50kg AB型\\n']\n"
          ],
          "name": "stdout"
        }
      ]
    },
    {
      "cell_type": "markdown",
      "metadata": {
        "id": "QSbIzGcdAyWH"
      },
      "source": [
        "とすると、全ての行が読み込まれ、変数```lines```に格納されていることがわかります。\n",
        "\n",
        "ここで```\\n```は改行記号を意味します。\n",
        "ループを回して一行ずつ表示させると"
      ]
    },
    {
      "cell_type": "code",
      "metadata": {
        "id": "dPfMZpjUA_ZQ",
        "colab": {
          "base_uri": "https://localhost:8080/"
        },
        "outputId": "28683d6b-6bb4-471f-a300-5d8a0dd4048d"
      },
      "source": [
        "for line in lines:\n",
        "    print(line)"
      ],
      "execution_count": null,
      "outputs": [
        {
          "output_type": "stream",
          "text": [
            "これは講義用のテキストファイルです。\n",
            "\n",
            "書かれていることには特に意味はないですが、\n",
            "\n",
            "ファイル操作に慣れていきましょう。\n",
            "\n",
            "### data\n",
            "\n",
            "1, 2, 3, 4, 5, 6\n",
            "\n",
            "11, 12, 13, 14, 15, 16\n",
            "\n",
            "21, 22, 23, 24, 25, 26\n",
            "\n",
            "Aさん:\t180cm 65kg A型\n",
            "\n",
            "Bさん:\t165cm 56kg B型\n",
            "\n",
            "Zさん:  150cm 50kg AB型\n",
            "\n"
          ],
          "name": "stdout"
        }
      ]
    },
    {
      "cell_type": "markdown",
      "metadata": {
        "id": "KS1P7UYYBFX2"
      },
      "source": [
        "といった感じです(改行については後で説明します)。"
      ]
    },
    {
      "cell_type": "markdown",
      "metadata": {
        "id": "W4CNTbH5Avlf"
      },
      "source": [
        "特定の1行しか必要がなければ、  \n",
        "複数形ではなく```readline()```としてforループを回しても構いませんし、  \n",
        "必要な行番号が分かっている場合は、  \n",
        "nlines = lines[2:10]などとして要らないところは捨てて解析・操作してもOKです。  \n",
        "(やっぱり０から数えることに注意)\n",
        "\n",
        "次に、もう少し具体的なテキスト操作をしてみましょう。  \n",
        "まず、上の1行ずつ表示するコードでは、  \n",
        "改行コードを明示的に含む文字列を一行ずつ表示したため、  \n",
        "改めてprintすると余分なスペースが空いてしまいました。  \n",
        "(これは、print関数がデフォルトで末尾に改行```\\n```を挿入するため、  \n",
        "ファイルにある改行記号と合わさってしまうためです→[参考リンク](https://docs.python.org/ja/3/library/functions.html#print))\n",
        "\n",
        "たとえば```strip()```関数を使うと、  \n",
        "文字列に含まれる空白や改行コードを消去することができます。"
      ]
    },
    {
      "cell_type": "code",
      "metadata": {
        "id": "fWB00WIvzOlz",
        "colab": {
          "base_uri": "https://localhost:8080/"
        },
        "outputId": "8fdac795-0df4-44f3-9434-3f92ec860991"
      },
      "source": [
        "a = \"test character\\t\\n\"\n",
        "\n",
        "print(\"a\", a)\n",
        "print(\"a.strip()\", a.strip())"
      ],
      "execution_count": null,
      "outputs": [
        {
          "output_type": "stream",
          "text": [
            "a test character\t\n",
            "\n",
            "a.strip() test character\n"
          ],
          "name": "stdout"
        }
      ]
    },
    {
      "cell_type": "code",
      "metadata": {
        "id": "bwCxUBMdBOb2",
        "colab": {
          "base_uri": "https://localhost:8080/"
        },
        "outputId": "402eebe1-3e1b-40ff-e342-18e57c49599d"
      },
      "source": [
        "for line in lines:\n",
        "    print(line.strip())"
      ],
      "execution_count": null,
      "outputs": [
        {
          "output_type": "stream",
          "text": [
            "これは講義用のテキストファイルです。\n",
            "書かれていることには特に意味はないですが、\n",
            "ファイル操作に慣れていきましょう。\n",
            "### data\n",
            "1, 2, 3, 4, 5, 6\n",
            "11, 12, 13, 14, 15, 16\n",
            "21, 22, 23, 24, 25, 26\n",
            "Aさん:\t180cm 65kg A型\n",
            "Bさん:\t165cm 56kg B型\n",
            "Zさん:  150cm 50kg AB型\n"
          ],
          "name": "stdout"
        }
      ]
    },
    {
      "cell_type": "markdown",
      "metadata": {
        "id": "IpOm3O9rBlSH"
      },
      "source": [
        "文字列の右側に空白や改行コードが入っていることが明確な場合は、  \n",
        "stripの代わりにrstripを使ってもOKです(rstripのrはrightの意味)。"
      ]
    },
    {
      "cell_type": "code",
      "metadata": {
        "id": "zVlMYYFtBnlD",
        "colab": {
          "base_uri": "https://localhost:8080/"
        },
        "outputId": "5fdca7a0-eb73-4b42-ca8d-092511b21b5e"
      },
      "source": [
        "for line in lines:\n",
        "    print(line.rstrip())"
      ],
      "execution_count": null,
      "outputs": [
        {
          "output_type": "stream",
          "text": [
            "これは講義用のテキストファイルです。\n",
            "書かれていることには特に意味はないですが、\n",
            "ファイル操作に慣れていきましょう。\n",
            "### data\n",
            "1, 2, 3, 4, 5, 6\n",
            "11, 12, 13, 14, 15, 16\n",
            "21, 22, 23, 24, 25, 26\n",
            "Aさん:\t180cm 65kg A型\n",
            "Bさん:\t165cm 56kg B型\n",
            "Zさん:  150cm 50kg AB型\n"
          ],
          "name": "stdout"
        }
      ]
    },
    {
      "cell_type": "markdown",
      "metadata": {
        "id": "E-iAh4w7BrbU"
      },
      "source": [
        "としても同じ結果が得られます。  \n",
        "ファイルによってはインデントをするために左側にタブ```\\t```が含まれる場合もあります  \n",
        "(Pythonのコードをテキストとして読むときなどがこれに該当)  \n",
        "そのような場合に空白やタブを取り除きたければ、  \n",
        "```strip()```や```lstrip()```を使って取り除くことができます。\n",
        "\n",
        "上のファイルの文字列で、  \n",
        "たとえば#記号を含む行以降だけが必要な場合はどうすればいいでしょうか？\n",
        "\n",
        "最も単純(？)な実装は"
      ]
    },
    {
      "cell_type": "code",
      "metadata": {
        "id": "o9ePmRrlCQV3",
        "colab": {
          "base_uri": "https://localhost:8080/"
        },
        "outputId": "5dc44d2a-380c-4024-d83b-9bd7330fa4bb"
      },
      "source": [
        "hit = 0 #\n",
        "for line in lines:\n",
        "    if \"###\" in line:\n",
        "        hit += 1 \n",
        "        continue\n",
        "    if hit == 0 :\n",
        "        continue #hitが0の状態では何もしない\n",
        "    print(line.rstrip())"
      ],
      "execution_count": null,
      "outputs": [
        {
          "output_type": "stream",
          "text": [
            "1, 2, 3, 4, 5, 6\n",
            "11, 12, 13, 14, 15, 16\n",
            "21, 22, 23, 24, 25, 26\n",
            "Aさん:\t180cm 65kg A型\n",
            "Bさん:\t165cm 56kg B型\n",
            "Zさん:  150cm 50kg AB型\n"
          ],
          "name": "stdout"
        }
      ]
    },
    {
      "cell_type": "markdown",
      "metadata": {
        "id": "S4pLj4K-CQhm"
      },
      "source": [
        "といったところでしょうか。\n",
        "\n",
        "以下では、###dataまでの行が必要ないので、  \n",
        "必要なところまでを変数に格納してしまいましょう。\n",
        "\n"
      ]
    },
    {
      "cell_type": "code",
      "metadata": {
        "id": "eYsStscDDXDa",
        "colab": {
          "base_uri": "https://localhost:8080/"
        },
        "outputId": "2bd6f6bf-6f28-4978-b348-9dd76c5c5155"
      },
      "source": [
        "hit = 0 #\n",
        "nlines = []\n",
        "for line in lines:\n",
        "    if \"###\" in line:\n",
        "        hit += 1 \n",
        "        continue\n",
        "    if hit == 0 :\n",
        "        continue #hitが0の状態では何もしない\n",
        "    nlines += [line]\n",
        "print(nlines)"
      ],
      "execution_count": null,
      "outputs": [
        {
          "output_type": "stream",
          "text": [
            "['1, 2, 3, 4, 5, 6\\n', '11, 12, 13, 14, 15, 16\\n', '21, 22, 23, 24, 25, 26\\n', 'Aさん:\\t180cm 65kg A型\\n', 'Bさん:\\t165cm 56kg B型\\n', 'Zさん:  150cm 50kg AB型\\n']\n"
          ],
          "name": "stdout"
        }
      ]
    },
    {
      "cell_type": "markdown",
      "metadata": {
        "id": "RDD1fCO3DNm6"
      },
      "source": [
        "また、1,2,3,4,5,6といったコンマやスペースで区切られたものをリストに格納したい場合には、```split```関数が便利です。\n",
        "\n",
        "引数に何も指定しなければ、スペースもしくはタブごとに文を区切ったリストを返します。"
      ]
    },
    {
      "cell_type": "code",
      "metadata": {
        "id": "1P4mcqMkCzbf",
        "colab": {
          "base_uri": "https://localhost:8080/"
        },
        "outputId": "6400d9af-03c6-44e4-ec87-fdb1612bcd67"
      },
      "source": [
        "for line in nlines:\n",
        "    print(line.split())"
      ],
      "execution_count": null,
      "outputs": [
        {
          "output_type": "stream",
          "text": [
            "['1,', '2,', '3,', '4,', '5,', '6']\n",
            "['11,', '12,', '13,', '14,', '15,', '16']\n",
            "['21,', '22,', '23,', '24,', '25,', '26']\n",
            "['Aさん:', '180cm', '65kg', 'A型']\n",
            "['Bさん:', '165cm', '56kg', 'B型']\n",
            "['Zさん:', '150cm', '50kg', 'AB型']\n"
          ],
          "name": "stdout"
        }
      ]
    },
    {
      "cell_type": "markdown",
      "metadata": {
        "id": "0QGZ-qxWDF6L"
      },
      "source": [
        "カンマがあるときはカンマで分割する、という約束を表現したければ"
      ]
    },
    {
      "cell_type": "code",
      "metadata": {
        "id": "R5Wk_P3gDJ2C",
        "colab": {
          "base_uri": "https://localhost:8080/"
        },
        "outputId": "75077606-1e3a-4fe9-ca83-a22028082db8"
      },
      "source": [
        "for line in nlines:\n",
        "    if \",\" in line :\n",
        "        print(line.rstrip().split(\",\"))\n",
        "    else :\n",
        "        print(line.rstrip().split())"
      ],
      "execution_count": null,
      "outputs": [
        {
          "output_type": "stream",
          "text": [
            "['1', ' 2', ' 3', ' 4', ' 5', ' 6']\n",
            "['11', ' 12', ' 13', ' 14', ' 15', ' 16']\n",
            "['21', ' 22', ' 23', ' 24', ' 25', ' 26']\n",
            "['Aさん:', '180cm', '65kg', 'A型']\n",
            "['Bさん:', '165cm', '56kg', 'B型']\n",
            "['Zさん:', '150cm', '50kg', 'AB型']\n"
          ],
          "name": "stdout"
        }
      ]
    },
    {
      "cell_type": "markdown",
      "metadata": {
        "id": "QaOMvxGUDx7g"
      },
      "source": [
        "などとすることができます。たとえばこれを利用すれば、\n",
        "空のリストにファイルから読んだ要素を詰めていくといった操作が実現できます。\n"
      ]
    },
    {
      "cell_type": "code",
      "metadata": {
        "id": "ocRjQCaGEF07",
        "colab": {
          "base_uri": "https://localhost:8080/"
        },
        "outputId": "192e3a45-8a73-4d81-a183-dd6fd2f54a93"
      },
      "source": [
        "nums = [] #数字のリストなのでnumsとした\n",
        "profs = [] #プロフィールのリストなのでprofsとした\n",
        "\n",
        "for line in nlines:\n",
        "    if \",\" in line :\n",
        "        nums += [ line.rstrip().split(\",\") ]\n",
        "    else :\n",
        "        profs += [ line.rstrip().split()]\n",
        "print(\"nums\", nums)\n",
        "print(\"profs\", profs)"
      ],
      "execution_count": null,
      "outputs": [
        {
          "output_type": "stream",
          "text": [
            "nums [['1', ' 2', ' 3', ' 4', ' 5', ' 6'], ['11', ' 12', ' 13', ' 14', ' 15', ' 16'], ['21', ' 22', ' 23', ' 24', ' 25', ' 26']]\n",
            "profs [['Aさん:', '180cm', '65kg', 'A型'], ['Bさん:', '165cm', '56kg', 'B型'], ['Zさん:', '150cm', '50kg', 'AB型']]\n"
          ],
          "name": "stdout"
        }
      ]
    },
    {
      "cell_type": "markdown",
      "metadata": {
        "id": "pu5-guZDEcIo"
      },
      "source": [
        "上のnumsの様に、予め全ての要素が整数だと分かっていて、  \n",
        "整数に対する演算(四則演算など)を後でするのなら、  \n",
        "str(文字列)型ではなく、int型にしておくほうが良いでしょう。"
      ]
    },
    {
      "cell_type": "code",
      "metadata": {
        "id": "J85gGgidEq6j",
        "colab": {
          "base_uri": "https://localhost:8080/"
        },
        "outputId": "f083ac57-38b8-4683-a64f-ad04cc7457cd"
      },
      "source": [
        "nums = []\n",
        "for line in nlines:\n",
        "    if \",\" in line : \n",
        "        nums += [ list(map(int, line.rstrip().split(\",\") )) ]\n",
        "print(nums)"
      ],
      "execution_count": null,
      "outputs": [
        {
          "output_type": "stream",
          "text": [
            "[[1, 2, 3, 4, 5, 6], [11, 12, 13, 14, 15, 16], [21, 22, 23, 24, 25, 26]]\n"
          ],
          "name": "stdout"
        }
      ]
    },
    {
      "cell_type": "markdown",
      "metadata": {
        "id": "JHXIca-kE39k"
      },
      "source": [
        "map関数はmap(操作,対象)という風に使って、  \n",
        "対象の各要素に対して操作を適用することができます。  \n",
        "今の場合、['1', ' 2', ' 3', ' 4', ' 5', ' 6']などの文字列のリストに対して、  \n",
        "整数型に変換する```int```関数を作用させるという操作を一度に行います。\n",
        "\n",
        "注: map関数の返り値はmap objectと呼ばれるものなので、  \n",
        "元のようなリストの形で使いたい場合はlist()を使ってリストに変換するステップが必要です。\n",
        "\n",
        "世の中には、アンケート結果や産業データなどが  \n",
        "csv(カンマ区切りのテキスト)ファイルで公開されている場合が多いですが、  \n",
        "その場合は上で説明したような手順でリストなどに格納すれば、  \n",
        "今まで行ったような解析が実行できる、といったわけです。"
      ]
    },
    {
      "cell_type": "markdown",
      "metadata": {
        "id": "7Zteg1NaYXuR"
      },
      "source": [
        "次に、テキストファイルを書き込んで保存してみます。  \n",
        "上の文字列で、敬称を\"さん\"から\"様\"に置換したテキストを作成して、  \n",
        "それを別ファイルとして保存してみましょう。\n"
      ]
    },
    {
      "cell_type": "code",
      "metadata": {
        "id": "J1fOkXTcYuQm"
      },
      "source": [
        "filename = \"/content/drive/My Drive/AdDS2020/test_replace.txt\" \n",
        "oup = open(filename,\"w\")  ## oup は\"output\"の気持ち...\n",
        "for line in lines:\n",
        "    print(line.rstrip().replace(\"さん\",\"様\"), file=oup) # file=[openしたファイル]にすることで、printする先をファイルに指定できます。\n",
        "oup.close() #ファイルはきちんと閉じる."
      ],
      "execution_count": null,
      "outputs": []
    },
    {
      "cell_type": "markdown",
      "metadata": {
        "id": "BhsUEsIh6tC6"
      },
      "source": [
        "Google Driveで、作成されたファイルをチェックしてみましょう。\n",
        "\n",
        "なお、filenameに元ファイルと同じものを指定すると  \n",
        "```open(filename,\"w\")```を読んだ時点で、  \n",
        "ファイルが上書きされて空ファイルになるので注意しましょう。"
      ]
    },
    {
      "cell_type": "markdown",
      "metadata": {
        "id": "navysabZ4enm"
      },
      "source": [
        "今の例ではもちろん、手で置き換えたりするほうが遥かに速いですが、  \n",
        "こうしたPythonによるファイル操作を覚えておくと\n",
        "\n",
        "* ファイル自体が大量にあり、同じ操作を繰り返す場合\n",
        "* 単一のテキストファイルに大量の行に渡って情報がある場合\n",
        "\n",
        "など、手作業が非現実的な様々な状況でも、  \n",
        "楽ちんに作業を終わらせることができる(かもしれません)。\n",
        "\n",
        "上の内容や、これまでに学習した並列処理を駆使すると、  \n",
        "数万人のデータが1行ずつ記載されたテキストファイルから  \n",
        "条件にヒットする人の情報だけを抽出して小さなファイルにまとめる。  \n",
        "といったことが皆さん既にできるようになっているはずです。\n",
        "\n",
        "> **文字コードに関連した注**  \n",
        "Windows環境で作成されたテキストファイルを扱う際は  \n",
        "読み込みで、文字コードによるエラーが出るかもしれない。  \n",
        "最近ではメモ帳でもUTF-8(世界標準)を採用しているよう(→[MicrosoftのWindows blogの記事](https://blogs.windows.com/japan/2020/02/20/about-windows-and-japanese-text/))  \n",
        "だけれど、古いテキストファイルだとShift-JISになっているかも。  \n",
        "そういうときは、```open(file, \"r\", encoding = \"shift_jis\")```など、  \n",
        "ファイルを開くときにencodingを明示的に指定する必要があります。  \n",
        "UTF-8で保存したいときは```open(file, \"w\", encoding = \"utf-8\")```などとする。  \n",
        "参考: [公式ドキュメント](https://docs.python.org/ja/3/howto/unicode.html#reading-and-writing-unicode-data)  \n",
        "ここまで勉強してきた皆さんには  \n",
        "「そんなの、パソコンに存在するShift-JISで書かれたテキストファイルを   \n",
        "全て  UTF-8に変換するPythonスクリプト書けばいいんじゃね？」  \n",
        "という発想があることを期待しています。\n"
      ]
    },
    {
      "cell_type": "markdown",
      "metadata": {
        "id": "J5sIptAmd1ni"
      },
      "source": [
        "## csv,エクセルファイルの操作"
      ]
    },
    {
      "cell_type": "markdown",
      "metadata": {
        "id": "ovU-6Bd-D9e1"
      },
      "source": [
        "### アンケート分析\n",
        "\n",
        "冒頭の二番目のファイル```pyhon_handling_test.csv```は  \n",
        "あるアンケート結果をまとめたファイルになっています。\n",
        "\n",
        "これは、Google フォームで作成したアンケート[(リンクはこちら)](https://docs.google.com/forms/d/1XU5yEoLzd-Jvcba7GaHhMGAZDzDd_Cpl0Jylvullc28/edit?usp=sharing)で、  \n",
        "国数英社理(中学の５科目)に対する得意/苦手意識の調査を想定した疑似アンケートです。\n",
        "\n",
        "このようなアンケート調査は事務作業や卒業研究などで頻繁に見られ、  \n",
        "会社や大学など所属コミュニティで何らかの意思決定に用いられることも多いことでしょう。\n",
        "\n",
        "こうしたアンケート分析を行っていると、\n",
        "\n",
        "*   各回答項目同士の関係が知りたい\n",
        "*   明示的な項目以外の情報も抽出したい\n",
        "\n",
        "といった要望が出てきます。\n",
        "\n",
        "今の場合でいうと、\n",
        "* 各科目ごとの得意・苦手意識の相関を調べたい\n",
        "* 夜中(あるいは日中)にアンケートを回答した夜型(昼型)の人に見られる特徴がなにかないか？\n",
        "\n",
        "といったイメージです。そんなとき、\n",
        "\n",
        "> 国語が得意(どちらかというと得意)と回答した方に質問です。  \n",
        "英語についてはどうでしょうか？\n",
        "\n",
        "などと新たに設問を増やしてアンケートをやり直すというのは得策では有りません。  \n",
        "Pythonを使って、すでに得られた情報からさらなる情報を引き出すことを考えてみましょう。  \n",
        "まずは、csvファイルに記載された情報を整理してプログラムで扱いやすくすることを考えます。\n",
        "\n",
        "\n",
        "> 余談: このcsvファイルをExcelで開こうとするとお使いの環境によって文字化けを起こすかと思います。これはgoogleフォームで作成されたcsvファイルの文字コードが世界標準のutf-8を使用しているのに対し、ExcelがShift-JISという時代遅れな文字コードでcsvファイルを開こうとするためです。\n",
        "Googleのスプレッドシートや、Macに標準で搭載されているNumbersで開くと文字化けしません。\n",
        "\n",
        "> 2000件の回答は、もちろん私が手作業で入力したわけでも誰かに協力してもらったわけでもなく、一定のルール(傾向)を勝手に設定した上でランダムに回答を作成しフォームから自動回答するPythonスクリプトを書きました。時間に余裕があれば、こうしたWeb操作を自動化する方法も授業で扱います。 c.f. ブラウザ操作, Webスクレイピング"
      ]
    },
    {
      "cell_type": "code",
      "metadata": {
        "id": "zF6wdCGff4qd"
      },
      "source": [
        "filename = \"/content/drive/My Drive/AdDS2020/python_handling_test.csv\" #読み込むファイルのパスの指定"
      ],
      "execution_count": null,
      "outputs": []
    },
    {
      "cell_type": "markdown",
      "metadata": {
        "id": "vq3T9r6wgBmg"
      },
      "source": [
        "とりあえずファイルの中身を数行表示してみる。\n",
        "\n",
        "csvファイル(コンマ区切りのテキスト)なので、テキストファイルと同じ方法をとる(他の方法ももちろんある)"
      ]
    },
    {
      "cell_type": "code",
      "metadata": {
        "id": "4yG6dZUngpnA",
        "colab": {
          "base_uri": "https://localhost:8080/"
        },
        "outputId": "94c1b239-550d-4916-c93d-a25f2affe29a"
      },
      "source": [
        "inp=open(filename,\"r\")\n",
        "csv_lines=inp.readlines() \n",
        "inp.close()\n",
        "print(\"行数は\",len(csv_lines))\n",
        "for i in range(5):\n",
        "    print(csv_lines[i].rstrip())"
      ],
      "execution_count": null,
      "outputs": [
        {
          "output_type": "stream",
          "text": [
            "行数は 2001\n",
            "\"タイムスタンプ\",\"性別\",\"国語が\",\"数学が\",\"英語が\",\"社会が\",\"理科が\"\n",
            "\"2020/09/09 12:59:25 午後 GMT+9\",\"女\",\"+2 得意\",\"-1 どちらかというと苦手\",\"+2 得意\",\"+2 得意\",\"-1 どちらかというと苦手\"\n",
            "\"2020/09/09 12:59:27 午後 GMT+9\",\"男\",\"+2 得意\",\"-1 どちらかというと苦手\",\"+2 得意\",\"+2 得意\",\"+0 どちらでもない\"\n",
            "\"2020/09/09 12:59:29 午後 GMT+9\",\"女\",\"+1 どちらかというと得意\",\"-2 苦手\",\"+1 どちらかというと得意\",\"+0 どちらでもない\",\"-2 苦手\"\n",
            "\"2020/09/09 12:59:31 午後 GMT+9\",\"男\",\"+0 どちらでもない\",\"-2 苦手\",\"-1 どちらかというと苦手\",\"+0 どちらでもない\",\"-1 どちらかというと苦手\"\n"
          ],
          "name": "stdout"
        }
      ]
    },
    {
      "cell_type": "markdown",
      "metadata": {
        "id": "mfdbVE1Bhrhi"
      },
      "source": [
        "ちなみに...```pandas```ライブラリを使うと  \n",
        "csvをサクッと読み込むことができる\n",
        "\n",
        "(授業で```pandas```の説明はしませんが是非使ってみてください。)"
      ]
    },
    {
      "cell_type": "code",
      "metadata": {
        "id": "fgDQrP-1hA0D",
        "colab": {
          "base_uri": "https://localhost:8080/"
        },
        "outputId": "0b24d244-2fe6-4954-ea6a-40b9bd8360c5"
      },
      "source": [
        "import pandas as pd \n",
        "df = pd.read_csv(filename)\n",
        "print(df)"
      ],
      "execution_count": null,
      "outputs": [
        {
          "output_type": "stream",
          "text": [
            "                           タイムスタンプ 性別  ...            社会が            理科が\n",
            "0     2020/09/09 12:59:25 午後 GMT+9  女  ...          +2 得意  -1 どちらかというと苦手\n",
            "1     2020/09/09 12:59:27 午後 GMT+9  男  ...          +2 得意     +0 どちらでもない\n",
            "2     2020/09/09 12:59:29 午後 GMT+9  女  ...     +0 どちらでもない          -2 苦手\n",
            "3     2020/09/09 12:59:31 午後 GMT+9  男  ...     +0 どちらでもない  -1 どちらかというと苦手\n",
            "4     2020/09/09 12:59:34 午後 GMT+9  男  ...  -1 どちらかというと苦手  -1 どちらかというと苦手\n",
            "...                            ... ..  ...            ...            ...\n",
            "1995   2020/09/10 3:35:51 午前 GMT+9  男  ...  +1 どちらかというと得意          +2 得意\n",
            "1996   2020/09/10 3:35:53 午前 GMT+9  男  ...  +1 どちらかというと得意  +1 どちらかというと得意\n",
            "1997   2020/09/10 3:35:55 午前 GMT+9  男  ...  -1 どちらかというと苦手          +2 得意\n",
            "1998   2020/09/10 3:35:57 午前 GMT+9  男  ...  -1 どちらかというと苦手          +2 得意\n",
            "1999   2020/09/10 3:35:59 午前 GMT+9  男  ...          -2 苦手  +1 どちらかというと得意\n",
            "\n",
            "[2000 rows x 7 columns]\n"
          ],
          "name": "stdout"
        }
      ]
    },
    {
      "cell_type": "markdown",
      "metadata": {
        "id": "bMWTdHs9ilWM"
      },
      "source": [
        "さて、```csv_lines```に格納したデータをもう少し扱いやすいように変更しよう。  \n",
        "最初の0行目はどういうデータが入っているか(データの項目)を表している。  \n",
        "1-2000行目には2000人分の回答が詰まっている。  \n",
        "(*Pythonでのインデックス指定と整合するように０からカウントすることにした)\n",
        "\n",
        "これによると、  \n",
        "> 0列目: 回答した時刻  \n",
        "> 1列目: 性別  \n",
        "> 2列目: 国語  \n",
        "> 3列目: 数学  \n",
        "> 4列目: 英語  \n",
        "> 5列目: 社会  \n",
        "> 6列目: 理科  \n",
        "\n",
        "らしい。いろいろなデータの整理方法があると思うがここでは、\n",
        "* 処理A 0列目の時刻を２４時間表記にして表示する  \n",
        "* 処理B 2-6列目の各科目の得意・苦手意識を、文字列を除去して数値[-2,-1,0,1,2]として扱う\n",
        "\n",
        "をまずやってみよう。\n",
        "\n",
        "\n",
        "\n",
        "\n"
      ]
    },
    {
      "cell_type": "code",
      "metadata": {
        "id": "Kso8FZs6nQa0",
        "colab": {
          "base_uri": "https://localhost:8080/"
        },
        "outputId": "5a8ddb8b-2424-41ab-cf30-88d016d0b278"
      },
      "source": [
        "#処理Aのための関数\n",
        "#input_strが、\"年月日 時刻(h:m:s) 午前/午後 GMT+9\" という文字列である、という文字列の[構造]を知った上での実装になっていることに注意\n",
        "def make_time_24h(input_str):        \n",
        "    time  = input_str.split()[1]\n",
        "    AMPM = input_str.split()[2]\n",
        "    hms = time.split(\":\")\n",
        "    h = int(hms[0])\n",
        "    if AMPM == \"午前\":\n",
        "        output_str = time \n",
        "    else :\n",
        "        if h != 12:\n",
        "            output_str = str(h +12)+\":\"+hms[1]+\":\"+hms[2]\n",
        "        else:\n",
        "            output_str = str(h)+\":\"+hms[1]+\":\"+hms[2] # 12時xx分だけは別の取り扱いが必要\n",
        "    return output_str\n",
        "\n",
        "nlines=[] #整理したものをリストとしてまとめるための空のリスト\n",
        "for nth,line in enumerate(csv_lines[1:]): \n",
        "    nline = line.rstrip().replace('\"','').split(\",\") # 改行文字の除去、ダブルクォーテーションの除去, カンマで分割    \n",
        "    # この時点でnlineは0:時刻 1:性別, ...のリストとなっているはず print()でcheckしてみよう\n",
        "    # 処理A)\n",
        "    time = make_time_24h(nline[0])\n",
        "    #print(\"nline[0]\", nline[0], \"time\", time)\n",
        "    M_or_F = nline[1] #性別\n",
        "\n",
        "    #　処理B)\n",
        "    points = [ int(nline[k].split()[0]) for k in range(2,7)] #各科目の値だけのリスト(points)を作成\n",
        "    # 上記をmap関数にしてみよう。\n",
        "\n",
        "    nline = [time, M_or_F]+points  #リストを連結(時刻,性別と各科目の値を同じ階層で結合)して、nlineという名前で上書き\n",
        "    nlines += [ nline ]\n",
        "\n",
        "    # うまく編集できたか400行おきほどでprintしてチェックしてみる\n",
        "    if nth % 400 == 0 :\n",
        "        print(\"編集前\", line.rstrip())\n",
        "        print(\"編集後\", nline)\n",
        "        print(\"\")"
      ],
      "execution_count": null,
      "outputs": [
        {
          "output_type": "stream",
          "text": [
            "編集前 \"2020/09/09 12:59:25 午後 GMT+9\",\"女\",\"+2 得意\",\"-1 どちらかというと苦手\",\"+2 得意\",\"+2 得意\",\"-1 どちらかというと苦手\"\n",
            "編集後 ['12:59:25', '女', 2, -1, 2, 2, -1]\n",
            "\n",
            "編集前 \"2020/09/09 1:13:03 午後 GMT+9\",\"男\",\"+1 どちらかというと得意\",\"-1 どちらかというと苦手\",\"+1 どちらかというと得意\",\"+0 どちらでもない\",\"+0 どちらでもない\"\n",
            "編集後 ['13:13:03', '男', 1, -1, 1, 0, 0]\n",
            "\n",
            "編集前 \"2020/09/09 1:26:25 午後 GMT+9\",\"男\",\"+0 どちらでもない\",\"+0 どちらでもない\",\"+0 どちらでもない\",\"+0 どちらでもない\",\"+0 どちらでもない\"\n",
            "編集後 ['13:26:25', '男', 0, 0, 0, 0, 0]\n",
            "\n",
            "編集前 \"2020/09/10 3:08:57 午前 GMT+9\",\"男\",\"+0 どちらでもない\",\"+1 どちらかというと得意\",\"+2 得意\",\"+1 どちらかというと得意\",\"+1 どちらかというと得意\"\n",
            "編集後 ['3:08:57', '男', 0, 1, 2, 1, 1]\n",
            "\n",
            "編集前 \"2020/09/10 3:22:30 午前 GMT+9\",\"女\",\"+0 どちらでもない\",\"+0 どちらでもない\",\"+0 どちらでもない\",\"+0 どちらでもない\",\"+1 どちらかというと得意\"\n",
            "編集後 ['3:22:30', '女', 0, 0, 0, 0, 1]\n",
            "\n"
          ],
          "name": "stdout"
        }
      ]
    },
    {
      "cell_type": "markdown",
      "metadata": {
        "id": "VVxC-_FanOp2"
      },
      "source": [
        "最後に、各項目の得点を適当なリスト(あるいはnp.array)に整形しておけば、種々の分析を行うことができます。\n",
        "\n"
      ]
    },
    {
      "cell_type": "code",
      "metadata": {
        "id": "38OyKcL4DVtR",
        "colab": {
          "base_uri": "https://localhost:8080/"
        },
        "outputId": "7f43192e-bd30-47f7-9d70-a81a63e339eb"
      },
      "source": [
        "import numpy as np\n",
        "points = [ [] for i in range(5)]\n",
        "for tmp in nlines:\n",
        "    for i in range(5):\n",
        "        points[i]+=[tmp[2+i]]\n",
        "print(\"points\", np.array(points))\n",
        "print(\"各科目の平均スコア:\", [np.mean(points[i]) for i in range(5)])"
      ],
      "execution_count": null,
      "outputs": [
        {
          "output_type": "stream",
          "text": [
            "points [[ 2  2  1 ... -1 -1 -1]\n",
            " [-1 -1 -2 ...  1  1  1]\n",
            " [ 2  2  1 ...  0  0  0]\n",
            " [ 2  2  0 ... -1 -1 -2]\n",
            " [-1  0 -2 ...  2  2  1]]\n",
            "各科目の平均スコア: [-0.0005, 0.0035, 0.687, -0.0085, 0.237]\n"
          ],
          "name": "stdout"
        }
      ]
    },
    {
      "cell_type": "markdown",
      "metadata": {
        "id": "gplM2Js9DWwP"
      },
      "source": [
        "相関分析は以降の章で扱うので具体例は省略します。\n"
      ]
    },
    {
      "cell_type": "markdown",
      "metadata": {
        "id": "2_SWNlqrhMLY"
      },
      "source": [
        "## 複雑なエクセルファイルの操作\n",
        "\n",
        "```kakei.xlsx```はエクセルファイルで  \n",
        "以降では、2020年度前期のデータサイエンス入門(一部学科を除く)の  \n",
        "相関分析で使用されたエクセルファイル、[kakei.xlsx](https://drive.google.com/file/d/1gJMVHivmP7R9Qf4LdqRhdPVc3x0IzD8v/view?usp=sharing)を使用します。  \n",
        "\n",
        "\n",
        "\n",
        "以下では、google driveのマイドライブ直下のAdDs2020というフォルダに  \n",
        "ファイルを置いたと思って処理を行いますので、適宜ご自身の環境に置き換えてください。\n",
        "\n"
      ]
    },
    {
      "cell_type": "code",
      "metadata": {
        "id": "FXWuDrYahMXf"
      },
      "source": [
        "filename = \"/content/drive/My Drive/AdDS2020/kakei.xlsx\" #読み込むファイルのパスの指定"
      ],
      "execution_count": null,
      "outputs": []
    },
    {
      "cell_type": "markdown",
      "metadata": {
        "id": "CcnorJJvmAR6"
      },
      "source": [
        "まずはxlsxファイルをPythonで読み込んで、どんな\"シート\"があるのかを確認してみましょう。"
      ]
    },
    {
      "cell_type": "code",
      "metadata": {
        "id": "WBtp5nwrmN0q",
        "colab": {
          "base_uri": "https://localhost:8080/"
        },
        "outputId": "babc8611-5b0d-4589-b75d-9b854f36366e"
      },
      "source": [
        "import xlrd #xlrd(excel read)モジュールをimportする\n",
        "wb = xlrd.open_workbook(filename) #作業するbook(excelファイル)を開いてwbという変数名をつける\n",
        "print(\"シート名のリスト\", wb.sheet_names())"
      ],
      "execution_count": null,
      "outputs": [
        {
          "output_type": "stream",
          "text": [
            "シート名のリスト ['サンプルデータ', '課題（データベース）', '課題（解答）', 'Sheet1', 'Sheet2', 'Sheet3', 'Sheet4', 'Sheet5', 'Sheet6', 'Sheet7', 'Sheet8', 'Sheet9', 'Sheet10', 'Sheet11', 'Sheet12', 'S1', 'S2', 'S3', 'S4', 'S5', 'S6', 'S7', 'S8', 'S9', 'S10', 'S11', 'S12']\n"
          ],
          "name": "stdout"
        }
      ]
    },
    {
      "cell_type": "markdown",
      "metadata": {
        "id": "SRyFwkbDqGjP"
      },
      "source": [
        "たくさんシートがあることが分かります。 \n"
      ]
    },
    {
      "cell_type": "markdown",
      "metadata": {
        "id": "X1HOxhl6edOF"
      },
      "source": [
        "Sheet1の中身をのぞいてみましょう。まずは行と列の数を取得してみます。"
      ]
    },
    {
      "cell_type": "code",
      "metadata": {
        "id": "0YivHM_Yed3Y",
        "colab": {
          "base_uri": "https://localhost:8080/"
        },
        "outputId": "5b386198-a67c-460d-a58c-c7d51db19fe2"
      },
      "source": [
        "Sheet1 = wb.sheet_by_name(\"Sheet1\")\n",
        "print(\"行の数\", Sheet1.nrows)\n",
        "print(\"列の数\", Sheet1.ncols)"
      ],
      "execution_count": null,
      "outputs": [
        {
          "output_type": "stream",
          "text": [
            "行の数 716\n",
            "列の数 114\n"
          ],
          "name": "stdout"
        }
      ]
    },
    {
      "cell_type": "markdown",
      "metadata": {
        "id": "X5mDZqBWgXSD"
      },
      "source": [
        "0-9番目の行にはどんな値がセルに入っているのかな...と思ったら"
      ]
    },
    {
      "cell_type": "code",
      "metadata": {
        "id": "nu6LskLOf7zz",
        "colab": {
          "base_uri": "https://localhost:8080/"
        },
        "outputId": "b57b8b6a-736b-471b-a720-b03f6379118c"
      },
      "source": [
        "for i in range(0,10):\n",
        "    print(Sheet1.row_values(i))"
      ],
      "execution_count": null,
      "outputs": [
        {
          "output_type": "stream",
          "text": [
            "['', '', '', '', '', '', '', '', '', '', 1.0, 2.0, 3.0, 4.0, 5.0, 6.0, 7.0, 8.0, 9.0, 10.0, 11.0, 12.0, 13.0, 14.0, 15.0, 16.0, 17.0, 18.0, 19.0, 20.0, 21.0, 22.0, 23.0, 24.0, 25.0, 26.0, 27.0, 28.0, 29.0, 30.0, 31.0, 32.0, 33.0, 34.0, 35.0, 36.0, 37.0, 38.0, 39.0, 40.0, 41.0, 42.0, 43.0, 44.0, 45.0, 46.0, 47.0, 48.0, 49.0, 50.0, 51.0, 52.0, 53.0, 54.0, 55.0, 56.0, 57.0, 58.0, 59.0, 60.0, 61.0, 62.0, 63.0, 64.0, 65.0, 66.0, 67.0, 68.0, 69.0, 70.0, 71.0, 72.0, 73.0, 74.0, 75.0, 76.0, 77.0, 78.0, 79.0, 80.0, 81.0, 82.0, 83.0, 84.0, 85.0, 86.0, 87.0, 88.0, 89.0, 90.0, 91.0, 92.0, 93.0, 94.0, 95.0, 96.0, 97.0, 98.0, 99.0, 100.0, 101.0, 102.0, 103.0, 104.0]\n",
            "['', '', '', '', '', '', '', '', '', '', 1.0, 2.0, 3.0, 4.0, 5.0, 6.0, 7.0, 8.0, 9.0, 10.0, 11.0, 12.0, 13.0, 14.0, 15.0, 16.0, 17.0, 18.0, 19.0, 20.0, 21.0, 22.0, 23.0, 24.0, 25.0, 26.0, 27.0, 28.0, 29.0, 30.0, 31.0, 32.0, 33.0, 34.0, 35.0, 36.0, 37.0, 38.0, 39.0, 40.0, 41.0, 42.0, 43.0, 44.0, 45.0, 46.0, 47.0, 48.0, 49.0, 50.0, 51.0, 52.0, 53.0, 54.0, 55.0, 56.0, 57.0, 58.0, 59.0, 60.0, 61.0, 62.0, 63.0, 64.0, 65.0, 66.0, 67.0, 68.0, 69.0, 70.0, 71.0, 72.0, 73.0, 74.0, 75.0, 76.0, 77.0, 78.0, 79.0, 80.0, 81.0, 82.0, 83.0, 84.0, 85.0, 86.0, 87.0, 88.0, 89.0, 90.0, 91.0, 92.0, 93.0, 94.0, 95.0, 96.0, 97.0, 98.0, 99.0, 100.0, 101.0, 102.0, 103.0, 104.0]\n",
            "['', '', '', '', '', '', '', '', '', '', '', '', '', '', '', '', '', '', '', '', '', '', '', '', '', '', '', '', '', '', '', '', '', '', '', '', '', '', '', '', '', '', '', '', '', '', '', '', '', '', '', '', '', '', '', '', '', '', '', '', '', '', '', '', '', '', '', '', '', '', '', '', '', '', '', '', '', '', '', '', '', '', '', '', '', '', '', '', '', '', '', '', '', '', '', '', '', '', '', '', '', '', '', '', '', '', '', '', '', '', '', '', '', '']\n",
            "['', '', '', '', '', '', '', '第４－１表\\u3000都市階級・地方・都道府県庁所在市別１世帯当たりの支出金額，購入数量及び平均価格', '', '', '', '', '', '', '', '', '', '', '', '', '', '', '', '', '', '', '', '', '', '', '', '', '', '', '', '', '', '', '', '', '', '', '', '', '', '', '', '', '', '', '', '', '', '', '', '', '', '', '', '', '', '', '', '', '', '', '', '', '', '', '', '', '', '', '', '', '', '', '', '', '', '', '', '', '', '', '', '', '', '', '', '', '', '', '', '', '', '', '', '', '', '', '', '', '', '', '', '', '', '', '', '', '', '']\n",
            "['', '', '', '', '', '', '', '平成29年(2017年) 1月', '', '', '', '', '', '', '', '', '', '', '', '', '', '', '', '', '', '', '', '', '', '', '', '', '', '', '', '', '', '', '', '', '', '', '', '', '', '', '', '', '', '', '', '', '', '', '', '', '', '', '', '', '', '', '', '', '', '', '', '', '', '', '', '', '', '', '', '', '', '', '', '', '', '', '', '', '', '', '', '', '', '', '', '', '', '', '', '', '', '', '', '', '', '', '', '', '', '', '', '', '', '', '', '', '', '']\n",
            "['', '', '', '', '', '', '', '二人以上の世帯', '', '', '', '', '', '', '', '', '', '', '', '', '', '', '', '', '', '', '', '', '', '', '', '', '', '', '', '', '', '', '', '', '', '', '', '', '', '', '', '', '', '', '', '', '', '', '', '', '', '', '', '', '', '', '', '', '', '', '', '', '', '', '', '', '', '', '', '', '', '', '', '', '', '', '', '', '', '', '', '', '', '', '', '', '', '', '', '', '', '', '', '', '', '', '', '', '', '', '', '', '', '', '', '', '', '']\n",
            "['', '', '', '', '', '', '', '', '', '', '', '', '', '', '', '', '', '', '', '', '', '', '', '', '', '', '', '', '', '', '', '', '', '', '', '', '', '', '', '', '', '', '', '', '', '', '', '', '', '', '', '', '', '', '', '', '', '', '', '', '', '', '', '', '', '', '', '', '', '', '', '', '', '', '', '', '', '', '', '', '', '', '', '', '', '', '', '', '', '', '', '', '', '', '', '', '', '', '', '', '', '', '', '', '', '', '', '', '', '', '', '', '', '']\n",
            "['', '', '', '', '', '', '', '', '', '', '札幌市', '', '青森市', '', '盛岡市', '', '仙台市', '', '秋田市', '', '山形市', '', '福島市', '', '水戸市', '', '宇都宮市', '', '前橋市', '', 'さいたま市', '', '千葉市', '', '東京都区部', '', '横浜市', '', '新潟市', '', '富山市', '', '金沢市', '', '福井市', '', '甲府市', '', '長野市', '', '岐阜市', '', '静岡市', '', '名古屋市', '', '津市', '', '大津市', '', '京都市', '', '大阪市', '', '神戸市', '', '奈良市', '', '和歌山市', '', '鳥取市', '', '松江市', '', '岡山市', '', '広島市', '', '山口市', '', '徳島市', '', '高松市', '', '松山市', '', '高知市', '', '福岡市', '', '佐賀市', '', '長崎市', '', '熊本市', '', '大分市', '', '宮崎市', '', '鹿児島市', '', '那覇市', '', '川崎市', '', '相模原市', '', '浜松市', '', '堺市', '', '北九州市', '']\n",
            "['', '', '', '', '', '', '', '', '', '', '', '', '', '', '', '', '', '', '', '', '', '', '', '', '', '', '', '', '', '', '', '', '', '', '', '', '', '', '', '', '', '', '', '', '', '', '', '', '', '', '', '', '', '', '', '', '', '', '', '', '', '', '', '', '', '', '', '', '', '', '', '', '', '', '', '', '', '', '', '', '', '', '', '', '', '', '', '', '', '', '', '', '', '', '', '', '', '', '', '', '', '', '', '', '', '', '', '', '', '', '', '', '', '']\n",
            "['', '', '', '', '', '', '', '', '品   目   分   類', '', '購入頻度', '', '購入頻度', '', '購入頻度', '', '購入頻度', '', '購入頻度', '', '購入頻度', '', '購入頻度', '', '購入頻度', '', '購入頻度', '', '購入頻度', '', '購入頻度', '', '購入頻度', '', '購入頻度', '', '購入頻度', '', '購入頻度', '', '購入頻度', '', '購入頻度', '', '購入頻度', '', '購入頻度', '', '購入頻度', '', '購入頻度', '', '購入頻度', '', '購入頻度', '', '購入頻度', '', '購入頻度', '', '購入頻度', '', '購入頻度', '', '購入頻度', '', '購入頻度', '', '購入頻度', '', '購入頻度', '', '購入頻度', '', '購入頻度', '', '購入頻度', '', '購入頻度', '', '購入頻度', '', '購入頻度', '', '購入頻度', '', '購入頻度', '', '購入頻度', '', '購入頻度', '', '購入頻度', '', '購入頻度', '', '購入頻度', '', '購入頻度', '', '購入頻度', '', '購入頻度', '', '購入頻度', '', '購入頻度', '', '購入頻度', '', '購入頻度', '', '購入頻度', '']\n"
          ],
          "name": "stdout"
        }
      ]
    },
    {
      "cell_type": "markdown",
      "metadata": {
        "id": "xkzCNbhDpbOT"
      },
      "source": [
        "このように、エクセルシートの[構造]を知ることで、    \n",
        "やりたい操作を系統的に実行することができます。  \n",
        "\n",
        "予めファイルを開いて[構造]を確認するのも良いでしょう。  \n",
        "このエクセルを実際に開くと、  \n",
        "Sheet1からSheet12までが複数都市の家計調査のデータで、  \n",
        "S1からS12までが気候データになっていて、  \n",
        "1-12までの数字が2017年の1月から12月までに対応していることが分かります。\n",
        "\n",
        "実際のデータを触っていると、  \n",
        "「2006年までとそれ以降とでデータファイル(.xlsx)の\"構造\"が違う」  \n",
        "といったことも出てきます。  \n",
        "最初は特定のものに合わせたコードを作り、  \n",
        "徐々に\"汎用性の高い\"コードにしていくのがよいでしょう。\n",
        "\n",
        "このエクセルを使って実際に作業をするには、  \n",
        "[細かいライブラリの使い方]などを説明することになるため   \n",
        "授業ではやらず、以下の\"おまけ\"にいれておきます。  \n",
        "この作業や実践DSに限らず\n",
        "* 自分がやりたい操作をきちんと言語化する\n",
        "* 公式ドキュメントやWebから情報を探す\n",
        "* とにかく試してみる\n",
        "\n",
        "という意識が重要です。\n"
      ]
    },
    {
      "cell_type": "markdown",
      "metadata": {
        "id": "av5JlFQiKLst"
      },
      "source": [
        "### おまけ"
      ]
    },
    {
      "cell_type": "markdown",
      "metadata": {
        "id": "HJJ1Rd9XkITb"
      },
      "source": [
        "以下のコードは、プログラミングの\"ありがたみ\"を感じてもらうためのお試し用です。   \n",
        "昔書いたコードなのですが、かなり読みにくいコードなのであまり真剣に読まないでください.\n",
        "\n",
        "**大量の画像ファイルをドライブに生成するので、以下を読んだ上で実行してください**\n",
        "\n",
        "以下のコードたちを何もいじらずに実行すると、  \n",
        "全都市の月別平均気温と全品目の世帯平均支出のうち、  \n",
        "相関係数の絶対値が0.9以上のもの(291通り)をプロットして画像として保存します。  \n",
        "```pthre```の値を小さくすると、生成される画像の数がべらぼうに増えるので注意してください。  \n",
        "(0.9 =>  291通り, 0.8 => 1234通り, 0.7 => 2871通り, 0.6 => 5233通り, 0.5 => 8375通り, 0.0 => 32876通り)\n",
        "\n",
        "Google Colab上で実行して291枚の画像が生成されるまでに110秒程度かかりました  \n",
        "(私の手元のPCでは通信がない分か、数十秒-90秒くらい).  \n",
        "この時間未満でエクセルで操作をして同様の処理を完了出来るという方は...  \n",
        "おそらく地球上にいないでしょう(要出典)\n",
        "\n"
      ]
    },
    {
      "cell_type": "code",
      "metadata": {
        "id": "ALOn2XR5lfT-",
        "colab": {
          "base_uri": "https://localhost:8080/"
        },
        "outputId": "b83a2bbe-3ae1-4f5f-a573-7b376ae36455"
      },
      "source": [
        "!mkdir /content/drive/My\\ Drive/AdDS2020/kakei_cor_pic # 画像がいっぱい生成されると面倒なので画像を保存するフォルダを作成しておく"
      ],
      "execution_count": null,
      "outputs": [
        {
          "output_type": "stream",
          "text": [
            "mkdir: cannot create directory ‘/content/drive/My Drive/AdDS2020/kakei_cor_pic’: File exists\n"
          ],
          "name": "stdout"
        }
      ]
    },
    {
      "cell_type": "code",
      "metadata": {
        "id": "dsPxfNhrr5e2",
        "colab": {
          "base_uri": "https://localhost:8080/"
        },
        "outputId": "2af7bb0f-ed45-4f75-b5d1-92ccc6e0f129"
      },
      "source": [
        "!pip install japanize_matplotlib #japanize_matplotlibモジュールのインストール. 一度実行すれば良い"
      ],
      "execution_count": null,
      "outputs": [
        {
          "output_type": "stream",
          "text": [
            "Collecting japanize_matplotlib\n",
            "\u001b[?25l  Downloading https://files.pythonhosted.org/packages/aa/85/08a4b7fe8987582d99d9bb7ad0ff1ec75439359a7f9690a0dbf2dbf98b15/japanize-matplotlib-1.1.3.tar.gz (4.1MB)\n",
            "\u001b[K     |████████████████████████████████| 4.1MB 2.7MB/s \n",
            "\u001b[?25hRequirement already satisfied: matplotlib in /usr/local/lib/python3.6/dist-packages (from japanize_matplotlib) (3.2.2)\n",
            "Requirement already satisfied: kiwisolver>=1.0.1 in /usr/local/lib/python3.6/dist-packages (from matplotlib->japanize_matplotlib) (1.3.1)\n",
            "Requirement already satisfied: pyparsing!=2.0.4,!=2.1.2,!=2.1.6,>=2.0.1 in /usr/local/lib/python3.6/dist-packages (from matplotlib->japanize_matplotlib) (2.4.7)\n",
            "Requirement already satisfied: cycler>=0.10 in /usr/local/lib/python3.6/dist-packages (from matplotlib->japanize_matplotlib) (0.10.0)\n",
            "Requirement already satisfied: numpy>=1.11 in /usr/local/lib/python3.6/dist-packages (from matplotlib->japanize_matplotlib) (1.18.5)\n",
            "Requirement already satisfied: python-dateutil>=2.1 in /usr/local/lib/python3.6/dist-packages (from matplotlib->japanize_matplotlib) (2.8.1)\n",
            "Requirement already satisfied: six in /usr/local/lib/python3.6/dist-packages (from cycler>=0.10->matplotlib->japanize_matplotlib) (1.15.0)\n",
            "Building wheels for collected packages: japanize-matplotlib\n",
            "  Building wheel for japanize-matplotlib (setup.py) ... \u001b[?25l\u001b[?25hdone\n",
            "  Created wheel for japanize-matplotlib: filename=japanize_matplotlib-1.1.3-cp36-none-any.whl size=4120275 sha256=99ba18f56cc73c5c34b25d80ecc96b7f6e1033f5c4a97379eec6f6ed1f4f7c22\n",
            "  Stored in directory: /root/.cache/pip/wheels/b7/d9/a2/f907d50b32a2d2008ce5d691d30fb6569c2c93eefcfde55202\n",
            "Successfully built japanize-matplotlib\n",
            "Installing collected packages: japanize-matplotlib\n",
            "Successfully installed japanize-matplotlib-1.1.3\n"
          ],
          "name": "stdout"
        }
      ]
    },
    {
      "cell_type": "code",
      "metadata": {
        "id": "rZHYbCjWmXgG",
        "colab": {
          "base_uri": "https://localhost:8080/"
        },
        "outputId": "45758582-08a7-44f9-be40-f6a19c8971b9"
      },
      "source": [
        "import xlrd\n",
        "import numpy as np\n",
        "import pandas as pd\n",
        "from matplotlib import pyplot as plt\n",
        "import japanize_matplotlib\n",
        "import time\n",
        "\n",
        "class ebook:\n",
        "    def __init__(self,inpf):\n",
        "        self.inpf = inpf\n",
        "        self.wb = xlrd.open_workbook(inpf)\n",
        "        self.sheets = self.wb.sheets\n",
        "        self.ns,self.sname = self.wb.nsheets, self.wb.sheet_names()\n",
        "        s_kikou=[]; s_kakei=[]\n",
        "        for i, sheetname in enumerate(self.sname):\n",
        "            if \"Sheet\" in sheetname :\n",
        "                s_kakei += [ i ]\n",
        "            elif \"S\" in sheetname :\n",
        "                s_kikou += [ i ]\n",
        "        self.s_kakei,self.s_kikou = s_kakei,s_kikou\n",
        "    def indices(self):\n",
        "        return self.s_kakei, self.s_kikou\n",
        "    def readkakei(self,ikakei) :\n",
        "        ws = self.wb.sheet_by_index(ikakei)\n",
        "        nr = ws.nrows; nc=ws.ncols\n",
        "        premode = True\n",
        "        items = []\n",
        "        for ii in range(nr): \n",
        "            trow = ws.row_values(ii)\n",
        "            hit = 0\n",
        "            if premode == True:\n",
        "                for jj,tmp in enumerate(trow):\n",
        "                    try :\n",
        "                        if \"市\" in tmp:\n",
        "                            hit += 1\n",
        "                    except:\n",
        "                        hit = hit\n",
        "                if hit > 5:\n",
        "                    premode=False\n",
        "                    i_kakei=[];p_kakei=[]\n",
        "                    for jj,tmp in enumerate(trow):\n",
        "                        if \"市\" in tmp:\n",
        "                            i_kakei += [jj]\n",
        "                            p_kakei +=[ tmp ] \n",
        "                    v_kakei = [ ]\n",
        "            else:                    \n",
        "                if ii >= 22:\n",
        "                    if type(trow[8]) is str and trow[8] != \"\":\n",
        "                        v_kakei += [ [trow[jj+1] for jj in i_kakei] ]\n",
        "                        items += [trow[8]]                         \n",
        "        return i_kakei, p_kakei, v_kakei,items\n",
        "    def readkikou(self,ikikou):\n",
        "        ws = self.wb.sheet_by_index(ikikou)\n",
        "        nr = ws.nrows; nc=ws.ncols\n",
        "        quantities = [];v_kikou=[]\n",
        "        premode=True\n",
        "        for ii in range(nr): \n",
        "            trow = ws.row_values(ii)\n",
        "            if premode :\n",
        "                if any([\"市\" in tmp for tmp in trow]):\n",
        "                    Tplaces = trow[1:]\n",
        "                    premode=False\n",
        "            else:\n",
        "                quantities += [ trow[0] ]\n",
        "                v_kikou += [ trow[1:] ]\n",
        "        return Tplaces, v_kikou,quantities\n",
        "\n",
        "def seasoncolor(month):\n",
        "    if month <= 2 or month ==12:\n",
        "        return \"blue\"\n",
        "    elif 3 <= month <=5:\n",
        "        return \"green\"\n",
        "    elif 6 <= month <=8:\n",
        "        return \"red\"\n",
        "    elif 9<= month <=11:\n",
        "        return \"orange\"\n",
        "    return tcol\n",
        "\n",
        "def plot_cor(x,y,item,quantity,place,corrcoef):    \n",
        "    fig = plt.figure(figsize=(4,4))\n",
        "    ax = fig.add_subplot(1,1,1)\n",
        "    ax.set_facecolor(\"#e0e0e0\")\n",
        "    ax.set_title(place+\"   r=\"+str(\"%8.2f\" % corrcoef).strip())\n",
        "    ax.set_xlabel(item);ax.set_ylabel(quantity)\n",
        "    ax.grid(True,axis=\"both\",color=\"w\", linestyle=\"dotted\", linewidth=0.8)\n",
        "    for i in range(len(x)):\n",
        "        tcol=seasoncolor(i+1)\n",
        "        ax.scatter(x[i],y[i],marker=\"o\",s=5,color=tcol,zorder=20000,alpha=0.7)\n",
        "        ax.text(x[i],y[i],str(i+1)+\"月\",color=\"k\",fontsize=8)\n",
        "    plt.savefig(oupdir + \"corr_\"+item+\"vs\"+quantity+\"_at_\"+place+\".png\",dpi=300) \n",
        "    plt.close()\n",
        "\n",
        "def calcor(date,places,items, Vs_kakei,Tplaces,quantities,Vs_kikou):\n",
        "    hit = 0; num_pic=0\n",
        "    Vs = [] \n",
        "    for j_K,place in enumerate(places):\n",
        "        for j_T, Tplace in enumerate(Tplaces):\n",
        "            if place != Tplace :\n",
        "                continue\n",
        "            for ik,item in enumerate(items):\n",
        "                kvalue = np.array([ Vs_kakei[i][ik][j_K] for i in range(len(Vs_kakei))])\n",
        "                quantity=quantities[iT]\n",
        "                Tvalue = np.array([ Vs_kikou[i][iT][j_T] for i in range(len(Vs_kikou))])\n",
        "                if all(Tvalue) == 0.0: ## missing value in climate data\n",
        "                    continue\n",
        "                if printlog:\n",
        "                    print(\"@\", place,\" \",item,kvalue,\" VS \",quantity, \",\",Tvalue)\n",
        "                corrcoef=np.corrcoef(kvalue,Tvalue)[0][1]\n",
        "                Vs += [ [ corrcoef, item, quantity, place] ]\n",
        "                if abs(corrcoef) > pthre:\n",
        "                    hit += 1\n",
        "                    if pltmode==True:\n",
        "                        plot_cor(kvalue,Tvalue,item,quantity,place,corrcoef)                       \n",
        "                        num_pic += 1\n",
        "    print(\"hit:\",hit, \" number of picture\", num_pic)\n",
        "\n",
        "if __name__ == \"__main__\":\n",
        "    ti=time.time()\n",
        "    T=True; F=False\n",
        "    global oupdir #保存するディレクトリ名\n",
        "    global iT \n",
        "\n",
        "    inpf = \"/content/drive/My Drive/AdDS2020/kakei.xlsx\"\n",
        "    oupdir = \"/content/drive/My Drive/AdDS2020/kakei_cor_pic/\" #適宜置き換える\n",
        "    iT = 6  # iT=6: 日平均気温\n",
        "    printlog= F #条件にhitした都市の品目と気候データを逐次printするかどうか. (Fを推奨)\n",
        "    pthre= 0.90 ## corrplotを描く相関係数のthreshold \n",
        "    pltmode = T ## T:plotする F:計算のみ ** 画像をいちいちplotして保存する必要がない場合Fを推奨\n",
        "    year=\"2017\" \n",
        "\n",
        "    wb=ebook(inpf)\n",
        "    s_kakei,s_kikou=wb.indices()   \n",
        "    Vs_kakei=[]; Vs_kikou=[];dates=[]\n",
        "    for i,ind_kakei in enumerate(s_kakei):\n",
        "        i_places,places, v_kakei,items = wb.readkakei(ind_kakei)\n",
        "        Tplaces, v_kikou, quantities  = wb.readkikou(s_kikou[i])\n",
        "        if i+1 < 10:\n",
        "            date=year+\"0\"+str(i+1)\n",
        "        else:\n",
        "            date=year+str(i+1)\n",
        "        dates += [date]\n",
        "        Vs_kakei += [ v_kakei ]\n",
        "        Vs_kikou += [ v_kikou ]\n",
        "    calcor(dates,places,items,Vs_kakei,Tplaces,quantities,Vs_kikou)    \n",
        "\n",
        "    tf=time.time()\n",
        "    print(\"Elapced time[sec]:\", tf-ti)"
      ],
      "execution_count": null,
      "outputs": [
        {
          "output_type": "stream",
          "text": [
            "/usr/local/lib/python3.6/dist-packages/numpy/lib/function_base.py:2534: RuntimeWarning: invalid value encountered in true_divide\n",
            "  c /= stddev[:, None]\n",
            "/usr/local/lib/python3.6/dist-packages/numpy/lib/function_base.py:2535: RuntimeWarning: invalid value encountered in true_divide\n",
            "  c /= stddev[None, :]\n"
          ],
          "name": "stderr"
        },
        {
          "output_type": "stream",
          "text": [
            "hit: 32  number of picture 32\n",
            "Elapced time[sec]: 46.80077767372131\n"
          ],
          "name": "stdout"
        }
      ]
    },
    {
      "cell_type": "markdown",
      "metadata": {
        "id": "jH_bE8PSMP89"
      },
      "source": [
        "## パスの指定\n",
        "\n",
        "ファイルがコンピュータ上でどこにあるかを指し示す文字列はファイルパス(path)と呼ばれる。  \n",
        "上の```\"/content/drive/My Drive/XXX.png\"```もファイルパスの一例になっている。\n",
        "\n",
        "たとえば...  \n",
        ">[Sota]というユーザの[ドキュメント] (あるいは[書類])フォルダに  \n",
        "[csv_file]というフォルダがあり  \n",
        "[test.csv]というcsvファイルが入っている\n",
        "\n",
        "とするとそのファイルを指し示すパスは  \n",
        "Windowsの場合→ ```C:\\Users\\Sota\\Douments\\csv_file\\test.csv```  \n",
        "macOSの場合→ ```/Users/Sota/Documents/csv_file/test.csv```\n",
        "となる。\n",
        "\n",
        "注:  \n",
        "* Cドライブかどうかは皆さんのディスク環境に依存\n",
        "* Google Colab.環境では、Unix(Mac)やLinuxと同様の方式(スラッシュを使用)  \n",
        "* バックスラッシュ\\はWindowsの日本語環境では¥円記号で表示される  \n",
        "(プログラムなどを書く人には厄介な仕様だったりする)  \n",
        "\n",
        "コンピュータには、ホームディレクトリというものが指定されており、  \n",
        "Windowsなら ```C:\\Users\\ユーザー名```  \n",
        "Macなら ```/Users/ユーザー名```  \n",
        "に通常設定されていて、ユーザーがよく使うデスクトップや  \n",
        "写真・ドキュメントなどのフォルダはホームディレクトリ直下に配置されている。  \n",
        "また、ホームディレクトリは```~/```で簡略化して指定することもできる。  \n",
        "\n",
        "OSにもよるが...ライトユーザーは、  \n",
        "ホームディレクトリより上の階層をあまり触らないことが推奨されている(と思う)。  \n",
        "理由は、システムファイルが入っていることが多いため。\n",
        "\n",
        "パスの指定の仕方にはその他にも方法があり、  \n",
        "ピリオドやスラッシュを駆使して  \n",
        "現在のディレクトリからの[相対パス]で指定する事もできる。\n",
        "\n",
        "\n",
        "たとえば...   \n",
        "Home  \n",
        "├ Documents  \n",
        "│└─ AdDS2020  \n",
        "││   　└─ Report1  \n",
        "││   　│　 └─ StudentA  \n",
        "││   　│　 └─ StudentB  \n",
        "││   　└─ Report2  \n",
        "│└─ AdDS2019  \n",
        "├ Picures  \n",
        "︙\n",
        "\n",
        "こういう階層構造になっていて、現在```Home/Documents/AdDS2020/Report1```という\n",
        "ディレクトリにいるとすると、\n",
        "そこから\n",
        "* StudentAへの相対パスは ```./StudentA```\n",
        "* Report2への相対パスは ```../Report2```\n",
        "* AdDS2019への相対パスは ```../../AdDS2019```\n",
        "* Pictureへの相対パスは```../../../Pictures```\n",
        "\n",
        "といった感じ。\n",
        "\n",
        "\n",
        "前述のように愚直にReport1フォルダを指定するときは  \n",
        "```/Users/Sota/Documents/AdDS2020/Report1```  \n",
        "といった感じで、これを相対パスと対比させて絶対パスと呼んだりする。"
      ]
    },
    {
      "cell_type": "markdown",
      "metadata": {
        "id": "kkrEMQUfhqzA"
      },
      "source": [
        "## 余談: ファイル名に使用すべきでない文字\n",
        "\n",
        "授業で公開しているノートブックの名前は基本的に  \n",
        "半角英数字とアンダースコアのみで構成されている。   \n",
        "これは別に吉田がイキってる訳ではない。  \n",
        "\n",
        "* 半角スペース(以下␣という記号で表現する)\n",
        "* 各種括弧 (),{},[]\n",
        "* カンマ ,\n",
        "* ピリオド .\n",
        "* ハイフン -\n",
        "* スラッシュ /\n",
        "* エクスクラメーションマーク !\n",
        "* 円記号(バックスラッシュ) ¥\n",
        "* その他、機種依存文字などはもちろん、全角記号等\n",
        "\n",
        "などは、(プログラムで扱う予定がある)ファイルの名前には使用しないことが推奨される。  \n",
        "理由は色々あるが\n",
        "\n",
        "1. 機械の解釈にambiguityが生じる\n",
        "2. (1.により人間側の操作が増えて)面倒\n",
        "\n",
        "というところに尽きると思う。\n",
        "\n",
        "例を示そう。  \n",
        "Google Colab.上では冒頭に!を付けることで、  \n",
        "以下に例を示すようなLinuxコマンドを実行できる。\n",
        "\n",
        "```!ls hogehoge.pdf``` #← lsコマンド　リスト(該当ファイル等)を表示  \n",
        "```!mkdir hogehoge``` #← make directoryコマンド  \n",
        "```!rm hogehoge``` #←remove(削除)コマンド  "
      ]
    },
    {
      "cell_type": "markdown",
      "metadata": {
        "id": "i7-Lssixk1ig"
      },
      "source": [
        "たとえば半角スペースが入った```test␣.pdf```というファイルがあったとする。  \n",
        "これをlsコマンドで表示させようとして"
      ]
    },
    {
      "cell_type": "code",
      "metadata": {
        "id": "N1F1pV8VlC1D",
        "colab": {
          "base_uri": "https://localhost:8080/"
        },
        "outputId": "b6d6951c-ae27-490f-ddbf-cb1c5dfc2218"
      },
      "source": [
        "!ls test .pdf"
      ],
      "execution_count": null,
      "outputs": [
        {
          "output_type": "stream",
          "text": [
            "ls: cannot access 'test': No such file or directory\n",
            "ls: cannot access '.pdf': No such file or directory\n"
          ],
          "name": "stdout"
        }
      ]
    },
    {
      "cell_type": "markdown",
      "metadata": {
        "id": "sutfe0sRlMvO"
      },
      "source": [
        "という命令を行うと、```test␣.pdf```という指定ではなく  \n",
        "```test```と```.pdf```が存在するかどうかを尋ねる命令になってしまう。  \n",
        "これは、機械にとっては半角スペースはコマンド文の区切りを意味するためである。"
      ]
    },
    {
      "cell_type": "markdown",
      "metadata": {
        "id": "A7ZpPbvNlhXz"
      },
      "source": [
        "この場合、```test␣.pdf```の有無を調べたければ。\n",
        "別途バックスラッシュを入れて「記号としての空白です」と機械に教えなくてはならない。"
      ]
    },
    {
      "cell_type": "code",
      "metadata": {
        "id": "CY2mAGNglsQM",
        "colab": {
          "base_uri": "https://localhost:8080/"
        },
        "outputId": "8c4d4004-91c5-4a40-e050-1c7f5e7f98e2"
      },
      "source": [
        "!ls test\\ .pdf"
      ],
      "execution_count": null,
      "outputs": [
        {
          "output_type": "stream",
          "text": [
            "ls: cannot access 'test .pdf': No such file or directory\n"
          ],
          "name": "stdout"
        }
      ]
    },
    {
      "cell_type": "markdown",
      "metadata": {
        "id": "EdGMWvKBmIyQ"
      },
      "source": [
        "といった具合に、人間側の手間が必要になってしまう。\n",
        "\n",
        "たとえばスラッシュ```/```記号も、  \n",
        "ディレクトリ階層を指定する記号として通常使われる。  \n",
        "たとえばMacで```/```という名前のディレクトリを作って  \n",
        "(Unix)ターミナルからそのディレクトリを覗こうとすると  \n",
        "フォルダ名は```Desktop:```となる。\n",
        "\n",
        "人間が目で見るフォルダ名と機械に与えるべきパスが異なるというのは...  \n",
        "やっぱり色んな場面で不便が生じる。\n",
        "\n",
        "上記の記号や\"２バイト文字\"はファイル(フォルダ)名に使わないのが  \n",
        "コンピューターにとっては無難なのだ。\n",
        "\n",
        "こういうことは小中高や大学でも理由付きで教えてくれなかったりするので、  \n",
        "プログラミングをやって初めて気がつく(気にするようになった)という人も多いかも。\n"
      ]
    }
  ]
}
