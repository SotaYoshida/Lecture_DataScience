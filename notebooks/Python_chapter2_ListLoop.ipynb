{
  "nbformat": 4,
  "nbformat_minor": 0,
  "metadata": {
    "colab": {
      "name": "Python_chapter2_ListLoop.ipynb",
      "provenance": [],
      "toc_visible": true,
      "include_colab_link": true
    },
    "kernelspec": {
      "name": "python3",
      "display_name": "Python 3"
    }
  },
  "cells": [
    {
      "cell_type": "markdown",
      "metadata": {
        "id": "view-in-github",
        "colab_type": "text"
      },
      "source": [
        "<a href=\"https://colab.research.google.com/github/SotaYoshida/Lecture_DataScience/blob/2021/notebooks/Python_chapter2_ListLoop.ipynb\" target=\"_parent\"><img src=\"https://colab.research.google.com/assets/colab-badge.svg\" alt=\"Open In Colab\"/></a>"
      ]
    },
    {
      "cell_type": "markdown",
      "metadata": {
        "id": "9f041YDhyHKb"
      },
      "source": [
        "\n",
        "# Pythonの基本 その２: \n",
        "\n",
        "\n",
        "[この章の目的]\n",
        "プログラミングで非常に重要な概念である配列や繰り返し処理について学ぶ。\n"
      ]
    },
    {
      "cell_type": "markdown",
      "metadata": {
        "id": "FxEjmIHu3StG"
      },
      "source": [
        "## リスト\n",
        "\n",
        "実際にいろんなデータを扱う際には、  値や変数をまとめて処理したくなります。  \n",
        "こうしたときに必要になるのが以下で扱う[リスト]型の変数です。\n",
        "\n",
        "リスト型は、値や変数などを括弧[ ]で括り、カンマで区切ることで作ることができます。\n",
        "\n",
        "```[1.0, 2.0, 3.0]```  \n",
        "また好きな名前の変数にリストを代入する(リストに名前を割り振る)こともできます"
      ]
    },
    {
      "cell_type": "code",
      "metadata": {
        "id": "dxpkCjfvjsDD",
        "colab": {
          "base_uri": "https://localhost:8080/"
        },
        "outputId": "05c4508c-8a0a-4cf9-899a-773c4d94bd69"
      },
      "source": [
        "a=[178.0, 180.0, 153.0]\n",
        "print(a)\n",
        "print(\"変数aの型(type)は\", type(a))  # 変数aの型をprint"
      ],
      "execution_count": null,
      "outputs": [
        {
          "output_type": "stream",
          "name": "stdout",
          "text": [
            "[178.0, 180.0, 153.0]\n",
            "変数aの型(type)は <class 'list'>\n"
          ]
        }
      ]
    },
    {
      "cell_type": "markdown",
      "metadata": {
        "id": "CI7AqILkzWYY"
      },
      "source": [
        "リストの要素にできるのは数値だけではなく、文字列のリストも作ることができます。"
      ]
    },
    {
      "cell_type": "code",
      "metadata": {
        "id": "a7c5bw5O36CC"
      },
      "source": [
        "b = [ \"Aさん\", \"Bさん\", \"宇大太郎さん\"]"
      ],
      "execution_count": null,
      "outputs": []
    },
    {
      "cell_type": "markdown",
      "metadata": {
        "id": "SkfATN0Jj_Oo"
      },
      "source": [
        "リストに入っている要素の数は、len関数(lengthの略)で見ることができます。"
      ]
    },
    {
      "cell_type": "code",
      "metadata": {
        "id": "nexyb9lAkJC0",
        "colab": {
          "base_uri": "https://localhost:8080/"
        },
        "outputId": "fb6fda33-3e49-4c65-fc78-5204f0963c80"
      },
      "source": [
        "print(\"リストaは\", a)\n",
        "print(\"長さは\", len(a))"
      ],
      "execution_count": null,
      "outputs": [
        {
          "output_type": "stream",
          "name": "stdout",
          "text": [
            "リストaは [178.0, 180.0, 153.0]\n",
            "長さは 3\n"
          ]
        }
      ]
    },
    {
      "cell_type": "markdown",
      "metadata": {
        "id": "7NWIj0tWzxGa"
      },
      "source": [
        "当然、長さに名前をつけて適当な変数に突っ込むこともできます。\n"
      ]
    },
    {
      "cell_type": "code",
      "metadata": {
        "id": "yQWDGLFCmszW",
        "colab": {
          "base_uri": "https://localhost:8080/"
        },
        "outputId": "77c74baa-c1d8-4243-8cf2-b471b4723389"
      },
      "source": [
        "ln_a = len(a)\n",
        "print(\"リストaの長さは\", len(a), \"で、型は\", type(ln_a)) "
      ],
      "execution_count": null,
      "outputs": [
        {
          "output_type": "stream",
          "name": "stdout",
          "text": [
            "リストaの長さは 3 で、型は <class 'int'>\n"
          ]
        }
      ]
    },
    {
      "cell_type": "markdown",
      "metadata": {
        "id": "gjwXE2cJz05q"
      },
      "source": [
        "文字列と値を組み合わせたようなリストも作ることができます。\n",
        "(例：名前、身長、体重)  \n",
        "```[\"Aさん\", 178, 66]```\n",
        "\n",
        "また、これを拡張して、入れ子に(リストのリストを作成)することもできます。\n",
        "\n",
        "``` [ [\"Aさん\", 178,66], [\"Bさん\", 180, 70] ]```"
      ]
    },
    {
      "cell_type": "markdown",
      "metadata": {
        "id": "8kVQe42tkK-D"
      },
      "source": [
        "リストの中の要素にアクセスするときは、半角括弧を使って[整数]といった形で\"番地\"を指定します。  \n",
        "このときの番地(あるいは座標といっても良いですが)を指定する整数のことをインデックス(index)と呼びます。  \n",
        "Pythonでは、要素にアクセスするためのインデックスは１からではなく、0からカウントします。  \n",
        "\n"
      ]
    },
    {
      "cell_type": "code",
      "metadata": {
        "id": "kRMlRuwhj2Rc",
        "colab": {
          "base_uri": "https://localhost:8080/"
        },
        "outputId": "dabbeb45-5e5f-4bbe-ad9e-ab8f2456d056"
      },
      "source": [
        "a = [\"Aさん\", 178, 66]\n",
        "print(a[0])\n",
        "print(a[1])\n",
        "print(a[2])"
      ],
      "execution_count": null,
      "outputs": [
        {
          "output_type": "stream",
          "name": "stdout",
          "text": [
            "Aさん\n",
            "178\n",
            "66\n"
          ]
        }
      ]
    },
    {
      "cell_type": "markdown",
      "metadata": {
        "id": "Ci65y6MBoSvU"
      },
      "source": [
        "ですので、a[3]にアクセスしようとすると、\n"
      ]
    },
    {
      "cell_type": "code",
      "metadata": {
        "id": "mkON3qP1occT",
        "colab": {
          "base_uri": "https://localhost:8080/",
          "height": 168
        },
        "outputId": "82aba27a-4b87-460c-8da0-d2c78005d42f"
      },
      "source": [
        "print(a[3])"
      ],
      "execution_count": null,
      "outputs": [
        {
          "output_type": "error",
          "ename": "IndexError",
          "evalue": "ignored",
          "traceback": [
            "\u001b[0;31m---------------------------------------------------------------------------\u001b[0m",
            "\u001b[0;31mIndexError\u001b[0m                                Traceback (most recent call last)",
            "\u001b[0;32m<ipython-input-8-5451d47c444b>\u001b[0m in \u001b[0;36m<module>\u001b[0;34m()\u001b[0m\n\u001b[0;32m----> 1\u001b[0;31m \u001b[0mprint\u001b[0m\u001b[0;34m(\u001b[0m\u001b[0ma\u001b[0m\u001b[0;34m[\u001b[0m\u001b[0;36m3\u001b[0m\u001b[0;34m]\u001b[0m\u001b[0;34m)\u001b[0m\u001b[0;34m\u001b[0m\u001b[0;34m\u001b[0m\u001b[0m\n\u001b[0m",
            "\u001b[0;31mIndexError\u001b[0m: list index out of range"
          ]
        }
      ]
    },
    {
      "cell_type": "markdown",
      "metadata": {
        "id": "zHlSjTaJn9UU"
      },
      "source": [
        "list index out of range (リストのインデックスが用意された範囲(range)を逸脱している)というエラーが出ます。  \n",
        "  \n",
        "\n",
        "慣れないうちは0からカウントするのを変に思うかもしれませんが、  \n",
        "これはプログラミング言語の仕様によるもので、Pythonの他にもC/C++なども0からカウントします。  \n",
        "\n",
        "(ちなみにFORTRAN, Juliaなどは1からカウントします。)\n",
        "\n",
        "ググると、こうした0-based indexingと呼ばれる言語の利点がいくつか出てきます。  \n",
        "(正直私の好みは1-based indexingです)  \n",
        "代表的なものは負のインデックスが自然に使えることでしょうか？"
      ]
    },
    {
      "cell_type": "code",
      "metadata": {
        "id": "D_hxwmblo4GK",
        "colab": {
          "base_uri": "https://localhost:8080/",
          "height": 68
        },
        "outputId": "10de7c9e-f89e-4c15-cb77-aba93985fa27"
      },
      "source": [
        "print(a)\n",
        "print(a[-1])\n",
        "print(a[-2])"
      ],
      "execution_count": null,
      "outputs": [
        {
          "output_type": "stream",
          "text": [
            "['Aさん', 178, 66]\n",
            "66\n",
            "178\n"
          ],
          "name": "stdout"
        }
      ]
    },
    {
      "cell_type": "markdown",
      "metadata": {
        "id": "zGabsr9X4CcI"
      },
      "source": [
        "**(編集注:10/25の続きはここから)**"
      ]
    },
    {
      "cell_type": "markdown",
      "metadata": {
        "id": "--1OHCHKo9An"
      },
      "source": [
        "[-1]でアクセスすれば末尾の要素に、[-2]番目の要素は後ろから二番目といった具合です。\n",
        "\n",
        "長いリストを作って「えっとこれ前から何番目の要素だったっけ...？」というときに、  \n",
        "後ろから３番目の要素をサクッと取得できるのが便利なときもあります。\n",
        "\n",
        "入れ子にしたリストの要素を見たり、使いたいときには、少々慣れが必要です。  \n",
        "```a = [ [[1,2], [3,4]], 5, 6]```  \n",
        "このような場合では、一番外側の括弧から数えて、  \n",
        "何番目の階層になっているかを考えることが必要になります。  \n",
        "練習してみましょう。\n"
      ]
    },
    {
      "cell_type": "markdown",
      "metadata": {
        "id": "_yXPKxkk1XYh"
      },
      "source": [
        "**練習1**\n",
        "\n",
        "\n",
        "1.   [+コード]でセルを以下に追加し、下のリストを作成する  \n",
        "```tmp = [ [\"Aさん\", 178,66], [\"Bさん\", 180, 70] ]```\n",
        "2.    ```tmp[i][j]```のi,jに可能な整数を入れて、Aさんの身長、Bさんの体重などをprint関数で表示してみましょう。\n",
        "\n",
        "3.   2.と同じことを、負のインデックスを駆使してやってみましょう。\n",
        "\n",
        "4.   ```a = [ [[1,2], [3,4]], 5, 6]```を作成して、\n",
        "     len(a[0]) #0番目の要素の数をprintしてみましょう。\n",
        "5.   ```print(a[0][0][1])```を実行してみましょう。\n",
        "\n",
        "6.   4.5.の挙動から推測して、aのリストの中から４を取り出したい場合どうすればいいのかprint関数を使いながら考えてみましょう。\n",
        "\n",
        "\n",
        "\n",
        "\n"
      ]
    },
    {
      "cell_type": "code",
      "metadata": {
        "id": "8Nd1FeZynI9W"
      },
      "source": [
        "a = [ [[1,2], [3,4]], 5, 6]"
      ],
      "execution_count": null,
      "outputs": []
    },
    {
      "cell_type": "markdown",
      "metadata": {
        "id": "ZB9epIx_VAQ6"
      },
      "source": [
        "\n",
        "---\n",
        "\n",
        "### リストの結合\n",
        "\n",
        "２つのリストを結合することもできます。"
      ]
    },
    {
      "cell_type": "code",
      "metadata": {
        "id": "YUsuP81s3_BG"
      },
      "source": [
        "a=[1,3]; b=[2,4]\n",
        "a+b"
      ],
      "execution_count": null,
      "outputs": []
    },
    {
      "cell_type": "markdown",
      "metadata": {
        "id": "hfEDbcvd6bFE"
      },
      "source": [
        "\n",
        "上のリストを\"座標\"だと思えば、要素ごとの和になってほしいような気もしますが、  \n",
        "リストの足し算は要素ごとの和ではなく、リストの結合を意味します。\n",
        "\n",
        "> (注) 要素ごとの和のような、数学などで必要な演算は、  \n",
        "以降で扱う```numpy```というモジュールを使って  \n",
        "ndarray型と呼ばれるものにすれば簡単に実行できます\n"
      ]
    },
    {
      "cell_type": "markdown",
      "metadata": {
        "id": "CDhimmq_0x-q"
      },
      "source": [
        "長さや階層の異なる2つのリストでも可能です."
      ]
    },
    {
      "cell_type": "code",
      "metadata": {
        "id": "b3DFZtE602hP"
      },
      "source": [
        "c=[1,2,4]; d=[[5,6],[7,8]]\n",
        "c+d"
      ],
      "execution_count": null,
      "outputs": []
    },
    {
      "cell_type": "markdown",
      "metadata": {
        "id": "ovAjU_321ROI"
      },
      "source": [
        "###リストに要素を加える"
      ]
    },
    {
      "cell_type": "markdown",
      "metadata": {
        "id": "s568X9r-4c6J"
      },
      "source": [
        "リストにあとから要素を加えたくなるときもあります.  \n",
        "そんなときは ```append```関数 か ```+=```　を使います。"
      ]
    },
    {
      "cell_type": "code",
      "metadata": {
        "id": "b_1nWHpd4ptJ"
      },
      "source": [
        "A = [ \"Aさん\", 178,66] \n",
        "A.append(\"O型\")\n",
        "print(A)\n",
        "\n",
        "B = [ \"Bさん\", 180,70] \n",
        "B += [\"A型\"]\n",
        "print(B)"
      ],
      "execution_count": null,
      "outputs": []
    },
    {
      "cell_type": "markdown",
      "metadata": {
        "id": "qpkIcDzA8S4X"
      },
      "source": [
        "厳密には両者は違うのですが、この授業では見た目がスッキリするので後者を使います。\n",
        "\n",
        "入れ子のリストを作るときは"
      ]
    },
    {
      "cell_type": "code",
      "metadata": {
        "id": "lqfalNz788Rx"
      },
      "source": [
        "data = [ ]\n",
        "data +=  [ [\"Aさん\", 178,66] ]\n",
        "data +=  [ [ \"Bさん\",180,70]  ]\n",
        "print(\"data\", data)"
      ],
      "execution_count": null,
      "outputs": []
    },
    {
      "cell_type": "markdown",
      "metadata": {
        "id": "wT8k9-LB9Y74"
      },
      "source": [
        "とします。  \n",
        "+= でリストに要素を追加するときは  \n",
        "「一番外側の[ ]に囲まれたものを左辺の変数の最上位の階層に加える」  \n",
        "と覚えておけば、リストを追加したいときに［ ］が二重に必要な理由がわかるかと思います。　"
      ]
    },
    {
      "cell_type": "code",
      "metadata": {
        "id": "GRI40dgS1U-u"
      },
      "source": [
        "data2 = [ ]\n",
        "data2 +=  [\"Aさん\", 178,66] # １重カッコ これだと、リストの\"要素\"をdata2に突っ込むのであって\n",
        "data2 +=  [ \"Bさん\",180,70] # リストをdata2に突っ込むのではない点に注意! \n",
        "print(data2)\n",
        "print(\"data2\", data2)"
      ],
      "execution_count": null,
      "outputs": []
    },
    {
      "cell_type": "markdown",
      "metadata": {
        "id": "u3Q7Qi8mnE4l"
      },
      "source": [
        "上のコードだと、人ごとにデータが区切られていないので扱うのに不便ですね。\n",
        "\n",
        "リストに格納する情報に血液型を加えたりなんかして、  \n",
        "同じ様なことを手元でも是非やってみましょう。  \n",
        "どんどん試すのが一番です."
      ]
    },
    {
      "cell_type": "code",
      "metadata": {
        "id": "_l9GJWZ98srB"
      },
      "source": [
        "### 名前,身長,体重,血液型,住んでる市区町村\n",
        "a = [ \"Aさん\", 178, 66, \"A型\", \"宇都宮市\"]"
      ],
      "execution_count": null,
      "outputs": []
    },
    {
      "cell_type": "markdown",
      "metadata": {
        "id": "cdCiouyW2oqJ"
      },
      "source": [
        "リストの要素は後から更新することもできます.\n",
        "\n"
      ]
    },
    {
      "cell_type": "code",
      "metadata": {
        "id": "XIATihMK9Lh6"
      },
      "source": [
        "data =  [ [\"Aさん\", 178,66],[\"Bさん\",180,70]  ]"
      ],
      "execution_count": null,
      "outputs": []
    },
    {
      "cell_type": "markdown",
      "metadata": {
        "id": "vdRIu-li9Oqe"
      },
      "source": [
        "というリストがあったとして、Aさんの体重を修正したければ、"
      ]
    },
    {
      "cell_type": "code",
      "metadata": {
        "id": "fZ0mjwjn2uXd"
      },
      "source": [
        "data[0][2] = 58 #Aさんの体重を更新\n",
        "print(data) #リストを表示"
      ],
      "execution_count": null,
      "outputs": []
    },
    {
      "cell_type": "markdown",
      "metadata": {
        "id": "a0gQkWzeUqgj"
      },
      "source": [
        "### インデックスの取得"
      ]
    },
    {
      "cell_type": "markdown",
      "metadata": {
        "id": "V_MaDugdUs2T"
      },
      "source": [
        "\n",
        "```index```関数を使ってリスト内の、[興味のある要素]のインデックスを取得することができます。"
      ]
    },
    {
      "cell_type": "code",
      "metadata": {
        "id": "DsvZFrmmU4iz"
      },
      "source": [
        "tlist = [ \"いちご\", \"りんご\", \"ぶどう\"]\n",
        "tlist.index(\"りんご\")"
      ],
      "execution_count": null,
      "outputs": []
    },
    {
      "cell_type": "markdown",
      "metadata": {
        "id": "ZIyt7579U7bR"
      },
      "source": [
        "重複する要素がある場合、初めにヒットしたインデックスを返します。"
      ]
    },
    {
      "cell_type": "code",
      "metadata": {
        "id": "WD1qkBNvU8fH"
      },
      "source": [
        "tlist2 = [ \"いちご\", \"りんご\", \"ぶどう\",\"メロン\",\"りんご\"]\n",
        "tlist2.index(\"りんご\")"
      ],
      "execution_count": null,
      "outputs": []
    },
    {
      "cell_type": "markdown",
      "metadata": {
        "id": "97rfD_PvVKU2"
      },
      "source": [
        "複雑なデータを扱う際に「あれ、あの要素ってどこの番地にあるんだっけ？」といった状況に便利な関数です。"
      ]
    },
    {
      "cell_type": "markdown",
      "metadata": {
        "id": "rYMz3ClOhp9D"
      },
      "source": [
        "### スライスを用いた部分リストの取得"
      ]
    },
    {
      "cell_type": "markdown",
      "metadata": {
        "id": "GSRzB_IPiPCO"
      },
      "source": [
        "以下の```a```のようなリストがあったとき、"
      ]
    },
    {
      "cell_type": "code",
      "metadata": {
        "id": "mkyfjA4ZiPtu"
      },
      "source": [
        "a= [ \"years\", 1990, 1995, 2000, 2005,2010, 2015,2020]"
      ],
      "execution_count": null,
      "outputs": []
    },
    {
      "cell_type": "markdown",
      "metadata": {
        "id": "0WmC8_qwiZPi"
      },
      "source": [
        "始点,コロン,終点でインデックスの範囲を指定して、部分的に取り出すことが出来ます。"
      ]
    },
    {
      "cell_type": "code",
      "metadata": {
        "id": "z2fish5zixSf",
        "colab": {
          "base_uri": "https://localhost:8080/"
        },
        "outputId": "86967ee5-6486-4775-c7c6-dddb943062d1"
      },
      "source": [
        "a[2:4]"
      ],
      "execution_count": null,
      "outputs": [
        {
          "output_type": "execute_result",
          "data": {
            "text/plain": [
              "[1995, 2000]"
            ]
          },
          "metadata": {
            "tags": []
          },
          "execution_count": 5
        }
      ]
    },
    {
      "cell_type": "markdown",
      "metadata": {
        "id": "LWya_HtMjKXw"
      },
      "source": [
        "負のインデックスを使用することもできます。"
      ]
    },
    {
      "cell_type": "code",
      "metadata": {
        "id": "MKJ5-cJPi_xy",
        "colab": {
          "base_uri": "https://localhost:8080/"
        },
        "outputId": "0a7d52f9-7536-4355-80e2-6c06859b5d0a"
      },
      "source": [
        "a[1:-1]"
      ],
      "execution_count": null,
      "outputs": [
        {
          "output_type": "execute_result",
          "data": {
            "text/plain": [
              "[1990, 1995, 2000, 2005, 2010, 2015]"
            ]
          },
          "metadata": {
            "tags": []
          },
          "execution_count": 6
        }
      ]
    },
    {
      "cell_type": "markdown",
      "metadata": {
        "id": "COx3lOQZjCFo"
      },
      "source": [
        "終点のインデックスに相当する要素は取り出されないことに注意しましょう。  "
      ]
    },
    {
      "cell_type": "code",
      "metadata": {
        "id": "XasfLIqRjHbe"
      },
      "source": [
        "a[1:]"
      ],
      "execution_count": null,
      "outputs": []
    },
    {
      "cell_type": "markdown",
      "metadata": {
        "id": "sG4YvJTQjIE0"
      },
      "source": [
        "とすると、最後の要素まで含まれます。\n"
      ]
    },
    {
      "cell_type": "markdown",
      "metadata": {
        "id": "BsLWAvmb3JDd"
      },
      "source": [
        "### リスト操作の注意点 \n",
        "\n",
        "授業で扱う程度の内容のプログラミングに関する疑問は、  \n",
        "ググれば自分でだいたい解決することができます。   \n",
        "ただしこの項目で述べることは(とくに初学者にとって)  \n",
        "「明らかにバグがある(何かがオカシイ,意図しない振る舞いをする)のだけど、  \n",
        "どこがおかしいのか分からないので**そもそもどうググっていいかが分からない**」という点で、  \n",
        "少し事情が異なります。\n",
        "\n",
        "例を見せるために、以下の2種類のリストを用意します.\n"
      ]
    },
    {
      "cell_type": "code",
      "metadata": {
        "id": "IUJ1-lAY3T0n"
      },
      "source": [
        "data1 = [[ \"Aさん\", 178,66], [ \"Bさん\",180,70] ]\n",
        "tmp = [\"Aさん\", 178,66]\n",
        "data2 =[ tmp, tmp] \n",
        "\n",
        "print(\"data1\", data1)\n",
        "print(\"data2\", data2)"
      ],
      "execution_count": null,
      "outputs": []
    },
    {
      "cell_type": "markdown",
      "metadata": {
        "id": "t2FS4d0U3-rq"
      },
      "source": [
        "data2のようにまず雛形のリストtmpを作って人数分の長さを持つリストを作ってから中身を編集しようと考えた場合、"
      ]
    },
    {
      "cell_type": "code",
      "metadata": {
        "id": "w-uX1Alb4OOi"
      },
      "source": [
        "data2[1][0]=\"Bさん\"\n",
        "data2[1][1]=180\n",
        "data2[1][2]=70"
      ],
      "execution_count": null,
      "outputs": []
    },
    {
      "cell_type": "markdown",
      "metadata": {
        "id": "iQwPT_WN4WG_"
      },
      "source": [
        "という操作を思いつきます。\n",
        "data2の2番目(０から数えて1番目)の要素だけを編集したつもりでもdata2をprintすると\n"
      ]
    },
    {
      "cell_type": "code",
      "metadata": {
        "id": "rkK0uOpz4huX"
      },
      "source": [
        "print(data2)"
      ],
      "execution_count": null,
      "outputs": []
    },
    {
      "cell_type": "markdown",
      "metadata": {
        "id": "rVVjGsPu4jhj"
      },
      "source": [
        "data2の最初の要素(Aさんのままであってほしいリスト)まで上書きされてしまっています!!\n",
        "\n",
        "これは直感に反しているという点で、初学者が陥りやすい落とし穴です。  \n",
        "「変数は値を格納する場所ではなく、値の保管される場所(id)を格納する場所だ」  \n",
        "と1章の注で書きました。  \n"
      ]
    },
    {
      "cell_type": "code",
      "metadata": {
        "id": "xt1Q_B0f5QYL"
      },
      "source": [
        "tmp = [\"Aさん\", 178,66]\n",
        "data2 =[ tmp, tmp] \n",
        "print(id(data2[0]), id(data2[1])) #それぞれのidを調べてprint\n",
        "print(\"idが等しいか\", id(data2[0])== id(data2[1])) #id()は変数のidを確認する関数"
      ],
      "execution_count": null,
      "outputs": []
    },
    {
      "cell_type": "markdown",
      "metadata": {
        "id": "HktuZ7f85_FY"
      },
      "source": [
        "今の場合、data2を最初に作ったときには、0番目と１番目の要素(リスト)は同一のidを持つtmpというリストです。  \n",
        "したがって、tmpの中身を書き換える操作(data2[1][0]=\"Bさん\")は、tmpの更新を通してdata2の要素いずれもに影響します。\n",
        "\n"
      ]
    },
    {
      "cell_type": "markdown",
      "metadata": {
        "id": "LU95twWnrFGG"
      },
      "source": [
        "このように、(特に)リストを入れ子にする際には、注意が必要です。  \n",
        "なんかへんだな？と思ったときは要素のidに気を配ってみるのも重要です.  \n",
        "\n",
        "上のコードで、意図したものと違う挙動を起こした原因は、  \n",
        "リストtmpを参照する形でdata2を作ったことでした。  \n",
        "これはcopyモジュール内のcopy関数を用いて配列のコピーを作成することで回避できます。\n",
        "\n",
        "(モジュールについては4章で説明します)"
      ]
    },
    {
      "cell_type": "code",
      "metadata": {
        "id": "Bor6WGZzrIXO"
      },
      "source": [
        "import copy #copyというモジュールをインポートする\n",
        "tmp=[\"Aさん\",178,66]\n",
        "data2 = [ copy.copy(tmp), copy.copy(tmp)]\n",
        "print(id(data2[0]) == id(data2[1])) # ← data2の0番目と1番目のidが同じ(参照元が同じ)だと困るのでFalseであってほしい"
      ],
      "execution_count": null,
      "outputs": []
    },
    {
      "cell_type": "markdown",
      "metadata": {
        "id": "EZQPPyoaryQS"
      },
      "source": [
        " また、リストのリスト(ネストされたリストといったりします)それ自体をcopyしたいときは、\n",
        "```copy.deepcopy()```を使います。"
      ]
    },
    {
      "cell_type": "code",
      "metadata": {
        "id": "WkRQ4_klncVY"
      },
      "source": [
        "import copy\n",
        "data = [[ \"Aさん\", 178,66], [\"Bさん\",180,70] ]\n",
        "\n",
        "copydata = copy.copy(data)\n",
        "deepcopydata = copy.deepcopy(data)\n",
        "\n",
        "\n",
        "print(id(data), id(copydata),id(deepcopydata))\n",
        "print(id(data[0]), id(copydata[0]), id(deepcopydata[0]))"
      ],
      "execution_count": null,
      "outputs": []
    },
    {
      "cell_type": "markdown",
      "metadata": {
        "id": "di-HvKQhpV4c"
      },
      "source": [
        "となり、```data```というリストと```copydata```という\"リスト同士\"が異なるidを持っていても、それぞれの0番目の要素のidを見てみると、同じものを参照していることがわかります。\n",
        "\n",
        "このように、ネストされたリストをコピーして別々に扱いたい場合は特に注意が必要です。\n",
        "\n",
        "(私も初めてPythonを使ったときに、この点に気が付かずに時間をかなり溶かしました)\n",
        "\n"
      ]
    },
    {
      "cell_type": "markdown",
      "metadata": {
        "id": "66r8pzgrfwOi"
      },
      "source": [
        "## 条件分岐 (if文)\n",
        "\n",
        "`if`文では、書かれた条件が成立した場合、後に続くブロックを実行します。\n",
        "\n",
        "if文を使って命題の真偽を判定することで、条件分岐を表現することができます。\n",
        "\n"
      ]
    },
    {
      "cell_type": "code",
      "metadata": {
        "id": "JOz7cyvQf2NX"
      },
      "source": [
        "a=3.0; b =-0.3\n",
        "if a > b: \n",
        "    print(\"aはbよりも大きい\")\n",
        "if b > a:\n",
        "    print(\"bはaよりも大きい\") ##これは呼び出されない"
      ],
      "execution_count": null,
      "outputs": []
    },
    {
      "cell_type": "markdown",
      "metadata": {
        "id": "QF6tLC7agluM"
      },
      "source": [
        "条件を満たすときはA,満たさないときはBをしたい、という場合には```else```を使う。"
      ]
    },
    {
      "cell_type": "code",
      "metadata": {
        "id": "SacEU4f0gsmv"
      },
      "source": [
        "if a< b:\n",
        "    print(\"aはbよりも小さい\")\n",
        "else:\n",
        "    print(\"a>=b\") "
      ],
      "execution_count": null,
      "outputs": []
    },
    {
      "cell_type": "markdown",
      "metadata": {
        "id": "t0pZV6Ghg31K"
      },
      "source": [
        "```elif```(else ifの略)を用いれば、もう少し複雑な条件を表現することができる。\n",
        "\n",
        "たとえば、もし条件1が満たされればAを実行、満たされない場合、条件2が満たされればBを、さらに1も２も満たされない場合はCを実行する、という場合、"
      ]
    },
    {
      "cell_type": "code",
      "metadata": {
        "id": "a68DTqL-hak5"
      },
      "source": [
        "if a < b: #条件1\n",
        "    print(\"a<b\")\n",
        "elif  a ==b: #条件２\n",
        "    print(\"a=b\")\n",
        "else:\n",
        "    print(\"a>b\")"
      ],
      "execution_count": null,
      "outputs": []
    },
    {
      "cell_type": "markdown",
      "metadata": {
        "id": "fOvfCVFUiL1d"
      },
      "source": [
        "if文は入れ子構造にすることもできる。\n",
        "その際はインデントを使ってブロックを表現する。\n",
        "\n",
        "たとえば、 aが偶数の場合は値をそのまま表示して、\n",
        "aが奇数の場合、3の倍数かそうでないかで処理を変える事を考えると、以下のようになる"
      ]
    },
    {
      "cell_type": "code",
      "metadata": {
        "id": "ioNZB5iAiM_d"
      },
      "source": [
        "if a % 2 == 0 :\n",
        "    print(a)\n",
        "else:\n",
        "    if a % 3 == 0 :\n",
        "        print(str(a)+\"は3の倍数です\")\n",
        "    else:\n",
        "        print(str(a)+\"は3の倍数ではありません\")"
      ],
      "execution_count": null,
      "outputs": []
    },
    {
      "cell_type": "markdown",
      "metadata": {
        "id": "5qWPQPGMii74"
      },
      "source": [
        "if文を使って条件分岐を作るときは、\n",
        "**条件分岐にモレがないか**注意が必要です。  \n",
        "例えば、変数`a`の値によって処理を行う場合"
      ]
    },
    {
      "cell_type": "markdown",
      "metadata": {
        "id": "Tv3MJC6ukVIM"
      },
      "source": [
        "```py\n",
        "if a > 0:\n",
        "  ##　なんらかの処理1\n",
        "if a < 0:\n",
        "  ## なんらかの処理2\n",
        "```\n",
        "\n",
        "と書いてしまうと、`a=0`の場合、if文を２つともすり抜けてしまい、バグの原因になることがあります。  \n",
        "少々面倒でも```else```を使って、意図しないすり抜けがないかチェックするのが良いでしょう。  "
      ]
    },
    {
      "cell_type": "code",
      "metadata": {
        "id": "2oZ3vaYb3s1t"
      },
      "source": [
        "a = 0 #aをいろんな値に変えて実行してみてください\n",
        "if a > 0: #aが0より大きい場合\n",
        "    print(\"処理1:a+2=\", a+2)\n",
        "elif a<0:    \n",
        "    print(\"処理2:a*2=\", a*2)    \n",
        "else :\n",
        "    print(\"ゼロだよ？なんにもしなくていいの？\")"
      ],
      "execution_count": null,
      "outputs": []
    },
    {
      "cell_type": "markdown",
      "metadata": {
        "id": "1ecruqL3pHA4"
      },
      "source": [
        "## for文(ループ処理)\n",
        "\n",
        "for文(ループ処理)は、プログラミングの中で**最も重要な概念の一つ**です。  \n",
        "\n"
      ]
    },
    {
      "cell_type": "markdown",
      "metadata": {
        "id": "cQKuOTIcJxYE"
      },
      "source": [
        "### 簡単なfor文"
      ]
    },
    {
      "cell_type": "markdown",
      "metadata": {
        "id": "-hI7Tnwf79LU"
      },
      "source": [
        "まず以下のコードを実行してみましょう:"
      ]
    },
    {
      "cell_type": "code",
      "metadata": {
        "id": "VgjXia0upIya"
      },
      "source": [
        "for i in range(5):\n",
        "    print(i)"
      ],
      "execution_count": null,
      "outputs": []
    },
    {
      "cell_type": "markdown",
      "metadata": {
        "id": "vLdv2seGpj7Z"
      },
      "source": [
        "上のコードは、\n",
        ">iを0から4まで変化させながらiをprintする作業を繰り返しなさい\n",
        "\n",
        "という処理になっています。\n",
        "\n",
        "順番に見ていきましょう:  \n",
        "まずrange関数は、range型のオブジェクトを生成する関数で、  \n",
        "range(5)は0から整数を5つ(0,1,2,3,4)を生成する関数です。   \n",
        "やはり0始まりで、５が含まれないことに注意です。  \n",
        "\n",
        "なお、range関数の引数をrange(始点,終点,間隔)と3つにすると、  \n",
        "より複雑な整数の集合を作ることもできます。 \n",
        "\n",
        "\n",
        "\n"
      ]
    },
    {
      "cell_type": "code",
      "metadata": {
        "id": "HJ_Q30y-qNZv"
      },
      "source": [
        "for i in range(0,6,2):\n",
        "    print(i) #やはり6は含まれないことに注意"
      ],
      "execution_count": null,
      "outputs": []
    },
    {
      "cell_type": "markdown",
      "metadata": {
        "id": "YMq8UkMY1UVt"
      },
      "source": [
        "```in```関数(予約語なので青色になっています)は、  \n",
        "iにrange()で指定した数値の範囲(リストみたいなもの)を  \n",
        "順番に突っ込んでいく関数と理解しておけばひとまずOKです。\n",
        "\n",
        "\n",
        "次に、リストの中身を順番に表示させてみましょう。"
      ]
    },
    {
      "cell_type": "code",
      "metadata": {
        "id": "DosIH6zO1aeW",
        "outputId": "5981f077-3286-443f-d89d-a0ff6d2b5e3c",
        "colab": {
          "base_uri": "https://localhost:8080/"
        }
      },
      "source": [
        "kudamono = [\"いちご\", \"りんご\",\"ぶどう\",\"メロン\"]\n",
        "for tmp in kudamono:\n",
        "    print(tmp)"
      ],
      "execution_count": 2,
      "outputs": [
        {
          "output_type": "stream",
          "name": "stdout",
          "text": [
            "いちご\n",
            "りんご\n",
            "ぶどう\n",
            "メロン\n"
          ]
        }
      ]
    },
    {
      "cell_type": "markdown",
      "metadata": {
        "id": "Mi49kwOX1iJ0"
      },
      "source": [
        "上のコードでは、tmpという変数にkudamonoというリストの中身が順番に当てはめられている事がわかります。\n",
        "\n",
        "ループを用いてリストの中身にアクセスする方法は主に2通りで、\n",
        "\n",
        "1. インデックスのループを回してリストにアクセスする\n",
        "2. リストの要素に順番にアクセスする\n",
        "\n",
        "で、上のコードは2.に相当します。\n",
        "\n",
        "上の例で、1.の方法を採る場合は"
      ]
    },
    {
      "cell_type": "code",
      "metadata": {
        "id": "SnMf5IBXAtuY"
      },
      "source": [
        "for i in range(len(kudamono)):\n",
        "    print(kudamono[i])"
      ],
      "execution_count": null,
      "outputs": []
    },
    {
      "cell_type": "markdown",
      "metadata": {
        "id": "QbiNRP3tAwgD"
      },
      "source": [
        "とすればよいです。\n",
        "\n",
        "インデックスと要素を同時に取得して使いたいときには  \n",
        "```enumerate```関数を使って"
      ]
    },
    {
      "cell_type": "code",
      "metadata": {
        "id": "1sBjeAU3A8CJ"
      },
      "source": [
        "for i, tmp in enumerate(kudamono):\n",
        "    print(i, tmp)"
      ],
      "execution_count": null,
      "outputs": []
    },
    {
      "cell_type": "markdown",
      "metadata": {
        "id": "_iaSPpKgBBha"
      },
      "source": [
        "とします。\n",
        "これによって○次郎構文を作ることもできます。"
      ]
    },
    {
      "cell_type": "code",
      "metadata": {
        "id": "3tNkMDDMBLi0",
        "outputId": "a212202a-7421-41cd-def2-44266605e481",
        "colab": {
          "base_uri": "https://localhost:8080/"
        }
      },
      "source": [
        "for i, tmp in enumerate(kudamono):\n",
        "    print(tmp,\"は\"+str(i)+\"番目です\",str(i)+\"番目というのは0から数えて\"+str(i)+\"番だということです。\")"
      ],
      "execution_count": 3,
      "outputs": [
        {
          "output_type": "stream",
          "name": "stdout",
          "text": [
            "いちご は0番目です。 0番目というのは0から数えて0番だということです\n",
            "りんご は1番目です。 1番目というのは0から数えて1番だということです\n",
            "ぶどう は2番目です。 2番目というのは0から数えて2番だということです\n",
            "メロン は3番目です。 3番目というのは0から数えて3番だということです\n"
          ]
        }
      ]
    },
    {
      "cell_type": "markdown",
      "metadata": {
        "id": "s_IqtFV6rvKv"
      },
      "source": [
        "### ブロックとインデント"
      ]
    },
    {
      "cell_type": "markdown",
      "metadata": {
        "id": "FE1LiUrVqrbU"
      },
      "source": [
        "さて、上のfor文のコードには、関数の前に半角スペースが4つあるのに気がついたでしょうか?  \n",
        "Pythonでは、for文を始め様々な処理の際に一連の作業\"ブロック\"を、  \n",
        "半角スペース4つ分インデントを下げることで表現します。\n",
        "\n",
        "下のように、for文を使っているにも関わらず正しくインデントされていない場合はエラーが出ます。"
      ]
    },
    {
      "cell_type": "code",
      "metadata": {
        "id": "ItpayRhWyBIZ"
      },
      "source": [
        "for i in range(2):\n",
        "print(i)"
      ],
      "execution_count": null,
      "outputs": []
    },
    {
      "cell_type": "markdown",
      "metadata": {
        "id": "z1T_hDMgyCHI"
      },
      "source": [
        "さて、インデントは初めての人には少々分かりづらいかもしれませんので、簡単な例で挙動を確認しておきましょう。  \n",
        "\n",
        "**練習問題**  \n",
        "\n",
        "以下のコードを実行すると、\n",
        "何回数字がprintされるでしょうか？  \n",
        "コードを実行する前に、三択で答えてみてください。  \n",
        "A. 8回 B. 11回 C. 13回"
      ]
    },
    {
      "cell_type": "code",
      "metadata": {
        "id": "qM5QYdcJs5O-"
      },
      "source": [
        "for i in range(2):\n",
        "    print(i)\n",
        "    for j in range(5):\n",
        "        print(i,j)\n",
        "print(i,j)"
      ],
      "execution_count": null,
      "outputs": []
    },
    {
      "cell_type": "markdown",
      "metadata": {
        "id": "tZxftTZBszWq"
      },
      "source": [
        "\n",
        "\n",
        "i に関する繰り返し(ループと呼びます)は、i=0,1の２回で、\n",
        "インデントが1ブロック下げられた操作を実行しますので、print(i)を2回と、\n",
        "jに関するループを２回繰り返します。  \n",
        "jはj=0,1,2,3,4をとり、jのループでは```print(i,j)```は合計2×5=10回呼ばれます。  \n",
        "最後の行にある```print(i,j)```はどのループの中にも入っていませんから、呼ばれるのは1回だけです。\n",
        "\n",
        "ということで、答えはC.の13回でした。\n"
      ]
    },
    {
      "cell_type": "markdown",
      "metadata": {
        "id": "llWzeLsx2kDq"
      },
      "source": [
        "慣れないうちは"
      ]
    },
    {
      "cell_type": "code",
      "metadata": {
        "id": "VAgzCZ6K2lUI"
      },
      "source": [
        "for i in range(2):\n",
        "    print(i)\n",
        "    for j in range(5):\n",
        "        print(i,j)\n",
        "    ## End j loop\n",
        "## End i loop"
      ],
      "execution_count": null,
      "outputs": []
    },
    {
      "cell_type": "markdown",
      "metadata": {
        "id": "1geoDWVC2sjM"
      },
      "source": [
        "などのように、どこでループを閉じるのかを  \n",
        "コメントしておくと良いかもしれません。  \n",
        "コードをいじっていくうちに"
      ]
    },
    {
      "cell_type": "code",
      "metadata": {
        "id": "USOd9Zdp2zaU"
      },
      "source": [
        "for i in range(2):\n",
        "    print(i)\n",
        "for j in range(5):\n",
        "    print(i,j)"
      ],
      "execution_count": null,
      "outputs": []
    },
    {
      "cell_type": "markdown",
      "metadata": {
        "id": "jWjLB9Dy243B"
      },
      "source": [
        "と言ったように意図しないインデントになってしまって、  \n",
        "正しい答えを与えない(バグを作ってしまう)可能性があります。\n",
        "\n",
        "> 細かい注) Pythonでは通常インデント幅は4つの半角スペースで指定されます。  \n",
        "Google Colab. では、　[ツール]→[設定]→[エディタ]から変更できますので、  \n",
        "幅2が使いやすければ変更してください。  \n",
        "また、プログラムファイルを編集する際、Tabキーを使ってインデントを指定するのと、  \n",
        "スペースキーを用いてインデントを指定するのとで、どちらを好むかは、  \n",
        "[タブ/スペース論争]として知られています。"
      ]
    },
    {
      "cell_type": "markdown",
      "metadata": {
        "id": "_r-xOslCuYQt"
      },
      "source": [
        "**練習**\n",
        "\n",
        "リスト\n",
        "```data = [ [\"Aさん\", 178,66] , [\"Bさん\",180,70], [\"Cさん\", 165,55]]```を用意し、  \n",
        "[体重を二乗して身長にかけ合わせた量]の総和を計算するコードを作ってみましょう。\n",
        "\n",
        "ヒント1: 身長は入れ子になっているリストの[1]番目,体重は[2]番目  \n",
        "ヒント2: total=0.0を定義して、体重の二乗×身長をfor文を使ってどんどん足していく。"
      ]
    },
    {
      "cell_type": "code",
      "metadata": {
        "id": "FJpla_3Fvbjw",
        "colab": {
          "base_uri": "https://localhost:8080/",
          "height": 34
        },
        "outputId": "64b8215a-beae-4946-d188-1e0c0b860172"
      },
      "source": [
        "###以下は、不完全なコードです。これにあと３行ほど書き足してみましょう。 \n",
        "###ちなみに答えは 2156493です.\n",
        "data = [ [\"Aさん\", 178,66] , [\"Bさん\",180,70], [\"Cさん\", 165,55]]\n",
        "total = 0.0\n",
        "for tmp in data :\n",
        "    total += tmp[1]  * tmp[2]**2\n",
        "print(total)"
      ],
      "execution_count": null,
      "outputs": [
        {
          "output_type": "stream",
          "text": [
            "2156493.0\n"
          ],
          "name": "stdout"
        }
      ]
    },
    {
      "cell_type": "code",
      "metadata": {
        "id": "3BWzSAT0mYoO"
      },
      "source": [
        "total = 0.0 \n",
        "for tmp in data: \n",
        "  total += tmp[1] * tmp[2]**2"
      ],
      "execution_count": null,
      "outputs": []
    },
    {
      "cell_type": "markdown",
      "metadata": {
        "id": "Uf275kXcK-JN"
      },
      "source": [
        "さて、ループ(for文)の使い方がなんとなく分かったでしょうか？  \n",
        "どんどん使ってみて、なれておいてください。\n",
        "\n",
        "**第1回のレポートでも多用することになるはずです**"
      ]
    },
    {
      "cell_type": "markdown",
      "metadata": {
        "id": "qucZen5vJ9PE"
      },
      "source": [
        "他にも、たとえば、 1, 10, 100, 1000, 10000,...というループを回したい時、"
      ]
    },
    {
      "cell_type": "code",
      "metadata": {
        "id": "o7dH6aHKKP4i",
        "colab": {
          "base_uri": "https://localhost:8080/",
          "height": 102
        },
        "outputId": "407e88e9-5ba1-4ccf-d28e-677e195a060f"
      },
      "source": [
        "for i in [1,10,100,1000,10000]:\n",
        "    print(i)"
      ],
      "execution_count": null,
      "outputs": [
        {
          "output_type": "stream",
          "text": [
            "1\n",
            "10\n",
            "100\n",
            "1000\n",
            "10000\n"
          ],
          "name": "stdout"
        }
      ]
    },
    {
      "cell_type": "markdown",
      "metadata": {
        "id": "JTg8PfD3KW5U"
      },
      "source": [
        "と書くのではなく、べき乗に対するループを回す"
      ]
    },
    {
      "cell_type": "code",
      "metadata": {
        "id": "Lwz3s8taKcvF",
        "colab": {
          "base_uri": "https://localhost:8080/",
          "height": 119
        },
        "outputId": "d33812aa-b5bd-49e8-bba6-e9a234aa2ea0"
      },
      "source": [
        "for p in range(6):\n",
        "    print(10**p)"
      ],
      "execution_count": null,
      "outputs": [
        {
          "output_type": "stream",
          "text": [
            "1\n",
            "10\n",
            "100\n",
            "1000\n",
            "10000\n",
            "100000\n"
          ],
          "name": "stdout"
        }
      ]
    },
    {
      "cell_type": "markdown",
      "metadata": {
        "id": "8qLiZx-VKhh-"
      },
      "source": [
        "など、考えたい値を直接ループで扱うのではなく、  \n",
        "間接的な値(今の場合[10のp乗]のp)を扱う、  \n",
        "などの考え方も、コードをスッキリさせる上で重要です。"
      ]
    },
    {
      "cell_type": "markdown",
      "metadata": {
        "id": "gPHPdQWAvKxc"
      },
      "source": [
        "### リスト内包表記\n",
        "\n",
        "for文別の使い方として、リスト内包表記と呼ばれる書き方があります。  \n",
        "これを使うと、要素がたくさんのリストを簡単につくることができます。"
      ]
    },
    {
      "cell_type": "code",
      "metadata": {
        "id": "oNiE_0IHwpUm"
      },
      "source": [
        "a = [ i for i in range(1,1000,2)] ## i を1から999まで2ずつ変えていったときの値を詰めたリストを作成\n",
        "print(a) #表示してみましょう"
      ],
      "execution_count": null,
      "outputs": []
    },
    {
      "cell_type": "markdown",
      "metadata": {
        "id": "2NxxShOxNFCH"
      },
      "source": [
        "### break ループ処理を途中で抜けたい場合\n",
        "breakはfor文を途中で抜け出すのに使います。  \n",
        "用途としては[目的を果たしたのでもうループを繰り返す必要がないとき]や  \n",
        "[予期せぬ事が起きた場合にループ処理を終わらせてプログラムを終了するとき]などに使います.\n",
        "\n",
        "先程のカジノの例で、 [最大10回ゲームをやるが１回でも負ければ即座に賭けをやめたい]場合、  \n",
        "以下のようなコードになります."
      ]
    },
    {
      "cell_type": "code",
      "metadata": {
        "id": "HPC5NF3FNUo3"
      },
      "source": [
        "import random \n",
        "money = 1000000\n",
        "for i in range(10):\n",
        "    if random.choice([True,False]):\n",
        "        money += 200000\n",
        "        print(\"勝った!!\")\n",
        "    else :\n",
        "        money -= 200000\n",
        "        print(\"負けたので帰ります\")\n",
        "        break\n",
        "\n",
        "print(\"最終的な所持金は...\"+str(money)+\"円だ\")"
      ],
      "execution_count": null,
      "outputs": []
    },
    {
      "cell_type": "markdown",
      "metadata": {
        "id": "b9q7gVgWATh0"
      },
      "source": [
        "といった具合です. 使用例が思い浮かばなければ[while文なんてのがある]とだけ覚えておけば当面はOKです.\n",
        "\n",
        "上のコードはrandomモジュールの(疑似)乱数を用いているので、実行ごとに買ったり負けたり結果が変わります。\n",
        "何度か実行して見てください。\n",
        "\n",
        "[余談] これを応用すると↓のようなものを作って遊ぶこともできます(作者は私ではありません)。  \n",
        "十亀vs松田シミュレータ https://mattz.xii.jp/yakiu/yakiu.html  \n",
        "(十亀選手(ライオンズ)と松田選手(ホークス)の驚異的な相性を元に作られた対戦シミュレータ)"
      ]
    },
    {
      "cell_type": "code",
      "metadata": {
        "id": "IDmdI51Mx-Tp"
      },
      "source": [
        "import random #ランダムに勝ち負けを決めるためrandomというライブラリを使います\n",
        "\n",
        "money = 1000000\n",
        "while 500000 < money < 1500000: #手元に50万以上-150万未満ある限り賭け続ける\n",
        "    if random.choice([True,False]):  ## choice([True,False])でTrue(勝ち)とFalse(負け)をランダムに生成\n",
        "        money += 200000 #true 勝ちの場合\n",
        "        print(\"勝った!!\")\n",
        "    else :\n",
        "        money -= 200000#負けの場合 20万失う\n",
        "        print(\"負けた..\")\n",
        "\n",
        "### 500000 < money < 1500000がfalse つまりお金が50万以下か150万以上になったら\n",
        "### while文を脱出して以下のprint文が読まれる\n",
        "\n",
        "print(\"最終的な所持金は...\"+str(money)+\"円だ\")"
      ],
      "execution_count": null,
      "outputs": []
    },
    {
      "cell_type": "markdown",
      "metadata": {
        "id": "EGUKtqjeeyk9"
      },
      "source": [
        "### While文\n",
        "\n",
        "for文に似た概念としてWhile文が存在します。"
      ]
    },
    {
      "cell_type": "markdown",
      "metadata": {
        "id": "snmJfYawx-7u"
      },
      "source": [
        "for文とbreakを組み合わせたコードは、While文でも実装することができます。\n",
        "\n",
        "プログラムを書いていくうちに、繰り返しの数が前もってわからないケースに遭遇するかと思います.\n",
        "\n",
        "たとえば  \n",
        "*   [連続で6が5回でるまでサイコロをふる]\n",
        "*   [利益がある値を超えるまで株の売買をくりかえす]\n",
        "\n",
        "といったイメージです。  \n",
        "この様な場合は、何回処理を繰り返せば良いか予め知ることはほとんど不可能です。\n",
        "\n",
        "サイコロの例の場合だと、たとえば5回ふっただけで6が連続で出る奇跡的な状況も有りえますし、  \n",
        "1000回ふっても100万回降っても連続で5回は出ないかもしれません。  \n",
        "(某漫画の地下チンチロ編のようなイカサマサイコロを使用するとグッと確率はあがります)\n",
        "\n",
        "このような処理を実装したい場合にはwhile文を使います.\n",
        "\n",
        "以下のような状況を考えてみましょう\n",
        "\n",
        "> Aさんは100万円を手にカジノにやってきて、  \n",
        "掛け金が20万かつ50%の確率で勝ったり負けたりするギャンブルに目をつけました。  \n",
        "「手元のお金が150万以上か50万以下になったら帰ろう...」と心に決めて挑みます.\n",
        "\n"
      ]
    },
    {
      "cell_type": "markdown",
      "metadata": {
        "id": "iwv7BiM8NG47"
      },
      "source": [
        "### continue\n",
        "continue文は、forやwhile文の中で[以降の処理を無視する]のに使います.  \n",
        "具体的な用途としては[特定の条件を満たす場合にのみ適用する処理を書きたい]場合などがあります.  \n",
        "再びカジノの例で考えてみましょう.\n",
        "\n",
        "まず、Aさんに勝負のたびに所持金を叫ばせるコードは"
      ]
    },
    {
      "cell_type": "code",
      "metadata": {
        "id": "eWE2Z2jVObxz"
      },
      "source": [
        "import random\n",
        "money = 1000000\n",
        "while 500000 < money < 1500000:\n",
        "    if random.choice([True,False]):\n",
        "        money += 200000 \n",
        "    else :\n",
        "        money -= 200000\n",
        "    print(\"今の所持金は...\"+str(money)+\"円だ\")\n",
        "\n",
        "print(\"最終的な所持金は...\"+str(money)+\"円だ\")"
      ],
      "execution_count": null,
      "outputs": []
    },
    {
      "cell_type": "markdown",
      "metadata": {
        "id": "eMPfQSziPEOP"
      },
      "source": [
        "となります。これに少しずつ、より複雑な条件を加えていくことにしましょう.  \n",
        "最初の掛け金を一旦5万円にすることにして  \n",
        "[連続で勝った場合、コインを投げて表が出たら掛け金を2倍にする]という条件をいれてみましょう。  \n",
        "これをプログラムで表現するのには以下のような実装が考えられます.\n"
      ]
    },
    {
      "cell_type": "code",
      "metadata": {
        "id": "M1F8_JYdPJFI"
      },
      "source": [
        "import random\n",
        "money = 1000000\n",
        "hit = 0 #連続勝数を記録する変数hitを定義\n",
        "bet = 50000 #掛け金をセット\n",
        "while 500000 < money < 1500000:\n",
        "    if random.choice([True,False]):#勝ち負け50%\n",
        "        money += bet \n",
        "        hit +=1 #勝ったら連勝数をプラス1する\n",
        "    else :\n",
        "        money -= bet\n",
        "        hit = 0 #負けたら連続勝ち数を0にリセット\n",
        "    print(\"今の所持金は...\"+str(money)+\"円だ\")\n",
        "    if hit > 2 and random.choice([True,False]) : #ここでのrandom.choiceはコインの表裏に相当\n",
        "            print(\"掛け金をレイズだ!!\",\"次は\"+str(bet)+\"円を賭けるぜ\")\n",
        "            bet = bet * 2\n",
        "\n",
        "print(\"最終的な所持金は...\"+str(money)+\"円だ\")"
      ],
      "execution_count": null,
      "outputs": []
    },
    {
      "cell_type": "markdown",
      "metadata": {
        "id": "A8XHg35QQtD0"
      },
      "source": [
        "さらに[掛け金をレイズするかどうか悩んで、コインを投げて決めるのは、所持金が80万以上のときだけ]  \n",
        "という条件を実装するのにcontinueを使ってみましょう"
      ]
    },
    {
      "cell_type": "code",
      "metadata": {
        "id": "5AgDgp8fQ3He"
      },
      "source": [
        "import random\n",
        "money = 1000000\n",
        "hit = 0 #連続勝数を記録する変数hitを定義\n",
        "bet = 50000 #掛け金をセット\n",
        "while 500000 < money < 1500000:\n",
        "    if random.choice([True,False]):#勝ち負け50%\n",
        "        money += bet \n",
        "        hit +=1 #勝ったら連勝数をプラス1する\n",
        "    else :\n",
        "        money -= bet\n",
        "        hit = 0 #負けたら連続勝ち数を0にリセット\n",
        "    print(\"今の所持金は...\"+str(money)+\"円だ\")    \n",
        "    if money < 800000:\n",
        "        continue # もし所持金が80万未満ならcontinue(以下の処理は実行しない)\n",
        "\n",
        "    if hit > 2 and random.choice([True,False]) : #ここでのrandom.choiceはコインの表裏に相当\n",
        "            bet = bet * 2\n",
        "            print(\"掛け金をレイズだ!!\",\"次は\"+str(bet)+\"円を賭けるぞ\")\n",
        "   \n",
        "\n",
        "print(\"最終的な所持金は...\"+str(money)+\"円だ\")"
      ],
      "execution_count": null,
      "outputs": []
    },
    {
      "cell_type": "markdown",
      "metadata": {
        "id": "p_ZvXiuc2ece"
      },
      "source": [
        "### 例外処理"
      ]
    },
    {
      "cell_type": "markdown",
      "metadata": {
        "id": "6hnBZUQ1XpUW"
      },
      "source": [
        "以下の処理は[ある値から都度10を引いていって平方根を取った値を表示する]というコードです\n"
      ]
    },
    {
      "cell_type": "code",
      "metadata": {
        "id": "dWDJaf9G2hPi"
      },
      "source": [
        "import math\n",
        "#import mathの代わりに import numpy as np でも良い\n",
        "s = 124\n",
        "\n",
        "for i in range(20):\n",
        "    s -= 10\n",
        "    print(math.sqrt(s)) ##numpyライブラリを(npという名前で)importすればnp.sqrt()とも書けます\n"
      ],
      "execution_count": null,
      "outputs": []
    },
    {
      "cell_type": "markdown",
      "metadata": {
        "id": "ZX5FTHyOYdcF"
      },
      "source": [
        "しかし、あるところでsの値が負になってしまい、sqrtが計算できなくなってしまいます  \n",
        "(虚数を導入すれば定義できますが、mathのsqrt関数は非負の引数に対して定義されていますのでエラーが出ます)\n",
        "\n",
        "エラーが出る=予期しないことが起こる とプログラムがそこで止まってしまいます。  \n",
        "通常はそれで良いのですが、複雑な状況になると[エラーを無視してとにかくプログラムを最後まで実行させたい][エラーが起こるときにエラーを回避するような仕組みをプログラム自体に実装したい]といった状況が起こります.\n",
        "\n",
        "今の例でいうと[sの値が正なら平方根を表示して、負の場合はエラーメッセージだけを表示してエラーが起きた回数をカウントする]という作業が必要な場合は以下のように  \n",
        "try: 試行したい処理のブロック   \n",
        "except: 例外(エラー）が起こった場合の処理のブロック   \n",
        "を駆使することで、最後までプログラムを実行させることができます."
      ]
    },
    {
      "cell_type": "code",
      "metadata": {
        "id": "7nhzIqnHZDRJ"
      },
      "source": [
        "import math\n",
        "#import mathの代わりに import numpy でも良い\n",
        "s = 124\n",
        "hit = 0 \n",
        "for i in range(20):\n",
        "    s -= 10\n",
        "    try:\n",
        "        print(math.sqrt(s)) ##numpyライブラリを(npという名前で)importすればnp.sqrt()とも書けます\n",
        "    except :    \n",
        "        print(\"sの値が\"+str(s)+\"になったのでsqrtが計算できません\")\n",
        "        hit += 1\n",
        "print(str(hit)+\"回 sqrtの計算でエラーがありました\")"
      ],
      "execution_count": null,
      "outputs": []
    },
    {
      "cell_type": "markdown",
      "metadata": {
        "id": "vcWhB2ld2EjT"
      },
      "source": [
        "このノートブックでは説明しませんがexceptの後に具体的な例外を指定して  \n",
        "例外の種類に応じた操作を行うことも出来ます。  \n",
        "https://docs.python.org/ja/3/library/exceptions.html"
      ]
    },
    {
      "cell_type": "markdown",
      "metadata": {
        "id": "N7bZPiJyEpx-"
      },
      "source": [
        "## $\\clubsuit$ タプル・辞書型\n",
        "\n",
        "発展的な内容です。  \n",
        "以下のタプル・辞書型は使いこなせれば便利ですが、  \n",
        "授業では必ずしも必要ではない(リストで代用できる)ので、  \n",
        "興味に応じて学習してください。"
      ]
    },
    {
      "cell_type": "markdown",
      "metadata": {
        "id": "5JH8ZSsU2lL8"
      },
      "source": [
        "### タプル(tuple)型, 丸括弧\n",
        "\n"
      ]
    },
    {
      "cell_type": "markdown",
      "metadata": {
        "id": "FYc9ztofGU8M"
      },
      "source": [
        "リストに似た型としてタプルと辞書があります。\n",
        "\n",
        "タプルは\"immutable\"(要素が変更不可)なリストと覚えておけばよいでしょう。  \n",
        "リストは要素を[]で囲むことで作ることができました。  \n",
        "タプルは丸括弧()で囲むことで作ることができます"
      ]
    },
    {
      "cell_type": "code",
      "metadata": {
        "id": "4CNAqWljyjS1"
      },
      "source": [
        "a = (1.0, 2.0, 3.0)\n",
        "print(a, type(a))\n",
        "\n",
        "print(a[0]) ##要素にアクセスするときはタプルのときでもやはり角括弧を使う"
      ],
      "execution_count": null,
      "outputs": []
    },
    {
      "cell_type": "markdown",
      "metadata": {
        "id": "I1IILsgUyk4T"
      },
      "source": [
        "値をリストのように格納しておきたい、という状況下かつ、リストの値を後で変更することがないなら\n",
        "タプルを使うのも一つの手です.\n",
        "\n",
        "タブルを使うメリットとしては以下の通りです:  \n",
        "*   (予期せず)値を更新しようとするとエラーを吐いて教えてくれる\n",
        "*   (場合によりけりですが)リストよりも早く処理が実行される(ことがある)\n"
      ]
    },
    {
      "cell_type": "code",
      "metadata": {
        "id": "d-wmV-24zIa9"
      },
      "source": [
        "##たとえば...\n",
        "a = (1.0, 2.0, 3.0)\n",
        "##たとえば...2番目の2.0を4.0に変更しようとすると....\n",
        "a[1] = 4.0"
      ],
      "execution_count": null,
      "outputs": []
    },
    {
      "cell_type": "markdown",
      "metadata": {
        "id": "Xp-zrOGUzclF"
      },
      "source": [
        "↑エラーがでたかと思います。\n",
        "\n",
        "次に中身が同じ(1から5000までの整数)リストとタプルを用意して、  \n",
        "1万回要素の和を計算するという計算をしてみましょう.  \n",
        "(計算自体に意味はありません)  \n",
        "timeというライブラリを使って2つの作業に係る時間を調べてみると..."
      ]
    },
    {
      "cell_type": "code",
      "metadata": {
        "id": "RNRVJHBvzrRR",
        "colab": {
          "base_uri": "https://localhost:8080/"
        },
        "outputId": "c5a6efd2-4afc-41cf-971f-564cf9d7b6b6"
      },
      "source": [
        "import time #時間を計測するためのライブラリをインポート\n",
        "itnum=10000 #繰り返す回数を設定\n",
        "\n",
        "\n",
        "#リストを使った計算\n",
        "t0= time.time() \n",
        "a = [ i for i in range(1,5001) ] #リストを定義\n",
        "for i in range(itnum):\n",
        "    sum(a)\n",
        "t1 = time.time()\n",
        "\n",
        "#タプルを使った計算\n",
        "t2= time.time() \n",
        "b = ( i for i in range(1,5001)) #タプルを定義\n",
        "for i in range(itnum):\n",
        "    sum(b)\n",
        "t3 = time.time()\n",
        "\n",
        "print(\"リストの処理にかかった時間\", t1-t0)\n",
        "print(\"タプルの処理にかかった時間\", t3-t2)"
      ],
      "execution_count": null,
      "outputs": [
        {
          "output_type": "stream",
          "name": "stdout",
          "text": [
            "リストの処理にかかった時間 0.4131333827972412\n",
            "タプルの処理にかかった時間 0.0022554397583007812\n"
          ]
        }
      ]
    },
    {
      "cell_type": "markdown",
      "metadata": {
        "id": "_DFBdeB61zTN"
      },
      "source": [
        "タプルの方が実行時間が短い事がわかります.  \n",
        "今の例では差は人間にとっては気にならない程度の差ですが、  \n",
        "複雑な処理になってコードがなかなか計算を完了しないときには、  \n",
        "リストをタプルにするなど、コードのパフォーマンスを改善する作業が必要となります。"
      ]
    },
    {
      "cell_type": "markdown",
      "metadata": {
        "id": "X69TUPNt2nfh"
      },
      "source": [
        "### 辞書型, 波括弧\n",
        "\n",
        "辞書型は、キーと要素の２つをあわせ持つ型です.  \n",
        "リストにいれたものをいっぺんに扱うときに、  \n",
        "毎回番地を指定したりループで要素を回して、望むものを持ってくるのは面倒です。\n",
        "\n",
        "たとえば以下の名前と年齢のリスト\n",
        "```\n",
        "a=[[ \"Aさん\",25],[\"Bさん\",21],[\"Cさん\",18]]\n",
        "```\n",
        "\n",
        "があったとき、これまで習った方法だけを駆使して\n",
        "Bさんの年齢を取得するには以下のようなコードになります"
      ]
    },
    {
      "cell_type": "code",
      "metadata": {
        "id": "oWV6iYr520v5"
      },
      "source": [
        "a=[[ \"Aさん\",25],[\"Bさん\",21],[\"Cさん\",18]]\n",
        "\n",
        "for tmp in a:\n",
        "    if tmp[0] == \"Bさん\" :\n",
        "        print(\"Bさんの年齢=\", tmp[1])"
      ],
      "execution_count": null,
      "outputs": []
    },
    {
      "cell_type": "markdown",
      "metadata": {
        "id": "QfC_TsDD3mYh"
      },
      "source": [
        "このような使い方をしたい場合には、予め名前と年齢という２つの関係のある量を辞書として定義してしまえばよいのです。\n",
        "\n",
        "辞書型は波括弧{}で囲むことで構成できます.\n",
        "\n",
        "\n"
      ]
    },
    {
      "cell_type": "code",
      "metadata": {
        "id": "GgnqzQYq4XbS"
      },
      "source": [
        "Dict_age = {'Aさん' : 25, 'Bさん': 21, 'Cさん': 18}"
      ],
      "execution_count": null,
      "outputs": []
    },
    {
      "cell_type": "markdown",
      "metadata": {
        "id": "n25YgOic5Gnp"
      },
      "source": [
        "Bさんの値(今は年齢)を知りたければ以下のように一行で取得可能です."
      ]
    },
    {
      "cell_type": "code",
      "metadata": {
        "id": "bHh_DVUZ5KTH"
      },
      "source": [
        "Dict_age[\"Bさん\"]"
      ],
      "execution_count": null,
      "outputs": []
    },
    {
      "cell_type": "markdown",
      "metadata": {
        "id": "HP-pNfHg4Y5e"
      },
      "source": [
        "辞書を作る際には、 要素を取り出すためのキー(key)と値(value)の組み合わせで指定します.\n",
        "その際\n",
        "```\n",
        "{\"key\" : value}\n",
        "```\n",
        "とkeyとvalueをコロン:をつかって区切り、複数要素を入れる際はカンマで区切ります.  \n",
        "keyは文字列や数字(たとえば小中学校の出席番号とか)を使用することができ、  \n",
        "valueは様々な型が使えます。\n",
        "\n",
        "値(value)として、リストを保持することもできます.  \n",
        "次のように年齢と出身県のリストを値にもつ辞書にしてみましょう.\n"
      ]
    },
    {
      "cell_type": "code",
      "metadata": {
        "id": "PWzZQh4p5lqC"
      },
      "source": [
        "Dict = {'Aさん' : [25,\"栃木県\"], 'Bさん': [21,\"茨城県\"], 'Cさん': [18,\"群馬県\"]}"
      ],
      "execution_count": null,
      "outputs": []
    },
    {
      "cell_type": "markdown",
      "metadata": {
        "id": "cDz_Xk0I6D1k"
      },
      "source": [
        "Cさんの個人情報にアクセスする際は"
      ]
    },
    {
      "cell_type": "code",
      "metadata": {
        "id": "gqsBmc4o6Rkn"
      },
      "source": [
        "Dict[\"Cさん\"]"
      ],
      "execution_count": null,
      "outputs": []
    },
    {
      "cell_type": "markdown",
      "metadata": {
        "id": "E9fJ-WT76ROd"
      },
      "source": [
        "とすればいいことがわかります.\n",
        "\n",
        "慣れないうちはタプルや辞書を使わずリストだけ覚えておけば問題ないのですが  \n",
        "(僕も結構面倒だからリストでやっちゃう)  \n",
        "複雑な処理になるとパフォーマンス差が顕著になったり、  \n",
        "コードの可読性が低くなったり、  ミスの原因になるので  \n",
        "タプルや辞書型をうまく組み合わせながら使いましょう。\n",
        "\n",
        "また複数の情報を一つのオブジェクトにまとめる際はDataFrameというライブラリがよく使われます。  \n",
        "辞書の上位互換のようなイメージです. そのうち以降の章で扱うかもしれません."
      ]
    },
    {
      "cell_type": "markdown",
      "metadata": {
        "id": "dPK_KIGcyuod"
      },
      "source": [
        "# LICENSE"
      ]
    },
    {
      "cell_type": "markdown",
      "metadata": {
        "id": "q943wB7Z4DYK"
      },
      "source": [
        "\n",
        "Copyright (C) 2021 Sota Yoshida\n",
        "\n",
        "[ライセンス:クリエイティブ・コモンズ 4.0 表示 (CC-BY 4.0)](https://creativecommons.org/licenses/by/4.0/deed.ja)"
      ]
    }
  ]
}