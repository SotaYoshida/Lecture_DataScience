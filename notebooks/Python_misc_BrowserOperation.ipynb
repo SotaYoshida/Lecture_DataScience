{
  "nbformat": 4,
  "nbformat_minor": 0,
  "metadata": {
    "colab": {
      "name": "Python_misc_BrowserOperation.ipynb",
      "provenance": [],
      "collapsed_sections": [],
      "include_colab_link": true
    },
    "kernelspec": {
      "name": "python3",
      "display_name": "Python 3"
    }
  },
  "cells": [
    {
      "cell_type": "markdown",
      "metadata": {
        "id": "view-in-github",
        "colab_type": "text"
      },
      "source": [
        "<a href=\"https://colab.research.google.com/github/SotaYoshida/Lecture_DataScience/blob/2021/notebooks/Python_misc_BrowserOperation.ipynb\" target=\"_parent\"><img src=\"https://colab.research.google.com/assets/colab-badge.svg\" alt=\"Open In Colab\"/></a>"
      ]
    },
    {
      "cell_type": "markdown",
      "metadata": {
        "id": "XZAAgArxLx4q"
      },
      "source": [
        "最終更新 2021-01-17"
      ]
    },
    {
      "cell_type": "markdown",
      "metadata": {
        "id": "wffmjeTbLnOP"
      },
      "source": [
        "# ブラウザ操作"
      ]
    },
    {
      "cell_type": "markdown",
      "metadata": {
        "id": "GxYHU7mwS9Qh"
      },
      "source": [
        "以下では、Seleniumを用いた、簡単なブラウザ操作について説明する。\n",
        "\n",
        "基本的な方針は単純で、だいたい以下のようにまとめられる。\n",
        "1. ターゲットとするページのURLにブラウザでアクセスする\n",
        "2. ページのHTMLを読む  \n",
        "    (ブラウザにも依るが、たとえば対応するオブジェクトの上で右クリック→検証)\n",
        "3. 入力欄やボタンなどの要素をXPATHなどで指定する\n",
        "4. 要素に対して、やりたい作業(文字入力、入力のクリア、クリックなど)を行う\n",
        "\n"
      ]
    },
    {
      "cell_type": "markdown",
      "metadata": {
        "id": "bpOMSrUqNk19"
      },
      "source": [
        "## 重要な注意点と約束"
      ]
    },
    {
      "cell_type": "markdown",
      "metadata": {
        "id": "2I-_aoivNnEq"
      },
      "source": [
        "免責事項:  \n",
        "**本ノートブック記載の情報の利用により発生した  \n",
        "いかなるトラブル・損失・損害に対しても、  \n",
        "ノートブックの作成者は責任を負いません。**  \n",
        "\n",
        "ブラウザ操作は、便利な反面、その作業がサーバーに過度な負荷になっていないか注意したり  \n",
        "(ログイン作業などを扱う場合)ID・パスワードの管理等により一層注意する必要があります。\n",
        "\n",
        "以下は、トラブルを避ける一般論\n",
        "\n",
        "1. Webページ等のアクセスに関して、```time```モジュールのスリープ関数を使用するなどして、間隔を十分あける\n",
        "2. Webサービス等のログインに使うアカウントは、自動操作用のものを別途用意し、  \n",
        "所属やプライベートな情報と関わりの無いものを用いる\n",
        "3. 他人と当該のコードを共有する際に、自身のログイン情報等が記載されていないか確認する"
      ]
    },
    {
      "cell_type": "markdown",
      "metadata": {
        "id": "xupPkQPEL1l3"
      },
      "source": [
        "## 準備"
      ]
    },
    {
      "cell_type": "markdown",
      "metadata": {
        "id": "GktAwgf5L2or"
      },
      "source": [
        "まずは、ローカルのPython環境で、pipを使ってSeleniumをインストールしよう  \n",
        "\n",
        "Linux/MacやWindows上のUbuntu(環境構築の方法2-1)の場合は\n",
        "```\n",
        "pip3 install selenium\n",
        "```\n",
        "WindowsのPython&cmdを使う場合(環境構築の方法1の場合)は\n",
        "```\n",
        "pip install selenium\n",
        "```\n",
        "を実行する。\n",
        "\n",
        "\n",
        "\n",
        "Seleniumでブラウザを操作する際には、使用するブラウザに対応したWebドライバが必要となる。  \n",
        "以下では、Google Chromeを自動操作する場合を例に考える。  \n",
        "※自動操作に使うブラウザと普段使うブラウザは分けるのが推奨  \n",
        "SeleniumはChrome、Firefox、Internet Explorer、MS Edge, Opera、Safariに対応できる。 \n",
        "\n",
        "[こちらのリンク](https://chromedriver.chromium.org/downloads)から、\n",
        "使用するChromeのバージョンに整合したChromeDriverをダウンロードし、  \n",
        "解凍して出てくるバイナリファイルを適当なフォルダに置く。  \n",
        "(chromedriveや、chromedriver.exeという名前なはず)\n",
        "\n",
        "\n",
        "[[selenium向け] ChromeDriverをpipでインストールする方法（パス通し不要、バージョン指定可能）](https://qiita.com/hanzawak/items/2ab4d2a333d6be6ac760)  というのもあるらしい。  \n",
        "(動作するかは未検証)"
      ]
    },
    {
      "cell_type": "markdown",
      "metadata": {
        "id": "5zTwjgb7LhTc"
      },
      "source": [
        "## チュートリアル"
      ]
    },
    {
      "cell_type": "markdown",
      "metadata": {
        "id": "t8QiAmoXLirs"
      },
      "source": [
        "簡単なチュートリアル例として、\n",
        "\n",
        "Google ChromeでGoogleを開き「宇都宮大学」と検索し、30秒後にブラウザを閉じる\n",
        "\n",
        "という作業を自動化してみよう。  \n",
        "\n",
        "chromedriverのパス(windowsの場合はファイル名も)を変更し、  \n",
        "以下のコード例を手元のPython環境で実行してみよう\n",
        "\n",
        "```\n",
        "#!/usr/bin/env python\n",
        "# -*- coding: utf-8 -*-\n",
        "from selenium import webdriver\n",
        "import time\n",
        "import os \n",
        "CD_PATH=\"/Users/sotauu/Downloads/chromedriver\" #ココを自身の環境に変更\n",
        "# WSLからWindowsのダウンロードフォルダを指すパスはたとえば\n",
        "# /mnt/c/Users/[user name]/Downloads\n",
        "\n",
        "driver = webdriver.Chrome(executable_path=CD_PATH)\n",
        "driver.get('https://www.google.com/')\n",
        "search = driver.find_element_by_name('q')\n",
        "search.send_keys('宇都宮大学')\n",
        "search.submit()\n",
        "time.sleep(30)\n",
        "driver.quit()\n",
        "```"
      ]
    },
    {
      "cell_type": "markdown",
      "metadata": {
        "id": "MicPOcwTtR2V"
      },
      "source": [
        "実行の際は、例えば上記のコードを```browser_samplecode.py```などといった名前で保存し、  \n",
        "ターミナルから\n",
        "```\n",
        "python3 browser_samplecode.py\n",
        "```\n",
        "Windowsのコマンドプロンプト(インストーラでPythonを入れた場合)なら\n",
        "```\n",
        "python browser_samplecode.py\n",
        "```\n",
        "を実行する。  \n",
        "なお```browser_samplecode.py```の(相対 or 絶対)パスも、  \n",
        "必要に応じて適宜指定すること。  \n",
        "たとえばLinuxのホームディレクトリの直下のpythonというフォルダにソースコードを置いた場合は\n",
        "```\n",
        "python3 python/browser_samplecode.py\n",
        "```\n",
        "といった感じ。"
      ]
    },
    {
      "cell_type": "markdown",
      "metadata": {
        "id": "20097j0ddS_G"
      },
      "source": [
        "## オブジェクトの指定"
      ]
    },
    {
      "cell_type": "markdown",
      "metadata": {
        "id": "SmV-MKQUeWDC"
      },
      "source": [
        "Webページを構成する要素を指定する方法はいくつかあり  \n",
        "```\n",
        "find_element_by_XXX\n",
        "```\n",
        "という関数を用いる。  \n",
        "XXXには、```id,class,tag_name,name,link_text,xpath```などが入る。\n",
        "\n",
        "どれを用いるべきかはページに依存する。  \n",
        "経験的には...\n",
        ">とりあえず```xpath```を使用することにして  \n",
        ">「頻繁にHTMLの階層構造が変わる可能性がある」場合には別の方法を考える  \n",
        "\n",
        "という指針で良いように思う。"
      ]
    },
    {
      "cell_type": "markdown",
      "metadata": {
        "id": "6vj-xx0HeS4e"
      },
      "source": [
        "## オブジェクトに行う基本的な操作"
      ]
    },
    {
      "cell_type": "markdown",
      "metadata": {
        "id": "23rbjMMddWJg"
      },
      "source": [
        "上の方法で指定したオブジェクトに対し、  \n",
        "以下のような基本的な操作を組み合わせることで  \n",
        "様々な処理を自動化することができる。\n",
        "\n",
        "たとえば、\n",
        "\n",
        "* URLを開く関数\n",
        "     ```\n",
        "    get(URL)\n",
        "     ```\n",
        "* フォーム等に語句を入力する関数\n",
        "    ```\n",
        "    send_keys(“語句”)\n",
        "    ```\n",
        "* クリックする\n",
        "    ```\n",
        "    click()\n",
        "    ```\n",
        "* フォームの送信\n",
        "    ```\n",
        "    submit()\n",
        "    ```\n",
        "* 当該部のテキスト取得\n",
        "    ```\n",
        "    text\n",
        "    ```\n"
      ]
    },
    {
      "cell_type": "markdown",
      "metadata": {
        "id": "R3aFQ8OhjWe3"
      },
      "source": [
        "先の例では、\n",
        "```\n",
        "search = driver.find_element_by_name('q')\n",
        "search.send_keys('宇都宮大学')\n",
        "search.submit()\n",
        "```\n",
        "のように、指定したオブジェクトに対し、上のような関数を作用させていた。  \n",
        "実際、Googleの検索バーに相当するHTMLを読むと  \n",
        "\"q\"という名前/nameが割り当てられている."
      ]
    },
    {
      "cell_type": "markdown",
      "metadata": {
        "id": "W6oVvyWUuJf-"
      },
      "source": [
        "## Chromeのプロセスが残る場合"
      ]
    },
    {
      "cell_type": "markdown",
      "metadata": {
        "id": "lWC-bESbSv22"
      },
      "source": [
        "\n",
        "\n",
        "コード内で、Chromeを閉じる\n",
        "```\n",
        "driver.close()\n",
        "driver.quit()\n",
        "```\n",
        "といった作業をしてもGoogle Chromeのプロセスが残りメモリを食うときがある。   \n",
        "そんな時は、Chromeと名の付くプロセスを全て終了するのもよい。  \n",
        "(当然、Chromeで作業中の内容がある場合は注意)\n",
        "\n",
        "Linux/Unixターミナル上で\n",
        "```\n",
        "ps aux | grep Chrome | grep -v grep | awk '{ print \"kill -9\", $2 }' | sh\n",
        "```\n",
        "を実行する.  \n",
        "Pythonから同じこと(ターミナルで使うコマンドの実行)をやりたければ\n",
        "```\n",
        "import os \n",
        "os.system(\"ps aux | grep Chrome | grep -v grep | awk \"+\"'\"+'{ print '+'\"'+'kill -9'+'\",'+' $2 }'+\"'\"+' | sh')\n",
        "```"
      ]
    },
    {
      "cell_type": "markdown",
      "metadata": {
        "id": "OTpvhks4Lcrk"
      },
      "source": [
        "## オプション: バックグラウンドで実行する"
      ]
    },
    {
      "cell_type": "markdown",
      "metadata": {
        "id": "7kfJyojFVbRG"
      },
      "source": [
        "コードを作成するときには必要ないオプションだが、実際に運用する際  \n",
        "自動操作の度にブラウザが画面上に開いたりすると、日常的な作業の邪魔になることがある。  \n",
        "そういう時は、バックグラウンドで実行するオプションを試してみよう。\n",
        "\n",
        "それにはSeleniumの```webdriver.chrome.options```にある```Options```を用いる。  \n",
        "(これまたchromeの場合の説明であることに注意)\n"
      ]
    },
    {
      "cell_type": "markdown",
      "metadata": {
        "id": "GCJ4mrX3vTim"
      },
      "source": [
        "```\n",
        "#!/usr/bin/env python\n",
        "# -*- coding: utf-8 -*-\n",
        "from selenium import webdriver\n",
        "from selenium.webdriver.chrome.options import Options \n",
        "import time\n",
        "import os \n",
        "CD_PATH=\"/Users/sotauu/Downloads/chromedriver\" #ココを変更\n",
        "\n",
        "#オプションを指定\n",
        "option = Options()\n",
        "option.add_argument('--headless') #optionにheadlessを追加\n",
        "\n",
        "# options引数に設定したoptionを突っ込む   \n",
        "driver = webdriver.Chrome(executable_path=CD_PATH,options=option) \n",
        "\n",
        "driver.get('https://www.google.com/')\n",
        "search = driver.find_element_by_name('q')\n",
        "search.send_keys('宇都宮大学')\n",
        "search.submit()\n",
        "time.sleep(30)\n",
        "driver.quit()\n",
        "\n",
        "# プロセスを綺麗にしておく\n",
        "import os\n",
        "os.system(\"ps aux | grep Chrome | grep -v grep | awk \"+\"'\"+'{ print '+'\"'+'kill -9'+'\",'+' $2 }'+\"'\"+' | sh')\n",
        "```"
      ]
    }
   {
      "cell_type": "markdown",
      "metadata": {
        "id": "q943wB7Z4DYK"
      },
      "source": [
        "--\n",
        "\n",
        "Copyright (C) 2021 Sota Yoshida\n",
        "\n",
        "[ライセンス:クリエイティブ・コモンズ 4.0 表示 (CC-BY 4.0)](https://creativecommons.org/licenses/by/4.0/deed.ja)"
      ]
    }
  ]
}
