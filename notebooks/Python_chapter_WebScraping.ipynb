{
  "cells": [
    {
      "cell_type": "markdown",
      "metadata": {
        "colab_type": "text",
        "id": "view-in-github"
      },
      "source": [
        "<a href=\"https://colab.research.google.com/github/SotaYoshida/Lecture_DataScience/blob/main/notebooks/Python_chapter_WebScraping.ipynb\" target=\"_parent\"><img src=\"https://colab.research.google.com/assets/colab-badge.svg\" alt=\"Open In Colab\"/></a>"
      ]
    },
    {
      "cell_type": "markdown",
      "metadata": {
        "id": "hZr60g6XehqN"
      },
      "source": [
        "# Web操作・スクレイピング"
      ]
    },
    {
      "cell_type": "markdown",
      "metadata": {
        "id": "y6bjRQEEPOur"
      },
      "source": [
        "Webから情報を抽出・整形・解析したり、ブラウザ上での特定の操作を自動化する、といったこともPythonでは比較的容易に実行することができる。\n",
        "\n",
        "Web上にある情報にアクセスしたりする方法は色々あるが、大まかには２つに分類され\n",
        "\n",
        "1. プログラムでWebページにアクセスして中身(HTML)を読み、そこから情報を抽出する方法\n",
        "2. ブラウザをプログラムに操作させて特定の作業を実行する方法\n",
        "\n",
        "この章では、とくに1.のWebから情報を抽出すること(スクレイピング)に絞ってそのエッセンスを紹介する。  \n",
        "HTMLとは、Webページを作るための言語のことで、みなさんが普段からアクセスする多くのWebページは、HTMLで記述されています。\n",
        "\n",
        "Webから情報を抽出したりする際、共通して言える注意点を述べておく:\n",
        "* **対象とするページの利用規約を必ず確認する**  \n",
        "  規約でスクレイピングを禁止しているページがある  \n",
        "  (例: Amazon, Twitter, Instagram, facebook, 金融系などなど)  \n",
        "  禁止している場合でも、APIが提供されている場合がある  \n",
        "  (※APIはApplication Programming Interfaceの略)  \n",
        "  今の場合、大雑把にはデータ提供用の窓口とでも思ってください.\n",
        "\n",
        "* **サーバーに負荷をかけない**  \n",
        "  規約で特にスクレイピングを禁止していない場合でも、過度なアクセスをしてはいけません。  \n",
        "  (どこかの大学の教務ポータルみたいに落ちてしまったら大変です)   \n",
        "  過度なアクセスは、悪意のあるDos攻撃とみなされてアクセスを制限されたり、  \n",
        "  最悪の場合、偽計業務妨害罪などの罪に問われる可能性があります。\n",
        "\n",
        "\n",
        "\n"
      ]
    },
    {
      "cell_type": "markdown",
      "metadata": {
        "id": "4F9VwZUYTv-k"
      },
      "source": [
        "\n",
        "## 東京都の新型コロナウイルス関連情報の取得\n",
        "\n",
        "スクレイピングを可能とするライブラリは多数存在する。  \n",
        "代表的なものは```requests```や```urllib```。以下では```requests```を使います。  \n",
        "\n",
        "JavaScriptの実行などがないページならこれでだいたい十分かと思います.  \n",
        "また```BeutifulSoup4```というライブラリを使うと、HTMLを構文解析して、  \n",
        "タグなどを取り除くといった操作が比較的容易に行えます。\n",
        "\n"
      ]
    },
    {
      "attachments": {},
      "cell_type": "markdown",
      "metadata": {},
      "source": [
        "1つ目の例として、[東京都 新型コロナウイルス感染症対策サイト](https://stopcovid19.metro.tokyo.lg.jp/)の公開データを取得して  \n",
        "それをグラフにして可視化してみましょう。まずは必要なライブラリをインポートしておきます。"
      ]
    },
    {
      "cell_type": "code",
      "execution_count": null,
      "metadata": {
        "id": "up8cPse8AetS"
      },
      "outputs": [],
      "source": [
        "import requests\n",
        "import json #json形式のデータを扱うために必要\n",
        "import datetime #日付の処理に使う\n",
        "import matplotlib.pyplot as plt\n",
        "!pip install japanize-matplotlib \n",
        "import japanize_matplotlib "
      ]
    },
    {
      "attachments": {},
      "cell_type": "markdown",
      "metadata": {
        "id": "BnQLXHKjFjBq"
      },
      "source": [
        "[東京都 新型コロナウイルス感染症対策サイト](https://stopcovid19.metro.tokyo.lg.jp/)の[レポジトリ](https://github.com/tokyo-metropolitan-gov/covid19)で公開されているデータ(json形式)を読み出す。\n",
        "\n",
        "指定したurlにリクエストを送り、レスポンスをjson形式で取得する\n",
        "\n",
        ">ちなみに、json形式のデータは、元々JavaScriptのオブジェクトとして扱うために作られたものであるが、\n",
        "PythonやJava, PHPなどでも扱うことができる。Pythonで言うと辞書型が近い。"
      ]
    },
    {
      "cell_type": "code",
      "execution_count": null,
      "metadata": {
        "id": "T_1P0zx8AkK2"
      },
      "outputs": [],
      "source": [
        "url = \"https://raw.githubusercontent.com/tokyo-metropolitan-gov/covid19/development/data/data.json\"\n",
        "response = requests.get(url)\n",
        "data = response.json()"
      ]
    },
    {
      "cell_type": "markdown",
      "metadata": {
        "id": "SKHu3BaJGHV7"
      },
      "source": [
        "上の`data`(辞書型)を直接`print`すると表示が冗長になるため、代わりに、キーとして何があるかを見てみよう。"
      ]
    },
    {
      "cell_type": "code",
      "execution_count": null,
      "metadata": {
        "colab": {
          "base_uri": "https://localhost:8080/"
        },
        "id": "pYuurgg8GQt0",
        "outputId": "daada50f-ae8c-41fb-ae69-8173e3c676b9"
      },
      "outputs": [],
      "source": [
        "data.keys()"
      ]
    },
    {
      "cell_type": "markdown",
      "metadata": {
        "id": "MauYUeNZGSUt"
      },
      "source": [
        "それぞれ\n",
        "* contacts: 新型コロナコールセンター相談件数\n",
        "* querents: 帰国者・接触者電話相談センター相談件数\n",
        "* patients_summary: 陽性患者数\n",
        "* inspections_summary: 検査実施日別状況\n",
        "* lastUpdate: 最終更新日時\n",
        "* main_summary: (これはよくわからない, 使用されていなかったっぽい)\n",
        "\n",
        "に対応している。\n",
        "\n",
        "陽性患者数のデータの構造を調べつつ結果を可視化してみよう。  \n",
        "まずは型を調べてみる。"
      ]
    },
    {
      "cell_type": "code",
      "execution_count": null,
      "metadata": {
        "colab": {
          "base_uri": "https://localhost:8080/"
        },
        "id": "NkQkByDHH4d_",
        "outputId": "a19e1dc9-5625-4cb3-8df2-20eb4305894d"
      },
      "outputs": [],
      "source": [
        "type(data['patients_summary'])"
      ]
    },
    {
      "cell_type": "markdown",
      "metadata": {
        "id": "IHVWrC9OIEP0"
      },
      "source": [
        "辞書型とわかったのでキーの一覧を見てみよう"
      ]
    },
    {
      "cell_type": "code",
      "execution_count": null,
      "metadata": {
        "colab": {
          "base_uri": "https://localhost:8080/"
        },
        "id": "wv2FvdSkIDXg",
        "outputId": "fa3a7ee8-dfdb-498d-de72-9f1cb9b70785"
      },
      "outputs": [],
      "source": [
        "data['patients_summary'].keys()"
      ]
    },
    {
      "cell_type": "markdown",
      "metadata": {
        "id": "1yZUYEsmIK-I"
      },
      "source": [
        "同様にして`data['patients_summary'][\"data\"]`が\"日付\"と\"小計\"をキーに持つ辞書のリストだと分かる。"
      ]
    },
    {
      "cell_type": "code",
      "execution_count": null,
      "metadata": {},
      "outputs": [],
      "source": [
        "type(data['patients_summary']['data'])"
      ]
    },
    {
      "cell_type": "code",
      "execution_count": null,
      "metadata": {
        "colab": {
          "base_uri": "https://localhost:8080/"
        },
        "id": "hhAhiQfSISBz",
        "outputId": "88e0f766-6994-4919-f500-de1be2c7232c"
      },
      "outputs": [],
      "source": [
        "data['patients_summary'][\"data\"][0]"
      ]
    },
    {
      "cell_type": "markdown",
      "metadata": {
        "id": "iXuc95Z_IkdB"
      },
      "source": [
        "日付と陽性患者数をリストに直して、描画してみよう"
      ]
    },
    {
      "cell_type": "code",
      "execution_count": null,
      "metadata": {
        "colab": {
          "base_uri": "https://localhost:8080/"
        },
        "id": "y66ZWnHdDK5s",
        "outputId": "c7127a0a-d0e1-4f19-f137-a94dd00e6a63"
      },
      "outputs": [],
      "source": [
        "#　\"2022-01-01\"のような文字列をdatetimeに変換する関数\n",
        "def str_to_dt(tstr):\n",
        "    tdatetime = datetime.datetime.strptime(tstr, '%Y-%m-%d')\n",
        "    tdate = datetime.date(tdatetime.year, tdatetime.month, tdatetime.day)\n",
        "    return tdate\n",
        "    \n",
        "tdat = data['patients_summary'][\"data\"]\n",
        "N = len(tdat)\n",
        "tdat = data['patients_summary'][\"data\"]\n",
        "dates = [ str_to_dt(tdat[i][\"日付\"].split(\"T\")[0]) for i in range(N)]\n",
        "num_patients = [ tdat[i]['小計'] for i in range(N)]\n",
        "print(\"dates=>\",  dates)\n",
        "print(\"陽性患者数=>\", num_patients)"
      ]
    },
    {
      "cell_type": "code",
      "execution_count": null,
      "metadata": {
        "colab": {
          "base_uri": "https://localhost:8080/",
          "height": 292
        },
        "id": "aZx0omoSFYVq",
        "outputId": "44b64330-f48c-4cac-f963-0706adb35ce0"
      },
      "outputs": [],
      "source": [
        "fig = plt.figure(figsize=(15,4))\n",
        "plt.title(\"東京都\")\n",
        "plt.xlabel(\"日付\")\n",
        "plt.ylabel(\"陽性者数[人]\")\n",
        "plt.plot(dates,num_patients, color=\"green\")\n",
        "plt.show()\n",
        "plt.close()"
      ]
    },
    {
      "cell_type": "markdown",
      "metadata": {},
      "source": [
        "このようにして、Web上のデータを取得して、可視化することができた。\n",
        "\n",
        "ちなみに、東京都のCOVID19の[レポジトリ](https://github.com/Tokyo-Metro-Gov/covid19)は、\n",
        "5類以降後の2023年6月にPublic archiveとなり、更新を停止している。"
      ]
    },
    {
      "cell_type": "markdown",
      "metadata": {
        "id": "25k4E9a0WBHd"
      },
      "source": [
        "## e-Statのデータを取得する\n",
        "\n",
        "[政府統計の総合窓口(e-Stat)](https://www.e-stat.go.jp/)は日本の各府省が公表する統計データを一つにまとめた政府統計のポータルサイトである。\n",
        "\n",
        "e-Statでは[API機能](https://www.e-stat.go.jp/api/)(ユーザー登録が必要)が提供されていて、  \n",
        "指定されたURLに対してリクエストを送信することで各APIを利用することが出来る。\n",
        "\n",
        "\n"
      ]
    },
    {
      "cell_type": "markdown",
      "metadata": {
        "id": "0ixj5epofkdl"
      },
      "source": [
        "### 準備1 e-Statの登録\n",
        "\n",
        "\n",
        "\n",
        "\n"
      ]
    },
    {
      "cell_type": "markdown",
      "metadata": {
        "id": "zfPiBxkmizMv"
      },
      "source": [
        "以降の内容でも、e-StatのAPI機能を使用するため予めe-Statへの登録が必要になる。\n",
        "\n",
        "国内の公開データを使って最終課題に取り組みたいという方は、必ず、ここに記載の手順にならって登録しておこう。\n",
        "\n",
        "1. まず[こちら](https://www.e-stat.go.jp/mypage/user/preregister)のページからメールアドレス(Gmailを推奨します)を入力し、届いたメールから本登録を行う  \n",
        "  このとき、gmailアカウントによる認証をオンにしておくと、以後のログインが楽になる。\n",
        "\n",
        "2. [ログインページ](https://www.e-stat.go.jp/mypage/login)からログインし、右上の[マイページ]に遷移\n",
        "  <img src=\"https://drive.google.com/uc?export=view&id=1NHMQ8GnJ6n6hSaUAIFgOGyRc5Z55Enxj\" width = 70%>\n",
        "\n",
        "3. [API機能(アプリケーションID発行)]に遷移する\n",
        "\n",
        "4. 以下の例にならって、名称とURLを入力し、発行ボタンを押す。  \n",
        "  ここでは、名称はGoogleColab、URLは`https://test.localhost`としている。  \n",
        "  <img src=\"https://drive.google.com/uc?export=view&id=100w2nmie7ZD6PliQVbjAHIt7o5gaBciN\" width = 80%>\n",
        "\n",
        "5. [appId]に生成された文字列を、どこかに控えておく(**appIdを他人と共有してはいけません**)\n"
      ]
    },
    {
      "cell_type": "markdown",
      "metadata": {
        "id": "H_q7dts4iyJE"
      },
      "source": [
        "### 準備2 Pandas e-Statの導入\n"
      ]
    },
    {
      "cell_type": "markdown",
      "metadata": {
        "id": "l2ywuL1Ki2QB"
      },
      "source": [
        "さて、e-Statへの登録ができたでしょうか。  \n",
        "\n",
        "早速e-Statにあるデータをどんどん抽出したい  \n",
        "...のだが、[マニュアル](https://www.e-stat.go.jp/api/sites/default/files/uploads/2019/07/API-specVer3.0.pdf)を理解してAPIに適切なリクエストを送るというのは、それ自体がややハードルが高いように思う。\n",
        "\n",
        "そこで、このノートブックではPython用のライブラリ[Pandas e-Stat](https://github.com/kotamya/pandas-estat)を使用することにする。  \n",
        "ただし、このライブラリについてもpublic archive化されていて`pip`などでインストールできないため、\n",
        "Google Colabで使用しているサーバー上にライブライのソースファイルをダウンロードして展開し、インポートする荒業で対応する。  \n"
      ]
    },
    {
      "cell_type": "code",
      "execution_count": null,
      "metadata": {},
      "outputs": [],
      "source": [
        "#ホームディレクトリにレポジトリをクローン\n",
        "%cd \n",
        "!git clone https://github.com/kotamya/pandas-estat.git\n",
        "\n",
        "# ディレクトリ名を変更し、レポジトリ内に移動しインポート\n",
        "!mv pandas-estat local_library\n",
        "%cd ./local_library/\n",
        "import pandas_estat as pandas_estat"
      ]
    },
    {
      "cell_type": "markdown",
      "metadata": {
        "id": "IMr1sWo20JI-"
      },
      "source": [
        "**AppIDの定義**"
      ]
    },
    {
      "cell_type": "code",
      "execution_count": null,
      "metadata": {},
      "outputs": [],
      "source": [
        "appID = \"dcda7e96569055203230f2aaf838de5200aace1e\" \n",
        "pandas_estat.set_appid(appID)"
      ]
    },
    {
      "cell_type": "markdown",
      "metadata": {
        "id": "KbrL52_4cdga"
      },
      "source": [
        "\n",
        "```read_statslist()```関数の引数に\"政府統計コード\"を指定することで、  \n",
        "該当する統計データの一覧を```pandas.DataFrame```形式で取得することができる。  \n",
        "[政府統計コードの一覧はこちら](https://www.e-stat.go.jp/help/stat-search-3-5)\n",
        "\n",
        "以下では、「サービス産業動向調査」の結果を例に抽出してみる。"
      ]
    },
    {
      "cell_type": "code",
      "execution_count": null,
      "metadata": {
        "colab": {
          "base_uri": "https://localhost:8080/"
        },
        "id": "JZ6HgRbkcO3P",
        "outputId": "79189f74-3fcc-4409-ca19-0b8359604627"
      },
      "outputs": [],
      "source": [
        "# サービス産業動向調査\n",
        "statslist = read_statslist(\"00200544\")  \n",
        "statslist"
      ]
    },
    {
      "cell_type": "markdown",
      "metadata": {
        "id": "wMHn2KBQgvgI"
      },
      "source": [
        "次に、これらのデータがどうやって分類されているのかを調べてみましょう。  \n",
        "列(column)を表示してみると"
      ]
    },
    {
      "cell_type": "code",
      "execution_count": null,
      "metadata": {
        "colab": {
          "base_uri": "https://localhost:8080/"
        },
        "id": "p13KGCATg0aw",
        "outputId": "575c6607-167d-4a64-e5ac-82da6935e06f"
      },
      "outputs": [],
      "source": [
        "print(statslist.columns)"
      ]
    },
    {
      "cell_type": "markdown",
      "metadata": {
        "id": "616jD7Q5hbLL"
      },
      "source": [
        "例えば、```CYCLE```(周期)というものがあるので、  \n",
        "CYCLEが\"月次\"(月ごと)になっているデータだけをピックアップして、  "
      ]
    },
    {
      "cell_type": "code",
      "execution_count": null,
      "metadata": {
        "id": "HJGryvLBc0ty"
      },
      "outputs": [],
      "source": [
        "statslist = statslist[statslist.CYCLE == \"月次\"] "
      ]
    },
    {
      "cell_type": "markdown",
      "metadata": {
        "id": "tGm4W58th85l"
      },
      "source": [
        "\n",
        "その```TABLE_INF```(統計表ID)と```TITLE```(タイトル)だけを表示してみましょう"
      ]
    },
    {
      "cell_type": "code",
      "execution_count": null,
      "metadata": {
        "colab": {
          "base_uri": "https://localhost:8080/"
        },
        "id": "vLnBXsfgh_C_",
        "outputId": "987b8b47-5564-419c-d6c5-5aeac7746081"
      },
      "outputs": [],
      "source": [
        "statslist[[\"TABLE_INF\", \"TITLE\"]]"
      ]
    },
    {
      "cell_type": "markdown",
      "metadata": {
        "id": "xuoghPkAciH6"
      },
      "source": [
        "```TABLE_INF```の数値が[統計表ID]と呼ばれるものです。"
      ]
    },
    {
      "cell_type": "markdown",
      "metadata": {
        "id": "TASwyySl35Rf"
      },
      "source": [
        "ではこの中から\"事業活動の産業（中分類）別売上高（月次）【2013年1月～】\"を読み出してみましょう。  \n",
        "それには```read_statsdata```という関数が用意されているので、  \n",
        "引数に```TABLE_INF```(統計表ID)を入力すると..."
      ]
    },
    {
      "cell_type": "code",
      "execution_count": null,
      "metadata": {
        "colab": {
          "base_uri": "https://localhost:8080/"
        },
        "id": "eRg7btsH35X0",
        "outputId": "11cd68e4-c244-4a4f-c6d3-446426d1e0ef"
      },
      "outputs": [],
      "source": [
        "from pandas_estat import read_statsdata \n",
        "df = read_statsdata(\"0003191203\")  \n",
        "df"
      ]
    },
    {
      "cell_type": "markdown",
      "metadata": {
        "id": "pPWScZG1e0Zu"
      },
      "source": [
        "これで、データを抽出することができました。"
      ]
    },
    {
      "cell_type": "code",
      "execution_count": null,
      "metadata": {
        "colab": {
          "base_uri": "https://localhost:8080/"
        },
        "id": "2IdKeyZ_vLqw",
        "outputId": "62fa4030-df23-453c-8bee-9d6eab523c76"
      },
      "outputs": [],
      "source": [
        "df.columns"
      ]
    },
    {
      "cell_type": "markdown",
      "metadata": {
        "id": "BC5Z5beZvgZ_"
      },
      "source": [
        "もう属性を少し絞ってみましょう。\n",
        "\n",
        "dataframeの\"事業活動の産業\"列にどんなものがあるかを抽出し、  \n",
        "```set```関数を使って重複を除くと..."
      ]
    },
    {
      "cell_type": "code",
      "execution_count": null,
      "metadata": {
        "colab": {
          "base_uri": "https://localhost:8080/"
        },
        "id": "J1LtPEnxvf89",
        "outputId": "917711c3-64d2-4f7f-9a02-1f61220056d5"
      },
      "outputs": [],
      "source": [
        "set(df[\"事業活動の産業\"])"
      ]
    },
    {
      "cell_type": "markdown",
      "metadata": {
        "id": "u0GQxlyZwJa9"
      },
      "source": [
        "\"42鉄道業\"を見てみましょう。  "
      ]
    },
    {
      "cell_type": "code",
      "execution_count": null,
      "metadata": {
        "colab": {
          "base_uri": "https://localhost:8080/"
        },
        "id": "QM1iHQkKwVhq",
        "outputId": "5a7c4bea-f252-48c2-846a-e7c039fc4bd0"
      },
      "outputs": [],
      "source": [
        "ndf = df[df[\"事業活動の産業\"] == \"42鉄道業\"] #dfの中の、\"事業活動の産業欄が\"42鉄道業\"のものを抽出し、ndfと名前をつける\n",
        "\n",
        "ndf = ndf[ndf[\"時間軸（月次）\"].str.endswith(\"月\")]\n",
        "ndf[\"時間軸（月次）\"] = pd.to_datetime(ndf[\"時間軸（月次）\"], format=\"%Y年%m月\")\n",
        "ndf = ndf.sort_values(\"時間軸（月次）\")\n",
        "\n",
        "#必要なところだけ抽出すると...\n",
        "ndf[[\"時間軸（月次）\", \"value\", \"unit\"]]"
      ]
    },
    {
      "cell_type": "markdown",
      "metadata": {
        "id": "AS81LjUszJuv"
      },
      "source": [
        "図を描いてみよう"
      ]
    },
    {
      "cell_type": "code",
      "execution_count": null,
      "metadata": {
        "colab": {
          "base_uri": "https://localhost:8080/"
        },
        "id": "t-EtOX6tzLJh",
        "outputId": "97e640e4-00d7-4ee7-d57a-e1fc7933f357"
      },
      "outputs": [],
      "source": [
        "import matplotlib.pyplot as plt\n",
        "!pip install japanize-matplotlib \n",
        "import japanize_matplotlib \n",
        "import matplotlib.dates as mdates"
      ]
    },
    {
      "cell_type": "code",
      "execution_count": null,
      "metadata": {
        "colab": {
          "base_uri": "https://localhost:8080/",
          "height": 205
        },
        "id": "_HnkKKiyxBuT",
        "outputId": "4908d995-9efd-4c91-b947-3a906b029a9d"
      },
      "outputs": [],
      "source": [
        "x = ndf[\"時間軸（月次）\"].values\n",
        "y = ndf[\"value\"].values.astype(float) * 1.e-2  # XX億円に換算\n",
        "\n",
        "fig = plt.figure(figsize=(30, 4))\n",
        "ax = fig.add_subplot(111)  \n",
        "ax.set_facecolor(\"#e0e0e0\")\n",
        "ax.set_ylabel(\"鉄道業の収益 [億円]\")\n",
        "ax.xaxis.set_major_locator(mdates.MonthLocator(bymonth=range(1, 13, 4)))\n",
        "ax.xaxis.set_major_formatter(mdates.DateFormatter(\"%Y/%m\"))\n",
        "ax.grid(True,axis=\"both\",color=\"w\", linestyle=\"dotted\", linewidth=0.8)\n",
        "ax.plot(x,y,marker=\"o\",color=\"green\")\n",
        "plt.show()\n",
        "plt.close()"
      ]
    },
    {
      "cell_type": "markdown",
      "metadata": {
        "id": "-bB9Upw_zg_K"
      },
      "source": [
        "新型コロナウイルスの感染拡大を受けて2020年の1月ごろから  \n",
        "緊急事態宣言の解除(5月25日)まで、大幅に収益が減っていることが分かる。\n",
        "\n",
        "\n",
        "\n",
        "---\n",
        "\n"
      ]
    },
    {
      "attachments": {},
      "cell_type": "markdown",
      "metadata": {
        "id": "Nq2fTnB_fEjF"
      },
      "source": [
        "### 備考\n",
        "\n",
        "あらかじめ興味のあるデータ,分類・属性等がわかっている場合は、  \n",
        "上記のコードの対応するIDなどを変更すればよいし  \n",
        "コードを拡張して、データ,分類・属性等の一覧表などを適宜表示しながら、  \n",
        "特定のキーワードを含むものに絞ってデータを取得したりもできる。\n",
        "\n",
        "ちなみに、GoogleColabで提供されているコードスニペット(テンプレートのようなもの)  \n",
        "を用いることで、プルダウンでデータ,分類・属性等を選んでプロットする、  \n",
        "といったようにGoogle Colab.上で自分だけのe-Stat分析ツールを作ることもできる  \n",
        "(最終課題で取り組むのも良い)\n"
      ]
    },
    {
      "cell_type": "markdown",
      "metadata": {},
      "source": []
    },
    {
      "cell_type": "markdown",
      "metadata": {},
      "source": []
    },
    {
      "cell_type": "code",
      "execution_count": null,
      "metadata": {},
      "outputs": [],
      "source": [
        "!git clone https://github.com/kotamya/pandas-estat.git\n",
        "!mv pandas-estat local_library\n",
        "%cd local_library\n"
      ]
    },
    {
      "cell_type": "code",
      "execution_count": null,
      "metadata": {},
      "outputs": [],
      "source": [
        "!pwd\n",
        "#import local_library.pandas_estat"
      ]
    },
    {
      "cell_type": "code",
      "execution_count": null,
      "metadata": {},
      "outputs": [],
      "source": []
    },
    {
      "cell_type": "code",
      "execution_count": null,
      "metadata": {},
      "outputs": [],
      "source": [
        "import requests\n",
        "import pandas as pd\n",
        "\n",
        "# グローバル変数でAppIDを設定する\n",
        "appID = \"\" # 引用符内を準備1で発行したappidに置き換える\n",
        "appID = \"dcda7e96569055203230f2aaf838de5200aace1e\" \n",
        "\n"
      ]
    },
    {
      "cell_type": "code",
      "execution_count": null,
      "metadata": {},
      "outputs": [],
      "source": [
        "from typing import Any\n",
        "from typing import Dict\n",
        "from typing import Optional\n",
        "\n",
        "def read_statslist(code):\n",
        "    # code: str,\n",
        "    # limit: int = None,\n",
        "    # start_position: Optional[int] = None,\n",
        "    # updated_date: Optional[str] = None,\n",
        "    # lang: str = \"J\",\n",
        "    # appid: Optional[str] = None,\n",
        "    # version: str = \"3.0\",\n",
        "    # **kwargs,\n",
        "    # pd.DataFrame:\n",
        "\n",
        "    reader = StatsListReader(\n",
        "        code,\n",
        "        limit=limit,\n",
        "        start_position=start_position,\n",
        "        updated_date=updated_date,\n",
        "        lang=lang,\n",
        "        appid=appid,\n",
        "        version=version,\n",
        "    )\n",
        "    dataframe = reader.read(**kwargs)\n",
        "    return dataframe\n",
        "\n",
        "class StatsListReader(BaseReader):\n",
        "    \"\"\"統計表情報を取得します。\n",
        "\n",
        "    Args:\n",
        "        code (str): 政府統計コードです。\n",
        "            数値 5 桁: 作成機関で検索\n",
        "            数値 8 桁: 政府統計コードで検索\n",
        "            次のページから検索できます。\n",
        "            https://www.e-stat.go.jp/api/api-info/api-data\n",
        "            e-Stat API の ``statsCode`` に対応します。\n",
        "        limit (int, optional): データの取得行数を指定して下さい。\n",
        "            省略時は 10 万件です。\n",
        "            データ件数が指定した limit 値より少ない場合、全件を取得します。\n",
        "            データ件数が指定した limit 値より多い場合（継続データが存在する）は、\n",
        "            受信したデータの ``<NEXT_KEY>`` タグに継続データの開始行が設定されます。\n",
        "            e-Stat API の ``limit`` に対応します。\n",
        "        start_position (int, optional): データの取得開始位置（1 から始まる行番号）を指定して下さい。\n",
        "            省略時は先頭から取得します。\n",
        "            統計データを複数回に分けて取得する場合等、継続データを取得する開始位置を指定するために指定します。\n",
        "            前回受信したデータの ``<NEXT_KEY>`` タグの値を指定します。\n",
        "            e-Stat API の ``startPosition`` に対応します。\n",
        "        updated_date (str, optional): 更新日付を指定します。\n",
        "            指定された期間で更新された統計表の情報を提供します。\n",
        "            以下のいずれかの形式で指定して下さい。\n",
        "\n",
        "            - ``YYYY``: 単年検索\n",
        "            - ``YYYYMM``: 単月検索\n",
        "            - ``YYYYMMDD``: 単日検索\n",
        "            - ``YYYYMMDD-YYYYMMDD``: 範囲検索\n",
        "\n",
        "            e-Stat API の ``updatedDate`` に相当します。\n",
        "        lang ({\"J\", \"E\"}, default \"J\"): 取得するデータの言語です。\n",
        "            ``\"J\"`` （日本語）または ``\"E\"`` （英語）で指定してください。\n",
        "            e-Stat API の ``lang`` に対応します。\n",
        "        appid (str, optional): アプリケーション ID です。\n",
        "            指定しない場合、:func:`pandas_estat.set_appid` で指定した値か、\n",
        "            環境変数 ``ESTAT_APPID`` を用います。\n",
        "            e-Stat API の ``appId`` に対応します。\n",
        "        version (str, default \"3.0\"): API 仕様バージョンです。\n",
        "            https://www.e-stat.go.jp/api/api-info/api-spec\n",
        "    \"\"\"\n",
        "\n",
        "    QUERY = \"getSimpleStatsList\"\n",
        "    TABLE_TAG = \"STAT_INF\"\n",
        "\n",
        "    def __init__(\n",
        "        self,\n",
        "        code: str,\n",
        "        limit: Optional[int] = None,\n",
        "        start_position: Optional[int] = None,\n",
        "        updated_date: Optional[str] = None,\n",
        "        lang: str = \"J\",\n",
        "        appid: Optional[str] = None,\n",
        "        version: str = \"3.0\",\n",
        "    ) -> None:\n",
        "        self.code = code\n",
        "        self.limit = limit\n",
        "        self.start_position = start_position\n",
        "        self.updated_date = updated_date\n",
        "        self.lang = lang\n",
        "        self.appid = get_appid(appid)\n",
        "        self.version = version\n",
        "\n",
        "        if self.appid is None:\n",
        "            raise ValueError(\"アプリケーション ID が指定されていません。\")\n",
        "        if not (isinstance(code, str) and re.fullmatch(r\"(\\d{5}|\\d{8})\", code)):\n",
        "            raise ValueError(\n",
        "                \"政府統計コードは 5 桁か 8 桁の数字を str 型で指定してください。\\n\"\n",
        "                \"e-Stat 提供データ: https://www.e-stat.go.jp/api/api-info/api-data\"\n",
        "            )\n",
        "\n",
        "        if lang == \"E\":\n",
        "            raise NotImplementedError\n",
        "        if lang not in (\"J\", \"E\"):\n",
        "            raise ValueError('言語 lang は \"J\" か \"E\" で指定してください。')\n",
        "\n",
        "    @property\n",
        "    def params(self) -> dict:\n",
        "        \"\"\"e-Stat API のパラメータ群を `dict` 形式で返します。\n",
        "\n",
        "        Note:\n",
        "            - 参照: e-Stat API v3.0 仕様 2.1 API の利用方法 - 統計表情報取得\n",
        "            - 参照: e-Stat API v3.0 仕様 3.2 API パラメータ - 統計表情報取得\n",
        "\n",
        "        Returns:\n",
        "            dict\n",
        "        \"\"\"\n",
        "        params: Dict[str, Any] = {\"appId\": self.appid, \"statsCode\": self.code}\n",
        "\n",
        "        if self.limit is not None:\n",
        "            params[\"limit\"] = self.limit\n",
        "        if self.start_position is not None:\n",
        "            params[\"startPosition\"] = self.start_position\n",
        "        if self.updated_date is not None:\n",
        "            params[\"updatedDate\"] = self.updated_date\n",
        "        if self.lang is not None:\n",
        "            params[\"lang\"] = self.lang\n",
        "\n",
        "        return params"
      ]
    },
    {
      "cell_type": "code",
      "execution_count": null,
      "metadata": {},
      "outputs": [],
      "source": []
    }
  ],
  "metadata": {
    "colab": {
      "collapsed_sections": [],
      "include_colab_link": true,
      "name": "Python_chapter_WebScraping.ipynb",
      "provenance": []
    },
    "kernelspec": {
      "display_name": "Python 3",
      "name": "python3"
    },
    "language_info": {
      "codemirror_mode": {
        "name": "ipython",
        "version": 3
      },
      "file_extension": ".py",
      "mimetype": "text/x-python",
      "name": "python",
      "nbconvert_exporter": "python",
      "pygments_lexer": "ipython3",
      "version": "3.10.13"
    }
  },
  "nbformat": 4,
  "nbformat_minor": 0
}
