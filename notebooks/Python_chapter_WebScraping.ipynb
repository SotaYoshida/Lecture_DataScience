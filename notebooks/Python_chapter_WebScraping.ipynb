{
  "nbformat": 4,
  "nbformat_minor": 0,
  "metadata": {
    "colab": {
      "name": "Python_chapter_WebScraping.ipynb",
      "provenance": [],
      "collapsed_sections": [],
      "include_colab_link": true
    },
    "kernelspec": {
      "name": "python3",
      "display_name": "Python 3"
    }
  },
  "cells": [
    {
      "cell_type": "markdown",
      "metadata": {
        "id": "view-in-github",
        "colab_type": "text"
      },
      "source": [
        "<a href=\"https://colab.research.google.com/github/SotaYoshida/Lecture_DataScience/blob/2021/notebooks/Python_chapter_WebScraping.ipynb\" target=\"_parent\"><img src=\"https://colab.research.google.com/assets/colab-badge.svg\" alt=\"Open In Colab\"/></a>"
      ]
    },
    {
      "cell_type": "markdown",
      "metadata": {
        "id": "hZr60g6XehqN"
      },
      "source": [
        "# Web操作・スクレイピング"
      ]
    },
    {
      "cell_type": "markdown",
      "metadata": {
        "id": "y6bjRQEEPOur"
      },
      "source": [
        "Webから情報を抽出・整形・解析したり、  \n",
        "ブラウザ上での特定の操作を自動化する、といったことも  \n",
        "Pythonでは比較的容易に実行することができる。\n",
        "\n",
        "Web上にある情報にアクセスしたりする方法は色々あるが、大まかには２つに分類され\n",
        "\n",
        "1. プログラムでWebページにアクセスして中身(HTML)を読み、そこから情報を抽出する方法\n",
        "2. ブラウザをプログラムに操作させて特定の作業を実行する方法\n",
        "\n",
        "この章では、とくに1.のWebから情報を抽出すること(スクレイピング)に絞ってそのエッセンスを紹介する。  \n",
        "HTMLとは、Webページを作るための言語のことで、  \n",
        "みなさんが普段からアクセスするWebページの多くは、  \n",
        "HTMLで記述されています。\n",
        "\n",
        "\n",
        "Webから情報を抽出したりする際、共通して言える注意点を述べておく:\n",
        "* **対象とするページの利用規約を必ず確認する**  \n",
        "規約でスクレイピングを禁止しているページがある (例: Amazon, Twitter, Instagram, facebook, 金融系などなど)  \n",
        "    禁止している場合でも、APIが提供されている場合があります  \n",
        "    ※APIはApplication Programming Interfaceの略です。  \n",
        "    今の場合、大雑把にはデータ提供用の窓口とでも思ってください.\n",
        "\n",
        "* **サーバーに負荷をかけない**  \n",
        "    規約で特にスクレイピングを禁止していない場合でも、過度なアクセスをしてはいけません。  \n",
        "    (どこかの大学の学習支援システムみたいに落ちてしまったら大変です)   \n",
        "    過度なアクセスは、悪意のあるDos攻撃とみなされてアクセスを制限されたり、  \n",
        "    最悪の場合、偽計業務妨害罪などの罪に問われる可能性があります。\n",
        "\n",
        "\n",
        "\n"
      ]
    },
    {
      "cell_type": "markdown",
      "metadata": {
        "id": "4F9VwZUYTv-k"
      },
      "source": [
        "\n",
        "## 国立感染症研究所からのインフルエンザの感染報告者数の取得\n",
        "\n",
        "\n",
        "スクレイピングを可能とするライブラリは多数存在する。  \n",
        "代表的なものは```requests```,```urllib```,```BeautifulSoup4```などなど。\n",
        "\n",
        "以下では```requests```を使いますが、JavaScriptの実行などがないページならこれでだいたい十分かと思います.  \n",
        "なお、BeutifulSoup4を使うと、HTMLを構文解析して、  \n",
        "タグなどを取り除くという操作が比較的容易に行えます。\n",
        "\n",
        "[国立感染症研究所のインフルエンザ流行レベルマップ](https://nesid4g.mhlw.go.jp/Hasseidoko/Levelmap/flu/)から  \n",
        "各週のインフルエンザ患者数を抽出する以下のコードを実行してみましょう。\n",
        "\n",
        "ややadhocな実装ですが、以下の方針で情報を取得します。\n",
        "1. URL\n",
        "https://nesid4g.mhlw.go.jp/Hasseidoko/Levelmap/flu/\n",
        "にアクセスしてページ構造をなんとなく把握する\n",
        "2. 予め決めた年・週の区間に対してループを回して、対応するURLにアクセスする\n",
        "3. ページにアクセスして、HTMLを取得する ```requests.get(url)```\n",
        "4. HTMLをテキストに変換して、[患者報告数]という語句のあとの文字列から数値を取得し、患者報告数の絶対数だとみなす\n"
      ]
    },
    {
      "cell_type": "code",
      "metadata": {
        "id": "PUgjpwi2ebdQ",
        "colab": {
          "base_uri": "https://localhost:8080/"
        },
        "outputId": "6778b9a4-07bf-4c9e-9256-030390f52a75"
      },
      "source": [
        "import requests\n",
        "!pip install cchardet\n",
        "import cchardet\n",
        "import time\n",
        "import re #正規表現というものを使うためのモジュール\n",
        "\n",
        "def exnum(a): #文字列から数値を抽出する関数\n",
        "    pattern = r'(\\d{1,3}(,\\d{3})*)'\n",
        "    return re.findall(pattern,a)\n",
        "\n",
        "# 7を\"07\"といった表現に直す関数\n",
        "def week_str(week):\n",
        "    if week < 10:\n",
        "        return \"0\"+str(week)\n",
        "    else:\n",
        "        return str(week)\n",
        "\n",
        "#スクレイピングする区間の指定\n",
        "years = range(2016,2017)\n",
        "#years = range(2013,2020)\n",
        "sw = 35; ew = 28\n",
        "\n",
        "weeks = [j for j in range(sw,53)] + [i for i in range(1,ew)]\n",
        "hit =0 \n",
        "for s_year in years: # s_yearは○○-△△年シーズンの○○に相当\n",
        "    tlist = []\n",
        "    for week in weeks:\n",
        "        c_week = week_str(week)\n",
        "        tw=\"\"\n",
        "        if s_year < 2007:\n",
        "            tw= str(c_week)            \n",
        "        if week <=ew :\n",
        "            c_year = str(s_year+1)\n",
        "        else:\n",
        "            c_year = str(s_year)\n",
        "        time.sleep(0.5) ###サイトに負荷をかけないように0.5秒スリープ(なにもしない)\n",
        "        url = 'https://nesid4g.mhlw.go.jp/Hasseidoko/Levelmap/flu/'+str(s_year)+'_'+str(s_year+1)+'/'+c_year+'_'+c_week+'/jmap'+tw+'.html'\n",
        "        ctext = str(c_year)+\"年\"+c_week+\"週目: \"\n",
        "        num = \"\"\n",
        "        try : \n",
        "            response = requests.get(url) #urlにアクセスしてhtmlを取得する\n",
        "            # htmlの文字コードを判別する\n",
        "            #response.encoding = response.apparent_encoding ## 遅いので非推奨\n",
        "            response.encoding = cchardet.detect(response.content)[\"encoding\"] #代わりにcchardetモジュールを使用 \n",
        "            lines = response.text           #htmlをテキスト(文字列)に変換\n",
        "            tmp = lines.split(\"患者報告数\")  #\"患者報告数\"という文字列以降のテキストを取得\n",
        "            num = exnum(tmp[1][:20])[0] #そこから20文字くらい読んで、その中に含まれる数値を取得する\n",
        "            try :\n",
        "                if type(num) is tuple: #数値が複数ある場合は0番目を患者数とみなす\n",
        "                    num = num[0]\n",
        "                ctmp = str( int(num.replace(\",\",\"\")))\n",
        "                ctext += ctmp\n",
        "            except:\n",
        "                print(\"error\")\n",
        "        except:\n",
        "            continue\n",
        "        tlist += [ ctext  ]     \n",
        "    print(tlist)\n"
      ],
      "execution_count": null,
      "outputs": [
        {
          "output_type": "stream",
          "text": [
            "Requirement already satisfied: cchardet in /usr/local/lib/python3.6/dist-packages (2.1.7)\n",
            "['2016年44週目: 2903', '2016年45週目: 4133', '2016年46週目: 6843', '2016年47週目: 8843', '2016年48週目: 12334', '2016年49週目: 16404', '2016年50週目: 24857', '2016年51週目: 41428', '2016年52週目: 41438', '2017年01週目: 52082', '2017年02週目: 75576', '2017年03週目: 142144', '2017年04週目: 195501', '2017年05週目: 189231', '2017年06週目: 141666', '2017年07週目: 118696', '2017年08週目: 83714', '2017年09週目: 67273', '2017年10週目: 55004', '2017年11週目: 50976', '2017年12週目: 38231', '2017年13週目: 33608', '2017年14週目: 25048', '2017年15週目: 19730', '2017年16週目: 20127', '2017年17週目: 15467', '2017年18週目: 10001', '2017年19週目: 6786', '2017年20週目: 5184', '2017年21週目: 3344', '2017年22週目: 2100']\n"
          ],
          "name": "stdout"
        }
      ]
    },
    {
      "cell_type": "markdown",
      "metadata": {
        "id": "qvmKugWYEPjh"
      },
      "source": [
        "実は、このコードでは全てのデータを完全に抽出することは出来ていない。  \n",
        "これはコードの\"対応力\"の問題でもある。  \n",
        "実際、ホームページの階層構造を解析するコードにすれば  \n",
        "URLの取得等の精度を改善することもできる。\n",
        "\n",
        "一方で、以下のようにデータのフォーマットが統一できてないことも原因といえる。\n",
        "\n",
        "* 2007年以前と以降とで、urlの命名規則が微妙に変更されている(上のコードではこれには対応した)\n",
        "* 幾つかの週では[患者報告数]ではなく、  \n",
        "[定点あたり報告数のみ]の記載となっていて、  \n",
        "保健所数を別途取得しなければ絶対数が計算できない。\n",
        "* 2016年の01週は、[患年者報告数]となっていて  \n",
        "誤字がある場合への例外処理が別途必要になる\n",
        "\n",
        "一方、以下で扱うe-Statは、河野太郎 行政改革担当大臣が  \n",
        ">各省庁がネット上で公開する統計を機械判読可能にするために、データの表記方法を統一させます。「政府統計の総合窓口（e-Stat）」で本日から１２月１日までの間、表記方法案に関する意見照会を行います。研究者をはじめ、皆様のご意見をお待ちしています。\n",
        "\n",
        "との旨を先日(2020年11月25日)表明し、データのフォーマットの統一化が進められるようです。\n"
      ]
    },
    {
      "cell_type": "markdown",
      "metadata": {
        "id": "25k4E9a0WBHd"
      },
      "source": [
        "## e-Statのデータを取得する\n",
        "\n",
        "[政府統計の総合窓口(e-Stat)](https://www.e-stat.go.jp/)は  \n",
        "日本の各府省が公表する統計データを一つにまとめた、   \n",
        "政府統計のポータルサイトです。\n",
        "\n",
        "e-Statでは[API機能](https://www.e-stat.go.jp/api/)(ユーザー登録が必要)が提供されていて、  \n",
        "指定されたURLに対してリクエストを送信することで各APIを利用することが出来ます。\n",
        "\n",
        "\n"
      ]
    },
    {
      "cell_type": "markdown",
      "metadata": {
        "id": "0ixj5epofkdl"
      },
      "source": [
        "### 準備1 e-Statの登録\n",
        "\n",
        "\n",
        "\n",
        "\n"
      ]
    },
    {
      "cell_type": "markdown",
      "metadata": {
        "id": "zfPiBxkmizMv"
      },
      "source": [
        "以降の内容でも、e-StatのAPI機能を使用するため予めe-Statへの登録が必要です。\n",
        "\n",
        "国内のデータを使って最終課題に取り組みたいという方は  \n",
        "ここに記載の手順にならって登録しておきましょう。\n",
        "\n",
        "1. まず[こちら](https://www.e-stat.go.jp/mypage/user/preregister)のページからメールアドレス(Gmailを推奨します)を入力し、届いたメールから本登録を行う  \n",
        "このとき、gmailアカウントによる認証をオンにしておくと、以後のログインが楽。\n",
        "2. [ログインページ](https://www.e-stat.go.jp/mypage/login)からログインし、\n",
        "右上の[マイページ]に遷移\n",
        "<img src=\"https://drive.google.com/uc?export=view&id=1NHMQ8GnJ6n6hSaUAIFgOGyRc5Z55Enxj\" width = 70%>\n",
        "3. [API機能(アプリケーションID発行)]に遷移する\n",
        "4. 以下の例にならって、名称とURLを入力し、発行ボタンを押す\n",
        "<img src=\"https://drive.google.com/uc?export=view&id=100w2nmie7ZD6PliQVbjAHIt7o5gaBciN\" width = 80%>\n",
        "\n",
        "5. [appId]に生成された文字列を、どこかに控えておく(**appIdを他人と共有してはいけません**)\n"
      ]
    },
    {
      "cell_type": "markdown",
      "metadata": {
        "id": "H_q7dts4iyJE"
      },
      "source": [
        "### 準備2 Pandas e-Statのインストール\n"
      ]
    },
    {
      "cell_type": "markdown",
      "metadata": {
        "id": "l2ywuL1Ki2QB"
      },
      "source": [
        "さて、e-Statへの登録ができたでしょうか。  \n",
        "\n",
        "早速e-Statにあるデータをどんどん抽出したい  \n",
        "...のですが、[マニュアル](https://www.e-stat.go.jp/api/sites/default/files/uploads/2019/07/API-specVer3.0.pdf)を理解してAPIに適切なリクエストを送るというのは、  \n",
        "それ自体がややハードルが高いかと思います。\n",
        "\n",
        "そこで、このノートブックでは[simaki](https://github.com/simaki)氏が作った  \n",
        "Python用のライブラリ[Pandas e-Stat](https://github.com/simaki/pandas-estat)を使用することにします。  \n",
        "同氏によるQiitaの解説記事→https://qiita.com/simaki/items/05cc242d27b4e6781d19\n",
        "\n",
        "まずはインストール&インポートします。\n",
        "\n"
      ]
    },
    {
      "cell_type": "code",
      "metadata": {
        "colab": {
          "base_uri": "https://localhost:8080/"
        },
        "id": "P20H8bGrXnC1",
        "outputId": "a2034d7f-0dc3-4c9f-9f2c-fd0f8359b8f8"
      },
      "source": [
        "!pip install pandas-estat\n",
        "import pandas as pd\n",
        "## import pandas_estat \n",
        "# 以降では、pandas_estat内の関数は個別にimportすることにする (そうすると短い名前で使える)\n",
        "\n",
        "#実行時の依存関係のエラーは当面問題ない(はず)"
      ],
      "execution_count": null,
      "outputs": [
        {
          "output_type": "stream",
          "text": [
            "Collecting pandas-estat\n",
            "  Downloading https://files.pythonhosted.org/packages/ba/d6/de9d172039b92e2f77b8fe291c506c55db18b7762b7b2eddab7b1e16852e/pandas_estat-0.2.2-py3-none-any.whl\n",
            "Requirement already satisfied: pandas<2.0.0,>=1.1.4 in /usr/local/lib/python3.6/dist-packages (from pandas-estat) (1.1.5)\n",
            "Collecting requests<3.0.0,>=2.25.0\n",
            "\u001b[?25l  Downloading https://files.pythonhosted.org/packages/29/c1/24814557f1d22c56d50280771a17307e6bf87b70727d975fd6b2ce6b014a/requests-2.25.1-py2.py3-none-any.whl (61kB)\n",
            "\u001b[K     |████████████████████████████████| 61kB 5.1MB/s \n",
            "\u001b[?25hRequirement already satisfied: pytz>=2017.2 in /usr/local/lib/python3.6/dist-packages (from pandas<2.0.0,>=1.1.4->pandas-estat) (2018.9)\n",
            "Requirement already satisfied: python-dateutil>=2.7.3 in /usr/local/lib/python3.6/dist-packages (from pandas<2.0.0,>=1.1.4->pandas-estat) (2.8.1)\n",
            "Requirement already satisfied: numpy>=1.15.4 in /usr/local/lib/python3.6/dist-packages (from pandas<2.0.0,>=1.1.4->pandas-estat) (1.19.4)\n",
            "Requirement already satisfied: urllib3<1.27,>=1.21.1 in /usr/local/lib/python3.6/dist-packages (from requests<3.0.0,>=2.25.0->pandas-estat) (1.24.3)\n",
            "Requirement already satisfied: certifi>=2017.4.17 in /usr/local/lib/python3.6/dist-packages (from requests<3.0.0,>=2.25.0->pandas-estat) (2020.12.5)\n",
            "Requirement already satisfied: idna<3,>=2.5 in /usr/local/lib/python3.6/dist-packages (from requests<3.0.0,>=2.25.0->pandas-estat) (2.10)\n",
            "Requirement already satisfied: chardet<5,>=3.0.2 in /usr/local/lib/python3.6/dist-packages (from requests<3.0.0,>=2.25.0->pandas-estat) (3.0.4)\n",
            "Requirement already satisfied: six>=1.5 in /usr/local/lib/python3.6/dist-packages (from python-dateutil>=2.7.3->pandas<2.0.0,>=1.1.4->pandas-estat) (1.15.0)\n",
            "\u001b[31mERROR: google-colab 1.0.0 has requirement requests~=2.23.0, but you'll have requests 2.25.1 which is incompatible.\u001b[0m\n",
            "\u001b[31mERROR: datascience 0.10.6 has requirement folium==0.2.1, but you'll have folium 0.8.3 which is incompatible.\u001b[0m\n",
            "Installing collected packages: requests, pandas-estat\n",
            "  Found existing installation: requests 2.23.0\n",
            "    Uninstalling requests-2.23.0:\n",
            "      Successfully uninstalled requests-2.23.0\n",
            "Successfully installed pandas-estat-0.2.2 requests-2.25.1\n"
          ],
          "name": "stdout"
        }
      ]
    },
    {
      "cell_type": "markdown",
      "metadata": {
        "id": "81nepFn_cbZc"
      },
      "source": [
        "次に```pandas_estat```からAPIを使用するためのIDを指定します"
      ]
    },
    {
      "cell_type": "code",
      "metadata": {
        "id": "zhWUx4u9aVtS"
      },
      "source": [
        "from pandas_estat import set_appid\n",
        "appID = \"honyarara\" # 引用符内を準備1で発行したappidに置き換える\n",
        "set_appid(appID) "
      ],
      "execution_count": null,
      "outputs": []
    },
    {
      "cell_type": "markdown",
      "metadata": {
        "id": "IMr1sWo20JI-"
      },
      "source": [
        "## Pandas e-Statを使ってみよう"
      ]
    },
    {
      "cell_type": "markdown",
      "metadata": {
        "id": "KbrL52_4cdga"
      },
      "source": [
        "ライブラリを使ってみましょう.  \n",
        "```read_statslist()```関数の引数に\"政府統計コード\"を指定することで、  \n",
        "該当する統計データの一覧を```pandas.DataFrame```形式で取得することができます。  \n",
        "[政府統計コードの一覧はこちら](https://www.e-stat.go.jp/help/stat-search-3-5)\n",
        "\n",
        "\n",
        "政府統計コードそのものの一覧をdataframe形式取得するコードはそのうち書くつもりです。  \n"
      ]
    },
    {
      "cell_type": "markdown",
      "metadata": {
        "id": "wi4ef0kxtGRD"
      },
      "source": [
        "それでは、さっそくPandas e-statを使ってみましょう。  \n",
        "以下では、例にならって「サービス産業動向調査」の結果を抽出してみることにしましょう。"
      ]
    },
    {
      "cell_type": "code",
      "metadata": {
        "colab": {
          "base_uri": "https://localhost:8080/"
        },
        "id": "JZ6HgRbkcO3P",
        "outputId": "26ee984d-6e1c-4c8d-9414-6b3da6e505e4"
      },
      "source": [
        "from pandas_estat import read_statslist\n",
        "statslist = read_statslist(\"00200544\")  # サービス産業動向調査\n",
        "print(statslist)"
      ],
      "execution_count": null,
      "outputs": [
        {
          "output_type": "stream",
          "text": [
            "      TABLE_INF STAT_CODE  ... SUB_CATEGORY_CODE SUB_CATEGORY\n",
            "0    0003179100  00200544  ...                02         需給流通\n",
            "1    0003179101  00200544  ...                02         需給流通\n",
            "2    0003085562  00200544  ...                02         需給流通\n",
            "3    0003085612  00200544  ...                02         需給流通\n",
            "4    0003090498  00200544  ...                02         需給流通\n",
            "..          ...       ...  ...               ...          ...\n",
            "137  0003412789  00200544  ...                02         需給流通\n",
            "138  0003412790  00200544  ...                02         需給流通\n",
            "139  0003412791  00200544  ...                02         需給流通\n",
            "140  0003412792  00200544  ...                02         需給流通\n",
            "141  0003412793  00200544  ...                02         需給流通\n",
            "\n",
            "[142 rows x 35 columns]\n"
          ],
          "name": "stdout"
        }
      ]
    },
    {
      "cell_type": "markdown",
      "metadata": {
        "id": "wMHn2KBQgvgI"
      },
      "source": [
        "次に、これらのデータがどうやって分類されているのかを調べてみましょう。  \n",
        "列(column)を表示してみると"
      ]
    },
    {
      "cell_type": "code",
      "metadata": {
        "colab": {
          "base_uri": "https://localhost:8080/"
        },
        "id": "p13KGCATg0aw",
        "outputId": "90cfe054-9f16-4b60-fd99-b59d1ab80627"
      },
      "source": [
        "print(statslist.columns)"
      ],
      "execution_count": null,
      "outputs": [
        {
          "output_type": "stream",
          "text": [
            "Index(['TABLE_INF', 'STAT_CODE', 'STAT_NAME', 'GOV_ORG_CODE', 'GOV_ORG_NAME',\n",
            "       'TABULATION_CATEGORY', 'TABULATION_SUB_CATEGORY1',\n",
            "       'TABULATION_SUB_CATEGORY2', 'TABULATION_SUB_CATEGORY3',\n",
            "       'TABULATION_SUB_CATEGORY4', 'TABULATION_SUB_CATEGORY5',\n",
            "       'TABULATION_CATEGORY_EXPLANATION',\n",
            "       'TABULATION_SUB_CATEGORY_EXPLANATION1',\n",
            "       'TABULATION_SUB_CATEGORY_EXPLANATION2',\n",
            "       'TABULATION_SUB_CATEGORY_EXPLANATION3',\n",
            "       'TABULATION_SUB_CATEGORY_EXPLANATION4',\n",
            "       'TABULATION_SUB_CATEGORY_EXPLANATION5', 'NO', 'TITLE',\n",
            "       'TABLE_EXPLANATION', 'TABLE_CATEGORY', 'TABLE_SUB_CATEGORY1',\n",
            "       'TABLE_SUB_CATEGORY2', 'TABLE_SUB_CATEGORY3', 'CYCLE', 'SURVEY_DATE',\n",
            "       'OPEN_DATE', 'SMALL_AREA', 'COLLECT_AREA', 'OVERALL_TOTAL_NUMBER',\n",
            "       'UPDATED_DATE', 'MAIN_CATEGORY_CODE', 'MAIN_CATEGORY',\n",
            "       'SUB_CATEGORY_CODE', 'SUB_CATEGORY'],\n",
            "      dtype='object')\n"
          ],
          "name": "stdout"
        }
      ]
    },
    {
      "cell_type": "markdown",
      "metadata": {
        "id": "616jD7Q5hbLL"
      },
      "source": [
        "例えば、```CYCLE```(周期)というものがあるので、  \n",
        "CYCLEが\"月次\"(月ごと)になっているデータだけをピックアップして、  "
      ]
    },
    {
      "cell_type": "code",
      "metadata": {
        "id": "HJGryvLBc0ty"
      },
      "source": [
        "statslist = statslist[statslist.CYCLE == \"月次\"] "
      ],
      "execution_count": null,
      "outputs": []
    },
    {
      "cell_type": "markdown",
      "metadata": {
        "id": "tGm4W58th85l"
      },
      "source": [
        "\n",
        "その```TABLE_INF```(統計表ID)と```TITLE```(タイトル)だけを表示してみましょう"
      ]
    },
    {
      "cell_type": "code",
      "metadata": {
        "colab": {
          "base_uri": "https://localhost:8080/",
          "height": 204
        },
        "id": "vLnBXsfgh_C_",
        "outputId": "7094cb49-1d25-4e0d-a5b4-c84389536a49"
      },
      "source": [
        "statslist[[\"TABLE_INF\", \"TITLE\"]]"
      ],
      "execution_count": null,
      "outputs": [
        {
          "output_type": "execute_result",
          "data": {
            "text/html": [
              "<div>\n",
              "<style scoped>\n",
              "    .dataframe tbody tr th:only-of-type {\n",
              "        vertical-align: middle;\n",
              "    }\n",
              "\n",
              "    .dataframe tbody tr th {\n",
              "        vertical-align: top;\n",
              "    }\n",
              "\n",
              "    .dataframe thead th {\n",
              "        text-align: right;\n",
              "    }\n",
              "</style>\n",
              "<table border=\"1\" class=\"dataframe\">\n",
              "  <thead>\n",
              "    <tr style=\"text-align: right;\">\n",
              "      <th></th>\n",
              "      <th>TABLE_INF</th>\n",
              "      <th>TITLE</th>\n",
              "    </tr>\n",
              "  </thead>\n",
              "  <tbody>\n",
              "    <tr>\n",
              "      <th>2</th>\n",
              "      <td>0003085562</td>\n",
              "      <td>事業所・企業等の産業（中分類）別売上高，従業上の地位別事業従事者数（月次）【2013年1月～】</td>\n",
              "    </tr>\n",
              "    <tr>\n",
              "      <th>5</th>\n",
              "      <td>0003191203</td>\n",
              "      <td>事業活動の産業（中分類）別売上高（月次）【2013年1月～】</td>\n",
              "    </tr>\n",
              "    <tr>\n",
              "      <th>7</th>\n",
              "      <td>0003085489</td>\n",
              "      <td>事業活動の産業（中分類）別需要の状況【2013年1月～2016年12月】</td>\n",
              "    </tr>\n",
              "    <tr>\n",
              "      <th>8</th>\n",
              "      <td>0003085521</td>\n",
              "      <td>事業活動の産業（中分類），事業所・企業等の産業（中分類）別売上高（月次）【2013年1月～12月】</td>\n",
              "    </tr>\n",
              "    <tr>\n",
              "      <th>10</th>\n",
              "      <td>0003094573</td>\n",
              "      <td>事業活動の産業（一部中分類），事業所・企業等の産業（一部中分類）別売上高（月次）【2013年...</td>\n",
              "    </tr>\n",
              "  </tbody>\n",
              "</table>\n",
              "</div>"
            ],
            "text/plain": [
              "     TABLE_INF                                              TITLE\n",
              "2   0003085562    事業所・企業等の産業（中分類）別売上高，従業上の地位別事業従事者数（月次）【2013年1月～】\n",
              "5   0003191203                     事業活動の産業（中分類）別売上高（月次）【2013年1月～】\n",
              "7   0003085489               事業活動の産業（中分類）別需要の状況【2013年1月～2016年12月】\n",
              "8   0003085521  事業活動の産業（中分類），事業所・企業等の産業（中分類）別売上高（月次）【2013年1月～12月】\n",
              "10  0003094573  事業活動の産業（一部中分類），事業所・企業等の産業（一部中分類）別売上高（月次）【2013年..."
            ]
          },
          "metadata": {
            "tags": []
          },
          "execution_count": 9
        }
      ]
    },
    {
      "cell_type": "markdown",
      "metadata": {
        "id": "xuoghPkAciH6"
      },
      "source": [
        "```TABLE_INF```の数値が[統計表ID]と呼ばれるものです。"
      ]
    },
    {
      "cell_type": "markdown",
      "metadata": {
        "id": "TASwyySl35Rf"
      },
      "source": [
        "ではこの中から\"事業活動の産業（中分類）別売上高（月次）【2013年1月～】\"を読み出してみましょう。  \n",
        "それには```read_statsdata```という関数が用意されているので、  \n",
        "引数に```TABLE_INF```(統計表ID)を入力すると..."
      ]
    },
    {
      "cell_type": "code",
      "metadata": {
        "id": "eRg7btsH35X0",
        "colab": {
          "base_uri": "https://localhost:8080/"
        },
        "outputId": "01ea697f-a311-46b4-f4c7-351fbc9e5ff9"
      },
      "source": [
        "from pandas_estat import read_statsdata \n",
        "df = read_statsdata(\"0003191203\")  \n",
        "print(df)"
      ],
      "execution_count": null,
      "outputs": [
        {
          "output_type": "stream",
          "text": [
            "     tab_code      表章項目 cat01_code 事業活動の産業  ...    時間軸（月次） unit     value annotation\n",
            "0         001  売上高（収入額）      00000      合計  ...    2013年1月  百万円  27331888        NaN\n",
            "1         001  売上高（収入額）      00000      合計  ...    2013年2月  百万円  27395304        NaN\n",
            "2         001  売上高（収入額）      00000      合計  ...    2013年3月  百万円  35140562        NaN\n",
            "3         001  売上高（収入額）      00000      合計  ...    2013年4月  百万円  28676427        NaN\n",
            "4         001  売上高（収入額）      00000      合計  ...    2013年5月  百万円  28648626        NaN\n",
            "...       ...       ...        ...     ...  ...        ...  ...       ...        ...\n",
            "4459      001  売上高（収入額）      20000     その他  ...    2020年5月  百万円    753034        NaN\n",
            "4460      001  売上高（収入額）      20000     その他  ...    2020年6月  百万円    841843        NaN\n",
            "4461      001  売上高（収入額）      20000     その他  ...  2020年7月 p  百万円    809144        NaN\n",
            "4462      001  売上高（収入額）      20000     その他  ...  2020年8月 p  百万円    798929        NaN\n",
            "4463      001  売上高（収入額）      20000     その他  ...  2020年9月 p  百万円   1062060        NaN\n",
            "\n",
            "[4464 rows x 11 columns]\n"
          ],
          "name": "stdout"
        }
      ]
    },
    {
      "cell_type": "markdown",
      "metadata": {
        "id": "pPWScZG1e0Zu"
      },
      "source": [
        "これで、データを抽出することができました。"
      ]
    },
    {
      "cell_type": "code",
      "metadata": {
        "colab": {
          "base_uri": "https://localhost:8080/"
        },
        "id": "2IdKeyZ_vLqw",
        "outputId": "845eab90-4b89-408f-a74b-ea3cf08dfcef"
      },
      "source": [
        "df.columns"
      ],
      "execution_count": null,
      "outputs": [
        {
          "output_type": "execute_result",
          "data": {
            "text/plain": [
              "Index(['tab_code', '表章項目', 'cat01_code', '事業活動の産業', 'area_code', '地域',\n",
              "       'time_code', '時間軸（月次）', 'unit', 'value', 'annotation'],\n",
              "      dtype='object')"
            ]
          },
          "metadata": {
            "tags": []
          },
          "execution_count": 11
        }
      ]
    },
    {
      "cell_type": "markdown",
      "metadata": {
        "id": "BC5Z5beZvgZ_"
      },
      "source": [
        "もう属性を少し絞ってみましょう。\n",
        "\n",
        "dataframeの\"事業活動の産業\"列にどんなものがあるかを抽出し、  \n",
        "```set```関数を使って重複を除くと..."
      ]
    },
    {
      "cell_type": "code",
      "metadata": {
        "colab": {
          "base_uri": "https://localhost:8080/"
        },
        "id": "J1LtPEnxvf89",
        "outputId": "19ae8a92-16de-428d-b9a2-f2be09dc203a"
      },
      "source": [
        "set(df[\"事業活動の産業\"])"
      ],
      "execution_count": null,
      "outputs": [
        {
          "output_type": "execute_result",
          "data": {
            "text/plain": [
              "{'37通信業',\n",
              " '38放送業',\n",
              " '39情報サービス業',\n",
              " '4*航空運輸業，郵便業（信書便事業を含む）',\n",
              " '40インターネット附随サービス業',\n",
              " '41映像・音声・文字情報制作業',\n",
              " '42鉄道業',\n",
              " '43道路旅客運送業',\n",
              " '44道路貨物運送業',\n",
              " '45水運業',\n",
              " '47倉庫業',\n",
              " '48運輸に附帯するサービス業',\n",
              " '68不動産取引業',\n",
              " '69不動産賃貸業・管理業',\n",
              " '70物品賃貸業',\n",
              " '72専門サービス業（他に分類されないもの）\\u3000（※「純粋持株会社」（平成25年１月以降）を除く）',\n",
              " '73広告業',\n",
              " '74技術サービス業（他に分類されないもの）',\n",
              " '75宿泊業',\n",
              " '76飲食店',\n",
              " '77持ち帰り・配達飲食サービス業',\n",
              " '78洗濯・理容・美容・浴場業',\n",
              " '79その他の生活関連サービス業\\u3000（※「家事サービス業」を除く）',\n",
              " '80娯楽業',\n",
              " '82aうち社会教育，職業・教育支援施設',\n",
              " '82bうち学習塾，教養・技能教授業',\n",
              " '82その他の教育，学習支援業',\n",
              " '83医療業',\n",
              " '84保健衛生\\u3000（※「保健所」を除く）',\n",
              " '85社会保険・社会福祉・介護事業\\u3000（※「社会保険事業団体」（平成25年１月以降）及び「福祉事務所」を除く）',\n",
              " '88廃棄物処理業',\n",
              " '89自動車整備業',\n",
              " '90機械等修理業（別掲を除く）',\n",
              " '91職業紹介・労働者派遣業',\n",
              " '92その他の事業サービス業',\n",
              " '95その他のサービス業',\n",
              " 'その他',\n",
              " 'サービス産業計',\n",
              " '合計',\n",
              " 'Ｇ情報通信業',\n",
              " 'Ｈ運輸業，郵便業',\n",
              " 'Ｋ不動産業，物品賃貸業',\n",
              " 'Ｌ学術研究，専門・技術サービス業\\u3000（※「学術・開発研究機関」（平成25年１月以降）及び「純粋持株会社」（平成25年１月以降）を除く）',\n",
              " 'Ｍ宿泊業，飲食サービス業',\n",
              " 'Ｎ生活関連サービス業，娯楽業\\u3000（※「家事サービス業」を除く）',\n",
              " 'Ｏ教育，学習支援業\\u3000（※「学校教育」を除く）',\n",
              " 'Ｐ医療，福祉（※「保健所」、「社会保険事業団体」（平成25年１月以降）及び「福祉事務所」を除く）',\n",
              " 'Ｒサービス業（他に分類されないもの）\\u3000（※「政治・経済・文化団体」、「宗教」及び「外国公務」を除く）'}"
            ]
          },
          "metadata": {
            "tags": []
          },
          "execution_count": 12
        }
      ]
    },
    {
      "cell_type": "markdown",
      "metadata": {
        "id": "u0GQxlyZwJa9"
      },
      "source": [
        "\"42鉄道業\"を見てみましょう。  "
      ]
    },
    {
      "cell_type": "code",
      "metadata": {
        "colab": {
          "base_uri": "https://localhost:8080/",
          "height": 657
        },
        "id": "QM1iHQkKwVhq",
        "outputId": "cf32dc1e-8d2f-4fd5-fa92-7746c92fbbd7"
      },
      "source": [
        "ndf = df[df[\"事業活動の産業\"] == \"42鉄道業\"] #dfの中の、\"事業活動の産業欄が\"42鉄道業\"のものを抽出し、ndfと名前をつける\n",
        "\n",
        "ndf = ndf[ndf[\"時間軸（月次）\"].str.endswith(\"月\")]\n",
        "ndf[\"時間軸（月次）\"] = pd.to_datetime(ndf[\"時間軸（月次）\"], format=\"%Y年%m月\")\n",
        "ndf = ndf.sort_values(\"時間軸（月次）\")\n",
        "\n",
        "#必要なところだけ抽出すると...\n",
        "ndf[[\"時間軸（月次）\", \"value\", \"unit\"]]"
      ],
      "execution_count": null,
      "outputs": [
        {
          "output_type": "stream",
          "text": [
            "    tab_code      表章項目 cat01_code 事業活動の産業  ...  時間軸（月次） unit   value annotation\n",
            "837      001  売上高（収入額）      03010   42鉄道業  ...  2013年1月  百万円  583438        NaN\n",
            "838      001  売上高（収入額）      03010   42鉄道業  ...  2013年2月  百万円  529656        NaN\n",
            "839      001  売上高（収入額）      03010   42鉄道業  ...  2013年3月  百万円  644219        NaN\n",
            "840      001  売上高（収入額）      03010   42鉄道業  ...  2013年4月  百万円  627287        NaN\n",
            "841      001  売上高（収入額）      03010   42鉄道業  ...  2013年5月  百万円  581344        NaN\n",
            "..       ...       ...        ...     ...  ...      ...  ...     ...        ...\n",
            "922      001  売上高（収入額）      03010   42鉄道業  ...  2020年2月  百万円  579211        NaN\n",
            "923      001  売上高（収入額）      03010   42鉄道業  ...  2020年3月  百万円  518402        NaN\n",
            "924      001  売上高（収入額）      03010   42鉄道業  ...  2020年4月  百万円  254320        NaN\n",
            "925      001  売上高（収入額）      03010   42鉄道業  ...  2020年5月  百万円  234375        NaN\n",
            "926      001  売上高（収入額）      03010   42鉄道業  ...  2020年6月  百万円  314957        NaN\n",
            "\n",
            "[90 rows x 11 columns]\n"
          ],
          "name": "stdout"
        },
        {
          "output_type": "execute_result",
          "data": {
            "text/html": [
              "<div>\n",
              "<style scoped>\n",
              "    .dataframe tbody tr th:only-of-type {\n",
              "        vertical-align: middle;\n",
              "    }\n",
              "\n",
              "    .dataframe tbody tr th {\n",
              "        vertical-align: top;\n",
              "    }\n",
              "\n",
              "    .dataframe thead th {\n",
              "        text-align: right;\n",
              "    }\n",
              "</style>\n",
              "<table border=\"1\" class=\"dataframe\">\n",
              "  <thead>\n",
              "    <tr style=\"text-align: right;\">\n",
              "      <th></th>\n",
              "      <th>時間軸（月次）</th>\n",
              "      <th>value</th>\n",
              "      <th>unit</th>\n",
              "    </tr>\n",
              "  </thead>\n",
              "  <tbody>\n",
              "    <tr>\n",
              "      <th>837</th>\n",
              "      <td>2013-01-01</td>\n",
              "      <td>583438</td>\n",
              "      <td>百万円</td>\n",
              "    </tr>\n",
              "    <tr>\n",
              "      <th>838</th>\n",
              "      <td>2013-02-01</td>\n",
              "      <td>529656</td>\n",
              "      <td>百万円</td>\n",
              "    </tr>\n",
              "    <tr>\n",
              "      <th>839</th>\n",
              "      <td>2013-03-01</td>\n",
              "      <td>644219</td>\n",
              "      <td>百万円</td>\n",
              "    </tr>\n",
              "    <tr>\n",
              "      <th>840</th>\n",
              "      <td>2013-04-01</td>\n",
              "      <td>627287</td>\n",
              "      <td>百万円</td>\n",
              "    </tr>\n",
              "    <tr>\n",
              "      <th>841</th>\n",
              "      <td>2013-05-01</td>\n",
              "      <td>581344</td>\n",
              "      <td>百万円</td>\n",
              "    </tr>\n",
              "    <tr>\n",
              "      <th>...</th>\n",
              "      <td>...</td>\n",
              "      <td>...</td>\n",
              "      <td>...</td>\n",
              "    </tr>\n",
              "    <tr>\n",
              "      <th>922</th>\n",
              "      <td>2020-02-01</td>\n",
              "      <td>579211</td>\n",
              "      <td>百万円</td>\n",
              "    </tr>\n",
              "    <tr>\n",
              "      <th>923</th>\n",
              "      <td>2020-03-01</td>\n",
              "      <td>518402</td>\n",
              "      <td>百万円</td>\n",
              "    </tr>\n",
              "    <tr>\n",
              "      <th>924</th>\n",
              "      <td>2020-04-01</td>\n",
              "      <td>254320</td>\n",
              "      <td>百万円</td>\n",
              "    </tr>\n",
              "    <tr>\n",
              "      <th>925</th>\n",
              "      <td>2020-05-01</td>\n",
              "      <td>234375</td>\n",
              "      <td>百万円</td>\n",
              "    </tr>\n",
              "    <tr>\n",
              "      <th>926</th>\n",
              "      <td>2020-06-01</td>\n",
              "      <td>314957</td>\n",
              "      <td>百万円</td>\n",
              "    </tr>\n",
              "  </tbody>\n",
              "</table>\n",
              "<p>90 rows × 3 columns</p>\n",
              "</div>"
            ],
            "text/plain": [
              "       時間軸（月次）   value unit\n",
              "837 2013-01-01  583438  百万円\n",
              "838 2013-02-01  529656  百万円\n",
              "839 2013-03-01  644219  百万円\n",
              "840 2013-04-01  627287  百万円\n",
              "841 2013-05-01  581344  百万円\n",
              "..         ...     ...  ...\n",
              "922 2020-02-01  579211  百万円\n",
              "923 2020-03-01  518402  百万円\n",
              "924 2020-04-01  254320  百万円\n",
              "925 2020-05-01  234375  百万円\n",
              "926 2020-06-01  314957  百万円\n",
              "\n",
              "[90 rows x 3 columns]"
            ]
          },
          "metadata": {
            "tags": []
          },
          "execution_count": 32
        }
      ]
    },
    {
      "cell_type": "markdown",
      "metadata": {
        "id": "AS81LjUszJuv"
      },
      "source": [
        "図を描いてみよう"
      ]
    },
    {
      "cell_type": "code",
      "metadata": {
        "id": "t-EtOX6tzLJh",
        "colab": {
          "base_uri": "https://localhost:8080/"
        },
        "outputId": "65138d34-7be0-4539-c08c-4560c9a597f2"
      },
      "source": [
        "import matplotlib.pyplot as plt\n",
        "!pip install japanize-matplotlib \n",
        "import japanize_matplotlib \n",
        "import matplotlib.dates as mdates"
      ],
      "execution_count": null,
      "outputs": [
        {
          "output_type": "stream",
          "text": [
            "Requirement already satisfied: japanize-matplotlib in /usr/local/lib/python3.6/dist-packages (1.1.3)\n",
            "Requirement already satisfied: matplotlib in /usr/local/lib/python3.6/dist-packages (from japanize-matplotlib) (3.2.2)\n",
            "Requirement already satisfied: cycler>=0.10 in /usr/local/lib/python3.6/dist-packages (from matplotlib->japanize-matplotlib) (0.10.0)\n",
            "Requirement already satisfied: numpy>=1.11 in /usr/local/lib/python3.6/dist-packages (from matplotlib->japanize-matplotlib) (1.19.4)\n",
            "Requirement already satisfied: pyparsing!=2.0.4,!=2.1.2,!=2.1.6,>=2.0.1 in /usr/local/lib/python3.6/dist-packages (from matplotlib->japanize-matplotlib) (2.4.7)\n",
            "Requirement already satisfied: python-dateutil>=2.1 in /usr/local/lib/python3.6/dist-packages (from matplotlib->japanize-matplotlib) (2.8.1)\n",
            "Requirement already satisfied: kiwisolver>=1.0.1 in /usr/local/lib/python3.6/dist-packages (from matplotlib->japanize-matplotlib) (1.3.1)\n",
            "Requirement already satisfied: six in /usr/local/lib/python3.6/dist-packages (from cycler>=0.10->matplotlib->japanize-matplotlib) (1.15.0)\n"
          ],
          "name": "stdout"
        }
      ]
    },
    {
      "cell_type": "code",
      "metadata": {
        "colab": {
          "base_uri": "https://localhost:8080/",
          "height": 264
        },
        "id": "_HnkKKiyxBuT",
        "outputId": "5598bd06-0ac1-41fd-cf06-4d5cb001b31e"
      },
      "source": [
        "x = ndf[\"時間軸（月次）\"].values\n",
        "y = ndf[\"value\"].values.astype(float) * 1.e-2  # XX億円に換算\n",
        "\n",
        "fig = plt.figure(figsize=(30, 4))\n",
        "ax = fig.add_subplot(111)  \n",
        "ax.set_facecolor(\"#e0e0e0\")\n",
        "ax.set_ylabel(\"鉄道業の収益 [億円]\")\n",
        "ax.xaxis.set_major_locator(mdates.MonthLocator(bymonth=range(1, 13, 4)))\n",
        "ax.xaxis.set_major_formatter(mdates.DateFormatter(\"%Y/%m\"))\n",
        "ax.grid(True,axis=\"both\",color=\"w\", linestyle=\"dotted\", linewidth=0.8)\n",
        "ax.plot(x,y,marker=\"o\",color=\"green\")\n",
        "plt.show()\n",
        "plt.close()"
      ],
      "execution_count": null,
      "outputs": [
        {
          "output_type": "display_data",
          "data": {
            "image/png": "[encoded data removed]",
            "text/plain": [
              "<Figure size 2160x288 with 1 Axes>"
            ]
          },
          "metadata": {
            "tags": [],
            "needs_background": "light"
          }
        }
      ]
    },
    {
      "cell_type": "markdown",
      "metadata": {
        "id": "-bB9Upw_zg_K"
      },
      "source": [
        "新型コロナウイルスの感染拡大を受けて2020年の1月ごろから  \n",
        "緊急事態宣言の解除(5月25日)まで、大幅に収益が減っていることが分かる。\n",
        "\n",
        "\n",
        "\n",
        "---\n",
        "\n"
      ]
    },
    {
      "cell_type": "markdown",
      "metadata": {
        "id": "Nq2fTnB_fEjF"
      },
      "source": [
        "### 備考\n",
        "\n",
        "あらかじめ興味のあるデータ,分類・属性等がわかっている場合は、  \n",
        "上記のコードの対応するIDなどを変更すればよいし  \n",
        "コードを拡張して、データ,分類・属性等の一覧表などを適宜表示しながら、  \n",
        "特定のキーワードを含むものに絞ってデータを取得したりもできる。\n",
        "\n",
        "ちなみに、プルダウンでデータ,分類・属性等を選んでプロットする、  \n",
        "といったようにGoogle Colab.上で自分だけのe-Stat分析ツールを作ることもできる  \n",
        "(最終課題案にも入れる予定)\n"
      ]
    }
  ]
}
