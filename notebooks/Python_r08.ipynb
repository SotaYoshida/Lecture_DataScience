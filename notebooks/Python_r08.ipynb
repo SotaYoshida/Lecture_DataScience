{
  "nbformat": 4,
  "nbformat_minor": 0,
  "metadata": {
    "colab": {
      "name": "Python_r08.ipynb",
      "provenance": [],
      "authorship_tag": "ABX9TyOLaNM/eeK035N/FKcvwhOm",
      "include_colab_link": true
    },
    "kernelspec": {
      "name": "python3",
      "display_name": "Python 3"
    }
  },
  "cells": [
    {
      "cell_type": "markdown",
      "metadata": {
        "id": "view-in-github",
        "colab_type": "text"
      },
      "source": [
        "<a href=\"https://colab.research.google.com/github/SotaYoshida/Lecture_DataScience/blob/2021/notebooks/Python_r08.ipynb\" target=\"_parent\"><img src=\"https://colab.research.google.com/assets/colab-badge.svg\" alt=\"Open In Colab\"/></a>"
      ]
    },
    {
      "cell_type": "markdown",
      "metadata": {
        "id": "wEOxUgnXDtNk",
        "colab_type": "text"
      },
      "source": [
        "回帰分析において、  \n",
        "相関係数などの統計量が同じものの、散布図を書いてみると全く異なる現象が観測されることがあります。  \n",
        "統計学者のフランク・アンスコムによって紹介され、データを可視化する可視化するや基本統計量のみをもちいた解析では不十分だということを示す例として知られています。\n",
        "\n",
        "以下では、アンスコムの例とは少し違いますが、  \n",
        "4つの異なる散布図を生成するプログラムしてみましょう。\n",
        "\n",
        "実行すると、  \n",
        "(左上) 適当な直線にノイズを加えたデータ  \n",
        "(右上) 二次式にノイズを加えたデータ  \n",
        "(左下) 外れ値が存在するデータ  \n",
        "(右下) 2つのグループが存在するデータ  \n",
        "\n",
        "これらはいずれも\n",
        "xとyの相関係数が0.01以下の精度で0.8に等しくなっています。"
      ]
    },
    {
      "cell_type": "code",
      "metadata": {
        "id": "1Cw6gigWOgvV",
        "colab_type": "code",
        "outputId": "bb912d67-ca0a-48f1-ed40-d6cc49856296",
        "colab": {
          "base_uri": "https://localhost:8080/",
          "height": 581
        }
      },
      "source": [
        "import numpy as np\n",
        "from matplotlib import pyplot as plt\n",
        "!pip install japanize_matplotlib\n",
        "import japanize_matplotlib\n",
        "\n",
        "def m_sigma(X,Y):\n",
        "    Xb=np.mean(X);Yb=np.mean(Y)\n",
        "    return np.dot(X-Xb,Y-Yb)\n",
        "def m_corr(X,Y):\n",
        "    return m_sigma(X,Y)/np.sqrt(m_sigma(X,X)*m_sigma(Y,Y))\n",
        "\n",
        "def mainplot(XYs):\n",
        "    fig = plt.figure(figsize=(8,9))\n",
        "    axs = [fig.add_subplot(2,2,1),fig.add_subplot(2,2,2),\n",
        "           fig.add_subplot(2,2,3),fig.add_subplot(2,2,4)]\n",
        "    cols = [\"red\", \"blue\", \"green\", \"orange\"]\n",
        "    for i, XY in enumerate(XYs):\n",
        "        axs[i].set_facecolor(\"#D3DEF1\")\n",
        "        axs[i].set_xlabel(\"x\"); axs[i].set_ylabel(\"y\")\n",
        "        axs[i].set_title(XY[3])\n",
        "        axs[i].scatter(XY[0],XY[1],s=5,color=cols[i])\n",
        "    plt.show()\n",
        "    plt.close()    \n",
        "\n",
        "if __name__ == \"__main__\":\n",
        "    target_r = 0.80\n",
        "    itnum = 10000\n",
        "    XYs=[]\n",
        "    np.random.seed(10)\n",
        "    X= np.arange(0,10,0.1)\n",
        "    hit=0; hit1 = 0; hit2=0\n",
        "    for tmp in range(itnum):\n",
        "        Y= 3.0+0.5*X + np.random.normal(0,1.0,len(X))\n",
        "        corr=m_corr(X,Y)\n",
        "        if abs(corr -target_r) < 1.e-4:\n",
        "            XYs += [ [X,Y,corr,\"linear\"] ]\n",
        "            break\n",
        "    for tmp in range(itnum):\n",
        "        Y= -6+2.78*X -0.207*X*X + np.random.normal(0,0.3,len(X))\n",
        "        corr=m_corr(X,Y)\n",
        "        if abs(corr -target_r) < 1.e-4:\n",
        "            XYs += [ [X,Y,corr,\"polynomial\"] ]\n",
        "            break\n",
        "    for tmp in range(itnum):\n",
        "        Y = 0.3 * X\n",
        "        for j in range(len(Y)):\n",
        "            if j % 20 == 0:\n",
        "                Y[j] += np.random.normal(0,3.0)\n",
        "        corr=m_corr(X,Y)\n",
        "        if abs(corr -target_r) < 1.e-4:\n",
        "            XYs += [ [X,Y,corr,\"outlier\"] ]\n",
        "            break\n",
        "    X1=[]; X2=[]\n",
        "    for i,tmp in enumerate(X):\n",
        "        if i < len(X)//2 :\n",
        "            X1 += [tmp]\n",
        "        else:\n",
        "            X2 += [tmp]\n",
        "    X = np.hstack([X1,X2])\n",
        "    for i in range(itnum):\n",
        "        Y1 = 2.026 -0.2*np.array(X1) #+ np.random.normal(0,1.0,len(X1))                                                                                                                                             \n",
        "        Y2 = 5.904- 0.1*np.array(X2) #+ np.random.normal(0,1.0,len(X2))                                                                                                                                             \n",
        "        Y = np.hstack([Y1,Y2])\n",
        "        corr=m_corr(X,Y)\n",
        "        if abs(corr -target_r) < 1.e-4:\n",
        "            XYs += [ [X,Y,corr,\"two-modes\"] ]\n",
        "            break\n",
        "mainplot(XYs)"
      ],
      "execution_count": 0,
      "outputs": [
        {
          "output_type": "stream",
          "text": [
            "Requirement already satisfied: japanize_matplotlib in /usr/local/lib/python3.6/dist-packages (1.0.5)\n"
          ],
          "name": "stdout"
        },
        {
          "output_type": "display_data",
          "data": {
            "image/png": "[encoded data removed]",
            "text/plain": [
              "<Figure size 576x648 with 4 Axes>"
            ]
          },
          "metadata": {
            "tags": []
          }
        }
      ]
    }
  ]
}
