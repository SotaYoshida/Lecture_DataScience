{
  "nbformat": 4,
  "nbformat_minor": 0,
  "metadata": {
    "colab": {
      "name": "Python_misc_Pandas.ipynb",
      "provenance": [],
      "collapsed_sections": [],
      "include_colab_link": true
    },
    "kernelspec": {
      "name": "python3",
      "display_name": "Python 3"
    }
  },
  "cells": [
    {
      "cell_type": "markdown",
      "metadata": {
        "id": "view-in-github",
        "colab_type": "text"
      },
      "source": [
        "<a href=\"https://colab.research.google.com/github/SotaYoshida/Lecture_DataScience/blob/2021/notebooks/Python_misc_Pandas.ipynb\" target=\"_parent\"><img src=\"https://colab.research.google.com/assets/colab-badge.svg\" alt=\"Open In Colab\"/></a>"
      ]
    },
    {
      "cell_type": "markdown",
      "metadata": {
        "id": "g05kSZSuyD8r"
      },
      "source": [
        "# Pandasの使い方 (基礎)"
      ]
    },
    {
      "cell_type": "markdown",
      "metadata": {
        "id": "NnDUb09nyHXf"
      },
      "source": [
        "```Pandas```は、データ分析のためのライブラリで  \n",
        "統計量を計算・表示したり、それらをグラフとして可視化出来たり  \n",
        "データサイエンスや機械学習などで必要な作業を簡単に行うことができます。\n",
        "\n",
        "Numpyや機械学習ライブラリなどに入れるデータの前処理などにもよく用いられます。\n",
        "\n",
        "まずはインポートしましょう。```pd```という名前で使うのが慣例です。"
      ]
    },
    {
      "cell_type": "code",
      "metadata": {
        "id": "G0LxApMex5f6"
      },
      "source": [
        "import pandas as pd "
      ],
      "execution_count": 1,
      "outputs": []
    },
    {
      "cell_type": "markdown",
      "metadata": {
        "id": "-1ut22WgzFeQ"
      },
      "source": [
        "## DataFrame型"
      ]
    },
    {
      "cell_type": "markdown",
      "metadata": {
        "id": "A-RriyHt1r-p"
      },
      "source": [
        "DataFrameは二次元のデータを表現するのに利用され  \n",
        "各種データ分析などで非常に役にたちます。"
      ]
    },
    {
      "cell_type": "code",
      "metadata": {
        "id": "Ubw2JSMmzCkX"
      },
      "source": [
        "from pandas import DataFrame"
      ],
      "execution_count": 2,
      "outputs": []
    },
    {
      "cell_type": "markdown",
      "metadata": {
        "id": "oeBpZK4l7knI"
      },
      "source": [
        "以下の辞書型をDataFrame型のオブジェクトに変換してみましょう。"
      ]
    },
    {
      "cell_type": "code",
      "metadata": {
        "colab": {
          "base_uri": "https://localhost:8080/"
        },
        "id": "HKPVuPjz7jmb",
        "outputId": "a574fed0-467e-4e2c-ebe8-ffaffd5382b0"
      },
      "source": [
        "data = { '名前': [\"Aさん\", \"Bさん\", \"Cさん\", \"Dさん\", \"Eさん\"],\n",
        "        '出身都道府県':['Tokyo', 'Tochigi', 'Hokkaido','Kyoto','Tochigi'],\n",
        "        '生年': [ 1998, 1993,2000,1989,2002],\n",
        "        '身長': [172, 156, 162, 180,158]}\n",
        "df = DataFrame(data)\n",
        "print(\"dataの型\", type(data))\n",
        "print(\"dfの型\",type(df))"
      ],
      "execution_count": 3,
      "outputs": [
        {
          "output_type": "stream",
          "name": "stdout",
          "text": [
            "dataの型 <class 'dict'>\n",
            "dfの型 <class 'pandas.core.frame.DataFrame'>\n"
          ]
        }
      ]
    },
    {
      "cell_type": "markdown",
      "metadata": {
        "id": "5F90_vjr8ukA"
      },
      "source": [
        "jupyter環境でDataFrameを読むと、\"いい感じ\"に表示してくれる"
      ]
    },
    {
      "cell_type": "code",
      "metadata": {
        "colab": {
          "base_uri": "https://localhost:8080/",
          "height": 204
        },
        "id": "8VZZ6asj8qie",
        "outputId": "c59e3a2d-2bc9-44b3-e8d6-bdb5643fd32c"
      },
      "source": [
        "df"
      ],
      "execution_count": 4,
      "outputs": [
        {
          "output_type": "execute_result",
          "data": {
            "text/html": [
              "<div>\n",
              "<style scoped>\n",
              "    .dataframe tbody tr th:only-of-type {\n",
              "        vertical-align: middle;\n",
              "    }\n",
              "\n",
              "    .dataframe tbody tr th {\n",
              "        vertical-align: top;\n",
              "    }\n",
              "\n",
              "    .dataframe thead th {\n",
              "        text-align: right;\n",
              "    }\n",
              "</style>\n",
              "<table border=\"1\" class=\"dataframe\">\n",
              "  <thead>\n",
              "    <tr style=\"text-align: right;\">\n",
              "      <th></th>\n",
              "      <th>名前</th>\n",
              "      <th>出身都道府県</th>\n",
              "      <th>生年</th>\n",
              "      <th>身長</th>\n",
              "    </tr>\n",
              "  </thead>\n",
              "  <tbody>\n",
              "    <tr>\n",
              "      <th>0</th>\n",
              "      <td>Aさん</td>\n",
              "      <td>Tokyo</td>\n",
              "      <td>1998</td>\n",
              "      <td>172</td>\n",
              "    </tr>\n",
              "    <tr>\n",
              "      <th>1</th>\n",
              "      <td>Bさん</td>\n",
              "      <td>Tochigi</td>\n",
              "      <td>1993</td>\n",
              "      <td>156</td>\n",
              "    </tr>\n",
              "    <tr>\n",
              "      <th>2</th>\n",
              "      <td>Cさん</td>\n",
              "      <td>Hokkaido</td>\n",
              "      <td>2000</td>\n",
              "      <td>162</td>\n",
              "    </tr>\n",
              "    <tr>\n",
              "      <th>3</th>\n",
              "      <td>Dさん</td>\n",
              "      <td>Kyoto</td>\n",
              "      <td>1989</td>\n",
              "      <td>180</td>\n",
              "    </tr>\n",
              "    <tr>\n",
              "      <th>4</th>\n",
              "      <td>Eさん</td>\n",
              "      <td>Tochigi</td>\n",
              "      <td>2002</td>\n",
              "      <td>158</td>\n",
              "    </tr>\n",
              "  </tbody>\n",
              "</table>\n",
              "</div>"
            ],
            "text/plain": [
              "    名前    出身都道府県    生年   身長\n",
              "0  Aさん     Tokyo  1998  172\n",
              "1  Bさん   Tochigi  1993  156\n",
              "2  Cさん  Hokkaido  2000  162\n",
              "3  Dさん     Kyoto  1989  180\n",
              "4  Eさん   Tochigi  2002  158"
            ]
          },
          "metadata": {},
          "execution_count": 4
        }
      ]
    },
    {
      "cell_type": "markdown",
      "metadata": {
        "id": "BkqFef0A83To"
      },
      "source": [
        "printだとちょっと無機質な感じに。"
      ]
    },
    {
      "cell_type": "code",
      "metadata": {
        "colab": {
          "base_uri": "https://localhost:8080/"
        },
        "id": "xiIqLRFG82BW",
        "outputId": "1a46aa03-ea53-4893-be7b-28b727c7d6e0"
      },
      "source": [
        "print(df)"
      ],
      "execution_count": 5,
      "outputs": [
        {
          "output_type": "stream",
          "name": "stdout",
          "text": [
            "    名前    出身都道府県    生年   身長\n",
            "0  Aさん     Tokyo  1998  172\n",
            "1  Bさん   Tochigi  1993  156\n",
            "2  Cさん  Hokkaido  2000  162\n",
            "3  Dさん     Kyoto  1989  180\n",
            "4  Eさん   Tochigi  2002  158\n"
          ]
        }
      ]
    },
    {
      "cell_type": "markdown",
      "metadata": {
        "id": "vn8s-8VR7b6Q"
      },
      "source": [
        "```info()```関数を作用させると、詳細な情報が得られる。  \n",
        "列ごとにどんな種類のデータが格納されているのかや、\n",
        "メモリ使用量など表示することができる。"
      ]
    },
    {
      "cell_type": "code",
      "metadata": {
        "colab": {
          "base_uri": "https://localhost:8080/"
        },
        "id": "2KsTF1d17anv",
        "outputId": "f502386f-45ea-4b88-bee3-cac8ba663ea5"
      },
      "source": [
        "df.info()"
      ],
      "execution_count": 6,
      "outputs": [
        {
          "output_type": "stream",
          "name": "stdout",
          "text": [
            "<class 'pandas.core.frame.DataFrame'>\n",
            "RangeIndex: 5 entries, 0 to 4\n",
            "Data columns (total 4 columns):\n",
            " #   Column  Non-Null Count  Dtype \n",
            "---  ------  --------------  ----- \n",
            " 0   名前      5 non-null      object\n",
            " 1   出身都道府県  5 non-null      object\n",
            " 2   生年      5 non-null      int64 \n",
            " 3   身長      5 non-null      int64 \n",
            "dtypes: int64(2), object(2)\n",
            "memory usage: 288.0+ bytes\n"
          ]
        }
      ]
    },
    {
      "cell_type": "markdown",
      "metadata": {
        "id": "-TsUcNTsBIIi"
      },
      "source": [
        "## DataFrameの要素を確認・指定する方法"
      ]
    },
    {
      "cell_type": "markdown",
      "metadata": {
        "id": "6ChkvnngBLb_"
      },
      "source": [
        "index: 行方向のデータ項目(おもに整数値(行番号),ID,名前など)  \n",
        "columns: 列方向のデータの項目(おもにデータの種類)  \n",
        "をそれぞれ表示してみよう。"
      ]
    },
    {
      "cell_type": "code",
      "metadata": {
        "colab": {
          "base_uri": "https://localhost:8080/"
        },
        "id": "YkQCL0ay59o8",
        "outputId": "44a64333-d3c4-44c9-b7a4-a62136bdecb5"
      },
      "source": [
        "df.index"
      ],
      "execution_count": 7,
      "outputs": [
        {
          "output_type": "execute_result",
          "data": {
            "text/plain": [
              "RangeIndex(start=0, stop=5, step=1)"
            ]
          },
          "metadata": {},
          "execution_count": 7
        }
      ]
    },
    {
      "cell_type": "code",
      "metadata": {
        "colab": {
          "base_uri": "https://localhost:8080/"
        },
        "id": "WNqLrkQ35-4O",
        "outputId": "67275695-6aa7-43d0-b695-f0af26dfbe88"
      },
      "source": [
        "df.columns"
      ],
      "execution_count": 8,
      "outputs": [
        {
          "output_type": "execute_result",
          "data": {
            "text/plain": [
              "Index(['名前', '出身都道府県', '生年', '身長'], dtype='object')"
            ]
          },
          "metadata": {},
          "execution_count": 8
        }
      ]
    },
    {
      "cell_type": "markdown",
      "metadata": {
        "id": "-MtegVlt60qr"
      },
      "source": [
        "行方向を、整数値(行数)ではなく名前にしたければ"
      ]
    },
    {
      "cell_type": "code",
      "metadata": {
        "colab": {
          "base_uri": "https://localhost:8080/",
          "height": 204
        },
        "id": "aE51PtdW6pKE",
        "outputId": "5d16c71a-61c1-4cce-d020-4e35760cb9bb"
      },
      "source": [
        "data1 = {'出身都道府県':['Tokyo', 'Tochigi', 'Hokkaido','Kyoto','Tochigi'],\n",
        "        '生年': [ 1998, 1993,2000,1989,2002],\n",
        "        '身長': [172, 156, 162, 180,158]}\n",
        "df1 = DataFrame(data1)\n",
        "df1.index =[\"Aさん\", \"Bさん\", \"Cさん\", \"Dさん\", \"Eさん\"]\n",
        "df1"
      ],
      "execution_count": 9,
      "outputs": [
        {
          "output_type": "execute_result",
          "data": {
            "text/html": [
              "<div>\n",
              "<style scoped>\n",
              "    .dataframe tbody tr th:only-of-type {\n",
              "        vertical-align: middle;\n",
              "    }\n",
              "\n",
              "    .dataframe tbody tr th {\n",
              "        vertical-align: top;\n",
              "    }\n",
              "\n",
              "    .dataframe thead th {\n",
              "        text-align: right;\n",
              "    }\n",
              "</style>\n",
              "<table border=\"1\" class=\"dataframe\">\n",
              "  <thead>\n",
              "    <tr style=\"text-align: right;\">\n",
              "      <th></th>\n",
              "      <th>出身都道府県</th>\n",
              "      <th>生年</th>\n",
              "      <th>身長</th>\n",
              "    </tr>\n",
              "  </thead>\n",
              "  <tbody>\n",
              "    <tr>\n",
              "      <th>Aさん</th>\n",
              "      <td>Tokyo</td>\n",
              "      <td>1998</td>\n",
              "      <td>172</td>\n",
              "    </tr>\n",
              "    <tr>\n",
              "      <th>Bさん</th>\n",
              "      <td>Tochigi</td>\n",
              "      <td>1993</td>\n",
              "      <td>156</td>\n",
              "    </tr>\n",
              "    <tr>\n",
              "      <th>Cさん</th>\n",
              "      <td>Hokkaido</td>\n",
              "      <td>2000</td>\n",
              "      <td>162</td>\n",
              "    </tr>\n",
              "    <tr>\n",
              "      <th>Dさん</th>\n",
              "      <td>Kyoto</td>\n",
              "      <td>1989</td>\n",
              "      <td>180</td>\n",
              "    </tr>\n",
              "    <tr>\n",
              "      <th>Eさん</th>\n",
              "      <td>Tochigi</td>\n",
              "      <td>2002</td>\n",
              "      <td>158</td>\n",
              "    </tr>\n",
              "  </tbody>\n",
              "</table>\n",
              "</div>"
            ],
            "text/plain": [
              "       出身都道府県    生年   身長\n",
              "Aさん     Tokyo  1998  172\n",
              "Bさん   Tochigi  1993  156\n",
              "Cさん  Hokkaido  2000  162\n",
              "Dさん     Kyoto  1989  180\n",
              "Eさん   Tochigi  2002  158"
            ]
          },
          "metadata": {},
          "execution_count": 9
        }
      ]
    },
    {
      "cell_type": "markdown",
      "metadata": {
        "id": "LaFJVeL27NqY"
      },
      "source": [
        "などとしてもよい。"
      ]
    },
    {
      "cell_type": "markdown",
      "metadata": {
        "id": "_uFFuzQM8FoQ"
      },
      "source": [
        "### 特定の列を取得したい場合"
      ]
    },
    {
      "cell_type": "code",
      "metadata": {
        "colab": {
          "base_uri": "https://localhost:8080/"
        },
        "id": "oQ9hZkVx8K-p",
        "outputId": "b6a4c5d6-a3e1-4f27-d53d-d23b339930b6"
      },
      "source": [
        "df[\"身長\"]"
      ],
      "execution_count": 10,
      "outputs": [
        {
          "output_type": "execute_result",
          "data": {
            "text/plain": [
              "0    172\n",
              "1    156\n",
              "2    162\n",
              "3    180\n",
              "4    158\n",
              "Name: 身長, dtype: int64"
            ]
          },
          "metadata": {},
          "execution_count": 10
        }
      ]
    },
    {
      "cell_type": "markdown",
      "metadata": {
        "id": "zn3WJ4_5946D"
      },
      "source": [
        "とする。  \n",
        "以下の方法は非推奨とする。\n"
      ]
    },
    {
      "cell_type": "code",
      "metadata": {
        "colab": {
          "base_uri": "https://localhost:8080/"
        },
        "id": "3VyUAqQs9596",
        "outputId": "3b48abe9-0b47-4520-9130-04b4b128916f"
      },
      "source": [
        "df.身長"
      ],
      "execution_count": 11,
      "outputs": [
        {
          "output_type": "execute_result",
          "data": {
            "text/plain": [
              "0    172\n",
              "1    156\n",
              "2    162\n",
              "3    180\n",
              "4    158\n",
              "Name: 身長, dtype: int64"
            ]
          },
          "metadata": {},
          "execution_count": 11
        }
      ]
    },
    {
      "cell_type": "markdown",
      "metadata": {
        "id": "uK8zkK3h8cpY"
      },
      "source": [
        "値のリスト(正確にはnumpy.ndarray型)として取得したければ"
      ]
    },
    {
      "cell_type": "code",
      "metadata": {
        "colab": {
          "base_uri": "https://localhost:8080/"
        },
        "id": "tozKlT028hfi",
        "outputId": "6df460d7-b118-48c5-fe03-a7355e4700cd"
      },
      "source": [
        "df[\"身長\"].values"
      ],
      "execution_count": 12,
      "outputs": [
        {
          "output_type": "execute_result",
          "data": {
            "text/plain": [
              "array([172, 156, 162, 180, 158])"
            ]
          },
          "metadata": {},
          "execution_count": 12
        }
      ]
    },
    {
      "cell_type": "code",
      "metadata": {
        "colab": {
          "base_uri": "https://localhost:8080/"
        },
        "id": "87TOA6-e8j8v",
        "outputId": "5cd4889a-ec42-407e-e2f2-0b658a84896e"
      },
      "source": [
        "df[\"出身都道府県\"].values"
      ],
      "execution_count": 13,
      "outputs": [
        {
          "output_type": "execute_result",
          "data": {
            "text/plain": [
              "array(['Tokyo', 'Tochigi', 'Hokkaido', 'Kyoto', 'Tochigi'], dtype=object)"
            ]
          },
          "metadata": {},
          "execution_count": 13
        }
      ]
    },
    {
      "cell_type": "markdown",
      "metadata": {
        "id": "Yh97e7y58yHY"
      },
      "source": [
        "などとすればよい。\n",
        "\n",
        "慣れ親しんだ形に変換したければ、リストに変換すればよい\n"
      ]
    },
    {
      "cell_type": "code",
      "metadata": {
        "colab": {
          "base_uri": "https://localhost:8080/"
        },
        "id": "2Uh6YGih5FjE",
        "outputId": "cf6c37d3-b831-4cfb-be18-dcef00369354"
      },
      "source": [
        "list(df[\"出身都道府県\"].values)"
      ],
      "execution_count": 14,
      "outputs": [
        {
          "output_type": "execute_result",
          "data": {
            "text/plain": [
              "['Tokyo', 'Tochigi', 'Hokkaido', 'Kyoto', 'Tochigi']"
            ]
          },
          "metadata": {},
          "execution_count": 14
        }
      ]
    },
    {
      "cell_type": "markdown",
      "metadata": {
        "id": "WfpujEkA5BSD"
      },
      "source": [
        "ある列が特定のものに一致するもののみを抽出するのも簡単にできる"
      ]
    },
    {
      "cell_type": "code",
      "metadata": {
        "colab": {
          "base_uri": "https://localhost:8080/",
          "height": 111
        },
        "id": "qlFGoUdc8zPn",
        "outputId": "a9b00d41-31ae-4e2a-b55b-ea78ec9d0ce4"
      },
      "source": [
        "df[df[\"出身都道府県\"]==\"Tochigi\"]"
      ],
      "execution_count": 15,
      "outputs": [
        {
          "output_type": "execute_result",
          "data": {
            "text/html": [
              "<div>\n",
              "<style scoped>\n",
              "    .dataframe tbody tr th:only-of-type {\n",
              "        vertical-align: middle;\n",
              "    }\n",
              "\n",
              "    .dataframe tbody tr th {\n",
              "        vertical-align: top;\n",
              "    }\n",
              "\n",
              "    .dataframe thead th {\n",
              "        text-align: right;\n",
              "    }\n",
              "</style>\n",
              "<table border=\"1\" class=\"dataframe\">\n",
              "  <thead>\n",
              "    <tr style=\"text-align: right;\">\n",
              "      <th></th>\n",
              "      <th>名前</th>\n",
              "      <th>出身都道府県</th>\n",
              "      <th>生年</th>\n",
              "      <th>身長</th>\n",
              "    </tr>\n",
              "  </thead>\n",
              "  <tbody>\n",
              "    <tr>\n",
              "      <th>1</th>\n",
              "      <td>Bさん</td>\n",
              "      <td>Tochigi</td>\n",
              "      <td>1993</td>\n",
              "      <td>156</td>\n",
              "    </tr>\n",
              "    <tr>\n",
              "      <th>4</th>\n",
              "      <td>Eさん</td>\n",
              "      <td>Tochigi</td>\n",
              "      <td>2002</td>\n",
              "      <td>158</td>\n",
              "    </tr>\n",
              "  </tbody>\n",
              "</table>\n",
              "</div>"
            ],
            "text/plain": [
              "    名前   出身都道府県    生年   身長\n",
              "1  Bさん  Tochigi  1993  156\n",
              "4  Eさん  Tochigi  2002  158"
            ]
          },
          "metadata": {},
          "execution_count": 15
        }
      ]
    },
    {
      "cell_type": "markdown",
      "metadata": {
        "id": "ItbqbBdn9HG0"
      },
      "source": [
        "これは"
      ]
    },
    {
      "cell_type": "code",
      "metadata": {
        "colab": {
          "base_uri": "https://localhost:8080/"
        },
        "id": "Ubs3Zbjj9KA9",
        "outputId": "ab1115f5-d373-414f-b015-d0ad84b831ef"
      },
      "source": [
        "df[\"出身都道府県\"]==\"Tochigi\""
      ],
      "execution_count": 16,
      "outputs": [
        {
          "output_type": "execute_result",
          "data": {
            "text/plain": [
              "0    False\n",
              "1     True\n",
              "2    False\n",
              "3    False\n",
              "4     True\n",
              "Name: 出身都道府県, dtype: bool"
            ]
          },
          "metadata": {},
          "execution_count": 16
        }
      ]
    },
    {
      "cell_type": "markdown",
      "metadata": {
        "id": "bUB1Puao9LqO"
      },
      "source": [
        "が条件に合致するかどうかTrue/Falseの配列になっていて、  \n",
        "df[ [True/Falseの配列] ]とすると、Trueに対応する要素のみを返す  \n",
        "フィルターのような役割になっている。"
      ]
    },
    {
      "cell_type": "markdown",
      "metadata": {
        "id": "4xcTwpmcf3WK"
      },
      "source": [
        "### 列の追加"
      ]
    },
    {
      "cell_type": "markdown",
      "metadata": {
        "id": "ZYNKYZc1f9XO"
      },
      "source": [
        ""
      ]
    },
    {
      "cell_type": "code",
      "metadata": {
        "id": "Hznr0hZMghcK",
        "outputId": "ad3f99ed-31e5-45ab-865b-cee148425b03",
        "colab": {
          "base_uri": "https://localhost:8080/",
          "height": 204
        }
      },
      "source": [
        "#スカラー値の場合\"初期化\"のような振る舞いをする\n",
        "df[\"血液型\"] = \"A\"\n",
        "df"
      ],
      "execution_count": 20,
      "outputs": [
        {
          "output_type": "execute_result",
          "data": {
            "text/html": [
              "<div>\n",
              "<style scoped>\n",
              "    .dataframe tbody tr th:only-of-type {\n",
              "        vertical-align: middle;\n",
              "    }\n",
              "\n",
              "    .dataframe tbody tr th {\n",
              "        vertical-align: top;\n",
              "    }\n",
              "\n",
              "    .dataframe thead th {\n",
              "        text-align: right;\n",
              "    }\n",
              "</style>\n",
              "<table border=\"1\" class=\"dataframe\">\n",
              "  <thead>\n",
              "    <tr style=\"text-align: right;\">\n",
              "      <th></th>\n",
              "      <th>名前</th>\n",
              "      <th>出身都道府県</th>\n",
              "      <th>生年</th>\n",
              "      <th>身長</th>\n",
              "      <th>血液型</th>\n",
              "    </tr>\n",
              "  </thead>\n",
              "  <tbody>\n",
              "    <tr>\n",
              "      <th>0</th>\n",
              "      <td>Aさん</td>\n",
              "      <td>Tokyo</td>\n",
              "      <td>1998</td>\n",
              "      <td>172</td>\n",
              "      <td>A</td>\n",
              "    </tr>\n",
              "    <tr>\n",
              "      <th>1</th>\n",
              "      <td>Bさん</td>\n",
              "      <td>Tochigi</td>\n",
              "      <td>1993</td>\n",
              "      <td>156</td>\n",
              "      <td>A</td>\n",
              "    </tr>\n",
              "    <tr>\n",
              "      <th>2</th>\n",
              "      <td>Cさん</td>\n",
              "      <td>Hokkaido</td>\n",
              "      <td>2000</td>\n",
              "      <td>162</td>\n",
              "      <td>A</td>\n",
              "    </tr>\n",
              "    <tr>\n",
              "      <th>3</th>\n",
              "      <td>Dさん</td>\n",
              "      <td>Kyoto</td>\n",
              "      <td>1989</td>\n",
              "      <td>180</td>\n",
              "      <td>A</td>\n",
              "    </tr>\n",
              "    <tr>\n",
              "      <th>4</th>\n",
              "      <td>Eさん</td>\n",
              "      <td>Tochigi</td>\n",
              "      <td>2002</td>\n",
              "      <td>158</td>\n",
              "      <td>A</td>\n",
              "    </tr>\n",
              "  </tbody>\n",
              "</table>\n",
              "</div>"
            ],
            "text/plain": [
              "    名前    出身都道府県    生年   身長 血液型\n",
              "0  Aさん     Tokyo  1998  172   A\n",
              "1  Bさん   Tochigi  1993  156   A\n",
              "2  Cさん  Hokkaido  2000  162   A\n",
              "3  Dさん     Kyoto  1989  180   A\n",
              "4  Eさん   Tochigi  2002  158   A"
            ]
          },
          "metadata": {},
          "execution_count": 20
        }
      ]
    },
    {
      "cell_type": "code",
      "metadata": {
        "id": "1ved-4XAgMvq",
        "outputId": "5959d308-121a-47e5-eaab-174f170ff488",
        "colab": {
          "base_uri": "https://localhost:8080/",
          "height": 204
        }
      },
      "source": [
        "#リストで追加\n",
        "df[\"血液型\"] = [ \"A\", \"O\",\"AB\",\"B\",\"A\"]\n",
        "df"
      ],
      "execution_count": 21,
      "outputs": [
        {
          "output_type": "execute_result",
          "data": {
            "text/html": [
              "<div>\n",
              "<style scoped>\n",
              "    .dataframe tbody tr th:only-of-type {\n",
              "        vertical-align: middle;\n",
              "    }\n",
              "\n",
              "    .dataframe tbody tr th {\n",
              "        vertical-align: top;\n",
              "    }\n",
              "\n",
              "    .dataframe thead th {\n",
              "        text-align: right;\n",
              "    }\n",
              "</style>\n",
              "<table border=\"1\" class=\"dataframe\">\n",
              "  <thead>\n",
              "    <tr style=\"text-align: right;\">\n",
              "      <th></th>\n",
              "      <th>名前</th>\n",
              "      <th>出身都道府県</th>\n",
              "      <th>生年</th>\n",
              "      <th>身長</th>\n",
              "      <th>血液型</th>\n",
              "    </tr>\n",
              "  </thead>\n",
              "  <tbody>\n",
              "    <tr>\n",
              "      <th>0</th>\n",
              "      <td>Aさん</td>\n",
              "      <td>Tokyo</td>\n",
              "      <td>1998</td>\n",
              "      <td>172</td>\n",
              "      <td>A</td>\n",
              "    </tr>\n",
              "    <tr>\n",
              "      <th>1</th>\n",
              "      <td>Bさん</td>\n",
              "      <td>Tochigi</td>\n",
              "      <td>1993</td>\n",
              "      <td>156</td>\n",
              "      <td>O</td>\n",
              "    </tr>\n",
              "    <tr>\n",
              "      <th>2</th>\n",
              "      <td>Cさん</td>\n",
              "      <td>Hokkaido</td>\n",
              "      <td>2000</td>\n",
              "      <td>162</td>\n",
              "      <td>AB</td>\n",
              "    </tr>\n",
              "    <tr>\n",
              "      <th>3</th>\n",
              "      <td>Dさん</td>\n",
              "      <td>Kyoto</td>\n",
              "      <td>1989</td>\n",
              "      <td>180</td>\n",
              "      <td>B</td>\n",
              "    </tr>\n",
              "    <tr>\n",
              "      <th>4</th>\n",
              "      <td>Eさん</td>\n",
              "      <td>Tochigi</td>\n",
              "      <td>2002</td>\n",
              "      <td>158</td>\n",
              "      <td>A</td>\n",
              "    </tr>\n",
              "  </tbody>\n",
              "</table>\n",
              "</div>"
            ],
            "text/plain": [
              "    名前    出身都道府県    生年   身長 血液型\n",
              "0  Aさん     Tokyo  1998  172   A\n",
              "1  Bさん   Tochigi  1993  156   O\n",
              "2  Cさん  Hokkaido  2000  162  AB\n",
              "3  Dさん     Kyoto  1989  180   B\n",
              "4  Eさん   Tochigi  2002  158   A"
            ]
          },
          "metadata": {},
          "execution_count": 21
        }
      ]
    },
    {
      "cell_type": "markdown",
      "metadata": {
        "id": "S_I81w5L-UOE"
      },
      "source": [
        "### 特定の行を取得したい場合"
      ]
    },
    {
      "cell_type": "markdown",
      "metadata": {
        "id": "he5uTk3H-kMs"
      },
      "source": [
        "たとえば、行番号がわかっているなら、```iloc```関数を使えば良い"
      ]
    },
    {
      "cell_type": "code",
      "metadata": {
        "colab": {
          "base_uri": "https://localhost:8080/"
        },
        "id": "kbxrpQ1E-k8F",
        "outputId": "685bb92a-04cd-467d-b214-2912a1b99534"
      },
      "source": [
        "df.iloc[3]"
      ],
      "execution_count": 22,
      "outputs": [
        {
          "output_type": "execute_result",
          "data": {
            "text/plain": [
              "名前          Dさん\n",
              "出身都道府県    Kyoto\n",
              "生年         1989\n",
              "身長          180\n",
              "血液型           B\n",
              "Name: 3, dtype: object"
            ]
          },
          "metadata": {},
          "execution_count": 22
        }
      ]
    },
    {
      "cell_type": "markdown",
      "metadata": {
        "id": "2998C5BK_Wut"
      },
      "source": [
        "値のみ取得したければ先程と同様"
      ]
    },
    {
      "cell_type": "code",
      "metadata": {
        "colab": {
          "base_uri": "https://localhost:8080/"
        },
        "id": "6HoJX4h__Uj3",
        "outputId": "7acd746e-9ccd-49b5-e8cb-4bf3e61bd371"
      },
      "source": [
        "df.iloc[3].values"
      ],
      "execution_count": 23,
      "outputs": [
        {
          "output_type": "execute_result",
          "data": {
            "text/plain": [
              "array(['Dさん', 'Kyoto', 1989, 180, 'B'], dtype=object)"
            ]
          },
          "metadata": {},
          "execution_count": 23
        }
      ]
    },
    {
      "cell_type": "markdown",
      "metadata": {
        "id": "4gwiSube_ax9"
      },
      "source": [
        "また、以下のような使い方もできるが"
      ]
    },
    {
      "cell_type": "code",
      "metadata": {
        "colab": {
          "base_uri": "https://localhost:8080/",
          "height": 142
        },
        "id": "4oabG7uA-TyS",
        "outputId": "2a8c032f-b262-4c72-affb-a5c532ef9d68"
      },
      "source": [
        "df[1:4] #1から3行目まで"
      ],
      "execution_count": 24,
      "outputs": [
        {
          "output_type": "execute_result",
          "data": {
            "text/html": [
              "<div>\n",
              "<style scoped>\n",
              "    .dataframe tbody tr th:only-of-type {\n",
              "        vertical-align: middle;\n",
              "    }\n",
              "\n",
              "    .dataframe tbody tr th {\n",
              "        vertical-align: top;\n",
              "    }\n",
              "\n",
              "    .dataframe thead th {\n",
              "        text-align: right;\n",
              "    }\n",
              "</style>\n",
              "<table border=\"1\" class=\"dataframe\">\n",
              "  <thead>\n",
              "    <tr style=\"text-align: right;\">\n",
              "      <th></th>\n",
              "      <th>名前</th>\n",
              "      <th>出身都道府県</th>\n",
              "      <th>生年</th>\n",
              "      <th>身長</th>\n",
              "      <th>血液型</th>\n",
              "    </tr>\n",
              "  </thead>\n",
              "  <tbody>\n",
              "    <tr>\n",
              "      <th>1</th>\n",
              "      <td>Bさん</td>\n",
              "      <td>Tochigi</td>\n",
              "      <td>1993</td>\n",
              "      <td>156</td>\n",
              "      <td>O</td>\n",
              "    </tr>\n",
              "    <tr>\n",
              "      <th>2</th>\n",
              "      <td>Cさん</td>\n",
              "      <td>Hokkaido</td>\n",
              "      <td>2000</td>\n",
              "      <td>162</td>\n",
              "      <td>AB</td>\n",
              "    </tr>\n",
              "    <tr>\n",
              "      <th>3</th>\n",
              "      <td>Dさん</td>\n",
              "      <td>Kyoto</td>\n",
              "      <td>1989</td>\n",
              "      <td>180</td>\n",
              "      <td>B</td>\n",
              "    </tr>\n",
              "  </tbody>\n",
              "</table>\n",
              "</div>"
            ],
            "text/plain": [
              "    名前    出身都道府県    生年   身長 血液型\n",
              "1  Bさん   Tochigi  1993  156   O\n",
              "2  Cさん  Hokkaido  2000  162  AB\n",
              "3  Dさん     Kyoto  1989  180   B"
            ]
          },
          "metadata": {},
          "execution_count": 24
        }
      ]
    },
    {
      "cell_type": "markdown",
      "metadata": {
        "id": "hbFfX303_eVc"
      },
      "source": [
        "```df[1]```といった使い方は出来ない。  "
      ]
    },
    {
      "cell_type": "markdown",
      "metadata": {
        "id": "oH1A89pw_s6b"
      },
      "source": [
        "### より複雑な行・列の抽出"
      ]
    },
    {
      "cell_type": "markdown",
      "metadata": {
        "id": "vxd7k3f3AJjj"
      },
      "source": [
        "上にならって、2000年より前に生まれた人だけを抽出し"
      ]
    },
    {
      "cell_type": "code",
      "metadata": {
        "colab": {
          "base_uri": "https://localhost:8080/",
          "height": 142
        },
        "id": "rDrnJUg9_w1Q",
        "outputId": "1097589f-9359-4b43-d99b-7bd71c7c2897"
      },
      "source": [
        "df[ df[\"生年\"] < 2000 ]"
      ],
      "execution_count": 25,
      "outputs": [
        {
          "output_type": "execute_result",
          "data": {
            "text/html": [
              "<div>\n",
              "<style scoped>\n",
              "    .dataframe tbody tr th:only-of-type {\n",
              "        vertical-align: middle;\n",
              "    }\n",
              "\n",
              "    .dataframe tbody tr th {\n",
              "        vertical-align: top;\n",
              "    }\n",
              "\n",
              "    .dataframe thead th {\n",
              "        text-align: right;\n",
              "    }\n",
              "</style>\n",
              "<table border=\"1\" class=\"dataframe\">\n",
              "  <thead>\n",
              "    <tr style=\"text-align: right;\">\n",
              "      <th></th>\n",
              "      <th>名前</th>\n",
              "      <th>出身都道府県</th>\n",
              "      <th>生年</th>\n",
              "      <th>身長</th>\n",
              "      <th>血液型</th>\n",
              "    </tr>\n",
              "  </thead>\n",
              "  <tbody>\n",
              "    <tr>\n",
              "      <th>0</th>\n",
              "      <td>Aさん</td>\n",
              "      <td>Tokyo</td>\n",
              "      <td>1998</td>\n",
              "      <td>172</td>\n",
              "      <td>A</td>\n",
              "    </tr>\n",
              "    <tr>\n",
              "      <th>1</th>\n",
              "      <td>Bさん</td>\n",
              "      <td>Tochigi</td>\n",
              "      <td>1993</td>\n",
              "      <td>156</td>\n",
              "      <td>O</td>\n",
              "    </tr>\n",
              "    <tr>\n",
              "      <th>3</th>\n",
              "      <td>Dさん</td>\n",
              "      <td>Kyoto</td>\n",
              "      <td>1989</td>\n",
              "      <td>180</td>\n",
              "      <td>B</td>\n",
              "    </tr>\n",
              "  </tbody>\n",
              "</table>\n",
              "</div>"
            ],
            "text/plain": [
              "    名前   出身都道府県    生年   身長 血液型\n",
              "0  Aさん    Tokyo  1998  172   A\n",
              "1  Bさん  Tochigi  1993  156   O\n",
              "3  Dさん    Kyoto  1989  180   B"
            ]
          },
          "metadata": {},
          "execution_count": 25
        }
      ]
    },
    {
      "cell_type": "markdown",
      "metadata": {
        "id": "iZrMq16v__fV"
      },
      "source": [
        "さらにこのうち身長が170cm以上の人だけがほしければ"
      ]
    },
    {
      "cell_type": "code",
      "metadata": {
        "colab": {
          "base_uri": "https://localhost:8080/",
          "height": 111
        },
        "id": "d6q2DR7nAYEv",
        "outputId": "43ab321f-961b-4cfd-cfde-e2b8f62c6fa6"
      },
      "source": [
        "df[(df[\"生年\"] < 2000) & (df[\"身長\"]>170)]"
      ],
      "execution_count": 26,
      "outputs": [
        {
          "output_type": "execute_result",
          "data": {
            "text/html": [
              "<div>\n",
              "<style scoped>\n",
              "    .dataframe tbody tr th:only-of-type {\n",
              "        vertical-align: middle;\n",
              "    }\n",
              "\n",
              "    .dataframe tbody tr th {\n",
              "        vertical-align: top;\n",
              "    }\n",
              "\n",
              "    .dataframe thead th {\n",
              "        text-align: right;\n",
              "    }\n",
              "</style>\n",
              "<table border=\"1\" class=\"dataframe\">\n",
              "  <thead>\n",
              "    <tr style=\"text-align: right;\">\n",
              "      <th></th>\n",
              "      <th>名前</th>\n",
              "      <th>出身都道府県</th>\n",
              "      <th>生年</th>\n",
              "      <th>身長</th>\n",
              "      <th>血液型</th>\n",
              "    </tr>\n",
              "  </thead>\n",
              "  <tbody>\n",
              "    <tr>\n",
              "      <th>0</th>\n",
              "      <td>Aさん</td>\n",
              "      <td>Tokyo</td>\n",
              "      <td>1998</td>\n",
              "      <td>172</td>\n",
              "      <td>A</td>\n",
              "    </tr>\n",
              "    <tr>\n",
              "      <th>3</th>\n",
              "      <td>Dさん</td>\n",
              "      <td>Kyoto</td>\n",
              "      <td>1989</td>\n",
              "      <td>180</td>\n",
              "      <td>B</td>\n",
              "    </tr>\n",
              "  </tbody>\n",
              "</table>\n",
              "</div>"
            ],
            "text/plain": [
              "    名前 出身都道府県    生年   身長 血液型\n",
              "0  Aさん  Tokyo  1998  172   A\n",
              "3  Dさん  Kyoto  1989  180   B"
            ]
          },
          "metadata": {},
          "execution_count": 26
        }
      ]
    },
    {
      "cell_type": "markdown",
      "metadata": {
        "id": "-b36txVaA7fQ"
      },
      "source": [
        "などとすればよい。  \n",
        "\n",
        "他にも、\n",
        "\n",
        "```iloc```,```loc```\n",
        "などを用いれば、特定の行・列を抽出することができる\n",
        "\n",
        "ちなみに、```iloc```は番号の指定のみに対応，```loc```は名前のみ。\n",
        "\n",
        "**欲しい要素の数値もしくは項目名のリスト**を、行、列２ついれてやればよい。"
      ]
    },
    {
      "cell_type": "code",
      "metadata": {
        "colab": {
          "base_uri": "https://localhost:8080/",
          "height": 80
        },
        "id": "xZhc6nlDBXJH",
        "outputId": "1f36d465-2605-4a6b-e442-0d5a18b6311c"
      },
      "source": [
        "df.iloc[[0], [0]] #0行目,0列目"
      ],
      "execution_count": 27,
      "outputs": [
        {
          "output_type": "execute_result",
          "data": {
            "text/html": [
              "<div>\n",
              "<style scoped>\n",
              "    .dataframe tbody tr th:only-of-type {\n",
              "        vertical-align: middle;\n",
              "    }\n",
              "\n",
              "    .dataframe tbody tr th {\n",
              "        vertical-align: top;\n",
              "    }\n",
              "\n",
              "    .dataframe thead th {\n",
              "        text-align: right;\n",
              "    }\n",
              "</style>\n",
              "<table border=\"1\" class=\"dataframe\">\n",
              "  <thead>\n",
              "    <tr style=\"text-align: right;\">\n",
              "      <th></th>\n",
              "      <th>名前</th>\n",
              "    </tr>\n",
              "  </thead>\n",
              "  <tbody>\n",
              "    <tr>\n",
              "      <th>0</th>\n",
              "      <td>Aさん</td>\n",
              "    </tr>\n",
              "  </tbody>\n",
              "</table>\n",
              "</div>"
            ],
            "text/plain": [
              "    名前\n",
              "0  Aさん"
            ]
          },
          "metadata": {},
          "execution_count": 27
        }
      ]
    },
    {
      "cell_type": "code",
      "metadata": {
        "colab": {
          "base_uri": "https://localhost:8080/",
          "height": 142
        },
        "id": "i-W-XTw9Bz5-",
        "outputId": "81d5c4f5-dfaf-4706-a3a4-406db75d8f78"
      },
      "source": [
        "#スライスで指定することもできる\n",
        "df.iloc[1:4, :3] #1-3行目かつ0-2列目 (スライスの終点は含まれないことに注意)\n",
        "\n",
        "#スライスの場合は、 1:4が[1,2,3]と同じ働きをするので、括弧[]はいらない"
      ],
      "execution_count": 28,
      "outputs": [
        {
          "output_type": "execute_result",
          "data": {
            "text/html": [
              "<div>\n",
              "<style scoped>\n",
              "    .dataframe tbody tr th:only-of-type {\n",
              "        vertical-align: middle;\n",
              "    }\n",
              "\n",
              "    .dataframe tbody tr th {\n",
              "        vertical-align: top;\n",
              "    }\n",
              "\n",
              "    .dataframe thead th {\n",
              "        text-align: right;\n",
              "    }\n",
              "</style>\n",
              "<table border=\"1\" class=\"dataframe\">\n",
              "  <thead>\n",
              "    <tr style=\"text-align: right;\">\n",
              "      <th></th>\n",
              "      <th>名前</th>\n",
              "      <th>出身都道府県</th>\n",
              "      <th>生年</th>\n",
              "    </tr>\n",
              "  </thead>\n",
              "  <tbody>\n",
              "    <tr>\n",
              "      <th>1</th>\n",
              "      <td>Bさん</td>\n",
              "      <td>Tochigi</td>\n",
              "      <td>1993</td>\n",
              "    </tr>\n",
              "    <tr>\n",
              "      <th>2</th>\n",
              "      <td>Cさん</td>\n",
              "      <td>Hokkaido</td>\n",
              "      <td>2000</td>\n",
              "    </tr>\n",
              "    <tr>\n",
              "      <th>3</th>\n",
              "      <td>Dさん</td>\n",
              "      <td>Kyoto</td>\n",
              "      <td>1989</td>\n",
              "    </tr>\n",
              "  </tbody>\n",
              "</table>\n",
              "</div>"
            ],
            "text/plain": [
              "    名前    出身都道府県    生年\n",
              "1  Bさん   Tochigi  1993\n",
              "2  Cさん  Hokkaido  2000\n",
              "3  Dさん     Kyoto  1989"
            ]
          },
          "metadata": {},
          "execution_count": 28
        }
      ]
    },
    {
      "cell_type": "markdown",
      "metadata": {
        "id": "acMQBcZw5hmv"
      },
      "source": [
        "```loc```を使う場合は、indexの代わりに項目名で指定する。"
      ]
    },
    {
      "cell_type": "code",
      "metadata": {
        "colab": {
          "base_uri": "https://localhost:8080/",
          "height": 173
        },
        "id": "JLlD6iUvCH-q",
        "outputId": "10fb2236-3611-4174-b141-d76f5454bb8d"
      },
      "source": [
        "df.loc[1:4,[\"名前\",\"身長\"]] "
      ],
      "execution_count": 29,
      "outputs": [
        {
          "output_type": "execute_result",
          "data": {
            "text/html": [
              "<div>\n",
              "<style scoped>\n",
              "    .dataframe tbody tr th:only-of-type {\n",
              "        vertical-align: middle;\n",
              "    }\n",
              "\n",
              "    .dataframe tbody tr th {\n",
              "        vertical-align: top;\n",
              "    }\n",
              "\n",
              "    .dataframe thead th {\n",
              "        text-align: right;\n",
              "    }\n",
              "</style>\n",
              "<table border=\"1\" class=\"dataframe\">\n",
              "  <thead>\n",
              "    <tr style=\"text-align: right;\">\n",
              "      <th></th>\n",
              "      <th>名前</th>\n",
              "      <th>身長</th>\n",
              "    </tr>\n",
              "  </thead>\n",
              "  <tbody>\n",
              "    <tr>\n",
              "      <th>1</th>\n",
              "      <td>Bさん</td>\n",
              "      <td>156</td>\n",
              "    </tr>\n",
              "    <tr>\n",
              "      <th>2</th>\n",
              "      <td>Cさん</td>\n",
              "      <td>162</td>\n",
              "    </tr>\n",
              "    <tr>\n",
              "      <th>3</th>\n",
              "      <td>Dさん</td>\n",
              "      <td>180</td>\n",
              "    </tr>\n",
              "    <tr>\n",
              "      <th>4</th>\n",
              "      <td>Eさん</td>\n",
              "      <td>158</td>\n",
              "    </tr>\n",
              "  </tbody>\n",
              "</table>\n",
              "</div>"
            ],
            "text/plain": [
              "    名前   身長\n",
              "1  Bさん  156\n",
              "2  Cさん  162\n",
              "3  Dさん  180\n",
              "4  Eさん  158"
            ]
          },
          "metadata": {},
          "execution_count": 29
        }
      ]
    },
    {
      "cell_type": "code",
      "metadata": {
        "colab": {
          "base_uri": "https://localhost:8080/",
          "height": 173
        },
        "id": "y3rZAq4rCTSh",
        "outputId": "d11a7a5a-ee05-43dd-898a-74320849cffc"
      },
      "source": [
        "df.loc[[1,2,3,4],\"名前\":\"生年\"]"
      ],
      "execution_count": 30,
      "outputs": [
        {
          "output_type": "execute_result",
          "data": {
            "text/html": [
              "<div>\n",
              "<style scoped>\n",
              "    .dataframe tbody tr th:only-of-type {\n",
              "        vertical-align: middle;\n",
              "    }\n",
              "\n",
              "    .dataframe tbody tr th {\n",
              "        vertical-align: top;\n",
              "    }\n",
              "\n",
              "    .dataframe thead th {\n",
              "        text-align: right;\n",
              "    }\n",
              "</style>\n",
              "<table border=\"1\" class=\"dataframe\">\n",
              "  <thead>\n",
              "    <tr style=\"text-align: right;\">\n",
              "      <th></th>\n",
              "      <th>名前</th>\n",
              "      <th>出身都道府県</th>\n",
              "      <th>生年</th>\n",
              "    </tr>\n",
              "  </thead>\n",
              "  <tbody>\n",
              "    <tr>\n",
              "      <th>1</th>\n",
              "      <td>Bさん</td>\n",
              "      <td>Tochigi</td>\n",
              "      <td>1993</td>\n",
              "    </tr>\n",
              "    <tr>\n",
              "      <th>2</th>\n",
              "      <td>Cさん</td>\n",
              "      <td>Hokkaido</td>\n",
              "      <td>2000</td>\n",
              "    </tr>\n",
              "    <tr>\n",
              "      <th>3</th>\n",
              "      <td>Dさん</td>\n",
              "      <td>Kyoto</td>\n",
              "      <td>1989</td>\n",
              "    </tr>\n",
              "    <tr>\n",
              "      <th>4</th>\n",
              "      <td>Eさん</td>\n",
              "      <td>Tochigi</td>\n",
              "      <td>2002</td>\n",
              "    </tr>\n",
              "  </tbody>\n",
              "</table>\n",
              "</div>"
            ],
            "text/plain": [
              "    名前    出身都道府県    生年\n",
              "1  Bさん   Tochigi  1993\n",
              "2  Cさん  Hokkaido  2000\n",
              "3  Dさん     Kyoto  1989\n",
              "4  Eさん   Tochigi  2002"
            ]
          },
          "metadata": {},
          "execution_count": 30
        }
      ]
    },
    {
      "cell_type": "markdown",
      "metadata": {
        "id": "WzV2r0oPA82E"
      },
      "source": [
        "といった具合。\n",
        "\n",
        "```loc```を使う場合、1:4や[1,2,3,4]は  \n",
        "indexのスライスではなく、項目名を意味し  \n",
        "Eさんのデータも含まれている。"
      ]
    },
    {
      "cell_type": "markdown",
      "metadata": {
        "id": "py5Dt6wY10pB"
      },
      "source": [
        "## Webページにある表をDataFrameとして取得する"
      ]
    },
    {
      "cell_type": "markdown",
      "metadata": {
        "id": "s7XShK0B15-t"
      },
      "source": [
        "```pandas```内の```read_html```関数を用いれば、  \n",
        "Webページの中にある表をDataFrame形式で取得することもできます。\n",
        "\n",
        "以下では例としてWikipediaの[ノーベル物理学賞](https://ja.wikipedia.org/wiki/%e3%83%8e%e3%83%bc%e3%83%99%e3%83%ab%e7%89%a9%e7%90%86%e5%ad%a6%e8%b3%9e)のページにある、受賞者一覧を取得してみましょう"
      ]
    },
    {
      "cell_type": "code",
      "metadata": {
        "id": "WQG0tt0q2Hj-"
      },
      "source": [
        "url = \"https://ja.wikipedia.org/wiki/%e3%83%8e%e3%83%bc%e3%83%99%e3%83%ab%e7%89%a9%e7%90%86%e5%ad%a6%e8%b3%9e\"\n",
        "tables = pd.read_html(url)"
      ],
      "execution_count": 31,
      "outputs": []
    },
    {
      "cell_type": "code",
      "metadata": {
        "colab": {
          "base_uri": "https://localhost:8080/"
        },
        "id": "xLVtylYB2Uow",
        "outputId": "7a3d5831-85d9-417f-8c91-cf309b6f48c4"
      },
      "source": [
        "print(len(tables))"
      ],
      "execution_count": 32,
      "outputs": [
        {
          "output_type": "stream",
          "name": "stdout",
          "text": [
            "21\n"
          ]
        }
      ]
    },
    {
      "cell_type": "markdown",
      "metadata": {
        "id": "yBghdSUU2XdQ"
      },
      "source": [
        "ページ内に、21個もの表があることがわかります。  \n",
        "(ほとんどはwikipediaのテンプレート等)\n",
        "\n",
        "たとえば、2010年代の受賞者のみに興味がある場合は"
      ]
    },
    {
      "cell_type": "code",
      "metadata": {
        "colab": {
          "base_uri": "https://localhost:8080/",
          "height": 1000
        },
        "id": "nf2JwszO2nBM",
        "outputId": "e3bfb378-67d8-4f7c-9e21-1a95bc20b704"
      },
      "source": [
        "df = tables[12]\n",
        "df"
      ],
      "execution_count": 33,
      "outputs": [
        {
          "output_type": "execute_result",
          "data": {
            "text/html": [
              "<div>\n",
              "<style scoped>\n",
              "    .dataframe tbody tr th:only-of-type {\n",
              "        vertical-align: middle;\n",
              "    }\n",
              "\n",
              "    .dataframe tbody tr th {\n",
              "        vertical-align: top;\n",
              "    }\n",
              "\n",
              "    .dataframe thead th {\n",
              "        text-align: right;\n",
              "    }\n",
              "</style>\n",
              "<table border=\"1\" class=\"dataframe\">\n",
              "  <thead>\n",
              "    <tr style=\"text-align: right;\">\n",
              "      <th></th>\n",
              "      <th>年度</th>\n",
              "      <th>受賞者名</th>\n",
              "      <th>受賞者名.1</th>\n",
              "      <th>国籍</th>\n",
              "      <th>受賞理由[2]・原著ないし関連論文</th>\n",
              "    </tr>\n",
              "  </thead>\n",
              "  <tbody>\n",
              "    <tr>\n",
              "      <th>0</th>\n",
              "      <td>2010年</td>\n",
              "      <td>NaN</td>\n",
              "      <td>アンドレ・ガイムAndre Geim</td>\n",
              "      <td>オランダ（ ロシア出身）</td>\n",
              "      <td>二次元物質グラフェンに関する革新的実験[注 70]</td>\n",
              "    </tr>\n",
              "    <tr>\n",
              "      <th>1</th>\n",
              "      <td>2010年</td>\n",
              "      <td>NaN</td>\n",
              "      <td>コンスタンチン・ノボセロフKonstantin Novoselov</td>\n",
              "      <td>ロシア イギリス</td>\n",
              "      <td>二次元物質グラフェンに関する革新的実験[注 70]</td>\n",
              "    </tr>\n",
              "    <tr>\n",
              "      <th>2</th>\n",
              "      <td>2011年</td>\n",
              "      <td>NaN</td>\n",
              "      <td>ソール・パールマッターSaul Perlmutter</td>\n",
              "      <td>アメリカ合衆国</td>\n",
              "      <td>遠方の超新星の観測を通した宇宙の加速膨張の発見Astrophys. J.: 517 (199...</td>\n",
              "    </tr>\n",
              "    <tr>\n",
              "      <th>3</th>\n",
              "      <td>2011年</td>\n",
              "      <td>NaN</td>\n",
              "      <td>ブライアン・P・シュミットBrian Schmidt</td>\n",
              "      <td>オーストラリア アメリカ合衆国</td>\n",
              "      <td>遠方の超新星の観測を通した宇宙の加速膨張の発見Astrophys. J.: 517 (199...</td>\n",
              "    </tr>\n",
              "    <tr>\n",
              "      <th>4</th>\n",
              "      <td>2011年</td>\n",
              "      <td>NaN</td>\n",
              "      <td>アダム・リースAdam Riess</td>\n",
              "      <td>アメリカ合衆国</td>\n",
              "      <td>遠方の超新星の観測を通した宇宙の加速膨張の発見Astrophys. J.: 517 (199...</td>\n",
              "    </tr>\n",
              "    <tr>\n",
              "      <th>5</th>\n",
              "      <td>2012年</td>\n",
              "      <td>NaN</td>\n",
              "      <td>セルジュ・アロシュSerge Haroche</td>\n",
              "      <td>フランス（ モロッコ出身）</td>\n",
              "      <td>個別の量子系に対する計測および制御[注 71]を可能にする画期的な実験的手法に関する業績[3...</td>\n",
              "    </tr>\n",
              "    <tr>\n",
              "      <th>6</th>\n",
              "      <td>2012年</td>\n",
              "      <td>NaN</td>\n",
              "      <td>デービッド・ワインランドDavid J. Wineland</td>\n",
              "      <td>アメリカ合衆国</td>\n",
              "      <td>個別の量子系に対する計測および制御[注 71]を可能にする画期的な実験的手法に関する業績[3...</td>\n",
              "    </tr>\n",
              "    <tr>\n",
              "      <th>7</th>\n",
              "      <td>2013年</td>\n",
              "      <td>NaN</td>\n",
              "      <td>フランソワ・アングレールFrançois Englert</td>\n",
              "      <td>ベルギー</td>\n",
              "      <td>欧州原子核研究機構 (CERN) によって存在が確認された素粒子（ヒッグス粒子）に基づく、質...</td>\n",
              "    </tr>\n",
              "    <tr>\n",
              "      <th>8</th>\n",
              "      <td>2013年</td>\n",
              "      <td>NaN</td>\n",
              "      <td>ピーター・ヒッグスPeter Higgs</td>\n",
              "      <td>イギリス</td>\n",
              "      <td>欧州原子核研究機構 (CERN) によって存在が確認された素粒子（ヒッグス粒子）に基づく、質...</td>\n",
              "    </tr>\n",
              "    <tr>\n",
              "      <th>9</th>\n",
              "      <td>2014年</td>\n",
              "      <td>NaN</td>\n",
              "      <td>赤崎勇Isamu Akasaki</td>\n",
              "      <td>日本</td>\n",
              "      <td>高輝度で省電力の白色光源を実現可能にした青色発光ダイオードの発明[8]</td>\n",
              "    </tr>\n",
              "    <tr>\n",
              "      <th>10</th>\n",
              "      <td>2014年</td>\n",
              "      <td>NaN</td>\n",
              "      <td>天野浩Hiroshi Amano</td>\n",
              "      <td>日本</td>\n",
              "      <td>高輝度で省電力の白色光源を実現可能にした青色発光ダイオードの発明[8]</td>\n",
              "    </tr>\n",
              "    <tr>\n",
              "      <th>11</th>\n",
              "      <td>2014年</td>\n",
              "      <td>NaN</td>\n",
              "      <td>中村修二Shuji Nakamura</td>\n",
              "      <td>アメリカ合衆国（ 日本出身）</td>\n",
              "      <td>高輝度で省電力の白色光源を実現可能にした青色発光ダイオードの発明[8]</td>\n",
              "    </tr>\n",
              "    <tr>\n",
              "      <th>12</th>\n",
              "      <td>2015年</td>\n",
              "      <td>NaN</td>\n",
              "      <td>梶田隆章Takaaki Kajita</td>\n",
              "      <td>日本</td>\n",
              "      <td>素粒子「ニュートリノ」が質量を持つことを示すニュートリノ振動の発見[9]</td>\n",
              "    </tr>\n",
              "    <tr>\n",
              "      <th>13</th>\n",
              "      <td>2015年</td>\n",
              "      <td>NaN</td>\n",
              "      <td>アーサー・B・マクドナルドArthur B. McDonald</td>\n",
              "      <td>カナダ</td>\n",
              "      <td>素粒子「ニュートリノ」が質量を持つことを示すニュートリノ振動の発見[9]</td>\n",
              "    </tr>\n",
              "    <tr>\n",
              "      <th>14</th>\n",
              "      <td>2016年</td>\n",
              "      <td>NaN</td>\n",
              "      <td>デイヴィッド・J・サウレスDavid J. Thouless</td>\n",
              "      <td>イギリス アメリカ合衆国</td>\n",
              "      <td>物質のトポロジカル相とトポロジカル相転移の理論的発見[10][11]</td>\n",
              "    </tr>\n",
              "    <tr>\n",
              "      <th>15</th>\n",
              "      <td>2016年</td>\n",
              "      <td>NaN</td>\n",
              "      <td>ダンカン・ホールデンDuncan Haldane</td>\n",
              "      <td>イギリス スロベニア</td>\n",
              "      <td>物質のトポロジカル相とトポロジカル相転移の理論的発見[10][11]</td>\n",
              "    </tr>\n",
              "    <tr>\n",
              "      <th>16</th>\n",
              "      <td>2016年</td>\n",
              "      <td>NaN</td>\n",
              "      <td>ジョン・M・コステリッツMichael Kosterlitz</td>\n",
              "      <td>イギリス アメリカ合衆国</td>\n",
              "      <td>物質のトポロジカル相とトポロジカル相転移の理論的発見[10][11]</td>\n",
              "    </tr>\n",
              "    <tr>\n",
              "      <th>17</th>\n",
              "      <td>2017年</td>\n",
              "      <td>NaN</td>\n",
              "      <td>レイナー・ワイスRainer Weiss</td>\n",
              "      <td>アメリカ合衆国（ ドイツ出身）</td>\n",
              "      <td>LIGO検出器および重力波の観測への決定的な貢献</td>\n",
              "    </tr>\n",
              "    <tr>\n",
              "      <th>18</th>\n",
              "      <td>2017年</td>\n",
              "      <td>NaN</td>\n",
              "      <td>バリー・バリッシュBarry Barish</td>\n",
              "      <td>アメリカ合衆国</td>\n",
              "      <td>LIGO検出器および重力波の観測への決定的な貢献</td>\n",
              "    </tr>\n",
              "    <tr>\n",
              "      <th>19</th>\n",
              "      <td>2017年</td>\n",
              "      <td>NaN</td>\n",
              "      <td>キップ・ソーンKip Thorne</td>\n",
              "      <td>アメリカ合衆国</td>\n",
              "      <td>LIGO検出器および重力波の観測への決定的な貢献</td>\n",
              "    </tr>\n",
              "    <tr>\n",
              "      <th>20</th>\n",
              "      <td>2018年</td>\n",
              "      <td>NaN</td>\n",
              "      <td>アーサー・アシュキンArthur Ashkin</td>\n",
              "      <td>アメリカ合衆国</td>\n",
              "      <td>光ピンセットの開発と生体システムへの応用</td>\n",
              "    </tr>\n",
              "    <tr>\n",
              "      <th>21</th>\n",
              "      <td>2018年</td>\n",
              "      <td>NaN</td>\n",
              "      <td>ジェラール・ムルGérard Mourou</td>\n",
              "      <td>フランス</td>\n",
              "      <td>超高出力・超短パルスレーザーの生成方法の開発</td>\n",
              "    </tr>\n",
              "    <tr>\n",
              "      <th>22</th>\n",
              "      <td>2018年</td>\n",
              "      <td>NaN</td>\n",
              "      <td>ドナ・ストリックランドDonna Strickland</td>\n",
              "      <td>カナダ</td>\n",
              "      <td>超高出力・超短パルスレーザーの生成方法の開発</td>\n",
              "    </tr>\n",
              "    <tr>\n",
              "      <th>23</th>\n",
              "      <td>2019年</td>\n",
              "      <td>NaN</td>\n",
              "      <td>ジェームズ・ピーブルスJim Peebles</td>\n",
              "      <td>アメリカ合衆国（ カナダ出身）</td>\n",
              "      <td>物理宇宙論における理論的発見</td>\n",
              "    </tr>\n",
              "    <tr>\n",
              "      <th>24</th>\n",
              "      <td>2019年</td>\n",
              "      <td>NaN</td>\n",
              "      <td>ミシェル・マイヨールMichel Mayor</td>\n",
              "      <td>スイス</td>\n",
              "      <td>太陽型恒星を周回する太陽系外惑星の発見</td>\n",
              "    </tr>\n",
              "    <tr>\n",
              "      <th>25</th>\n",
              "      <td>2019年</td>\n",
              "      <td>NaN</td>\n",
              "      <td>ディディエ・ケローDidier Queloz</td>\n",
              "      <td>スイス</td>\n",
              "      <td>太陽型恒星を周回する太陽系外惑星の発見</td>\n",
              "    </tr>\n",
              "  </tbody>\n",
              "</table>\n",
              "</div>"
            ],
            "text/plain": [
              "       年度  ...                                  受賞理由[2]・原著ないし関連論文\n",
              "0   2010年  ...                          二次元物質グラフェンに関する革新的実験[注 70]\n",
              "1   2010年  ...                          二次元物質グラフェンに関する革新的実験[注 70]\n",
              "2   2011年  ...  遠方の超新星の観測を通した宇宙の加速膨張の発見Astrophys. J.: 517 (199...\n",
              "3   2011年  ...  遠方の超新星の観測を通した宇宙の加速膨張の発見Astrophys. J.: 517 (199...\n",
              "4   2011年  ...  遠方の超新星の観測を通した宇宙の加速膨張の発見Astrophys. J.: 517 (199...\n",
              "5   2012年  ...  個別の量子系に対する計測および制御[注 71]を可能にする画期的な実験的手法に関する業績[3...\n",
              "6   2012年  ...  個別の量子系に対する計測および制御[注 71]を可能にする画期的な実験的手法に関する業績[3...\n",
              "7   2013年  ...  欧州原子核研究機構 (CERN) によって存在が確認された素粒子（ヒッグス粒子）に基づく、質...\n",
              "8   2013年  ...  欧州原子核研究機構 (CERN) によって存在が確認された素粒子（ヒッグス粒子）に基づく、質...\n",
              "9   2014年  ...                高輝度で省電力の白色光源を実現可能にした青色発光ダイオードの発明[8]\n",
              "10  2014年  ...                高輝度で省電力の白色光源を実現可能にした青色発光ダイオードの発明[8]\n",
              "11  2014年  ...                高輝度で省電力の白色光源を実現可能にした青色発光ダイオードの発明[8]\n",
              "12  2015年  ...               素粒子「ニュートリノ」が質量を持つことを示すニュートリノ振動の発見[9]\n",
              "13  2015年  ...               素粒子「ニュートリノ」が質量を持つことを示すニュートリノ振動の発見[9]\n",
              "14  2016年  ...                 物質のトポロジカル相とトポロジカル相転移の理論的発見[10][11]\n",
              "15  2016年  ...                 物質のトポロジカル相とトポロジカル相転移の理論的発見[10][11]\n",
              "16  2016年  ...                 物質のトポロジカル相とトポロジカル相転移の理論的発見[10][11]\n",
              "17  2017年  ...                           LIGO検出器および重力波の観測への決定的な貢献\n",
              "18  2017年  ...                           LIGO検出器および重力波の観測への決定的な貢献\n",
              "19  2017年  ...                           LIGO検出器および重力波の観測への決定的な貢献\n",
              "20  2018年  ...                               光ピンセットの開発と生体システムへの応用\n",
              "21  2018年  ...                             超高出力・超短パルスレーザーの生成方法の開発\n",
              "22  2018年  ...                             超高出力・超短パルスレーザーの生成方法の開発\n",
              "23  2019年  ...                                     物理宇宙論における理論的発見\n",
              "24  2019年  ...                                太陽型恒星を周回する太陽系外惑星の発見\n",
              "25  2019年  ...                                太陽型恒星を周回する太陽系外惑星の発見\n",
              "\n",
              "[26 rows x 5 columns]"
            ]
          },
          "metadata": {},
          "execution_count": 33
        }
      ]
    },
    {
      "cell_type": "markdown",
      "metadata": {
        "id": "U6LFpNLN2sZh"
      },
      "source": [
        "## DataFrameのcsv/Excelファイルへの書き出し"
      ]
    },
    {
      "cell_type": "markdown",
      "metadata": {
        "id": "tbZn9qyB2xTS"
      },
      "source": [
        "DataFrameオブジェクトは、```pandas```内の関数を用いれば、  \n",
        "簡単にcsvやExcelファイルとして書き出すことができます。\n",
        "\n",
        "先程の、２０１０年代のノーベル物理学賞受賞者のデータを、  \n",
        "Google Driveにファイルとして書き出してみましょう。"
      ]
    },
    {
      "cell_type": "code",
      "metadata": {
        "id": "CKxWkUsW3Hi2"
      },
      "source": [
        "from google.colab import drive\n",
        "drive.mount('/content/drive')"
      ],
      "execution_count": null,
      "outputs": []
    },
    {
      "cell_type": "markdown",
      "metadata": {
        "id": "gsr83KhA3Hww"
      },
      "source": [
        "**csvとして書き出す場合**\n",
        "\n",
        "適当にパスを指定して、DataFrameオブジェクトに  \n",
        "```to_csv```関数を作用させます。"
      ]
    },
    {
      "cell_type": "code",
      "metadata": {
        "id": "jLS-3W8F27Xe"
      },
      "source": [
        "df.to_csv(\"/content/drive/My Drive/AdDS2021/pd_write_test.csv\")"
      ],
      "execution_count": null,
      "outputs": []
    },
    {
      "cell_type": "markdown",
      "metadata": {
        "id": "k6XnW1V93mik"
      },
      "source": [
        "**Excelファイルとして書き出す場合**\n",
        "\n",
        "この場合も同様で、```to_excel```関数を用います。"
      ]
    },
    {
      "cell_type": "code",
      "metadata": {
        "id": "A4A69Qb83vkk"
      },
      "source": [
        "df.to_excel(\"/content/drive/My Drive/AdDS2021/pd_write_test.xlsx\")"
      ],
      "execution_count": null,
      "outputs": []
    },
    {
      "cell_type": "markdown",
      "metadata": {
        "id": "jrfPQzrq4GJK"
      },
      "source": [
        "上記の関数内で文字コードを指定することもできます。  \n",
        "例: ```encoding=\"utf-8_sig\"```, ```encoding=\"shift_jis\"```"
      ]
    },
    {
      "cell_type": "markdown",
      "metadata": {
        "id": "O6bVMFaNKeUT"
      },
      "source": [
        "## Pandasで複雑なエクセルファイルを操作する"
      ]
    },
    {
      "cell_type": "markdown",
      "metadata": {
        "id": "KBgNqsmGKjvm"
      },
      "source": [
        "Pandasにはread_excel()という関数が用意されていて、  \n",
        "多数のシートを含むようなエクセルファイルを開くことも出来る。\n",
        "\n",
        "まずは必要なモジュールをインポートしよう。"
      ]
    },
    {
      "cell_type": "code",
      "metadata": {
        "id": "hBKVdR2zKxe_"
      },
      "source": [
        "!pip install xlrd #xlrdモジュールのインストール\n",
        "import xlrd\n",
        "import pandas as pd\n",
        "from pandas import DataFrame\n",
        "import urllib.request"
      ],
      "execution_count": null,
      "outputs": []
    },
    {
      "cell_type": "markdown",
      "metadata": {
        "id": "34iZ93suY1nz"
      },
      "source": [
        "今まではGoogle Driveにいれたファイルを読み出していたが、  \n",
        "Webから直接xlsxファイルを読み込んでみよう。"
      ]
    },
    {
      "cell_type": "code",
      "metadata": {
        "id": "J7bEuGAYY0W7"
      },
      "source": [
        "url = \"https://www.mext.go.jp/content/20201225-mxt_kagsei-mext_01110_012.xlsx\"\n",
        "f = urllib.request.urlopen(url) \n",
        "#ワークブック(作業するエクセルファイル)をwbという変数名で開く. 文字コードはutf-8と仮定した(shift-jisのものがたまにあるので注意)\n",
        "wb = xlrd.open_workbook(file_contents=f.read(),encoding_override=\"utf-8\") \n",
        "f.close()"
      ],
      "execution_count": null,
      "outputs": []
    },
    {
      "cell_type": "markdown",
      "metadata": {
        "id": "YEsLWG0mY8z-"
      },
      "source": [
        "ブック内のシートの一覧は以下のように取得できる。"
      ]
    },
    {
      "cell_type": "code",
      "metadata": {
        "id": "VJv-enRZTxUt"
      },
      "source": [
        "print(\"シート名の一覧\", wb.sheet_names())"
      ],
      "execution_count": null,
      "outputs": []
    },
    {
      "cell_type": "markdown",
      "metadata": {
        "id": "Tn6Lq7UhT1ZX"
      },
      "source": [
        "シートを指定するのは、インデックスかシート名の文字列で行う。\n",
        "\n",
        "\"1 穀類\"を使うことにして、  \n",
        "pandasにあるread_excel関数を使ってみよう。\n",
        "(他にもxlrdの関数を使って読む方法などもある)"
      ]
    },
    {
      "cell_type": "code",
      "metadata": {
        "id": "hUL8lOwaT6dH"
      },
      "source": [
        "df = pd.read_excel(wb,sheet_name=0) #excelの指定したシートを読んで、DataFrameとして変数dfに格納\n",
        "print(df)"
      ],
      "execution_count": null,
      "outputs": []
    },
    {
      "cell_type": "code",
      "metadata": {
        "id": "07xxSw7nVdK2"
      },
      "source": [
        "ndf = pd.read_excel(wb,sheet_name=\"1 穀類\")\n",
        "print(ndf)"
      ],
      "execution_count": null,
      "outputs": []
    },
    {
      "cell_type": "markdown",
      "metadata": {
        "id": "xew_ouFxVnLl"
      },
      "source": [
        "同じものが得られている。\n"
      ]
    },
    {
      "cell_type": "markdown",
      "metadata": {
        "id": "pPBxyiV2oVKV"
      },
      "source": [
        "### データの整形\n",
        "\n",
        "次に、今取得したデータフレームのままでは少々扱い辛いので\"整形\"を考える。  \n",
        "というのも前から4行ほど表示してみると..."
      ]
    },
    {
      "cell_type": "code",
      "metadata": {
        "id": "NKcdOLCMV3qM"
      },
      "source": [
        "df[0:4] "
      ],
      "execution_count": null,
      "outputs": []
    },
    {
      "cell_type": "markdown",
      "metadata": {
        "id": "CULET-99WJ3D"
      },
      "source": [
        "最初の4行ほどに栄養素等の情報が入っているのだが、  \n",
        "セルが結合されたりしているため、所々にNaNが入っていたりして見辛い。\n",
        "\n",
        "(碁盤目の構造を破壊してしまうため「セルの結合」は機械的な処理と  \n",
        "やや相性が悪く、プログラミングを用いたデータ分析では嫌われる)\n",
        "\n",
        "各省庁の公開データのフォーマットの統一化は今後に期待することにして...  \n",
        "まず以下の項目に該当する列だけを抽出する事を考える。\n",
        "\n"
      ]
    },
    {
      "cell_type": "code",
      "metadata": {
        "id": "Jhdp9z7cZm97"
      },
      "source": [
        "targets = [\"食品名\", \"エネルギー\",\"たんぱく質\", \"脂質\", \"炭水化物\"]"
      ],
      "execution_count": null,
      "outputs": []
    },
    {
      "cell_type": "markdown",
      "metadata": {
        "id": "zGrqpS-6jhaK"
      },
      "source": [
        "該当するデータがどの行・列に格納されているかをコードで指定するのは、  \n",
        "前述のファイル構造の事情からやや面倒くさい。  \n",
        "\n",
        "以下では、その場しのぎ的ではあるが、  \n",
        "興味のある量が何番目かを指定してまとめてみることにしよう。\n",
        "\n",
        "そのために、1行目の要素を表示してみよう。"
      ]
    },
    {
      "cell_type": "code",
      "metadata": {
        "id": "yZ-IVG2Ma30o"
      },
      "source": [
        "#1行目(エクセルだと2行目)の要素を表示してみる\n",
        "print(list(df.iloc[0].values))\n",
        "\n",
        "#半角空白, 全角空白(\\u3000)や改行コード\\nを取り除いたリストを作って表示してみる\n",
        "tlist = list(map( lambda s: str(s).replace(\"\\u3000\",\"\").replace(\"\\n\",\"\").replace(\" \",\"\"),df.iloc[0].values))\n",
        "print(tlist)\n"
      ],
      "execution_count": null,
      "outputs": []
    },
    {
      "cell_type": "markdown",
      "metadata": {
        "id": "KEaiS1EAiWDY"
      },
      "source": [
        "セルの結合により、興味のあるデータがどの列に記述されているかは注意が必要。  \n",
        "\n",
        "実際、[エネルギー]という文字列は1行目の6列目(それぞれインデックスでいうと0,5)で取得できるが、  \n",
        "kJ単位になっていて、kcal単位でほしければ、7列目に格納された値が必要になる。  \n",
        "\n",
        "また、エクセルファイルを見るとわかるように、たんぱく質・脂質・炭水化物はさらに細分化されており、  \n",
        "O列R列など、細かい列の分割が挿入されている. ~~これは大変困る~~\n",
        "\n",
        "単純にたんぱく質・脂質・炭水化物と表記されている列のインデックスはそれぞれ9,12,20となる。  \n",
        "食品名が格納されている列(3)、エネルギー[kJ単位] (6)と合わせて確認してみよう。"
      ]
    },
    {
      "cell_type": "code",
      "metadata": {
        "id": "U-Hzne6VgWf3"
      },
      "source": [
        "df.iloc[:,[3,6,9,12,20]]"
      ],
      "execution_count": null,
      "outputs": []
    },
    {
      "cell_type": "markdown",
      "metadata": {
        "id": "LNk4oIypmpTe"
      },
      "source": [
        "もう少し整形したいので、新しいデータフレームのコラムを書き換える。\n",
        "\n",
        "食品名等が記載されているのは10行目以降なので、それを使い  \n",
        "columnを指定する。\n",
        "\n",
        "さらに、食品名に含まれる余分な文字コードも削除しておこう。"
      ]
    },
    {
      "cell_type": "code",
      "metadata": {
        "id": "ZWkaRBZynATr"
      },
      "source": [
        "ndf = df.iloc[:,[3,6,9,12,20]] \n",
        "ndf = ndf.iloc[10:,:]\n",
        "ndf.columns=[\"食品名\",\"エネルギー(kcal)\",\"たんぱく質(g)\",\"脂質(g)\",\"炭水化物(g)\"]\n",
        "ndf[\"食品名\"] = ndf[\"食品名\"].str.replace(\"\\u3000\",\" \") # 食品名の中にある余分な全角空白(\\u3000)を半角スペースに置き換える\n",
        "ndf"
      ],
      "execution_count": null,
      "outputs": []
    },
    {
      "cell_type": "markdown",
      "metadata": {
        "id": "B5FN5MFcmECG"
      },
      "source": [
        "次に、食品名の一覧を取得した後、興味のあるもの(日常的に馴染みのあるもの)だけを  \n",
        "ピックアップしてみよう。"
      ]
    },
    {
      "cell_type": "code",
      "metadata": {
        "id": "_SI2LaqPmOK3"
      },
      "source": [
        "print(list(ndf[\"食品名\"]))"
      ],
      "execution_count": null,
      "outputs": []
    },
    {
      "cell_type": "markdown",
      "metadata": {
        "id": "bT1akYL_pBXs"
      },
      "source": [
        "この中から...\n",
        "* こむぎ［パン類］食パンリッチタイプ\n",
        "* こむぎ［パン類］フランスパン\n",
        "* こめ［水稲軟めし］精白米\n",
        "* そばそばゆで\n",
        "* こむぎ［うどん・そうめん類］うどんゆで\n",
        "\n",
        "のみに興味があれば"
      ]
    },
    {
      "cell_type": "code",
      "metadata": {
        "id": "F2ouiW-jqpjm"
      },
      "source": [
        "tshokuhin = [\"こむぎ ［パン類］ 食パン リッチタイプ\",\"こむぎ ［パン類］ フランスパン\",\"こめ ［水稲軟めし］ 精白米\", \"そば そば ゆで\", \"こむぎ ［うどん・そうめん類］ うどん ゆで\"]\n",
        "ndf[ ndf[\"食品名\"].isin(tshokuhin)]"
      ],
      "execution_count": null,
      "outputs": []
    },
    {
      "cell_type": "markdown",
      "metadata": {
        "id": "Jt2aLH3jrWSY"
      },
      "source": [
        "などとする。"
      ]
    },
    {
      "cell_type": "markdown",
      "metadata": {
        "id": "So7B0ZauwuyT"
      },
      "source": [
        "'6 野菜類'でも同様に..."
      ]
    },
    {
      "cell_type": "code",
      "metadata": {
        "id": "aYwheZeiw0Oe"
      },
      "source": [
        "df6 = pd.read_excel(wb,sheet_name=\"6 野菜類\")\n",
        "df6.iloc[:,[3,6,9,12,20]]\n",
        "ndf6 = df6.iloc[:,[3,6,9,12,20]] \n",
        "ndf6 = ndf6.iloc[10:,:]\n",
        "ndf6.columns=[\"食品名\",\"エネルギー(kcal)\",\"たんぱく質(g)\",\"脂質(g)\",\"炭水化物(g)\"]\n",
        "ndf6[\"食品名\"] = ndf6[\"食品名\"].str.replace(\"\\u3000\",\" \") \n",
        "ndf6"
      ],
      "execution_count": null,
      "outputs": []
    },
    {
      "cell_type": "markdown",
      "metadata": {
        "id": "di6-R2kIx88j"
      },
      "source": [
        "特定のキーワードを含むものを全て取得して、  \n",
        "食品名を細かく指定したり、対応する行番号のインデックスを取得できたりする"
      ]
    },
    {
      "cell_type": "code",
      "metadata": {
        "id": "XDN2orG9xP_j"
      },
      "source": [
        "kyabetu = ndf6[ndf6[\"食品名\"].str.contains('キャベツ')]\n",
        "kyabetu"
      ],
      "execution_count": null,
      "outputs": []
    },
    {
      "cell_type": "code",
      "metadata": {
        "id": "QboGKX8bx0yB"
      },
      "source": [
        "tomato = ndf6[ndf6[\"食品名\"].str.contains('トマト')]\n",
        "tomato"
      ],
      "execution_count": null,
      "outputs": []
    },
    {
      "cell_type": "markdown",
      "metadata": {
        "id": "ojENrlEZGepm"
      },
      "source": [
        "DataFrame同士を結合してまとめるなどして  \n",
        "扱いやすいデータに整形していく.\n",
        "\n",
        "縦方向の結合はpandasのconcat(concatenateの略)を使う。"
      ]
    },
    {
      "cell_type": "code",
      "metadata": {
        "id": "SKoSAqvNGkrt"
      },
      "source": [
        "tdf = pd.concat([kyabetu, tomato])\n",
        "tdf"
      ],
      "execution_count": null,
      "outputs": []
    },
    {
      "cell_type": "markdown",
      "metadata": {
        "id": "dPK_KIGcyuod"
      },
      "source": [
        "# LICENSE"
      ]
    },
    {
      "cell_type": "markdown",
      "metadata": {
        "id": "q943wB7Z4DYK"
      },
      "source": [
        "\n",
        "Copyright (C) 2021 Sota Yoshida\n",
        "\n",
        "[ライセンス:クリエイティブ・コモンズ 4.0 表示 (CC-BY 4.0)](https://creativecommons.org/licenses/by/4.0/deed.ja)"
      ]
    }
  ]
}