{
  "nbformat": 4,
  "nbformat_minor": 0,
  "metadata": {
    "colab": {
      "name": "Python_misc_Pandas.ipynb",
      "provenance": [],
      "collapsed_sections": [],
      "include_colab_link": true
    },
    "kernelspec": {
      "name": "python3",
      "display_name": "Python 3"
    }
  },
  "cells": [
    {
      "cell_type": "markdown",
      "metadata": {
        "id": "view-in-github",
        "colab_type": "text"
      },
      "source": [
        "<a href=\"https://colab.research.google.com/github/SotaYoshida/Lecture_DataScience/blob/2021/notebooks/Python_misc_Pandas.ipynb\" target=\"_parent\"><img src=\"https://colab.research.google.com/assets/colab-badge.svg\" alt=\"Open In Colab\"/></a>"
      ]
    },
    {
      "cell_type": "markdown",
      "metadata": {
        "id": "g05kSZSuyD8r"
      },
      "source": [
        "# Pandasの使い方 (基礎)"
      ]
    },
    {
      "cell_type": "markdown",
      "metadata": {
        "id": "NnDUb09nyHXf"
      },
      "source": [
        "```Pandas```は、データ分析のためのライブラリで  \n",
        "統計量を計算・表示したり、それらをグラフとして可視化出来たり  \n",
        "データサイエンスや機械学習などで必要な作業を簡単に行うことができます。\n",
        "\n",
        "Numpyや機械学習ライブラリなどに入れるデータの前処理などにもよく用いられます。\n",
        "\n",
        "まずはインポートしましょう。```pd```という名前で使うのが慣例です。"
      ]
    },
    {
      "cell_type": "code",
      "metadata": {
        "id": "G0LxApMex5f6"
      },
      "source": [
        "import pandas as pd "
      ],
      "execution_count": 1,
      "outputs": []
    },
    {
      "cell_type": "markdown",
      "metadata": {
        "id": "-1ut22WgzFeQ"
      },
      "source": [
        "## DataFrame型"
      ]
    },
    {
      "cell_type": "markdown",
      "metadata": {
        "id": "A-RriyHt1r-p"
      },
      "source": [
        "DataFrameは二次元のデータを表現するのに利用され  \n",
        "各種データ分析などで非常に役にたちます。"
      ]
    },
    {
      "cell_type": "code",
      "metadata": {
        "id": "Ubw2JSMmzCkX"
      },
      "source": [
        "from pandas import DataFrame"
      ],
      "execution_count": 2,
      "outputs": []
    },
    {
      "cell_type": "markdown",
      "metadata": {
        "id": "oeBpZK4l7knI"
      },
      "source": [
        "以下の辞書型をDataFrame型のオブジェクトに変換してみましょう。"
      ]
    },
    {
      "cell_type": "code",
      "metadata": {
        "colab": {
          "base_uri": "https://localhost:8080/"
        },
        "id": "HKPVuPjz7jmb",
        "outputId": "ffde0e12-05e7-4864-bfe6-00f1fd33b47c"
      },
      "source": [
        "data = { '名前': [\"Aさん\", \"Bさん\", \"Cさん\", \"Dさん\", \"Eさん\"],\n",
        "        '出身都道府県':['Tokyo', 'Tochigi', 'Hokkaido','Kyoto','Tochigi'],\n",
        "        '生年': [ 1998, 1993,2000,1989,2002],\n",
        "        '身長': [172, 156, 162, 180,158]}\n",
        "df = DataFrame(data)\n",
        "print(\"dataの型\", type(data))\n",
        "print(\"dfの型\",type(df))"
      ],
      "execution_count": 3,
      "outputs": [
        {
          "output_type": "stream",
          "name": "stdout",
          "text": [
            "dataの型 <class 'dict'>\n",
            "dfの型 <class 'pandas.core.frame.DataFrame'>\n"
          ]
        }
      ]
    },
    {
      "cell_type": "markdown",
      "metadata": {
        "id": "5F90_vjr8ukA"
      },
      "source": [
        "jupyter環境でDataFrameを読むと、\"いい感じ\"に表示してくれる"
      ]
    },
    {
      "cell_type": "code",
      "metadata": {
        "colab": {
          "base_uri": "https://localhost:8080/",
          "height": 206
        },
        "id": "8VZZ6asj8qie",
        "outputId": "18c69c7e-3d96-4965-c48d-2dc2a118efc2"
      },
      "source": [
        "df"
      ],
      "execution_count": 4,
      "outputs": [
        {
          "output_type": "execute_result",
          "data": {
            "text/html": [
              "<div>\n",
              "<style scoped>\n",
              "    .dataframe tbody tr th:only-of-type {\n",
              "        vertical-align: middle;\n",
              "    }\n",
              "\n",
              "    .dataframe tbody tr th {\n",
              "        vertical-align: top;\n",
              "    }\n",
              "\n",
              "    .dataframe thead th {\n",
              "        text-align: right;\n",
              "    }\n",
              "</style>\n",
              "<table border=\"1\" class=\"dataframe\">\n",
              "  <thead>\n",
              "    <tr style=\"text-align: right;\">\n",
              "      <th></th>\n",
              "      <th>名前</th>\n",
              "      <th>出身都道府県</th>\n",
              "      <th>生年</th>\n",
              "      <th>身長</th>\n",
              "    </tr>\n",
              "  </thead>\n",
              "  <tbody>\n",
              "    <tr>\n",
              "      <th>0</th>\n",
              "      <td>Aさん</td>\n",
              "      <td>Tokyo</td>\n",
              "      <td>1998</td>\n",
              "      <td>172</td>\n",
              "    </tr>\n",
              "    <tr>\n",
              "      <th>1</th>\n",
              "      <td>Bさん</td>\n",
              "      <td>Tochigi</td>\n",
              "      <td>1993</td>\n",
              "      <td>156</td>\n",
              "    </tr>\n",
              "    <tr>\n",
              "      <th>2</th>\n",
              "      <td>Cさん</td>\n",
              "      <td>Hokkaido</td>\n",
              "      <td>2000</td>\n",
              "      <td>162</td>\n",
              "    </tr>\n",
              "    <tr>\n",
              "      <th>3</th>\n",
              "      <td>Dさん</td>\n",
              "      <td>Kyoto</td>\n",
              "      <td>1989</td>\n",
              "      <td>180</td>\n",
              "    </tr>\n",
              "    <tr>\n",
              "      <th>4</th>\n",
              "      <td>Eさん</td>\n",
              "      <td>Tochigi</td>\n",
              "      <td>2002</td>\n",
              "      <td>158</td>\n",
              "    </tr>\n",
              "  </tbody>\n",
              "</table>\n",
              "</div>"
            ],
            "text/plain": [
              "    名前    出身都道府県    生年   身長\n",
              "0  Aさん     Tokyo  1998  172\n",
              "1  Bさん   Tochigi  1993  156\n",
              "2  Cさん  Hokkaido  2000  162\n",
              "3  Dさん     Kyoto  1989  180\n",
              "4  Eさん   Tochigi  2002  158"
            ]
          },
          "metadata": {},
          "execution_count": 4
        }
      ]
    },
    {
      "cell_type": "markdown",
      "metadata": {
        "id": "BkqFef0A83To"
      },
      "source": [
        "printだとちょっと無機質な感じに。"
      ]
    },
    {
      "cell_type": "code",
      "metadata": {
        "colab": {
          "base_uri": "https://localhost:8080/"
        },
        "id": "xiIqLRFG82BW",
        "outputId": "3c3ef04c-cbb7-4cb1-eedc-c23d801a7680"
      },
      "source": [
        "print(df)"
      ],
      "execution_count": 5,
      "outputs": [
        {
          "output_type": "stream",
          "name": "stdout",
          "text": [
            "    名前    出身都道府県    生年   身長\n",
            "0  Aさん     Tokyo  1998  172\n",
            "1  Bさん   Tochigi  1993  156\n",
            "2  Cさん  Hokkaido  2000  162\n",
            "3  Dさん     Kyoto  1989  180\n",
            "4  Eさん   Tochigi  2002  158\n"
          ]
        }
      ]
    },
    {
      "cell_type": "markdown",
      "metadata": {
        "id": "vn8s-8VR7b6Q"
      },
      "source": [
        "```info()```関数を作用させると、詳細な情報が得られる。  \n",
        "列ごとにどんな種類のデータが格納されているのかや、\n",
        "メモリ使用量など表示することができる。"
      ]
    },
    {
      "cell_type": "code",
      "metadata": {
        "colab": {
          "base_uri": "https://localhost:8080/"
        },
        "id": "2KsTF1d17anv",
        "outputId": "f2461703-4a0a-4423-da60-44decfefe616"
      },
      "source": [
        "df.info()"
      ],
      "execution_count": 6,
      "outputs": [
        {
          "output_type": "stream",
          "name": "stdout",
          "text": [
            "<class 'pandas.core.frame.DataFrame'>\n",
            "RangeIndex: 5 entries, 0 to 4\n",
            "Data columns (total 4 columns):\n",
            " #   Column  Non-Null Count  Dtype \n",
            "---  ------  --------------  ----- \n",
            " 0   名前      5 non-null      object\n",
            " 1   出身都道府県  5 non-null      object\n",
            " 2   生年      5 non-null      int64 \n",
            " 3   身長      5 non-null      int64 \n",
            "dtypes: int64(2), object(2)\n",
            "memory usage: 288.0+ bytes\n"
          ]
        }
      ]
    },
    {
      "cell_type": "markdown",
      "metadata": {
        "id": "-TsUcNTsBIIi"
      },
      "source": [
        "## DataFrameの要素を確認・指定する方法"
      ]
    },
    {
      "cell_type": "markdown",
      "metadata": {
        "id": "6ChkvnngBLb_"
      },
      "source": [
        "index: 行方向のデータ項目(おもに整数値(行番号),ID,名前など)  \n",
        "columns: 列方向のデータの項目(おもにデータの種類)  \n",
        "をそれぞれ表示してみよう。"
      ]
    },
    {
      "cell_type": "code",
      "metadata": {
        "colab": {
          "base_uri": "https://localhost:8080/"
        },
        "id": "YkQCL0ay59o8",
        "outputId": "d936638c-2111-4812-c826-8e7f952c828a"
      },
      "source": [
        "df.index"
      ],
      "execution_count": 7,
      "outputs": [
        {
          "output_type": "execute_result",
          "data": {
            "text/plain": [
              "RangeIndex(start=0, stop=5, step=1)"
            ]
          },
          "metadata": {},
          "execution_count": 7
        }
      ]
    },
    {
      "cell_type": "code",
      "metadata": {
        "colab": {
          "base_uri": "https://localhost:8080/"
        },
        "id": "WNqLrkQ35-4O",
        "outputId": "e13a4651-8d7a-4fda-cd73-96ad2b69c76a"
      },
      "source": [
        "df.columns"
      ],
      "execution_count": 8,
      "outputs": [
        {
          "output_type": "execute_result",
          "data": {
            "text/plain": [
              "Index(['名前', '出身都道府県', '生年', '身長'], dtype='object')"
            ]
          },
          "metadata": {},
          "execution_count": 8
        }
      ]
    },
    {
      "cell_type": "markdown",
      "metadata": {
        "id": "-MtegVlt60qr"
      },
      "source": [
        "行方向を、整数値(行数)ではなく名前にしたければ"
      ]
    },
    {
      "cell_type": "code",
      "metadata": {
        "colab": {
          "base_uri": "https://localhost:8080/",
          "height": 206
        },
        "id": "aE51PtdW6pKE",
        "outputId": "b4d87b1d-cc23-413a-e5ac-cb916e10968b"
      },
      "source": [
        "data1 = {'出身都道府県':['Tokyo', 'Tochigi', 'Hokkaido','Kyoto','Tochigi'],\n",
        "        '生年': [ 1998, 1993,2000,1989,2002],\n",
        "        '身長': [172, 156, 162, 180,158]}\n",
        "df1 = DataFrame(data1)\n",
        "df1.index =[\"Aさん\", \"Bさん\", \"Cさん\", \"Dさん\", \"Eさん\"]\n",
        "df1"
      ],
      "execution_count": 9,
      "outputs": [
        {
          "output_type": "execute_result",
          "data": {
            "text/html": [
              "<div>\n",
              "<style scoped>\n",
              "    .dataframe tbody tr th:only-of-type {\n",
              "        vertical-align: middle;\n",
              "    }\n",
              "\n",
              "    .dataframe tbody tr th {\n",
              "        vertical-align: top;\n",
              "    }\n",
              "\n",
              "    .dataframe thead th {\n",
              "        text-align: right;\n",
              "    }\n",
              "</style>\n",
              "<table border=\"1\" class=\"dataframe\">\n",
              "  <thead>\n",
              "    <tr style=\"text-align: right;\">\n",
              "      <th></th>\n",
              "      <th>出身都道府県</th>\n",
              "      <th>生年</th>\n",
              "      <th>身長</th>\n",
              "    </tr>\n",
              "  </thead>\n",
              "  <tbody>\n",
              "    <tr>\n",
              "      <th>Aさん</th>\n",
              "      <td>Tokyo</td>\n",
              "      <td>1998</td>\n",
              "      <td>172</td>\n",
              "    </tr>\n",
              "    <tr>\n",
              "      <th>Bさん</th>\n",
              "      <td>Tochigi</td>\n",
              "      <td>1993</td>\n",
              "      <td>156</td>\n",
              "    </tr>\n",
              "    <tr>\n",
              "      <th>Cさん</th>\n",
              "      <td>Hokkaido</td>\n",
              "      <td>2000</td>\n",
              "      <td>162</td>\n",
              "    </tr>\n",
              "    <tr>\n",
              "      <th>Dさん</th>\n",
              "      <td>Kyoto</td>\n",
              "      <td>1989</td>\n",
              "      <td>180</td>\n",
              "    </tr>\n",
              "    <tr>\n",
              "      <th>Eさん</th>\n",
              "      <td>Tochigi</td>\n",
              "      <td>2002</td>\n",
              "      <td>158</td>\n",
              "    </tr>\n",
              "  </tbody>\n",
              "</table>\n",
              "</div>"
            ],
            "text/plain": [
              "       出身都道府県    生年   身長\n",
              "Aさん     Tokyo  1998  172\n",
              "Bさん   Tochigi  1993  156\n",
              "Cさん  Hokkaido  2000  162\n",
              "Dさん     Kyoto  1989  180\n",
              "Eさん   Tochigi  2002  158"
            ]
          },
          "metadata": {},
          "execution_count": 9
        }
      ]
    },
    {
      "cell_type": "markdown",
      "metadata": {
        "id": "LaFJVeL27NqY"
      },
      "source": [
        "などとしてもよい。"
      ]
    },
    {
      "cell_type": "markdown",
      "metadata": {
        "id": "_uFFuzQM8FoQ"
      },
      "source": [
        "### 特定の列を取得したい場合"
      ]
    },
    {
      "cell_type": "code",
      "metadata": {
        "colab": {
          "base_uri": "https://localhost:8080/"
        },
        "id": "oQ9hZkVx8K-p",
        "outputId": "e9ba05ec-ad7d-435c-dcbc-f93cf3f2a499"
      },
      "source": [
        "df[\"身長\"]"
      ],
      "execution_count": 10,
      "outputs": [
        {
          "output_type": "execute_result",
          "data": {
            "text/plain": [
              "0    172\n",
              "1    156\n",
              "2    162\n",
              "3    180\n",
              "4    158\n",
              "Name: 身長, dtype: int64"
            ]
          },
          "metadata": {},
          "execution_count": 10
        }
      ]
    },
    {
      "cell_type": "markdown",
      "metadata": {
        "id": "zn3WJ4_5946D"
      },
      "source": [
        "とする。  \n",
        "以下の方法は非推奨とする。\n"
      ]
    },
    {
      "cell_type": "code",
      "metadata": {
        "colab": {
          "base_uri": "https://localhost:8080/"
        },
        "id": "3VyUAqQs9596",
        "outputId": "49968bfc-b1fc-47f9-dda5-18409f873460"
      },
      "source": [
        "df.身長"
      ],
      "execution_count": 11,
      "outputs": [
        {
          "output_type": "execute_result",
          "data": {
            "text/plain": [
              "0    172\n",
              "1    156\n",
              "2    162\n",
              "3    180\n",
              "4    158\n",
              "Name: 身長, dtype: int64"
            ]
          },
          "metadata": {},
          "execution_count": 11
        }
      ]
    },
    {
      "cell_type": "markdown",
      "metadata": {
        "id": "uK8zkK3h8cpY"
      },
      "source": [
        "値のリスト(正確にはnumpy.ndarray型)として取得したければ"
      ]
    },
    {
      "cell_type": "code",
      "metadata": {
        "colab": {
          "base_uri": "https://localhost:8080/"
        },
        "id": "tozKlT028hfi",
        "outputId": "6fe62f26-9a09-42d3-9b2d-ef2ab10d9299"
      },
      "source": [
        "df[\"身長\"].values"
      ],
      "execution_count": 12,
      "outputs": [
        {
          "output_type": "execute_result",
          "data": {
            "text/plain": [
              "array([172, 156, 162, 180, 158])"
            ]
          },
          "metadata": {},
          "execution_count": 12
        }
      ]
    },
    {
      "cell_type": "code",
      "metadata": {
        "colab": {
          "base_uri": "https://localhost:8080/"
        },
        "id": "87TOA6-e8j8v",
        "outputId": "313d82a6-e521-453a-bbbc-fd993d6fee6b"
      },
      "source": [
        "df[\"出身都道府県\"].values"
      ],
      "execution_count": 13,
      "outputs": [
        {
          "output_type": "execute_result",
          "data": {
            "text/plain": [
              "array(['Tokyo', 'Tochigi', 'Hokkaido', 'Kyoto', 'Tochigi'], dtype=object)"
            ]
          },
          "metadata": {},
          "execution_count": 13
        }
      ]
    },
    {
      "cell_type": "markdown",
      "metadata": {
        "id": "Yh97e7y58yHY"
      },
      "source": [
        "などとすればよい。\n",
        "\n",
        "慣れ親しんだ形に変換したければ、リストに変換すればよい\n"
      ]
    },
    {
      "cell_type": "code",
      "metadata": {
        "colab": {
          "base_uri": "https://localhost:8080/"
        },
        "id": "2Uh6YGih5FjE",
        "outputId": "8ad795ad-614f-4327-d8e4-b815746921b5"
      },
      "source": [
        "list(df[\"出身都道府県\"].values)"
      ],
      "execution_count": 14,
      "outputs": [
        {
          "output_type": "execute_result",
          "data": {
            "text/plain": [
              "['Tokyo', 'Tochigi', 'Hokkaido', 'Kyoto', 'Tochigi']"
            ]
          },
          "metadata": {},
          "execution_count": 14
        }
      ]
    },
    {
      "cell_type": "markdown",
      "metadata": {
        "id": "WfpujEkA5BSD"
      },
      "source": [
        "ある列が特定のものに一致するもののみを抽出するのも簡単にできる"
      ]
    },
    {
      "cell_type": "code",
      "metadata": {
        "colab": {
          "base_uri": "https://localhost:8080/",
          "height": 112
        },
        "id": "qlFGoUdc8zPn",
        "outputId": "df9758b0-b92d-484e-e7f2-f885f975b6a8"
      },
      "source": [
        "df[df[\"出身都道府県\"]==\"Tochigi\"]"
      ],
      "execution_count": 15,
      "outputs": [
        {
          "output_type": "execute_result",
          "data": {
            "text/html": [
              "<div>\n",
              "<style scoped>\n",
              "    .dataframe tbody tr th:only-of-type {\n",
              "        vertical-align: middle;\n",
              "    }\n",
              "\n",
              "    .dataframe tbody tr th {\n",
              "        vertical-align: top;\n",
              "    }\n",
              "\n",
              "    .dataframe thead th {\n",
              "        text-align: right;\n",
              "    }\n",
              "</style>\n",
              "<table border=\"1\" class=\"dataframe\">\n",
              "  <thead>\n",
              "    <tr style=\"text-align: right;\">\n",
              "      <th></th>\n",
              "      <th>名前</th>\n",
              "      <th>出身都道府県</th>\n",
              "      <th>生年</th>\n",
              "      <th>身長</th>\n",
              "    </tr>\n",
              "  </thead>\n",
              "  <tbody>\n",
              "    <tr>\n",
              "      <th>1</th>\n",
              "      <td>Bさん</td>\n",
              "      <td>Tochigi</td>\n",
              "      <td>1993</td>\n",
              "      <td>156</td>\n",
              "    </tr>\n",
              "    <tr>\n",
              "      <th>4</th>\n",
              "      <td>Eさん</td>\n",
              "      <td>Tochigi</td>\n",
              "      <td>2002</td>\n",
              "      <td>158</td>\n",
              "    </tr>\n",
              "  </tbody>\n",
              "</table>\n",
              "</div>"
            ],
            "text/plain": [
              "    名前   出身都道府県    生年   身長\n",
              "1  Bさん  Tochigi  1993  156\n",
              "4  Eさん  Tochigi  2002  158"
            ]
          },
          "metadata": {},
          "execution_count": 15
        }
      ]
    },
    {
      "cell_type": "markdown",
      "metadata": {
        "id": "ItbqbBdn9HG0"
      },
      "source": [
        "これは"
      ]
    },
    {
      "cell_type": "code",
      "metadata": {
        "colab": {
          "base_uri": "https://localhost:8080/"
        },
        "id": "Ubs3Zbjj9KA9",
        "outputId": "be257907-23e8-465c-dbef-5ca6aa06b528"
      },
      "source": [
        "df[\"出身都道府県\"]==\"Tochigi\""
      ],
      "execution_count": 16,
      "outputs": [
        {
          "output_type": "execute_result",
          "data": {
            "text/plain": [
              "0    False\n",
              "1     True\n",
              "2    False\n",
              "3    False\n",
              "4     True\n",
              "Name: 出身都道府県, dtype: bool"
            ]
          },
          "metadata": {},
          "execution_count": 16
        }
      ]
    },
    {
      "cell_type": "markdown",
      "metadata": {
        "id": "bUB1Puao9LqO"
      },
      "source": [
        "が条件に合致するかどうかTrue/Falseの配列になっていて、  \n",
        "df[ [True/Falseの配列] ]とすると、Trueに対応する要素のみを返す  \n",
        "フィルターのような役割になっている。"
      ]
    },
    {
      "cell_type": "markdown",
      "metadata": {
        "id": "4xcTwpmcf3WK"
      },
      "source": [
        "### 列の追加"
      ]
    },
    {
      "cell_type": "markdown",
      "metadata": {
        "id": "ZYNKYZc1f9XO"
      },
      "source": [
        ""
      ]
    },
    {
      "cell_type": "code",
      "metadata": {
        "id": "Hznr0hZMghcK",
        "outputId": "4456ce07-655e-428d-9304-27383e137c71",
        "colab": {
          "base_uri": "https://localhost:8080/",
          "height": 206
        }
      },
      "source": [
        "#スカラー値の場合\"初期化\"のような振る舞いをする\n",
        "df[\"血液型\"] = \"A\"\n",
        "df"
      ],
      "execution_count": 17,
      "outputs": [
        {
          "output_type": "execute_result",
          "data": {
            "text/html": [
              "<div>\n",
              "<style scoped>\n",
              "    .dataframe tbody tr th:only-of-type {\n",
              "        vertical-align: middle;\n",
              "    }\n",
              "\n",
              "    .dataframe tbody tr th {\n",
              "        vertical-align: top;\n",
              "    }\n",
              "\n",
              "    .dataframe thead th {\n",
              "        text-align: right;\n",
              "    }\n",
              "</style>\n",
              "<table border=\"1\" class=\"dataframe\">\n",
              "  <thead>\n",
              "    <tr style=\"text-align: right;\">\n",
              "      <th></th>\n",
              "      <th>名前</th>\n",
              "      <th>出身都道府県</th>\n",
              "      <th>生年</th>\n",
              "      <th>身長</th>\n",
              "      <th>血液型</th>\n",
              "    </tr>\n",
              "  </thead>\n",
              "  <tbody>\n",
              "    <tr>\n",
              "      <th>0</th>\n",
              "      <td>Aさん</td>\n",
              "      <td>Tokyo</td>\n",
              "      <td>1998</td>\n",
              "      <td>172</td>\n",
              "      <td>A</td>\n",
              "    </tr>\n",
              "    <tr>\n",
              "      <th>1</th>\n",
              "      <td>Bさん</td>\n",
              "      <td>Tochigi</td>\n",
              "      <td>1993</td>\n",
              "      <td>156</td>\n",
              "      <td>A</td>\n",
              "    </tr>\n",
              "    <tr>\n",
              "      <th>2</th>\n",
              "      <td>Cさん</td>\n",
              "      <td>Hokkaido</td>\n",
              "      <td>2000</td>\n",
              "      <td>162</td>\n",
              "      <td>A</td>\n",
              "    </tr>\n",
              "    <tr>\n",
              "      <th>3</th>\n",
              "      <td>Dさん</td>\n",
              "      <td>Kyoto</td>\n",
              "      <td>1989</td>\n",
              "      <td>180</td>\n",
              "      <td>A</td>\n",
              "    </tr>\n",
              "    <tr>\n",
              "      <th>4</th>\n",
              "      <td>Eさん</td>\n",
              "      <td>Tochigi</td>\n",
              "      <td>2002</td>\n",
              "      <td>158</td>\n",
              "      <td>A</td>\n",
              "    </tr>\n",
              "  </tbody>\n",
              "</table>\n",
              "</div>"
            ],
            "text/plain": [
              "    名前    出身都道府県    生年   身長 血液型\n",
              "0  Aさん     Tokyo  1998  172   A\n",
              "1  Bさん   Tochigi  1993  156   A\n",
              "2  Cさん  Hokkaido  2000  162   A\n",
              "3  Dさん     Kyoto  1989  180   A\n",
              "4  Eさん   Tochigi  2002  158   A"
            ]
          },
          "metadata": {},
          "execution_count": 17
        }
      ]
    },
    {
      "cell_type": "code",
      "metadata": {
        "id": "1ved-4XAgMvq",
        "outputId": "0d8522f3-93a3-40a7-9a01-5a6ccb76a6a4",
        "colab": {
          "base_uri": "https://localhost:8080/",
          "height": 206
        }
      },
      "source": [
        "#リストで追加\n",
        "df[\"血液型\"] = [ \"A\", \"O\",\"AB\",\"B\",\"A\"]\n",
        "df"
      ],
      "execution_count": 18,
      "outputs": [
        {
          "output_type": "execute_result",
          "data": {
            "text/html": [
              "<div>\n",
              "<style scoped>\n",
              "    .dataframe tbody tr th:only-of-type {\n",
              "        vertical-align: middle;\n",
              "    }\n",
              "\n",
              "    .dataframe tbody tr th {\n",
              "        vertical-align: top;\n",
              "    }\n",
              "\n",
              "    .dataframe thead th {\n",
              "        text-align: right;\n",
              "    }\n",
              "</style>\n",
              "<table border=\"1\" class=\"dataframe\">\n",
              "  <thead>\n",
              "    <tr style=\"text-align: right;\">\n",
              "      <th></th>\n",
              "      <th>名前</th>\n",
              "      <th>出身都道府県</th>\n",
              "      <th>生年</th>\n",
              "      <th>身長</th>\n",
              "      <th>血液型</th>\n",
              "    </tr>\n",
              "  </thead>\n",
              "  <tbody>\n",
              "    <tr>\n",
              "      <th>0</th>\n",
              "      <td>Aさん</td>\n",
              "      <td>Tokyo</td>\n",
              "      <td>1998</td>\n",
              "      <td>172</td>\n",
              "      <td>A</td>\n",
              "    </tr>\n",
              "    <tr>\n",
              "      <th>1</th>\n",
              "      <td>Bさん</td>\n",
              "      <td>Tochigi</td>\n",
              "      <td>1993</td>\n",
              "      <td>156</td>\n",
              "      <td>O</td>\n",
              "    </tr>\n",
              "    <tr>\n",
              "      <th>2</th>\n",
              "      <td>Cさん</td>\n",
              "      <td>Hokkaido</td>\n",
              "      <td>2000</td>\n",
              "      <td>162</td>\n",
              "      <td>AB</td>\n",
              "    </tr>\n",
              "    <tr>\n",
              "      <th>3</th>\n",
              "      <td>Dさん</td>\n",
              "      <td>Kyoto</td>\n",
              "      <td>1989</td>\n",
              "      <td>180</td>\n",
              "      <td>B</td>\n",
              "    </tr>\n",
              "    <tr>\n",
              "      <th>4</th>\n",
              "      <td>Eさん</td>\n",
              "      <td>Tochigi</td>\n",
              "      <td>2002</td>\n",
              "      <td>158</td>\n",
              "      <td>A</td>\n",
              "    </tr>\n",
              "  </tbody>\n",
              "</table>\n",
              "</div>"
            ],
            "text/plain": [
              "    名前    出身都道府県    生年   身長 血液型\n",
              "0  Aさん     Tokyo  1998  172   A\n",
              "1  Bさん   Tochigi  1993  156   O\n",
              "2  Cさん  Hokkaido  2000  162  AB\n",
              "3  Dさん     Kyoto  1989  180   B\n",
              "4  Eさん   Tochigi  2002  158   A"
            ]
          },
          "metadata": {},
          "execution_count": 18
        }
      ]
    },
    {
      "cell_type": "markdown",
      "metadata": {
        "id": "S_I81w5L-UOE"
      },
      "source": [
        "### 特定の行を取得したい場合"
      ]
    },
    {
      "cell_type": "markdown",
      "metadata": {
        "id": "he5uTk3H-kMs"
      },
      "source": [
        "たとえば、行番号がわかっているなら、```iloc```関数を使えば良い"
      ]
    },
    {
      "cell_type": "code",
      "metadata": {
        "colab": {
          "base_uri": "https://localhost:8080/"
        },
        "id": "kbxrpQ1E-k8F",
        "outputId": "624e7f30-0fef-435f-a01d-56f00dd15f4e"
      },
      "source": [
        "df.iloc[3]"
      ],
      "execution_count": 19,
      "outputs": [
        {
          "output_type": "execute_result",
          "data": {
            "text/plain": [
              "名前          Dさん\n",
              "出身都道府県    Kyoto\n",
              "生年         1989\n",
              "身長          180\n",
              "血液型           B\n",
              "Name: 3, dtype: object"
            ]
          },
          "metadata": {},
          "execution_count": 19
        }
      ]
    },
    {
      "cell_type": "markdown",
      "metadata": {
        "id": "2998C5BK_Wut"
      },
      "source": [
        "値のみ取得したければ先程と同様"
      ]
    },
    {
      "cell_type": "code",
      "metadata": {
        "colab": {
          "base_uri": "https://localhost:8080/"
        },
        "id": "6HoJX4h__Uj3",
        "outputId": "f5920d8b-0e2a-41e6-d655-92000b6e0727"
      },
      "source": [
        "df.iloc[3].values"
      ],
      "execution_count": 20,
      "outputs": [
        {
          "output_type": "execute_result",
          "data": {
            "text/plain": [
              "array(['Dさん', 'Kyoto', 1989, 180, 'B'], dtype=object)"
            ]
          },
          "metadata": {},
          "execution_count": 20
        }
      ]
    },
    {
      "cell_type": "markdown",
      "metadata": {
        "id": "4gwiSube_ax9"
      },
      "source": [
        "また、以下のような使い方もできるが"
      ]
    },
    {
      "cell_type": "code",
      "metadata": {
        "colab": {
          "base_uri": "https://localhost:8080/",
          "height": 144
        },
        "id": "4oabG7uA-TyS",
        "outputId": "20740bd5-423a-4571-b670-8153c97ce8c8"
      },
      "source": [
        "df[1:4] #1から3行目まで"
      ],
      "execution_count": 21,
      "outputs": [
        {
          "output_type": "execute_result",
          "data": {
            "text/html": [
              "<div>\n",
              "<style scoped>\n",
              "    .dataframe tbody tr th:only-of-type {\n",
              "        vertical-align: middle;\n",
              "    }\n",
              "\n",
              "    .dataframe tbody tr th {\n",
              "        vertical-align: top;\n",
              "    }\n",
              "\n",
              "    .dataframe thead th {\n",
              "        text-align: right;\n",
              "    }\n",
              "</style>\n",
              "<table border=\"1\" class=\"dataframe\">\n",
              "  <thead>\n",
              "    <tr style=\"text-align: right;\">\n",
              "      <th></th>\n",
              "      <th>名前</th>\n",
              "      <th>出身都道府県</th>\n",
              "      <th>生年</th>\n",
              "      <th>身長</th>\n",
              "      <th>血液型</th>\n",
              "    </tr>\n",
              "  </thead>\n",
              "  <tbody>\n",
              "    <tr>\n",
              "      <th>1</th>\n",
              "      <td>Bさん</td>\n",
              "      <td>Tochigi</td>\n",
              "      <td>1993</td>\n",
              "      <td>156</td>\n",
              "      <td>O</td>\n",
              "    </tr>\n",
              "    <tr>\n",
              "      <th>2</th>\n",
              "      <td>Cさん</td>\n",
              "      <td>Hokkaido</td>\n",
              "      <td>2000</td>\n",
              "      <td>162</td>\n",
              "      <td>AB</td>\n",
              "    </tr>\n",
              "    <tr>\n",
              "      <th>3</th>\n",
              "      <td>Dさん</td>\n",
              "      <td>Kyoto</td>\n",
              "      <td>1989</td>\n",
              "      <td>180</td>\n",
              "      <td>B</td>\n",
              "    </tr>\n",
              "  </tbody>\n",
              "</table>\n",
              "</div>"
            ],
            "text/plain": [
              "    名前    出身都道府県    生年   身長 血液型\n",
              "1  Bさん   Tochigi  1993  156   O\n",
              "2  Cさん  Hokkaido  2000  162  AB\n",
              "3  Dさん     Kyoto  1989  180   B"
            ]
          },
          "metadata": {},
          "execution_count": 21
        }
      ]
    },
    {
      "cell_type": "markdown",
      "metadata": {
        "id": "hbFfX303_eVc"
      },
      "source": [
        "```df[1]```といった使い方は出来ない。  "
      ]
    },
    {
      "cell_type": "markdown",
      "metadata": {
        "id": "oH1A89pw_s6b"
      },
      "source": [
        "### より複雑な行・列の抽出"
      ]
    },
    {
      "cell_type": "markdown",
      "metadata": {
        "id": "vxd7k3f3AJjj"
      },
      "source": [
        "上にならって、2000年より前に生まれた人だけを抽出し"
      ]
    },
    {
      "cell_type": "code",
      "metadata": {
        "colab": {
          "base_uri": "https://localhost:8080/",
          "height": 144
        },
        "id": "rDrnJUg9_w1Q",
        "outputId": "5ec4bd6f-dcab-45f8-9af9-ed6d7c9eee9b"
      },
      "source": [
        "df[ df[\"生年\"] < 2000 ]"
      ],
      "execution_count": 22,
      "outputs": [
        {
          "output_type": "execute_result",
          "data": {
            "text/html": [
              "<div>\n",
              "<style scoped>\n",
              "    .dataframe tbody tr th:only-of-type {\n",
              "        vertical-align: middle;\n",
              "    }\n",
              "\n",
              "    .dataframe tbody tr th {\n",
              "        vertical-align: top;\n",
              "    }\n",
              "\n",
              "    .dataframe thead th {\n",
              "        text-align: right;\n",
              "    }\n",
              "</style>\n",
              "<table border=\"1\" class=\"dataframe\">\n",
              "  <thead>\n",
              "    <tr style=\"text-align: right;\">\n",
              "      <th></th>\n",
              "      <th>名前</th>\n",
              "      <th>出身都道府県</th>\n",
              "      <th>生年</th>\n",
              "      <th>身長</th>\n",
              "      <th>血液型</th>\n",
              "    </tr>\n",
              "  </thead>\n",
              "  <tbody>\n",
              "    <tr>\n",
              "      <th>0</th>\n",
              "      <td>Aさん</td>\n",
              "      <td>Tokyo</td>\n",
              "      <td>1998</td>\n",
              "      <td>172</td>\n",
              "      <td>A</td>\n",
              "    </tr>\n",
              "    <tr>\n",
              "      <th>1</th>\n",
              "      <td>Bさん</td>\n",
              "      <td>Tochigi</td>\n",
              "      <td>1993</td>\n",
              "      <td>156</td>\n",
              "      <td>O</td>\n",
              "    </tr>\n",
              "    <tr>\n",
              "      <th>3</th>\n",
              "      <td>Dさん</td>\n",
              "      <td>Kyoto</td>\n",
              "      <td>1989</td>\n",
              "      <td>180</td>\n",
              "      <td>B</td>\n",
              "    </tr>\n",
              "  </tbody>\n",
              "</table>\n",
              "</div>"
            ],
            "text/plain": [
              "    名前   出身都道府県    生年   身長 血液型\n",
              "0  Aさん    Tokyo  1998  172   A\n",
              "1  Bさん  Tochigi  1993  156   O\n",
              "3  Dさん    Kyoto  1989  180   B"
            ]
          },
          "metadata": {},
          "execution_count": 22
        }
      ]
    },
    {
      "cell_type": "markdown",
      "metadata": {
        "id": "iZrMq16v__fV"
      },
      "source": [
        "さらにこのうち身長が170cm以上の人だけがほしければ"
      ]
    },
    {
      "cell_type": "code",
      "metadata": {
        "colab": {
          "base_uri": "https://localhost:8080/",
          "height": 112
        },
        "id": "d6q2DR7nAYEv",
        "outputId": "122198a6-8156-4c2a-f1c9-db0558489c21"
      },
      "source": [
        "df[(df[\"生年\"] < 2000) & (df[\"身長\"]>170)]"
      ],
      "execution_count": 23,
      "outputs": [
        {
          "output_type": "execute_result",
          "data": {
            "text/html": [
              "<div>\n",
              "<style scoped>\n",
              "    .dataframe tbody tr th:only-of-type {\n",
              "        vertical-align: middle;\n",
              "    }\n",
              "\n",
              "    .dataframe tbody tr th {\n",
              "        vertical-align: top;\n",
              "    }\n",
              "\n",
              "    .dataframe thead th {\n",
              "        text-align: right;\n",
              "    }\n",
              "</style>\n",
              "<table border=\"1\" class=\"dataframe\">\n",
              "  <thead>\n",
              "    <tr style=\"text-align: right;\">\n",
              "      <th></th>\n",
              "      <th>名前</th>\n",
              "      <th>出身都道府県</th>\n",
              "      <th>生年</th>\n",
              "      <th>身長</th>\n",
              "      <th>血液型</th>\n",
              "    </tr>\n",
              "  </thead>\n",
              "  <tbody>\n",
              "    <tr>\n",
              "      <th>0</th>\n",
              "      <td>Aさん</td>\n",
              "      <td>Tokyo</td>\n",
              "      <td>1998</td>\n",
              "      <td>172</td>\n",
              "      <td>A</td>\n",
              "    </tr>\n",
              "    <tr>\n",
              "      <th>3</th>\n",
              "      <td>Dさん</td>\n",
              "      <td>Kyoto</td>\n",
              "      <td>1989</td>\n",
              "      <td>180</td>\n",
              "      <td>B</td>\n",
              "    </tr>\n",
              "  </tbody>\n",
              "</table>\n",
              "</div>"
            ],
            "text/plain": [
              "    名前 出身都道府県    生年   身長 血液型\n",
              "0  Aさん  Tokyo  1998  172   A\n",
              "3  Dさん  Kyoto  1989  180   B"
            ]
          },
          "metadata": {},
          "execution_count": 23
        }
      ]
    },
    {
      "cell_type": "markdown",
      "metadata": {
        "id": "-b36txVaA7fQ"
      },
      "source": [
        "などとすればよい。  \n",
        "他にも```iloc```,```loc```などを用いれば  \n",
        "特定の行・列を抽出することができる\n",
        "\n",
        "* ```iloc```は番号の指定のみに対応\n",
        "* ```loc```は名前のみ\n",
        "\n",
        "**欲しい要素の数値もしくは項目名のリスト**を  \n",
        "行・列の２つついて指定してやればよい。"
      ]
    },
    {
      "cell_type": "code",
      "metadata": {
        "colab": {
          "base_uri": "https://localhost:8080/",
          "height": 81
        },
        "id": "xZhc6nlDBXJH",
        "outputId": "fc37fae5-120c-425f-e0f6-4bf0cd2e90bb"
      },
      "source": [
        "df.iloc[[0], [0]] #0行目,0列目"
      ],
      "execution_count": 24,
      "outputs": [
        {
          "output_type": "execute_result",
          "data": {
            "text/html": [
              "<div>\n",
              "<style scoped>\n",
              "    .dataframe tbody tr th:only-of-type {\n",
              "        vertical-align: middle;\n",
              "    }\n",
              "\n",
              "    .dataframe tbody tr th {\n",
              "        vertical-align: top;\n",
              "    }\n",
              "\n",
              "    .dataframe thead th {\n",
              "        text-align: right;\n",
              "    }\n",
              "</style>\n",
              "<table border=\"1\" class=\"dataframe\">\n",
              "  <thead>\n",
              "    <tr style=\"text-align: right;\">\n",
              "      <th></th>\n",
              "      <th>名前</th>\n",
              "    </tr>\n",
              "  </thead>\n",
              "  <tbody>\n",
              "    <tr>\n",
              "      <th>0</th>\n",
              "      <td>Aさん</td>\n",
              "    </tr>\n",
              "  </tbody>\n",
              "</table>\n",
              "</div>"
            ],
            "text/plain": [
              "    名前\n",
              "0  Aさん"
            ]
          },
          "metadata": {},
          "execution_count": 24
        }
      ]
    },
    {
      "cell_type": "code",
      "metadata": {
        "colab": {
          "base_uri": "https://localhost:8080/",
          "height": 144
        },
        "id": "i-W-XTw9Bz5-",
        "outputId": "54888076-5bf3-4d81-eef2-888709ce21ec"
      },
      "source": [
        "#スライスで指定することもできる\n",
        "df.iloc[1:4, :3] #1-3行目かつ0-2列目 (スライスの終点は含まれないことに注意)\n",
        "\n",
        "#スライスの場合は、 1:4が[1,2,3]と同じ働きをするので、括弧[]はいらない"
      ],
      "execution_count": 25,
      "outputs": [
        {
          "output_type": "execute_result",
          "data": {
            "text/html": [
              "<div>\n",
              "<style scoped>\n",
              "    .dataframe tbody tr th:only-of-type {\n",
              "        vertical-align: middle;\n",
              "    }\n",
              "\n",
              "    .dataframe tbody tr th {\n",
              "        vertical-align: top;\n",
              "    }\n",
              "\n",
              "    .dataframe thead th {\n",
              "        text-align: right;\n",
              "    }\n",
              "</style>\n",
              "<table border=\"1\" class=\"dataframe\">\n",
              "  <thead>\n",
              "    <tr style=\"text-align: right;\">\n",
              "      <th></th>\n",
              "      <th>名前</th>\n",
              "      <th>出身都道府県</th>\n",
              "      <th>生年</th>\n",
              "    </tr>\n",
              "  </thead>\n",
              "  <tbody>\n",
              "    <tr>\n",
              "      <th>1</th>\n",
              "      <td>Bさん</td>\n",
              "      <td>Tochigi</td>\n",
              "      <td>1993</td>\n",
              "    </tr>\n",
              "    <tr>\n",
              "      <th>2</th>\n",
              "      <td>Cさん</td>\n",
              "      <td>Hokkaido</td>\n",
              "      <td>2000</td>\n",
              "    </tr>\n",
              "    <tr>\n",
              "      <th>3</th>\n",
              "      <td>Dさん</td>\n",
              "      <td>Kyoto</td>\n",
              "      <td>1989</td>\n",
              "    </tr>\n",
              "  </tbody>\n",
              "</table>\n",
              "</div>"
            ],
            "text/plain": [
              "    名前    出身都道府県    生年\n",
              "1  Bさん   Tochigi  1993\n",
              "2  Cさん  Hokkaido  2000\n",
              "3  Dさん     Kyoto  1989"
            ]
          },
          "metadata": {},
          "execution_count": 25
        }
      ]
    },
    {
      "cell_type": "markdown",
      "metadata": {
        "id": "acMQBcZw5hmv"
      },
      "source": [
        "```loc```を使う場合は、indexの代わりに項目名で指定する。\n",
        "\n",
        "※今の場合、行を指定する項目名が既に整数値なので  \n",
        "インデックスと見分けが付きづらいことに注意"
      ]
    },
    {
      "cell_type": "code",
      "metadata": {
        "colab": {
          "base_uri": "https://localhost:8080/",
          "height": 175
        },
        "id": "JLlD6iUvCH-q",
        "outputId": "fd81691c-d46d-4f1a-bb0d-30c66f2d559b"
      },
      "source": [
        "df.loc[1:4,[\"名前\",\"身長\"]] "
      ],
      "execution_count": 26,
      "outputs": [
        {
          "output_type": "execute_result",
          "data": {
            "text/html": [
              "<div>\n",
              "<style scoped>\n",
              "    .dataframe tbody tr th:only-of-type {\n",
              "        vertical-align: middle;\n",
              "    }\n",
              "\n",
              "    .dataframe tbody tr th {\n",
              "        vertical-align: top;\n",
              "    }\n",
              "\n",
              "    .dataframe thead th {\n",
              "        text-align: right;\n",
              "    }\n",
              "</style>\n",
              "<table border=\"1\" class=\"dataframe\">\n",
              "  <thead>\n",
              "    <tr style=\"text-align: right;\">\n",
              "      <th></th>\n",
              "      <th>名前</th>\n",
              "      <th>身長</th>\n",
              "    </tr>\n",
              "  </thead>\n",
              "  <tbody>\n",
              "    <tr>\n",
              "      <th>1</th>\n",
              "      <td>Bさん</td>\n",
              "      <td>156</td>\n",
              "    </tr>\n",
              "    <tr>\n",
              "      <th>2</th>\n",
              "      <td>Cさん</td>\n",
              "      <td>162</td>\n",
              "    </tr>\n",
              "    <tr>\n",
              "      <th>3</th>\n",
              "      <td>Dさん</td>\n",
              "      <td>180</td>\n",
              "    </tr>\n",
              "    <tr>\n",
              "      <th>4</th>\n",
              "      <td>Eさん</td>\n",
              "      <td>158</td>\n",
              "    </tr>\n",
              "  </tbody>\n",
              "</table>\n",
              "</div>"
            ],
            "text/plain": [
              "    名前   身長\n",
              "1  Bさん  156\n",
              "2  Cさん  162\n",
              "3  Dさん  180\n",
              "4  Eさん  158"
            ]
          },
          "metadata": {},
          "execution_count": 26
        }
      ]
    },
    {
      "cell_type": "code",
      "metadata": {
        "colab": {
          "base_uri": "https://localhost:8080/",
          "height": 175
        },
        "id": "y3rZAq4rCTSh",
        "outputId": "46bb4fb4-5451-42e8-d802-3df247d4b10c"
      },
      "source": [
        "df.loc[[1,2,3,4],\"名前\":\"生年\"]"
      ],
      "execution_count": 27,
      "outputs": [
        {
          "output_type": "execute_result",
          "data": {
            "text/html": [
              "<div>\n",
              "<style scoped>\n",
              "    .dataframe tbody tr th:only-of-type {\n",
              "        vertical-align: middle;\n",
              "    }\n",
              "\n",
              "    .dataframe tbody tr th {\n",
              "        vertical-align: top;\n",
              "    }\n",
              "\n",
              "    .dataframe thead th {\n",
              "        text-align: right;\n",
              "    }\n",
              "</style>\n",
              "<table border=\"1\" class=\"dataframe\">\n",
              "  <thead>\n",
              "    <tr style=\"text-align: right;\">\n",
              "      <th></th>\n",
              "      <th>名前</th>\n",
              "      <th>出身都道府県</th>\n",
              "      <th>生年</th>\n",
              "    </tr>\n",
              "  </thead>\n",
              "  <tbody>\n",
              "    <tr>\n",
              "      <th>1</th>\n",
              "      <td>Bさん</td>\n",
              "      <td>Tochigi</td>\n",
              "      <td>1993</td>\n",
              "    </tr>\n",
              "    <tr>\n",
              "      <th>2</th>\n",
              "      <td>Cさん</td>\n",
              "      <td>Hokkaido</td>\n",
              "      <td>2000</td>\n",
              "    </tr>\n",
              "    <tr>\n",
              "      <th>3</th>\n",
              "      <td>Dさん</td>\n",
              "      <td>Kyoto</td>\n",
              "      <td>1989</td>\n",
              "    </tr>\n",
              "    <tr>\n",
              "      <th>4</th>\n",
              "      <td>Eさん</td>\n",
              "      <td>Tochigi</td>\n",
              "      <td>2002</td>\n",
              "    </tr>\n",
              "  </tbody>\n",
              "</table>\n",
              "</div>"
            ],
            "text/plain": [
              "    名前    出身都道府県    生年\n",
              "1  Bさん   Tochigi  1993\n",
              "2  Cさん  Hokkaido  2000\n",
              "3  Dさん     Kyoto  1989\n",
              "4  Eさん   Tochigi  2002"
            ]
          },
          "metadata": {},
          "execution_count": 27
        }
      ]
    },
    {
      "cell_type": "markdown",
      "metadata": {
        "id": "WzV2r0oPA82E"
      },
      "source": [
        "といった具合。\n",
        "\n",
        "```loc```を使う場合、1:4や[1,2,3,4]は  \n",
        "indexのスライスではなく、項目名を意味し  \n",
        "Eさんのデータも含まれている事がわかる。"
      ]
    },
    {
      "cell_type": "markdown",
      "metadata": {
        "id": "py5Dt6wY10pB"
      },
      "source": [
        "## Webページにある表をDataFrameとして取得する"
      ]
    },
    {
      "cell_type": "markdown",
      "metadata": {
        "id": "s7XShK0B15-t"
      },
      "source": [
        "```pandas```内の```read_html```関数を用いれば、  \n",
        "Webページの中にある表をDataFrame形式で取得することもできます。\n",
        "\n",
        "以下では例としてWikipediaの[ノーベル物理学賞](https://ja.wikipedia.org/wiki/%e3%83%8e%e3%83%bc%e3%83%99%e3%83%ab%e7%89%a9%e7%90%86%e5%ad%a6%e8%b3%9e)のページにある、受賞者一覧を取得してみましょう"
      ]
    },
    {
      "cell_type": "code",
      "metadata": {
        "id": "WQG0tt0q2Hj-"
      },
      "source": [
        "url = \"https://ja.wikipedia.org/wiki/%e3%83%8e%e3%83%bc%e3%83%99%e3%83%ab%e7%89%a9%e7%90%86%e5%ad%a6%e8%b3%9e\"\n",
        "tables = pd.read_html(url)"
      ],
      "execution_count": 28,
      "outputs": []
    },
    {
      "cell_type": "code",
      "metadata": {
        "colab": {
          "base_uri": "https://localhost:8080/"
        },
        "id": "xLVtylYB2Uow",
        "outputId": "5ea2a27c-b0e5-4109-f770-a3f62e8ffc90"
      },
      "source": [
        "print(len(tables))"
      ],
      "execution_count": 29,
      "outputs": [
        {
          "output_type": "stream",
          "name": "stdout",
          "text": [
            "21\n"
          ]
        }
      ]
    },
    {
      "cell_type": "markdown",
      "metadata": {
        "id": "yBghdSUU2XdQ"
      },
      "source": [
        "ページ内に、21個もの表があることがわかります。  \n",
        "(ほとんどはwikipediaのテンプレート等)\n",
        "\n",
        "たとえば、2010年代の受賞者のみに興味がある場合は"
      ]
    },
    {
      "cell_type": "code",
      "metadata": {
        "colab": {
          "base_uri": "https://localhost:8080/",
          "height": 1000
        },
        "id": "nf2JwszO2nBM",
        "outputId": "929632a4-1c15-4ed9-8d61-4bb8e83ae91e"
      },
      "source": [
        "df = tables[12]\n",
        "df"
      ],
      "execution_count": 30,
      "outputs": [
        {
          "output_type": "execute_result",
          "data": {
            "text/html": [
              "<div>\n",
              "<style scoped>\n",
              "    .dataframe tbody tr th:only-of-type {\n",
              "        vertical-align: middle;\n",
              "    }\n",
              "\n",
              "    .dataframe tbody tr th {\n",
              "        vertical-align: top;\n",
              "    }\n",
              "\n",
              "    .dataframe thead th {\n",
              "        text-align: right;\n",
              "    }\n",
              "</style>\n",
              "<table border=\"1\" class=\"dataframe\">\n",
              "  <thead>\n",
              "    <tr style=\"text-align: right;\">\n",
              "      <th></th>\n",
              "      <th>年度</th>\n",
              "      <th>受賞者名</th>\n",
              "      <th>受賞者名.1</th>\n",
              "      <th>国籍</th>\n",
              "      <th>受賞理由[3]・原著ないし関連論文</th>\n",
              "    </tr>\n",
              "  </thead>\n",
              "  <tbody>\n",
              "    <tr>\n",
              "      <th>0</th>\n",
              "      <td>2010年</td>\n",
              "      <td>NaN</td>\n",
              "      <td>アンドレ・ガイムAndre Geim</td>\n",
              "      <td>オランダ（ ロシア出身）</td>\n",
              "      <td>二次元物質グラフェンに関する革新的実験[注 70]</td>\n",
              "    </tr>\n",
              "    <tr>\n",
              "      <th>1</th>\n",
              "      <td>2010年</td>\n",
              "      <td>NaN</td>\n",
              "      <td>コンスタンチン・ノボセロフKonstantin Novoselov</td>\n",
              "      <td>ロシア イギリス</td>\n",
              "      <td>二次元物質グラフェンに関する革新的実験[注 70]</td>\n",
              "    </tr>\n",
              "    <tr>\n",
              "      <th>2</th>\n",
              "      <td>2011年</td>\n",
              "      <td>NaN</td>\n",
              "      <td>ソール・パールマッターSaul Perlmutter</td>\n",
              "      <td>アメリカ合衆国</td>\n",
              "      <td>遠方の超新星の観測を通した宇宙の加速膨張の発見Astrophys. J.: 517 (199...</td>\n",
              "    </tr>\n",
              "    <tr>\n",
              "      <th>3</th>\n",
              "      <td>2011年</td>\n",
              "      <td>NaN</td>\n",
              "      <td>ブライアン・P・シュミットBrian Schmidt</td>\n",
              "      <td>オーストラリア アメリカ合衆国</td>\n",
              "      <td>遠方の超新星の観測を通した宇宙の加速膨張の発見Astrophys. J.: 517 (199...</td>\n",
              "    </tr>\n",
              "    <tr>\n",
              "      <th>4</th>\n",
              "      <td>2011年</td>\n",
              "      <td>NaN</td>\n",
              "      <td>アダム・リースAdam Riess</td>\n",
              "      <td>アメリカ合衆国</td>\n",
              "      <td>遠方の超新星の観測を通した宇宙の加速膨張の発見Astrophys. J.: 517 (199...</td>\n",
              "    </tr>\n",
              "    <tr>\n",
              "      <th>5</th>\n",
              "      <td>2012年</td>\n",
              "      <td>NaN</td>\n",
              "      <td>セルジュ・アロシュSerge Haroche</td>\n",
              "      <td>フランス（ モロッコ出身）</td>\n",
              "      <td>個別の量子系に対する計測および制御[注 71]を可能にする画期的な実験的手法に関する業績[4...</td>\n",
              "    </tr>\n",
              "    <tr>\n",
              "      <th>6</th>\n",
              "      <td>2012年</td>\n",
              "      <td>NaN</td>\n",
              "      <td>デービッド・ワインランドDavid J. Wineland</td>\n",
              "      <td>アメリカ合衆国</td>\n",
              "      <td>個別の量子系に対する計測および制御[注 71]を可能にする画期的な実験的手法に関する業績[4...</td>\n",
              "    </tr>\n",
              "    <tr>\n",
              "      <th>7</th>\n",
              "      <td>2013年</td>\n",
              "      <td>NaN</td>\n",
              "      <td>フランソワ・アングレールFrançois Englert</td>\n",
              "      <td>ベルギー</td>\n",
              "      <td>欧州原子核研究機構 (CERN) によって存在が確認された素粒子（ヒッグス粒子）に基づく、質...</td>\n",
              "    </tr>\n",
              "    <tr>\n",
              "      <th>8</th>\n",
              "      <td>2013年</td>\n",
              "      <td>NaN</td>\n",
              "      <td>ピーター・ヒッグスPeter Higgs</td>\n",
              "      <td>イギリス</td>\n",
              "      <td>欧州原子核研究機構 (CERN) によって存在が確認された素粒子（ヒッグス粒子）に基づく、質...</td>\n",
              "    </tr>\n",
              "    <tr>\n",
              "      <th>9</th>\n",
              "      <td>2014年</td>\n",
              "      <td>NaN</td>\n",
              "      <td>赤崎勇Isamu Akasaki</td>\n",
              "      <td>日本</td>\n",
              "      <td>高輝度で省電力の白色光源を実現可能にした青色発光ダイオードの発明[9]</td>\n",
              "    </tr>\n",
              "    <tr>\n",
              "      <th>10</th>\n",
              "      <td>2014年</td>\n",
              "      <td>NaN</td>\n",
              "      <td>天野浩Hiroshi Amano</td>\n",
              "      <td>日本</td>\n",
              "      <td>高輝度で省電力の白色光源を実現可能にした青色発光ダイオードの発明[9]</td>\n",
              "    </tr>\n",
              "    <tr>\n",
              "      <th>11</th>\n",
              "      <td>2014年</td>\n",
              "      <td>NaN</td>\n",
              "      <td>中村修二Shuji Nakamura</td>\n",
              "      <td>アメリカ合衆国（ 日本出身）</td>\n",
              "      <td>高輝度で省電力の白色光源を実現可能にした青色発光ダイオードの発明[9]</td>\n",
              "    </tr>\n",
              "    <tr>\n",
              "      <th>12</th>\n",
              "      <td>2015年</td>\n",
              "      <td>NaN</td>\n",
              "      <td>梶田隆章Takaaki Kajita</td>\n",
              "      <td>日本</td>\n",
              "      <td>素粒子「ニュートリノ」が質量を持つことを示すニュートリノ振動の発見[10]</td>\n",
              "    </tr>\n",
              "    <tr>\n",
              "      <th>13</th>\n",
              "      <td>2015年</td>\n",
              "      <td>NaN</td>\n",
              "      <td>アーサー・B・マクドナルドArthur B. McDonald</td>\n",
              "      <td>カナダ</td>\n",
              "      <td>素粒子「ニュートリノ」が質量を持つことを示すニュートリノ振動の発見[10]</td>\n",
              "    </tr>\n",
              "    <tr>\n",
              "      <th>14</th>\n",
              "      <td>2016年</td>\n",
              "      <td>NaN</td>\n",
              "      <td>デイヴィッド・J・サウレスDavid J. Thouless</td>\n",
              "      <td>イギリス アメリカ合衆国</td>\n",
              "      <td>物質のトポロジカル相とトポロジカル相転移の理論的発見[11][12]</td>\n",
              "    </tr>\n",
              "    <tr>\n",
              "      <th>15</th>\n",
              "      <td>2016年</td>\n",
              "      <td>NaN</td>\n",
              "      <td>ダンカン・ホールデンDuncan Haldane</td>\n",
              "      <td>イギリス スロベニア</td>\n",
              "      <td>物質のトポロジカル相とトポロジカル相転移の理論的発見[11][12]</td>\n",
              "    </tr>\n",
              "    <tr>\n",
              "      <th>16</th>\n",
              "      <td>2016年</td>\n",
              "      <td>NaN</td>\n",
              "      <td>ジョン・M・コステリッツMichael Kosterlitz</td>\n",
              "      <td>イギリス アメリカ合衆国</td>\n",
              "      <td>物質のトポロジカル相とトポロジカル相転移の理論的発見[11][12]</td>\n",
              "    </tr>\n",
              "    <tr>\n",
              "      <th>17</th>\n",
              "      <td>2017年</td>\n",
              "      <td>NaN</td>\n",
              "      <td>レイナー・ワイスRainer Weiss</td>\n",
              "      <td>アメリカ合衆国（ ドイツ出身）</td>\n",
              "      <td>LIGO検出器および重力波の観測への決定的な貢献</td>\n",
              "    </tr>\n",
              "    <tr>\n",
              "      <th>18</th>\n",
              "      <td>2017年</td>\n",
              "      <td>NaN</td>\n",
              "      <td>バリー・バリッシュBarry Barish</td>\n",
              "      <td>アメリカ合衆国</td>\n",
              "      <td>LIGO検出器および重力波の観測への決定的な貢献</td>\n",
              "    </tr>\n",
              "    <tr>\n",
              "      <th>19</th>\n",
              "      <td>2017年</td>\n",
              "      <td>NaN</td>\n",
              "      <td>キップ・ソーンKip Thorne</td>\n",
              "      <td>アメリカ合衆国</td>\n",
              "      <td>LIGO検出器および重力波の観測への決定的な貢献</td>\n",
              "    </tr>\n",
              "    <tr>\n",
              "      <th>20</th>\n",
              "      <td>2018年</td>\n",
              "      <td>NaN</td>\n",
              "      <td>アーサー・アシュキンArthur Ashkin</td>\n",
              "      <td>アメリカ合衆国</td>\n",
              "      <td>光ピンセットの開発と生体システムへの応用</td>\n",
              "    </tr>\n",
              "    <tr>\n",
              "      <th>21</th>\n",
              "      <td>2018年</td>\n",
              "      <td>NaN</td>\n",
              "      <td>ジェラール・ムルGérard Mourou</td>\n",
              "      <td>フランス</td>\n",
              "      <td>超高出力・超短パルスレーザーの生成方法の開発</td>\n",
              "    </tr>\n",
              "    <tr>\n",
              "      <th>22</th>\n",
              "      <td>2018年</td>\n",
              "      <td>NaN</td>\n",
              "      <td>ドナ・ストリックランドDonna Strickland</td>\n",
              "      <td>カナダ</td>\n",
              "      <td>超高出力・超短パルスレーザーの生成方法の開発</td>\n",
              "    </tr>\n",
              "    <tr>\n",
              "      <th>23</th>\n",
              "      <td>2019年</td>\n",
              "      <td>NaN</td>\n",
              "      <td>ジェームズ・ピーブルスJim Peebles</td>\n",
              "      <td>アメリカ合衆国（ カナダ出身）</td>\n",
              "      <td>物理宇宙論における理論的発見</td>\n",
              "    </tr>\n",
              "    <tr>\n",
              "      <th>24</th>\n",
              "      <td>2019年</td>\n",
              "      <td>NaN</td>\n",
              "      <td>ミシェル・マイヨールMichel Mayor</td>\n",
              "      <td>スイス</td>\n",
              "      <td>太陽型恒星を周回する太陽系外惑星の発見</td>\n",
              "    </tr>\n",
              "    <tr>\n",
              "      <th>25</th>\n",
              "      <td>2019年</td>\n",
              "      <td>NaN</td>\n",
              "      <td>ディディエ・ケローDidier Queloz</td>\n",
              "      <td>スイス</td>\n",
              "      <td>太陽型恒星を周回する太陽系外惑星の発見</td>\n",
              "    </tr>\n",
              "  </tbody>\n",
              "</table>\n",
              "</div>"
            ],
            "text/plain": [
              "       年度  ...                                  受賞理由[3]・原著ないし関連論文\n",
              "0   2010年  ...                          二次元物質グラフェンに関する革新的実験[注 70]\n",
              "1   2010年  ...                          二次元物質グラフェンに関する革新的実験[注 70]\n",
              "2   2011年  ...  遠方の超新星の観測を通した宇宙の加速膨張の発見Astrophys. J.: 517 (199...\n",
              "3   2011年  ...  遠方の超新星の観測を通した宇宙の加速膨張の発見Astrophys. J.: 517 (199...\n",
              "4   2011年  ...  遠方の超新星の観測を通した宇宙の加速膨張の発見Astrophys. J.: 517 (199...\n",
              "5   2012年  ...  個別の量子系に対する計測および制御[注 71]を可能にする画期的な実験的手法に関する業績[4...\n",
              "6   2012年  ...  個別の量子系に対する計測および制御[注 71]を可能にする画期的な実験的手法に関する業績[4...\n",
              "7   2013年  ...  欧州原子核研究機構 (CERN) によって存在が確認された素粒子（ヒッグス粒子）に基づく、質...\n",
              "8   2013年  ...  欧州原子核研究機構 (CERN) によって存在が確認された素粒子（ヒッグス粒子）に基づく、質...\n",
              "9   2014年  ...                高輝度で省電力の白色光源を実現可能にした青色発光ダイオードの発明[9]\n",
              "10  2014年  ...                高輝度で省電力の白色光源を実現可能にした青色発光ダイオードの発明[9]\n",
              "11  2014年  ...                高輝度で省電力の白色光源を実現可能にした青色発光ダイオードの発明[9]\n",
              "12  2015年  ...              素粒子「ニュートリノ」が質量を持つことを示すニュートリノ振動の発見[10]\n",
              "13  2015年  ...              素粒子「ニュートリノ」が質量を持つことを示すニュートリノ振動の発見[10]\n",
              "14  2016年  ...                 物質のトポロジカル相とトポロジカル相転移の理論的発見[11][12]\n",
              "15  2016年  ...                 物質のトポロジカル相とトポロジカル相転移の理論的発見[11][12]\n",
              "16  2016年  ...                 物質のトポロジカル相とトポロジカル相転移の理論的発見[11][12]\n",
              "17  2017年  ...                           LIGO検出器および重力波の観測への決定的な貢献\n",
              "18  2017年  ...                           LIGO検出器および重力波の観測への決定的な貢献\n",
              "19  2017年  ...                           LIGO検出器および重力波の観測への決定的な貢献\n",
              "20  2018年  ...                               光ピンセットの開発と生体システムへの応用\n",
              "21  2018年  ...                             超高出力・超短パルスレーザーの生成方法の開発\n",
              "22  2018年  ...                             超高出力・超短パルスレーザーの生成方法の開発\n",
              "23  2019年  ...                                     物理宇宙論における理論的発見\n",
              "24  2019年  ...                                太陽型恒星を周回する太陽系外惑星の発見\n",
              "25  2019年  ...                                太陽型恒星を周回する太陽系外惑星の発見\n",
              "\n",
              "[26 rows x 5 columns]"
            ]
          },
          "metadata": {},
          "execution_count": 30
        }
      ]
    },
    {
      "cell_type": "markdown",
      "metadata": {
        "id": "U6LFpNLN2sZh"
      },
      "source": [
        "## DataFrameのcsv/Excelファイルへの書き出し"
      ]
    },
    {
      "cell_type": "markdown",
      "metadata": {
        "id": "tbZn9qyB2xTS"
      },
      "source": [
        "DataFrameオブジェクトは、```pandas```内の関数を用いれば、  \n",
        "簡単にcsvやExcelファイルとして書き出すことができます。\n",
        "\n",
        "先程の、２０１０年代のノーベル物理学賞受賞者のデータを、  \n",
        "Google Driveにファイルとして書き出してみましょう。"
      ]
    },
    {
      "cell_type": "code",
      "metadata": {
        "id": "CKxWkUsW3Hi2",
        "outputId": "1ab4a4a6-ef51-44d9-9e39-98055f19f6fc",
        "colab": {
          "base_uri": "https://localhost:8080/"
        }
      },
      "source": [
        "from google.colab import drive\n",
        "drive.mount('/content/drive')"
      ],
      "execution_count": 31,
      "outputs": [
        {
          "output_type": "stream",
          "name": "stdout",
          "text": [
            "Mounted at /content/drive\n"
          ]
        }
      ]
    },
    {
      "cell_type": "markdown",
      "metadata": {
        "id": "gsr83KhA3Hww"
      },
      "source": [
        "**csvとして書き出す場合**\n",
        "\n",
        "適当にパスを指定して、DataFrameオブジェクトに  \n",
        "```to_csv```関数を作用させます。"
      ]
    },
    {
      "cell_type": "code",
      "metadata": {
        "id": "jLS-3W8F27Xe"
      },
      "source": [
        "df.to_csv(\"/content/drive/My Drive/AdDS2021/pd_write_test.csv\")"
      ],
      "execution_count": 32,
      "outputs": []
    },
    {
      "cell_type": "markdown",
      "metadata": {
        "id": "k6XnW1V93mik"
      },
      "source": [
        "**Excelファイルとして書き出す場合**\n",
        "\n",
        "この場合も同様で、```to_excel```関数を用います。"
      ]
    },
    {
      "cell_type": "code",
      "metadata": {
        "id": "A4A69Qb83vkk"
      },
      "source": [
        "df.to_excel(\"/content/drive/My Drive/AdDS2021/pd_write_test.xlsx\")"
      ],
      "execution_count": 33,
      "outputs": []
    },
    {
      "cell_type": "markdown",
      "metadata": {
        "id": "jrfPQzrq4GJK"
      },
      "source": [
        "上記の関数内で文字コードを指定することもできます。  \n",
        "例: ```encoding=\"utf-8_sig\"```, ```encoding=\"shift_jis\"```"
      ]
    },
    {
      "cell_type": "markdown",
      "metadata": {
        "id": "O6bVMFaNKeUT"
      },
      "source": [
        "## Pandasで複雑なエクセルファイルを操作する"
      ]
    },
    {
      "cell_type": "markdown",
      "metadata": {
        "id": "KBgNqsmGKjvm"
      },
      "source": [
        "Pandasにはread_excel()という関数が用意されていて、  \n",
        "多数のシートを含むようなエクセルファイルを開くことも出来る。\n",
        "\n",
        "まずは必要なモジュールをインポートしよう。"
      ]
    },
    {
      "cell_type": "code",
      "metadata": {
        "id": "hBKVdR2zKxe_",
        "outputId": "20975719-dcc9-4bf6-e155-295b3cc69a0a",
        "colab": {
          "base_uri": "https://localhost:8080/"
        }
      },
      "source": [
        "!pip install xlrd #xlrdモジュールのインストール\n",
        "import xlrd\n",
        "import pandas as pd\n",
        "from pandas import DataFrame\n",
        "import urllib.request"
      ],
      "execution_count": 34,
      "outputs": [
        {
          "output_type": "stream",
          "name": "stdout",
          "text": [
            "Requirement already satisfied: xlrd in /usr/local/lib/python3.7/dist-packages (1.1.0)\n"
          ]
        }
      ]
    },
    {
      "cell_type": "markdown",
      "metadata": {
        "id": "34iZ93suY1nz"
      },
      "source": [
        "今まではGoogle Driveにいれたファイルを読み出していたが、  \n",
        "Webから直接xlsxファイルを読み込んでみよう。"
      ]
    },
    {
      "cell_type": "code",
      "metadata": {
        "id": "J7bEuGAYY0W7"
      },
      "source": [
        "url = \"https://www.mext.go.jp/content/20201225-mxt_kagsei-mext_01110_012.xlsx\"\n",
        "f = urllib.request.urlopen(url) \n",
        "#ワークブック(作業するエクセルファイル)をwbという変数名で開く. 文字コードはutf-8と仮定した(shift-jisのものがたまにあるので注意)\n",
        "wb = xlrd.open_workbook(file_contents=f.read(),encoding_override=\"utf-8\") \n",
        "f.close()"
      ],
      "execution_count": 35,
      "outputs": []
    },
    {
      "cell_type": "markdown",
      "metadata": {
        "id": "YEsLWG0mY8z-"
      },
      "source": [
        "ブック内のシートの一覧は以下のように取得できる。"
      ]
    },
    {
      "cell_type": "code",
      "metadata": {
        "id": "VJv-enRZTxUt",
        "outputId": "23b57865-c0cd-41ec-f4e0-335159562e40",
        "colab": {
          "base_uri": "https://localhost:8080/"
        }
      },
      "source": [
        "print(\"シート名の一覧\", wb.sheet_names())"
      ],
      "execution_count": 36,
      "outputs": [
        {
          "output_type": "stream",
          "name": "stdout",
          "text": [
            "シート名の一覧 ['表全体', '1穀類', '2いも及びでん粉類', '3砂糖及び甘味類', '4豆類', '5種実類', '6野菜類', '7果実類', '8きのこ類', '9藻類', '10魚介類', '11肉類', '12鶏卵', '13乳類', '14油脂類', '15菓子類', '16し好飲料', '17調味料及び香辛料', '18調理済み流通食品類']\n"
          ]
        }
      ]
    },
    {
      "cell_type": "markdown",
      "metadata": {
        "id": "Tn6Lq7UhT1ZX"
      },
      "source": [
        "シートを指定するのは、インデックスかシート名の文字列で行う。\n",
        "\n",
        "\"1 穀類\"を使うことにして、  \n",
        "pandasにあるread_excel関数を使ってみよう。"
      ]
    },
    {
      "cell_type": "code",
      "metadata": {
        "id": "hUL8lOwaT6dH",
        "outputId": "1dc4c0f1-99cc-40a4-eb4e-2e102dbdf8a5",
        "colab": {
          "base_uri": "https://localhost:8080/"
        }
      },
      "source": [
        "df = pd.read_excel(wb,sheet_name=0) #excelの指定したシートを読んで、DataFrameとして変数dfに格納\n",
        "print(df)"
      ],
      "execution_count": 37,
      "outputs": [
        {
          "output_type": "stream",
          "name": "stdout",
          "text": [
            "      Unnamed: 0 Unnamed: 1  ... Unnamed: 60     更新日：2021年2 月○日\n",
            "0            NaN    食　品　番　号  ...         NaN               備　　考\n",
            "1            NaN        NaN  ...       食塩相当量                NaN\n",
            "2            NaN        NaN  ...         NaN                NaN\n",
            "3            NaN        NaN  ...         NaN                NaN\n",
            "4            NaN        NaN  ...         NaN                NaN\n",
            "...          ...        ...  ...         ...                ...\n",
            "2484        18.0      18046  ...       (1.1)                NaN\n",
            "2485        18.0      18047  ...       (0.5)                NaN\n",
            "2486        18.0      18048  ...       (0.8)           別名：五目うま煮\n",
            "2487        18.0      18049  ...       (1.0)  食物繊維：AOAC2011.25法\n",
            "2488        18.0      18039  ...       (1.3)                NaN\n",
            "\n",
            "[2489 rows x 62 columns]\n"
          ]
        }
      ]
    },
    {
      "cell_type": "code",
      "metadata": {
        "id": "07xxSw7nVdK2",
        "outputId": "db02885e-13e0-4e54-ef1b-1d9e0b2d0cc0",
        "colab": {
          "base_uri": "https://localhost:8080/"
        }
      },
      "source": [
        "ndf = pd.read_excel(wb,sheet_name=\"1穀類\")\n",
        "print(ndf)"
      ],
      "execution_count": 39,
      "outputs": [
        {
          "output_type": "stream",
          "name": "stdout",
          "text": [
            "     Unnamed: 0 Unnamed: 1  ... Unnamed: 60                         更新日：2021年2 月○日\n",
            "0           NaN    食　品　番　号  ...         NaN                                   備　　考\n",
            "1           NaN        NaN  ...       食塩相当量                                    NaN\n",
            "2           NaN        NaN  ...         NaN                                    NaN\n",
            "3           NaN        NaN  ...         NaN                                    NaN\n",
            "4           NaN        NaN  ...         NaN                                    NaN\n",
            "..          ...        ...  ...         ...                                    ...\n",
            "211         1.0      01139  ...          Tr                           歩留り： 55～60 %\n",
            "212         1.0      01140  ...           0                別名： こうりゃん、ソルガム、たかきび、マイロ\n",
            "213         1.0      01141  ...           0  別名： こうりゃん、ソルガム、たかきび、マイロ\\n歩留り： 70～80 %\n",
            "214         1.0      01142  ...           0                            別名：黒麦（くろむぎ）\n",
            "215         1.0      01143  ...           0              別名:黒麦（くろむぎ）\\n歩留り： 65～75 %\n",
            "\n",
            "[216 rows x 62 columns]\n"
          ]
        }
      ]
    },
    {
      "cell_type": "markdown",
      "metadata": {
        "id": "xew_ouFxVnLl"
      },
      "source": [
        "同じものが得られている。\n"
      ]
    },
    {
      "cell_type": "markdown",
      "metadata": {
        "id": "pPBxyiV2oVKV"
      },
      "source": [
        "### データの整形\n",
        "\n",
        "次に、今取得したデータフレームのままでは少々扱い辛いので\"整形\"を考える。  \n",
        "というのも前から4行ほど表示してみると..."
      ]
    },
    {
      "cell_type": "code",
      "metadata": {
        "id": "NKcdOLCMV3qM",
        "outputId": "91a451ea-97b8-4a33-ba7c-e06ac4fe1d4f",
        "colab": {
          "base_uri": "https://localhost:8080/",
          "height": 473
        }
      },
      "source": [
        "df[0:4] "
      ],
      "execution_count": 41,
      "outputs": [
        {
          "output_type": "execute_result",
          "data": {
            "text/html": [
              "<div>\n",
              "<style scoped>\n",
              "    .dataframe tbody tr th:only-of-type {\n",
              "        vertical-align: middle;\n",
              "    }\n",
              "\n",
              "    .dataframe tbody tr th {\n",
              "        vertical-align: top;\n",
              "    }\n",
              "\n",
              "    .dataframe thead th {\n",
              "        text-align: right;\n",
              "    }\n",
              "</style>\n",
              "<table border=\"1\" class=\"dataframe\">\n",
              "  <thead>\n",
              "    <tr style=\"text-align: right;\">\n",
              "      <th></th>\n",
              "      <th>Unnamed: 0</th>\n",
              "      <th>Unnamed: 1</th>\n",
              "      <th>Unnamed: 2</th>\n",
              "      <th>Unnamed: 3</th>\n",
              "      <th>Unnamed: 4</th>\n",
              "      <th>Unnamed: 5</th>\n",
              "      <th>Unnamed: 6</th>\n",
              "      <th>Unnamed: 7</th>\n",
              "      <th>Unnamed: 8</th>\n",
              "      <th>Unnamed: 9</th>\n",
              "      <th>Unnamed: 10</th>\n",
              "      <th>Unnamed: 11</th>\n",
              "      <th>Unnamed: 12</th>\n",
              "      <th>Unnamed: 13</th>\n",
              "      <th>Unnamed: 14</th>\n",
              "      <th>Unnamed: 15</th>\n",
              "      <th>Unnamed: 16</th>\n",
              "      <th>Unnamed: 17</th>\n",
              "      <th>Unnamed: 18</th>\n",
              "      <th>Unnamed: 19</th>\n",
              "      <th>Unnamed: 20</th>\n",
              "      <th>Unnamed: 21</th>\n",
              "      <th>Unnamed: 22</th>\n",
              "      <th>Unnamed: 23</th>\n",
              "      <th>Unnamed: 24</th>\n",
              "      <th>Unnamed: 25</th>\n",
              "      <th>Unnamed: 26</th>\n",
              "      <th>Unnamed: 27</th>\n",
              "      <th>Unnamed: 28</th>\n",
              "      <th>Unnamed: 29</th>\n",
              "      <th>Unnamed: 30</th>\n",
              "      <th>Unnamed: 31</th>\n",
              "      <th>Unnamed: 32</th>\n",
              "      <th>Unnamed: 33</th>\n",
              "      <th>Unnamed: 34</th>\n",
              "      <th>Unnamed: 35</th>\n",
              "      <th>Unnamed: 36</th>\n",
              "      <th>Unnamed: 37</th>\n",
              "      <th>Unnamed: 38</th>\n",
              "      <th>Unnamed: 39</th>\n",
              "      <th>Unnamed: 40</th>\n",
              "      <th>Unnamed: 41</th>\n",
              "      <th>Unnamed: 42</th>\n",
              "      <th>Unnamed: 43</th>\n",
              "      <th>Unnamed: 44</th>\n",
              "      <th>Unnamed: 45</th>\n",
              "      <th>Unnamed: 46</th>\n",
              "      <th>Unnamed: 47</th>\n",
              "      <th>Unnamed: 48</th>\n",
              "      <th>Unnamed: 49</th>\n",
              "      <th>Unnamed: 50</th>\n",
              "      <th>Unnamed: 51</th>\n",
              "      <th>Unnamed: 52</th>\n",
              "      <th>Unnamed: 53</th>\n",
              "      <th>Unnamed: 54</th>\n",
              "      <th>Unnamed: 55</th>\n",
              "      <th>Unnamed: 56</th>\n",
              "      <th>Unnamed: 57</th>\n",
              "      <th>Unnamed: 58</th>\n",
              "      <th>Unnamed: 59</th>\n",
              "      <th>Unnamed: 60</th>\n",
              "      <th>更新日：2021年2 月○日</th>\n",
              "    </tr>\n",
              "  </thead>\n",
              "  <tbody>\n",
              "    <tr>\n",
              "      <th>0</th>\n",
              "      <td>NaN</td>\n",
              "      <td>食　品　番　号</td>\n",
              "      <td>索　引　番　号</td>\n",
              "      <td>可　　食　　部　　 100　　g　　当　　た　　り</td>\n",
              "      <td>NaN</td>\n",
              "      <td>NaN</td>\n",
              "      <td>NaN</td>\n",
              "      <td>NaN</td>\n",
              "      <td>NaN</td>\n",
              "      <td>NaN</td>\n",
              "      <td>NaN</td>\n",
              "      <td>NaN</td>\n",
              "      <td>NaN</td>\n",
              "      <td>NaN</td>\n",
              "      <td>NaN</td>\n",
              "      <td>NaN</td>\n",
              "      <td>NaN</td>\n",
              "      <td>NaN</td>\n",
              "      <td>NaN</td>\n",
              "      <td>NaN</td>\n",
              "      <td>NaN</td>\n",
              "      <td>NaN</td>\n",
              "      <td>NaN</td>\n",
              "      <td>NaN</td>\n",
              "      <td>NaN</td>\n",
              "      <td>NaN</td>\n",
              "      <td>NaN</td>\n",
              "      <td>NaN</td>\n",
              "      <td>NaN</td>\n",
              "      <td>NaN</td>\n",
              "      <td>NaN</td>\n",
              "      <td>NaN</td>\n",
              "      <td>NaN</td>\n",
              "      <td>可　　食　　部　　 100　 g　　当　　た　　り</td>\n",
              "      <td>NaN</td>\n",
              "      <td>NaN</td>\n",
              "      <td>NaN</td>\n",
              "      <td>NaN</td>\n",
              "      <td>NaN</td>\n",
              "      <td>NaN</td>\n",
              "      <td>NaN</td>\n",
              "      <td>NaN</td>\n",
              "      <td>NaN</td>\n",
              "      <td>NaN</td>\n",
              "      <td>NaN</td>\n",
              "      <td>NaN</td>\n",
              "      <td>NaN</td>\n",
              "      <td>NaN</td>\n",
              "      <td>NaN</td>\n",
              "      <td>NaN</td>\n",
              "      <td>NaN</td>\n",
              "      <td>NaN</td>\n",
              "      <td>NaN</td>\n",
              "      <td>NaN</td>\n",
              "      <td>NaN</td>\n",
              "      <td>NaN</td>\n",
              "      <td>NaN</td>\n",
              "      <td>NaN</td>\n",
              "      <td>NaN</td>\n",
              "      <td>NaN</td>\n",
              "      <td>NaN</td>\n",
              "      <td>備　　考</td>\n",
              "    </tr>\n",
              "    <tr>\n",
              "      <th>1</th>\n",
              "      <td>NaN</td>\n",
              "      <td>NaN</td>\n",
              "      <td>NaN</td>\n",
              "      <td>食　品　名</td>\n",
              "      <td>廃　棄　率</td>\n",
              "      <td>エネルギー</td>\n",
              "      <td>NaN</td>\n",
              "      <td>水　分</td>\n",
              "      <td>たんぱく質</td>\n",
              "      <td>NaN</td>\n",
              "      <td>脂質</td>\n",
              "      <td>NaN</td>\n",
              "      <td>NaN</td>\n",
              "      <td>炭水化物</td>\n",
              "      <td>NaN</td>\n",
              "      <td>NaN</td>\n",
              "      <td>NaN</td>\n",
              "      <td>NaN</td>\n",
              "      <td>NaN</td>\n",
              "      <td>NaN</td>\n",
              "      <td>NaN</td>\n",
              "      <td>有機酸</td>\n",
              "      <td>灰\\n\\n分</td>\n",
              "      <td>無 機 質</td>\n",
              "      <td>NaN</td>\n",
              "      <td>NaN</td>\n",
              "      <td>NaN</td>\n",
              "      <td>NaN</td>\n",
              "      <td>NaN</td>\n",
              "      <td>NaN</td>\n",
              "      <td>NaN</td>\n",
              "      <td>NaN</td>\n",
              "      <td>NaN</td>\n",
              "      <td>無機質</td>\n",
              "      <td>NaN</td>\n",
              "      <td>NaN</td>\n",
              "      <td>NaN</td>\n",
              "      <td>ビ　　タ　　ミ　　ン</td>\n",
              "      <td>NaN</td>\n",
              "      <td>NaN</td>\n",
              "      <td>NaN</td>\n",
              "      <td>NaN</td>\n",
              "      <td>NaN</td>\n",
              "      <td>NaN</td>\n",
              "      <td>NaN</td>\n",
              "      <td>NaN</td>\n",
              "      <td>NaN</td>\n",
              "      <td>NaN</td>\n",
              "      <td>NaN</td>\n",
              "      <td>NaN</td>\n",
              "      <td>NaN</td>\n",
              "      <td>NaN</td>\n",
              "      <td>NaN</td>\n",
              "      <td>NaN</td>\n",
              "      <td>NaN</td>\n",
              "      <td>NaN</td>\n",
              "      <td>NaN</td>\n",
              "      <td>NaN</td>\n",
              "      <td>NaN</td>\n",
              "      <td>アルコール</td>\n",
              "      <td>食塩相当量</td>\n",
              "      <td>NaN</td>\n",
              "    </tr>\n",
              "    <tr>\n",
              "      <th>2</th>\n",
              "      <td>NaN</td>\n",
              "      <td>NaN</td>\n",
              "      <td>NaN</td>\n",
              "      <td>NaN</td>\n",
              "      <td>NaN</td>\n",
              "      <td>NaN</td>\n",
              "      <td>NaN</td>\n",
              "      <td>NaN</td>\n",
              "      <td>アミノ酸組成による\\nたんぱく質</td>\n",
              "      <td>たんぱく質</td>\n",
              "      <td>脂肪酸の\\nトリアシルグリセロール当量</td>\n",
              "      <td>コレステロール</td>\n",
              "      <td>脂質</td>\n",
              "      <td>利用可能炭水化物</td>\n",
              "      <td>NaN</td>\n",
              "      <td>NaN</td>\n",
              "      <td>NaN</td>\n",
              "      <td>NaN</td>\n",
              "      <td>食物繊維総量</td>\n",
              "      <td>糖アルコール</td>\n",
              "      <td>炭水化物</td>\n",
              "      <td>NaN</td>\n",
              "      <td>NaN</td>\n",
              "      <td>ナ ト リ ウ ム</td>\n",
              "      <td>カ　リ　ウ　ム</td>\n",
              "      <td>カ ル シ ウ ム</td>\n",
              "      <td>マ グ ネ シ ウ ム</td>\n",
              "      <td>リ　ン</td>\n",
              "      <td>鉄</td>\n",
              "      <td>亜　鉛</td>\n",
              "      <td>銅</td>\n",
              "      <td>マ　ン　ガ　ン</td>\n",
              "      <td>NaN</td>\n",
              "      <td>ヨ　ウ　素</td>\n",
              "      <td>セ　レ　ン</td>\n",
              "      <td>ク　ロ　ム</td>\n",
              "      <td>モリブデン</td>\n",
              "      <td>ビタミンA</td>\n",
              "      <td>NaN</td>\n",
              "      <td>NaN</td>\n",
              "      <td>NaN</td>\n",
              "      <td>NaN</td>\n",
              "      <td>NaN</td>\n",
              "      <td>ビタミンD</td>\n",
              "      <td>ビタミンE</td>\n",
              "      <td>NaN</td>\n",
              "      <td>NaN</td>\n",
              "      <td>NaN</td>\n",
              "      <td>ビタミンK</td>\n",
              "      <td>ビ\\nタ\\nミ\\nン\\nＢ１</td>\n",
              "      <td>ビ\\nタ\\nミ\\nン\\nB２</td>\n",
              "      <td>ナイアシン</td>\n",
              "      <td>ナイアシン当量</td>\n",
              "      <td>ビ\\nタ\\nミ\\nン\\nＢ６</td>\n",
              "      <td>ビ\\nタ\\nミ\\nン\\nＢ１２</td>\n",
              "      <td>葉　酸</td>\n",
              "      <td>パントテン酸</td>\n",
              "      <td>ビ オ チ ン</td>\n",
              "      <td>ビタミンC</td>\n",
              "      <td>NaN</td>\n",
              "      <td>NaN</td>\n",
              "      <td>NaN</td>\n",
              "    </tr>\n",
              "    <tr>\n",
              "      <th>3</th>\n",
              "      <td>NaN</td>\n",
              "      <td>NaN</td>\n",
              "      <td>NaN</td>\n",
              "      <td>NaN</td>\n",
              "      <td>NaN</td>\n",
              "      <td>NaN</td>\n",
              "      <td>NaN</td>\n",
              "      <td>NaN</td>\n",
              "      <td>NaN</td>\n",
              "      <td>NaN</td>\n",
              "      <td>NaN</td>\n",
              "      <td>NaN</td>\n",
              "      <td>NaN</td>\n",
              "      <td>利用可能炭水化物\\n（単糖当量）</td>\n",
              "      <td>NaN</td>\n",
              "      <td>利用可能炭水化物\\n（質量計）</td>\n",
              "      <td>差引き法による\\n利用可能炭水化物</td>\n",
              "      <td>NaN</td>\n",
              "      <td>NaN</td>\n",
              "      <td>NaN</td>\n",
              "      <td>NaN</td>\n",
              "      <td>NaN</td>\n",
              "      <td>NaN</td>\n",
              "      <td>NaN</td>\n",
              "      <td>NaN</td>\n",
              "      <td>NaN</td>\n",
              "      <td>NaN</td>\n",
              "      <td>NaN</td>\n",
              "      <td>NaN</td>\n",
              "      <td>NaN</td>\n",
              "      <td>NaN</td>\n",
              "      <td>NaN</td>\n",
              "      <td>NaN</td>\n",
              "      <td>NaN</td>\n",
              "      <td>NaN</td>\n",
              "      <td>NaN</td>\n",
              "      <td>NaN</td>\n",
              "      <td>NaN</td>\n",
              "      <td>NaN</td>\n",
              "      <td>NaN</td>\n",
              "      <td>NaN</td>\n",
              "      <td>NaN</td>\n",
              "      <td>レチノール活性当量</td>\n",
              "      <td>NaN</td>\n",
              "      <td>α|トコフェロール</td>\n",
              "      <td>β|トコフェロール</td>\n",
              "      <td>γ|トコフェロール</td>\n",
              "      <td>δ|トコフェロール</td>\n",
              "      <td>NaN</td>\n",
              "      <td>NaN</td>\n",
              "      <td>NaN</td>\n",
              "      <td>NaN</td>\n",
              "      <td>NaN</td>\n",
              "      <td>NaN</td>\n",
              "      <td>NaN</td>\n",
              "      <td>NaN</td>\n",
              "      <td>NaN</td>\n",
              "      <td>NaN</td>\n",
              "      <td>NaN</td>\n",
              "      <td>NaN</td>\n",
              "      <td>NaN</td>\n",
              "      <td>NaN</td>\n",
              "    </tr>\n",
              "  </tbody>\n",
              "</table>\n",
              "</div>"
            ],
            "text/plain": [
              "   Unnamed: 0 Unnamed: 1 Unnamed: 2  ... Unnamed: 59 Unnamed: 60 更新日：2021年2 月○日\n",
              "0         NaN    食　品　番　号    索　引　番　号  ...         NaN         NaN           備　　考\n",
              "1         NaN        NaN        NaN  ...       アルコール       食塩相当量            NaN\n",
              "2         NaN        NaN        NaN  ...         NaN         NaN            NaN\n",
              "3         NaN        NaN        NaN  ...         NaN         NaN            NaN\n",
              "\n",
              "[4 rows x 62 columns]"
            ]
          },
          "metadata": {},
          "execution_count": 41
        }
      ]
    },
    {
      "cell_type": "markdown",
      "metadata": {
        "id": "CULET-99WJ3D"
      },
      "source": [
        "最初の4行ほどに栄養素等の情報が入っているのだが、  \n",
        "セルが結合されたりしているため、所々にNaNが入っていたりして見辛い。\n",
        "\n",
        "(碁盤目の構造を破壊してしまうため「セルの結合」は機械的な処理と  \n",
        "やや相性が悪く、プログラミングを用いたデータ分析では嫌われる)\n",
        "\n",
        "各省庁の公開データのフォーマットの統一化は今後に期待することにして...  \n",
        "まず以下の項目に該当する列だけを抽出する事を考える。\n",
        "\n"
      ]
    },
    {
      "cell_type": "code",
      "metadata": {
        "id": "Jhdp9z7cZm97"
      },
      "source": [
        "targets = [\"食品名\", \"エネルギー\",\"たんぱく質\", \"脂質\", \"炭水化物\"]"
      ],
      "execution_count": 42,
      "outputs": []
    },
    {
      "cell_type": "markdown",
      "metadata": {
        "id": "zGrqpS-6jhaK"
      },
      "source": [
        "該当するデータがどの行・列に格納されているかをコードで指定するのは、  \n",
        "前述のファイル構造の事情からやや面倒くさい。  \n",
        "\n",
        "以下では、その場しのぎ的ではあるが、  \n",
        "興味のある量が何番目かを指定してまとめてみることにしよう。\n",
        "\n",
        "そのために、1行目の要素を表示してみよう。"
      ]
    },
    {
      "cell_type": "code",
      "metadata": {
        "id": "yZ-IVG2Ma30o",
        "outputId": "fc925f45-7395-41fd-ed95-c38bb10f08c1",
        "colab": {
          "base_uri": "https://localhost:8080/"
        }
      },
      "source": [
        "#1行目(エクセルだと2行目)の要素を表示してみる\n",
        "print(list(df.iloc[0].values))\n",
        "\n",
        "#半角空白, 全角空白(\\u3000)や改行コード\\nを取り除いたリストを作って表示してみる\n",
        "tlist = list(map( lambda s: str(s).replace(\"\\u3000\",\"\").replace(\"\\n\",\"\").replace(\" \",\"\"),df.iloc[0].values))\n",
        "print(tlist)\n"
      ],
      "execution_count": 43,
      "outputs": [
        {
          "output_type": "stream",
          "name": "stdout",
          "text": [
            "[nan, '食\\u3000品\\u3000番\\u3000号', '索\\u3000引\\u3000番\\u3000号', '可\\u3000\\u3000食\\u3000\\u3000部\\u3000\\u3000 100\\u3000\\u3000g\\u3000\\u3000当\\u3000\\u3000た\\u3000\\u3000り', nan, nan, nan, nan, nan, nan, nan, nan, nan, nan, nan, nan, nan, nan, nan, nan, nan, nan, nan, nan, nan, nan, nan, nan, nan, nan, nan, nan, nan, '可\\u3000\\u3000食\\u3000\\u3000部\\u3000\\u3000 100\\u3000 g\\u3000\\u3000当\\u3000\\u3000た\\u3000\\u3000り', nan, nan, nan, nan, nan, nan, nan, nan, nan, nan, nan, nan, nan, nan, nan, nan, nan, nan, nan, nan, nan, nan, nan, nan, nan, nan, nan, '備\\u3000\\u3000考']\n",
            "['nan', '食品番号', '索引番号', '可食部100g当たり', 'nan', 'nan', 'nan', 'nan', 'nan', 'nan', 'nan', 'nan', 'nan', 'nan', 'nan', 'nan', 'nan', 'nan', 'nan', 'nan', 'nan', 'nan', 'nan', 'nan', 'nan', 'nan', 'nan', 'nan', 'nan', 'nan', 'nan', 'nan', 'nan', '可食部100g当たり', 'nan', 'nan', 'nan', 'nan', 'nan', 'nan', 'nan', 'nan', 'nan', 'nan', 'nan', 'nan', 'nan', 'nan', 'nan', 'nan', 'nan', 'nan', 'nan', 'nan', 'nan', 'nan', 'nan', 'nan', 'nan', 'nan', 'nan', '備考']\n"
          ]
        }
      ]
    },
    {
      "cell_type": "markdown",
      "metadata": {
        "id": "KEaiS1EAiWDY"
      },
      "source": [
        "セルの結合により、興味のあるデータがどの列に記述されているかは注意が必要。  \n",
        "\n",
        "実際、[エネルギー]という文字列は1行目の6列目(それぞれインデックスでいうと0,5)で取得できるが、  \n",
        "kJ単位になっていて、kcal単位でほしければ、7列目に格納された値が必要になる。  \n",
        "\n",
        "また、エクセルファイルを見るとわかるように、たんぱく質・脂質・炭水化物はさらに細分化されており、  \n",
        "O列R列など、細かい列の分割が挿入されている. ~~これは大変困る~~\n",
        "\n",
        "単純にたんぱく質・脂質・炭水化物と表記されている列のインデックスはそれぞれ9,12,20となる。  \n",
        "食品名が格納されている列(3)、エネルギー[kJ単位] (6)と合わせて確認してみよう。"
      ]
    },
    {
      "cell_type": "code",
      "metadata": {
        "id": "U-Hzne6VgWf3",
        "outputId": "201f65de-c4f3-45b1-efb1-e936f22757a3",
        "colab": {
          "base_uri": "https://localhost:8080/",
          "height": 424
        }
      },
      "source": [
        "df.iloc[:,[3,6,9,12,20]]"
      ],
      "execution_count": 44,
      "outputs": [
        {
          "output_type": "execute_result",
          "data": {
            "text/html": [
              "<div>\n",
              "<style scoped>\n",
              "    .dataframe tbody tr th:only-of-type {\n",
              "        vertical-align: middle;\n",
              "    }\n",
              "\n",
              "    .dataframe tbody tr th {\n",
              "        vertical-align: top;\n",
              "    }\n",
              "\n",
              "    .dataframe thead th {\n",
              "        text-align: right;\n",
              "    }\n",
              "</style>\n",
              "<table border=\"1\" class=\"dataframe\">\n",
              "  <thead>\n",
              "    <tr style=\"text-align: right;\">\n",
              "      <th></th>\n",
              "      <th>Unnamed: 3</th>\n",
              "      <th>Unnamed: 6</th>\n",
              "      <th>Unnamed: 9</th>\n",
              "      <th>Unnamed: 12</th>\n",
              "      <th>Unnamed: 20</th>\n",
              "    </tr>\n",
              "  </thead>\n",
              "  <tbody>\n",
              "    <tr>\n",
              "      <th>0</th>\n",
              "      <td>可　　食　　部　　 100　　g　　当　　た　　り</td>\n",
              "      <td>NaN</td>\n",
              "      <td>NaN</td>\n",
              "      <td>NaN</td>\n",
              "      <td>NaN</td>\n",
              "    </tr>\n",
              "    <tr>\n",
              "      <th>1</th>\n",
              "      <td>食　品　名</td>\n",
              "      <td>NaN</td>\n",
              "      <td>NaN</td>\n",
              "      <td>NaN</td>\n",
              "      <td>NaN</td>\n",
              "    </tr>\n",
              "    <tr>\n",
              "      <th>2</th>\n",
              "      <td>NaN</td>\n",
              "      <td>NaN</td>\n",
              "      <td>たんぱく質</td>\n",
              "      <td>脂質</td>\n",
              "      <td>炭水化物</td>\n",
              "    </tr>\n",
              "    <tr>\n",
              "      <th>3</th>\n",
              "      <td>NaN</td>\n",
              "      <td>NaN</td>\n",
              "      <td>NaN</td>\n",
              "      <td>NaN</td>\n",
              "      <td>NaN</td>\n",
              "    </tr>\n",
              "    <tr>\n",
              "      <th>4</th>\n",
              "      <td>NaN</td>\n",
              "      <td>NaN</td>\n",
              "      <td>NaN</td>\n",
              "      <td>NaN</td>\n",
              "      <td>NaN</td>\n",
              "    </tr>\n",
              "    <tr>\n",
              "      <th>...</th>\n",
              "      <td>...</td>\n",
              "      <td>...</td>\n",
              "      <td>...</td>\n",
              "      <td>...</td>\n",
              "      <td>...</td>\n",
              "    </tr>\n",
              "    <tr>\n",
              "      <th>2484</th>\n",
              "      <td>中国料理　点心類　中華ちまき</td>\n",
              "      <td>174</td>\n",
              "      <td>(5.9)</td>\n",
              "      <td>(5.5)</td>\n",
              "      <td>(27.7)</td>\n",
              "    </tr>\n",
              "    <tr>\n",
              "      <th>2485</th>\n",
              "      <td>中国料理　菜類　酢豚</td>\n",
              "      <td>77</td>\n",
              "      <td>(4.6)</td>\n",
              "      <td>(3.3)</td>\n",
              "      <td>(7.6)</td>\n",
              "    </tr>\n",
              "    <tr>\n",
              "      <th>2486</th>\n",
              "      <td>中国料理　菜類　八宝菜</td>\n",
              "      <td>64</td>\n",
              "      <td>(5.8)</td>\n",
              "      <td>(3.2)</td>\n",
              "      <td>(3.8)</td>\n",
              "    </tr>\n",
              "    <tr>\n",
              "      <th>2487</th>\n",
              "      <td>中国料理　菜類　麻婆豆腐</td>\n",
              "      <td>104</td>\n",
              "      <td>(7.8)</td>\n",
              "      <td>(6.8)</td>\n",
              "      <td>(3.8)</td>\n",
              "    </tr>\n",
              "    <tr>\n",
              "      <th>2488</th>\n",
              "      <td>韓国料理　和え物類　もやしのナムル</td>\n",
              "      <td>70</td>\n",
              "      <td>(3.1)</td>\n",
              "      <td>(4.5)</td>\n",
              "      <td>(5.7)</td>\n",
              "    </tr>\n",
              "  </tbody>\n",
              "</table>\n",
              "<p>2489 rows × 5 columns</p>\n",
              "</div>"
            ],
            "text/plain": [
              "                     Unnamed: 3 Unnamed: 6 Unnamed: 9 Unnamed: 12 Unnamed: 20\n",
              "0     可　　食　　部　　 100　　g　　当　　た　　り        NaN        NaN         NaN         NaN\n",
              "1                         食　品　名        NaN        NaN         NaN         NaN\n",
              "2                           NaN        NaN      たんぱく質          脂質        炭水化物\n",
              "3                           NaN        NaN        NaN         NaN         NaN\n",
              "4                           NaN        NaN        NaN         NaN         NaN\n",
              "...                         ...        ...        ...         ...         ...\n",
              "2484             中国料理　点心類　中華ちまき        174      (5.9)       (5.5)      (27.7)\n",
              "2485                 中国料理　菜類　酢豚         77      (4.6)       (3.3)       (7.6)\n",
              "2486                中国料理　菜類　八宝菜         64      (5.8)       (3.2)       (3.8)\n",
              "2487               中国料理　菜類　麻婆豆腐        104      (7.8)       (6.8)       (3.8)\n",
              "2488          韓国料理　和え物類　もやしのナムル         70      (3.1)       (4.5)       (5.7)\n",
              "\n",
              "[2489 rows x 5 columns]"
            ]
          },
          "metadata": {},
          "execution_count": 44
        }
      ]
    },
    {
      "cell_type": "markdown",
      "metadata": {
        "id": "LNk4oIypmpTe"
      },
      "source": [
        "もう少し整形したいので、新しいデータフレームのコラムを書き換える。\n",
        "\n",
        "食品名等が記載されているのは10行目以降なので、それを使い  \n",
        "columnを指定する。\n",
        "\n",
        "さらに、食品名に含まれる余分な文字コードも削除しておこう。"
      ]
    },
    {
      "cell_type": "code",
      "metadata": {
        "id": "ZWkaRBZynATr",
        "outputId": "2382f976-adea-4597-abfa-3c514af052ba",
        "colab": {
          "base_uri": "https://localhost:8080/",
          "height": 424
        }
      },
      "source": [
        "ndf = df.iloc[:,[3,6,9,12,20]] \n",
        "ndf = ndf.iloc[10:,:]\n",
        "ndf.columns=[\"食品名\",\"エネルギー(kcal)\",\"たんぱく質(g)\",\"脂質(g)\",\"炭水化物(g)\"]\n",
        "ndf[\"食品名\"] = ndf[\"食品名\"].str.replace(\"\\u3000\",\" \") # 食品名の中にある余分な全角空白(\\u3000)を半角スペースに置き換える\n",
        "ndf"
      ],
      "execution_count": 45,
      "outputs": [
        {
          "output_type": "execute_result",
          "data": {
            "text/html": [
              "<div>\n",
              "<style scoped>\n",
              "    .dataframe tbody tr th:only-of-type {\n",
              "        vertical-align: middle;\n",
              "    }\n",
              "\n",
              "    .dataframe tbody tr th {\n",
              "        vertical-align: top;\n",
              "    }\n",
              "\n",
              "    .dataframe thead th {\n",
              "        text-align: right;\n",
              "    }\n",
              "</style>\n",
              "<table border=\"1\" class=\"dataframe\">\n",
              "  <thead>\n",
              "    <tr style=\"text-align: right;\">\n",
              "      <th></th>\n",
              "      <th>食品名</th>\n",
              "      <th>エネルギー(kcal)</th>\n",
              "      <th>たんぱく質(g)</th>\n",
              "      <th>脂質(g)</th>\n",
              "      <th>炭水化物(g)</th>\n",
              "    </tr>\n",
              "  </thead>\n",
              "  <tbody>\n",
              "    <tr>\n",
              "      <th>10</th>\n",
              "      <td>成分識別子</td>\n",
              "      <td>ENERC_KCAL</td>\n",
              "      <td>PROT-</td>\n",
              "      <td>FAT-</td>\n",
              "      <td>CHOCDF-</td>\n",
              "    </tr>\n",
              "    <tr>\n",
              "      <th>11</th>\n",
              "      <td>アマランサス 玄穀</td>\n",
              "      <td>343</td>\n",
              "      <td>12.7</td>\n",
              "      <td>6.0</td>\n",
              "      <td>64.9</td>\n",
              "    </tr>\n",
              "    <tr>\n",
              "      <th>12</th>\n",
              "      <td>あわ 精白粒</td>\n",
              "      <td>346</td>\n",
              "      <td>11.2</td>\n",
              "      <td>4.4</td>\n",
              "      <td>69.7</td>\n",
              "    </tr>\n",
              "    <tr>\n",
              "      <th>13</th>\n",
              "      <td>あわ あわもち</td>\n",
              "      <td>210</td>\n",
              "      <td>5.1</td>\n",
              "      <td>1.3</td>\n",
              "      <td>45.3</td>\n",
              "    </tr>\n",
              "    <tr>\n",
              "      <th>14</th>\n",
              "      <td>えんばく オートミール</td>\n",
              "      <td>350</td>\n",
              "      <td>13.7</td>\n",
              "      <td>5.7</td>\n",
              "      <td>69.1</td>\n",
              "    </tr>\n",
              "    <tr>\n",
              "      <th>...</th>\n",
              "      <td>...</td>\n",
              "      <td>...</td>\n",
              "      <td>...</td>\n",
              "      <td>...</td>\n",
              "      <td>...</td>\n",
              "    </tr>\n",
              "    <tr>\n",
              "      <th>2484</th>\n",
              "      <td>中国料理 点心類 中華ちまき</td>\n",
              "      <td>174</td>\n",
              "      <td>(5.9)</td>\n",
              "      <td>(5.5)</td>\n",
              "      <td>(27.7)</td>\n",
              "    </tr>\n",
              "    <tr>\n",
              "      <th>2485</th>\n",
              "      <td>中国料理 菜類 酢豚</td>\n",
              "      <td>77</td>\n",
              "      <td>(4.6)</td>\n",
              "      <td>(3.3)</td>\n",
              "      <td>(7.6)</td>\n",
              "    </tr>\n",
              "    <tr>\n",
              "      <th>2486</th>\n",
              "      <td>中国料理 菜類 八宝菜</td>\n",
              "      <td>64</td>\n",
              "      <td>(5.8)</td>\n",
              "      <td>(3.2)</td>\n",
              "      <td>(3.8)</td>\n",
              "    </tr>\n",
              "    <tr>\n",
              "      <th>2487</th>\n",
              "      <td>中国料理 菜類 麻婆豆腐</td>\n",
              "      <td>104</td>\n",
              "      <td>(7.8)</td>\n",
              "      <td>(6.8)</td>\n",
              "      <td>(3.8)</td>\n",
              "    </tr>\n",
              "    <tr>\n",
              "      <th>2488</th>\n",
              "      <td>韓国料理 和え物類 もやしのナムル</td>\n",
              "      <td>70</td>\n",
              "      <td>(3.1)</td>\n",
              "      <td>(4.5)</td>\n",
              "      <td>(5.7)</td>\n",
              "    </tr>\n",
              "  </tbody>\n",
              "</table>\n",
              "<p>2479 rows × 5 columns</p>\n",
              "</div>"
            ],
            "text/plain": [
              "                    食品名 エネルギー(kcal) たんぱく質(g)  脂質(g)  炭水化物(g)\n",
              "10                成分識別子  ENERC_KCAL    PROT-   FAT-  CHOCDF-\n",
              "11            アマランサス 玄穀         343     12.7    6.0     64.9\n",
              "12               あわ 精白粒         346     11.2    4.4     69.7\n",
              "13              あわ あわもち         210      5.1    1.3     45.3\n",
              "14          えんばく オートミール         350     13.7    5.7     69.1\n",
              "...                 ...         ...      ...    ...      ...\n",
              "2484     中国料理 点心類 中華ちまき         174    (5.9)  (5.5)   (27.7)\n",
              "2485         中国料理 菜類 酢豚          77    (4.6)  (3.3)    (7.6)\n",
              "2486        中国料理 菜類 八宝菜          64    (5.8)  (3.2)    (3.8)\n",
              "2487       中国料理 菜類 麻婆豆腐         104    (7.8)  (6.8)    (3.8)\n",
              "2488  韓国料理 和え物類 もやしのナムル          70    (3.1)  (4.5)    (5.7)\n",
              "\n",
              "[2479 rows x 5 columns]"
            ]
          },
          "metadata": {},
          "execution_count": 45
        }
      ]
    },
    {
      "cell_type": "markdown",
      "metadata": {
        "id": "B5FN5MFcmECG"
      },
      "source": [
        "次に、食品名の一覧を取得した後、興味のあるもの(日常的に馴染みのあるもの)だけを  \n",
        "ピックアップしてみよう。"
      ]
    },
    {
      "cell_type": "code",
      "metadata": {
        "id": "_SI2LaqPmOK3",
        "outputId": "d59a6ccb-8deb-4d81-d85a-db900e72d384",
        "colab": {
          "base_uri": "https://localhost:8080/"
        }
      },
      "source": [
        "print(list(ndf[\"食品名\"]))"
      ],
      "execution_count": 46,
      "outputs": [
        {
          "output_type": "stream",
          "name": "stdout",
          "text": [
            "['成分識別子', 'アマランサス 玄穀', 'あわ 精白粒', 'あわ あわもち', 'えんばく オートミール', 'おおむぎ 七分つき押麦', 'おおむぎ 押麦 乾', 'おおむぎ 押麦 めし', 'おおむぎ 米粒麦', 'おおむぎ 大麦めん 乾', 'おおむぎ 大麦めん ゆで', 'おおむぎ 麦こがし', 'キヌア 玄穀', 'きび 精白粒', 'こむぎ ［玄穀］ 国産 普通', 'こむぎ ［玄穀］ 輸入 軟質', 'こむぎ ［玄穀］ 輸入 硬質', 'こむぎ ［小麦粉］ 薄力粉 1等', 'こむぎ ［小麦粉］ 薄力粉 2等', 'こむぎ ［小麦粉］ 中力粉 1等', 'こむぎ ［小麦粉］ 中力粉 2等', 'こむぎ ［小麦粉］ 強力粉 1等', 'こむぎ ［小麦粉］ 強力粉 2等', 'こむぎ ［小麦粉］ 強力粉 全粒粉', 'こむぎ ［小麦粉］ プレミックス粉 お好み焼き用', 'こむぎ ［小麦粉］ プレミックス粉 ホットケーキ用', 'こむぎ ［小麦粉］ プレミックス粉 から揚げ用', 'こむぎ ［小麦粉］ プレミックス粉 天ぷら用', 'こむぎ ［小麦粉］ プレミックス粉 天ぷら用 バッター', 'こむぎ ［小麦粉］ プレミックス粉 天ぷら用 バッター 揚げ', 'こむぎ ［パン類］ 角形食パン 食パン', 'こむぎ ［パン類］ 角形食パン 焼き', 'こむぎ ［パン類］ 角形食パン 耳を除いたもの', 'こむぎ ［パン類］ 角形食パン 耳', 'こむぎ ［パン類］ 食パン リーンタイプ', 'こむぎ ［パン類］ 食パン リッチタイプ', 'こむぎ ［パン類］ 山形食パン 食パン', 'こむぎ ［パン類］ コッペパン', 'こむぎ ［パン類］ 乾パン', 'こむぎ ［パン類］ フランスパン', 'こむぎ ［パン類］ ライ麦パン', 'こむぎ ［パン類］ 全粒粉パン', 'こむぎ ［パン類］ ぶどうパン', 'こむぎ ［パン類］ ロールパン', 'こむぎ ［パン類］ クロワッサン レギュラータイプ', 'こむぎ ［パン類］ クロワッサン リッチタイプ', 'こむぎ ［パン類］ くるみパン', 'こむぎ ［パン類］ イングリッシュマフィン', 'こむぎ ［パン類］ ナン', 'こむぎ ［パン類］ ベーグル', 'こむぎ ［うどん・そうめん類］ うどん 生', 'こむぎ ［うどん・そうめん類］ うどん ゆで', 'こむぎ ［うどん・そうめん類］ うどん 半生うどん', 'こむぎ ［うどん・そうめん類］ 干しうどん 乾', 'こむぎ ［うどん・そうめん類］ 干しうどん ゆで', 'こむぎ ［うどん・そうめん類］ そうめん・ひやむぎ 乾', 'こむぎ ［うどん・そうめん類］ そうめん・ひやむぎ ゆで', 'こむぎ ［うどん・そうめん類］ 手延そうめん・手延ひやむぎ 乾', 'こむぎ ［うどん・そうめん類］ 手延そうめん・手延ひやむぎ ゆで', 'こむぎ ［中華めん類］ 中華めん 生', 'こむぎ ［中華めん類］ 中華めん ゆで', 'こむぎ ［中華めん類］ 半生中華めん ', 'こむぎ ［中華めん類］ 蒸し中華めん 蒸し中華めん', 'こむぎ ［中華めん類］ 蒸し中華めん  ソテー', 'こむぎ ［中華めん類］ 干し中華めん 乾', 'こむぎ ［中華めん類］ 干し中華めん ゆで', 'こむぎ ［中華めん類］ 沖縄そば 生', 'こむぎ ［中華めん類］ 沖縄そば ゆで', 'こむぎ ［中華めん類］ 干し沖縄そば 乾', 'こむぎ ［中華めん類］ 干し沖縄そば ゆで', 'こむぎ ［即席めん類］ 即席中華めん 油揚げ味付け', 'こむぎ ［即席めん類］ 即席中華めん 油揚げ 乾 （添付調味料等を含むもの）', 'こむぎ ［即席めん類］ 即席中華めん 油揚げ 調理後全体 （添付調味料等を含むもの）', 'こむぎ ［即席めん類］ 即席中華めん 油揚げ ゆで （添付調味料等を含まないもの）', 'こむぎ ［即席めん類］ 即席中華めん 油揚げ 乾 （添付調味料等を含まないもの）', 'こむぎ ［即席めん類］ 即席中華めん 非油揚げ 乾 （添付調味料等を含むもの）', 'こむぎ ［即席めん類］ 即席中華めん 非油揚げ 調理後全体 （添付調味料等を含むもの）', 'こむぎ ［即席めん類］ 即席中華めん 非油揚げ ゆで （添付調味料等を含まないもの）', 'こむぎ ［即席めん類］ 即席中華めん 非油揚げ 乾 （添付調味料等を含まないもの）', 'こむぎ ［即席めん類］ 中華スタイル即席カップめん 油揚げ 塩味 乾 （添付調味料等を含むもの）', 'こむぎ ［即席めん類］ 中華スタイル即席カップめん 油揚げ 塩味 調理後全体 （添付調味料等を含むもの）', 'こむぎ ［即席めん類］ 中華スタイル即席カップめん 油揚げ 塩味 調理後のめん （スープを残したもの）', 'こむぎ ［即席めん類］ 中華スタイル即席カップめん 油揚げ しょうゆ味 乾 （添付調味料等を含むもの）', 'こむぎ ［即席めん類］ 中華スタイル即席カップめん 油揚げ しょうゆ味 調理後全体 （添付調味料等を含むもの）', 'こむぎ ［即席めん類］ 中華スタイル即席カップめん 油揚げ しょうゆ味 調理後のめん （スープを残したもの）', 'こむぎ ［即席めん類］ 中華スタイル即席カップめん 油揚げ 焼きそば 乾 （添付調味料等を含むもの）', 'こむぎ ［即席めん類］ 中華スタイル即席カップめん 油揚げ 焼きそば 調理後全体 （添付調味料等を含むもの）', 'こむぎ ［即席めん類］ 中華スタイル即席カップめん 非油揚げ 乾 （添付調味料等を含むもの）', 'こむぎ ［即席めん類］ 中華スタイル即席カップめん 非油揚げ 調理後全体 （添付調味料等を含むもの）', 'こむぎ ［即席めん類］ 中華スタイル即席カップめん 非油揚げ 調理後のめん （スープを残したもの）', 'こむぎ ［即席めん類］ 和風スタイル即席カップめん 油揚げ 乾 （添付調味料等を含むもの）', 'こむぎ ［即席めん類］ 和風スタイル即席カップめん 油揚げ 調理後全体 （添付調味料等を含むもの）', 'こむぎ ［即席めん類］ 和風スタイル即席カップめん 油揚げ 調理後のめん （スープを残したもの）', 'こむぎ ［マカロニ・スパゲッティ類］ マカロニ・スパゲッティ 乾', 'こむぎ ［マカロニ・スパゲッティ類］ マカロニ・スパゲッティ ゆで', 'こむぎ ［マカロニ・スパゲッティ類］ マカロニ・スパゲッティ ソテー', 'こむぎ ［マカロニ・スパゲッティ類］ 生パスタ 生', 'こむぎ ［ふ類］ 生ふ', 'こむぎ ［ふ類］ 焼きふ 釜焼きふ', 'こむぎ ［ふ類］ 焼きふ 板ふ', 'こむぎ ［ふ類］ 焼きふ 車ふ', 'こむぎ ［ふ類］ 油ふ', 'こむぎ ［その他］ 小麦はいが', 'こむぎ ［その他］ 小麦たんぱく 粉末状', 'こむぎ ［その他］ 小麦たんぱく 粒状', 'こむぎ ［その他］ 小麦たんぱく ペースト状', 'こむぎ ［その他］ かやきせんべい', 'こむぎ ［その他］ ぎょうざの皮 生', 'こむぎ ［その他］ しゅうまいの皮 生', 'こむぎ ［その他］ 春巻きの皮 生', 'こむぎ ［その他］ 春巻きの皮 揚げ', 'こむぎ ［その他］ ピザ生地', 'こむぎ ［その他］ ちくわぶ', 'こむぎ ［その他］ パン粉 生', 'こむぎ ［その他］ パン粉 半生', 'こむぎ ［その他］ パン粉 乾燥', 'こむぎ ［その他］ 冷めん 生', 'こめ ［水稲穀粒］ 玄米', 'こめ ［水稲穀粒］ 半つき米', 'こめ ［水稲穀粒］ 七分つき米', 'こめ ［水稲穀粒］ 精白米 うるち米', 'こめ ［水稲穀粒］ 精白米 もち米', 'こめ ［水稲穀粒］ 精白米 インディカ米', 'こめ ［水稲穀粒］ はいが精米', 'こめ ［水稲穀粒］ 発芽玄米', 'こめ ［水稲穀粒］ 赤米', 'こめ ［水稲穀粒］ 黒米', 'こめ ［水稲めし］ 玄米', 'こめ ［水稲めし］ 半つき米', 'こめ ［水稲めし］ 七分つき米', 'こめ ［水稲めし］ 精白米 インディカ米', 'こめ ［水稲めし］ 精白米 うるち米', 'こめ ［水稲めし］ 精白米 もち米', 'こめ ［水稲めし］ はいが精米', 'こめ ［水稲めし］ 発芽玄米', 'こめ ［水稲めし］ 赤米', 'こめ ［水稲めし］ 黒米', 'こめ ［水稲軟めし］ 精白米', 'こめ ［水稲全かゆ］ 玄米', 'こめ ［水稲全かゆ］ 半つき米', 'こめ ［水稲全かゆ］ 七分つき米', 'こめ ［水稲全かゆ］ 精白米', 'こめ ［水稲五分かゆ］ 玄米', 'こめ ［水稲五分かゆ］ 半つき米', 'こめ ［水稲五分かゆ］ 七分つき米', 'こめ ［水稲五分かゆ］ 精白米', 'こめ ［水稲おもゆ］ 玄米', 'こめ ［水稲おもゆ］ 半つき米', 'こめ ［水稲おもゆ］ 七分つき米', 'こめ ［水稲おもゆ］ 精白米', 'こめ ［陸稲穀粒］ 玄米', 'こめ ［陸稲穀粒］ 半つき米', 'こめ ［陸稲穀粒］ 七分つき米', 'こめ ［陸稲穀粒］ 精白米', 'こめ ［陸稲めし］ 玄米', 'こめ ［陸稲めし］ 半つき米', 'こめ ［陸稲めし］ 七分つき米', 'こめ ［陸稲めし］ 精白米', 'こめ ［うるち米製品］ アルファ化米 一般用', 'こめ ［うるち米製品］ アルファ化米 学校給食用強化品', 'こめ ［うるち米製品］ おにぎり', 'こめ ［うるち米製品］ 焼きおにぎり', 'こめ ［うるち米製品］ きりたんぽ', 'こめ ［うるち米製品］ 上新粉', 'こめ ［うるち米製品］ 玄米粉', 'こめ ［うるち米製品］ 米粉', 'こめ ［うるち米製品］ 米粉パン 食パン', 'こめ ［うるち米製品］ 米粉パン ロールパン', 'こめ ［うるち米製品］ 米粉パン 小麦グルテン不使用のもの', 'こめ ［うるち米製品］ 米粉めん', 'こめ ［うるち米製品］ ビーフン', 'こめ ［うるち米製品］ ライスペーパー', 'こめ ［うるち米製品］ 米こうじ', 'こめ ［もち米製品］ もち', 'こめ ［もち米製品］ 赤飯', 'こめ ［もち米製品］ あくまき', 'こめ ［もち米製品］ 白玉粉', 'こめ ［もち米製品］ 道明寺粉', 'こめ ［その他］ 米ぬか', 'そば そば粉 全層粉', 'そば そば粉 内層粉', 'そば そば粉 中層粉', 'そば そば粉 表層粉', 'そば そば米', 'そば そば 生', 'そば そば ゆで', 'そば そば 半生そば', 'そば 干しそば 乾', 'そば 干しそば ゆで', 'とうもろこし 玄穀 黄色種', 'とうもろこし 玄穀 白色種', 'とうもろこし コーンミール 黄色種', 'とうもろこし コーンミール 白色種', 'とうもろこし コーングリッツ 黄色種', 'とうもろこし コーングリッツ 白色種', 'とうもろこし コーンフラワー 黄色種', 'とうもろこし コーンフラワー 白色種', 'とうもろこし ジャイアントコーン フライ 味付け', 'とうもろこし ポップコーン', 'とうもろこし コーンフレーク', 'はとむぎ 精白粒', 'ひえ 精白粒', 'もろこし 玄穀', 'もろこし 精白粒', 'ライむぎ 全粒粉', 'ライむぎ ライ麦粉', '＜いも類＞ アメリカほどいも 塊根 生', '＜いも類＞ アメリカほどいも 塊根 ゆで', '＜いも類＞ きくいも 塊茎 生', '＜いも類＞ きくいも 塊茎 水煮', '＜いも類＞ こんにゃく 精粉', '＜いも類＞ こんにゃく 板こんにゃく 精粉こんにゃく', '＜いも類＞ こんにゃく 板こんにゃく 生いもこんにゃく', '＜いも類＞ こんにゃく 赤こんにゃく', '＜いも類＞ こんにゃく 凍みこんにゃく 乾', '＜いも類＞ こんにゃく 凍みこんにゃく ゆで', '＜いも類＞ こんにゃく しらたき', '＜いも類＞ （さつまいも類） さつまいも 塊根 皮つき 生', '＜いも類＞ （さつまいも類） さつまいも 塊根 皮つき 蒸し', '＜いも類＞ （さつまいも類） さつまいも 塊根 皮つき 天ぷら', '＜いも類＞ （さつまいも類） さつまいも 塊根 皮なし 生', '＜いも類＞ （さつまいも類） さつまいも 塊根 皮なし 蒸し', '＜いも類＞ （さつまいも類） さつまいも 塊根 皮なし 焼き', '＜いも類＞ （さつまいも類） さつまいも 蒸し切干', '＜いも類＞ （さつまいも類） むらさきいも 塊根 皮なし 生', '＜いも類＞ （さつまいも類） むらさきいも 塊根 皮なし 蒸し', '＜いも類＞ （さといも類） さといも 球茎 生', '＜いも類＞ （さといも類） さといも 球茎 水煮', '＜いも類＞ （さといも類） さといも 球茎 冷凍', '＜いも類＞ （さといも類） セレベス 球茎 生', '＜いも類＞ （さといも類） セレベス 球茎 水煮', '＜いも類＞ （さといも類） たけのこいも 球茎 生', '＜いも類＞ （さといも類） たけのこいも 球茎 水煮', '＜いも類＞ （さといも類） みずいも 球茎 生', '＜いも類＞ （さといも類） みずいも 球茎 水煮', '＜いも類＞ （さといも類） やつがしら 球茎 生', '＜いも類＞ （さといも類） やつがしら 球茎 水煮', '＜いも類＞ じゃがいも 塊茎 皮つき 生', '＜いも類＞ じゃがいも 塊茎 皮つき 電子レンジ調理', '＜いも類＞ じゃがいも 塊茎 皮つき フライドポテト （生を揚げたもの）', '＜いも類＞ じゃがいも 塊茎 皮なし 生', '＜いも類＞ じゃがいも 塊茎 皮なし 水煮', '＜いも類＞ じゃがいも 塊茎 皮なし 蒸し', '＜いも類＞ じゃがいも 塊茎 皮なし 電子レンジ調理', '＜いも類＞ じゃがいも 塊茎 皮なし フライドポテト （生を揚げたもの）', '＜いも類＞ じゃがいも 塊茎 皮なし フライドポテト （市販冷凍食品を揚げたもの）', '＜いも類＞ じゃがいも 乾燥マッシュポテト', '＜いも類＞ ヤーコン 塊根 生', '＜いも類＞ ヤーコン 塊根 水煮', '＜いも類＞ （やまのいも類） ながいも いちょういも 塊根 生', '＜いも類＞ （やまのいも類） ながいも ながいも 塊根 生', '＜いも類＞ （やまのいも類） ながいも ながいも 塊根 水煮', '＜いも類＞ （やまのいも類） ながいも やまといも 塊根 生', '＜いも類＞ （やまのいも類） じねんじょ 塊根 生', '＜いも類＞ （やまのいも類） だいじょ 塊根 生', '＜でん粉・でん粉製品＞ （でん粉類） おおうばゆりでん粉', '＜でん粉・でん粉製品＞ （でん粉類） キャッサバでん粉', '＜でん粉・でん粉製品＞ （でん粉類） くずでん粉', '＜でん粉・でん粉製品＞ （でん粉類） 米でん粉', '＜でん粉・でん粉製品＞ （でん粉類） 小麦でん粉', '＜でん粉・でん粉製品＞ （でん粉類） サゴでん粉', '＜でん粉・でん粉製品＞ （でん粉類） さつまいもでん粉', '＜でん粉・でん粉製品＞ （でん粉類） じゃがいもでん粉', '＜でん粉・でん粉製品＞ （でん粉類） とうもろこしでん粉', '＜でん粉・でん粉製品＞ （でん粉製品） くずきり 乾', '＜でん粉・でん粉製品＞ （でん粉製品） くずきり ゆで', '＜でん粉・でん粉製品＞ （でん粉製品） ごま豆腐', '＜でん粉・でん粉製品＞ （でん粉製品） タピオカパール 乾', '＜でん粉・でん粉製品＞ （でん粉製品） タピオカパール ゆで', '＜でん粉・でん粉製品＞ （でん粉製品） でん粉めん 生', '＜でん粉・でん粉製品＞ （でん粉製品） でん粉めん 乾', '＜でん粉・でん粉製品＞ （でん粉製品） でん粉めん 乾 ゆで', '＜でん粉・でん粉製品＞ （でん粉製品） はるさめ 緑豆はるさめ 乾', '＜でん粉・でん粉製品＞ （でん粉製品） はるさめ 緑豆はるさめ ゆで', '＜でん粉・でん粉製品＞ （でん粉製品） はるさめ 普通はるさめ 乾', '＜でん粉・でん粉製品＞ （でん粉製品） はるさめ 普通はるさめ ゆで', '（砂糖類） 黒砂糖', '（砂糖類） てんさい含蜜糖', '（砂糖類） 和三盆糖', '（砂糖類） 車糖 上白糖', '（砂糖類） 車糖 三温糖', '（砂糖類） ざらめ糖 グラニュー糖', '（砂糖類） ざらめ糖 白ざら糖', '（砂糖類） ざらめ糖 中ざら糖', '（砂糖類） 加工糖 角砂糖', '（砂糖類） 加工糖 氷砂糖', '（砂糖類） 加工糖 コーヒーシュガー', '（砂糖類） 加工糖 粉糖', '（砂糖類） 液糖 しょ糖型液糖', '（砂糖類） 液糖 転化型液糖', '（砂糖類） 氷糖みつ', '（でん粉糖類） 還元麦芽糖', '（でん粉糖類） 還元水あめ', '（でん粉糖類） 粉あめ', '（でん粉糖類） 水あめ 酵素糖化', '（でん粉糖類） 水あめ 酸糖化', '（でん粉糖類） ぶどう糖 全糖', '（でん粉糖類） ぶどう糖 含水結晶', '（でん粉糖類） ぶどう糖 無水結晶', '（でん粉糖類） 果糖', '（でん粉糖類） 異性化液糖 ぶどう糖果糖液糖', '（でん粉糖類） 異性化液糖 果糖ぶどう糖液糖', '（でん粉糖類） 異性化液糖 高果糖液糖', '（その他） 黒蜜', '（その他） はちみつ', '（その他） メープルシロップ', 'あずき 全粒 乾', 'あずき 全粒 ゆで', 'あずき ゆで小豆缶詰', 'あずき あん こし生あん', 'あずき あん さらしあん （乾燥あん）', 'あずき あん こし練りあん （並あん）', 'あずき あん こし練りあん （中割りあん）', 'あずき あん こし練りあん （もなかあん）', 'あずき あん つぶし練りあん', 'いんげんまめ 全粒 乾', 'いんげんまめ 全粒 ゆで', 'いんげんまめ うずら豆', 'いんげんまめ こし生あん', 'いんげんまめ 豆きんとん', 'えんどう 全粒 青えんどう 乾', 'えんどう 全粒 青えんどう ゆで', 'えんどう 全粒 赤えんどう 乾', 'えんどう 全粒 赤えんどう ゆで', 'えんどう グリンピース（揚げ豆）', 'えんどう 塩豆', 'えんどう うぐいす豆', 'ささげ 全粒 乾', 'ささげ 全粒 ゆで', 'そらまめ 全粒 乾', 'そらまめ フライビーンズ', 'そらまめ おたふく豆', 'そらまめ ふき豆', 'そらまめ しょうゆ豆', 'だいず ［全粒・全粒製品］ 全粒 青大豆 国産 乾', 'だいず ［全粒・全粒製品］ 全粒 青大豆 国産 ゆで', 'だいず ［全粒・全粒製品］ 全粒 黄大豆 国産 乾', 'だいず ［全粒・全粒製品］ 全粒 黄大豆 国産 ゆで', 'だいず ［全粒・全粒製品］ 全粒 黄大豆 米国産 乾', 'だいず ［全粒・全粒製品］ 全粒 黄大豆 中国産 乾', 'だいず ［全粒・全粒製品］ 全粒 黄大豆 ブラジル産 乾', 'だいず ［全粒・全粒製品］ 全粒 黒大豆 国産 乾', 'だいず ［全粒・全粒製品］ 全粒 黒大豆 国産 ゆで', 'だいず ［全粒・全粒製品］ いり大豆 青大豆', 'だいず ［全粒・全粒製品］ いり大豆 黄大豆', 'だいず ［全粒・全粒製品］ いり大豆 黒大豆', 'だいず ［全粒・全粒製品］ 水煮缶詰 黄大豆', 'だいず ［全粒・全粒製品］ 蒸し大豆 黄大豆', 'だいず ［全粒・全粒製品］ きな粉 青大豆 全粒大豆', 'だいず ［全粒・全粒製品］ きな粉 青大豆 脱皮大豆', 'だいず ［全粒・全粒製品］ きな粉 黄大豆 全粒大豆', 'だいず ［全粒・全粒製品］ きな粉 黄大豆 脱皮大豆', 'だいず ［全粒・全粒製品］ きな粉（砂糖入り） 青きな粉', 'だいず ［全粒・全粒製品］ きな粉（砂糖入り） きな粉', 'だいず ［全粒・全粒製品］ 大豆はいが', 'だいず ［全粒・全粒製品］ ぶどう豆', 'だいず ［豆腐・油揚げ類］ 木綿豆腐', 'だいず ［豆腐・油揚げ類］ 木綿豆腐 （凝固剤：塩化マグネシウム）', 'だいず ［豆腐・油揚げ類］ 木綿豆腐 （凝固剤：硫酸カルシウム）', 'だいず ［豆腐・油揚げ類］ 絹ごし豆腐', 'だいず ［豆腐・油揚げ類］ 絹ごし豆腐 （凝固剤：塩化マグネシウム）', 'だいず ［豆腐・油揚げ類］ 絹ごし豆腐 （凝固剤：硫酸カルシウム）', 'だいず ［豆腐・油揚げ類］ ソフト豆腐', 'だいず ［豆腐・油揚げ類］ 充てん豆腐', 'だいず ［豆腐・油揚げ類］ 沖縄豆腐', 'だいず ［豆腐・油揚げ類］ ゆし豆腐', 'だいず ［豆腐・油揚げ類］ 焼き豆腐', 'だいず ［豆腐・油揚げ類］ 生揚げ', 'だいず ［豆腐・油揚げ類］ 油揚げ 生', 'だいず ［豆腐・油揚げ類］ 油揚げ 油抜き 生', 'だいず ［豆腐・油揚げ類］ 油揚げ 油抜き ゆで', 'だいず ［豆腐・油揚げ類］ 油揚げ 油抜き 焼き', 'だいず ［豆腐・油揚げ類］ 油揚げ 甘煮', 'だいず ［豆腐・油揚げ類］ がんもどき', 'だいず ［豆腐・油揚げ類］ 凍り豆腐 乾', 'だいず ［豆腐・油揚げ類］ 凍り豆腐 水煮', 'だいず ［豆腐・油揚げ類］ 豆腐よう', 'だいず ［豆腐・油揚げ類］ 豆腐竹輪 蒸し', 'だいず ［豆腐・油揚げ類］ 豆腐竹輪 焼き', 'だいず ［豆腐・油揚げ類］ ろくじょう豆腐', 'だいず ［納豆類］ 糸引き納豆', 'だいず ［納豆類］ 挽きわり納豆', 'だいず ［納豆類］ 五斗納豆', 'だいず ［納豆類］ 寺納豆', 'だいず ［その他］ おから 生', 'だいず ［その他］ おから 乾燥', 'だいず ［その他］ 豆乳 豆乳', 'だいず ［その他］ 豆乳 調製豆乳', 'だいず ［その他］ 豆乳 豆乳飲料・麦芽コーヒー', 'だいず ［その他］ 大豆たんぱく 粒状大豆たんぱく', 'だいず ［その他］ 大豆たんぱく 濃縮大豆たんぱく', 'だいず ［その他］ 大豆たんぱく 分離大豆たんぱく 塩分無調整タイプ', 'だいず ［その他］ 大豆たんぱく 分離大豆たんぱく 塩分調整タイプ', 'だいず ［その他］ 大豆たんぱく 繊維状大豆たんぱく', 'だいず ［その他］ 湯葉 生', 'だいず ［その他］ 湯葉 干し 乾', 'だいず ［その他］ 湯葉 干し 湯戻し', 'だいず ［その他］ 金山寺みそ', 'だいず ［その他］ ひしおみそ', 'だいず ［その他］ テンペ', 'つるあずき 全粒 乾', 'つるあずき 全粒 ゆで', 'ひよこまめ 全粒 乾', 'ひよこまめ 全粒 ゆで', 'ひよこまめ 全粒 フライ 味付け', 'べにばないんげん 全粒 乾', 'べにばないんげん 全粒 ゆで', 'やぶまめ 乾', 'らいまめ 全粒 乾', 'らいまめ 全粒 ゆで', 'りょくとう 全粒 乾', 'りょくとう 全粒 ゆで', 'レンズまめ 全粒 乾', 'レンズまめ 全粒 ゆで', 'アーモンド 乾', 'アーモンド フライ 味付け', 'アーモンド いり 無塩', 'あさ 乾', 'あまに いり', 'えごま 乾', 'カシューナッツ フライ 味付け', 'かぼちゃ いり 味付け', 'かや いり', 'ぎんなん 生', 'ぎんなん ゆで', '（くり類） 日本ぐり 生', '（くり類） 日本ぐり ゆで', '（くり類） 日本ぐり 甘露煮', '（くり類） 中国ぐり 甘ぐり', 'くるみ いり', 'けし 乾', 'ココナッツ ココナッツパウダー', 'ごま 乾', 'ごま いり', 'ごま むき', 'ごま ねり', 'しい 生', 'すいか いり 味付け', 'チアシード 乾', 'とち 蒸し', 'はす 未熟 生', 'はす 成熟 乾', 'はす 成熟 ゆで', '（ひし類） ひし 生', '（ひし類） とうびし 生', '（ひし類） とうびし ゆで', 'ピスタチオ いり 味付け', 'ひまわり フライ 味付け', 'ブラジルナッツ フライ 味付け', 'ヘーゼルナッツ フライ 味付け', 'ペカン フライ 味付け', 'マカダミアナッツ いり 味付け', 'まつ 生', 'まつ いり', 'らっかせい 大粒種 乾', 'らっかせい 大粒種 いり', 'らっかせい 小粒種 乾', 'らっかせい 小粒種 いり', 'らっかせい バターピーナッツ', 'らっかせい ピーナッツバター', 'アーティチョーク 花らい 生', 'アーティチョーク 花らい ゆで', 'あさつき 葉 生', 'あさつき 葉 ゆで', 'あしたば 茎葉 生', 'あしたば 茎葉 ゆで', 'アスパラガス 若茎 生', 'アスパラガス 若茎 ゆで', 'アスパラガス 若茎 油いため', 'アスパラガス 水煮缶詰', 'アロエ 葉 生', 'いんげんまめ さやいんげん 若ざや 生', 'いんげんまめ さやいんげん 若ざや ゆで', '（うど類） うど 茎 生', '（うど類） うど 茎 水さらし', '（うど類） やまうど 茎 生', 'うるい 葉 生', 'えだまめ 生', 'えだまめ ゆで', 'えだまめ 冷凍', 'エンダイブ 葉 生', '（えんどう類） トウミョウ 茎葉 生', '（えんどう類） トウミョウ 芽ばえ 生', '（えんどう類） トウミョウ 芽ばえ ゆで', '（えんどう類） トウミョウ 芽ばえ 油いため', '（えんどう類） さやえんどう 若ざや 生', '（えんどう類） さやえんどう 若ざや ゆで', '（えんどう類） スナップえんどう 若ざや 生', '（えんどう類） グリンピース 生', '（えんどう類） グリンピース ゆで', '（えんどう類） グリンピース 冷凍', '（えんどう類） グリンピース 冷凍 ゆで', '（えんどう類） グリンピース 冷凍 油いため', '（えんどう類） グリンピース 水煮缶詰', 'おおさかしろな 葉 生', 'おおさかしろな 葉 ゆで', 'おおさかしろな 塩漬', 'おかひじき 茎葉 生', 'おかひじき 茎葉 ゆで', 'オクラ 果実 生', 'オクラ 果実 ゆで', 'かぶ 葉 生', 'かぶ 葉 ゆで', 'かぶ 根 皮つき 生', 'かぶ 根 皮つき ゆで', 'かぶ 根 皮なし 生', 'かぶ 根 皮なし ゆで', 'かぶ 漬物 塩漬 葉', 'かぶ 漬物 塩漬 根 皮つき', 'かぶ 漬物 塩漬 根 皮なし', 'かぶ 漬物 ぬかみそ漬 葉', 'かぶ 漬物 ぬかみそ漬 根 皮つき', 'かぶ 漬物 ぬかみそ漬 根 皮なし', '（かぼちゃ類） 日本かぼちゃ 果実 生', '（かぼちゃ類） 日本かぼちゃ 果実 ゆで', '（かぼちゃ類） 西洋かぼちゃ 果実 生', '（かぼちゃ類） 西洋かぼちゃ 果実 ゆで', '（かぼちゃ類） 西洋かぼちゃ 果実 焼き', '（かぼちゃ類） 西洋かぼちゃ 果実 冷凍', '（かぼちゃ類） そうめんかぼちゃ 果実 生', 'からしな 葉 生', 'からしな 塩漬', 'カリフラワー 花序 生', 'カリフラワー 花序 ゆで', 'かんぴょう 乾', 'かんぴょう ゆで', 'かんぴょう 甘煮', 'きく 花びら 生', 'きく 花びら ゆで', 'きく 菊のり', '（キャベツ類） キャベツ 結球葉 生', '（キャベツ類） キャベツ 結球葉 ゆで', '（キャベツ類） キャベツ 結球葉 油いため', '（キャベツ類） グリーンボール 結球葉 生', '（キャベツ類） レッドキャベツ 結球葉 生', 'きゅうり 果実 生', 'きゅうり 漬物 塩漬', 'きゅうり 漬物 しょうゆ漬', 'きゅうり 漬物 ぬかみそ漬', 'きゅうり 漬物 ピクルス スイート型', 'きゅうり 漬物 ピクルス サワー型', 'ぎょうじゃにんにく 葉 生', 'キンサイ 茎葉 生', 'キンサイ 茎葉 ゆで', 'クレソン 茎葉 生', 'くわい 塊茎 生', 'くわい 塊茎 ゆで', 'ケール 葉 生', 'コールラビ 球茎 生', 'コールラビ 球茎 ゆで', 'こごみ 若芽 生', 'ごぼう 根 生', 'ごぼう 根 ゆで', 'こまつな 葉 生', 'こまつな 葉 ゆで', 'コリアンダー 葉 生', 'ザーサイ 漬物', 'さんとうさい 葉 生', 'さんとうさい 葉 ゆで', 'さんとうさい 塩漬', 'しかくまめ 若ざや 生', 'ししとう 果実 生', 'ししとう 果実 油いため', 'しそ 葉 生', 'しそ 実 生', 'じゅうろくささげ 若ざや 生', 'じゅうろくささげ 若ざや ゆで', 'しゅんぎく 葉 生', 'しゅんぎく 葉 ゆで', 'じゅんさい 若葉 水煮びん詰', '（しょうが類） 葉しょうが 根茎 生', '（しょうが類） しょうが 根茎 皮なし 生', '（しょうが類） しょうが 根茎 皮なし 生 おろし', '（しょうが類） しょうが 根茎 皮なし 生 おろし汁', '（しょうが類） しょうが 漬物 酢漬', '（しょうが類） しょうが 漬物 甘酢漬', '（しょうが類） 新しょうが 根茎 生', 'しろうり 果実 生', 'しろうり 漬物 塩漬', 'しろうり 漬物 奈良漬', 'ずいき 生ずいき 生', 'ずいき 生ずいき ゆで', 'ずいき 干しずいき 乾', 'ずいき 干しずいき ゆで', 'すいぜんじな 葉 生', 'すぐきな 葉 生', 'すぐきな 根 生', 'すぐきな すぐき漬', 'ズッキーニ 果実 生', 'せり 茎葉 生', 'せり 茎葉 ゆで', 'セロリ 葉柄 生', 'ぜんまい 生ぜんまい 若芽 生', 'ぜんまい 生ぜんまい 若芽 ゆで', 'ぜんまい 干しぜんまい 干し若芽 乾', 'ぜんまい 干しぜんまい 干し若芽 ゆで', 'そらまめ 未熟豆 生', 'そらまめ 未熟豆 ゆで', 'タアサイ 葉 生', 'タアサイ 葉 ゆで', '（だいこん類） かいわれだいこん 芽ばえ 生', '（だいこん類） 葉だいこん 葉 生', '（だいこん類） だいこん 葉 生', '（だいこん類） だいこん 葉 ゆで', '（だいこん類） だいこん 根 皮つき 生', '（だいこん類） だいこん 根 皮つき ゆで', '（だいこん類） だいこん 根 皮なし 生', '（だいこん類） だいこん 根 皮なし 生 おろし', '（だいこん類） だいこん 根 皮なし 生 おろし汁', '（だいこん類） だいこん 根 皮なし 生 おろし水洗い', '（だいこん類） だいこん 根 皮なし ゆで', '（だいこん類） 切干しだいこん 乾', '（だいこん類） 切干しだいこん ゆで', '（だいこん類） 切干しだいこん 油いため', '（だいこん類） 漬物 いぶりがっこ', '（だいこん類） 漬物 ぬかみそ漬', '（だいこん類） 漬物 たくあん漬 塩押しだいこん漬', '（だいこん類） 漬物 たくあん漬 干しだいこん漬', '（だいこん類） 漬物 守口漬', '（だいこん類） 漬物 べったら漬', '（だいこん類） 漬物 みそ漬', '（だいこん類） 漬物 福神漬', '（たいさい類） つまみな 葉 生', '（たいさい類） たいさい 葉 生', '（たいさい類） たいさい 塩漬', 'たかな 葉 生', 'たかな たかな漬', 'たけのこ 若茎 生', 'たけのこ 若茎 ゆで', 'たけのこ 水煮缶詰', 'たけのこ めんま 塩蔵 塩抜き', '（たまねぎ類） たまねぎ りん茎 生', '（たまねぎ類） たまねぎ りん茎 水さらし', '（たまねぎ類） たまねぎ りん茎 ゆで', '（たまねぎ類） たまねぎ りん茎 油いため', '（たまねぎ類） たまねぎ りん茎 油いため （あめ色たまねぎ）', '（たまねぎ類） 赤たまねぎ りん茎 生', '（たまねぎ類） 葉たまねぎ りん茎及び葉 生', 'たらのめ 若芽 生', 'たらのめ 若芽 ゆで', 'チコリ 若芽 生', 'ちぢみゆきな 葉 生', 'ちぢみゆきな 葉 ゆで', 'チンゲンサイ 葉 生', 'チンゲンサイ 葉 ゆで', 'チンゲンサイ 葉 油いため', 'つくし 胞子茎 生', 'つくし 胞子茎 ゆで', 'つるな 茎葉 生', 'つるにんじん 根 生', 'つるむらさき 茎葉 生', 'つるむらさき 茎葉 ゆで', 'つわぶき 葉柄 生', 'つわぶき 葉柄 ゆで', 'とうがらし 葉･果実 生', 'とうがらし 葉･果実 油いため', 'とうがらし 果実 生', 'とうがらし 果実 乾', 'とうがん 果実 生', 'とうがん 果実 ゆで', '（とうもろこし類） スイートコーン 未熟種子 生', '（とうもろこし類） スイートコーン 未熟種子 ゆで', '（とうもろこし類） スイートコーン 未熟種子 電子レンジ調理', '（とうもろこし類） スイートコーン 未熟種子 穂軸つき 冷凍', '（とうもろこし類） スイートコーン 未熟種子 カーネル 冷凍', '（とうもろこし類） スイートコーン 未熟種子 カーネル 冷凍 ゆで', '（とうもろこし類） スイートコーン 未熟種子 カーネル 冷凍 油いため', '（とうもろこし類） スイートコーン 缶詰 クリームスタイル', '（とうもろこし類） スイートコーン 缶詰 ホールカーネルスタイル', '（とうもろこし類） ヤングコーン 幼雌穂 生', '（トマト類） 赤色トマト 果実 生', '（トマト類） 赤色ミニトマト 果実 生', '（トマト類） 黄色トマト 果実 生', '（トマト類） ドライトマト', '（トマト類） 加工品 ホール 食塩無添加', '（トマト類） 加工品 トマトジュース 食塩添加', '（トマト類） 加工品 トマトジュース 食塩無添加', '（トマト類） 加工品 ミックスジュース 食塩添加', '（トマト類） 加工品 ミックスジュース 食塩無添加', 'トレビス 葉 生', 'とんぶり ゆで', 'ながさきはくさい 葉 生', 'ながさきはくさい 葉 ゆで', '（なす類） なす 果実 生', '（なす類） なす 果実 ゆで', '（なす類） なす 果実 油いため', '（なす類） なす 果実 天ぷら', '（なす類） べいなす 果実 生', '（なす類） べいなす 果実 素揚げ', '（なす類） 漬物 塩漬', '（なす類） 漬物 ぬかみそ漬', '（なす類） 漬物 こうじ漬', '（なす類） 漬物 からし漬', '（なす類） 漬物 しば漬', 'なずな 葉 生', '（なばな類） 和種なばな 花らい・茎 生', '（なばな類） 和種なばな 花らい・茎 ゆで', '（なばな類） 洋種なばな 茎葉 生', '（なばな類） 洋種なばな 茎葉 ゆで', 'にがうり 果実 生', 'にがうり 果実 油いため', '（にら類） にら 葉 生', '（にら類） にら 葉 ゆで', '（にら類） にら 葉 油いため', '（にら類） 花にら 花茎・花らい 生', '（にら類） 黄にら 葉 生', '（にんじん類） 葉にんじん 葉 生', '（にんじん類） にんじん 根 皮つき 生', '（にんじん類） にんじん 根 皮つき ゆで', '（にんじん類） にんじん 根 皮なし 生', '（にんじん類） にんじん 根 皮なし ゆで', '（にんじん類） にんじん 根 皮なし 油いため', '（にんじん類） にんじん 根 皮なし 素揚げ', '（にんじん類） にんじん 根 皮 生', '（にんじん類） にんじん 根 冷凍', '（にんじん類） にんじん 根 冷凍 ゆで', '（にんじん類） にんじん 根 冷凍 油いため', '（にんじん類） にんじん グラッセ', '（にんじん類） にんじん ジュース 缶詰', '（にんじん類） きんとき 根 皮つき 生', '（にんじん類） きんとき 根 皮つき ゆで', '（にんじん類） きんとき 根 皮なし 生', '（にんじん類） きんとき 根 皮なし ゆで', '（にんじん類） ミニキャロット 根 生', '（にんにく類） にんにく りん茎 生', '（にんにく類） にんにく りん茎 油いため', '（にんにく類） 茎にんにく 花茎 生', '（にんにく類） 茎にんにく 花茎 ゆで', '（ねぎ類） 根深ねぎ 葉 軟白 生', '（ねぎ類） 根深ねぎ 葉 軟白 ゆで', '（ねぎ類） 根深ねぎ 葉 軟白 油いため', '（ねぎ類） 葉ねぎ 葉 生', '（ねぎ類） 葉ねぎ 葉 油いため', '（ねぎ類） こねぎ 葉 生', 'のざわな 葉 生', 'のざわな 漬物 塩漬', 'のざわな 漬物 調味漬', 'のびる りん茎葉 生', 'はくさい 結球葉 生', 'はくさい 結球葉 ゆで', 'はくさい 漬物 塩漬', 'はくさい 漬物 キムチ', 'パクチョイ 葉 生', 'バジル 葉 生', 'パセリ 葉 生', 'はつかだいこん 根 生', 'はなっこりー 生', 'はやとうり 果実 白色種 生', 'はやとうり 果実 白色種 塩漬', 'はやとうり 果実 緑色種 生', 'ビーツ 根 生', 'ビーツ 根 ゆで', '（ピーマン類） 青ピーマン 果実 生', '（ピーマン類） 青ピーマン 果実 油いため', '（ピーマン類） 赤ピーマン 果実 生', '（ピーマン類） 赤ピーマン 果実 油いため', '（ピーマン類） オレンジピーマン 果実 生', '（ピーマン類） オレンジピーマン 果実 油いため', '（ピーマン類） 黄ピーマン 果実 生', '（ピーマン類） 黄ピーマン 果実 油いため', '（ピーマン類） トマピー 果実 生', 'ひのな 根・茎葉 生', 'ひのな 根・茎葉 甘酢漬', 'ひろしまな 葉 生', 'ひろしまな 塩漬', '（ふき類） ふき 葉柄 生', '（ふき類） ふき 葉柄 ゆで', '（ふき類） ふきのとう 花序 生', '（ふき類） ふきのとう 花序 ゆで', 'ふじまめ 若ざや 生', 'ふだんそう 葉 生', 'ふだんそう 葉 ゆで', 'ブロッコリー 花序 生', 'ブロッコリー 花序 ゆで', 'ブロッコリー 花序 電子レンジ調理', 'ブロッコリー 花序 焼き', 'ブロッコリー 花序 油いため', 'ブロッコリー 芽ばえ 生', 'へちま 果実 生', 'へちま 果実 ゆで', 'ほうれんそう 葉 通年平均 生', 'ほうれんそう 葉 通年平均 ゆで', 'ほうれんそう 葉 通年平均 油いため', 'ほうれんそう 葉 夏採り 生', 'ほうれんそう 葉 夏採り ゆで', 'ほうれんそう 葉 冬採り 生', 'ほうれんそう 葉 冬採り ゆで', 'ほうれんそう 葉 冷凍', 'ほうれんそう 葉 冷凍 ゆで', 'ほうれんそう 葉 冷凍 油いため', 'ホースラディシュ 根茎 生', 'まこも 茎 生', 'みずかけな 葉 生', 'みずかけな 塩漬', 'みずな 葉 生', 'みずな 葉 ゆで', 'みずな 塩漬', '（みつば類） 切りみつば 葉 生', '（みつば類） 切りみつば 葉 ゆで', '（みつば類） 根みつば 葉 生', '（みつば類） 根みつば 葉 ゆで', '（みつば類） 糸みつば 葉 生', '（みつば類） 糸みつば 葉 ゆで', 'みぶな 葉 生', '（みょうが類） みょうが 花穂 生', '（みょうが類） みょうがたけ 茎葉 生', 'むかご 肉芽 生', 'めキャベツ 結球葉 生', 'めキャベツ 結球葉 ゆで', 'めたで 芽ばえ 生', '（もやし類） アルファルファもやし 生', '（もやし類） だいずもやし 生', '（もやし類） だいずもやし ゆで', '（もやし類） ブラックマッペもやし 生', '（もやし類） ブラックマッペもやし ゆで', '（もやし類） ブラックマッペもやし 油いため', '（もやし類） りょくとうもやし 生', '（もやし類） りょくとうもやし ゆで', 'モロヘイヤ 茎葉 生', 'モロヘイヤ 茎葉 ゆで', 'やぶまめ 生', 'やまごぼう みそ漬', 'ゆりね りん茎 生', 'ゆりね りん茎 ゆで', 'ようさい 茎葉 生', 'ようさい 茎葉 ゆで', 'よめな 葉 生', 'よもぎ 葉 生', 'よもぎ 葉 ゆで', 'らっかせい 未熟豆 生', 'らっかせい 未熟豆 ゆで', '（らっきょう類） らっきょう りん茎 生', '（らっきょう類） らっきょう 甘酢漬', '（らっきょう類） エシャレット りん茎 生', 'リーキ りん茎葉 生', 'リーキ りん茎葉 ゆで', 'ルッコラ 葉 生', 'ルバーブ 葉柄 生', 'ルバーブ 葉柄 ゆで', '（レタス類） レタス 土耕栽培 結球葉 生', '（レタス類） レタス 水耕栽培 結球葉 生', '（レタス類） サラダな 葉 生', '（レタス類） リーフレタス 葉 生', '（レタス類） サニーレタス 葉 生', '（レタス類） サンチュ 葉 生', '（レタス類） コスレタス 葉 生', 'れんこん 根茎 生', 'れんこん 根茎 ゆで', 'れんこん 甘酢れんこん', 'わけぎ 葉 生', 'わけぎ 葉 ゆで', 'わさび 根茎 生', 'わさび わさび漬', 'わらび 生わらび 生', 'わらび 生わらび ゆで', 'わらび 干しわらび 乾', '（その他） ミックスベジタブル 冷凍', '（その他） ミックスベジタブル 冷凍 ゆで', '（その他） ミックスベジタブル 冷凍 油いため', '（その他） 野菜ミックスジュース 通常タイプ', '（その他） 野菜ミックスジュース 濃縮タイプ', 'あけび 果肉 生', 'あけび 果皮 生', 'アサイー 冷凍 無糖', 'アセロラ 酸味種 生', 'アセロラ 甘味種 生', 'アセロラ 果実飲料 10%果汁入り飲料', 'アテモヤ 生', 'アボカド 生', 'あんず 生', 'あんず 乾', 'あんず 缶詰', 'あんず ジャム 高糖度', 'あんず ジャム 低糖度', 'いちご 生', 'いちご ジャム 高糖度', 'いちご ジャム 低糖度', 'いちご 乾', 'いちじく 生', 'いちじく 乾', 'いちじく 缶詰', 'うめ 生', 'うめ 梅漬 塩漬', 'うめ 梅漬 調味漬', 'うめ 梅干し 塩漬', 'うめ 梅干し 調味漬', 'うめ 梅びしお', 'うめ 果実飲料 20%果汁入り飲料', 'オリーブ 塩漬 グリーンオリーブ', 'オリーブ 塩漬 ブラックオリーブ', 'オリーブ 塩漬 スタッフドオリーブ', 'かき 甘がき 生', 'かき 渋抜きがき 生', 'かき 干しがき', 'かりん 生', '（かんきつ類） いよかん 砂じょう 生', '（かんきつ類） うんしゅうみかん じょうのう 早生 生', '（かんきつ類） うんしゅうみかん じょうのう 普通 生', '（かんきつ類） うんしゅうみかん 砂じょう 早生 生', '（かんきつ類） うんしゅうみかん 砂じょう 普通 生', '（かんきつ類） うんしゅうみかん 果実飲料 ストレートジュース', '（かんきつ類） うんしゅうみかん 果実飲料 濃縮還元ジュース', '（かんきつ類） うんしゅうみかん 果実飲料 果粒入りジュース', '（かんきつ類） うんしゅうみかん 果実飲料 50%果汁入り飲料', '（かんきつ類） うんしゅうみかん 果実飲料 20%果汁入り飲料', '（かんきつ類） うんしゅうみかん 缶詰 果肉', '（かんきつ類） うんしゅうみかん 缶詰 液汁', '（かんきつ類） オレンジ ネーブル 砂じょう 生', '（かんきつ類） オレンジ バレンシア 米国産 砂じょう 生', '（かんきつ類） オレンジ バレンシア 果実飲料 ストレートジュース', '（かんきつ類） オレンジ バレンシア 果実飲料 濃縮還元ジュース', '（かんきつ類） オレンジ バレンシア 果実飲料 50%果汁入り飲料', '（かんきつ類） オレンジ バレンシア 果実飲料 30%果汁入り飲料', '（かんきつ類） オレンジ バレンシア マーマレード 高糖度', '（かんきつ類） オレンジ バレンシア マーマレード 低糖度', '（かんきつ類） オレンジ 福原オレンジ 砂じょう 生', '（かんきつ類） オロブランコ 砂じょう 生', '（かんきつ類） かぼす 果汁 生', '（かんきつ類） かわちばんかん 砂じょう 生', '（かんきつ類） きよみ 砂じょう 生', '（かんきつ類） きんかん 全果 生', '（かんきつ類） グレープフルーツ 白肉種 砂じょう 生', '（かんきつ類） グレープフルーツ 紅肉種 砂じょう 生', '（かんきつ類） グレープフルーツ 果実飲料 ストレートジュース', '（かんきつ類） グレープフルーツ 果実飲料 濃縮還元ジュース', '（かんきつ類） グレープフルーツ 果実飲料 50%果汁入り飲料', '（かんきつ類） グレープフルーツ 果実飲料 20%果汁入り飲料', '（かんきつ類） グレープフルーツ 缶詰', '（かんきつ類） さんぼうかん 砂じょう 生', '（かんきつ類） シークヮーサー 果汁 生', '（かんきつ類） シークヮーサー 果実飲料 10%果汁入り飲料', '（かんきつ類） しらぬひ 砂じょう 生', '（かんきつ類） すだち 果皮 生', '（かんきつ類） すだち 果汁 生', '（かんきつ類） せとか 砂じょう 生', '（かんきつ類） セミノール 砂じょう 生', '（かんきつ類） だいだい 果汁 生', '（かんきつ類） なつみかん 砂じょう 生', '（かんきつ類） なつみかん 缶詰', '（かんきつ類） はっさく 砂じょう 生', '（かんきつ類） はるみ 砂じょう 生', '（かんきつ類） ひゅうがなつ じょうのう及びアルベド 生', '（かんきつ類） ひゅうがなつ 砂じょう 生', '（かんきつ類） ぶんたん 砂じょう 生', '（かんきつ類） ぶんたん ざぼん漬', '（かんきつ類） ぽんかん 砂じょう 生', '（かんきつ類） ゆず 果皮 生', '（かんきつ類） ゆず 果汁 生', '（かんきつ類） ライム 果汁 生', '（かんきつ類） レモン 全果 生', '（かんきつ類） レモン 果汁 生', 'キウイフルーツ 緑肉種 生', 'キウイフルーツ 黄肉種 生', 'きはだ 実 乾', 'キワノ 生', 'グァバ 赤肉種 生', 'グァバ 白肉種 生', 'グァバ 果実飲料 20%果汁入り飲料 （ネクター）', 'グァバ 果実飲料 10%果汁入り飲料', 'くこ 実 乾', 'ぐみ 生', 'ココナッツ ココナッツウォーター', 'ココナッツ ココナッツミルク', 'ココナッツ ナタデココ', 'さくらんぼ 国産 生', 'さくらんぼ 米国産 生', 'さくらんぼ 米国産 缶詰', 'ざくろ 生', 'すいか 赤肉種 生', 'すいか 黄肉種 生', '（すぐり類） カシス 冷凍', '（すぐり類） グーズベリー 生', 'スターフルーツ 生', '（すもも類） にほんすもも 生', '（すもも類） プルーン 生', '（すもも類） プルーン 乾', 'チェリモヤ 生', 'ドラゴンフルーツ 生', 'ドリアン 生', '（なし類） 日本なし 生', '（なし類） 日本なし 缶詰', '（なし類） 中国なし 生', '（なし類） 西洋なし 生', '（なし類） 西洋なし 缶詰', 'なつめ 乾', 'なつめやし 乾', 'パインアップル 生', 'パインアップル 焼き', 'パインアップル 果実飲料 ストレートジュース', 'パインアップル 果実飲料 濃縮還元ジュース', 'パインアップル 果実飲料 50%果汁入り飲料', 'パインアップル 果実飲料 10%果汁入り飲料', 'パインアップル 缶詰', 'パインアップル 砂糖漬', 'ハスカップ 生', 'パッションフルーツ 果汁 生', 'バナナ 生', 'バナナ 乾', 'パパイア 完熟 生', 'パパイア 未熟 生', 'びわ 生', 'びわ 缶詰', 'ぶどう 皮なし 生', 'ぶどう 皮つき 生', 'ぶどう 干しぶどう', 'ぶどう 果実飲料 ストレートジュース', 'ぶどう 果実飲料 濃縮還元ジュース', 'ぶどう 果実飲料 70%果汁入り飲料', 'ぶどう 果実飲料 10%果汁入り飲料', 'ぶどう 缶詰', 'ぶどう ジャム', 'ブルーベリー 生', 'ブルーベリー ジャム', 'ブルーベリー 乾', 'ホワイトサポテ 生', 'まくわうり 黄肉種 生', 'まくわうり 白肉種 生', 'マルメロ 生', 'マンゴー 生', 'マンゴー ドライマンゴー', 'マンゴスチン 生', 'メロン 温室メロン 生', 'メロン 露地メロン 緑肉種 生', 'メロン 露地メロン 赤肉種 生', '（もも類） もも 白肉種 生', '（もも類） もも 黄肉種 生', '（もも類） もも 果実飲料 30%果汁入り飲料 （ネクター）', '（もも類） もも 缶詰 白肉種 果肉', '（もも類） もも 缶詰 黄肉種 果肉', '（もも類） もも 缶詰 液汁', '（もも類） ネクタリン 生', 'やまもも 生', 'ライチー 生', 'ラズベリー 生', 'りゅうがん 乾', 'りんご 皮なし 生', 'りんご 皮つき 生', 'りんご 皮つき 焼き', 'りんご 果実飲料 ストレートジュース', 'りんご 果実飲料 濃縮還元ジュース', 'りんご 果実飲料 50%果汁入り飲料', 'りんご 果実飲料 30%果汁入り飲料', 'りんご 缶詰', 'りんご ジャム', 'えのきたけ 生', 'えのきたけ ゆで', 'えのきたけ 油いため', 'えのきたけ 味付け瓶詰', '（きくらげ類） あらげきくらげ 生', '（きくらげ類） あらげきくらげ 乾', '（きくらげ類） あらげきくらげ ゆで', '（きくらげ類） あらげきくらげ 油いため', '（きくらげ類） きくらげ 乾', '（きくらげ類） きくらげ ゆで', '（きくらげ類） しろきくらげ 乾', '（きくらげ類） しろきくらげ ゆで', 'くろあわびたけ 生', 'しいたけ 生しいたけ 菌床栽培 生', 'しいたけ 生しいたけ 菌床栽培 ゆで', 'しいたけ 生しいたけ 菌床栽培 油いため', 'しいたけ 生しいたけ 菌床栽培 天ぷら', 'しいたけ 生しいたけ 原木栽培 生', 'しいたけ 生しいたけ 原木栽培 ゆで', 'しいたけ 生しいたけ 原木栽培 油いため', 'しいたけ 乾しいたけ 乾', 'しいたけ 乾しいたけ ゆで', 'しいたけ 乾しいたけ 甘煮', '（しめじ類） はたけしめじ 生', '（しめじ類） はたけしめじ ゆで', '（しめじ類） ぶなしめじ 生', '（しめじ類） ぶなしめじ ゆで', '（しめじ類） ぶなしめじ 油いため', '（しめじ類） ぶなしめじ 素揚げ', '（しめじ類） ぶなしめじ 天ぷら', '（しめじ類） ほんしめじ 生', '（しめじ類） ほんしめじ ゆで', 'たもぎたけ 生', 'なめこ 株採り 生', 'なめこ 株採り ゆで', 'なめこ カットなめこ 生', 'なめこ 水煮缶詰', 'ぬめりすぎたけ 生', '（ひらたけ類） うすひらたけ 生', '（ひらたけ類） エリンギ 生', '（ひらたけ類） エリンギ ゆで', '（ひらたけ類） エリンギ 焼き', '（ひらたけ類） エリンギ 油いため', '（ひらたけ類） ひらたけ 生', '（ひらたけ類） ひらたけ ゆで', 'まいたけ 生', 'まいたけ ゆで', 'まいたけ 油いため', 'まいたけ 乾', 'マッシュルーム 生', 'マッシュルーム ゆで', 'マッシュルーム 油いため', 'マッシュルーム 水煮缶詰', 'まつたけ 生', 'やなぎまつたけ 生', 'あおさ 素干し', 'あおのり 素干し', 'あまのり ほしのり', 'あまのり 焼きのり', 'あまのり 味付けのり', 'あらめ 蒸し干し', 'いわのり 素干し', 'うみぶどう 生', 'えごのり 素干し', 'えごのり おきうと', 'おごのり 塩蔵 塩抜き', 'かわのり 素干し', '（こんぶ類） えながおにこんぶ 素干し', '（こんぶ類） がごめこんぶ 素干し', '（こんぶ類） ながこんぶ 素干し', '（こんぶ類） ほそめこんぶ 素干し', '（こんぶ類） まこんぶ 素干し 乾', '（こんぶ類） まこんぶ 素干し 水煮', '（こんぶ類） みついしこんぶ 素干し', '（こんぶ類） りしりこんぶ 素干し', '（こんぶ類） 刻み昆布', '（こんぶ類） 削り昆布', '（こんぶ類） 塩昆布', '（こんぶ類） つくだ煮', 'すいぜんじのり 素干し 水戻し', 'てんぐさ 素干し', 'てんぐさ ところてん', 'てんぐさ 角寒天', 'てんぐさ 寒天', 'てんぐさ 粉寒天', 'とさかのり 赤とさか 塩蔵 塩抜き', 'とさかのり 青とさか 塩蔵 塩抜き', 'ひじき ほしひじき ステンレス釜 乾', 'ひじき ほしひじき ステンレス釜 ゆで', 'ひじき ほしひじき ステンレス釜 油いため', 'ひじき ほしひじき 鉄釜 乾', 'ひじき ほしひじき 鉄釜 ゆで', 'ひじき ほしひじき 鉄釜 油いため', 'ひとえぐさ 素干し', 'ひとえぐさ つくだ煮', 'ふのり 素干し', 'まつも 素干し', 'むかでのり 塩蔵 塩抜き', '（もずく類） おきなわもずく 塩蔵 塩抜き', '（もずく類） もずく 塩蔵 塩抜き', 'わかめ 原藻 生', 'わかめ 乾燥わかめ 素干し', 'わかめ 乾燥わかめ 素干し 水戻し', 'わかめ 乾燥わかめ 板わかめ', 'わかめ 乾燥わかめ 灰干し 水戻し', 'わかめ カットわかめ 乾', 'わかめ カットわかめ 水煮 （沸騰水で短時間加熱したもの）', 'わかめ カットわかめ 水煮の汁', 'わかめ 湯通し塩蔵わかめ 塩抜き 生', 'わかめ 湯通し塩蔵わかめ 塩抜き ゆで', 'わかめ くきわかめ 湯通し塩蔵 塩抜き', 'わかめ めかぶわかめ 生', '＜魚類＞ あいなめ 生', '＜魚類＞ あこうだい 生', '＜魚類＞ （あじ類） まあじ 皮つき 生', '＜魚類＞ （あじ類） まあじ 皮なし 生', '＜魚類＞ （あじ類） まあじ 皮つき 水煮', '＜魚類＞ （あじ類） まあじ 皮つき 焼き', '＜魚類＞ （あじ類） まあじ 皮つき フライ', '＜魚類＞ （あじ類） まあじ 開き干し 生', '＜魚類＞ （あじ類） まあじ 開き干し 焼き', '＜魚類＞ （あじ類） まあじ 小型 骨付き 生', '＜魚類＞ （あじ類） まあじ 小型 骨付き から揚げ', '＜魚類＞ （あじ類） まるあじ 生', '＜魚類＞ （あじ類） まるあじ 焼き', '＜魚類＞ （あじ類） にしまあじ 生', '＜魚類＞ （あじ類） にしまあじ 水煮', '＜魚類＞ （あじ類） にしまあじ 焼き', '＜魚類＞ （あじ類） むろあじ 生', '＜魚類＞ （あじ類） むろあじ 焼き', '＜魚類＞ （あじ類） むろあじ 開き干し', '＜魚類＞ （あじ類） むろあじ くさや', '＜魚類＞ あなご 生', '＜魚類＞ あなご 蒸し', '＜魚類＞ あまご 養殖 生', '＜魚類＞ あまだい 生', '＜魚類＞ あまだい 水煮', '＜魚類＞ あまだい 焼き', '＜魚類＞ あゆ 天然 生', '＜魚類＞ あゆ 天然 焼き', '＜魚類＞ あゆ 天然 内臓 生', '＜魚類＞ あゆ 天然 内臓 焼き', '＜魚類＞ あゆ 養殖 生', '＜魚類＞ あゆ 養殖 焼き', '＜魚類＞ あゆ 養殖 内臓 生', '＜魚類＞ あゆ 養殖 内臓 焼き', '＜魚類＞ あゆ うるか', '＜魚類＞ アラスカめぬけ 生', '＜魚類＞ あんこう 生', '＜魚類＞ あんこう きも 生', '＜魚類＞ いかなご 生', '＜魚類＞ いかなご 煮干し', '＜魚類＞ いかなご つくだ煮', '＜魚類＞ いかなご あめ煮', '＜魚類＞ いさき 生', '＜魚類＞ いしだい 生', '＜魚類＞ いとよりだい 生', '＜魚類＞ いとよりだい すり身', '＜魚類＞ いぼだい 生', '＜魚類＞ （いわし類） うるめいわし 生', '＜魚類＞ （いわし類） うるめいわし 丸干し', '＜魚類＞ （いわし類） かたくちいわし 生', '＜魚類＞ （いわし類） かたくちいわし 煮干し', '＜魚類＞ （いわし類） かたくちいわし 田作り', '＜魚類＞ （いわし類） まいわし 生', '＜魚類＞ （いわし類） まいわし 水煮', '＜魚類＞ （いわし類） まいわし 焼き', '＜魚類＞ （いわし類） まいわし フライ', '＜魚類＞ （いわし類） まいわし 塩いわし', '＜魚類＞ （いわし類） まいわし 生干し', '＜魚類＞ （いわし類） まいわし 丸干し', '＜魚類＞ （いわし類） めざし 生', '＜魚類＞ （いわし類） めざし 焼き', '＜魚類＞ （いわし類） しらす 生', '＜魚類＞ （いわし類） しらす 釜揚げしらす', '＜魚類＞ （いわし類） しらす干し 微乾燥品', '＜魚類＞ （いわし類） しらす干し 半乾燥品', '＜魚類＞ （いわし類） たたみいわし', '＜魚類＞ （いわし類） みりん干し かたくちいわし', '＜魚類＞ （いわし類） みりん干し まいわし', '＜魚類＞ （いわし類） 缶詰 水煮', '＜魚類＞ （いわし類） 缶詰 味付け', '＜魚類＞ （いわし類） 缶詰 トマト漬', '＜魚類＞ （いわし類） 缶詰 油漬', '＜魚類＞ （いわし類） 缶詰 かば焼', '＜魚類＞ （いわし類） 缶詰 アンチョビ', '＜魚類＞ いわな 養殖 生', '＜魚類＞ うぐい 生', '＜魚類＞ うなぎ 養殖 生', '＜魚類＞ うなぎ きも 生', '＜魚類＞ うなぎ 白焼き', '＜魚類＞ うなぎ かば焼', '＜魚類＞ うまづらはぎ 生', '＜魚類＞ うまづらはぎ 味付け開き干し', '＜魚類＞ えい 生', '＜魚類＞ えそ 生', '＜魚類＞ おいかわ 生', '＜魚類＞ おおさが 生', '＜魚類＞ おこぜ 生', '＜魚類＞ おひょう 生', '＜魚類＞ かさご 生', '＜魚類＞ かじか 生', '＜魚類＞ かじか 水煮', '＜魚類＞ かじか つくだ煮', '＜魚類＞ （かじき類） くろかじき 生', '＜魚類＞ （かじき類） まかじき 生', '＜魚類＞ （かじき類） めかじき 生', '＜魚類＞ （かじき類） めかじき 焼き', '＜魚類＞ （かつお類） かつお 春獲り 生', '＜魚類＞ （かつお類） かつお 秋獲り 生', '＜魚類＞ （かつお類） そうだがつお 生', '＜魚類＞ （かつお類） 加工品 なまり', '＜魚類＞ （かつお類） 加工品 なまり節', '＜魚類＞ （かつお類） 加工品 裸節', '＜魚類＞ （かつお類） 加工品 かつお節', '＜魚類＞ （かつお類） 加工品 削り節', '＜魚類＞ （かつお類） 加工品 削り節つくだ煮', '＜魚類＞ （かつお類） 加工品 角煮', '＜魚類＞ （かつお類） 加工品 塩辛', '＜魚類＞ （かつお類） 缶詰 味付け フレーク', '＜魚類＞ （かつお類） 缶詰 油漬 フレーク', '＜魚類＞ かます 生', '＜魚類＞ かます 焼き', '＜魚類＞ （かれい類） まがれい 生', '＜魚類＞ （かれい類） まがれい 水煮', '＜魚類＞ （かれい類） まがれい 焼き', '＜魚類＞ （かれい類） まこがれい 生', '＜魚類＞ （かれい類） まこがれい 焼き', '＜魚類＞ （かれい類） 子持ちがれい 生', '＜魚類＞ （かれい類） 子持ちがれい 水煮', '＜魚類＞ （かれい類） 干しかれい', '＜魚類＞ かわはぎ 生', '＜魚類＞ かんぱち 三枚おろし 生', '＜魚類＞ かんぱち 背側 生', '＜魚類＞ きす 生', '＜魚類＞ きす 天ぷら', '＜魚類＞ きちじ 生', '＜魚類＞ きびなご 生', '＜魚類＞ きびなご 調味干し', '＜魚類＞ キャビア 塩蔵品', '＜魚類＞ キングクリップ 生', '＜魚類＞ ぎんだら 生', '＜魚類＞ ぎんだら 水煮', '＜魚類＞ きんめだい 生', '＜魚類＞ ぐち 生', '＜魚類＞ ぐち 焼き', '＜魚類＞ こい 養殖 生', '＜魚類＞ こい 養殖 水煮', '＜魚類＞ こい 養殖 内臓 生', '＜魚類＞ （こち類） まごち 生', '＜魚類＞ （こち類） めごち 生', '＜魚類＞ このしろ 生', '＜魚類＞ このしろ 甘酢漬', '＜魚類＞ （さけ・ます類） からふとます 生', '＜魚類＞ （さけ・ます類） からふとます 焼き', '＜魚類＞ （さけ・ます類） からふとます 塩ます', '＜魚類＞ （さけ・ます類） からふとます 水煮缶詰', '＜魚類＞ （さけ・ます類） ぎんざけ 養殖 生', '＜魚類＞ （さけ・ます類） ぎんざけ 養殖 焼き', '＜魚類＞ （さけ・ます類） さくらます 生', '＜魚類＞ （さけ・ます類） さくらます 焼き', '＜魚類＞ （さけ・ます類） しろさけ 生', '＜魚類＞ （さけ・ます類） しろさけ 水煮', '＜魚類＞ （さけ・ます類） しろさけ 焼き', '＜魚類＞ （さけ・ます類） しろさけ 新巻き 生', '＜魚類＞ （さけ・ます類） しろさけ 新巻き 焼き', '＜魚類＞ （さけ・ます類） しろさけ 塩ざけ', '＜魚類＞ （さけ・ます類） しろさけ イクラ', '＜魚類＞ （さけ・ます類） しろさけ すじこ', '＜魚類＞ （さけ・ます類） しろさけ めふん', '＜魚類＞ （さけ・ます類） しろさけ 水煮缶詰', '＜魚類＞ （さけ・ます類） しろさけ サケ節 削り節', '＜魚類＞ （さけ・ます類） たいせいようさけ 養殖 皮つき 生', '＜魚類＞ （さけ・ます類） たいせいようさけ 養殖 皮つき 水煮', '＜魚類＞ （さけ・ます類） たいせいようさけ 養殖 皮つき 蒸し', '＜魚類＞ （さけ・ます類） たいせいようさけ 養殖 皮つき 電子レンジ調理', '＜魚類＞ （さけ・ます類） たいせいようさけ 養殖 皮つき 焼き', '＜魚類＞ （さけ・ます類） たいせいようさけ 養殖 皮つき ソテー', '＜魚類＞ （さけ・ます類） たいせいようさけ 養殖 皮つき 天ぷら', '＜魚類＞ （さけ・ます類） たいせいようさけ 養殖 皮なし 生', '＜魚類＞ （さけ・ます類） たいせいようさけ 養殖 皮なし 水煮', '＜魚類＞ （さけ・ます類） たいせいようさけ 養殖 皮なし 蒸し', '＜魚類＞ （さけ・ます類） たいせいようさけ 養殖 皮なし 電子レンジ調理', '＜魚類＞ （さけ・ます類） たいせいようさけ 養殖 皮なし 焼き', '＜魚類＞ （さけ・ます類） たいせいようさけ 養殖 皮なし ソテー', '＜魚類＞ （さけ・ます類） たいせいようさけ 養殖 皮なし 天ぷら', '＜魚類＞ （さけ・ます類） にじます 海面養殖 皮つき 生', '＜魚類＞ （さけ・ます類） にじます 海面養殖 皮なし 生', '＜魚類＞ （さけ・ます類） にじます 海面養殖 皮つき 焼き', '＜魚類＞ （さけ・ます類） にじます 淡水養殖 皮つき 生', '＜魚類＞ （さけ・ます類） べにざけ 生', '＜魚類＞ （さけ・ます類） べにざけ 焼き', '＜魚類＞ （さけ・ます類） べにざけ くん製', '＜魚類＞ （さけ・ます類） ますのすけ 生', '＜魚類＞ （さけ・ます類） ますのすけ 焼き', '＜魚類＞ （さば類） まさば 生', '＜魚類＞ （さば類） まさば 水煮', '＜魚類＞ （さば類） まさば 焼き', '＜魚類＞ （さば類） まさば フライ', '＜魚類＞ （さば類） ごまさば 生', '＜魚類＞ （さば類） ごまさば 水煮', '＜魚類＞ （さば類） ごまさば 焼き', '＜魚類＞ （さば類） ごまさば さば節', '＜魚類＞ （さば類） たいせいようさば 生', '＜魚類＞ （さば類） たいせいようさば 水煮', '＜魚類＞ （さば類） たいせいようさば 焼き', '＜魚類＞ （さば類） 加工品 塩さば', '＜魚類＞ （さば類） 加工品 開き干し', '＜魚類＞ （さば類） 加工品 しめさば', '＜魚類＞ （さば類） 缶詰 水煮', '＜魚類＞ （さば類） 缶詰 みそ煮', '＜魚類＞ （さば類） 缶詰 味付け', '＜魚類＞ （さめ類） あぶらつのざめ 生', '＜魚類＞ （さめ類） よしきりざめ 生', '＜魚類＞ （さめ類） ふかひれ', '＜魚類＞ さより 生', '＜魚類＞ さわら 生', '＜魚類＞ さわら 焼き', '＜魚類＞ さんま 皮つき 生', '＜魚類＞ さんま 皮なし 生', '＜魚類＞ さんま 皮つき 焼き', '＜魚類＞ さんま 開き干し', '＜魚類＞ さんま みりん干し', '＜魚類＞ さんま 缶詰 味付け', '＜魚類＞ さんま 缶詰 かば焼', '＜魚類＞ しいら 生', '＜魚類＞ （ししゃも類） ししゃも 生干し 生', '＜魚類＞ （ししゃも類） ししゃも 生干し 焼き', '＜魚類＞ （ししゃも類） からふとししゃも 生干し 生', '＜魚類＞ （ししゃも類） からふとししゃも 生干し 焼き', '＜魚類＞ したびらめ 生', '＜魚類＞ しまあじ 養殖 生', '＜魚類＞ しらうお 生', '＜魚類＞ シルバー 生', '＜魚類＞ すずき 生', '＜魚類＞ （たい類） きだい 生', '＜魚類＞ （たい類） くろだい 生', '＜魚類＞ （たい類） ちだい 生', '＜魚類＞ （たい類） まだい 天然 生', '＜魚類＞ （たい類） まだい 養殖 皮つき 生', '＜魚類＞ （たい類） まだい 養殖 皮つき 水煮', '＜魚類＞ （たい類） まだい 養殖 皮つき 焼き', '＜魚類＞ （たい類） まだい 養殖 皮なし 生', '＜魚類＞ たかさご 生', '＜魚類＞ たかべ 生', '＜魚類＞ たちうお 生', '＜魚類＞ （たら類） すけとうだら 生', '＜魚類＞ （たら類） すけとうだら フライ', '＜魚類＞ （たら類） すけとうだら すり身', '＜魚類＞ （たら類） すけとうだら すきみだら', '＜魚類＞ （たら類） すけとうだら たらこ 生', '＜魚類＞ （たら類） すけとうだら たらこ 焼き', '＜魚類＞ （たら類） すけとうだら からしめんたいこ', '＜魚類＞ （たら類） まだら 生', '＜魚類＞ （たら類） まだら 焼き', '＜魚類＞ （たら類） まだら しらこ 生', '＜魚類＞ （たら類） まだら 塩だら', '＜魚類＞ （たら類） まだら 干しだら', '＜魚類＞ （たら類） 加工品 でんぶ', '＜魚類＞ （たら類） 加工品 桜でんぶ', '＜魚類＞ ちか 生', '＜魚類＞ どじょう 生', '＜魚類＞ どじょう 水煮', '＜魚類＞ とびうお 生', '＜魚類＞ とびうお 煮干し', '＜魚類＞ とびうお 焼き干し', '＜魚類＞ ナイルティラピア 生', '＜魚類＞ なまず 生', '＜魚類＞ にぎす 生', '＜魚類＞ にしん 生', '＜魚類＞ にしん 身欠きにしん', '＜魚類＞ にしん 開き干し', '＜魚類＞ にしん くん製', '＜魚類＞ にしん かずのこ 生', '＜魚類＞ にしん かずのこ 乾', '＜魚類＞ にしん かずのこ 塩蔵 水戻し', '＜魚類＞ はぜ 生', '＜魚類＞ はぜ つくだ煮', '＜魚類＞ はぜ 甘露煮', '＜魚類＞ はたはた 生', '＜魚類＞ はたはた 生干し', '＜魚類＞ はまふえふき 生', '＜魚類＞ はも 生', '＜魚類＞ ひらまさ 生', '＜魚類＞ ひらめ 天然 生', '＜魚類＞ ひらめ 養殖 皮つき 生', '＜魚類＞ ひらめ 養殖 皮なし 生', '＜魚類＞ （ふぐ類） とらふぐ 養殖 生', '＜魚類＞ （ふぐ類） まふぐ 生', '＜魚類＞ ふな 生', '＜魚類＞ ふな 水煮', '＜魚類＞ ふな 甘露煮', '＜魚類＞ ふな ふなずし', '＜魚類＞ ぶり 成魚 生', '＜魚類＞ ぶり 成魚 焼き', '＜魚類＞ ぶり はまち 養殖 皮つき 生', '＜魚類＞ ぶり はまち 養殖 皮なし 生', '＜魚類＞ ほうぼう 生', '＜魚類＞ ホキ 生', '＜魚類＞ ほっけ 生', '＜魚類＞ ほっけ 塩ほっけ', '＜魚類＞ ほっけ 開き干し 生', '＜魚類＞ ほっけ 開き干し 焼き', '＜魚類＞ ぼら 生', '＜魚類＞ ぼら からすみ', '＜魚類＞ ほんもろこ 生', '＜魚類＞ （まぐろ類） きはだ 生', '＜魚類＞ （まぐろ類） くろまぐろ 天然 赤身 生', '＜魚類＞ （まぐろ類） くろまぐろ 天然 脂身 生', '＜魚類＞ （まぐろ類） くろまぐろ 養殖 赤身 生', '＜魚類＞ （まぐろ類） くろまぐろ 養殖 赤身 水煮', '＜魚類＞ （まぐろ類） くろまぐろ 養殖 赤身 蒸し', '＜魚類＞ （まぐろ類） くろまぐろ 養殖 赤身 電子レンジ調理', '＜魚類＞ （まぐろ類） くろまぐろ 養殖 赤身 焼き', '＜魚類＞ （まぐろ類） くろまぐろ 養殖 赤身 ソテー', '＜魚類＞ （まぐろ類） くろまぐろ 養殖 赤身 天ぷら', '＜魚類＞ （まぐろ類） びんなが 生', '＜魚類＞ （まぐろ類） みなみまぐろ 赤身 生', '＜魚類＞ （まぐろ類） みなみまぐろ 脂身 生', '＜魚類＞ （まぐろ類） めじまぐろ 生', '＜魚類＞ （まぐろ類） めばち 赤身 生', '＜魚類＞ （まぐろ類） めばち 脂身 生', '＜魚類＞ （まぐろ類） 缶詰 水煮 フレーク ライト', '＜魚類＞ （まぐろ類） 缶詰 水煮 フレーク ホワイト', '＜魚類＞ （まぐろ類） 缶詰 味付け フレーク', '＜魚類＞ （まぐろ類） 缶詰 油漬 フレーク ライト', '＜魚類＞ （まぐろ類） 缶詰 油漬 フレーク ホワイト', '＜魚類＞ マジェランあいなめ 生', '＜魚類＞ まながつお 生', '＜魚類＞ みなみくろたち 生', '＜魚類＞ みなみだら 生', '＜魚類＞ むつ 生', '＜魚類＞ むつ 水煮', '＜魚類＞ めじな 生', '＜魚類＞ めばる 生', '＜魚類＞ メルルーサ 生', '＜魚類＞ やつめうなぎ 生', '＜魚類＞ やつめうなぎ 干しやつめ', '＜魚類＞ やまめ 養殖 生', '＜魚類＞ わかさぎ 生', '＜魚類＞ わかさぎ つくだ煮', '＜魚類＞ わかさぎ あめ煮', '＜貝類＞ あかがい 生', '＜貝類＞ あげまき 生', '＜貝類＞ あさり 生', '＜貝類＞ あさり つくだ煮', '＜貝類＞ あさり 缶詰 水煮', '＜貝類＞ あさり 缶詰 味付け', '＜貝類＞ あわび くろあわび 生', '＜貝類＞ あわび まだかあわび 生', '＜貝類＞ あわび めがいあわび 生', '＜貝類＞ あわび 干し', '＜貝類＞ あわび 塩辛', '＜貝類＞ あわび 水煮缶詰', '＜貝類＞ いがい 生', '＜貝類＞ いたやがい 養殖 生', '＜貝類＞ エスカルゴ 水煮缶詰', '＜貝類＞ かき 養殖 生', '＜貝類＞ かき 養殖 水煮', '＜貝類＞ かき 養殖 フライ', '＜貝類＞ かき くん製油漬缶詰', '＜貝類＞ さざえ 生', '＜貝類＞ さざえ 焼き', '＜貝類＞ さるぼう 味付け缶詰', '＜貝類＞ しじみ 生', '＜貝類＞ しじみ 水煮', '＜貝類＞ たいらがい 貝柱 生', '＜貝類＞ たにし 生', '＜貝類＞ つぶ 生', '＜貝類＞ とこぶし 生', '＜貝類＞ とりがい 斧足 生', '＜貝類＞ ばい 生', '＜貝類＞ ばかがい 生', '＜貝類＞ （はまぐり類） はまぐり 生', '＜貝類＞ （はまぐり類） はまぐり 水煮', '＜貝類＞ （はまぐり類） はまぐり 焼き', '＜貝類＞ （はまぐり類） はまぐり つくだ煮', '＜貝類＞ （はまぐり類） ちょうせんはまぐり 生', '＜貝類＞ ほたてがい 生', '＜貝類＞ ほたてがい 水煮', '＜貝類＞ ほたてがい 貝柱 生', '＜貝類＞ ほたてがい 貝柱 焼き', '＜貝類＞ ほたてがい 貝柱 煮干し', '＜貝類＞ ほたてがい 貝柱 水煮缶詰', '＜貝類＞ ほっきがい 生', '＜貝類＞ みるがい 水管 生', '＜えび・かに類＞ （えび類） あまえび 生', '＜えび・かに類＞ （えび類） いせえび 生', '＜えび・かに類＞ （えび類） くるまえび 養殖 生', '＜えび・かに類＞ （えび類） くるまえび 養殖 ゆで', '＜えび・かに類＞ （えび類） くるまえび 養殖 焼き', '＜えび・かに類＞ （えび類） さくらえび 生', '＜えび・かに類＞ （えび類） さくらえび ゆで', '＜えび・かに類＞ （えび類） さくらえび 素干し', '＜えび・かに類＞ （えび類） さくらえび 煮干し', '＜えび・かに類＞ （えび類） 大正えび 生', '＜えび・かに類＞ （えび類） しばえび 生', '＜えび・かに類＞ （えび類） バナメイえび 養殖 生', '＜えび・かに類＞ （えび類） バナメイえび 養殖 天ぷら', '＜えび・かに類＞ （えび類） ブラックタイガー 養殖 生', '＜えび・かに類＞ （えび類） 加工品 干しえび', '＜えび・かに類＞ （えび類） 加工品 つくだ煮', '＜えび・かに類＞ （かに類） がざみ 生', '＜えび・かに類＞ （かに類） 毛がに 生', '＜えび・かに類＞ （かに類） 毛がに ゆで', '＜えび・かに類＞ （かに類） ずわいがに 生', '＜えび・かに類＞ （かに類） ずわいがに ゆで', '＜えび・かに類＞ （かに類） ずわいがに 水煮缶詰', '＜えび・かに類＞ （かに類） たらばがに 生', '＜えび・かに類＞ （かに類） たらばがに ゆで', '＜えび・かに類＞ （かに類） たらばがに 水煮缶詰', '＜えび・かに類＞ （かに類） 加工品 がん漬', '＜いか・たこ類＞ （いか類） あかいか 生', '＜いか・たこ類＞ （いか類） けんさきいか 生', '＜いか・たこ類＞ （いか類） こういか 生', '＜いか・たこ類＞ （いか類） するめいか 生', '＜いか・たこ類＞ （いか類） するめいか 水煮', '＜いか・たこ類＞ （いか類） するめいか 焼き', '＜いか・たこ類＞ （いか類） するめいか 胴 皮つき 生', '＜いか・たこ類＞ （いか類） するめいか 胴 皮なし 生', '＜いか・たこ類＞ （いか類） するめいか 胴 皮なし 天ぷら', '＜いか・たこ類＞ （いか類） するめいか 耳・足 生', '＜いか・たこ類＞ （いか類） ほたるいか 生', '＜いか・たこ類＞ （いか類） ほたるいか ゆで', '＜いか・たこ類＞ （いか類） ほたるいか くん製', '＜いか・たこ類＞ （いか類） ほたるいか つくだ煮', '＜いか・たこ類＞ （いか類） やりいか 生', '＜いか・たこ類＞ （いか類） 加工品 するめ', '＜いか・たこ類＞ （いか類） 加工品 さきいか', '＜いか・たこ類＞ （いか類） 加工品 くん製', '＜いか・たこ類＞ （いか類） 加工品 切りいかあめ煮', '＜いか・たこ類＞ （いか類） 加工品 いかあられ', '＜いか・たこ類＞ （いか類） 加工品 塩辛', '＜いか・たこ類＞ （いか類） 加工品 味付け缶詰', '＜いか・たこ類＞ （たこ類） いいだこ 生', '＜いか・たこ類＞ （たこ類） まだこ 生', '＜いか・たこ類＞ （たこ類） まだこ ゆで', '＜いか・たこ類＞ （たこ類） みずだこ 生', '＜その他＞ あみ つくだ煮', '＜その他＞ あみ 塩辛', '＜その他＞ うに 生うに', '＜その他＞ うに 粒うに', '＜その他＞ うに 練りうに', '＜その他＞ おきあみ 生', '＜その他＞ おきあみ ゆで', '＜その他＞ くらげ 塩蔵 塩抜き', '＜その他＞ しゃこ ゆで', '＜その他＞ なまこ 生', '＜その他＞ なまこ このわた', '＜その他＞ ほや 生', '＜その他＞ ほや 塩辛', '＜水産練り製品＞ かに風味かまぼこ', '＜水産練り製品＞ 黒はんぺん', '＜水産練り製品＞ 昆布巻きかまぼこ', '＜水産練り製品＞ す巻きかまぼこ', '＜水産練り製品＞ 蒸しかまぼこ', '＜水産練り製品＞ 焼き抜きかまぼこ', '＜水産練り製品＞ 焼き竹輪', '＜水産練り製品＞ だて巻', '＜水産練り製品＞ つみれ', '＜水産練り製品＞ なると', '＜水産練り製品＞ はんぺん', '＜水産練り製品＞ さつま揚げ', '＜水産練り製品＞ 魚肉ハム', '＜水産練り製品＞ 魚肉ソーセージ', '＜畜肉類＞ いのしし 肉 脂身つき 生', '＜畜肉類＞ いのぶた 肉 脂身つき 生', '＜畜肉類＞ うさぎ 肉 赤肉 生', '＜畜肉類＞ うし ［和牛肉］ かた 脂身つき 生', '＜畜肉類＞ うし ［和牛肉］ かた 皮下脂肪なし 生', '＜畜肉類＞ うし ［和牛肉］ かた 赤肉 生', '＜畜肉類＞ うし ［和牛肉］ かた 脂身 生', '＜畜肉類＞ うし ［和牛肉］ かたロース 脂身つき 生', '＜畜肉類＞ うし ［和牛肉］ かたロース 皮下脂肪なし 生', '＜畜肉類＞ うし ［和牛肉］ かたロース 赤肉 生', '＜畜肉類＞ うし ［和牛肉］ リブロース 脂身つき 生', '＜畜肉類＞ うし ［和牛肉］ リブロース 脂身つき ゆで', '＜畜肉類＞ うし ［和牛肉］ リブロース 脂身つき 焼き', '＜畜肉類＞ うし ［和牛肉］ リブロース 皮下脂肪なし 生', '＜畜肉類＞ うし ［和牛肉］ リブロース 赤肉 生', '＜畜肉類＞ うし ［和牛肉］ リブロース 脂身 生', '＜畜肉類＞ うし ［和牛肉］ サーロイン 脂身つき 生', '＜畜肉類＞ うし ［和牛肉］ サーロイン 皮下脂肪なし 生', '＜畜肉類＞ うし ［和牛肉］ サーロイン 赤肉 生', '＜畜肉類＞ うし ［和牛肉］ ばら 脂身つき 生', '＜畜肉類＞ うし ［和牛肉］ もも 脂身つき 生', '＜畜肉類＞ うし ［和牛肉］ もも 皮下脂肪なし 生', '＜畜肉類＞ うし ［和牛肉］ もも 皮下脂肪なし ゆで', '＜畜肉類＞ うし ［和牛肉］ もも 皮下脂肪なし 焼き', '＜畜肉類＞ うし ［和牛肉］ もも 赤肉 生', '＜畜肉類＞ うし ［和牛肉］ もも 脂身 生', '＜畜肉類＞ うし ［和牛肉］ そともも 脂身つき 生', '＜畜肉類＞ うし ［和牛肉］ そともも 皮下脂肪なし 生', '＜畜肉類＞ うし ［和牛肉］ そともも 赤肉 生', '＜畜肉類＞ うし ［和牛肉］ ランプ 脂身つき 生', '＜畜肉類＞ うし ［和牛肉］ ランプ 皮下脂肪なし 生', '＜畜肉類＞ うし ［和牛肉］ ランプ 赤肉 生', '＜畜肉類＞ うし ［和牛肉］ ヒレ 赤肉 生', '＜畜肉類＞ うし ［乳用肥育牛肉］ かた 脂身つき 生', '＜畜肉類＞ うし ［乳用肥育牛肉］ かた 脂身つき ゆで', '＜畜肉類＞ うし ［乳用肥育牛肉］ かた 脂身つき 焼き', '＜畜肉類＞ うし ［乳用肥育牛肉］ かた 皮下脂肪なし 生', '＜畜肉類＞ うし ［乳用肥育牛肉］ かた 赤肉 生', '＜畜肉類＞ うし ［乳用肥育牛肉］ かた 赤肉 ゆで', '＜畜肉類＞ うし ［乳用肥育牛肉］ かた 赤肉 焼き', '＜畜肉類＞ うし ［乳用肥育牛肉］ かた 脂身 生', '＜畜肉類＞ うし ［乳用肥育牛肉］ かたロース 脂身つき 生', '＜畜肉類＞ うし ［乳用肥育牛肉］ かたロース 皮下脂肪なし 生', '＜畜肉類＞ うし ［乳用肥育牛肉］ かたロース 赤肉 生', '＜畜肉類＞ うし ［乳用肥育牛肉］ リブロース 脂身つき 生', '＜畜肉類＞ うし ［乳用肥育牛肉］ リブロース 脂身つき ゆで', '＜畜肉類＞ うし ［乳用肥育牛肉］ リブロース 脂身つき 焼き', '＜畜肉類＞ うし ［乳用肥育牛肉］ リブロース 皮下脂肪なし 生', '＜畜肉類＞ うし ［乳用肥育牛肉］ リブロース 赤肉 生', '＜畜肉類＞ うし ［乳用肥育牛肉］ リブロース 脂身 生', '＜畜肉類＞ うし ［乳用肥育牛肉］ サーロイン 脂身つき 生', '＜畜肉類＞ うし ［乳用肥育牛肉］ サーロイン 皮下脂肪なし 生', '＜畜肉類＞ うし ［乳用肥育牛肉］ サーロイン 赤肉 生', '＜畜肉類＞ うし ［乳用肥育牛肉］ ばら 脂身つき 生', '＜畜肉類＞ うし ［乳用肥育牛肉］ ばら 脂身つき 焼き', '＜畜肉類＞ うし ［乳用肥育牛肉］ もも 脂身つき 生', '＜畜肉類＞ うし ［乳用肥育牛肉］ もも 皮下脂肪なし 生', '＜畜肉類＞ うし ［乳用肥育牛肉］ もも 皮下脂肪なし ゆで', '＜畜肉類＞ うし ［乳用肥育牛肉］ もも 皮下脂肪なし 焼き', '＜畜肉類＞ うし ［乳用肥育牛肉］ もも 赤肉 生', '＜畜肉類＞ うし ［乳用肥育牛肉］ もも 脂身 生', '＜畜肉類＞ うし ［乳用肥育牛肉］ そともも 脂身つき 生', '＜畜肉類＞ うし ［乳用肥育牛肉］ そともも 皮下脂肪なし 生', '＜畜肉類＞ うし ［乳用肥育牛肉］ そともも 赤肉 生', '＜畜肉類＞ うし ［乳用肥育牛肉］ ランプ 脂身つき 生', '＜畜肉類＞ うし ［乳用肥育牛肉］ ランプ 皮下脂肪なし 生', '＜畜肉類＞ うし ［乳用肥育牛肉］ ランプ 赤肉 生', '＜畜肉類＞ うし ［乳用肥育牛肉］ ヒレ 赤肉 生', '＜畜肉類＞ うし ［乳用肥育牛肉］ ヒレ 赤肉 焼き', '＜畜肉類＞ うし ［交雑牛肉］ リブロース 脂身つき 生', '＜畜肉類＞ うし ［交雑牛肉］ リブロース 脂身つき ゆで', '＜畜肉類＞ うし ［交雑牛肉］ リブロース 脂身つき 焼き', '＜畜肉類＞ うし ［交雑牛肉］ リブロース 皮下脂肪なし 生', '＜畜肉類＞ うし ［交雑牛肉］ リブロース 赤肉 生', '＜畜肉類＞ うし ［交雑牛肉］ リブロース 脂身 生', '＜畜肉類＞ うし ［交雑牛肉］ ばら 脂身つき 生', '＜畜肉類＞ うし ［交雑牛肉］ もも 脂身つき 生', '＜畜肉類＞ うし ［交雑牛肉］ もも 皮下脂肪なし 生', '＜畜肉類＞ うし ［交雑牛肉］ もも 皮下脂肪なし ゆで', '＜畜肉類＞ うし ［交雑牛肉］ もも 皮下脂肪なし 焼き', '＜畜肉類＞ うし ［交雑牛肉］ もも 赤肉 生', '＜畜肉類＞ うし ［交雑牛肉］ もも 脂身 生', '＜畜肉類＞ うし ［交雑牛肉］ ヒレ 赤肉 生', '＜畜肉類＞ うし ［輸入牛肉］ かた 脂身つき 生', '＜畜肉類＞ うし ［輸入牛肉］ かた 皮下脂肪なし 生', '＜畜肉類＞ うし ［輸入牛肉］ かた 赤肉 生', '＜畜肉類＞ うし ［輸入牛肉］ かた 脂身 生', '＜畜肉類＞ うし ［輸入牛肉］ かたロース 脂身つき 生', '＜畜肉類＞ うし ［輸入牛肉］ かたロース 皮下脂肪なし 生', '＜畜肉類＞ うし ［輸入牛肉］ かたロース 赤肉 生', '＜畜肉類＞ うし ［輸入牛肉］ リブロース 脂身つき 生', '＜畜肉類＞ うし ［輸入牛肉］ リブロース 脂身つき ゆで', '＜畜肉類＞ うし ［輸入牛肉］ リブロース 脂身つき 焼き', '＜畜肉類＞ うし ［輸入牛肉］ リブロース 皮下脂肪なし 生', '＜畜肉類＞ うし ［輸入牛肉］ リブロース 赤肉 生', '＜畜肉類＞ うし ［輸入牛肉］ リブロース 脂身 生', '＜畜肉類＞ うし ［輸入牛肉］ サーロイン 脂身つき 生', '＜畜肉類＞ うし ［輸入牛肉］ サーロイン 皮下脂肪なし 生', '＜畜肉類＞ うし ［輸入牛肉］ サーロイン 赤肉 生', '＜畜肉類＞ うし ［輸入牛肉］ ばら 脂身つき 生', '＜畜肉類＞ うし ［輸入牛肉］ もも 脂身つき 生', '＜畜肉類＞ うし ［輸入牛肉］ もも 皮下脂肪なし 生', '＜畜肉類＞ うし ［輸入牛肉］ もも 皮下脂肪なし ゆで', '＜畜肉類＞ うし ［輸入牛肉］ もも 皮下脂肪なし 焼き', '＜畜肉類＞ うし ［輸入牛肉］ もも 赤肉 生', '＜畜肉類＞ うし ［輸入牛肉］ もも 脂身 生', '＜畜肉類＞ うし ［輸入牛肉］ そともも 脂身つき 生', '＜畜肉類＞ うし ［輸入牛肉］ そともも 皮下脂肪なし 生', '＜畜肉類＞ うし ［輸入牛肉］ そともも 赤肉 生', '＜畜肉類＞ うし ［輸入牛肉］ ランプ 脂身つき 生', '＜畜肉類＞ うし ［輸入牛肉］ ランプ 皮下脂肪なし 生', '＜畜肉類＞ うし ［輸入牛肉］ ランプ 赤肉 生', '＜畜肉類＞ うし ［輸入牛肉］ ヒレ 赤肉 生', '＜畜肉類＞ うし ［子牛肉］ リブロース 皮下脂肪なし 生', '＜畜肉類＞ うし ［子牛肉］ ばら 皮下脂肪なし 生', '＜畜肉類＞ うし ［子牛肉］ もも 皮下脂肪なし 生', '＜畜肉類＞ うし ［ひき肉］ 生', '＜畜肉類＞ うし ［ひき肉］ 焼き', '＜畜肉類＞ うし ［副生物］ 舌 生', '＜畜肉類＞ うし ［副生物］ 舌 焼き', '＜畜肉類＞ うし ［副生物］ 心臓 生', '＜畜肉類＞ うし ［副生物］ 肝臓 生', '＜畜肉類＞ うし ［副生物］ じん臓 生', '＜畜肉類＞ うし ［副生物］ 第一胃 ゆで', '＜畜肉類＞ うし ［副生物］ 第二胃 ゆで', '＜畜肉類＞ うし ［副生物］ 第三胃 生', '＜畜肉類＞ うし ［副生物］ 第四胃 ゆで', '＜畜肉類＞ うし ［副生物］ 小腸 生', '＜畜肉類＞ うし ［副生物］ 大腸 生', '＜畜肉類＞ うし ［副生物］ 直腸 生', '＜畜肉類＞ うし ［副生物］ 腱 ゆで', '＜畜肉類＞ うし ［副生物］ 子宮 ゆで', '＜畜肉類＞ うし ［副生物］ 尾 生', '＜畜肉類＞ うし ［副生物］ 横隔膜 生', '＜畜肉類＞ うし ［副生物］ 横隔膜 ゆで', '＜畜肉類＞ うし ［副生物］ 横隔膜 焼き', '＜畜肉類＞ うし ［加工品］ ローストビーフ', '＜畜肉類＞ うし ［加工品］ コンビーフ缶詰', '＜畜肉類＞ うし ［加工品］ 味付け缶詰', '＜畜肉類＞ うし ［加工品］ ビーフジャーキー', '＜畜肉類＞ うし ［加工品］ スモークタン', '＜畜肉類＞ うま 肉 赤肉 生', '＜畜肉類＞ くじら 肉 赤肉 生', '＜畜肉類＞ くじら うねす 生', '＜畜肉類＞ くじら 本皮 生', '＜畜肉類＞ くじら さらしくじら', '＜畜肉類＞ しか あかしか 赤肉 生', '＜畜肉類＞ しか にほんじか 赤肉 生', '＜畜肉類＞ しか にほんじか えぞしか 赤肉 生', '＜畜肉類＞ しか にほんじか ほんしゅうじか・きゅうしゅうじか 赤肉 生', '＜畜肉類＞ ぶた ［大型種肉］ かた 脂身つき 生', '＜畜肉類＞ ぶた ［大型種肉］ かた 皮下脂肪なし 生', '＜畜肉類＞ ぶた ［大型種肉］ かた 赤肉 生', '＜畜肉類＞ ぶた ［大型種肉］ かた 脂身 生', '＜畜肉類＞ ぶた ［大型種肉］ かたロース 脂身つき 生', '＜畜肉類＞ ぶた ［大型種肉］ かたロース 皮下脂肪なし 生', '＜畜肉類＞ ぶた ［大型種肉］ かたロース 赤肉 生', '＜畜肉類＞ ぶた ［大型種肉］ かたロース 脂身 生', '＜畜肉類＞ ぶた ［大型種肉］ ロース 脂身つき 生', '＜畜肉類＞ ぶた ［大型種肉］ ロース 脂身つき ゆで', '＜畜肉類＞ ぶた ［大型種肉］ ロース 脂身つき 焼き', '＜畜肉類＞ ぶた ［大型種肉］ ロース 脂身つき とんかつ', '＜畜肉類＞ ぶた ［大型種肉］ ロース 皮下脂肪なし 生', '＜畜肉類＞ ぶた ［大型種肉］ ロース 赤肉 生', '＜畜肉類＞ ぶた ［大型種肉］ ロース 脂身 生', '＜畜肉類＞ ぶた ［大型種肉］ ばら 脂身つき 生', '＜畜肉類＞ ぶた ［大型種肉］ ばら 脂身つき 焼き', '＜畜肉類＞ ぶた ［大型種肉］ もも 脂身つき 生', '＜畜肉類＞ ぶた ［大型種肉］ もも 皮下脂肪なし 生', '＜畜肉類＞ ぶた ［大型種肉］ もも 皮下脂肪なし ゆで', '＜畜肉類＞ ぶた ［大型種肉］ もも 皮下脂肪なし 焼き', '＜畜肉類＞ ぶた ［大型種肉］ もも 赤肉 生', '＜畜肉類＞ ぶた ［大型種肉］ もも 脂身 生', '＜畜肉類＞ ぶた ［大型種肉］ そともも 脂身つき 生', '＜畜肉類＞ ぶた ［大型種肉］ そともも 皮下脂肪なし 生', '＜畜肉類＞ ぶた ［大型種肉］ そともも 赤肉 生', '＜畜肉類＞ ぶた ［大型種肉］ そともも 脂身 生', '＜畜肉類＞ ぶた ［大型種肉］ ヒレ 赤肉 生', '＜畜肉類＞ ぶた ［大型種肉］ ヒレ 赤肉 焼き', '＜畜肉類＞ ぶた ［大型種肉］ ヒレ 赤肉 とんかつ', '＜畜肉類＞ ぶた ［中型種肉］ かた 脂身つき 生', '＜畜肉類＞ ぶた ［中型種肉］ かた 皮下脂肪なし 生', '＜畜肉類＞ ぶた ［中型種肉］ かた 赤肉 生', '＜畜肉類＞ ぶた ［中型種肉］ かた 脂身 生', '＜畜肉類＞ ぶた ［中型種肉］ かたロース 脂身つき 生', '＜畜肉類＞ ぶた ［中型種肉］ かたロース 皮下脂肪なし 生', '＜畜肉類＞ ぶた ［中型種肉］ かたロース 赤肉 生', '＜畜肉類＞ ぶた ［中型種肉］ かたロース 脂身 生', '＜畜肉類＞ ぶた ［中型種肉］ ロース 脂身つき 生', '＜畜肉類＞ ぶた ［中型種肉］ ロース 皮下脂肪なし 生', '＜畜肉類＞ ぶた ［中型種肉］ ロース 赤肉 生', '＜畜肉類＞ ぶた ［中型種肉］ ロース 脂身 生', '＜畜肉類＞ ぶた ［中型種肉］ ばら 脂身つき 生', '＜畜肉類＞ ぶた ［中型種肉］ もも 脂身つき 生', '＜畜肉類＞ ぶた ［中型種肉］ もも 皮下脂肪なし 生', '＜畜肉類＞ ぶた ［中型種肉］ もも 赤肉 生', '＜畜肉類＞ ぶた ［中型種肉］ もも 脂身 生', '＜畜肉類＞ ぶた ［中型種肉］ そともも 脂身つき 生', '＜畜肉類＞ ぶた ［中型種肉］ そともも 皮下脂肪なし 生', '＜畜肉類＞ ぶた ［中型種肉］ そともも 赤肉 生', '＜畜肉類＞ ぶた ［中型種肉］ そともも 脂身 生', '＜畜肉類＞ ぶた ［中型種肉］ ヒレ 赤肉 生', '＜畜肉類＞ ぶた ［ひき肉］ 生', '＜畜肉類＞ ぶた ［ひき肉］ 焼き', '＜畜肉類＞ ぶた ［副生物］ 舌 生', '＜畜肉類＞ ぶた ［副生物］ 心臓 生', '＜畜肉類＞ ぶた ［副生物］ 肝臓 生', '＜畜肉類＞ ぶた ［副生物］ じん臓 生', '＜畜肉類＞ ぶた ［副生物］ 胃 ゆで', '＜畜肉類＞ ぶた ［副生物］ 小腸 ゆで', '＜畜肉類＞ ぶた ［副生物］ 大腸 ゆで', '＜畜肉類＞ ぶた ［副生物］ 子宮 生', '＜畜肉類＞ ぶた ［副生物］ 豚足 ゆで', '＜畜肉類＞ ぶた ［副生物］ 軟骨 ゆで', '＜畜肉類＞ ぶた ［ハム類］ 骨付きハム', '＜畜肉類＞ ぶた ［ハム類］ ボンレスハム', '＜畜肉類＞ ぶた ［ハム類］ ロースハム ロースハム', '＜畜肉類＞ ぶた ［ハム類］ ロースハム ゆで', '＜畜肉類＞ ぶた ［ハム類］ ロースハム 焼き', '＜畜肉類＞ ぶた ［ハム類］ ロースハム フライ', '＜畜肉類＞ ぶた ［ハム類］ ショルダーハム', '＜畜肉類＞ ぶた ［ハム類］ 生ハム 促成', '＜畜肉類＞ ぶた ［ハム類］ 生ハム 長期熟成', '＜畜肉類＞ ぶた ［プレスハム類］ プレスハム', '＜畜肉類＞ ぶた ［プレスハム類］ チョップドハム', '＜畜肉類＞ ぶた ［ベーコン類］ ばらベーコン', '＜畜肉類＞ ぶた ［ベーコン類］ ロースベーコン', '＜畜肉類＞ ぶた ［ベーコン類］ ショルダーベーコン', '＜畜肉類＞ ぶた ［ソーセージ類］ ウインナーソーセージ ウインナーソーセージ', '＜畜肉類＞ ぶた ［ソーセージ類］ ウインナーソーセージ ゆで', '＜畜肉類＞ ぶた ［ソーセージ類］ ウインナーソーセージ 焼き', '＜畜肉類＞ ぶた ［ソーセージ類］ ウインナーソーセージ フライ', '＜畜肉類＞ ぶた ［ソーセージ類］ セミドライソーセージ', '＜畜肉類＞ ぶた ［ソーセージ類］ ドライソーセージ', '＜畜肉類＞ ぶた ［ソーセージ類］ フランクフルトソーセージ', '＜畜肉類＞ ぶた ［ソーセージ類］ ボロニアソーセージ', '＜畜肉類＞ ぶた ［ソーセージ類］ リオナソーセージ', '＜畜肉類＞ ぶた ［ソーセージ類］ レバーソーセージ', '＜畜肉類＞ ぶた ［ソーセージ類］ 混合ソーセージ', '＜畜肉類＞ ぶた ［ソーセージ類］ 生ソーセージ', '＜畜肉類＞ ぶた ［その他］ 焼き豚', '＜畜肉類＞ ぶた ［その他］ レバーペースト', '＜畜肉類＞ ぶた ［その他］ スモークレバー', '＜畜肉類＞ ぶた ［その他］ ゼラチン', '＜畜肉類＞ めんよう ［マトン］ ロース 脂身つき 生', '＜畜肉類＞ めんよう ［マトン］ ロース 脂身つき 焼き', '＜畜肉類＞ めんよう ［マトン］ ロース 皮下脂肪なし 生', '＜畜肉類＞ めんよう ［マトン］ もも 脂身つき 生', '＜畜肉類＞ めんよう ［ラム］ かた 脂身つき 生', '＜畜肉類＞ めんよう ［ラム］ ロース 脂身つき 生', '＜畜肉類＞ めんよう ［ラム］ ロース 脂身つき 焼き', '＜畜肉類＞ めんよう ［ラム］ ロース 皮下脂肪なし 生', '＜畜肉類＞ めんよう ［ラム］ もも 脂身つき 生', '＜畜肉類＞ めんよう ［ラム］ もも 脂身つき 焼き', '＜畜肉類＞ めんよう 混合プレスハム', '＜畜肉類＞ やぎ 肉 赤肉 生', '＜鳥肉類＞ うずら 肉 皮つき 生', '＜鳥肉類＞ がちょう フォアグラ ゆで', '＜鳥肉類＞ かも まがも 肉 皮なし 生', '＜鳥肉類＞ かも あいがも 肉 皮つき 生', '＜鳥肉類＞ かも あひる 肉 皮つき 生', '＜鳥肉類＞ かも あひる 肉 皮なし 生', '＜鳥肉類＞ かも あひる 皮 生', '＜鳥肉類＞ きじ 肉 皮なし 生', '＜鳥肉類＞ しちめんちょう 肉 皮なし 生', '＜鳥肉類＞ すずめ 肉 骨・皮つき 生', '＜鳥肉類＞ にわとり ［親・主品目］ 手羽 皮つき 生', '＜鳥肉類＞ にわとり ［親・主品目］ むね 皮つき 生', '＜鳥肉類＞ にわとり ［親・主品目］ むね 皮なし 生', '＜鳥肉類＞ にわとり ［親・主品目］ もも 皮つき 生', '＜鳥肉類＞ にわとり ［親・主品目］ もも 皮なし 生', '＜鳥肉類＞ にわとり ［親・副品目］ ささみ 生', '＜鳥肉類＞ にわとり ［若どり・主品目］ 手羽 皮つき 生', '＜鳥肉類＞ にわとり ［若どり・主品目］ 手羽さき 皮つき 生', '＜鳥肉類＞ にわとり ［若どり・主品目］ 手羽もと 皮つき 生', '＜鳥肉類＞ にわとり ［若どり・主品目］ むね 皮つき 生', '＜鳥肉類＞ にわとり ［若どり・主品目］ むね 皮つき 焼き', '＜鳥肉類＞ にわとり ［若どり・主品目］ むね 皮なし 生', '＜鳥肉類＞ にわとり ［若どり・主品目］ むね 皮なし 焼き', '＜鳥肉類＞ にわとり ［若どり・主品目］ もも 皮つき 生', '＜鳥肉類＞ にわとり ［若どり・主品目］ もも 皮つき ゆで', '＜鳥肉類＞ にわとり ［若どり・主品目］ もも 皮つき 焼き', '＜鳥肉類＞ にわとり ［若どり・主品目］ もも 皮つき から揚げ', '＜鳥肉類＞ にわとり ［若どり・主品目］ もも 皮なし 生', '＜鳥肉類＞ にわとり ［若どり・主品目］ もも 皮なし ゆで', '＜鳥肉類＞ にわとり ［若どり・主品目］ もも 皮なし 焼き', '＜鳥肉類＞ にわとり ［若どり・主品目］ もも 皮なし から揚げ', '＜鳥肉類＞ にわとり ［若どり・副品目］ ささみ 生', '＜鳥肉類＞ にわとり ［若どり・副品目］ ささみ ゆで', '＜鳥肉類＞ にわとり ［若どり・副品目］ ささみ 焼き', '＜鳥肉類＞ にわとり ［若どり・副品目］ ささみ ソテー', '＜鳥肉類＞ にわとり ［若どり・副品目］ ささみ フライ', '＜鳥肉類＞ にわとり ［若どり・副品目］ ささみ 天ぷら', '＜鳥肉類＞ にわとり ［二次品目］ ひき肉 生', '＜鳥肉類＞ にわとり ［二次品目］ ひき肉 焼き', '＜鳥肉類＞ にわとり ［副品目］ 心臓 生', '＜鳥肉類＞ にわとり ［副品目］ 肝臓 生', '＜鳥肉類＞ にわとり ［副品目］ すなぎも 生', '＜鳥肉類＞ にわとり ［副品目］ 皮 むね 生', '＜鳥肉類＞ にわとり ［副品目］ 皮 もも 生', '＜鳥肉類＞ にわとり ［副品目］ なんこつ（胸肉） 生', '＜鳥肉類＞ にわとり ［その他］ 焼き鳥缶詰', '＜鳥肉類＞ にわとり ［その他］ チキンナゲット', '＜鳥肉類＞ にわとり ［その他］ つくね', '＜鳥肉類＞ はと 肉 皮なし 生', '＜鳥肉類＞ ほろほろちょう 肉 皮なし 生', '＜その他＞ いなご つくだ煮', '＜その他＞ かえる 肉 生', '＜その他＞ すっぽん 肉 生', '＜その他＞ はち はちの子缶詰', 'あひる卵 ピータン', 'うこっけい卵 全卵 生', 'うずら卵 全卵 生', 'うずら卵 水煮缶詰', '鶏卵 全卵 生', '鶏卵 全卵 ゆで', '鶏卵 全卵 ポーチドエッグ', '鶏卵 全卵 目玉焼き', '鶏卵 全卵 いり', '鶏卵 全卵 素揚げ', '鶏卵 全卵 水煮缶詰', '鶏卵 全卵 加糖全卵', '鶏卵 全卵 乾燥全卵', '鶏卵 卵黄 生', '鶏卵 卵黄 ゆで', '鶏卵 卵黄 加糖卵黄', '鶏卵 卵黄 乾燥卵黄', '鶏卵 卵白 生', '鶏卵 卵白 ゆで', '鶏卵 卵白 乾燥卵白', '鶏卵 たまご豆腐', '鶏卵 たまご焼 厚焼きたまご', '鶏卵 たまご焼 だし巻きたまご', '＜牛乳及び乳製品＞ （液状乳類） 生乳 ジャージー種', '＜牛乳及び乳製品＞ （液状乳類） 生乳 ホルスタイン種', '＜牛乳及び乳製品＞ （液状乳類） 普通牛乳', '＜牛乳及び乳製品＞ （液状乳類） 脱脂乳', '＜牛乳及び乳製品＞ （液状乳類） 加工乳 濃厚', '＜牛乳及び乳製品＞ （液状乳類） 加工乳 低脂肪', '＜牛乳及び乳製品＞ （液状乳類） 乳児用液体ミルク', '＜牛乳及び乳製品＞ （液状乳類） 乳飲料 コーヒー', '＜牛乳及び乳製品＞ （液状乳類） 乳飲料 フルーツ', '＜牛乳及び乳製品＞ （粉乳類） 全粉乳', '＜牛乳及び乳製品＞ （粉乳類） 脱脂粉乳', '＜牛乳及び乳製品＞ （粉乳類） 乳児用調製粉乳', '＜牛乳及び乳製品＞ （練乳類） 無糖練乳', '＜牛乳及び乳製品＞ （練乳類） 加糖練乳', '＜牛乳及び乳製品＞ （クリーム類） クリーム 乳脂肪', '＜牛乳及び乳製品＞ （クリーム類） クリーム 乳脂肪・植物性脂肪', '＜牛乳及び乳製品＞ （クリーム類） クリーム 植物性脂肪', '＜牛乳及び乳製品＞ （クリーム類） ホイップクリーム 乳脂肪', '＜牛乳及び乳製品＞ （クリーム類） ホイップクリーム 乳脂肪・植物性脂肪', '＜牛乳及び乳製品＞ （クリーム類） ホイップクリーム 植物性脂肪', '＜牛乳及び乳製品＞ （クリーム類） コーヒーホワイトナー 液状 乳脂肪', '＜牛乳及び乳製品＞ （クリーム類） コーヒーホワイトナー 液状 乳脂肪・植物性脂肪', '＜牛乳及び乳製品＞ （クリーム類） コーヒーホワイトナー 液状 植物性脂肪', '＜牛乳及び乳製品＞ （クリーム類） コーヒーホワイトナー 粉末状 乳脂肪', '＜牛乳及び乳製品＞ （クリーム類） コーヒーホワイトナー 粉末状 植物性脂肪', '＜牛乳及び乳製品＞ （発酵乳・乳酸菌飲料） ヨーグルト 全脂無糖', '＜牛乳及び乳製品＞ （発酵乳・乳酸菌飲料） ヨーグルト 低脂肪無糖', '＜牛乳及び乳製品＞ （発酵乳・乳酸菌飲料） ヨーグルト 無脂肪無糖', '＜牛乳及び乳製品＞ （発酵乳・乳酸菌飲料） ヨーグルト 脱脂加糖', '＜牛乳及び乳製品＞ （発酵乳・乳酸菌飲料） ヨーグルト ドリンクタイプ 加糖', '＜牛乳及び乳製品＞ （発酵乳・乳酸菌飲料） 乳酸菌飲料 乳製品', '＜牛乳及び乳製品＞ （発酵乳・乳酸菌飲料） 乳酸菌飲料 殺菌乳製品', '＜牛乳及び乳製品＞ （発酵乳・乳酸菌飲料） 乳酸菌飲料 非乳製品', '＜牛乳及び乳製品＞ （チーズ類） ナチュラルチーズ エダム', '＜牛乳及び乳製品＞ （チーズ類） ナチュラルチーズ エメンタール', '＜牛乳及び乳製品＞ （チーズ類） ナチュラルチーズ カテージ', '＜牛乳及び乳製品＞ （チーズ類） ナチュラルチーズ カマンベール', '＜牛乳及び乳製品＞ （チーズ類） ナチュラルチーズ クリーム', '＜牛乳及び乳製品＞ （チーズ類） ナチュラルチーズ ゴーダ', '＜牛乳及び乳製品＞ （チーズ類） ナチュラルチーズ チェダー', '＜牛乳及び乳製品＞ （チーズ類） ナチュラルチーズ パルメザン', '＜牛乳及び乳製品＞ （チーズ類） ナチュラルチーズ ブルー', '＜牛乳及び乳製品＞ （チーズ類） ナチュラルチーズ マスカルポーネ', '＜牛乳及び乳製品＞ （チーズ類） ナチュラルチーズ モッツァレラ', '＜牛乳及び乳製品＞ （チーズ類） ナチュラルチーズ やぎ', '＜牛乳及び乳製品＞ （チーズ類） ナチュラルチーズ リコッタ', '＜牛乳及び乳製品＞ （チーズ類） プロセスチーズ', '＜牛乳及び乳製品＞ （チーズ類） チーズスプレッド', '＜牛乳及び乳製品＞ （アイスクリーム類） アイスクリーム 高脂肪', '＜牛乳及び乳製品＞ （アイスクリーム類） アイスクリーム 普通脂肪', '＜牛乳及び乳製品＞ （アイスクリーム類） アイスミルク', '＜牛乳及び乳製品＞ （アイスクリーム類） ラクトアイス 普通脂肪', '＜牛乳及び乳製品＞ （アイスクリーム類） ラクトアイス 低脂肪', '＜牛乳及び乳製品＞ （アイスクリーム類） ソフトクリーム', '＜牛乳及び乳製品＞ （その他） カゼイン', '＜牛乳及び乳製品＞ （その他） シャーベット', '＜牛乳及び乳製品＞ （その他） チーズホエーパウダー', '＜その他＞ 人乳', '＜その他＞ やぎ乳', '（植物油脂類） あまに油', '（植物油脂類） えごま油', '（植物油脂類） オリーブ油', '（植物油脂類） ごま油', '（植物油脂類） 米ぬか油', '（植物油脂類） サフラワー油 ハイオレイック', '（植物油脂類） サフラワー油 ハイリノール', '（植物油脂類） 大豆油', '（植物油脂類） 調合油', '（植物油脂類） とうもろこし油', '（植物油脂類） なたね油', '（植物油脂類） パーム油', '（植物油脂類） パーム核油', '（植物油脂類） ひまわり油 ハイリノール', '（植物油脂類） ひまわり油 ミッドオレイック', '（植物油脂類） ひまわり油 ハイオレイック', '（植物油脂類） ぶどう油', '（植物油脂類） 綿実油', '（植物油脂類） やし油', '（植物油脂類） 落花生油', '（動物油脂類） 牛脂', '（動物油脂類） たらのあぶら', '（動物油脂類） ラード', '（バター類） 無発酵バター 有塩バター', '（バター類） 無発酵バター 食塩不使用バター', '（バター類） 発酵バター 有塩バター', '（マーガリン類） マーガリン 家庭用 有塩', '（マーガリン類） マーガリン 家庭用 無塩', '（マーガリン類） マーガリン 業務用 有塩', '（マーガリン類） マーガリン 業務用 無塩', '（マーガリン類） ファットスプレッド', '（その他） ショートニング 家庭用', '（その他） ショートニング 業務用 製菓', '（その他） ショートニング 業務用 フライ', '＜和生菓子・和半生菓子類＞ 甘納豆 あずき', '＜和生菓子・和半生菓子類＞ 甘納豆 いんげんまめ', '＜和生菓子・和半生菓子類＞ 甘納豆 えんどう', '＜和生菓子・和半生菓子類＞ 今川焼 こしあん入り', '＜和生菓子・和半生菓子類＞ 今川焼 つぶしあん入り', '＜和生菓子・和半生菓子類＞ 今川焼 カスタードクリーム入り', '＜和生菓子・和半生菓子類＞ ういろう 白', '＜和生菓子・和半生菓子類＞ ういろう 黒', '＜和生菓子・和半生菓子類＞ うぐいすもち こしあん入り', '＜和生菓子・和半生菓子類＞ うぐいすもち つぶしあん入り', '＜和生菓子・和半生菓子類＞ かしわもち こしあん入り', '＜和生菓子・和半生菓子類＞ かしわもち つぶしあん入り', '＜和生菓子・和半生菓子類＞ カステラ', '＜和生菓子・和半生菓子類＞ かのこ', '＜和生菓子・和半生菓子類＞ かるかん', '＜和生菓子・和半生菓子類＞ きび団子', '＜和生菓子・和半生菓子類＞ ぎゅうひ', '＜和生菓子・和半生菓子類＞ きりざんしょ', '＜和生菓子・和半生菓子類＞ きんぎょく糖', '＜和生菓子・和半生菓子類＞ きんつば', '＜和生菓子・和半生菓子類＞ 草もち こしあん入り', '＜和生菓子・和半生菓子類＞ 草もち つぶしあん入り', '＜和生菓子・和半生菓子類＞ くし団子 あん こしあん入り', '＜和生菓子・和半生菓子類＞ くし団子 あん つぶしあん入り', '＜和生菓子・和半生菓子類＞ くし団子 みたらし', '＜和生菓子・和半生菓子類＞ くずもち 関西風 くずでん粉製品', '＜和生菓子・和半生菓子類＞ くずもち 関東風 小麦でん粉製品', '＜和生菓子・和半生菓子類＞ げっぺい', '＜和生菓子・和半生菓子類＞ 五平もち', '＜和生菓子・和半生菓子類＞ 桜もち 関西風 こしあん入り', '＜和生菓子・和半生菓子類＞ 桜もち 関西風 つぶしあん入り', '＜和生菓子・和半生菓子類＞ 桜もち 関東風 こしあん入り', '＜和生菓子・和半生菓子類＞ 桜もち 関東風 つぶしあん入り', '＜和生菓子・和半生菓子類＞ 笹だんご こしあん入り', '＜和生菓子・和半生菓子類＞ 笹だんご つぶしあん入り', '＜和生菓子・和半生菓子類＞ ずんだあん', '＜和生菓子・和半生菓子類＞ ずんだもち', '＜和生菓子・和半生菓子類＞ 大福もち こしあん入り', '＜和生菓子・和半生菓子類＞ 大福もち つぶしあん入り', '＜和生菓子・和半生菓子類＞ タルト （和菓子）', '＜和生菓子・和半生菓子類＞ ちまき', '＜和生菓子・和半生菓子類＞ ちゃつう', '＜和生菓子・和半生菓子類＞ どら焼 こしあん入り', '＜和生菓子・和半生菓子類＞ どら焼 つぶしあん入り', '＜和生菓子・和半生菓子類＞ 生八つ橋 あん入り こしあん入り', '＜和生菓子・和半生菓子類＞ 生八つ橋 あん入り こしあん・つぶしあん混合', '＜和生菓子・和半生菓子類＞ 生八つ橋 あん入り つぶしあん入り', '＜和生菓子・和半生菓子類＞ ねりきり', '＜和生菓子・和半生菓子類＞ まんじゅう カステラまんじゅう こしあん入り', '＜和生菓子・和半生菓子類＞ まんじゅう カステラまんじゅう つぶしあん入り', '＜和生菓子・和半生菓子類＞ まんじゅう かるかんまんじゅう こしあん入り', '＜和生菓子・和半生菓子類＞ まんじゅう かるかんまんじゅう つぶしあん入り', '＜和生菓子・和半生菓子類＞ まんじゅう くずまんじゅう こしあん入り', '＜和生菓子・和半生菓子類＞ まんじゅう くずまんじゅう つぶしあん入り', '＜和生菓子・和半生菓子類＞ まんじゅう くりまんじゅう こしあん入り', '＜和生菓子・和半生菓子類＞ まんじゅう くりまんじゅう つぶしあん入り', '＜和生菓子・和半生菓子類＞ まんじゅう とうまんじゅう こしあん入り', '＜和生菓子・和半生菓子類＞ まんじゅう とうまんじゅう つぶしあん入り', '＜和生菓子・和半生菓子類＞ まんじゅう 蒸しまんじゅう こしあん入り', '＜和生菓子・和半生菓子類＞ まんじゅう 蒸しまんじゅう つぶしあん入り', '＜和生菓子・和半生菓子類＞ まんじゅう 中華まんじゅう あんまん こしあん入り', '＜和生菓子・和半生菓子類＞ まんじゅう 中華まんじゅう あんまん つぶしあん入り', '＜和生菓子・和半生菓子類＞ まんじゅう 中華まんじゅう 肉まん', '＜和生菓子・和半生菓子類＞ もなか こしあん入り', '＜和生菓子・和半生菓子類＞ もなか つぶしあん入り', '＜和生菓子・和半生菓子類＞ ゆべし', '＜和生菓子・和半生菓子類＞ ようかん 練りようかん', '＜和生菓子・和半生菓子類＞ ようかん 水ようかん', '＜和生菓子・和半生菓子類＞ ようかん 蒸しようかん', '＜和干菓子類＞ あめ玉', '＜和干菓子類＞ 芋かりんとう', '＜和干菓子類＞ おこし', '＜和干菓子類＞ おのろけ豆', '＜和干菓子類＞ かりんとう 黒', '＜和干菓子類＞ かりんとう 白', '＜和干菓子類＞ ごかぼう', '＜和干菓子類＞ 小麦粉せんべい 磯部せんべい', '＜和干菓子類＞ 小麦粉せんべい かわらせんべい', '＜和干菓子類＞ 小麦粉せんべい 巻きせんべい', '＜和干菓子類＞ 小麦粉せんべい 南部せんべい ごま入り', '＜和干菓子類＞ 小麦粉せんべい 南部せんべい 落花生入り', '＜和干菓子類＞ しおがま', '＜和干菓子類＞ ひなあられ 関西風', '＜和干菓子類＞ ひなあられ 関東風', '＜和干菓子類＞ 米菓 揚げせんべい', '＜和干菓子類＞ 米菓 甘辛せんべい', '＜和干菓子類＞ 米菓 あられ', '＜和干菓子類＞ 米菓 しょうゆせんべい', '＜和干菓子類＞ ボーロ 小粒', '＜和干菓子類＞ ボーロ そばボーロ', '＜和干菓子類＞ 松風', '＜和干菓子類＞ みしま豆', '＜和干菓子類＞ 八つ橋', '＜和干菓子類＞ らくがん らくがん', '＜和干菓子類＞ らくがん 麦らくがん', '＜和干菓子類＞ らくがん もろこしらくがん', '＜菓子パン類＞ 揚げパン', '＜菓子パン類＞ あんパン こしあん入り', '＜菓子パン類＞ あんパン つぶしあん入り', '＜菓子パン類＞ あんパン 薄皮タイプ こしあん入り', '＜菓子パン類＞ あんパン 薄皮タイプ つぶしあん入り', '＜菓子パン類＞ カレーパン 皮及び具', '＜菓子パン類＞ カレーパン 皮のみ', '＜菓子パン類＞ カレーパン 具のみ', '＜菓子パン類＞ クリームパン', '＜菓子パン類＞ クリームパン 薄皮タイプ', '＜菓子パン類＞ ジャムパン', '＜菓子パン類＞ チョココロネ', '＜菓子パン類＞ チョコパン 薄皮タイプ', '＜菓子パン類＞ メロンパン', '＜菓子パン類＞ 菓子パン あんなし', '＜ケーキ・ペストリー類＞ シュークリーム', '＜ケーキ・ペストリー類＞ スポンジケーキ', '＜ケーキ・ペストリー類＞ ショートケーキ 果実なし', '＜ケーキ・ペストリー類＞ ショートケーキ いちご', '＜ケーキ・ペストリー類＞ タルト （洋菓子）', '＜ケーキ・ペストリー類＞ チーズケーキ ベイクドチーズケーキ', '＜ケーキ・ペストリー類＞ チーズケーキ レアチーズケーキ', '＜ケーキ・ペストリー類＞ デニッシュペストリー アメリカンタイプ プレーン', '＜ケーキ・ペストリー類＞ デニッシュペストリー デンマークタイプ プレーン ', '＜ケーキ・ペストリー類＞ デニッシュペストリー アメリカンタイプ あん入り こしあん', '＜ケーキ・ペストリー類＞ デニッシュペストリー アメリカンタイプ あん入り つぶしあん', '＜ケーキ・ペストリー類＞ デニッシュペストリー デンマークタイプ あん入り こしあん', '＜ケーキ・ペストリー類＞ デニッシュペストリー デンマークタイプ あん入り つぶしあん', '＜ケーキ・ペストリー類＞ デニッシュペストリー アメリカンタイプ あん入り カスタードクリーム', '＜ケーキ・ペストリー類＞ デニッシュペストリー デンマークタイプ あん入り カスタードクリーム', '＜ケーキ・ペストリー類＞ ドーナッツ イーストドーナッツ プレーン', '＜ケーキ・ペストリー類＞ ドーナッツ イーストドーナッツ あん入り こしあん', '＜ケーキ・ペストリー類＞ ドーナッツ イーストドーナッツ あん入り つぶしあん', '＜ケーキ・ペストリー類＞ ドーナッツ イーストドーナッツ あん入り カスタードクリーム', '＜ケーキ・ペストリー類＞ ドーナッツ ケーキドーナッツ プレーン', '＜ケーキ・ペストリー類＞ ドーナッツ ケーキドーナッツ あん入り こしあん', '＜ケーキ・ペストリー類＞ ドーナッツ ケーキドーナッツ あん入り つぶしあん', '＜ケーキ・ペストリー類＞ ドーナッツ ケーキドーナッツ あん入り カスタードクリーム', '＜ケーキ・ペストリー類＞ パイ パイ皮', '＜ケーキ・ペストリー類＞ パイ アップルパイ', '＜ケーキ・ペストリー類＞ パイ ミートパイ', '＜ケーキ・ペストリー類＞ バターケーキ', '＜ケーキ・ペストリー類＞ ホットケーキ', '＜ケーキ・ペストリー類＞ ワッフル カスタードクリーム入り', '＜ケーキ・ペストリー類＞ ワッフル ジャム入り', '＜デザート菓子類＞ カスタードプリン', '＜デザート菓子類＞ 牛乳寒天', '＜デザート菓子類＞ こんにゃくゼリー', '＜デザート菓子類＞ ゼリー オレンジ', '＜デザート菓子類＞ ゼリー コーヒー', '＜デザート菓子類＞ ゼリー ミルク', '＜デザート菓子類＞ ゼリー ワイン', '＜デザート菓子類＞ ババロア', '＜ビスケット類＞ ウエハース', '＜ビスケット類＞ ウエハース クリーム入り', '＜ビスケット類＞ クラッカー オイルスプレークラッカー', '＜ビスケット類＞ クラッカー ソーダクラッカー', '＜ビスケット類＞ サブレ', '＜ビスケット類＞ 中華風クッキー', '＜ビスケット類＞ ビスケット ハードビスケット', '＜ビスケット類＞ ビスケット ソフトビスケット', '＜ビスケット類＞ プレッツェル', '＜ビスケット類＞ リーフパイ', '＜ビスケット類＞ ロシアケーキ', '＜スナック類＞ 小麦粉あられ', '＜スナック類＞ コーンスナック', '＜スナック類＞ ポテトチップス ポテトチップス', '＜スナック類＞ ポテトチップス 成形ポテトチップス', '＜キャンデー類＞ かわり玉', '＜キャンデー類＞ キャラメル', '＜キャンデー類＞ ゼリーキャンデー', '＜キャンデー類＞ ゼリービーンズ', '＜キャンデー類＞ ドロップ', '＜キャンデー類＞ バタースコッチ', '＜キャンデー類＞ ブリットル', '＜キャンデー類＞ マシュマロ', '＜キャンデー類＞ ラムネ', '＜チョコレート類＞ アーモンドチョコレート', '＜チョコレート類＞ カバーリングチョコレート', '＜チョコレート類＞ ホワイトチョコレート', '＜チョコレート類＞ ミルクチョコレート', '＜果実菓子類＞ マロングラッセ', '＜チューインガム類＞ 板ガム', '＜チューインガム類＞ 糖衣ガム', '＜チューインガム類＞ 風船ガム', '＜その他＞ カスタードクリーム', '＜その他＞ しるこ こしあん', '＜その他＞ しるこ つぶしあん', '＜その他＞ チョコレートクリーム', '＜アルコール飲料類＞ （醸造酒類） 清酒 普通酒', '＜アルコール飲料類＞ （醸造酒類） 清酒 純米酒', '＜アルコール飲料類＞ （醸造酒類） 清酒 本醸造酒', '＜アルコール飲料類＞ （醸造酒類） 清酒 吟醸酒', '＜アルコール飲料類＞ （醸造酒類） 清酒 純米吟醸酒', '＜アルコール飲料類＞ （醸造酒類） ビール 淡色', '＜アルコール飲料類＞ （醸造酒類） ビール 黒', '＜アルコール飲料類＞ （醸造酒類） ビール スタウト', '＜アルコール飲料類＞ （醸造酒類） 発泡酒', '＜アルコール飲料類＞ （醸造酒類） ぶどう酒 白', '＜アルコール飲料類＞ （醸造酒類） ぶどう酒 赤', '＜アルコール飲料類＞ （醸造酒類） ぶどう酒 ロゼ', '＜アルコール飲料類＞ （醸造酒類） 紹興酒', '＜アルコール飲料類＞ （蒸留酒類） しょうちゅう 連続式蒸留しょうちゅう', '＜アルコール飲料類＞ （蒸留酒類） しょうちゅう 単式蒸留しょうちゅう', '＜アルコール飲料類＞ （蒸留酒類） しょうちゅう 泡盛', '＜アルコール飲料類＞ （蒸留酒類） ウイスキー', '＜アルコール飲料類＞ （蒸留酒類） ブランデー', '＜アルコール飲料類＞ （蒸留酒類） ウオッカ', '＜アルコール飲料類＞ （蒸留酒類） ジン', '＜アルコール飲料類＞ （蒸留酒類） ラム', '＜アルコール飲料類＞ （蒸留酒類） マオタイ酒', '＜アルコール飲料類＞ （混成酒類） 梅酒', '＜アルコール飲料類＞ （混成酒類） 合成清酒', '＜アルコール飲料類＞ （混成酒類） 白酒', '＜アルコール飲料類＞ （混成酒類） みりん 本みりん', '＜アルコール飲料類＞ （混成酒類） みりん 本直し', '＜アルコール飲料類＞ （混成酒類） 薬味酒', '＜アルコール飲料類＞ （混成酒類） キュラソー', '＜アルコール飲料類＞ （混成酒類） スイートワイン', '＜アルコール飲料類＞ （混成酒類） ペパーミント', '＜アルコール飲料類＞ （混成酒類） ベルモット 甘口タイプ', '＜アルコール飲料類＞ （混成酒類） ベルモット 辛口タイプ', '＜アルコール飲料類＞ （混成酒類） 缶チューハイ レモン風味', '＜茶類＞ （緑茶類） 玉露 茶', '＜茶類＞ （緑茶類） 玉露 浸出液', '＜茶類＞ （緑茶類） 抹茶 茶', '＜茶類＞ （緑茶類） せん茶 茶', '＜茶類＞ （緑茶類） せん茶 浸出液', '＜茶類＞ （緑茶類） かまいり茶 浸出液', '＜茶類＞ （緑茶類） 番茶 浸出液', '＜茶類＞ （緑茶類） ほうじ茶 浸出液', '＜茶類＞ （緑茶類） 玄米茶 浸出液', '＜茶類＞ （発酵茶類） ウーロン茶 浸出液', '＜茶類＞ （発酵茶類） 紅茶 茶', '＜茶類＞ （発酵茶類） 紅茶 浸出液', '＜コーヒー・ココア類＞ コーヒー 浸出液', '＜コーヒー・ココア類＞ コーヒー インスタントコーヒー', '＜コーヒー・ココア類＞ コーヒー コーヒー飲料 乳成分入り 加糖', '＜コーヒー・ココア類＞ ココア ピュアココア', '＜コーヒー・ココア類＞ ココア ミルクココア', '＜その他＞ 青汁 ケール', '＜その他＞ 甘酒', '＜その他＞ 昆布茶', '＜その他＞ スポーツドリンク', '＜その他＞ （炭酸飲料類） 果実色飲料', '＜その他＞ （炭酸飲料類） コーラ', '＜その他＞ （炭酸飲料類） サイダー', '＜その他＞ （炭酸飲料類） ビール風味炭酸飲料', '＜その他＞ なぎなたこうじゅ 浸出液', '＜その他＞ 麦茶 浸出液', '＜調味料類＞ （ウスターソース類） ウスターソース', '＜調味料類＞ （ウスターソース類） 中濃ソース', '＜調味料類＞ （ウスターソース類） 濃厚ソース', '＜調味料類＞ （ウスターソース類） お好み焼きソース', '＜調味料類＞ （辛味調味料類） トウバンジャン', '＜調味料類＞ （辛味調味料類） チリペッパーソース', '＜調味料類＞ （辛味調味料類） ラー油', '＜調味料類＞ （しょうゆ類） こいくちしょうゆ', '＜調味料類＞ （しょうゆ類） こいくちしょうゆ 減塩', '＜調味料類＞ （しょうゆ類） うすくちしょうゆ', '＜調味料類＞ （しょうゆ類） うすくちしょうゆ 低塩', '＜調味料類＞ （しょうゆ類） たまりしょうゆ', '＜調味料類＞ （しょうゆ類） さいしこみしょうゆ', '＜調味料類＞ （しょうゆ類） しろしょうゆ', '＜調味料類＞ （しょうゆ類） だししょうゆ', '＜調味料類＞ （しょうゆ類） 照りしょうゆ', '＜調味料類＞ （食塩類） 食塩', '＜調味料類＞ （食塩類） 並塩', '＜調味料類＞ （食塩類） 減塩タイプ食塩 調味料含む', '＜調味料類＞ （食塩類） 減塩タイプ食塩 調味料不使用', '＜調味料類＞ （食塩類） 精製塩 家庭用', '＜調味料類＞ （食塩類） 精製塩 業務用', '＜調味料類＞ （食酢類） 黒酢', '＜調味料類＞ （食酢類） 穀物酢', '＜調味料類＞ （食酢類） 米酢', '＜調味料類＞ （食酢類） 果実酢 バルサミコ酢', '＜調味料類＞ （食酢類） 果実酢 ぶどう酢', '＜調味料類＞ （食酢類） 果実酢 りんご酢', '＜調味料類＞ （だし類） あごだし', '＜調味料類＞ （だし類） かつおだし 荒節', '＜調味料類＞ （だし類） かつおだし 本枯れ節', '＜調味料類＞ （だし類） 昆布だし 水出し', '＜調味料類＞ （だし類） 昆布だし 煮出し', '＜調味料類＞ （だし類） かつお・昆布だし 荒節・昆布だし', '＜調味料類＞ （だし類） かつお・昆布だし 本枯れ節・昆布だし', '＜調味料類＞ （だし類） しいたけだし', '＜調味料類＞ （だし類） 煮干しだし', '＜調味料類＞ （だし類） 鶏がらだし', '＜調味料類＞ （だし類） 中華だし', '＜調味料類＞ （だし類） 洋風だし', '＜調味料類＞ （だし類） 固形ブイヨン', '＜調味料類＞ （だし類） 顆粒おでん用', '＜調味料類＞ （だし類） 顆粒中華だし', '＜調味料類＞ （だし類） 顆粒和風だし', '＜調味料類＞ （だし類） なべつゆ ストレート しょうゆ味', '＜調味料類＞ （だし類） めんつゆ ストレート', '＜調味料類＞ （だし類） めんつゆ 二倍濃縮', '＜調味料類＞ （だし類） めんつゆ 三倍濃縮', '＜調味料類＞ （だし類） ラーメンスープ 濃縮 しょうゆ味 ', '＜調味料類＞ （だし類） ラーメンスープ 濃縮 みそ味 ', '＜調味料類＞ （調味ソース類） 甘酢', '＜調味料類＞ （調味ソース類） エビチリの素', '＜調味料類＞ （調味ソース類） オイスターソース', '＜調味料類＞ （調味ソース類） 黄身酢', '＜調味料類＞ （調味ソース類） 魚醤油 いかなごしょうゆ', '＜調味料類＞ （調味ソース類） 魚醤油 いしる （いしり）', '＜調味料類＞ （調味ソース類） 魚醤油 しょっつる', '＜調味料類＞ （調味ソース類） 魚醤油 ナンプラー', '＜調味料類＞ （調味ソース類） ごま酢', '＜調味料類＞ （調味ソース類） ごまだれ', '＜調味料類＞ （調味ソース類） 三杯酢', '＜調味料類＞ （調味ソース類） 二杯酢', '＜調味料類＞ （調味ソース類） すし酢 ちらし・稲荷用', '＜調味料類＞ （調味ソース類） すし酢 にぎり用', '＜調味料類＞ （調味ソース類） すし酢 巻き寿司・箱寿司用', '＜調味料類＞ （調味ソース類） 中華風合わせ酢', '＜調味料類＞ （調味ソース類） デミグラスソース', '＜調味料類＞ （調味ソース類） テンメンジャン', '＜調味料類＞ （調味ソース類） 冷やし中華のたれ', '＜調味料類＞ （調味ソース類） ホワイトソース', '＜調味料類＞ （調味ソース類） ぽん酢しょうゆ', '＜調味料類＞ （調味ソース類） ぽん酢しょうゆ 市販品', '＜調味料類＞ （調味ソース類） マーボー豆腐の素', '＜調味料類＞ （調味ソース類） マリネ液', '＜調味料類＞ （調味ソース類） ミートソース', '＜調味料類＞ （調味ソース類） 焼きそば粉末ソース', '＜調味料類＞ （調味ソース類） 焼き鳥のたれ', '＜調味料類＞ （調味ソース類） 焼き肉のたれ', '＜調味料類＞ （調味ソース類） みたらしのたれ', '＜調味料類＞ （調味ソース類） ゆずこしょう', '＜調味料類＞ （トマト加工品類） トマトピューレー', '＜調味料類＞ （トマト加工品類） トマトペースト', '＜調味料類＞ （トマト加工品類） トマトケチャップ', '＜調味料類＞ （トマト加工品類） トマトソース', '＜調味料類＞ （トマト加工品類） チリソース', '＜調味料類＞ （ドレッシング類） 半固形状ドレッシング マヨネーズ 全卵型', '＜調味料類＞ （ドレッシング類） 半固形状ドレッシング マヨネーズ 卵黄型', '＜調味料類＞ （ドレッシング類） 半固形状ドレッシング マヨネーズタイプ調味料 低カロリータイプ', '＜調味料類＞ （ドレッシング類） 分離液状ドレッシング フレンチドレッシング 分離液状', '＜調味料類＞ （ドレッシング類） 分離液状ドレッシング 和風ドレッシング 分離液状', '＜調味料類＞ （ドレッシング類） 分離液状ドレッシング 和風ドレッシングタイプ調味料 ノンオイルタイプ', '＜調味料類＞ （ドレッシング類） 乳化液状ドレッシング ごまドレッシング', '＜調味料類＞ （ドレッシング類） 乳化液状ドレッシング サウザンアイランドドレッシング', '＜調味料類＞ （ドレッシング類） 乳化液状ドレッシング フレンチドレッシング 乳化液状', '＜調味料類＞ （みそ類） 米みそ 甘みそ', '＜調味料類＞ （みそ類） 米みそ 淡色辛みそ', '＜調味料類＞ （みそ類） 米みそ 赤色辛みそ', '＜調味料類＞ （みそ類） 米みそ だし入りみそ', '＜調味料類＞ （みそ類） 米みそ だし入りみそ 減塩', '＜調味料類＞ （みそ類） 麦みそ', '＜調味料類＞ （みそ類） 豆みそ', '＜調味料類＞ （みそ類） 減塩みそ', '＜調味料類＞ （みそ類） 即席みそ 粉末タイプ', '＜調味料類＞ （みそ類） 即席みそ ペーストタイプ', '＜調味料類＞ （みそ類） 辛子酢みそ', '＜調味料類＞ （みそ類） ごまみそ', '＜調味料類＞ （みそ類） 酢みそ', '＜調味料類＞ （みそ類） 練りみそ', '＜調味料類＞ （ルウ類） カレールウ', '＜調味料類＞ （ルウ類） ハヤシルウ', '＜調味料類＞ （その他） お茶漬けの素 さけ', '＜調味料類＞ （その他） キムチの素', '＜調味料類＞ （その他） 酒かす', '＜調味料類＞ （その他） 即席すまし汁', '＜調味料類＞ （その他） ふりかけ たまご', '＜調味料類＞ （その他） みりん風調味料', '＜調味料類＞ （その他） 料理酒', '＜香辛料類＞ オールスパイス 粉', '＜香辛料類＞ オニオンパウダー', '＜香辛料類＞ からし 粉', '＜香辛料類＞ からし 練り', '＜香辛料類＞ からし 練りマスタード', '＜香辛料類＞ からし 粒入りマスタード', '＜香辛料類＞ カレー粉', '＜香辛料類＞ クローブ 粉', '＜香辛料類＞ こしょう 黒 粉', '＜香辛料類＞ こしょう 白 粉', '＜香辛料類＞ こしょう 混合 粉', '＜香辛料類＞ さんしょう 粉', '＜香辛料類＞ シナモン 粉', '＜香辛料類＞ しょうが 粉', '＜香辛料類＞ しょうが おろし', '＜香辛料類＞ セージ 粉', '＜香辛料類＞ タイム 粉', '＜香辛料類＞ チリパウダー', '＜香辛料類＞ とうがらし 粉', '＜香辛料類＞ ナツメグ 粉', '＜香辛料類＞ にんにく ガーリックパウダー 食塩無添加', '＜香辛料類＞ にんにく ガーリックパウダー 食塩添加', '＜香辛料類＞ にんにく おろし', '＜香辛料類＞ バジル 粉', '＜香辛料類＞ パセリ 乾', '＜香辛料類＞ パプリカ 粉', '＜香辛料類＞ わさび 粉 からし粉入り', '＜香辛料類＞ わさび 練り', '＜その他＞ 酵母 パン酵母 圧搾', '＜その他＞ 酵母 パン酵母 乾燥', '＜その他＞ ベーキングパウダー', '和風料理 和え物類 青菜の白和え', '和風料理 和え物類 いんげんのごま和え', '和風料理 和え物類 わかめとねぎの酢みそ和え', '和風料理 汁物類 とん汁', '和風料理 酢の物類 紅白なます', '和風料理 煮物類 卯の花いり', '和風料理 煮物類 親子丼の具', '和風料理 煮物類 牛飯の具', '和風料理 煮物類 切り干し大根の煮物', '和風料理 煮物類 きんぴらごぼう', '和風料理 煮物類 ぜんまいのいため煮', '和風料理 煮物類 筑前煮', '和風料理 煮物類 肉じゃが', '和風料理 煮物類 ひじきのいため煮', '和風料理 その他 アジの南蛮漬け', '和風料理 その他 松前漬け しょうゆ漬', '洋風料理 カレー類 チキンカレー', '洋風料理 カレー類 ビーフカレー', '洋風料理 カレー類 ポークカレー', '洋風料理 コロッケ類 カニクリームコロッケ', '洋風料理 コロッケ類 コーンクリームコロッケ', '洋風料理 コロッケ類 ポテトコロッケ', '洋風料理 シチュー類 チキンシチュー', '洋風料理 シチュー類 ビーフシチュー', '洋風料理 素揚げ類 ミートボール', '洋風料理 スープ類 かぼちゃのクリームスープ', '洋風料理 スープ類 コーンクリームスープ コーンクリームスープ', '洋風料理 スープ類 コーンクリームスープ 粉末タイプ', '洋風料理 ハンバーグステーキ類 合いびきハンバーグ', '洋風料理 ハンバーグステーキ類 チキンハンバーグ', '洋風料理 ハンバーグステーキ類 豆腐ハンバーグ', '洋風料理 フライ類 いかフライ', '洋風料理 フライ類 えびフライ', '洋風料理 フライ類 白身フライ', '洋風料理 フライ類 メンチカツ', '洋風料理 フライ用冷凍食品 いかフライ 冷凍', '洋風料理 フライ用冷凍食品 えびフライ 冷凍', '洋風料理 フライ用冷凍食品 コロッケ クリームコロッケ 冷凍', '洋風料理 フライ用冷凍食品 コロッケ ポテトコロッケ 冷凍', '洋風料理 フライ用冷凍食品 白身フライ 冷凍', '洋風料理 フライ用冷凍食品 メンチカツ 冷凍', '洋風料理 その他 えびグラタン', '洋風料理 その他 えびピラフ', '中国料理 点心類 ぎょうざ', '中国料理 点心類 しゅうまい', '中国料理 点心類 中華ちまき', '中国料理 菜類 酢豚', '中国料理 菜類 八宝菜', '中国料理 菜類 麻婆豆腐', '韓国料理 和え物類 もやしのナムル']\n"
          ]
        }
      ]
    },
    {
      "cell_type": "markdown",
      "metadata": {
        "id": "bT1akYL_pBXs"
      },
      "source": [
        "この中から...\n",
        "* こむぎ［パン類］食パンリッチタイプ\n",
        "* こむぎ［パン類］フランスパン\n",
        "* こめ［水稲軟めし］精白米\n",
        "* そばそばゆで\n",
        "* こむぎ［うどん・そうめん類］うどんゆで\n",
        "\n",
        "のみに興味があれば"
      ]
    },
    {
      "cell_type": "code",
      "metadata": {
        "id": "F2ouiW-jqpjm",
        "outputId": "e0af85bf-ebb1-4004-c2a8-3002f6f576cd",
        "colab": {
          "base_uri": "https://localhost:8080/",
          "height": 206
        }
      },
      "source": [
        "tshokuhin = [\"こむぎ ［パン類］ 食パン リッチタイプ\",\"こむぎ ［パン類］ フランスパン\",\"こめ ［水稲軟めし］ 精白米\", \"そば そば ゆで\", \"こむぎ ［うどん・そうめん類］ うどん ゆで\"]\n",
        "ndf[ ndf[\"食品名\"].isin(tshokuhin)]"
      ],
      "execution_count": 47,
      "outputs": [
        {
          "output_type": "execute_result",
          "data": {
            "text/html": [
              "<div>\n",
              "<style scoped>\n",
              "    .dataframe tbody tr th:only-of-type {\n",
              "        vertical-align: middle;\n",
              "    }\n",
              "\n",
              "    .dataframe tbody tr th {\n",
              "        vertical-align: top;\n",
              "    }\n",
              "\n",
              "    .dataframe thead th {\n",
              "        text-align: right;\n",
              "    }\n",
              "</style>\n",
              "<table border=\"1\" class=\"dataframe\">\n",
              "  <thead>\n",
              "    <tr style=\"text-align: right;\">\n",
              "      <th></th>\n",
              "      <th>食品名</th>\n",
              "      <th>エネルギー(kcal)</th>\n",
              "      <th>たんぱく質(g)</th>\n",
              "      <th>脂質(g)</th>\n",
              "      <th>炭水化物(g)</th>\n",
              "    </tr>\n",
              "  </thead>\n",
              "  <tbody>\n",
              "    <tr>\n",
              "      <th>45</th>\n",
              "      <td>こむぎ ［パン類］ 食パン リッチタイプ</td>\n",
              "      <td>256</td>\n",
              "      <td>(7.8)</td>\n",
              "      <td>(6.0)</td>\n",
              "      <td>(45.6)</td>\n",
              "    </tr>\n",
              "    <tr>\n",
              "      <th>49</th>\n",
              "      <td>こむぎ ［パン類］ フランスパン</td>\n",
              "      <td>289</td>\n",
              "      <td>9.4</td>\n",
              "      <td>1.3</td>\n",
              "      <td>57.5</td>\n",
              "    </tr>\n",
              "    <tr>\n",
              "      <th>61</th>\n",
              "      <td>こむぎ ［うどん・そうめん類］ うどん ゆで</td>\n",
              "      <td>95</td>\n",
              "      <td>2.6</td>\n",
              "      <td>0.4</td>\n",
              "      <td>21.6</td>\n",
              "    </tr>\n",
              "    <tr>\n",
              "      <th>147</th>\n",
              "      <td>こめ ［水稲軟めし］ 精白米</td>\n",
              "      <td>113</td>\n",
              "      <td>(1.8)</td>\n",
              "      <td>(0.3)</td>\n",
              "      <td>(26.4)</td>\n",
              "    </tr>\n",
              "    <tr>\n",
              "      <th>195</th>\n",
              "      <td>そば そば ゆで</td>\n",
              "      <td>130</td>\n",
              "      <td>4.8</td>\n",
              "      <td>1.0</td>\n",
              "      <td>26.0</td>\n",
              "    </tr>\n",
              "  </tbody>\n",
              "</table>\n",
              "</div>"
            ],
            "text/plain": [
              "                        食品名 エネルギー(kcal) たんぱく質(g)  脂質(g) 炭水化物(g)\n",
              "45     こむぎ ［パン類］ 食パン リッチタイプ         256    (7.8)  (6.0)  (45.6)\n",
              "49         こむぎ ［パン類］ フランスパン         289      9.4    1.3    57.5\n",
              "61   こむぎ ［うどん・そうめん類］ うどん ゆで          95      2.6    0.4    21.6\n",
              "147          こめ ［水稲軟めし］ 精白米         113    (1.8)  (0.3)  (26.4)\n",
              "195                そば そば ゆで         130      4.8    1.0    26.0"
            ]
          },
          "metadata": {},
          "execution_count": 47
        }
      ]
    },
    {
      "cell_type": "markdown",
      "metadata": {
        "id": "Jt2aLH3jrWSY"
      },
      "source": [
        "などとする。"
      ]
    },
    {
      "cell_type": "markdown",
      "metadata": {
        "id": "So7B0ZauwuyT"
      },
      "source": [
        "'6野菜類'でも同様に..."
      ]
    },
    {
      "cell_type": "code",
      "metadata": {
        "id": "aYwheZeiw0Oe",
        "outputId": "3c099e3f-4e40-439c-8ef8-939e00457f33",
        "colab": {
          "base_uri": "https://localhost:8080/",
          "height": 424
        }
      },
      "source": [
        "df6 = pd.read_excel(wb,sheet_name=\"6野菜類\")\n",
        "df6.iloc[:,[3,6,9,12,20]]\n",
        "ndf6 = df6.iloc[:,[3,6,9,12,20]] \n",
        "ndf6 = ndf6.iloc[10:,:]\n",
        "ndf6.columns=[\"食品名\",\"エネルギー(kcal)\",\"たんぱく質(g)\",\"脂質(g)\",\"炭水化物(g)\"]\n",
        "ndf6[\"食品名\"] = ndf6[\"食品名\"].str.replace(\"\\u3000\",\" \") \n",
        "ndf6"
      ],
      "execution_count": 49,
      "outputs": [
        {
          "output_type": "execute_result",
          "data": {
            "text/html": [
              "<div>\n",
              "<style scoped>\n",
              "    .dataframe tbody tr th:only-of-type {\n",
              "        vertical-align: middle;\n",
              "    }\n",
              "\n",
              "    .dataframe tbody tr th {\n",
              "        vertical-align: top;\n",
              "    }\n",
              "\n",
              "    .dataframe thead th {\n",
              "        text-align: right;\n",
              "    }\n",
              "</style>\n",
              "<table border=\"1\" class=\"dataframe\">\n",
              "  <thead>\n",
              "    <tr style=\"text-align: right;\">\n",
              "      <th></th>\n",
              "      <th>食品名</th>\n",
              "      <th>エネルギー(kcal)</th>\n",
              "      <th>たんぱく質(g)</th>\n",
              "      <th>脂質(g)</th>\n",
              "      <th>炭水化物(g)</th>\n",
              "    </tr>\n",
              "  </thead>\n",
              "  <tbody>\n",
              "    <tr>\n",
              "      <th>10</th>\n",
              "      <td>成分識別子</td>\n",
              "      <td>ENERC_KCAL</td>\n",
              "      <td>PROT-</td>\n",
              "      <td>FAT-</td>\n",
              "      <td>CHOCDF-</td>\n",
              "    </tr>\n",
              "    <tr>\n",
              "      <th>11</th>\n",
              "      <td>アーティチョーク 花らい 生</td>\n",
              "      <td>39</td>\n",
              "      <td>2.3</td>\n",
              "      <td>0.2</td>\n",
              "      <td>11.3</td>\n",
              "    </tr>\n",
              "    <tr>\n",
              "      <th>12</th>\n",
              "      <td>アーティチョーク 花らい ゆで</td>\n",
              "      <td>35</td>\n",
              "      <td>2.1</td>\n",
              "      <td>0.1</td>\n",
              "      <td>10.8</td>\n",
              "    </tr>\n",
              "    <tr>\n",
              "      <th>13</th>\n",
              "      <td>あさつき 葉 生</td>\n",
              "      <td>34</td>\n",
              "      <td>4.2</td>\n",
              "      <td>0.3</td>\n",
              "      <td>5.6</td>\n",
              "    </tr>\n",
              "    <tr>\n",
              "      <th>14</th>\n",
              "      <td>あさつき 葉 ゆで</td>\n",
              "      <td>41</td>\n",
              "      <td>4.2</td>\n",
              "      <td>0.3</td>\n",
              "      <td>7.3</td>\n",
              "    </tr>\n",
              "    <tr>\n",
              "      <th>...</th>\n",
              "      <td>...</td>\n",
              "      <td>...</td>\n",
              "      <td>...</td>\n",
              "      <td>...</td>\n",
              "      <td>...</td>\n",
              "    </tr>\n",
              "    <tr>\n",
              "      <th>407</th>\n",
              "      <td>（その他） ミックスベジタブル 冷凍</td>\n",
              "      <td>67</td>\n",
              "      <td>3.0</td>\n",
              "      <td>0.7</td>\n",
              "      <td>15.1</td>\n",
              "    </tr>\n",
              "    <tr>\n",
              "      <th>408</th>\n",
              "      <td>（その他） ミックスベジタブル 冷凍 ゆで</td>\n",
              "      <td>65</td>\n",
              "      <td>3.1</td>\n",
              "      <td>0.8</td>\n",
              "      <td>14.6</td>\n",
              "    </tr>\n",
              "    <tr>\n",
              "      <th>409</th>\n",
              "      <td>（その他） ミックスベジタブル 冷凍 油いため</td>\n",
              "      <td>108</td>\n",
              "      <td>3.3</td>\n",
              "      <td>4.9</td>\n",
              "      <td>15.7</td>\n",
              "    </tr>\n",
              "    <tr>\n",
              "      <th>410</th>\n",
              "      <td>（その他） 野菜ミックスジュース 通常タイプ</td>\n",
              "      <td>21</td>\n",
              "      <td>0.8</td>\n",
              "      <td>0.1</td>\n",
              "      <td>4.7</td>\n",
              "    </tr>\n",
              "    <tr>\n",
              "      <th>411</th>\n",
              "      <td>（その他） 野菜ミックスジュース 濃縮タイプ</td>\n",
              "      <td>36</td>\n",
              "      <td>1.0</td>\n",
              "      <td>0.3</td>\n",
              "      <td>7.8</td>\n",
              "    </tr>\n",
              "  </tbody>\n",
              "</table>\n",
              "<p>402 rows × 5 columns</p>\n",
              "</div>"
            ],
            "text/plain": [
              "                         食品名 エネルギー(kcal) たんぱく質(g) 脂質(g)  炭水化物(g)\n",
              "10                     成分識別子  ENERC_KCAL    PROT-  FAT-  CHOCDF-\n",
              "11            アーティチョーク 花らい 生          39      2.3   0.2     11.3\n",
              "12           アーティチョーク 花らい ゆで          35      2.1   0.1     10.8\n",
              "13                  あさつき 葉 生          34      4.2   0.3      5.6\n",
              "14                 あさつき 葉 ゆで          41      4.2   0.3      7.3\n",
              "..                       ...         ...      ...   ...      ...\n",
              "407       （その他） ミックスベジタブル 冷凍          67      3.0   0.7     15.1\n",
              "408    （その他） ミックスベジタブル 冷凍 ゆで          65      3.1   0.8     14.6\n",
              "409  （その他） ミックスベジタブル 冷凍 油いため         108      3.3   4.9     15.7\n",
              "410   （その他） 野菜ミックスジュース 通常タイプ          21      0.8   0.1      4.7\n",
              "411   （その他） 野菜ミックスジュース 濃縮タイプ          36      1.0   0.3      7.8\n",
              "\n",
              "[402 rows x 5 columns]"
            ]
          },
          "metadata": {},
          "execution_count": 49
        }
      ]
    },
    {
      "cell_type": "markdown",
      "metadata": {
        "id": "di6-R2kIx88j"
      },
      "source": [
        "特定のキーワードを含むものを全て取得して、  \n",
        "食品名を細かく指定したり、対応する行番号のインデックスを取得できたりする"
      ]
    },
    {
      "cell_type": "code",
      "metadata": {
        "id": "XDN2orG9xP_j",
        "outputId": "8aa0f63b-00e9-4582-c85b-813c3f26dbb7",
        "colab": {
          "base_uri": "https://localhost:8080/",
          "height": 269
        }
      },
      "source": [
        "kyabetu = ndf6[ndf6[\"食品名\"].str.contains('キャベツ')]\n",
        "kyabetu"
      ],
      "execution_count": 51,
      "outputs": [
        {
          "output_type": "execute_result",
          "data": {
            "text/html": [
              "<div>\n",
              "<style scoped>\n",
              "    .dataframe tbody tr th:only-of-type {\n",
              "        vertical-align: middle;\n",
              "    }\n",
              "\n",
              "    .dataframe tbody tr th {\n",
              "        vertical-align: top;\n",
              "    }\n",
              "\n",
              "    .dataframe thead th {\n",
              "        text-align: right;\n",
              "    }\n",
              "</style>\n",
              "<table border=\"1\" class=\"dataframe\">\n",
              "  <thead>\n",
              "    <tr style=\"text-align: right;\">\n",
              "      <th></th>\n",
              "      <th>食品名</th>\n",
              "      <th>エネルギー(kcal)</th>\n",
              "      <th>たんぱく質(g)</th>\n",
              "      <th>脂質(g)</th>\n",
              "      <th>炭水化物(g)</th>\n",
              "    </tr>\n",
              "  </thead>\n",
              "  <tbody>\n",
              "    <tr>\n",
              "      <th>81</th>\n",
              "      <td>（キャベツ類） キャベツ 結球葉 生</td>\n",
              "      <td>21</td>\n",
              "      <td>1.3</td>\n",
              "      <td>0.2</td>\n",
              "      <td>5.2</td>\n",
              "    </tr>\n",
              "    <tr>\n",
              "      <th>82</th>\n",
              "      <td>（キャベツ類） キャベツ 結球葉 ゆで</td>\n",
              "      <td>19</td>\n",
              "      <td>0.9</td>\n",
              "      <td>0.2</td>\n",
              "      <td>4.6</td>\n",
              "    </tr>\n",
              "    <tr>\n",
              "      <th>83</th>\n",
              "      <td>（キャベツ類） キャベツ 結球葉 油いため</td>\n",
              "      <td>78</td>\n",
              "      <td>1.6</td>\n",
              "      <td>6.0</td>\n",
              "      <td>5.9</td>\n",
              "    </tr>\n",
              "    <tr>\n",
              "      <th>84</th>\n",
              "      <td>（キャベツ類） グリーンボール 結球葉 生</td>\n",
              "      <td>20</td>\n",
              "      <td>1.4</td>\n",
              "      <td>0.1</td>\n",
              "      <td>4.3</td>\n",
              "    </tr>\n",
              "    <tr>\n",
              "      <th>85</th>\n",
              "      <td>（キャベツ類） レッドキャベツ 結球葉 生</td>\n",
              "      <td>30</td>\n",
              "      <td>2.0</td>\n",
              "      <td>0.1</td>\n",
              "      <td>6.7</td>\n",
              "    </tr>\n",
              "    <tr>\n",
              "      <th>358</th>\n",
              "      <td>めキャベツ 結球葉 生</td>\n",
              "      <td>52</td>\n",
              "      <td>5.7</td>\n",
              "      <td>0.1</td>\n",
              "      <td>9.9</td>\n",
              "    </tr>\n",
              "    <tr>\n",
              "      <th>359</th>\n",
              "      <td>めキャベツ 結球葉 ゆで</td>\n",
              "      <td>51</td>\n",
              "      <td>5.3</td>\n",
              "      <td>0.1</td>\n",
              "      <td>9.8</td>\n",
              "    </tr>\n",
              "  </tbody>\n",
              "</table>\n",
              "</div>"
            ],
            "text/plain": [
              "                       食品名 エネルギー(kcal) たんぱく質(g) 脂質(g) 炭水化物(g)\n",
              "81      （キャベツ類） キャベツ 結球葉 生          21      1.3   0.2     5.2\n",
              "82     （キャベツ類） キャベツ 結球葉 ゆで          19      0.9   0.2     4.6\n",
              "83   （キャベツ類） キャベツ 結球葉 油いため          78      1.6   6.0     5.9\n",
              "84   （キャベツ類） グリーンボール 結球葉 生          20      1.4   0.1     4.3\n",
              "85   （キャベツ類） レッドキャベツ 結球葉 生          30      2.0   0.1     6.7\n",
              "358            めキャベツ 結球葉 生          52      5.7   0.1     9.9\n",
              "359           めキャベツ 結球葉 ゆで          51      5.3   0.1     9.8"
            ]
          },
          "metadata": {},
          "execution_count": 51
        }
      ]
    },
    {
      "cell_type": "code",
      "metadata": {
        "id": "QboGKX8bx0yB",
        "outputId": "fe478029-75ca-4804-cc50-651b59a41c88",
        "colab": {
          "base_uri": "https://localhost:8080/",
          "height": 331
        }
      },
      "source": [
        "tomato = ndf6[ndf6[\"食品名\"].str.contains('トマト')]\n",
        "tomato"
      ],
      "execution_count": 52,
      "outputs": [
        {
          "output_type": "execute_result",
          "data": {
            "text/html": [
              "<div>\n",
              "<style scoped>\n",
              "    .dataframe tbody tr th:only-of-type {\n",
              "        vertical-align: middle;\n",
              "    }\n",
              "\n",
              "    .dataframe tbody tr th {\n",
              "        vertical-align: top;\n",
              "    }\n",
              "\n",
              "    .dataframe thead th {\n",
              "        text-align: right;\n",
              "    }\n",
              "</style>\n",
              "<table border=\"1\" class=\"dataframe\">\n",
              "  <thead>\n",
              "    <tr style=\"text-align: right;\">\n",
              "      <th></th>\n",
              "      <th>食品名</th>\n",
              "      <th>エネルギー(kcal)</th>\n",
              "      <th>たんぱく質(g)</th>\n",
              "      <th>脂質(g)</th>\n",
              "      <th>炭水化物(g)</th>\n",
              "    </tr>\n",
              "  </thead>\n",
              "  <tbody>\n",
              "    <tr>\n",
              "      <th>221</th>\n",
              "      <td>（トマト類） 赤色トマト 果実 生</td>\n",
              "      <td>20</td>\n",
              "      <td>0.7</td>\n",
              "      <td>0.1</td>\n",
              "      <td>4.7</td>\n",
              "    </tr>\n",
              "    <tr>\n",
              "      <th>222</th>\n",
              "      <td>（トマト類） 赤色ミニトマト 果実 生</td>\n",
              "      <td>30</td>\n",
              "      <td>1.1</td>\n",
              "      <td>0.1</td>\n",
              "      <td>7.2</td>\n",
              "    </tr>\n",
              "    <tr>\n",
              "      <th>223</th>\n",
              "      <td>（トマト類） 黄色トマト 果実 生</td>\n",
              "      <td>18</td>\n",
              "      <td>1.1</td>\n",
              "      <td>0.4</td>\n",
              "      <td>3.2</td>\n",
              "    </tr>\n",
              "    <tr>\n",
              "      <th>224</th>\n",
              "      <td>（トマト類） ドライトマト</td>\n",
              "      <td>291</td>\n",
              "      <td>14.2</td>\n",
              "      <td>2.1</td>\n",
              "      <td>67.3</td>\n",
              "    </tr>\n",
              "    <tr>\n",
              "      <th>225</th>\n",
              "      <td>（トマト類） 加工品 ホール 食塩無添加</td>\n",
              "      <td>21</td>\n",
              "      <td>0.9</td>\n",
              "      <td>0.2</td>\n",
              "      <td>4.4</td>\n",
              "    </tr>\n",
              "    <tr>\n",
              "      <th>226</th>\n",
              "      <td>（トマト類） 加工品 トマトジュース 食塩添加</td>\n",
              "      <td>15</td>\n",
              "      <td>0.7</td>\n",
              "      <td>0.1</td>\n",
              "      <td>4.0</td>\n",
              "    </tr>\n",
              "    <tr>\n",
              "      <th>227</th>\n",
              "      <td>（トマト類） 加工品 トマトジュース 食塩無添加</td>\n",
              "      <td>18</td>\n",
              "      <td>0.7</td>\n",
              "      <td>0.1</td>\n",
              "      <td>4.0</td>\n",
              "    </tr>\n",
              "    <tr>\n",
              "      <th>228</th>\n",
              "      <td>（トマト類） 加工品 ミックスジュース 食塩添加</td>\n",
              "      <td>18</td>\n",
              "      <td>0.6</td>\n",
              "      <td>0</td>\n",
              "      <td>4.3</td>\n",
              "    </tr>\n",
              "    <tr>\n",
              "      <th>229</th>\n",
              "      <td>（トマト類） 加工品 ミックスジュース 食塩無添加</td>\n",
              "      <td>18</td>\n",
              "      <td>0.6</td>\n",
              "      <td>0</td>\n",
              "      <td>4.3</td>\n",
              "    </tr>\n",
              "  </tbody>\n",
              "</table>\n",
              "</div>"
            ],
            "text/plain": [
              "                           食品名 エネルギー(kcal) たんぱく質(g) 脂質(g) 炭水化物(g)\n",
              "221          （トマト類） 赤色トマト 果実 生          20      0.7   0.1     4.7\n",
              "222        （トマト類） 赤色ミニトマト 果実 生          30      1.1   0.1     7.2\n",
              "223          （トマト類） 黄色トマト 果実 生          18      1.1   0.4     3.2\n",
              "224              （トマト類） ドライトマト         291     14.2   2.1    67.3\n",
              "225       （トマト類） 加工品 ホール 食塩無添加          21      0.9   0.2     4.4\n",
              "226    （トマト類） 加工品 トマトジュース 食塩添加          15      0.7   0.1     4.0\n",
              "227   （トマト類） 加工品 トマトジュース 食塩無添加          18      0.7   0.1     4.0\n",
              "228   （トマト類） 加工品 ミックスジュース 食塩添加          18      0.6     0     4.3\n",
              "229  （トマト類） 加工品 ミックスジュース 食塩無添加          18      0.6     0     4.3"
            ]
          },
          "metadata": {},
          "execution_count": 52
        }
      ]
    },
    {
      "cell_type": "markdown",
      "metadata": {
        "id": "ojENrlEZGepm"
      },
      "source": [
        "DataFrame同士を結合してまとめるなどして  \n",
        "扱いやすいデータに整形していく.\n",
        "\n",
        "縦方向の結合はpandasのconcat(concatenateの略)を使う。"
      ]
    },
    {
      "cell_type": "code",
      "metadata": {
        "id": "SKoSAqvNGkrt",
        "outputId": "459b6174-5a19-4513-9e68-0a563532f2a9",
        "colab": {
          "base_uri": "https://localhost:8080/",
          "height": 551
        }
      },
      "source": [
        "tdf = pd.concat([kyabetu, tomato])\n",
        "tdf"
      ],
      "execution_count": 53,
      "outputs": [
        {
          "output_type": "execute_result",
          "data": {
            "text/html": [
              "<div>\n",
              "<style scoped>\n",
              "    .dataframe tbody tr th:only-of-type {\n",
              "        vertical-align: middle;\n",
              "    }\n",
              "\n",
              "    .dataframe tbody tr th {\n",
              "        vertical-align: top;\n",
              "    }\n",
              "\n",
              "    .dataframe thead th {\n",
              "        text-align: right;\n",
              "    }\n",
              "</style>\n",
              "<table border=\"1\" class=\"dataframe\">\n",
              "  <thead>\n",
              "    <tr style=\"text-align: right;\">\n",
              "      <th></th>\n",
              "      <th>食品名</th>\n",
              "      <th>エネルギー(kcal)</th>\n",
              "      <th>たんぱく質(g)</th>\n",
              "      <th>脂質(g)</th>\n",
              "      <th>炭水化物(g)</th>\n",
              "    </tr>\n",
              "  </thead>\n",
              "  <tbody>\n",
              "    <tr>\n",
              "      <th>81</th>\n",
              "      <td>（キャベツ類） キャベツ 結球葉 生</td>\n",
              "      <td>21</td>\n",
              "      <td>1.3</td>\n",
              "      <td>0.2</td>\n",
              "      <td>5.2</td>\n",
              "    </tr>\n",
              "    <tr>\n",
              "      <th>82</th>\n",
              "      <td>（キャベツ類） キャベツ 結球葉 ゆで</td>\n",
              "      <td>19</td>\n",
              "      <td>0.9</td>\n",
              "      <td>0.2</td>\n",
              "      <td>4.6</td>\n",
              "    </tr>\n",
              "    <tr>\n",
              "      <th>83</th>\n",
              "      <td>（キャベツ類） キャベツ 結球葉 油いため</td>\n",
              "      <td>78</td>\n",
              "      <td>1.6</td>\n",
              "      <td>6.0</td>\n",
              "      <td>5.9</td>\n",
              "    </tr>\n",
              "    <tr>\n",
              "      <th>84</th>\n",
              "      <td>（キャベツ類） グリーンボール 結球葉 生</td>\n",
              "      <td>20</td>\n",
              "      <td>1.4</td>\n",
              "      <td>0.1</td>\n",
              "      <td>4.3</td>\n",
              "    </tr>\n",
              "    <tr>\n",
              "      <th>85</th>\n",
              "      <td>（キャベツ類） レッドキャベツ 結球葉 生</td>\n",
              "      <td>30</td>\n",
              "      <td>2.0</td>\n",
              "      <td>0.1</td>\n",
              "      <td>6.7</td>\n",
              "    </tr>\n",
              "    <tr>\n",
              "      <th>358</th>\n",
              "      <td>めキャベツ 結球葉 生</td>\n",
              "      <td>52</td>\n",
              "      <td>5.7</td>\n",
              "      <td>0.1</td>\n",
              "      <td>9.9</td>\n",
              "    </tr>\n",
              "    <tr>\n",
              "      <th>359</th>\n",
              "      <td>めキャベツ 結球葉 ゆで</td>\n",
              "      <td>51</td>\n",
              "      <td>5.3</td>\n",
              "      <td>0.1</td>\n",
              "      <td>9.8</td>\n",
              "    </tr>\n",
              "    <tr>\n",
              "      <th>221</th>\n",
              "      <td>（トマト類） 赤色トマト 果実 生</td>\n",
              "      <td>20</td>\n",
              "      <td>0.7</td>\n",
              "      <td>0.1</td>\n",
              "      <td>4.7</td>\n",
              "    </tr>\n",
              "    <tr>\n",
              "      <th>222</th>\n",
              "      <td>（トマト類） 赤色ミニトマト 果実 生</td>\n",
              "      <td>30</td>\n",
              "      <td>1.1</td>\n",
              "      <td>0.1</td>\n",
              "      <td>7.2</td>\n",
              "    </tr>\n",
              "    <tr>\n",
              "      <th>223</th>\n",
              "      <td>（トマト類） 黄色トマト 果実 生</td>\n",
              "      <td>18</td>\n",
              "      <td>1.1</td>\n",
              "      <td>0.4</td>\n",
              "      <td>3.2</td>\n",
              "    </tr>\n",
              "    <tr>\n",
              "      <th>224</th>\n",
              "      <td>（トマト類） ドライトマト</td>\n",
              "      <td>291</td>\n",
              "      <td>14.2</td>\n",
              "      <td>2.1</td>\n",
              "      <td>67.3</td>\n",
              "    </tr>\n",
              "    <tr>\n",
              "      <th>225</th>\n",
              "      <td>（トマト類） 加工品 ホール 食塩無添加</td>\n",
              "      <td>21</td>\n",
              "      <td>0.9</td>\n",
              "      <td>0.2</td>\n",
              "      <td>4.4</td>\n",
              "    </tr>\n",
              "    <tr>\n",
              "      <th>226</th>\n",
              "      <td>（トマト類） 加工品 トマトジュース 食塩添加</td>\n",
              "      <td>15</td>\n",
              "      <td>0.7</td>\n",
              "      <td>0.1</td>\n",
              "      <td>4.0</td>\n",
              "    </tr>\n",
              "    <tr>\n",
              "      <th>227</th>\n",
              "      <td>（トマト類） 加工品 トマトジュース 食塩無添加</td>\n",
              "      <td>18</td>\n",
              "      <td>0.7</td>\n",
              "      <td>0.1</td>\n",
              "      <td>4.0</td>\n",
              "    </tr>\n",
              "    <tr>\n",
              "      <th>228</th>\n",
              "      <td>（トマト類） 加工品 ミックスジュース 食塩添加</td>\n",
              "      <td>18</td>\n",
              "      <td>0.6</td>\n",
              "      <td>0</td>\n",
              "      <td>4.3</td>\n",
              "    </tr>\n",
              "    <tr>\n",
              "      <th>229</th>\n",
              "      <td>（トマト類） 加工品 ミックスジュース 食塩無添加</td>\n",
              "      <td>18</td>\n",
              "      <td>0.6</td>\n",
              "      <td>0</td>\n",
              "      <td>4.3</td>\n",
              "    </tr>\n",
              "  </tbody>\n",
              "</table>\n",
              "</div>"
            ],
            "text/plain": [
              "                           食品名 エネルギー(kcal) たんぱく質(g) 脂質(g) 炭水化物(g)\n",
              "81          （キャベツ類） キャベツ 結球葉 生          21      1.3   0.2     5.2\n",
              "82         （キャベツ類） キャベツ 結球葉 ゆで          19      0.9   0.2     4.6\n",
              "83       （キャベツ類） キャベツ 結球葉 油いため          78      1.6   6.0     5.9\n",
              "84       （キャベツ類） グリーンボール 結球葉 生          20      1.4   0.1     4.3\n",
              "85       （キャベツ類） レッドキャベツ 結球葉 生          30      2.0   0.1     6.7\n",
              "358                めキャベツ 結球葉 生          52      5.7   0.1     9.9\n",
              "359               めキャベツ 結球葉 ゆで          51      5.3   0.1     9.8\n",
              "221          （トマト類） 赤色トマト 果実 生          20      0.7   0.1     4.7\n",
              "222        （トマト類） 赤色ミニトマト 果実 生          30      1.1   0.1     7.2\n",
              "223          （トマト類） 黄色トマト 果実 生          18      1.1   0.4     3.2\n",
              "224              （トマト類） ドライトマト         291     14.2   2.1    67.3\n",
              "225       （トマト類） 加工品 ホール 食塩無添加          21      0.9   0.2     4.4\n",
              "226    （トマト類） 加工品 トマトジュース 食塩添加          15      0.7   0.1     4.0\n",
              "227   （トマト類） 加工品 トマトジュース 食塩無添加          18      0.7   0.1     4.0\n",
              "228   （トマト類） 加工品 ミックスジュース 食塩添加          18      0.6     0     4.3\n",
              "229  （トマト類） 加工品 ミックスジュース 食塩無添加          18      0.6     0     4.3"
            ]
          },
          "metadata": {},
          "execution_count": 53
        }
      ]
    },
    {
      "cell_type": "markdown",
      "metadata": {
        "id": "dPK_KIGcyuod"
      },
      "source": [
        "# LICENSE"
      ]
    },
    {
      "cell_type": "markdown",
      "metadata": {
        "id": "q943wB7Z4DYK"
      },
      "source": [
        "\n",
        "Copyright (C) 2021 Sota Yoshida\n",
        "\n",
        "[ライセンス:クリエイティブ・コモンズ 4.0 表示 (CC-BY 4.0)](https://creativecommons.org/licenses/by/4.0/deed.ja)"
      ]
    }
  ]
}