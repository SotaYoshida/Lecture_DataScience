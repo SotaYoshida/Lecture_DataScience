{
  "nbformat": 4,
  "nbformat_minor": 0,
  "metadata": {
    "colab": {
      "name": "Python_misc_Pandas.ipynb",
      "provenance": [],
      "collapsed_sections": [],
      "include_colab_link": true
    },
    "kernelspec": {
      "name": "python3",
      "display_name": "Python 3"
    }
  },
  "cells": [
    {
      "cell_type": "markdown",
      "metadata": {
        "id": "view-in-github",
        "colab_type": "text"
      },
      "source": [
        "<a href=\"https://colab.research.google.com/github/SotaYoshida/Lecture_DataScience/blob/2021/notebooks/Python_misc_Pandas.ipynb\" target=\"_parent\"><img src=\"https://colab.research.google.com/assets/colab-badge.svg\" alt=\"Open In Colab\"/></a>"
      ]
    },
    {
      "cell_type": "markdown",
      "metadata": {
        "id": "g05kSZSuyD8r"
      },
      "source": [
        "# Pandasの使い方 (基礎)"
      ]
    },
    {
      "cell_type": "markdown",
      "metadata": {
        "id": "NnDUb09nyHXf"
      },
      "source": [
        "```Pandas```は、データ分析のためのライブラリで  \n",
        "統計量を計算・表示したり、それらをグラフとして可視化出来たり  \n",
        "データサイエンスや機械学習などで必要な作業を簡単に行うことができます。\n",
        "\n",
        "Numpyや機械学習ライブラリなどに入れるデータの前処理などにもよく用いられます。\n",
        "\n",
        "まずはインポートしましょう。```pd```という名前で使うのが慣例です。"
      ]
    },
    {
      "cell_type": "code",
      "metadata": {
        "id": "G0LxApMex5f6"
      },
      "source": [
        "import pandas as pd "
      ],
      "execution_count": null,
      "outputs": []
    },
    {
      "cell_type": "markdown",
      "metadata": {
        "id": "-1ut22WgzFeQ"
      },
      "source": [
        "## DataFrame型"
      ]
    },
    {
      "cell_type": "markdown",
      "metadata": {
        "id": "A-RriyHt1r-p"
      },
      "source": [
        "DataFrameは二次元のデータを表現するのに利用され  \n",
        "各種データ分析などで非常に役にたちます。"
      ]
    },
    {
      "cell_type": "code",
      "metadata": {
        "id": "Ubw2JSMmzCkX"
      },
      "source": [
        "from pandas import DataFrame"
      ],
      "execution_count": null,
      "outputs": []
    },
    {
      "cell_type": "markdown",
      "metadata": {
        "id": "oeBpZK4l7knI"
      },
      "source": [
        "以下の辞書型をDataFrame型のオブジェクトに変換してみましょう。"
      ]
    },
    {
      "cell_type": "code",
      "metadata": {
        "colab": {
          "base_uri": "https://localhost:8080/"
        },
        "id": "HKPVuPjz7jmb",
        "outputId": "4c2b15de-4da7-4780-8bcc-2352a52cf35c"
      },
      "source": [
        "data = { '名前': [\"Aさん\", \"Bさん\", \"Cさん\", \"Dさん\", \"Eさん\"],\n",
        "        '出身都道府県':['Tokyo', 'Tochigi', 'Hokkaido','Kyoto','Tochigi'],\n",
        "        '生年': [ 1998, 1993,2000,1989,2002],\n",
        "        '身長': [172, 156, 162, 180,158]}\n",
        "df = DataFrame(data)\n",
        "print(\"dataの型\", type(data))\n",
        "print(\"dfの型\",type(df))"
      ],
      "execution_count": null,
      "outputs": [
        {
          "output_type": "stream",
          "text": [
            "dataの型 <class 'dict'>\n",
            "dfの型 <class 'pandas.core.frame.DataFrame'>\n"
          ],
          "name": "stdout"
        }
      ]
    },
    {
      "cell_type": "markdown",
      "metadata": {
        "id": "5F90_vjr8ukA"
      },
      "source": [
        "jupyter環境でDataFrameを読むと、\"いい感じ\"に表示してくれる"
      ]
    },
    {
      "cell_type": "code",
      "metadata": {
        "colab": {
          "base_uri": "https://localhost:8080/",
          "height": 198
        },
        "id": "8VZZ6asj8qie",
        "outputId": "95199471-dfd8-4e80-c6b1-cd3e89d03ed1"
      },
      "source": [
        "df"
      ],
      "execution_count": null,
      "outputs": [
        {
          "output_type": "execute_result",
          "data": {
            "text/html": [
              "<div>\n",
              "<style scoped>\n",
              "    .dataframe tbody tr th:only-of-type {\n",
              "        vertical-align: middle;\n",
              "    }\n",
              "\n",
              "    .dataframe tbody tr th {\n",
              "        vertical-align: top;\n",
              "    }\n",
              "\n",
              "    .dataframe thead th {\n",
              "        text-align: right;\n",
              "    }\n",
              "</style>\n",
              "<table border=\"1\" class=\"dataframe\">\n",
              "  <thead>\n",
              "    <tr style=\"text-align: right;\">\n",
              "      <th></th>\n",
              "      <th>名前</th>\n",
              "      <th>出身都道府県</th>\n",
              "      <th>生年</th>\n",
              "      <th>身長</th>\n",
              "    </tr>\n",
              "  </thead>\n",
              "  <tbody>\n",
              "    <tr>\n",
              "      <th>0</th>\n",
              "      <td>Aさん</td>\n",
              "      <td>Tokyo</td>\n",
              "      <td>1998</td>\n",
              "      <td>172</td>\n",
              "    </tr>\n",
              "    <tr>\n",
              "      <th>1</th>\n",
              "      <td>Bさん</td>\n",
              "      <td>Tochigi</td>\n",
              "      <td>1993</td>\n",
              "      <td>156</td>\n",
              "    </tr>\n",
              "    <tr>\n",
              "      <th>2</th>\n",
              "      <td>Cさん</td>\n",
              "      <td>Hokkaido</td>\n",
              "      <td>2000</td>\n",
              "      <td>162</td>\n",
              "    </tr>\n",
              "    <tr>\n",
              "      <th>3</th>\n",
              "      <td>Dさん</td>\n",
              "      <td>Kyoto</td>\n",
              "      <td>1989</td>\n",
              "      <td>180</td>\n",
              "    </tr>\n",
              "    <tr>\n",
              "      <th>4</th>\n",
              "      <td>Eさん</td>\n",
              "      <td>Tochigi</td>\n",
              "      <td>2002</td>\n",
              "      <td>158</td>\n",
              "    </tr>\n",
              "  </tbody>\n",
              "</table>\n",
              "</div>"
            ],
            "text/plain": [
              "    名前    出身都道府県    生年   身長\n",
              "0  Aさん     Tokyo  1998  172\n",
              "1  Bさん   Tochigi  1993  156\n",
              "2  Cさん  Hokkaido  2000  162\n",
              "3  Dさん     Kyoto  1989  180\n",
              "4  Eさん   Tochigi  2002  158"
            ]
          },
          "metadata": {
            "tags": []
          },
          "execution_count": 4
        }
      ]
    },
    {
      "cell_type": "markdown",
      "metadata": {
        "id": "BkqFef0A83To"
      },
      "source": [
        "printだとちょっと無機質な感じに。"
      ]
    },
    {
      "cell_type": "code",
      "metadata": {
        "colab": {
          "base_uri": "https://localhost:8080/"
        },
        "id": "xiIqLRFG82BW",
        "outputId": "1f94bed3-5966-4282-cd91-0ec628b6f8c6"
      },
      "source": [
        "print(df)"
      ],
      "execution_count": null,
      "outputs": [
        {
          "output_type": "stream",
          "text": [
            "    名前    出身都道府県    生年   身長\n",
            "0  Aさん     Tokyo  1998  172\n",
            "1  Bさん   Tochigi  1993  156\n",
            "2  Cさん  Hokkaido  2000  162\n",
            "3  Dさん     Kyoto  1989  180\n",
            "4  Eさん   Tochigi  2002  158\n"
          ],
          "name": "stdout"
        }
      ]
    },
    {
      "cell_type": "markdown",
      "metadata": {
        "id": "vn8s-8VR7b6Q"
      },
      "source": [
        "```info()```関数を作用させると、詳細な情報が得られる。  \n",
        "列ごとにどんな種類のデータが格納されているのかや、\n",
        "メモリ使用量など表示することができる。"
      ]
    },
    {
      "cell_type": "code",
      "metadata": {
        "colab": {
          "base_uri": "https://localhost:8080/"
        },
        "id": "2KsTF1d17anv",
        "outputId": "6a607cd0-f15b-4086-f9d2-cd50c02a4f55"
      },
      "source": [
        "df.info()"
      ],
      "execution_count": null,
      "outputs": [
        {
          "output_type": "stream",
          "text": [
            "<class 'pandas.core.frame.DataFrame'>\n",
            "RangeIndex: 5 entries, 0 to 4\n",
            "Data columns (total 4 columns):\n",
            " #   Column  Non-Null Count  Dtype \n",
            "---  ------  --------------  ----- \n",
            " 0   名前      5 non-null      object\n",
            " 1   出身都道府県  5 non-null      object\n",
            " 2   生年      5 non-null      int64 \n",
            " 3   身長      5 non-null      int64 \n",
            "dtypes: int64(2), object(2)\n",
            "memory usage: 288.0+ bytes\n"
          ],
          "name": "stdout"
        }
      ]
    },
    {
      "cell_type": "markdown",
      "metadata": {
        "id": "-TsUcNTsBIIi"
      },
      "source": [
        "## DataFrameの要素を確認・指定する方法"
      ]
    },
    {
      "cell_type": "markdown",
      "metadata": {
        "id": "6ChkvnngBLb_"
      },
      "source": [
        "index: 行方向のデータ項目(おもに整数値(行番号),ID,名前など)  \n",
        "columns: 列方向のデータの項目(おもにデータの種類)  \n",
        "をそれぞれ表示してみよう。"
      ]
    },
    {
      "cell_type": "code",
      "metadata": {
        "colab": {
          "base_uri": "https://localhost:8080/"
        },
        "id": "YkQCL0ay59o8",
        "outputId": "3cc74ed6-3e17-4bc6-9a60-e2e81ad6c307"
      },
      "source": [
        "df.index"
      ],
      "execution_count": null,
      "outputs": [
        {
          "output_type": "execute_result",
          "data": {
            "text/plain": [
              "RangeIndex(start=0, stop=5, step=1)"
            ]
          },
          "metadata": {
            "tags": []
          },
          "execution_count": 7
        }
      ]
    },
    {
      "cell_type": "code",
      "metadata": {
        "colab": {
          "base_uri": "https://localhost:8080/"
        },
        "id": "WNqLrkQ35-4O",
        "outputId": "a2391ae4-0e53-4207-f20a-2aa0fda632f7"
      },
      "source": [
        "df.columns"
      ],
      "execution_count": null,
      "outputs": [
        {
          "output_type": "execute_result",
          "data": {
            "text/plain": [
              "Index(['名前', '出身都道府県', '生年', '身長'], dtype='object')"
            ]
          },
          "metadata": {
            "tags": []
          },
          "execution_count": 8
        }
      ]
    },
    {
      "cell_type": "markdown",
      "metadata": {
        "id": "-MtegVlt60qr"
      },
      "source": [
        "行方向を、整数値(行数)ではなく名前にしたければ"
      ]
    },
    {
      "cell_type": "code",
      "metadata": {
        "colab": {
          "base_uri": "https://localhost:8080/",
          "height": 198
        },
        "id": "aE51PtdW6pKE",
        "outputId": "9cb9f15e-1b72-4ac7-be75-26083367c2d0"
      },
      "source": [
        "data1 = {'出身都道府県':['Tokyo', 'Tochigi', 'Hokkaido','Kyoto','Tochigi'],\n",
        "        '生年': [ 1998, 1993,2000,1989,2002],\n",
        "        '身長': [172, 156, 162, 180,158]}\n",
        "df1 = DataFrame(data1)\n",
        "df1.index =[\"Aさん\", \"Bさん\", \"Cさん\", \"Dさん\", \"Eさん\"]\n",
        "df1"
      ],
      "execution_count": null,
      "outputs": [
        {
          "output_type": "execute_result",
          "data": {
            "text/html": [
              "<div>\n",
              "<style scoped>\n",
              "    .dataframe tbody tr th:only-of-type {\n",
              "        vertical-align: middle;\n",
              "    }\n",
              "\n",
              "    .dataframe tbody tr th {\n",
              "        vertical-align: top;\n",
              "    }\n",
              "\n",
              "    .dataframe thead th {\n",
              "        text-align: right;\n",
              "    }\n",
              "</style>\n",
              "<table border=\"1\" class=\"dataframe\">\n",
              "  <thead>\n",
              "    <tr style=\"text-align: right;\">\n",
              "      <th></th>\n",
              "      <th>出身都道府県</th>\n",
              "      <th>生年</th>\n",
              "      <th>身長</th>\n",
              "    </tr>\n",
              "  </thead>\n",
              "  <tbody>\n",
              "    <tr>\n",
              "      <th>Aさん</th>\n",
              "      <td>Tokyo</td>\n",
              "      <td>1998</td>\n",
              "      <td>172</td>\n",
              "    </tr>\n",
              "    <tr>\n",
              "      <th>Bさん</th>\n",
              "      <td>Tochigi</td>\n",
              "      <td>1993</td>\n",
              "      <td>156</td>\n",
              "    </tr>\n",
              "    <tr>\n",
              "      <th>Cさん</th>\n",
              "      <td>Hokkaido</td>\n",
              "      <td>2000</td>\n",
              "      <td>162</td>\n",
              "    </tr>\n",
              "    <tr>\n",
              "      <th>Dさん</th>\n",
              "      <td>Kyoto</td>\n",
              "      <td>1989</td>\n",
              "      <td>180</td>\n",
              "    </tr>\n",
              "    <tr>\n",
              "      <th>Eさん</th>\n",
              "      <td>Tochigi</td>\n",
              "      <td>2002</td>\n",
              "      <td>158</td>\n",
              "    </tr>\n",
              "  </tbody>\n",
              "</table>\n",
              "</div>"
            ],
            "text/plain": [
              "       出身都道府県    生年   身長\n",
              "Aさん     Tokyo  1998  172\n",
              "Bさん   Tochigi  1993  156\n",
              "Cさん  Hokkaido  2000  162\n",
              "Dさん     Kyoto  1989  180\n",
              "Eさん   Tochigi  2002  158"
            ]
          },
          "metadata": {
            "tags": []
          },
          "execution_count": 9
        }
      ]
    },
    {
      "cell_type": "markdown",
      "metadata": {
        "id": "LaFJVeL27NqY"
      },
      "source": [
        "などとしてもよい。"
      ]
    },
    {
      "cell_type": "markdown",
      "metadata": {
        "id": "_uFFuzQM8FoQ"
      },
      "source": [
        "### 特定の列を取得したい場合"
      ]
    },
    {
      "cell_type": "code",
      "metadata": {
        "colab": {
          "base_uri": "https://localhost:8080/"
        },
        "id": "oQ9hZkVx8K-p",
        "outputId": "d715397e-ec99-41d3-9609-fd6aa75fc1af"
      },
      "source": [
        "df[\"身長\"]"
      ],
      "execution_count": null,
      "outputs": [
        {
          "output_type": "execute_result",
          "data": {
            "text/plain": [
              "0    172\n",
              "1    156\n",
              "2    162\n",
              "3    180\n",
              "4    158\n",
              "Name: 身長, dtype: int64"
            ]
          },
          "metadata": {
            "tags": []
          },
          "execution_count": 10
        }
      ]
    },
    {
      "cell_type": "markdown",
      "metadata": {
        "id": "zn3WJ4_5946D"
      },
      "source": [
        "とする。  \n",
        "以下の方法は非推奨とする。\n"
      ]
    },
    {
      "cell_type": "code",
      "metadata": {
        "colab": {
          "base_uri": "https://localhost:8080/"
        },
        "id": "3VyUAqQs9596",
        "outputId": "8810efa7-b561-49ad-942a-16506152b516"
      },
      "source": [
        "df.身長"
      ],
      "execution_count": null,
      "outputs": [
        {
          "output_type": "execute_result",
          "data": {
            "text/plain": [
              "0    172\n",
              "1    156\n",
              "2    162\n",
              "3    180\n",
              "4    158\n",
              "Name: 身長, dtype: int64"
            ]
          },
          "metadata": {
            "tags": []
          },
          "execution_count": 11
        }
      ]
    },
    {
      "cell_type": "markdown",
      "metadata": {
        "id": "uK8zkK3h8cpY"
      },
      "source": [
        "値のリスト(正確にはnumpy.ndarray型)として取得したければ"
      ]
    },
    {
      "cell_type": "code",
      "metadata": {
        "colab": {
          "base_uri": "https://localhost:8080/"
        },
        "id": "tozKlT028hfi",
        "outputId": "8e7fb11b-319b-4cc3-cb5c-9831d7c29947"
      },
      "source": [
        "df[\"身長\"].values"
      ],
      "execution_count": null,
      "outputs": [
        {
          "output_type": "execute_result",
          "data": {
            "text/plain": [
              "array([172, 156, 162, 180, 158])"
            ]
          },
          "metadata": {
            "tags": []
          },
          "execution_count": 12
        }
      ]
    },
    {
      "cell_type": "code",
      "metadata": {
        "colab": {
          "base_uri": "https://localhost:8080/"
        },
        "id": "87TOA6-e8j8v",
        "outputId": "b6bf89fa-c42b-4798-d827-78303996973e"
      },
      "source": [
        "df[\"出身都道府県\"].values"
      ],
      "execution_count": null,
      "outputs": [
        {
          "output_type": "execute_result",
          "data": {
            "text/plain": [
              "array(['Tokyo', 'Tochigi', 'Hokkaido', 'Kyoto', 'Tochigi'], dtype=object)"
            ]
          },
          "metadata": {
            "tags": []
          },
          "execution_count": 13
        }
      ]
    },
    {
      "cell_type": "markdown",
      "metadata": {
        "id": "Yh97e7y58yHY"
      },
      "source": [
        "などとすればよい。\n",
        "\n",
        "慣れ親しんだ形に変換したければ、リストに変換すればよい\n"
      ]
    },
    {
      "cell_type": "code",
      "metadata": {
        "colab": {
          "base_uri": "https://localhost:8080/"
        },
        "id": "2Uh6YGih5FjE",
        "outputId": "8e32ed00-cffd-4070-bbbc-3e620ec3edee"
      },
      "source": [
        "list(df[\"出身都道府県\"].values)"
      ],
      "execution_count": null,
      "outputs": [
        {
          "output_type": "execute_result",
          "data": {
            "text/plain": [
              "['Tokyo', 'Tochigi', 'Hokkaido', 'Kyoto', 'Tochigi']"
            ]
          },
          "metadata": {
            "tags": []
          },
          "execution_count": 14
        }
      ]
    },
    {
      "cell_type": "markdown",
      "metadata": {
        "id": "WfpujEkA5BSD"
      },
      "source": [
        "ある列が特定のものに一致するもののみを抽出するのも簡単にできる"
      ]
    },
    {
      "cell_type": "code",
      "metadata": {
        "colab": {
          "base_uri": "https://localhost:8080/",
          "height": 108
        },
        "id": "qlFGoUdc8zPn",
        "outputId": "a4ad9b52-b356-4e43-be3c-f12a9318cb7b"
      },
      "source": [
        "df[df[\"出身都道府県\"]==\"Tochigi\"]"
      ],
      "execution_count": null,
      "outputs": [
        {
          "output_type": "execute_result",
          "data": {
            "text/html": [
              "<div>\n",
              "<style scoped>\n",
              "    .dataframe tbody tr th:only-of-type {\n",
              "        vertical-align: middle;\n",
              "    }\n",
              "\n",
              "    .dataframe tbody tr th {\n",
              "        vertical-align: top;\n",
              "    }\n",
              "\n",
              "    .dataframe thead th {\n",
              "        text-align: right;\n",
              "    }\n",
              "</style>\n",
              "<table border=\"1\" class=\"dataframe\">\n",
              "  <thead>\n",
              "    <tr style=\"text-align: right;\">\n",
              "      <th></th>\n",
              "      <th>名前</th>\n",
              "      <th>出身都道府県</th>\n",
              "      <th>生年</th>\n",
              "      <th>身長</th>\n",
              "    </tr>\n",
              "  </thead>\n",
              "  <tbody>\n",
              "    <tr>\n",
              "      <th>1</th>\n",
              "      <td>Bさん</td>\n",
              "      <td>Tochigi</td>\n",
              "      <td>1993</td>\n",
              "      <td>156</td>\n",
              "    </tr>\n",
              "    <tr>\n",
              "      <th>4</th>\n",
              "      <td>Eさん</td>\n",
              "      <td>Tochigi</td>\n",
              "      <td>2002</td>\n",
              "      <td>158</td>\n",
              "    </tr>\n",
              "  </tbody>\n",
              "</table>\n",
              "</div>"
            ],
            "text/plain": [
              "    名前   出身都道府県    生年   身長\n",
              "1  Bさん  Tochigi  1993  156\n",
              "4  Eさん  Tochigi  2002  158"
            ]
          },
          "metadata": {
            "tags": []
          },
          "execution_count": 15
        }
      ]
    },
    {
      "cell_type": "markdown",
      "metadata": {
        "id": "ItbqbBdn9HG0"
      },
      "source": [
        "これは"
      ]
    },
    {
      "cell_type": "code",
      "metadata": {
        "colab": {
          "base_uri": "https://localhost:8080/"
        },
        "id": "Ubs3Zbjj9KA9",
        "outputId": "faed838e-2fa3-4f35-e2a0-94144f89b191"
      },
      "source": [
        "df[\"出身都道府県\"]==\"Tochigi\""
      ],
      "execution_count": null,
      "outputs": [
        {
          "output_type": "execute_result",
          "data": {
            "text/plain": [
              "0    False\n",
              "1     True\n",
              "2    False\n",
              "3    False\n",
              "4     True\n",
              "Name: 出身都道府県, dtype: bool"
            ]
          },
          "metadata": {
            "tags": []
          },
          "execution_count": 16
        }
      ]
    },
    {
      "cell_type": "markdown",
      "metadata": {
        "id": "bUB1Puao9LqO"
      },
      "source": [
        "が条件に合致するかどうかTrue/Falseの配列になっていて、  \n",
        "df[ [True/Falseの配列] ]とすると、Trueに対応する要素のみを返す  \n",
        "フィルターのような役割になっている。"
      ]
    },
    {
      "cell_type": "markdown",
      "metadata": {
        "id": "S_I81w5L-UOE"
      },
      "source": [
        "### 特定の行を取得したい場合"
      ]
    },
    {
      "cell_type": "markdown",
      "metadata": {
        "id": "he5uTk3H-kMs"
      },
      "source": [
        "たとえば、行番号がわかっているなら、```iloc```関数を使えば良い"
      ]
    },
    {
      "cell_type": "code",
      "metadata": {
        "colab": {
          "base_uri": "https://localhost:8080/"
        },
        "id": "kbxrpQ1E-k8F",
        "outputId": "91821c0d-f164-4c03-d777-8ec32a982439"
      },
      "source": [
        "df.iloc[3]"
      ],
      "execution_count": null,
      "outputs": [
        {
          "output_type": "execute_result",
          "data": {
            "text/plain": [
              "名前          Dさん\n",
              "出身都道府県    Kyoto\n",
              "生年         1989\n",
              "身長          180\n",
              "Name: 3, dtype: object"
            ]
          },
          "metadata": {
            "tags": []
          },
          "execution_count": 17
        }
      ]
    },
    {
      "cell_type": "markdown",
      "metadata": {
        "id": "2998C5BK_Wut"
      },
      "source": [
        "値のみ取得したければ先程と同様"
      ]
    },
    {
      "cell_type": "code",
      "metadata": {
        "colab": {
          "base_uri": "https://localhost:8080/"
        },
        "id": "6HoJX4h__Uj3",
        "outputId": "81754746-61cd-48e4-8612-9576099a69ca"
      },
      "source": [
        "df.iloc[3].values"
      ],
      "execution_count": null,
      "outputs": [
        {
          "output_type": "execute_result",
          "data": {
            "text/plain": [
              "array(['Dさん', 'Kyoto', 1989, 180], dtype=object)"
            ]
          },
          "metadata": {
            "tags": []
          },
          "execution_count": 18
        }
      ]
    },
    {
      "cell_type": "markdown",
      "metadata": {
        "id": "4gwiSube_ax9"
      },
      "source": [
        "また、以下のような使い方もできるが"
      ]
    },
    {
      "cell_type": "code",
      "metadata": {
        "colab": {
          "base_uri": "https://localhost:8080/",
          "height": 138
        },
        "id": "4oabG7uA-TyS",
        "outputId": "4e4101ec-990e-46f7-e645-a88aaa62464c"
      },
      "source": [
        "df[1:4] #1から3行目まで"
      ],
      "execution_count": null,
      "outputs": [
        {
          "output_type": "execute_result",
          "data": {
            "text/html": [
              "<div>\n",
              "<style scoped>\n",
              "    .dataframe tbody tr th:only-of-type {\n",
              "        vertical-align: middle;\n",
              "    }\n",
              "\n",
              "    .dataframe tbody tr th {\n",
              "        vertical-align: top;\n",
              "    }\n",
              "\n",
              "    .dataframe thead th {\n",
              "        text-align: right;\n",
              "    }\n",
              "</style>\n",
              "<table border=\"1\" class=\"dataframe\">\n",
              "  <thead>\n",
              "    <tr style=\"text-align: right;\">\n",
              "      <th></th>\n",
              "      <th>名前</th>\n",
              "      <th>出身都道府県</th>\n",
              "      <th>生年</th>\n",
              "      <th>身長</th>\n",
              "    </tr>\n",
              "  </thead>\n",
              "  <tbody>\n",
              "    <tr>\n",
              "      <th>1</th>\n",
              "      <td>Bさん</td>\n",
              "      <td>Tochigi</td>\n",
              "      <td>1993</td>\n",
              "      <td>156</td>\n",
              "    </tr>\n",
              "    <tr>\n",
              "      <th>2</th>\n",
              "      <td>Cさん</td>\n",
              "      <td>Hokkaido</td>\n",
              "      <td>2000</td>\n",
              "      <td>162</td>\n",
              "    </tr>\n",
              "    <tr>\n",
              "      <th>3</th>\n",
              "      <td>Dさん</td>\n",
              "      <td>Kyoto</td>\n",
              "      <td>1989</td>\n",
              "      <td>180</td>\n",
              "    </tr>\n",
              "  </tbody>\n",
              "</table>\n",
              "</div>"
            ],
            "text/plain": [
              "    名前    出身都道府県    生年   身長\n",
              "1  Bさん   Tochigi  1993  156\n",
              "2  Cさん  Hokkaido  2000  162\n",
              "3  Dさん     Kyoto  1989  180"
            ]
          },
          "metadata": {
            "tags": []
          },
          "execution_count": 19
        }
      ]
    },
    {
      "cell_type": "markdown",
      "metadata": {
        "id": "hbFfX303_eVc"
      },
      "source": [
        "```df[1]```といった使い方は出来ない。  "
      ]
    },
    {
      "cell_type": "markdown",
      "metadata": {
        "id": "oH1A89pw_s6b"
      },
      "source": [
        "### より複雑な行・列の抽出"
      ]
    },
    {
      "cell_type": "markdown",
      "metadata": {
        "id": "vxd7k3f3AJjj"
      },
      "source": [
        "上にならって、2000年より前に生まれた人だけを抽出し"
      ]
    },
    {
      "cell_type": "code",
      "metadata": {
        "colab": {
          "base_uri": "https://localhost:8080/",
          "height": 138
        },
        "id": "rDrnJUg9_w1Q",
        "outputId": "d4649024-2d7d-42d9-baa7-ad3b90ea9b52"
      },
      "source": [
        "df[ df[\"生年\"] < 2000 ]"
      ],
      "execution_count": null,
      "outputs": [
        {
          "output_type": "execute_result",
          "data": {
            "text/html": [
              "<div>\n",
              "<style scoped>\n",
              "    .dataframe tbody tr th:only-of-type {\n",
              "        vertical-align: middle;\n",
              "    }\n",
              "\n",
              "    .dataframe tbody tr th {\n",
              "        vertical-align: top;\n",
              "    }\n",
              "\n",
              "    .dataframe thead th {\n",
              "        text-align: right;\n",
              "    }\n",
              "</style>\n",
              "<table border=\"1\" class=\"dataframe\">\n",
              "  <thead>\n",
              "    <tr style=\"text-align: right;\">\n",
              "      <th></th>\n",
              "      <th>名前</th>\n",
              "      <th>出身都道府県</th>\n",
              "      <th>生年</th>\n",
              "      <th>身長</th>\n",
              "    </tr>\n",
              "  </thead>\n",
              "  <tbody>\n",
              "    <tr>\n",
              "      <th>0</th>\n",
              "      <td>Aさん</td>\n",
              "      <td>Tokyo</td>\n",
              "      <td>1998</td>\n",
              "      <td>172</td>\n",
              "    </tr>\n",
              "    <tr>\n",
              "      <th>1</th>\n",
              "      <td>Bさん</td>\n",
              "      <td>Tochigi</td>\n",
              "      <td>1993</td>\n",
              "      <td>156</td>\n",
              "    </tr>\n",
              "    <tr>\n",
              "      <th>3</th>\n",
              "      <td>Dさん</td>\n",
              "      <td>Kyoto</td>\n",
              "      <td>1989</td>\n",
              "      <td>180</td>\n",
              "    </tr>\n",
              "  </tbody>\n",
              "</table>\n",
              "</div>"
            ],
            "text/plain": [
              "    名前   出身都道府県    生年   身長\n",
              "0  Aさん    Tokyo  1998  172\n",
              "1  Bさん  Tochigi  1993  156\n",
              "3  Dさん    Kyoto  1989  180"
            ]
          },
          "metadata": {
            "tags": []
          },
          "execution_count": 20
        }
      ]
    },
    {
      "cell_type": "markdown",
      "metadata": {
        "id": "iZrMq16v__fV"
      },
      "source": [
        "さらにこのうち身長が170cm以上の人だけがほしければ"
      ]
    },
    {
      "cell_type": "code",
      "metadata": {
        "colab": {
          "base_uri": "https://localhost:8080/",
          "height": 108
        },
        "id": "d6q2DR7nAYEv",
        "outputId": "7afc6729-2b50-4706-87e0-2693743571eb"
      },
      "source": [
        "df[(df[\"生年\"] < 2000) & (df[\"身長\"]>170)]"
      ],
      "execution_count": null,
      "outputs": [
        {
          "output_type": "execute_result",
          "data": {
            "text/html": [
              "<div>\n",
              "<style scoped>\n",
              "    .dataframe tbody tr th:only-of-type {\n",
              "        vertical-align: middle;\n",
              "    }\n",
              "\n",
              "    .dataframe tbody tr th {\n",
              "        vertical-align: top;\n",
              "    }\n",
              "\n",
              "    .dataframe thead th {\n",
              "        text-align: right;\n",
              "    }\n",
              "</style>\n",
              "<table border=\"1\" class=\"dataframe\">\n",
              "  <thead>\n",
              "    <tr style=\"text-align: right;\">\n",
              "      <th></th>\n",
              "      <th>名前</th>\n",
              "      <th>出身都道府県</th>\n",
              "      <th>生年</th>\n",
              "      <th>身長</th>\n",
              "    </tr>\n",
              "  </thead>\n",
              "  <tbody>\n",
              "    <tr>\n",
              "      <th>0</th>\n",
              "      <td>Aさん</td>\n",
              "      <td>Tokyo</td>\n",
              "      <td>1998</td>\n",
              "      <td>172</td>\n",
              "    </tr>\n",
              "    <tr>\n",
              "      <th>3</th>\n",
              "      <td>Dさん</td>\n",
              "      <td>Kyoto</td>\n",
              "      <td>1989</td>\n",
              "      <td>180</td>\n",
              "    </tr>\n",
              "  </tbody>\n",
              "</table>\n",
              "</div>"
            ],
            "text/plain": [
              "    名前 出身都道府県    生年   身長\n",
              "0  Aさん  Tokyo  1998  172\n",
              "3  Dさん  Kyoto  1989  180"
            ]
          },
          "metadata": {
            "tags": []
          },
          "execution_count": 21
        }
      ]
    },
    {
      "cell_type": "markdown",
      "metadata": {
        "id": "-b36txVaA7fQ"
      },
      "source": [
        "などとすればよい。  \n",
        "\n",
        "他にも、\n",
        "\n",
        "```iloc```,```loc```\n",
        "などを用いれば、特定の行・列を抽出することができる\n",
        "\n",
        "ちなみに、```iloc```は番号の指定のみに対応，```loc```は名前のみ。\n",
        "\n",
        "**欲しい要素の数値もしくは項目名のリスト**を、行、列２ついれてやればよい。"
      ]
    },
    {
      "cell_type": "code",
      "metadata": {
        "colab": {
          "base_uri": "https://localhost:8080/",
          "height": 78
        },
        "id": "xZhc6nlDBXJH",
        "outputId": "7d80d663-52ed-45b4-e098-3a1685359438"
      },
      "source": [
        "df.iloc[[0], [0]] #0行目,0列目"
      ],
      "execution_count": null,
      "outputs": [
        {
          "output_type": "execute_result",
          "data": {
            "text/html": [
              "<div>\n",
              "<style scoped>\n",
              "    .dataframe tbody tr th:only-of-type {\n",
              "        vertical-align: middle;\n",
              "    }\n",
              "\n",
              "    .dataframe tbody tr th {\n",
              "        vertical-align: top;\n",
              "    }\n",
              "\n",
              "    .dataframe thead th {\n",
              "        text-align: right;\n",
              "    }\n",
              "</style>\n",
              "<table border=\"1\" class=\"dataframe\">\n",
              "  <thead>\n",
              "    <tr style=\"text-align: right;\">\n",
              "      <th></th>\n",
              "      <th>名前</th>\n",
              "    </tr>\n",
              "  </thead>\n",
              "  <tbody>\n",
              "    <tr>\n",
              "      <th>0</th>\n",
              "      <td>Aさん</td>\n",
              "    </tr>\n",
              "  </tbody>\n",
              "</table>\n",
              "</div>"
            ],
            "text/plain": [
              "    名前\n",
              "0  Aさん"
            ]
          },
          "metadata": {
            "tags": []
          },
          "execution_count": 22
        }
      ]
    },
    {
      "cell_type": "code",
      "metadata": {
        "colab": {
          "base_uri": "https://localhost:8080/",
          "height": 138
        },
        "id": "i-W-XTw9Bz5-",
        "outputId": "794e0ac3-6795-4856-aba5-99ee7052ca49"
      },
      "source": [
        "#スライスで指定することもできる\n",
        "df.iloc[1:4, :3] #1-3行目かつ0-2列目 (スライスの終点は含まれないことに注意)\n",
        "\n",
        "#スライスの場合は、 1:4が[1,2,3]と同じ働きをするので、括弧[]はいらない"
      ],
      "execution_count": null,
      "outputs": [
        {
          "output_type": "execute_result",
          "data": {
            "text/html": [
              "<div>\n",
              "<style scoped>\n",
              "    .dataframe tbody tr th:only-of-type {\n",
              "        vertical-align: middle;\n",
              "    }\n",
              "\n",
              "    .dataframe tbody tr th {\n",
              "        vertical-align: top;\n",
              "    }\n",
              "\n",
              "    .dataframe thead th {\n",
              "        text-align: right;\n",
              "    }\n",
              "</style>\n",
              "<table border=\"1\" class=\"dataframe\">\n",
              "  <thead>\n",
              "    <tr style=\"text-align: right;\">\n",
              "      <th></th>\n",
              "      <th>名前</th>\n",
              "      <th>出身都道府県</th>\n",
              "      <th>生年</th>\n",
              "    </tr>\n",
              "  </thead>\n",
              "  <tbody>\n",
              "    <tr>\n",
              "      <th>1</th>\n",
              "      <td>Bさん</td>\n",
              "      <td>Tochigi</td>\n",
              "      <td>1993</td>\n",
              "    </tr>\n",
              "    <tr>\n",
              "      <th>2</th>\n",
              "      <td>Cさん</td>\n",
              "      <td>Hokkaido</td>\n",
              "      <td>2000</td>\n",
              "    </tr>\n",
              "    <tr>\n",
              "      <th>3</th>\n",
              "      <td>Dさん</td>\n",
              "      <td>Kyoto</td>\n",
              "      <td>1989</td>\n",
              "    </tr>\n",
              "  </tbody>\n",
              "</table>\n",
              "</div>"
            ],
            "text/plain": [
              "    名前    出身都道府県    生年\n",
              "1  Bさん   Tochigi  1993\n",
              "2  Cさん  Hokkaido  2000\n",
              "3  Dさん     Kyoto  1989"
            ]
          },
          "metadata": {
            "tags": []
          },
          "execution_count": 23
        }
      ]
    },
    {
      "cell_type": "markdown",
      "metadata": {
        "id": "acMQBcZw5hmv"
      },
      "source": [
        "```loc```を使う場合は、indexの代わりに項目名で指定する。"
      ]
    },
    {
      "cell_type": "code",
      "metadata": {
        "colab": {
          "base_uri": "https://localhost:8080/",
          "height": 168
        },
        "id": "JLlD6iUvCH-q",
        "outputId": "caa1cd87-ea15-4b7a-d3c4-203fd6c10d40"
      },
      "source": [
        "df.loc[1:4,[\"名前\",\"身長\"]] "
      ],
      "execution_count": null,
      "outputs": [
        {
          "output_type": "execute_result",
          "data": {
            "text/html": [
              "<div>\n",
              "<style scoped>\n",
              "    .dataframe tbody tr th:only-of-type {\n",
              "        vertical-align: middle;\n",
              "    }\n",
              "\n",
              "    .dataframe tbody tr th {\n",
              "        vertical-align: top;\n",
              "    }\n",
              "\n",
              "    .dataframe thead th {\n",
              "        text-align: right;\n",
              "    }\n",
              "</style>\n",
              "<table border=\"1\" class=\"dataframe\">\n",
              "  <thead>\n",
              "    <tr style=\"text-align: right;\">\n",
              "      <th></th>\n",
              "      <th>名前</th>\n",
              "      <th>身長</th>\n",
              "    </tr>\n",
              "  </thead>\n",
              "  <tbody>\n",
              "    <tr>\n",
              "      <th>1</th>\n",
              "      <td>Bさん</td>\n",
              "      <td>156</td>\n",
              "    </tr>\n",
              "    <tr>\n",
              "      <th>2</th>\n",
              "      <td>Cさん</td>\n",
              "      <td>162</td>\n",
              "    </tr>\n",
              "    <tr>\n",
              "      <th>3</th>\n",
              "      <td>Dさん</td>\n",
              "      <td>180</td>\n",
              "    </tr>\n",
              "    <tr>\n",
              "      <th>4</th>\n",
              "      <td>Eさん</td>\n",
              "      <td>158</td>\n",
              "    </tr>\n",
              "  </tbody>\n",
              "</table>\n",
              "</div>"
            ],
            "text/plain": [
              "    名前   身長\n",
              "1  Bさん  156\n",
              "2  Cさん  162\n",
              "3  Dさん  180\n",
              "4  Eさん  158"
            ]
          },
          "metadata": {
            "tags": []
          },
          "execution_count": 24
        }
      ]
    },
    {
      "cell_type": "code",
      "metadata": {
        "colab": {
          "base_uri": "https://localhost:8080/",
          "height": 168
        },
        "id": "y3rZAq4rCTSh",
        "outputId": "0ae6ad32-bb3d-4002-930c-7a5546bbfb50"
      },
      "source": [
        "df.loc[[1,2,3,4],\"名前\":\"生年\"]"
      ],
      "execution_count": null,
      "outputs": [
        {
          "output_type": "execute_result",
          "data": {
            "text/html": [
              "<div>\n",
              "<style scoped>\n",
              "    .dataframe tbody tr th:only-of-type {\n",
              "        vertical-align: middle;\n",
              "    }\n",
              "\n",
              "    .dataframe tbody tr th {\n",
              "        vertical-align: top;\n",
              "    }\n",
              "\n",
              "    .dataframe thead th {\n",
              "        text-align: right;\n",
              "    }\n",
              "</style>\n",
              "<table border=\"1\" class=\"dataframe\">\n",
              "  <thead>\n",
              "    <tr style=\"text-align: right;\">\n",
              "      <th></th>\n",
              "      <th>名前</th>\n",
              "      <th>出身都道府県</th>\n",
              "      <th>生年</th>\n",
              "    </tr>\n",
              "  </thead>\n",
              "  <tbody>\n",
              "    <tr>\n",
              "      <th>1</th>\n",
              "      <td>Bさん</td>\n",
              "      <td>Tochigi</td>\n",
              "      <td>1993</td>\n",
              "    </tr>\n",
              "    <tr>\n",
              "      <th>2</th>\n",
              "      <td>Cさん</td>\n",
              "      <td>Hokkaido</td>\n",
              "      <td>2000</td>\n",
              "    </tr>\n",
              "    <tr>\n",
              "      <th>3</th>\n",
              "      <td>Dさん</td>\n",
              "      <td>Kyoto</td>\n",
              "      <td>1989</td>\n",
              "    </tr>\n",
              "    <tr>\n",
              "      <th>4</th>\n",
              "      <td>Eさん</td>\n",
              "      <td>Tochigi</td>\n",
              "      <td>2002</td>\n",
              "    </tr>\n",
              "  </tbody>\n",
              "</table>\n",
              "</div>"
            ],
            "text/plain": [
              "    名前    出身都道府県    生年\n",
              "1  Bさん   Tochigi  1993\n",
              "2  Cさん  Hokkaido  2000\n",
              "3  Dさん     Kyoto  1989\n",
              "4  Eさん   Tochigi  2002"
            ]
          },
          "metadata": {
            "tags": []
          },
          "execution_count": 25
        }
      ]
    },
    {
      "cell_type": "markdown",
      "metadata": {
        "id": "WzV2r0oPA82E"
      },
      "source": [
        "といった具合。\n",
        "\n",
        "```loc```を使う場合、1:4や[1,2,3,4]は  \n",
        "indexのスライスではなく、項目名を意味し  \n",
        "Eさんのデータも含まれている。"
      ]
    },
    {
      "cell_type": "markdown",
      "metadata": {
        "id": "py5Dt6wY10pB"
      },
      "source": [
        "## Webページにある表をDataFrameとして取得する"
      ]
    },
    {
      "cell_type": "markdown",
      "metadata": {
        "id": "s7XShK0B15-t"
      },
      "source": [
        "```pandas```内の```read_html```関数を用いれば、  \n",
        "Webページの中にある表をDataFrame形式で取得することもできます。\n",
        "\n",
        "以下では例としてWikipediaの[ノーベル物理学賞](https://ja.wikipedia.org/wiki/%e3%83%8e%e3%83%bc%e3%83%99%e3%83%ab%e7%89%a9%e7%90%86%e5%ad%a6%e8%b3%9e)のページにある、受賞者一覧を取得してみましょう"
      ]
    },
    {
      "cell_type": "code",
      "metadata": {
        "id": "WQG0tt0q2Hj-"
      },
      "source": [
        "url = \"https://ja.wikipedia.org/wiki/%e3%83%8e%e3%83%bc%e3%83%99%e3%83%ab%e7%89%a9%e7%90%86%e5%ad%a6%e8%b3%9e\"\n",
        "tables = pd.read_html(url)"
      ],
      "execution_count": null,
      "outputs": []
    },
    {
      "cell_type": "code",
      "metadata": {
        "colab": {
          "base_uri": "https://localhost:8080/"
        },
        "id": "xLVtylYB2Uow",
        "outputId": "481d70c0-fbfc-48ae-e1c3-f3f01d0e410a"
      },
      "source": [
        "print(len(tables))"
      ],
      "execution_count": null,
      "outputs": [
        {
          "output_type": "stream",
          "text": [
            "21\n"
          ],
          "name": "stdout"
        }
      ]
    },
    {
      "cell_type": "markdown",
      "metadata": {
        "id": "yBghdSUU2XdQ"
      },
      "source": [
        "ページ内に、21個もの表があることがわかります。  \n",
        "(ほとんどはwikipediaのテンプレート等)\n",
        "\n",
        "たとえば、2010年代の受賞者のみに興味がある場合は"
      ]
    },
    {
      "cell_type": "code",
      "metadata": {
        "colab": {
          "base_uri": "https://localhost:8080/",
          "height": 1000
        },
        "id": "nf2JwszO2nBM",
        "outputId": "4cd0de26-5b3c-4b30-dc7f-d010c7f9efe7"
      },
      "source": [
        "df = tables[12]\n",
        "df"
      ],
      "execution_count": null,
      "outputs": [
        {
          "output_type": "execute_result",
          "data": {
            "text/html": [
              "<div>\n",
              "<style scoped>\n",
              "    .dataframe tbody tr th:only-of-type {\n",
              "        vertical-align: middle;\n",
              "    }\n",
              "\n",
              "    .dataframe tbody tr th {\n",
              "        vertical-align: top;\n",
              "    }\n",
              "\n",
              "    .dataframe thead th {\n",
              "        text-align: right;\n",
              "    }\n",
              "</style>\n",
              "<table border=\"1\" class=\"dataframe\">\n",
              "  <thead>\n",
              "    <tr style=\"text-align: right;\">\n",
              "      <th></th>\n",
              "      <th>年度</th>\n",
              "      <th>受賞者名</th>\n",
              "      <th>受賞者名.1</th>\n",
              "      <th>国籍</th>\n",
              "      <th>受賞理由[2]・原著ないし関連論文</th>\n",
              "    </tr>\n",
              "  </thead>\n",
              "  <tbody>\n",
              "    <tr>\n",
              "      <th>0</th>\n",
              "      <td>2010年</td>\n",
              "      <td>NaN</td>\n",
              "      <td>アンドレ・ガイムAndre Geim</td>\n",
              "      <td>オランダ（ ロシア出身）</td>\n",
              "      <td>二次元物質グラフェンに関する革新的実験[注 69]</td>\n",
              "    </tr>\n",
              "    <tr>\n",
              "      <th>1</th>\n",
              "      <td>2010年</td>\n",
              "      <td>NaN</td>\n",
              "      <td>コンスタンチン・ノボセロフKonstantin Novoselov</td>\n",
              "      <td>ロシア イギリス</td>\n",
              "      <td>二次元物質グラフェンに関する革新的実験[注 69]</td>\n",
              "    </tr>\n",
              "    <tr>\n",
              "      <th>2</th>\n",
              "      <td>2011年</td>\n",
              "      <td>NaN</td>\n",
              "      <td>ソール・パールマッターSaul Perlmutter</td>\n",
              "      <td>アメリカ合衆国</td>\n",
              "      <td>遠方の超新星の観測を通した宇宙の加速膨張の発見Astrophys. J.: 517 (199...</td>\n",
              "    </tr>\n",
              "    <tr>\n",
              "      <th>3</th>\n",
              "      <td>2011年</td>\n",
              "      <td>NaN</td>\n",
              "      <td>ブライアン・P・シュミットBrian Schmidt</td>\n",
              "      <td>オーストラリア アメリカ合衆国</td>\n",
              "      <td>遠方の超新星の観測を通した宇宙の加速膨張の発見Astrophys. J.: 517 (199...</td>\n",
              "    </tr>\n",
              "    <tr>\n",
              "      <th>4</th>\n",
              "      <td>2011年</td>\n",
              "      <td>NaN</td>\n",
              "      <td>アダム・リースAdam Riess</td>\n",
              "      <td>アメリカ合衆国</td>\n",
              "      <td>遠方の超新星の観測を通した宇宙の加速膨張の発見Astrophys. J.: 517 (199...</td>\n",
              "    </tr>\n",
              "    <tr>\n",
              "      <th>5</th>\n",
              "      <td>2012年</td>\n",
              "      <td>NaN</td>\n",
              "      <td>セルジュ・アロシュSerge Haroche</td>\n",
              "      <td>フランス（ モロッコ出身）</td>\n",
              "      <td>個別の量子系に対する計測および制御[注 70]を可能にする画期的な実験的手法に関する業績[3...</td>\n",
              "    </tr>\n",
              "    <tr>\n",
              "      <th>6</th>\n",
              "      <td>2012年</td>\n",
              "      <td>NaN</td>\n",
              "      <td>デービッド・ワインランドDavid J. Wineland</td>\n",
              "      <td>アメリカ合衆国</td>\n",
              "      <td>個別の量子系に対する計測および制御[注 70]を可能にする画期的な実験的手法に関する業績[3...</td>\n",
              "    </tr>\n",
              "    <tr>\n",
              "      <th>7</th>\n",
              "      <td>2013年</td>\n",
              "      <td>NaN</td>\n",
              "      <td>フランソワ・アングレールFrançois Englert</td>\n",
              "      <td>ベルギー</td>\n",
              "      <td>欧州原子核研究機構 (CERN) によって存在が確認された素粒子（ヒッグス粒子）に基づく、質...</td>\n",
              "    </tr>\n",
              "    <tr>\n",
              "      <th>8</th>\n",
              "      <td>2013年</td>\n",
              "      <td>NaN</td>\n",
              "      <td>ピーター・ヒッグスPeter Higgs</td>\n",
              "      <td>イギリス</td>\n",
              "      <td>欧州原子核研究機構 (CERN) によって存在が確認された素粒子（ヒッグス粒子）に基づく、質...</td>\n",
              "    </tr>\n",
              "    <tr>\n",
              "      <th>9</th>\n",
              "      <td>2014年</td>\n",
              "      <td>NaN</td>\n",
              "      <td>赤崎勇Isamu Akasaki</td>\n",
              "      <td>日本</td>\n",
              "      <td>高輝度で省電力の白色光源を実現可能にした青色発光ダイオードの発明[8]</td>\n",
              "    </tr>\n",
              "    <tr>\n",
              "      <th>10</th>\n",
              "      <td>2014年</td>\n",
              "      <td>NaN</td>\n",
              "      <td>天野浩Hiroshi Amano</td>\n",
              "      <td>日本</td>\n",
              "      <td>高輝度で省電力の白色光源を実現可能にした青色発光ダイオードの発明[8]</td>\n",
              "    </tr>\n",
              "    <tr>\n",
              "      <th>11</th>\n",
              "      <td>2014年</td>\n",
              "      <td>NaN</td>\n",
              "      <td>中村修二Shuji Nakamura</td>\n",
              "      <td>アメリカ合衆国（ 日本出身）</td>\n",
              "      <td>高輝度で省電力の白色光源を実現可能にした青色発光ダイオードの発明[8]</td>\n",
              "    </tr>\n",
              "    <tr>\n",
              "      <th>12</th>\n",
              "      <td>2015年</td>\n",
              "      <td>NaN</td>\n",
              "      <td>梶田隆章Takaaki Kajita</td>\n",
              "      <td>日本</td>\n",
              "      <td>素粒子「ニュートリノ」が質量を持つことを示すニュートリノ振動の発見[9]</td>\n",
              "    </tr>\n",
              "    <tr>\n",
              "      <th>13</th>\n",
              "      <td>2015年</td>\n",
              "      <td>NaN</td>\n",
              "      <td>アーサー・B・マクドナルドArthur B. McDonald</td>\n",
              "      <td>カナダ</td>\n",
              "      <td>素粒子「ニュートリノ」が質量を持つことを示すニュートリノ振動の発見[9]</td>\n",
              "    </tr>\n",
              "    <tr>\n",
              "      <th>14</th>\n",
              "      <td>2016年</td>\n",
              "      <td>NaN</td>\n",
              "      <td>デイヴィッド・J・サウレスDavid J. Thouless</td>\n",
              "      <td>イギリス アメリカ合衆国</td>\n",
              "      <td>物質のトポロジカル相とトポロジカル相転移の理論的発見[10][11]</td>\n",
              "    </tr>\n",
              "    <tr>\n",
              "      <th>15</th>\n",
              "      <td>2016年</td>\n",
              "      <td>NaN</td>\n",
              "      <td>ダンカン・ホールデンDuncan Haldane</td>\n",
              "      <td>イギリス スロベニア</td>\n",
              "      <td>物質のトポロジカル相とトポロジカル相転移の理論的発見[10][11]</td>\n",
              "    </tr>\n",
              "    <tr>\n",
              "      <th>16</th>\n",
              "      <td>2016年</td>\n",
              "      <td>NaN</td>\n",
              "      <td>ジョン・M・コステリッツMichael Kosterlitz</td>\n",
              "      <td>イギリス アメリカ合衆国</td>\n",
              "      <td>物質のトポロジカル相とトポロジカル相転移の理論的発見[10][11]</td>\n",
              "    </tr>\n",
              "    <tr>\n",
              "      <th>17</th>\n",
              "      <td>2017年</td>\n",
              "      <td>NaN</td>\n",
              "      <td>レイナー・ワイスRainer Weiss</td>\n",
              "      <td>アメリカ合衆国（ ドイツ出身）</td>\n",
              "      <td>LIGO検出器および重力波の観測への決定的な貢献</td>\n",
              "    </tr>\n",
              "    <tr>\n",
              "      <th>18</th>\n",
              "      <td>2017年</td>\n",
              "      <td>NaN</td>\n",
              "      <td>バリー・バリッシュBarry Barish</td>\n",
              "      <td>アメリカ合衆国</td>\n",
              "      <td>LIGO検出器および重力波の観測への決定的な貢献</td>\n",
              "    </tr>\n",
              "    <tr>\n",
              "      <th>19</th>\n",
              "      <td>2017年</td>\n",
              "      <td>NaN</td>\n",
              "      <td>キップ・ソーンKip Thorne</td>\n",
              "      <td>アメリカ合衆国</td>\n",
              "      <td>LIGO検出器および重力波の観測への決定的な貢献</td>\n",
              "    </tr>\n",
              "    <tr>\n",
              "      <th>20</th>\n",
              "      <td>2018年</td>\n",
              "      <td>NaN</td>\n",
              "      <td>アーサー・アシュキンArthur Ashkin</td>\n",
              "      <td>アメリカ合衆国</td>\n",
              "      <td>光ピンセットの開発と生体システムへの応用</td>\n",
              "    </tr>\n",
              "    <tr>\n",
              "      <th>21</th>\n",
              "      <td>2018年</td>\n",
              "      <td>NaN</td>\n",
              "      <td>ジェラール・ムルGérard Mourou</td>\n",
              "      <td>フランス</td>\n",
              "      <td>超高出力・超短パルスレーザーの生成方法の開発</td>\n",
              "    </tr>\n",
              "    <tr>\n",
              "      <th>22</th>\n",
              "      <td>2018年</td>\n",
              "      <td>NaN</td>\n",
              "      <td>ドナ・ストリックランドDonna Strickland</td>\n",
              "      <td>カナダ</td>\n",
              "      <td>超高出力・超短パルスレーザーの生成方法の開発</td>\n",
              "    </tr>\n",
              "    <tr>\n",
              "      <th>23</th>\n",
              "      <td>2019年</td>\n",
              "      <td>NaN</td>\n",
              "      <td>ジェームズ・ピーブルスJim Peebles</td>\n",
              "      <td>アメリカ合衆国（ カナダ出身）</td>\n",
              "      <td>物理宇宙論における理論的発見</td>\n",
              "    </tr>\n",
              "    <tr>\n",
              "      <th>24</th>\n",
              "      <td>2019年</td>\n",
              "      <td>NaN</td>\n",
              "      <td>ミシェル・マイヨールMichel Mayor</td>\n",
              "      <td>スイス</td>\n",
              "      <td>太陽型恒星を周回する太陽系外惑星の発見</td>\n",
              "    </tr>\n",
              "    <tr>\n",
              "      <th>25</th>\n",
              "      <td>2019年</td>\n",
              "      <td>NaN</td>\n",
              "      <td>ディディエ・ケローDidier Queloz</td>\n",
              "      <td>スイス</td>\n",
              "      <td>太陽型恒星を周回する太陽系外惑星の発見</td>\n",
              "    </tr>\n",
              "  </tbody>\n",
              "</table>\n",
              "</div>"
            ],
            "text/plain": [
              "       年度  ...                                  受賞理由[2]・原著ないし関連論文\n",
              "0   2010年  ...                          二次元物質グラフェンに関する革新的実験[注 69]\n",
              "1   2010年  ...                          二次元物質グラフェンに関する革新的実験[注 69]\n",
              "2   2011年  ...  遠方の超新星の観測を通した宇宙の加速膨張の発見Astrophys. J.: 517 (199...\n",
              "3   2011年  ...  遠方の超新星の観測を通した宇宙の加速膨張の発見Astrophys. J.: 517 (199...\n",
              "4   2011年  ...  遠方の超新星の観測を通した宇宙の加速膨張の発見Astrophys. J.: 517 (199...\n",
              "5   2012年  ...  個別の量子系に対する計測および制御[注 70]を可能にする画期的な実験的手法に関する業績[3...\n",
              "6   2012年  ...  個別の量子系に対する計測および制御[注 70]を可能にする画期的な実験的手法に関する業績[3...\n",
              "7   2013年  ...  欧州原子核研究機構 (CERN) によって存在が確認された素粒子（ヒッグス粒子）に基づく、質...\n",
              "8   2013年  ...  欧州原子核研究機構 (CERN) によって存在が確認された素粒子（ヒッグス粒子）に基づく、質...\n",
              "9   2014年  ...                高輝度で省電力の白色光源を実現可能にした青色発光ダイオードの発明[8]\n",
              "10  2014年  ...                高輝度で省電力の白色光源を実現可能にした青色発光ダイオードの発明[8]\n",
              "11  2014年  ...                高輝度で省電力の白色光源を実現可能にした青色発光ダイオードの発明[8]\n",
              "12  2015年  ...               素粒子「ニュートリノ」が質量を持つことを示すニュートリノ振動の発見[9]\n",
              "13  2015年  ...               素粒子「ニュートリノ」が質量を持つことを示すニュートリノ振動の発見[9]\n",
              "14  2016年  ...                 物質のトポロジカル相とトポロジカル相転移の理論的発見[10][11]\n",
              "15  2016年  ...                 物質のトポロジカル相とトポロジカル相転移の理論的発見[10][11]\n",
              "16  2016年  ...                 物質のトポロジカル相とトポロジカル相転移の理論的発見[10][11]\n",
              "17  2017年  ...                           LIGO検出器および重力波の観測への決定的な貢献\n",
              "18  2017年  ...                           LIGO検出器および重力波の観測への決定的な貢献\n",
              "19  2017年  ...                           LIGO検出器および重力波の観測への決定的な貢献\n",
              "20  2018年  ...                               光ピンセットの開発と生体システムへの応用\n",
              "21  2018年  ...                             超高出力・超短パルスレーザーの生成方法の開発\n",
              "22  2018年  ...                             超高出力・超短パルスレーザーの生成方法の開発\n",
              "23  2019年  ...                                     物理宇宙論における理論的発見\n",
              "24  2019年  ...                                太陽型恒星を周回する太陽系外惑星の発見\n",
              "25  2019年  ...                                太陽型恒星を周回する太陽系外惑星の発見\n",
              "\n",
              "[26 rows x 5 columns]"
            ]
          },
          "metadata": {
            "tags": []
          },
          "execution_count": 28
        }
      ]
    },
    {
      "cell_type": "markdown",
      "metadata": {
        "id": "U6LFpNLN2sZh"
      },
      "source": [
        "## DataFrameのcsv/Excelファイルへの書き出し"
      ]
    },
    {
      "cell_type": "markdown",
      "metadata": {
        "id": "tbZn9qyB2xTS"
      },
      "source": [
        "DataFrameオブジェクトは、```pandas```内の関数を用いれば、  \n",
        "簡単にcsvやExcelファイルとして書き出すことができます。\n",
        "\n",
        "先程の、２０１０年代のノーベル物理学賞受賞者のデータを、  \n",
        "Google Driveにファイルとして書き出してみましょう。"
      ]
    },
    {
      "cell_type": "code",
      "metadata": {
        "colab": {
          "base_uri": "https://localhost:8080/"
        },
        "id": "CKxWkUsW3Hi2",
        "outputId": "8f0f9fb8-09f9-400b-fe43-b53c8d69a33c"
      },
      "source": [
        "from google.colab import drive\n",
        "drive.mount('/content/drive')"
      ],
      "execution_count": null,
      "outputs": [
        {
          "output_type": "stream",
          "text": [
            "Mounted at /content/drive\n"
          ],
          "name": "stdout"
        }
      ]
    },
    {
      "cell_type": "markdown",
      "metadata": {
        "id": "gsr83KhA3Hww"
      },
      "source": [
        "**csvとして書き出す場合**\n",
        "\n",
        "適当にパスを指定して、DataFrameオブジェクトに  \n",
        "```to_csv```関数を作用させます。"
      ]
    },
    {
      "cell_type": "code",
      "metadata": {
        "id": "jLS-3W8F27Xe"
      },
      "source": [
        "df.to_csv(\"/content/drive/My Drive/AdDS2021/pd_write_test.csv\")"
      ],
      "execution_count": null,
      "outputs": []
    },
    {
      "cell_type": "markdown",
      "metadata": {
        "id": "k6XnW1V93mik"
      },
      "source": [
        "**Excelファイルとして書き出す場合**\n",
        "\n",
        "この場合も同様で、```to_excel```関数を用います。"
      ]
    },
    {
      "cell_type": "code",
      "metadata": {
        "id": "A4A69Qb83vkk"
      },
      "source": [
        "df.to_excel(\"/content/drive/My Drive/AdDS2021/pd_write_test.xlsx\")"
      ],
      "execution_count": null,
      "outputs": []
    },
    {
      "cell_type": "markdown",
      "metadata": {
        "id": "jrfPQzrq4GJK"
      },
      "source": [
        "上記の関数内で文字コードを指定することもできます。  \n",
        "例: ```encoding=\"utf-8_sig\"```, ```encoding=\"shift_jis\"```"
      ]
    },
    {
      "cell_type": "markdown",
      "metadata": {
        "id": "O6bVMFaNKeUT"
      },
      "source": [
        "## Pandasで複雑なエクセルファイルを操作する"
      ]
    },
    {
      "cell_type": "markdown",
      "metadata": {
        "id": "KBgNqsmGKjvm"
      },
      "source": [
        "Pandasにはread_excel()という関数が用意されていて、  \n",
        "多数のシートを含むようなエクセルファイルを開くことも出来る。\n",
        "\n",
        "まずは必要なモジュールをインポートしよう。"
      ]
    },
    {
      "cell_type": "code",
      "metadata": {
        "id": "hBKVdR2zKxe_",
        "colab": {
          "base_uri": "https://localhost:8080/"
        },
        "outputId": "b31269fc-450a-4fe2-ac6d-0dd811371030"
      },
      "source": [
        "!pip install xlrd #xlrdモジュールのインストール\n",
        "import xlrd\n",
        "import pandas as pd\n",
        "from pandas import DataFrame\n",
        "import urllib.request"
      ],
      "execution_count": null,
      "outputs": [
        {
          "output_type": "stream",
          "text": [
            "Requirement already satisfied: xlrd in /usr/local/lib/python3.6/dist-packages (1.1.0)\n"
          ],
          "name": "stdout"
        }
      ]
    },
    {
      "cell_type": "markdown",
      "metadata": {
        "id": "34iZ93suY1nz"
      },
      "source": [
        "今まではGoogle Driveにいれたファイルを読み出していたが、  \n",
        "Webから直接xlsxファイルを読み込んでみよう。"
      ]
    },
    {
      "cell_type": "code",
      "metadata": {
        "id": "J7bEuGAYY0W7"
      },
      "source": [
        "url = \"https://www.mext.go.jp/content/20201225-mxt_kagsei-mext_01110_012.xlsx\"\n",
        "f = urllib.request.urlopen(url) \n",
        "#ワークブック(作業するエクセルファイル)をwbという変数名で開く. 文字コードはutf-8と仮定した(shift-jisのものがたまにあるので注意)\n",
        "wb = xlrd.open_workbook(file_contents=f.read(),encoding_override=\"utf-8\") \n",
        "f.close()"
      ],
      "execution_count": null,
      "outputs": []
    },
    {
      "cell_type": "markdown",
      "metadata": {
        "id": "YEsLWG0mY8z-"
      },
      "source": [
        "ブック内のシートの一覧は以下のように取得できる。"
      ]
    },
    {
      "cell_type": "code",
      "metadata": {
        "colab": {
          "base_uri": "https://localhost:8080/"
        },
        "id": "VJv-enRZTxUt",
        "outputId": "63db4acd-91c8-4774-d718-551412acf801"
      },
      "source": [
        "print(\"シート名の一覧\", wb.sheet_names())"
      ],
      "execution_count": null,
      "outputs": [
        {
          "output_type": "stream",
          "text": [
            "シート名の一覧 ['1 穀類', '２ いも及びでん粉類', '３ 砂糖及び甘味類', '４ 豆類', '5 種実類', '6 野菜類', '7 果実類', '8 きのこ類', '9 藻類', '10 魚介類', '11 肉類', '12 卵類', '13 乳類', '14 油脂類', '15 菓子類', '16 し好飲料類', '17 調味料及び香辛料類', '18\\u3000調理済み流通食品類']\n"
          ],
          "name": "stdout"
        }
      ]
    },
    {
      "cell_type": "markdown",
      "metadata": {
        "id": "Tn6Lq7UhT1ZX"
      },
      "source": [
        "シートを指定するのは、インデックスかシート名の文字列で行う。\n",
        "\n",
        "\"1 穀類\"を使うことにして、  \n",
        "pandasにあるread_excel関数を使ってみよう。\n",
        "(他にもxlrdの関数を使って読む方法などもある)"
      ]
    },
    {
      "cell_type": "code",
      "metadata": {
        "colab": {
          "base_uri": "https://localhost:8080/"
        },
        "id": "hUL8lOwaT6dH",
        "outputId": "c0839b0f-00d8-4120-80fa-1f997e786bd3"
      },
      "source": [
        "df = pd.read_excel(wb,sheet_name=0) #excelの指定したシートを読んで、DataFrameとして変数dfに格納\n",
        "print(df)"
      ],
      "execution_count": null,
      "outputs": [
        {
          "output_type": "stream",
          "text": [
            "     Unnamed: 0  食　品　番　号  ...  Unnamed: 60                                   備　　考\n",
            "0           NaN      NaN  ...        食塩相当量                                    NaN\n",
            "1           NaN      NaN  ...          NaN                                    NaN\n",
            "2           NaN      NaN  ...          NaN                                    NaN\n",
            "3           NaN      NaN  ...          NaN                                    NaN\n",
            "4           NaN      NaN  ...          NaN                                    NaN\n",
            "..          ...      ...  ...          ...                                    ...\n",
            "210         1.0   1139.0  ...           Tr                           歩留り： 55～60 %\n",
            "211         1.0   1140.0  ...            0                別名： こうりゃん、ソルガム、たかきび、マイロ\n",
            "212         1.0   1141.0  ...            0  別名： こうりゃん、ソルガム、たかきび、マイロ\\n歩留り： 70～80 %\n",
            "213         1.0   1142.0  ...            0                            別名：黒麦（くろむぎ）\n",
            "214         1.0   1143.0  ...            0              別名:黒麦（くろむぎ）\\n歩留り： 65～75 %\n",
            "\n",
            "[215 rows x 62 columns]\n"
          ],
          "name": "stdout"
        }
      ]
    },
    {
      "cell_type": "code",
      "metadata": {
        "colab": {
          "base_uri": "https://localhost:8080/"
        },
        "id": "07xxSw7nVdK2",
        "outputId": "ef904acb-efd3-4faa-9162-dc774bd36496"
      },
      "source": [
        "ndf = pd.read_excel(wb,sheet_name=\"1 穀類\")\n",
        "print(ndf)"
      ],
      "execution_count": null,
      "outputs": [
        {
          "output_type": "stream",
          "text": [
            "     Unnamed: 0  食　品　番　号  ...  Unnamed: 60                                   備　　考\n",
            "0           NaN      NaN  ...        食塩相当量                                    NaN\n",
            "1           NaN      NaN  ...          NaN                                    NaN\n",
            "2           NaN      NaN  ...          NaN                                    NaN\n",
            "3           NaN      NaN  ...          NaN                                    NaN\n",
            "4           NaN      NaN  ...          NaN                                    NaN\n",
            "..          ...      ...  ...          ...                                    ...\n",
            "210         1.0   1139.0  ...           Tr                           歩留り： 55～60 %\n",
            "211         1.0   1140.0  ...            0                別名： こうりゃん、ソルガム、たかきび、マイロ\n",
            "212         1.0   1141.0  ...            0  別名： こうりゃん、ソルガム、たかきび、マイロ\\n歩留り： 70～80 %\n",
            "213         1.0   1142.0  ...            0                            別名：黒麦（くろむぎ）\n",
            "214         1.0   1143.0  ...            0              別名:黒麦（くろむぎ）\\n歩留り： 65～75 %\n",
            "\n",
            "[215 rows x 62 columns]\n"
          ],
          "name": "stdout"
        }
      ]
    },
    {
      "cell_type": "markdown",
      "metadata": {
        "id": "xew_ouFxVnLl"
      },
      "source": [
        "同じものが得られている。\n"
      ]
    },
    {
      "cell_type": "markdown",
      "metadata": {
        "id": "pPBxyiV2oVKV"
      },
      "source": [
        "### データの整形\n",
        "\n",
        "次に、今取得したデータフレームのままでは少々扱い辛いので\"整形\"を考える。  \n",
        "というのも前から4行ほど表示してみると..."
      ]
    },
    {
      "cell_type": "code",
      "metadata": {
        "colab": {
          "base_uri": "https://localhost:8080/",
          "height": 465
        },
        "id": "NKcdOLCMV3qM",
        "outputId": "d26dc6d6-63ff-43d1-dccf-8ff130e8d126"
      },
      "source": [
        "df[0:4] "
      ],
      "execution_count": null,
      "outputs": [
        {
          "output_type": "execute_result",
          "data": {
            "text/html": [
              "<div>\n",
              "<style scoped>\n",
              "    .dataframe tbody tr th:only-of-type {\n",
              "        vertical-align: middle;\n",
              "    }\n",
              "\n",
              "    .dataframe tbody tr th {\n",
              "        vertical-align: top;\n",
              "    }\n",
              "\n",
              "    .dataframe thead th {\n",
              "        text-align: right;\n",
              "    }\n",
              "</style>\n",
              "<table border=\"1\" class=\"dataframe\">\n",
              "  <thead>\n",
              "    <tr style=\"text-align: right;\">\n",
              "      <th></th>\n",
              "      <th>Unnamed: 0</th>\n",
              "      <th>食　品　番　号</th>\n",
              "      <th>索　引　番　号</th>\n",
              "      <th>可　　食　　部　　 100　　g　　当　　た　　り</th>\n",
              "      <th>Unnamed: 4</th>\n",
              "      <th>Unnamed: 5</th>\n",
              "      <th>Unnamed: 6</th>\n",
              "      <th>Unnamed: 7</th>\n",
              "      <th>Unnamed: 8</th>\n",
              "      <th>Unnamed: 9</th>\n",
              "      <th>Unnamed: 10</th>\n",
              "      <th>Unnamed: 11</th>\n",
              "      <th>Unnamed: 12</th>\n",
              "      <th>Unnamed: 13</th>\n",
              "      <th>Unnamed: 14</th>\n",
              "      <th>Unnamed: 15</th>\n",
              "      <th>Unnamed: 16</th>\n",
              "      <th>Unnamed: 17</th>\n",
              "      <th>Unnamed: 18</th>\n",
              "      <th>Unnamed: 19</th>\n",
              "      <th>Unnamed: 20</th>\n",
              "      <th>Unnamed: 21</th>\n",
              "      <th>Unnamed: 22</th>\n",
              "      <th>Unnamed: 23</th>\n",
              "      <th>Unnamed: 24</th>\n",
              "      <th>Unnamed: 25</th>\n",
              "      <th>Unnamed: 26</th>\n",
              "      <th>Unnamed: 27</th>\n",
              "      <th>Unnamed: 28</th>\n",
              "      <th>Unnamed: 29</th>\n",
              "      <th>Unnamed: 30</th>\n",
              "      <th>Unnamed: 31</th>\n",
              "      <th>Unnamed: 32</th>\n",
              "      <th>可　　食　　部　　 100　 g　　当　　た　　り</th>\n",
              "      <th>Unnamed: 34</th>\n",
              "      <th>Unnamed: 35</th>\n",
              "      <th>Unnamed: 36</th>\n",
              "      <th>Unnamed: 37</th>\n",
              "      <th>Unnamed: 38</th>\n",
              "      <th>Unnamed: 39</th>\n",
              "      <th>Unnamed: 40</th>\n",
              "      <th>Unnamed: 41</th>\n",
              "      <th>Unnamed: 42</th>\n",
              "      <th>Unnamed: 43</th>\n",
              "      <th>Unnamed: 44</th>\n",
              "      <th>Unnamed: 45</th>\n",
              "      <th>Unnamed: 46</th>\n",
              "      <th>Unnamed: 47</th>\n",
              "      <th>Unnamed: 48</th>\n",
              "      <th>Unnamed: 49</th>\n",
              "      <th>Unnamed: 50</th>\n",
              "      <th>Unnamed: 51</th>\n",
              "      <th>Unnamed: 52</th>\n",
              "      <th>Unnamed: 53</th>\n",
              "      <th>Unnamed: 54</th>\n",
              "      <th>Unnamed: 55</th>\n",
              "      <th>Unnamed: 56</th>\n",
              "      <th>Unnamed: 57</th>\n",
              "      <th>Unnamed: 58</th>\n",
              "      <th>Unnamed: 59</th>\n",
              "      <th>Unnamed: 60</th>\n",
              "      <th>備　　考</th>\n",
              "    </tr>\n",
              "  </thead>\n",
              "  <tbody>\n",
              "    <tr>\n",
              "      <th>0</th>\n",
              "      <td>NaN</td>\n",
              "      <td>NaN</td>\n",
              "      <td>NaN</td>\n",
              "      <td>食　品　名</td>\n",
              "      <td>廃　棄　率</td>\n",
              "      <td>エネルギー</td>\n",
              "      <td>NaN</td>\n",
              "      <td>水　分</td>\n",
              "      <td>たんぱく質</td>\n",
              "      <td>NaN</td>\n",
              "      <td>脂質</td>\n",
              "      <td>NaN</td>\n",
              "      <td>NaN</td>\n",
              "      <td>炭水化物</td>\n",
              "      <td>NaN</td>\n",
              "      <td>NaN</td>\n",
              "      <td>NaN</td>\n",
              "      <td>NaN</td>\n",
              "      <td>NaN</td>\n",
              "      <td>NaN</td>\n",
              "      <td>NaN</td>\n",
              "      <td>有機酸</td>\n",
              "      <td>灰\\n\\n分</td>\n",
              "      <td>無 機 質</td>\n",
              "      <td>NaN</td>\n",
              "      <td>NaN</td>\n",
              "      <td>NaN</td>\n",
              "      <td>NaN</td>\n",
              "      <td>NaN</td>\n",
              "      <td>NaN</td>\n",
              "      <td>NaN</td>\n",
              "      <td>NaN</td>\n",
              "      <td>NaN</td>\n",
              "      <td>無機質</td>\n",
              "      <td>NaN</td>\n",
              "      <td>NaN</td>\n",
              "      <td>NaN</td>\n",
              "      <td>ビ　　タ　　ミ　　ン</td>\n",
              "      <td>NaN</td>\n",
              "      <td>NaN</td>\n",
              "      <td>NaN</td>\n",
              "      <td>NaN</td>\n",
              "      <td>NaN</td>\n",
              "      <td>NaN</td>\n",
              "      <td>NaN</td>\n",
              "      <td>NaN</td>\n",
              "      <td>NaN</td>\n",
              "      <td>NaN</td>\n",
              "      <td>NaN</td>\n",
              "      <td>NaN</td>\n",
              "      <td>NaN</td>\n",
              "      <td>NaN</td>\n",
              "      <td>NaN</td>\n",
              "      <td>NaN</td>\n",
              "      <td>NaN</td>\n",
              "      <td>NaN</td>\n",
              "      <td>NaN</td>\n",
              "      <td>NaN</td>\n",
              "      <td>NaN</td>\n",
              "      <td>アルコール</td>\n",
              "      <td>食塩相当量</td>\n",
              "      <td>NaN</td>\n",
              "    </tr>\n",
              "    <tr>\n",
              "      <th>1</th>\n",
              "      <td>NaN</td>\n",
              "      <td>NaN</td>\n",
              "      <td>NaN</td>\n",
              "      <td>NaN</td>\n",
              "      <td>NaN</td>\n",
              "      <td>NaN</td>\n",
              "      <td>NaN</td>\n",
              "      <td>NaN</td>\n",
              "      <td>アミノ酸組成による\\nたんぱく質</td>\n",
              "      <td>たんぱく質</td>\n",
              "      <td>脂肪酸の\\nトリアシルグリセロール当量</td>\n",
              "      <td>コレステロール</td>\n",
              "      <td>脂質</td>\n",
              "      <td>利用可能炭水化物</td>\n",
              "      <td>NaN</td>\n",
              "      <td>NaN</td>\n",
              "      <td>NaN</td>\n",
              "      <td>NaN</td>\n",
              "      <td>食物繊維総量</td>\n",
              "      <td>糖アルコール</td>\n",
              "      <td>炭水化物</td>\n",
              "      <td>NaN</td>\n",
              "      <td>NaN</td>\n",
              "      <td>ナ ト リ ウ ム</td>\n",
              "      <td>カ　リ　ウ　ム</td>\n",
              "      <td>カ ル シ ウ ム</td>\n",
              "      <td>マ グ ネ シ ウ ム</td>\n",
              "      <td>リ　ン</td>\n",
              "      <td>鉄</td>\n",
              "      <td>亜　鉛</td>\n",
              "      <td>銅</td>\n",
              "      <td>マ　ン　ガ　ン</td>\n",
              "      <td>NaN</td>\n",
              "      <td>ヨ　ウ　素</td>\n",
              "      <td>セ　レ　ン</td>\n",
              "      <td>ク　ロ　ム</td>\n",
              "      <td>モリブデン</td>\n",
              "      <td>ビタミンA</td>\n",
              "      <td>NaN</td>\n",
              "      <td>NaN</td>\n",
              "      <td>NaN</td>\n",
              "      <td>NaN</td>\n",
              "      <td>NaN</td>\n",
              "      <td>ビタミンD</td>\n",
              "      <td>ビタミンE</td>\n",
              "      <td>NaN</td>\n",
              "      <td>NaN</td>\n",
              "      <td>NaN</td>\n",
              "      <td>ビタミンK</td>\n",
              "      <td>ビ\\nタ\\nミ\\nン\\nＢ１</td>\n",
              "      <td>ビ\\nタ\\nミ\\nン\\nB２</td>\n",
              "      <td>ナイアシン</td>\n",
              "      <td>ナイアシン当量</td>\n",
              "      <td>ビ\\nタ\\nミ\\nン\\nＢ６</td>\n",
              "      <td>ビ\\nタ\\nミ\\nン\\nＢ１２</td>\n",
              "      <td>葉　酸</td>\n",
              "      <td>パントテン酸</td>\n",
              "      <td>ビ オ チ ン</td>\n",
              "      <td>ビタミンC</td>\n",
              "      <td>NaN</td>\n",
              "      <td>NaN</td>\n",
              "      <td>NaN</td>\n",
              "    </tr>\n",
              "    <tr>\n",
              "      <th>2</th>\n",
              "      <td>NaN</td>\n",
              "      <td>NaN</td>\n",
              "      <td>NaN</td>\n",
              "      <td>NaN</td>\n",
              "      <td>NaN</td>\n",
              "      <td>NaN</td>\n",
              "      <td>NaN</td>\n",
              "      <td>NaN</td>\n",
              "      <td>NaN</td>\n",
              "      <td>NaN</td>\n",
              "      <td>NaN</td>\n",
              "      <td>NaN</td>\n",
              "      <td>NaN</td>\n",
              "      <td>利用可能炭水化物\\n（単糖当量）</td>\n",
              "      <td>NaN</td>\n",
              "      <td>利用可能炭水化物\\n（質量計）</td>\n",
              "      <td>差引き法による\\n利用可能炭水化物</td>\n",
              "      <td>NaN</td>\n",
              "      <td>NaN</td>\n",
              "      <td>NaN</td>\n",
              "      <td>NaN</td>\n",
              "      <td>NaN</td>\n",
              "      <td>NaN</td>\n",
              "      <td>NaN</td>\n",
              "      <td>NaN</td>\n",
              "      <td>NaN</td>\n",
              "      <td>NaN</td>\n",
              "      <td>NaN</td>\n",
              "      <td>NaN</td>\n",
              "      <td>NaN</td>\n",
              "      <td>NaN</td>\n",
              "      <td>NaN</td>\n",
              "      <td>NaN</td>\n",
              "      <td>NaN</td>\n",
              "      <td>NaN</td>\n",
              "      <td>NaN</td>\n",
              "      <td>NaN</td>\n",
              "      <td>NaN</td>\n",
              "      <td>NaN</td>\n",
              "      <td>NaN</td>\n",
              "      <td>NaN</td>\n",
              "      <td>NaN</td>\n",
              "      <td>レチノール活性当量</td>\n",
              "      <td>NaN</td>\n",
              "      <td>α|トコフェロール</td>\n",
              "      <td>β|トコフェロール</td>\n",
              "      <td>γ|トコフェロール</td>\n",
              "      <td>δ|トコフェロール</td>\n",
              "      <td>NaN</td>\n",
              "      <td>NaN</td>\n",
              "      <td>NaN</td>\n",
              "      <td>NaN</td>\n",
              "      <td>NaN</td>\n",
              "      <td>NaN</td>\n",
              "      <td>NaN</td>\n",
              "      <td>NaN</td>\n",
              "      <td>NaN</td>\n",
              "      <td>NaN</td>\n",
              "      <td>NaN</td>\n",
              "      <td>NaN</td>\n",
              "      <td>NaN</td>\n",
              "      <td>NaN</td>\n",
              "    </tr>\n",
              "    <tr>\n",
              "      <th>3</th>\n",
              "      <td>NaN</td>\n",
              "      <td>NaN</td>\n",
              "      <td>NaN</td>\n",
              "      <td>NaN</td>\n",
              "      <td>NaN</td>\n",
              "      <td>NaN</td>\n",
              "      <td>NaN</td>\n",
              "      <td>NaN</td>\n",
              "      <td>NaN</td>\n",
              "      <td>NaN</td>\n",
              "      <td>NaN</td>\n",
              "      <td>NaN</td>\n",
              "      <td>NaN</td>\n",
              "      <td>NaN</td>\n",
              "      <td>NaN</td>\n",
              "      <td>NaN</td>\n",
              "      <td>NaN</td>\n",
              "      <td>NaN</td>\n",
              "      <td>NaN</td>\n",
              "      <td>NaN</td>\n",
              "      <td>NaN</td>\n",
              "      <td>NaN</td>\n",
              "      <td>NaN</td>\n",
              "      <td>NaN</td>\n",
              "      <td>NaN</td>\n",
              "      <td>NaN</td>\n",
              "      <td>NaN</td>\n",
              "      <td>NaN</td>\n",
              "      <td>NaN</td>\n",
              "      <td>NaN</td>\n",
              "      <td>NaN</td>\n",
              "      <td>NaN</td>\n",
              "      <td>NaN</td>\n",
              "      <td>NaN</td>\n",
              "      <td>NaN</td>\n",
              "      <td>NaN</td>\n",
              "      <td>NaN</td>\n",
              "      <td>レチノール</td>\n",
              "      <td>NaN</td>\n",
              "      <td>NaN</td>\n",
              "      <td>NaN</td>\n",
              "      <td>β|カロテン当量</td>\n",
              "      <td>NaN</td>\n",
              "      <td>NaN</td>\n",
              "      <td>NaN</td>\n",
              "      <td>NaN</td>\n",
              "      <td>NaN</td>\n",
              "      <td>NaN</td>\n",
              "      <td>NaN</td>\n",
              "      <td>NaN</td>\n",
              "      <td>NaN</td>\n",
              "      <td>NaN</td>\n",
              "      <td>NaN</td>\n",
              "      <td>NaN</td>\n",
              "      <td>NaN</td>\n",
              "      <td>NaN</td>\n",
              "      <td>NaN</td>\n",
              "      <td>NaN</td>\n",
              "      <td>NaN</td>\n",
              "      <td>NaN</td>\n",
              "      <td>NaN</td>\n",
              "      <td>NaN</td>\n",
              "    </tr>\n",
              "  </tbody>\n",
              "</table>\n",
              "</div>"
            ],
            "text/plain": [
              "   Unnamed: 0  食　品　番　号  索　引　番　号  ... Unnamed: 59 Unnamed: 60 備　　考\n",
              "0         NaN      NaN      NaN  ...       アルコール       食塩相当量  NaN\n",
              "1         NaN      NaN      NaN  ...         NaN         NaN  NaN\n",
              "2         NaN      NaN      NaN  ...         NaN         NaN  NaN\n",
              "3         NaN      NaN      NaN  ...         NaN         NaN  NaN\n",
              "\n",
              "[4 rows x 62 columns]"
            ]
          },
          "metadata": {
            "tags": []
          },
          "execution_count": 37
        }
      ]
    },
    {
      "cell_type": "markdown",
      "metadata": {
        "id": "CULET-99WJ3D"
      },
      "source": [
        "最初の4行ほどに栄養素等の情報が入っているのだが、  \n",
        "セルが結合されたりしているため、所々にNaNが入っていたりして見辛い。\n",
        "\n",
        "(碁盤目の構造を破壊してしまうため「セルの結合」は機械的な処理と  \n",
        "やや相性が悪く、プログラミングを用いたデータ分析では嫌われる)\n",
        "\n",
        "各省庁の公開データのフォーマットの統一化は今後に期待することにして...  \n",
        "まず以下の項目に該当する列だけを抽出する事を考える。\n",
        "\n"
      ]
    },
    {
      "cell_type": "code",
      "metadata": {
        "id": "Jhdp9z7cZm97"
      },
      "source": [
        "targets = [\"食品名\", \"エネルギー\",\"たんぱく質\", \"脂質\", \"炭水化物\"]"
      ],
      "execution_count": null,
      "outputs": []
    },
    {
      "cell_type": "markdown",
      "metadata": {
        "id": "zGrqpS-6jhaK"
      },
      "source": [
        "該当するデータがどの行・列に格納されているかをコードで指定するのは、  \n",
        "前述のファイル構造の事情からやや面倒くさい。  \n",
        "\n",
        "以下では、その場しのぎ的ではあるが、  \n",
        "興味のある量が何番目かを指定してまとめてみることにしよう。\n",
        "\n",
        "そのために、1行目の要素を表示してみよう。"
      ]
    },
    {
      "cell_type": "code",
      "metadata": {
        "colab": {
          "base_uri": "https://localhost:8080/"
        },
        "id": "yZ-IVG2Ma30o",
        "outputId": "31da9574-d7a0-45e9-b594-ed2abfebe337"
      },
      "source": [
        "#1行目(エクセルだと2行目)の要素を表示してみる\n",
        "print(list(df.iloc[0].values))\n",
        "\n",
        "#半角空白, 全角空白(\\u3000)や改行コード\\nを取り除いたリストを作って表示してみる\n",
        "tlist = list(map( lambda s: str(s).replace(\"\\u3000\",\"\").replace(\"\\n\",\"\").replace(\" \",\"\"),df.iloc[0].values))\n",
        "print(tlist)\n"
      ],
      "execution_count": null,
      "outputs": [
        {
          "output_type": "stream",
          "text": [
            "[nan, nan, nan, '食\\u3000品\\u3000名', '廃\\u3000棄\\u3000率', 'エネルギー', nan, '水\\u3000分', 'たんぱく質', nan, '脂質', nan, nan, '炭水化物', nan, nan, nan, nan, nan, nan, nan, '有機酸', '灰\\n\\n分', '無 機 質', nan, nan, nan, nan, nan, nan, nan, nan, nan, '無機質', nan, nan, nan, 'ビ\\u3000\\u3000タ\\u3000\\u3000ミ\\u3000\\u3000ン\\u3000\\u3000', nan, nan, nan, nan, nan, nan, nan, nan, nan, nan, nan, nan, nan, nan, nan, nan, nan, nan, nan, nan, nan, 'アルコール', '食塩相当量', nan]\n",
            "['nan', 'nan', 'nan', '食品名', '廃棄率', 'エネルギー', 'nan', '水分', 'たんぱく質', 'nan', '脂質', 'nan', 'nan', '炭水化物', 'nan', 'nan', 'nan', 'nan', 'nan', 'nan', 'nan', '有機酸', '灰分', '無機質', 'nan', 'nan', 'nan', 'nan', 'nan', 'nan', 'nan', 'nan', 'nan', '無機質', 'nan', 'nan', 'nan', 'ビタミン', 'nan', 'nan', 'nan', 'nan', 'nan', 'nan', 'nan', 'nan', 'nan', 'nan', 'nan', 'nan', 'nan', 'nan', 'nan', 'nan', 'nan', 'nan', 'nan', 'nan', 'nan', 'アルコール', '食塩相当量', 'nan']\n"
          ],
          "name": "stdout"
        }
      ]
    },
    {
      "cell_type": "markdown",
      "metadata": {
        "id": "KEaiS1EAiWDY"
      },
      "source": [
        "セルの結合により、興味のあるデータがどの列に記述されているかは注意が必要。  \n",
        "\n",
        "実際、[エネルギー]という文字列は1行目の6列目(それぞれインデックスでいうと0,5)で取得できるが、  \n",
        "kJ単位になっていて、kcal単位でほしければ、7列目に格納された値が必要になる。  \n",
        "\n",
        "また、エクセルファイルを見るとわかるように、たんぱく質・脂質・炭水化物はさらに細分化されており、  \n",
        "O列R列など、細かい列の分割が挿入されている. ~~これは大変困る~~\n",
        "\n",
        "単純にたんぱく質・脂質・炭水化物と表記されている列のインデックスはそれぞれ9,12,20となる。  \n",
        "食品名が格納されている列(3)、エネルギー[kJ単位] (6)と合わせて確認してみよう。"
      ]
    },
    {
      "cell_type": "code",
      "metadata": {
        "colab": {
          "base_uri": "https://localhost:8080/",
          "height": 407
        },
        "id": "U-Hzne6VgWf3",
        "outputId": "11ffb35e-5664-40b2-fd0c-d4f7e1db0f58"
      },
      "source": [
        "df.iloc[:,[3,6,9,12,20]]"
      ],
      "execution_count": null,
      "outputs": [
        {
          "output_type": "execute_result",
          "data": {
            "text/html": [
              "<div>\n",
              "<style scoped>\n",
              "    .dataframe tbody tr th:only-of-type {\n",
              "        vertical-align: middle;\n",
              "    }\n",
              "\n",
              "    .dataframe tbody tr th {\n",
              "        vertical-align: top;\n",
              "    }\n",
              "\n",
              "    .dataframe thead th {\n",
              "        text-align: right;\n",
              "    }\n",
              "</style>\n",
              "<table border=\"1\" class=\"dataframe\">\n",
              "  <thead>\n",
              "    <tr style=\"text-align: right;\">\n",
              "      <th></th>\n",
              "      <th>可　　食　　部　　 100　　g　　当　　た　　り</th>\n",
              "      <th>Unnamed: 6</th>\n",
              "      <th>Unnamed: 9</th>\n",
              "      <th>Unnamed: 12</th>\n",
              "      <th>Unnamed: 20</th>\n",
              "    </tr>\n",
              "  </thead>\n",
              "  <tbody>\n",
              "    <tr>\n",
              "      <th>0</th>\n",
              "      <td>食　品　名</td>\n",
              "      <td>NaN</td>\n",
              "      <td>NaN</td>\n",
              "      <td>NaN</td>\n",
              "      <td>NaN</td>\n",
              "    </tr>\n",
              "    <tr>\n",
              "      <th>1</th>\n",
              "      <td>NaN</td>\n",
              "      <td>NaN</td>\n",
              "      <td>たんぱく質</td>\n",
              "      <td>脂質</td>\n",
              "      <td>炭水化物</td>\n",
              "    </tr>\n",
              "    <tr>\n",
              "      <th>2</th>\n",
              "      <td>NaN</td>\n",
              "      <td>NaN</td>\n",
              "      <td>NaN</td>\n",
              "      <td>NaN</td>\n",
              "      <td>NaN</td>\n",
              "    </tr>\n",
              "    <tr>\n",
              "      <th>3</th>\n",
              "      <td>NaN</td>\n",
              "      <td>NaN</td>\n",
              "      <td>NaN</td>\n",
              "      <td>NaN</td>\n",
              "      <td>NaN</td>\n",
              "    </tr>\n",
              "    <tr>\n",
              "      <th>4</th>\n",
              "      <td>NaN</td>\n",
              "      <td>NaN</td>\n",
              "      <td>NaN</td>\n",
              "      <td>NaN</td>\n",
              "      <td>NaN</td>\n",
              "    </tr>\n",
              "    <tr>\n",
              "      <th>...</th>\n",
              "      <td>...</td>\n",
              "      <td>...</td>\n",
              "      <td>...</td>\n",
              "      <td>...</td>\n",
              "      <td>...</td>\n",
              "    </tr>\n",
              "    <tr>\n",
              "      <th>210</th>\n",
              "      <td>ひえ　精白粒</td>\n",
              "      <td>361</td>\n",
              "      <td>9.4</td>\n",
              "      <td>3.3</td>\n",
              "      <td>73.2</td>\n",
              "    </tr>\n",
              "    <tr>\n",
              "      <th>211</th>\n",
              "      <td>もろこし　玄穀</td>\n",
              "      <td>344</td>\n",
              "      <td>10.3</td>\n",
              "      <td>4.7</td>\n",
              "      <td>71.1</td>\n",
              "    </tr>\n",
              "    <tr>\n",
              "      <th>212</th>\n",
              "      <td>もろこし　精白粒</td>\n",
              "      <td>348</td>\n",
              "      <td>9.5</td>\n",
              "      <td>2.6</td>\n",
              "      <td>74.1</td>\n",
              "    </tr>\n",
              "    <tr>\n",
              "      <th>213</th>\n",
              "      <td>ライむぎ　全粒粉</td>\n",
              "      <td>317</td>\n",
              "      <td>12.7</td>\n",
              "      <td>2.7</td>\n",
              "      <td>70.7</td>\n",
              "    </tr>\n",
              "    <tr>\n",
              "      <th>214</th>\n",
              "      <td>ライむぎ　ライ麦粉</td>\n",
              "      <td>324</td>\n",
              "      <td>8.5</td>\n",
              "      <td>1.6</td>\n",
              "      <td>75.8</td>\n",
              "    </tr>\n",
              "  </tbody>\n",
              "</table>\n",
              "<p>215 rows × 5 columns</p>\n",
              "</div>"
            ],
            "text/plain": [
              "    可　　食　　部　　 100　　g　　当　　た　　り Unnamed: 6 Unnamed: 9 Unnamed: 12 Unnamed: 20\n",
              "0                       食　品　名        NaN        NaN         NaN         NaN\n",
              "1                         NaN        NaN      たんぱく質          脂質        炭水化物\n",
              "2                         NaN        NaN        NaN         NaN         NaN\n",
              "3                         NaN        NaN        NaN         NaN         NaN\n",
              "4                         NaN        NaN        NaN         NaN         NaN\n",
              "..                        ...        ...        ...         ...         ...\n",
              "210                    ひえ　精白粒        361        9.4         3.3        73.2\n",
              "211                   もろこし　玄穀        344       10.3         4.7        71.1\n",
              "212                  もろこし　精白粒        348        9.5         2.6        74.1\n",
              "213                  ライむぎ　全粒粉        317       12.7         2.7        70.7\n",
              "214                 ライむぎ　ライ麦粉        324        8.5         1.6        75.8\n",
              "\n",
              "[215 rows x 5 columns]"
            ]
          },
          "metadata": {
            "tags": []
          },
          "execution_count": 40
        }
      ]
    },
    {
      "cell_type": "markdown",
      "metadata": {
        "id": "LNk4oIypmpTe"
      },
      "source": [
        "もう少し整形したいので、新しいデータフレームのコラムを書き換える。\n",
        "\n",
        "食品名等が記載されているのは10行目以降なので、それを使い  \n",
        "columnを指定する。\n",
        "\n",
        "さらに、食品名に含まれる余分な文字コードも削除しておこう。"
      ]
    },
    {
      "cell_type": "code",
      "metadata": {
        "colab": {
          "base_uri": "https://localhost:8080/",
          "height": 407
        },
        "id": "ZWkaRBZynATr",
        "outputId": "b9a00712-7549-4202-880c-cbc5def472bc"
      },
      "source": [
        "ndf = df.iloc[:,[3,6,9,12,20]] \n",
        "ndf = ndf.iloc[10:,:]\n",
        "ndf.columns=[\"食品名\",\"エネルギー(kcal)\",\"たんぱく質(g)\",\"脂質(g)\",\"炭水化物(g)\"]\n",
        "ndf[\"食品名\"] = ndf[\"食品名\"].str.replace(\"\\u3000\",\" \") # 食品名の中にある余分な全角空白(\\u3000)を半角スペースに置き換える\n",
        "ndf"
      ],
      "execution_count": null,
      "outputs": [
        {
          "output_type": "execute_result",
          "data": {
            "text/html": [
              "<div>\n",
              "<style scoped>\n",
              "    .dataframe tbody tr th:only-of-type {\n",
              "        vertical-align: middle;\n",
              "    }\n",
              "\n",
              "    .dataframe tbody tr th {\n",
              "        vertical-align: top;\n",
              "    }\n",
              "\n",
              "    .dataframe thead th {\n",
              "        text-align: right;\n",
              "    }\n",
              "</style>\n",
              "<table border=\"1\" class=\"dataframe\">\n",
              "  <thead>\n",
              "    <tr style=\"text-align: right;\">\n",
              "      <th></th>\n",
              "      <th>食品名</th>\n",
              "      <th>エネルギー(kcal)</th>\n",
              "      <th>たんぱく質(g)</th>\n",
              "      <th>脂質(g)</th>\n",
              "      <th>炭水化物(g)</th>\n",
              "    </tr>\n",
              "  </thead>\n",
              "  <tbody>\n",
              "    <tr>\n",
              "      <th>10</th>\n",
              "      <td>アマランサス 玄穀</td>\n",
              "      <td>343</td>\n",
              "      <td>12.7</td>\n",
              "      <td>6.0</td>\n",
              "      <td>64.9</td>\n",
              "    </tr>\n",
              "    <tr>\n",
              "      <th>11</th>\n",
              "      <td>あわ 精白粒</td>\n",
              "      <td>346</td>\n",
              "      <td>11.2</td>\n",
              "      <td>4.4</td>\n",
              "      <td>69.7</td>\n",
              "    </tr>\n",
              "    <tr>\n",
              "      <th>12</th>\n",
              "      <td>あわ あわもち</td>\n",
              "      <td>210</td>\n",
              "      <td>5.1</td>\n",
              "      <td>1.3</td>\n",
              "      <td>45.3</td>\n",
              "    </tr>\n",
              "    <tr>\n",
              "      <th>13</th>\n",
              "      <td>えんばく オートミール</td>\n",
              "      <td>350</td>\n",
              "      <td>13.7</td>\n",
              "      <td>5.7</td>\n",
              "      <td>69.1</td>\n",
              "    </tr>\n",
              "    <tr>\n",
              "      <th>14</th>\n",
              "      <td>おおむぎ 七分つき押麦</td>\n",
              "      <td>343</td>\n",
              "      <td>10.9</td>\n",
              "      <td>2.1</td>\n",
              "      <td>72.1</td>\n",
              "    </tr>\n",
              "    <tr>\n",
              "      <th>...</th>\n",
              "      <td>...</td>\n",
              "      <td>...</td>\n",
              "      <td>...</td>\n",
              "      <td>...</td>\n",
              "      <td>...</td>\n",
              "    </tr>\n",
              "    <tr>\n",
              "      <th>210</th>\n",
              "      <td>ひえ 精白粒</td>\n",
              "      <td>361</td>\n",
              "      <td>9.4</td>\n",
              "      <td>3.3</td>\n",
              "      <td>73.2</td>\n",
              "    </tr>\n",
              "    <tr>\n",
              "      <th>211</th>\n",
              "      <td>もろこし 玄穀</td>\n",
              "      <td>344</td>\n",
              "      <td>10.3</td>\n",
              "      <td>4.7</td>\n",
              "      <td>71.1</td>\n",
              "    </tr>\n",
              "    <tr>\n",
              "      <th>212</th>\n",
              "      <td>もろこし 精白粒</td>\n",
              "      <td>348</td>\n",
              "      <td>9.5</td>\n",
              "      <td>2.6</td>\n",
              "      <td>74.1</td>\n",
              "    </tr>\n",
              "    <tr>\n",
              "      <th>213</th>\n",
              "      <td>ライむぎ 全粒粉</td>\n",
              "      <td>317</td>\n",
              "      <td>12.7</td>\n",
              "      <td>2.7</td>\n",
              "      <td>70.7</td>\n",
              "    </tr>\n",
              "    <tr>\n",
              "      <th>214</th>\n",
              "      <td>ライむぎ ライ麦粉</td>\n",
              "      <td>324</td>\n",
              "      <td>8.5</td>\n",
              "      <td>1.6</td>\n",
              "      <td>75.8</td>\n",
              "    </tr>\n",
              "  </tbody>\n",
              "</table>\n",
              "<p>205 rows × 5 columns</p>\n",
              "</div>"
            ],
            "text/plain": [
              "             食品名 エネルギー(kcal) たんぱく質(g) 脂質(g) 炭水化物(g)\n",
              "10     アマランサス 玄穀         343     12.7   6.0    64.9\n",
              "11        あわ 精白粒         346     11.2   4.4    69.7\n",
              "12       あわ あわもち         210      5.1   1.3    45.3\n",
              "13   えんばく オートミール         350     13.7   5.7    69.1\n",
              "14   おおむぎ 七分つき押麦         343     10.9   2.1    72.1\n",
              "..           ...         ...      ...   ...     ...\n",
              "210       ひえ 精白粒         361      9.4   3.3    73.2\n",
              "211      もろこし 玄穀         344     10.3   4.7    71.1\n",
              "212     もろこし 精白粒         348      9.5   2.6    74.1\n",
              "213     ライむぎ 全粒粉         317     12.7   2.7    70.7\n",
              "214    ライむぎ ライ麦粉         324      8.5   1.6    75.8\n",
              "\n",
              "[205 rows x 5 columns]"
            ]
          },
          "metadata": {
            "tags": []
          },
          "execution_count": 41
        }
      ]
    },
    {
      "cell_type": "markdown",
      "metadata": {
        "id": "B5FN5MFcmECG"
      },
      "source": [
        "次に、食品名の一覧を取得した後、興味のあるもの(日常的に馴染みのあるもの)だけを  \n",
        "ピックアップしてみよう。"
      ]
    },
    {
      "cell_type": "code",
      "metadata": {
        "colab": {
          "base_uri": "https://localhost:8080/"
        },
        "id": "_SI2LaqPmOK3",
        "outputId": "361bf772-d5ae-4efe-8a24-f0d147688a0d"
      },
      "source": [
        "print(list(ndf[\"食品名\"]))"
      ],
      "execution_count": null,
      "outputs": [
        {
          "output_type": "stream",
          "text": [
            "['アマランサス 玄穀', 'あわ 精白粒', 'あわ あわもち', 'えんばく オートミール', 'おおむぎ 七分つき押麦', 'おおむぎ 押麦 乾', 'おおむぎ 押麦 めし', 'おおむぎ 米粒麦', 'おおむぎ 大麦めん 乾', 'おおむぎ 大麦めん ゆで', 'おおむぎ 麦こがし', 'キヌア 玄穀', 'きび 精白粒', 'こむぎ ［玄穀］ 国産 普通', 'こむぎ ［玄穀］ 輸入 軟質', 'こむぎ ［玄穀］ 輸入 硬質', 'こむぎ ［小麦粉］ 薄力粉 1等', 'こむぎ ［小麦粉］ 薄力粉 2等', 'こむぎ ［小麦粉］ 中力粉 1等', 'こむぎ ［小麦粉］ 中力粉 2等', 'こむぎ ［小麦粉］ 強力粉 1等', 'こむぎ ［小麦粉］ 強力粉 2等', 'こむぎ ［小麦粉］ 強力粉 全粒粉', 'こむぎ ［小麦粉］ プレミックス粉 お好み焼き用', 'こむぎ ［小麦粉］ プレミックス粉 ホットケーキ用', 'こむぎ ［小麦粉］ プレミックス粉 から揚げ用', 'こむぎ ［小麦粉］ プレミックス粉 天ぷら用', 'こむぎ ［小麦粉］ プレミックス粉 天ぷら用 バッター', 'こむぎ ［小麦粉］ プレミックス粉 天ぷら用 バッター 揚げ', 'こむぎ ［パン類］ 角形食パン 食パン', 'こむぎ ［パン類］ 角形食パン 焼き', 'こむぎ ［パン類］ 角形食パン 耳を除いたもの', 'こむぎ ［パン類］ 角形食パン 耳', 'こむぎ ［パン類］ 食パン リーンタイプ', 'こむぎ ［パン類］ 食パン リッチタイプ', 'こむぎ ［パン類］ 山形食パン 食パン', 'こむぎ ［パン類］ コッペパン', 'こむぎ ［パン類］ 乾パン', 'こむぎ ［パン類］ フランスパン', 'こむぎ ［パン類］ ライ麦パン', 'こむぎ ［パン類］ 全粒粉パン', 'こむぎ ［パン類］ ぶどうパン', 'こむぎ ［パン類］ ロールパン', 'こむぎ ［パン類］ クロワッサン レギュラータイプ', 'こむぎ ［パン類］ クロワッサン リッチタイプ', 'こむぎ ［パン類］ くるみパン', 'こむぎ ［パン類］ イングリッシュマフィン', 'こむぎ ［パン類］ ナン', 'こむぎ ［パン類］ ベーグル', 'こむぎ ［うどん・そうめん類］ うどん 生', 'こむぎ ［うどん・そうめん類］ うどん ゆで', 'こむぎ ［うどん・そうめん類］ うどん 半生うどん', 'こむぎ ［うどん・そうめん類］ 干しうどん 乾', 'こむぎ ［うどん・そうめん類］ 干しうどん ゆで', 'こむぎ ［うどん・そうめん類］ そうめん・ひやむぎ 乾', 'こむぎ ［うどん・そうめん類］ そうめん・ひやむぎ ゆで', 'こむぎ ［うどん・そうめん類］ 手延そうめん・手延ひやむぎ 乾', 'こむぎ ［うどん・そうめん類］ 手延そうめん・手延ひやむぎ ゆで', 'こむぎ ［中華めん類］ 中華めん 生', 'こむぎ ［中華めん類］ 中華めん ゆで', 'こむぎ ［中華めん類］ 半生中華めん ', 'こむぎ ［中華めん類］ 蒸し中華めん 蒸し中華めん', 'こむぎ ［中華めん類］ 蒸し中華めん  ソテー', 'こむぎ ［中華めん類］ 干し中華めん 乾', 'こむぎ ［中華めん類］ 干し中華めん ゆで', 'こむぎ ［中華めん類］ 沖縄そば 生', 'こむぎ ［中華めん類］ 沖縄そば ゆで', 'こむぎ ［中華めん類］ 干し沖縄そば 乾', 'こむぎ ［中華めん類］ 干し沖縄そば ゆで', 'こむぎ ［即席めん類］ 即席中華めん 油揚げ味付け', 'こむぎ ［即席めん類］ 即席中華めん 油揚げ 乾 （添付調味料等を含むもの）', 'こむぎ ［即席めん類］ 即席中華めん 油揚げ 乾 （添付調味料等を含まないもの）', 'こむぎ ［即席めん類］ 即席中華めん 油揚げ 調理後全体 （添付調味料等を含むもの）', 'こむぎ ［即席めん類］ 即席中華めん 油揚げ ゆで （添付調味料等を含まないもの）', 'こむぎ ［即席めん類］ 即席中華めん 非油揚げ 乾 （添付調味料等を含まないもの）', 'こむぎ ［即席めん類］ 即席中華めん 非油揚げ 乾 （添付調味料等を含むもの）', 'こむぎ ［即席めん類］ 即席中華めん 非油揚げ 調理後全体 （添付調味料等を含むもの）', 'こむぎ ［即席めん類］ 即席中華めん 非油揚げ ゆで （添付調味料等を含まないもの）', 'こむぎ ［即席めん類］ 中華スタイル即席カップめん 油揚げ 塩味 乾 （添付調味料等を含むもの）', 'こむぎ ［即席めん類］ 中華スタイル即席カップめん 油揚げ 塩味 調理後全体 （添付調味料等を含むもの）', 'こむぎ ［即席めん類］ 中華スタイル即席カップめん 油揚げ 塩味 調理後のめん （スープを残したもの）', 'こむぎ ［即席めん類］ 中華スタイル即席カップめん 油揚げ しょうゆ味 乾 （添付調味料等を含むもの）', 'こむぎ ［即席めん類］ 中華スタイル即席カップめん 油揚げ しょうゆ味 調理後全体 （添付調味料等を含むもの）', 'こむぎ ［即席めん類］ 中華スタイル即席カップめん 油揚げ しょうゆ味 調理後のめん （スープを残したもの）', 'こむぎ ［即席めん類］ 中華スタイル即席カップめん 油揚げ 焼きそば 乾 （添付調味料等を含むもの）', 'こむぎ ［即席めん類］ 中華スタイル即席カップめん 油揚げ 焼きそば 調理後全体 （添付調味料等含むもの）', 'こむぎ ［即席めん類］ 中華スタイル即席カップめん 非油揚げ 乾 （添付調味料を含むもの）', 'こむぎ ［即席めん類］ 中華スタイル即席カップめん 非油揚げ 調理後全体 （添付調味料等を含むもの）', 'こむぎ ［即席めん類］ 中華スタイル即席カップめん 非油揚げ 調理後のめん （スープを残したもの）', 'こむぎ ［即席めん類］ 和風スタイル即席カップめん 油揚げ 乾 （添付調味料等を含むもの）', 'こむぎ ［即席めん類］ 和風スタイル即席カップめん 油揚げ 調理後全体 （添付調味料等を含むもの）', 'こむぎ ［即席めん類］ 和風スタイル即席カップめん 油揚げ 調理後のめん （スープを残したもの）', 'こむぎ ［マカロニ・スパゲッティ類］ マカロニ・スパゲッティ 乾', 'こむぎ ［マカロニ・スパゲッティ類］ マカロニ・スパゲッティ ゆで', 'こむぎ ［マカロニ・スパゲッティ類］ マカロニ・スパゲッティ ソテー', 'こむぎ ［マカロニ・スパゲッティ類］ 生パスタ 生', 'こむぎ ［ふ類］ 生ふ', 'こむぎ ［ふ類］ 焼きふ 釜焼きふ', 'こむぎ ［ふ類］ 焼きふ 板ふ', 'こむぎ ［ふ類］ 焼きふ 車ふ', 'こむぎ ［ふ類］ 油ふ', 'こむぎ ［その他］ 小麦はいが', 'こむぎ ［その他］ 小麦たんぱく 粉末状', 'こむぎ ［その他］ 小麦たんぱく 粒状', 'こむぎ ［その他］ 小麦たんぱく ペースト状', 'こむぎ ［その他］ かやきせんべい', 'こむぎ ［その他］ ぎょうざの皮 生', 'こむぎ ［その他］ しゅうまいの皮 生', 'こむぎ ［その他］ 春巻きの皮 生', 'こむぎ ［その他］ 春巻きの皮 揚げ', 'こむぎ ［その他］ ピザ生地', 'こむぎ ［その他］ ちくわぶ', 'こむぎ ［その他］ パン粉 生', 'こむぎ ［その他］ パン粉 半生', 'こむぎ ［その他］ パン粉 乾燥', 'こむぎ ［その他］ 冷めん 生', 'こめ ［水稲穀粒］ 玄米', 'こめ ［水稲穀粒］ 半つき米', 'こめ ［水稲穀粒］ 七分つき米', 'こめ ［水稲穀粒］ 精白米 うるち米', 'こめ ［水稲穀粒］ 精白米 もち米', 'こめ ［水稲穀粒］ 精白米 インディカ米', 'こめ ［水稲穀粒］ はいが精米', 'こめ ［水稲穀粒］ 発芽玄米', 'こめ ［水稲穀粒］ 赤米', 'こめ ［水稲穀粒］ 黒米', 'こめ ［水稲めし］ 玄米', 'こめ ［水稲めし］ 半つき米', 'こめ ［水稲めし］ 七分つき米', 'こめ ［水稲めし］ 精白米 インディカ米', 'こめ ［水稲めし］ 精白米 うるち米', 'こめ ［水稲めし］ 精白米 もち米', 'こめ ［水稲めし］ はいが精米', 'こめ ［水稲めし］ 発芽玄米', 'こめ ［水稲めし］ 赤米', 'こめ ［水稲めし］ 黒米', 'こめ ［水稲軟めし］ 精白米', 'こめ ［水稲全かゆ］ 玄米', 'こめ ［水稲全かゆ］ 半つき米', 'こめ ［水稲全かゆ］ 七分つき米', 'こめ ［水稲全かゆ］ 精白米', 'こめ ［水稲五分かゆ］ 玄米', 'こめ ［水稲五分かゆ］ 半つき米', 'こめ ［水稲五分かゆ］ 七分つき米', 'こめ ［水稲五分かゆ］ 精白米', 'こめ ［水稲おもゆ］ 玄米', 'こめ ［水稲おもゆ］ 半つき米', 'こめ ［水稲おもゆ］ 七分つき米', 'こめ ［水稲おもゆ］ 精白米', 'こめ ［陸稲穀粒］ 玄米', 'こめ ［陸稲穀粒］ 半つき米', 'こめ ［陸稲穀粒］ 七分つき米', 'こめ ［陸稲穀粒］ 精白米', 'こめ ［陸稲めし］ 玄米', 'こめ ［陸稲めし］ 半つき米', 'こめ ［陸稲めし］ 七分つき米', 'こめ ［陸稲めし］ 精白米', 'こめ ［うるち米製品］ アルファ化米 一般用', 'こめ ［うるち米製品］ アルファ化米 学校給食用強化品', 'こめ ［うるち米製品］ おにぎり', 'こめ ［うるち米製品］ 焼きおにぎり', 'こめ ［うるち米製品］ きりたんぽ', 'こめ ［うるち米製品］ 上新粉', 'こめ ［うるち米製品］ 玄米粉', 'こめ ［うるち米製品］ 米粉', 'こめ ［うるち米製品］ 米粉パン 食パン', 'こめ ［うるち米製品］ 米粉パン ロールパン', 'こめ ［うるち米製品］ 米粉パン 小麦グルテン不使用のもの', 'こめ ［うるち米製品］ 米粉めん', 'こめ ［うるち米製品］ ビーフン', 'こめ ［うるち米製品］ ライスペーパー', 'こめ ［うるち米製品］ 米こうじ', 'こめ ［もち米製品］ もち', 'こめ ［もち米製品］ 赤飯', 'こめ ［もち米製品］ あくまき', 'こめ ［もち米製品］ 白玉粉', 'こめ ［もち米製品］ 道明寺粉', 'こめ ［その他］ 米ぬか', 'そば そば粉 全層粉', 'そば そば粉 内層粉', 'そば そば粉 中層粉', 'そば そば粉 表層粉', 'そば そば米', 'そば そば 生', 'そば そば ゆで', 'そば そば 半生そば', 'そば 干しそば 乾', 'そば 干しそば ゆで', 'とうもろこし 玄穀 黄色種', 'とうもろこし 玄穀 白色種', 'とうもろこし コーンミール 黄色種', 'とうもろこし コーンミール 白色種', 'とうもろこし コーングリッツ 黄色種', 'とうもろこし コーングリッツ 白色種', 'とうもろこし コーンフラワー 黄色種', 'とうもろこし コーンフラワー 白色種', 'とうもろこし ジャイアントコーン フライ 味付け', 'とうもろこし ポップコーン', 'とうもろこし コーンフレーク', 'はとむぎ 精白粒', 'ひえ 精白粒', 'もろこし 玄穀', 'もろこし 精白粒', 'ライむぎ 全粒粉', 'ライむぎ ライ麦粉']\n"
          ],
          "name": "stdout"
        }
      ]
    },
    {
      "cell_type": "markdown",
      "metadata": {
        "id": "bT1akYL_pBXs"
      },
      "source": [
        "この中から...\n",
        "* こむぎ［パン類］食パンリッチタイプ\n",
        "* こむぎ［パン類］フランスパン\n",
        "* こめ［水稲軟めし］精白米\n",
        "* そばそばゆで\n",
        "* こむぎ［うどん・そうめん類］うどんゆで\n",
        "\n",
        "のみに興味があれば"
      ]
    },
    {
      "cell_type": "code",
      "metadata": {
        "colab": {
          "base_uri": "https://localhost:8080/",
          "height": 198
        },
        "id": "F2ouiW-jqpjm",
        "outputId": "6ba072c1-cfb7-456f-cddb-84e4b4c20563"
      },
      "source": [
        "tshokuhin = [\"こむぎ ［パン類］ 食パン リッチタイプ\",\"こむぎ ［パン類］ フランスパン\",\"こめ ［水稲軟めし］ 精白米\", \"そば そば ゆで\", \"こむぎ ［うどん・そうめん類］ うどん ゆで\"]\n",
        "ndf[ ndf[\"食品名\"].isin(tshokuhin)]"
      ],
      "execution_count": null,
      "outputs": [
        {
          "output_type": "execute_result",
          "data": {
            "text/html": [
              "<div>\n",
              "<style scoped>\n",
              "    .dataframe tbody tr th:only-of-type {\n",
              "        vertical-align: middle;\n",
              "    }\n",
              "\n",
              "    .dataframe tbody tr th {\n",
              "        vertical-align: top;\n",
              "    }\n",
              "\n",
              "    .dataframe thead th {\n",
              "        text-align: right;\n",
              "    }\n",
              "</style>\n",
              "<table border=\"1\" class=\"dataframe\">\n",
              "  <thead>\n",
              "    <tr style=\"text-align: right;\">\n",
              "      <th></th>\n",
              "      <th>食品名</th>\n",
              "      <th>エネルギー(kcal)</th>\n",
              "      <th>たんぱく質(g)</th>\n",
              "      <th>脂質(g)</th>\n",
              "      <th>炭水化物(g)</th>\n",
              "    </tr>\n",
              "  </thead>\n",
              "  <tbody>\n",
              "    <tr>\n",
              "      <th>44</th>\n",
              "      <td>こむぎ ［パン類］ 食パン リッチタイプ</td>\n",
              "      <td>255</td>\n",
              "      <td>(8.0)</td>\n",
              "      <td>(3.7)</td>\n",
              "      <td>(47.5)</td>\n",
              "    </tr>\n",
              "    <tr>\n",
              "      <th>48</th>\n",
              "      <td>こむぎ ［パン類］ フランスパン</td>\n",
              "      <td>289</td>\n",
              "      <td>9.4</td>\n",
              "      <td>1.3</td>\n",
              "      <td>57.5</td>\n",
              "    </tr>\n",
              "    <tr>\n",
              "      <th>60</th>\n",
              "      <td>こむぎ ［うどん・そうめん類］ うどん ゆで</td>\n",
              "      <td>95</td>\n",
              "      <td>2.6</td>\n",
              "      <td>0.4</td>\n",
              "      <td>21.6</td>\n",
              "    </tr>\n",
              "    <tr>\n",
              "      <th>146</th>\n",
              "      <td>こめ ［水稲軟めし］ 精白米</td>\n",
              "      <td>113</td>\n",
              "      <td>(1.8)</td>\n",
              "      <td>(0.3)</td>\n",
              "      <td>(26.4)</td>\n",
              "    </tr>\n",
              "    <tr>\n",
              "      <th>194</th>\n",
              "      <td>そば そば ゆで</td>\n",
              "      <td>130</td>\n",
              "      <td>4.8</td>\n",
              "      <td>1.0</td>\n",
              "      <td>26.0</td>\n",
              "    </tr>\n",
              "  </tbody>\n",
              "</table>\n",
              "</div>"
            ],
            "text/plain": [
              "                        食品名 エネルギー(kcal) たんぱく質(g)  脂質(g) 炭水化物(g)\n",
              "44     こむぎ ［パン類］ 食パン リッチタイプ         255    (8.0)  (3.7)  (47.5)\n",
              "48         こむぎ ［パン類］ フランスパン         289      9.4    1.3    57.5\n",
              "60   こむぎ ［うどん・そうめん類］ うどん ゆで          95      2.6    0.4    21.6\n",
              "146          こめ ［水稲軟めし］ 精白米         113    (1.8)  (0.3)  (26.4)\n",
              "194                そば そば ゆで         130      4.8    1.0    26.0"
            ]
          },
          "metadata": {
            "tags": []
          },
          "execution_count": 43
        }
      ]
    },
    {
      "cell_type": "markdown",
      "metadata": {
        "id": "Jt2aLH3jrWSY"
      },
      "source": [
        "などとする。"
      ]
    },
    {
      "cell_type": "markdown",
      "metadata": {
        "id": "So7B0ZauwuyT"
      },
      "source": [
        "'6 野菜類'でも同様に..."
      ]
    },
    {
      "cell_type": "code",
      "metadata": {
        "colab": {
          "base_uri": "https://localhost:8080/",
          "height": 407
        },
        "id": "aYwheZeiw0Oe",
        "outputId": "64bd5693-0ee1-4fd4-eefc-72c8a97d285c"
      },
      "source": [
        "df6 = pd.read_excel(wb,sheet_name=\"6 野菜類\")\n",
        "df6.iloc[:,[3,6,9,12,20]]\n",
        "ndf6 = df6.iloc[:,[3,6,9,12,20]] \n",
        "ndf6 = ndf6.iloc[10:,:]\n",
        "ndf6.columns=[\"食品名\",\"エネルギー(kcal)\",\"たんぱく質(g)\",\"脂質(g)\",\"炭水化物(g)\"]\n",
        "ndf6[\"食品名\"] = ndf6[\"食品名\"].str.replace(\"\\u3000\",\" \") \n",
        "ndf6"
      ],
      "execution_count": null,
      "outputs": [
        {
          "output_type": "execute_result",
          "data": {
            "text/html": [
              "<div>\n",
              "<style scoped>\n",
              "    .dataframe tbody tr th:only-of-type {\n",
              "        vertical-align: middle;\n",
              "    }\n",
              "\n",
              "    .dataframe tbody tr th {\n",
              "        vertical-align: top;\n",
              "    }\n",
              "\n",
              "    .dataframe thead th {\n",
              "        text-align: right;\n",
              "    }\n",
              "</style>\n",
              "<table border=\"1\" class=\"dataframe\">\n",
              "  <thead>\n",
              "    <tr style=\"text-align: right;\">\n",
              "      <th></th>\n",
              "      <th>食品名</th>\n",
              "      <th>エネルギー(kcal)</th>\n",
              "      <th>たんぱく質(g)</th>\n",
              "      <th>脂質(g)</th>\n",
              "      <th>炭水化物(g)</th>\n",
              "    </tr>\n",
              "  </thead>\n",
              "  <tbody>\n",
              "    <tr>\n",
              "      <th>10</th>\n",
              "      <td>アーティチョーク 花らい 生</td>\n",
              "      <td>39</td>\n",
              "      <td>2.3</td>\n",
              "      <td>0.2</td>\n",
              "      <td>11.3</td>\n",
              "    </tr>\n",
              "    <tr>\n",
              "      <th>11</th>\n",
              "      <td>アーティチョーク 花らい ゆで</td>\n",
              "      <td>35</td>\n",
              "      <td>2.1</td>\n",
              "      <td>0.1</td>\n",
              "      <td>10.8</td>\n",
              "    </tr>\n",
              "    <tr>\n",
              "      <th>12</th>\n",
              "      <td>あさつき 葉 生</td>\n",
              "      <td>34</td>\n",
              "      <td>4.2</td>\n",
              "      <td>0.3</td>\n",
              "      <td>5.6</td>\n",
              "    </tr>\n",
              "    <tr>\n",
              "      <th>13</th>\n",
              "      <td>あさつき 葉 ゆで</td>\n",
              "      <td>41</td>\n",
              "      <td>4.2</td>\n",
              "      <td>0.3</td>\n",
              "      <td>7.3</td>\n",
              "    </tr>\n",
              "    <tr>\n",
              "      <th>14</th>\n",
              "      <td>あしたば 茎葉 生</td>\n",
              "      <td>30</td>\n",
              "      <td>3.3</td>\n",
              "      <td>0.1</td>\n",
              "      <td>6.7</td>\n",
              "    </tr>\n",
              "    <tr>\n",
              "      <th>...</th>\n",
              "      <td>...</td>\n",
              "      <td>...</td>\n",
              "      <td>...</td>\n",
              "      <td>...</td>\n",
              "      <td>...</td>\n",
              "    </tr>\n",
              "    <tr>\n",
              "      <th>406</th>\n",
              "      <td>（その他） ミックスベジタブル 冷凍</td>\n",
              "      <td>91</td>\n",
              "      <td>3.0</td>\n",
              "      <td>0.7</td>\n",
              "      <td>15.1</td>\n",
              "    </tr>\n",
              "    <tr>\n",
              "      <th>407</th>\n",
              "      <td>（その他） ミックスベジタブル 冷凍 ゆで</td>\n",
              "      <td>91</td>\n",
              "      <td>3.1</td>\n",
              "      <td>0.8</td>\n",
              "      <td>14.6</td>\n",
              "    </tr>\n",
              "    <tr>\n",
              "      <th>408</th>\n",
              "      <td>（その他） ミックスベジタブル 冷凍 油いため</td>\n",
              "      <td>132</td>\n",
              "      <td>3.3</td>\n",
              "      <td>4.9</td>\n",
              "      <td>15.7</td>\n",
              "    </tr>\n",
              "    <tr>\n",
              "      <th>409</th>\n",
              "      <td>（その他） 野菜ミックスジュース 通常タイプ</td>\n",
              "      <td>21</td>\n",
              "      <td>0.8</td>\n",
              "      <td>0.1</td>\n",
              "      <td>4.7</td>\n",
              "    </tr>\n",
              "    <tr>\n",
              "      <th>410</th>\n",
              "      <td>（その他） 野菜ミックスジュース 濃縮タイプ</td>\n",
              "      <td>36</td>\n",
              "      <td>1.0</td>\n",
              "      <td>0.3</td>\n",
              "      <td>7.8</td>\n",
              "    </tr>\n",
              "  </tbody>\n",
              "</table>\n",
              "<p>401 rows × 5 columns</p>\n",
              "</div>"
            ],
            "text/plain": [
              "                         食品名 エネルギー(kcal) たんぱく質(g) 脂質(g) 炭水化物(g)\n",
              "10            アーティチョーク 花らい 生          39      2.3   0.2    11.3\n",
              "11           アーティチョーク 花らい ゆで          35      2.1   0.1    10.8\n",
              "12                  あさつき 葉 生          34      4.2   0.3     5.6\n",
              "13                 あさつき 葉 ゆで          41      4.2   0.3     7.3\n",
              "14                 あしたば 茎葉 生          30      3.3   0.1     6.7\n",
              "..                       ...         ...      ...   ...     ...\n",
              "406       （その他） ミックスベジタブル 冷凍          91      3.0   0.7    15.1\n",
              "407    （その他） ミックスベジタブル 冷凍 ゆで          91      3.1   0.8    14.6\n",
              "408  （その他） ミックスベジタブル 冷凍 油いため         132      3.3   4.9    15.7\n",
              "409   （その他） 野菜ミックスジュース 通常タイプ          21      0.8   0.1     4.7\n",
              "410   （その他） 野菜ミックスジュース 濃縮タイプ          36      1.0   0.3     7.8\n",
              "\n",
              "[401 rows x 5 columns]"
            ]
          },
          "metadata": {
            "tags": []
          },
          "execution_count": 44
        }
      ]
    },
    {
      "cell_type": "markdown",
      "metadata": {
        "id": "di6-R2kIx88j"
      },
      "source": [
        "特定のキーワードを含むものを全て取得して、  \n",
        "食品名を細かく指定したり、対応する行番号のインデックスを取得できたりする"
      ]
    },
    {
      "cell_type": "code",
      "metadata": {
        "colab": {
          "base_uri": "https://localhost:8080/",
          "height": 258
        },
        "id": "XDN2orG9xP_j",
        "outputId": "ed9aee04-e81f-4d83-823b-71ebcbca3928"
      },
      "source": [
        "kyabetu = ndf6[ndf6[\"食品名\"].str.contains('キャベツ')]\n",
        "kyabetu"
      ],
      "execution_count": null,
      "outputs": [
        {
          "output_type": "execute_result",
          "data": {
            "text/html": [
              "<div>\n",
              "<style scoped>\n",
              "    .dataframe tbody tr th:only-of-type {\n",
              "        vertical-align: middle;\n",
              "    }\n",
              "\n",
              "    .dataframe tbody tr th {\n",
              "        vertical-align: top;\n",
              "    }\n",
              "\n",
              "    .dataframe thead th {\n",
              "        text-align: right;\n",
              "    }\n",
              "</style>\n",
              "<table border=\"1\" class=\"dataframe\">\n",
              "  <thead>\n",
              "    <tr style=\"text-align: right;\">\n",
              "      <th></th>\n",
              "      <th>食品名</th>\n",
              "      <th>エネルギー(kcal)</th>\n",
              "      <th>たんぱく質(g)</th>\n",
              "      <th>脂質(g)</th>\n",
              "      <th>炭水化物(g)</th>\n",
              "    </tr>\n",
              "  </thead>\n",
              "  <tbody>\n",
              "    <tr>\n",
              "      <th>80</th>\n",
              "      <td>（キャベツ類） キャベツ 結球葉 生</td>\n",
              "      <td>21</td>\n",
              "      <td>1.3</td>\n",
              "      <td>0.2</td>\n",
              "      <td>5.2</td>\n",
              "    </tr>\n",
              "    <tr>\n",
              "      <th>81</th>\n",
              "      <td>（キャベツ類） キャベツ 結球葉 ゆで</td>\n",
              "      <td>19</td>\n",
              "      <td>0.9</td>\n",
              "      <td>0.2</td>\n",
              "      <td>4.6</td>\n",
              "    </tr>\n",
              "    <tr>\n",
              "      <th>82</th>\n",
              "      <td>（キャベツ類） キャベツ 結球葉 油いため</td>\n",
              "      <td>78</td>\n",
              "      <td>1.6</td>\n",
              "      <td>6.0</td>\n",
              "      <td>5.9</td>\n",
              "    </tr>\n",
              "    <tr>\n",
              "      <th>83</th>\n",
              "      <td>（キャベツ類） グリーンボール 結球葉 生</td>\n",
              "      <td>20</td>\n",
              "      <td>1.4</td>\n",
              "      <td>0.1</td>\n",
              "      <td>4.3</td>\n",
              "    </tr>\n",
              "    <tr>\n",
              "      <th>84</th>\n",
              "      <td>（キャベツ類） レッドキャベツ 結球葉 生</td>\n",
              "      <td>30</td>\n",
              "      <td>2.0</td>\n",
              "      <td>0.1</td>\n",
              "      <td>6.7</td>\n",
              "    </tr>\n",
              "    <tr>\n",
              "      <th>357</th>\n",
              "      <td>めキャベツ 結球葉 生</td>\n",
              "      <td>52</td>\n",
              "      <td>5.7</td>\n",
              "      <td>0.1</td>\n",
              "      <td>9.9</td>\n",
              "    </tr>\n",
              "    <tr>\n",
              "      <th>358</th>\n",
              "      <td>めキャベツ 結球葉 ゆで</td>\n",
              "      <td>51</td>\n",
              "      <td>5.3</td>\n",
              "      <td>0.1</td>\n",
              "      <td>9.8</td>\n",
              "    </tr>\n",
              "  </tbody>\n",
              "</table>\n",
              "</div>"
            ],
            "text/plain": [
              "                       食品名 エネルギー(kcal) たんぱく質(g) 脂質(g) 炭水化物(g)\n",
              "80      （キャベツ類） キャベツ 結球葉 生          21      1.3   0.2     5.2\n",
              "81     （キャベツ類） キャベツ 結球葉 ゆで          19      0.9   0.2     4.6\n",
              "82   （キャベツ類） キャベツ 結球葉 油いため          78      1.6   6.0     5.9\n",
              "83   （キャベツ類） グリーンボール 結球葉 生          20      1.4   0.1     4.3\n",
              "84   （キャベツ類） レッドキャベツ 結球葉 生          30      2.0   0.1     6.7\n",
              "357            めキャベツ 結球葉 生          52      5.7   0.1     9.9\n",
              "358           めキャベツ 結球葉 ゆで          51      5.3   0.1     9.8"
            ]
          },
          "metadata": {
            "tags": []
          },
          "execution_count": 45
        }
      ]
    },
    {
      "cell_type": "code",
      "metadata": {
        "colab": {
          "base_uri": "https://localhost:8080/",
          "height": 318
        },
        "id": "QboGKX8bx0yB",
        "outputId": "3dc184e5-dd97-4832-8f01-900719448170"
      },
      "source": [
        "tomato = ndf6[ndf6[\"食品名\"].str.contains('トマト')]\n",
        "tomato"
      ],
      "execution_count": null,
      "outputs": [
        {
          "output_type": "execute_result",
          "data": {
            "text/html": [
              "<div>\n",
              "<style scoped>\n",
              "    .dataframe tbody tr th:only-of-type {\n",
              "        vertical-align: middle;\n",
              "    }\n",
              "\n",
              "    .dataframe tbody tr th {\n",
              "        vertical-align: top;\n",
              "    }\n",
              "\n",
              "    .dataframe thead th {\n",
              "        text-align: right;\n",
              "    }\n",
              "</style>\n",
              "<table border=\"1\" class=\"dataframe\">\n",
              "  <thead>\n",
              "    <tr style=\"text-align: right;\">\n",
              "      <th></th>\n",
              "      <th>食品名</th>\n",
              "      <th>エネルギー(kcal)</th>\n",
              "      <th>たんぱく質(g)</th>\n",
              "      <th>脂質(g)</th>\n",
              "      <th>炭水化物(g)</th>\n",
              "    </tr>\n",
              "  </thead>\n",
              "  <tbody>\n",
              "    <tr>\n",
              "      <th>220</th>\n",
              "      <td>（トマト類） 赤色トマト 果実 生</td>\n",
              "      <td>20</td>\n",
              "      <td>0.7</td>\n",
              "      <td>0.1</td>\n",
              "      <td>4.7</td>\n",
              "    </tr>\n",
              "    <tr>\n",
              "      <th>221</th>\n",
              "      <td>（トマト類） 赤色ミニトマト 果実 生</td>\n",
              "      <td>30</td>\n",
              "      <td>1.1</td>\n",
              "      <td>0.1</td>\n",
              "      <td>7.2</td>\n",
              "    </tr>\n",
              "    <tr>\n",
              "      <th>222</th>\n",
              "      <td>（トマト類） 黄色トマト 果実 生</td>\n",
              "      <td>18</td>\n",
              "      <td>1.1</td>\n",
              "      <td>0.4</td>\n",
              "      <td>3.2</td>\n",
              "    </tr>\n",
              "    <tr>\n",
              "      <th>223</th>\n",
              "      <td>（トマト類） ドライトマト</td>\n",
              "      <td>291</td>\n",
              "      <td>14.2</td>\n",
              "      <td>2.1</td>\n",
              "      <td>67.3</td>\n",
              "    </tr>\n",
              "    <tr>\n",
              "      <th>224</th>\n",
              "      <td>（トマト類） 加工品 ホール 食塩無添加</td>\n",
              "      <td>21</td>\n",
              "      <td>0.9</td>\n",
              "      <td>0.2</td>\n",
              "      <td>4.4</td>\n",
              "    </tr>\n",
              "    <tr>\n",
              "      <th>225</th>\n",
              "      <td>（トマト類） 加工品 トマトジュース 食塩添加</td>\n",
              "      <td>15</td>\n",
              "      <td>0.7</td>\n",
              "      <td>0.1</td>\n",
              "      <td>4.0</td>\n",
              "    </tr>\n",
              "    <tr>\n",
              "      <th>226</th>\n",
              "      <td>（トマト類） 加工品 トマトジュース 食塩無添加</td>\n",
              "      <td>18</td>\n",
              "      <td>0.7</td>\n",
              "      <td>0.1</td>\n",
              "      <td>4.0</td>\n",
              "    </tr>\n",
              "    <tr>\n",
              "      <th>227</th>\n",
              "      <td>（トマト類） 加工品 ミックスジュース 食塩添加</td>\n",
              "      <td>18</td>\n",
              "      <td>0.6</td>\n",
              "      <td>0</td>\n",
              "      <td>4.3</td>\n",
              "    </tr>\n",
              "    <tr>\n",
              "      <th>228</th>\n",
              "      <td>（トマト類） 加工品 ミックスジュース 食塩無添加</td>\n",
              "      <td>18</td>\n",
              "      <td>0.6</td>\n",
              "      <td>0</td>\n",
              "      <td>4.3</td>\n",
              "    </tr>\n",
              "  </tbody>\n",
              "</table>\n",
              "</div>"
            ],
            "text/plain": [
              "                           食品名 エネルギー(kcal) たんぱく質(g) 脂質(g) 炭水化物(g)\n",
              "220          （トマト類） 赤色トマト 果実 生          20      0.7   0.1     4.7\n",
              "221        （トマト類） 赤色ミニトマト 果実 生          30      1.1   0.1     7.2\n",
              "222          （トマト類） 黄色トマト 果実 生          18      1.1   0.4     3.2\n",
              "223              （トマト類） ドライトマト         291     14.2   2.1    67.3\n",
              "224       （トマト類） 加工品 ホール 食塩無添加          21      0.9   0.2     4.4\n",
              "225    （トマト類） 加工品 トマトジュース 食塩添加          15      0.7   0.1     4.0\n",
              "226   （トマト類） 加工品 トマトジュース 食塩無添加          18      0.7   0.1     4.0\n",
              "227   （トマト類） 加工品 ミックスジュース 食塩添加          18      0.6     0     4.3\n",
              "228  （トマト類） 加工品 ミックスジュース 食塩無添加          18      0.6     0     4.3"
            ]
          },
          "metadata": {
            "tags": []
          },
          "execution_count": 46
        }
      ]
    },
    {
      "cell_type": "markdown",
      "metadata": {
        "id": "ojENrlEZGepm"
      },
      "source": [
        "DataFrame同士を結合してまとめるなどして  \n",
        "扱いやすいデータに整形していく.\n",
        "\n",
        "縦方向の結合はpandasのconcat(concatenateの略)を使う。"
      ]
    },
    {
      "cell_type": "code",
      "metadata": {
        "id": "SKoSAqvNGkrt",
        "colab": {
          "base_uri": "https://localhost:8080/",
          "height": 528
        },
        "outputId": "9d00ca72-629b-4bcc-d28c-7abb51119164"
      },
      "source": [
        "tdf = pd.concat([kyabetu, tomato])\n",
        "tdf"
      ],
      "execution_count": null,
      "outputs": [
        {
          "output_type": "execute_result",
          "data": {
            "text/html": [
              "<div>\n",
              "<style scoped>\n",
              "    .dataframe tbody tr th:only-of-type {\n",
              "        vertical-align: middle;\n",
              "    }\n",
              "\n",
              "    .dataframe tbody tr th {\n",
              "        vertical-align: top;\n",
              "    }\n",
              "\n",
              "    .dataframe thead th {\n",
              "        text-align: right;\n",
              "    }\n",
              "</style>\n",
              "<table border=\"1\" class=\"dataframe\">\n",
              "  <thead>\n",
              "    <tr style=\"text-align: right;\">\n",
              "      <th></th>\n",
              "      <th>食品名</th>\n",
              "      <th>エネルギー(kcal)</th>\n",
              "      <th>たんぱく質(g)</th>\n",
              "      <th>脂質(g)</th>\n",
              "      <th>炭水化物(g)</th>\n",
              "    </tr>\n",
              "  </thead>\n",
              "  <tbody>\n",
              "    <tr>\n",
              "      <th>80</th>\n",
              "      <td>（キャベツ類） キャベツ 結球葉 生</td>\n",
              "      <td>21</td>\n",
              "      <td>1.3</td>\n",
              "      <td>0.2</td>\n",
              "      <td>5.2</td>\n",
              "    </tr>\n",
              "    <tr>\n",
              "      <th>81</th>\n",
              "      <td>（キャベツ類） キャベツ 結球葉 ゆで</td>\n",
              "      <td>19</td>\n",
              "      <td>0.9</td>\n",
              "      <td>0.2</td>\n",
              "      <td>4.6</td>\n",
              "    </tr>\n",
              "    <tr>\n",
              "      <th>82</th>\n",
              "      <td>（キャベツ類） キャベツ 結球葉 油いため</td>\n",
              "      <td>78</td>\n",
              "      <td>1.6</td>\n",
              "      <td>6.0</td>\n",
              "      <td>5.9</td>\n",
              "    </tr>\n",
              "    <tr>\n",
              "      <th>83</th>\n",
              "      <td>（キャベツ類） グリーンボール 結球葉 生</td>\n",
              "      <td>20</td>\n",
              "      <td>1.4</td>\n",
              "      <td>0.1</td>\n",
              "      <td>4.3</td>\n",
              "    </tr>\n",
              "    <tr>\n",
              "      <th>84</th>\n",
              "      <td>（キャベツ類） レッドキャベツ 結球葉 生</td>\n",
              "      <td>30</td>\n",
              "      <td>2.0</td>\n",
              "      <td>0.1</td>\n",
              "      <td>6.7</td>\n",
              "    </tr>\n",
              "    <tr>\n",
              "      <th>357</th>\n",
              "      <td>めキャベツ 結球葉 生</td>\n",
              "      <td>52</td>\n",
              "      <td>5.7</td>\n",
              "      <td>0.1</td>\n",
              "      <td>9.9</td>\n",
              "    </tr>\n",
              "    <tr>\n",
              "      <th>358</th>\n",
              "      <td>めキャベツ 結球葉 ゆで</td>\n",
              "      <td>51</td>\n",
              "      <td>5.3</td>\n",
              "      <td>0.1</td>\n",
              "      <td>9.8</td>\n",
              "    </tr>\n",
              "    <tr>\n",
              "      <th>220</th>\n",
              "      <td>（トマト類） 赤色トマト 果実 生</td>\n",
              "      <td>20</td>\n",
              "      <td>0.7</td>\n",
              "      <td>0.1</td>\n",
              "      <td>4.7</td>\n",
              "    </tr>\n",
              "    <tr>\n",
              "      <th>221</th>\n",
              "      <td>（トマト類） 赤色ミニトマト 果実 生</td>\n",
              "      <td>30</td>\n",
              "      <td>1.1</td>\n",
              "      <td>0.1</td>\n",
              "      <td>7.2</td>\n",
              "    </tr>\n",
              "    <tr>\n",
              "      <th>222</th>\n",
              "      <td>（トマト類） 黄色トマト 果実 生</td>\n",
              "      <td>18</td>\n",
              "      <td>1.1</td>\n",
              "      <td>0.4</td>\n",
              "      <td>3.2</td>\n",
              "    </tr>\n",
              "    <tr>\n",
              "      <th>223</th>\n",
              "      <td>（トマト類） ドライトマト</td>\n",
              "      <td>291</td>\n",
              "      <td>14.2</td>\n",
              "      <td>2.1</td>\n",
              "      <td>67.3</td>\n",
              "    </tr>\n",
              "    <tr>\n",
              "      <th>224</th>\n",
              "      <td>（トマト類） 加工品 ホール 食塩無添加</td>\n",
              "      <td>21</td>\n",
              "      <td>0.9</td>\n",
              "      <td>0.2</td>\n",
              "      <td>4.4</td>\n",
              "    </tr>\n",
              "    <tr>\n",
              "      <th>225</th>\n",
              "      <td>（トマト類） 加工品 トマトジュース 食塩添加</td>\n",
              "      <td>15</td>\n",
              "      <td>0.7</td>\n",
              "      <td>0.1</td>\n",
              "      <td>4.0</td>\n",
              "    </tr>\n",
              "    <tr>\n",
              "      <th>226</th>\n",
              "      <td>（トマト類） 加工品 トマトジュース 食塩無添加</td>\n",
              "      <td>18</td>\n",
              "      <td>0.7</td>\n",
              "      <td>0.1</td>\n",
              "      <td>4.0</td>\n",
              "    </tr>\n",
              "    <tr>\n",
              "      <th>227</th>\n",
              "      <td>（トマト類） 加工品 ミックスジュース 食塩添加</td>\n",
              "      <td>18</td>\n",
              "      <td>0.6</td>\n",
              "      <td>0</td>\n",
              "      <td>4.3</td>\n",
              "    </tr>\n",
              "    <tr>\n",
              "      <th>228</th>\n",
              "      <td>（トマト類） 加工品 ミックスジュース 食塩無添加</td>\n",
              "      <td>18</td>\n",
              "      <td>0.6</td>\n",
              "      <td>0</td>\n",
              "      <td>4.3</td>\n",
              "    </tr>\n",
              "  </tbody>\n",
              "</table>\n",
              "</div>"
            ],
            "text/plain": [
              "                           食品名 エネルギー(kcal) たんぱく質(g) 脂質(g) 炭水化物(g)\n",
              "80          （キャベツ類） キャベツ 結球葉 生          21      1.3   0.2     5.2\n",
              "81         （キャベツ類） キャベツ 結球葉 ゆで          19      0.9   0.2     4.6\n",
              "82       （キャベツ類） キャベツ 結球葉 油いため          78      1.6   6.0     5.9\n",
              "83       （キャベツ類） グリーンボール 結球葉 生          20      1.4   0.1     4.3\n",
              "84       （キャベツ類） レッドキャベツ 結球葉 生          30      2.0   0.1     6.7\n",
              "357                めキャベツ 結球葉 生          52      5.7   0.1     9.9\n",
              "358               めキャベツ 結球葉 ゆで          51      5.3   0.1     9.8\n",
              "220          （トマト類） 赤色トマト 果実 生          20      0.7   0.1     4.7\n",
              "221        （トマト類） 赤色ミニトマト 果実 生          30      1.1   0.1     7.2\n",
              "222          （トマト類） 黄色トマト 果実 生          18      1.1   0.4     3.2\n",
              "223              （トマト類） ドライトマト         291     14.2   2.1    67.3\n",
              "224       （トマト類） 加工品 ホール 食塩無添加          21      0.9   0.2     4.4\n",
              "225    （トマト類） 加工品 トマトジュース 食塩添加          15      0.7   0.1     4.0\n",
              "226   （トマト類） 加工品 トマトジュース 食塩無添加          18      0.7   0.1     4.0\n",
              "227   （トマト類） 加工品 ミックスジュース 食塩添加          18      0.6     0     4.3\n",
              "228  （トマト類） 加工品 ミックスジュース 食塩無添加          18      0.6     0     4.3"
            ]
          },
          "metadata": {
            "tags": []
          },
          "execution_count": 47
        }
      ]
    },
    {
      "cell_type": "markdown",
      "metadata": {
        "id": "dPK_KIGcyuod"
      },
      "source": [
        "# LICENSE"
      ]
    },
    {
      "cell_type": "markdown",
      "metadata": {
        "id": "q943wB7Z4DYK"
      },
      "source": [
        "\n",
        "Copyright (C) 2021 Sota Yoshida\n",
        "\n",
        "[ライセンス:クリエイティブ・コモンズ 4.0 表示 (CC-BY 4.0)](https://creativecommons.org/licenses/by/4.0/deed.ja)"
      ]
    }
  ]
}