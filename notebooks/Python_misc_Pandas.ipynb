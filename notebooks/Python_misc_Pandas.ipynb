{
  "nbformat": 4,
  "nbformat_minor": 0,
  "metadata": {
    "colab": {
      "name": "Python_misc_Pandas.ipynb",
      "provenance": [],
      "collapsed_sections": [],
      "include_colab_link": true
    },
    "kernelspec": {
      "name": "python3",
      "display_name": "Python 3"
    }
  },
  "cells": [
    {
      "cell_type": "markdown",
      "metadata": {
        "id": "view-in-github",
        "colab_type": "text"
      },
      "source": [
        "<a href=\"https://colab.research.google.com/github/SotaYoshida/Lecture_DataScience/blob/2021/notebooks/Python_misc_Pandas.ipynb\" target=\"_parent\"><img src=\"https://colab.research.google.com/assets/colab-badge.svg\" alt=\"Open In Colab\"/></a>"
      ]
    },
    {
      "cell_type": "markdown",
      "metadata": {
        "id": "g05kSZSuyD8r"
      },
      "source": [
        "# Pandasの使い方 (基礎)"
      ]
    },
    {
      "cell_type": "markdown",
      "metadata": {
        "id": "NnDUb09nyHXf"
      },
      "source": [
        "```Pandas```は、データ分析のためのライブラリで  \n",
        "統計量を計算・表示したり、それらをグラフとして可視化出来たり  \n",
        "前処理などの地道だが重要な作業を比較的簡単に行うことができます。\n",
        "\n",
        "\n",
        "まずはインポートしましょう。```pd```という名前で使うのが慣例です。"
      ]
    },
    {
      "cell_type": "code",
      "metadata": {
        "id": "G0LxApMex5f6"
      },
      "source": [
        "import pandas as pd "
      ],
      "execution_count": null,
      "outputs": []
    },
    {
      "cell_type": "markdown",
      "source": [
        "pandasでは主に```Series```と```DataFrame```の２つのオブジェクトを扱います。  \n",
        "SeriesはDataFrameの特殊な場合とみなせるので、以下ではDataFrameのみ説明することにします。"
      ],
      "metadata": {
        "id": "q-qC7xkDhU5A"
      }
    },
    {
      "cell_type": "markdown",
      "metadata": {
        "id": "-1ut22WgzFeQ"
      },
      "source": [
        "## DataFrame型"
      ]
    },
    {
      "cell_type": "markdown",
      "metadata": {
        "id": "A-RriyHt1r-p"
      },
      "source": [
        "DataFrameはExcelシートのような二次元のデータを表現するのに利用され  \n",
        "各種データ分析などで非常に役にたちます。"
      ]
    },
    {
      "cell_type": "code",
      "metadata": {
        "id": "Ubw2JSMmzCkX"
      },
      "source": [
        "from pandas import DataFrame"
      ],
      "execution_count": null,
      "outputs": []
    },
    {
      "cell_type": "markdown",
      "metadata": {
        "id": "oeBpZK4l7knI"
      },
      "source": [
        "以下の辞書型をDataFrame型のオブジェクトに変換してみましょう。"
      ]
    },
    {
      "cell_type": "code",
      "metadata": {
        "colab": {
          "base_uri": "https://localhost:8080/"
        },
        "id": "HKPVuPjz7jmb",
        "outputId": "ffde0e12-05e7-4864-bfe6-00f1fd33b47c"
      },
      "source": [
        "data = { '名前': [\"Aさん\", \"Bさん\", \"Cさん\", \"Dさん\", \"Eさん\"],\n",
        "        '出身都道府県':['Tokyo', 'Tochigi', 'Hokkaido','Kyoto','Tochigi'],\n",
        "        '生年': [ 1998, 1993,2000,1989,2002],\n",
        "        '身長': [172, 156, 162, 180,158]}\n",
        "df = DataFrame(data)\n",
        "print(\"dataの型\", type(data))\n",
        "print(\"dfの型\",type(df))"
      ],
      "execution_count": null,
      "outputs": [
        {
          "output_type": "stream",
          "name": "stdout",
          "text": [
            "dataの型 <class 'dict'>\n",
            "dfの型 <class 'pandas.core.frame.DataFrame'>\n"
          ]
        }
      ]
    },
    {
      "cell_type": "markdown",
      "metadata": {
        "id": "5F90_vjr8ukA"
      },
      "source": [
        "jupyter環境でDataFrameを読むと、\"いい感じ\"に表示してくれる"
      ]
    },
    {
      "cell_type": "code",
      "metadata": {
        "colab": {
          "base_uri": "https://localhost:8080/",
          "height": 206
        },
        "id": "8VZZ6asj8qie",
        "outputId": "18c69c7e-3d96-4965-c48d-2dc2a118efc2"
      },
      "source": [
        "df"
      ],
      "execution_count": null,
      "outputs": [
        {
          "output_type": "execute_result",
          "data": {
            "text/html": [
              "<div>\n",
              "<style scoped>\n",
              "    .dataframe tbody tr th:only-of-type {\n",
              "        vertical-align: middle;\n",
              "    }\n",
              "\n",
              "    .dataframe tbody tr th {\n",
              "        vertical-align: top;\n",
              "    }\n",
              "\n",
              "    .dataframe thead th {\n",
              "        text-align: right;\n",
              "    }\n",
              "</style>\n",
              "<table border=\"1\" class=\"dataframe\">\n",
              "  <thead>\n",
              "    <tr style=\"text-align: right;\">\n",
              "      <th></th>\n",
              "      <th>名前</th>\n",
              "      <th>出身都道府県</th>\n",
              "      <th>生年</th>\n",
              "      <th>身長</th>\n",
              "    </tr>\n",
              "  </thead>\n",
              "  <tbody>\n",
              "    <tr>\n",
              "      <th>0</th>\n",
              "      <td>Aさん</td>\n",
              "      <td>Tokyo</td>\n",
              "      <td>1998</td>\n",
              "      <td>172</td>\n",
              "    </tr>\n",
              "    <tr>\n",
              "      <th>1</th>\n",
              "      <td>Bさん</td>\n",
              "      <td>Tochigi</td>\n",
              "      <td>1993</td>\n",
              "      <td>156</td>\n",
              "    </tr>\n",
              "    <tr>\n",
              "      <th>2</th>\n",
              "      <td>Cさん</td>\n",
              "      <td>Hokkaido</td>\n",
              "      <td>2000</td>\n",
              "      <td>162</td>\n",
              "    </tr>\n",
              "    <tr>\n",
              "      <th>3</th>\n",
              "      <td>Dさん</td>\n",
              "      <td>Kyoto</td>\n",
              "      <td>1989</td>\n",
              "      <td>180</td>\n",
              "    </tr>\n",
              "    <tr>\n",
              "      <th>4</th>\n",
              "      <td>Eさん</td>\n",
              "      <td>Tochigi</td>\n",
              "      <td>2002</td>\n",
              "      <td>158</td>\n",
              "    </tr>\n",
              "  </tbody>\n",
              "</table>\n",
              "</div>"
            ],
            "text/plain": [
              "    名前    出身都道府県    生年   身長\n",
              "0  Aさん     Tokyo  1998  172\n",
              "1  Bさん   Tochigi  1993  156\n",
              "2  Cさん  Hokkaido  2000  162\n",
              "3  Dさん     Kyoto  1989  180\n",
              "4  Eさん   Tochigi  2002  158"
            ]
          },
          "metadata": {},
          "execution_count": 4
        }
      ]
    },
    {
      "cell_type": "markdown",
      "metadata": {
        "id": "BkqFef0A83To"
      },
      "source": [
        "printだとちょっと無機質な感じに。"
      ]
    },
    {
      "cell_type": "code",
      "metadata": {
        "colab": {
          "base_uri": "https://localhost:8080/"
        },
        "id": "xiIqLRFG82BW",
        "outputId": "3c3ef04c-cbb7-4cb1-eedc-c23d801a7680"
      },
      "source": [
        "print(df)"
      ],
      "execution_count": null,
      "outputs": [
        {
          "output_type": "stream",
          "name": "stdout",
          "text": [
            "    名前    出身都道府県    生年   身長\n",
            "0  Aさん     Tokyo  1998  172\n",
            "1  Bさん   Tochigi  1993  156\n",
            "2  Cさん  Hokkaido  2000  162\n",
            "3  Dさん     Kyoto  1989  180\n",
            "4  Eさん   Tochigi  2002  158\n"
          ]
        }
      ]
    },
    {
      "cell_type": "markdown",
      "metadata": {
        "id": "vn8s-8VR7b6Q"
      },
      "source": [
        "```info()```関数を作用させると、詳細な情報が得られる。  \n",
        "列ごとにどんな種類のデータが格納されているのかや、\n",
        "メモリ使用量など表示することができる。"
      ]
    },
    {
      "cell_type": "code",
      "metadata": {
        "colab": {
          "base_uri": "https://localhost:8080/"
        },
        "id": "2KsTF1d17anv",
        "outputId": "f2461703-4a0a-4423-da60-44decfefe616"
      },
      "source": [
        "df.info()"
      ],
      "execution_count": null,
      "outputs": [
        {
          "output_type": "stream",
          "name": "stdout",
          "text": [
            "<class 'pandas.core.frame.DataFrame'>\n",
            "RangeIndex: 5 entries, 0 to 4\n",
            "Data columns (total 4 columns):\n",
            " #   Column  Non-Null Count  Dtype \n",
            "---  ------  --------------  ----- \n",
            " 0   名前      5 non-null      object\n",
            " 1   出身都道府県  5 non-null      object\n",
            " 2   生年      5 non-null      int64 \n",
            " 3   身長      5 non-null      int64 \n",
            "dtypes: int64(2), object(2)\n",
            "memory usage: 288.0+ bytes\n"
          ]
        }
      ]
    },
    {
      "cell_type": "markdown",
      "metadata": {
        "id": "-TsUcNTsBIIi"
      },
      "source": [
        "## DataFrameの要素を確認・指定する方法"
      ]
    },
    {
      "cell_type": "markdown",
      "metadata": {
        "id": "6ChkvnngBLb_"
      },
      "source": [
        "index: 行方向のデータ項目(おもに整数値(行番号),ID,名前など)  \n",
        "columns: 列方向のデータの項目(おもにデータの種類)  \n",
        "をそれぞれ表示してみよう。"
      ]
    },
    {
      "cell_type": "code",
      "metadata": {
        "colab": {
          "base_uri": "https://localhost:8080/"
        },
        "id": "YkQCL0ay59o8",
        "outputId": "d936638c-2111-4812-c826-8e7f952c828a"
      },
      "source": [
        "df.index"
      ],
      "execution_count": null,
      "outputs": [
        {
          "output_type": "execute_result",
          "data": {
            "text/plain": [
              "RangeIndex(start=0, stop=5, step=1)"
            ]
          },
          "metadata": {},
          "execution_count": 7
        }
      ]
    },
    {
      "cell_type": "code",
      "metadata": {
        "colab": {
          "base_uri": "https://localhost:8080/"
        },
        "id": "WNqLrkQ35-4O",
        "outputId": "e13a4651-8d7a-4fda-cd73-96ad2b69c76a"
      },
      "source": [
        "df.columns"
      ],
      "execution_count": null,
      "outputs": [
        {
          "output_type": "execute_result",
          "data": {
            "text/plain": [
              "Index(['名前', '出身都道府県', '生年', '身長'], dtype='object')"
            ]
          },
          "metadata": {},
          "execution_count": 8
        }
      ]
    },
    {
      "cell_type": "markdown",
      "metadata": {
        "id": "-MtegVlt60qr"
      },
      "source": [
        "行方向を、整数値(行数)ではなく名前にしたければ"
      ]
    },
    {
      "cell_type": "code",
      "metadata": {
        "colab": {
          "base_uri": "https://localhost:8080/",
          "height": 206
        },
        "id": "aE51PtdW6pKE",
        "outputId": "b4d87b1d-cc23-413a-e5ac-cb916e10968b"
      },
      "source": [
        "data1 = {'出身都道府県':['Tokyo', 'Tochigi', 'Hokkaido','Kyoto','Tochigi'],\n",
        "        '生年': [ 1998, 1993,2000,1989,2002],\n",
        "        '身長': [172, 156, 162, 180,158]}\n",
        "df1 = DataFrame(data1)\n",
        "df1.index =[\"Aさん\", \"Bさん\", \"Cさん\", \"Dさん\", \"Eさん\"]\n",
        "df1"
      ],
      "execution_count": null,
      "outputs": [
        {
          "output_type": "execute_result",
          "data": {
            "text/html": [
              "<div>\n",
              "<style scoped>\n",
              "    .dataframe tbody tr th:only-of-type {\n",
              "        vertical-align: middle;\n",
              "    }\n",
              "\n",
              "    .dataframe tbody tr th {\n",
              "        vertical-align: top;\n",
              "    }\n",
              "\n",
              "    .dataframe thead th {\n",
              "        text-align: right;\n",
              "    }\n",
              "</style>\n",
              "<table border=\"1\" class=\"dataframe\">\n",
              "  <thead>\n",
              "    <tr style=\"text-align: right;\">\n",
              "      <th></th>\n",
              "      <th>出身都道府県</th>\n",
              "      <th>生年</th>\n",
              "      <th>身長</th>\n",
              "    </tr>\n",
              "  </thead>\n",
              "  <tbody>\n",
              "    <tr>\n",
              "      <th>Aさん</th>\n",
              "      <td>Tokyo</td>\n",
              "      <td>1998</td>\n",
              "      <td>172</td>\n",
              "    </tr>\n",
              "    <tr>\n",
              "      <th>Bさん</th>\n",
              "      <td>Tochigi</td>\n",
              "      <td>1993</td>\n",
              "      <td>156</td>\n",
              "    </tr>\n",
              "    <tr>\n",
              "      <th>Cさん</th>\n",
              "      <td>Hokkaido</td>\n",
              "      <td>2000</td>\n",
              "      <td>162</td>\n",
              "    </tr>\n",
              "    <tr>\n",
              "      <th>Dさん</th>\n",
              "      <td>Kyoto</td>\n",
              "      <td>1989</td>\n",
              "      <td>180</td>\n",
              "    </tr>\n",
              "    <tr>\n",
              "      <th>Eさん</th>\n",
              "      <td>Tochigi</td>\n",
              "      <td>2002</td>\n",
              "      <td>158</td>\n",
              "    </tr>\n",
              "  </tbody>\n",
              "</table>\n",
              "</div>"
            ],
            "text/plain": [
              "       出身都道府県    生年   身長\n",
              "Aさん     Tokyo  1998  172\n",
              "Bさん   Tochigi  1993  156\n",
              "Cさん  Hokkaido  2000  162\n",
              "Dさん     Kyoto  1989  180\n",
              "Eさん   Tochigi  2002  158"
            ]
          },
          "metadata": {},
          "execution_count": 9
        }
      ]
    },
    {
      "cell_type": "markdown",
      "metadata": {
        "id": "LaFJVeL27NqY"
      },
      "source": [
        "などとしてもよい。"
      ]
    },
    {
      "cell_type": "markdown",
      "metadata": {
        "id": "_uFFuzQM8FoQ"
      },
      "source": [
        "### 特定の列を取得したい場合"
      ]
    },
    {
      "cell_type": "code",
      "metadata": {
        "colab": {
          "base_uri": "https://localhost:8080/"
        },
        "id": "oQ9hZkVx8K-p",
        "outputId": "e9ba05ec-ad7d-435c-dcbc-f93cf3f2a499"
      },
      "source": [
        "df[\"身長\"]"
      ],
      "execution_count": null,
      "outputs": [
        {
          "output_type": "execute_result",
          "data": {
            "text/plain": [
              "0    172\n",
              "1    156\n",
              "2    162\n",
              "3    180\n",
              "4    158\n",
              "Name: 身長, dtype: int64"
            ]
          },
          "metadata": {},
          "execution_count": 10
        }
      ]
    },
    {
      "cell_type": "markdown",
      "metadata": {
        "id": "zn3WJ4_5946D"
      },
      "source": [
        "とする。  \n",
        "以下の方法は非推奨とする。\n"
      ]
    },
    {
      "cell_type": "code",
      "metadata": {
        "colab": {
          "base_uri": "https://localhost:8080/"
        },
        "id": "3VyUAqQs9596",
        "outputId": "49968bfc-b1fc-47f9-dda5-18409f873460"
      },
      "source": [
        "df.身長"
      ],
      "execution_count": null,
      "outputs": [
        {
          "output_type": "execute_result",
          "data": {
            "text/plain": [
              "0    172\n",
              "1    156\n",
              "2    162\n",
              "3    180\n",
              "4    158\n",
              "Name: 身長, dtype: int64"
            ]
          },
          "metadata": {},
          "execution_count": 11
        }
      ]
    },
    {
      "cell_type": "markdown",
      "metadata": {
        "id": "uK8zkK3h8cpY"
      },
      "source": [
        "値のリスト(正確にはnumpy.ndarray型)として取得したければ"
      ]
    },
    {
      "cell_type": "code",
      "metadata": {
        "colab": {
          "base_uri": "https://localhost:8080/"
        },
        "id": "tozKlT028hfi",
        "outputId": "6fe62f26-9a09-42d3-9b2d-ef2ab10d9299"
      },
      "source": [
        "df[\"身長\"].values"
      ],
      "execution_count": null,
      "outputs": [
        {
          "output_type": "execute_result",
          "data": {
            "text/plain": [
              "array([172, 156, 162, 180, 158])"
            ]
          },
          "metadata": {},
          "execution_count": 12
        }
      ]
    },
    {
      "cell_type": "code",
      "metadata": {
        "colab": {
          "base_uri": "https://localhost:8080/"
        },
        "id": "87TOA6-e8j8v",
        "outputId": "313d82a6-e521-453a-bbbc-fd993d6fee6b"
      },
      "source": [
        "df[\"出身都道府県\"].values"
      ],
      "execution_count": null,
      "outputs": [
        {
          "output_type": "execute_result",
          "data": {
            "text/plain": [
              "array(['Tokyo', 'Tochigi', 'Hokkaido', 'Kyoto', 'Tochigi'], dtype=object)"
            ]
          },
          "metadata": {},
          "execution_count": 13
        }
      ]
    },
    {
      "cell_type": "markdown",
      "metadata": {
        "id": "Yh97e7y58yHY"
      },
      "source": [
        "などとすればよい。\n",
        "\n",
        "慣れ親しんだ形に変換したければ、リストに変換すればよい\n"
      ]
    },
    {
      "cell_type": "code",
      "metadata": {
        "colab": {
          "base_uri": "https://localhost:8080/"
        },
        "id": "2Uh6YGih5FjE",
        "outputId": "8ad795ad-614f-4327-d8e4-b815746921b5"
      },
      "source": [
        "list(df[\"出身都道府県\"].values)"
      ],
      "execution_count": null,
      "outputs": [
        {
          "output_type": "execute_result",
          "data": {
            "text/plain": [
              "['Tokyo', 'Tochigi', 'Hokkaido', 'Kyoto', 'Tochigi']"
            ]
          },
          "metadata": {},
          "execution_count": 14
        }
      ]
    },
    {
      "cell_type": "markdown",
      "metadata": {
        "id": "WfpujEkA5BSD"
      },
      "source": [
        "ある列が特定のものに一致するもののみを抽出するのも簡単にできる"
      ]
    },
    {
      "cell_type": "code",
      "metadata": {
        "colab": {
          "base_uri": "https://localhost:8080/",
          "height": 112
        },
        "id": "qlFGoUdc8zPn",
        "outputId": "df9758b0-b92d-484e-e7f2-f885f975b6a8"
      },
      "source": [
        "df[df[\"出身都道府県\"]==\"Tochigi\"]"
      ],
      "execution_count": null,
      "outputs": [
        {
          "output_type": "execute_result",
          "data": {
            "text/html": [
              "<div>\n",
              "<style scoped>\n",
              "    .dataframe tbody tr th:only-of-type {\n",
              "        vertical-align: middle;\n",
              "    }\n",
              "\n",
              "    .dataframe tbody tr th {\n",
              "        vertical-align: top;\n",
              "    }\n",
              "\n",
              "    .dataframe thead th {\n",
              "        text-align: right;\n",
              "    }\n",
              "</style>\n",
              "<table border=\"1\" class=\"dataframe\">\n",
              "  <thead>\n",
              "    <tr style=\"text-align: right;\">\n",
              "      <th></th>\n",
              "      <th>名前</th>\n",
              "      <th>出身都道府県</th>\n",
              "      <th>生年</th>\n",
              "      <th>身長</th>\n",
              "    </tr>\n",
              "  </thead>\n",
              "  <tbody>\n",
              "    <tr>\n",
              "      <th>1</th>\n",
              "      <td>Bさん</td>\n",
              "      <td>Tochigi</td>\n",
              "      <td>1993</td>\n",
              "      <td>156</td>\n",
              "    </tr>\n",
              "    <tr>\n",
              "      <th>4</th>\n",
              "      <td>Eさん</td>\n",
              "      <td>Tochigi</td>\n",
              "      <td>2002</td>\n",
              "      <td>158</td>\n",
              "    </tr>\n",
              "  </tbody>\n",
              "</table>\n",
              "</div>"
            ],
            "text/plain": [
              "    名前   出身都道府県    生年   身長\n",
              "1  Bさん  Tochigi  1993  156\n",
              "4  Eさん  Tochigi  2002  158"
            ]
          },
          "metadata": {},
          "execution_count": 15
        }
      ]
    },
    {
      "cell_type": "markdown",
      "metadata": {
        "id": "ItbqbBdn9HG0"
      },
      "source": [
        "これは"
      ]
    },
    {
      "cell_type": "code",
      "metadata": {
        "colab": {
          "base_uri": "https://localhost:8080/"
        },
        "id": "Ubs3Zbjj9KA9",
        "outputId": "be257907-23e8-465c-dbef-5ca6aa06b528"
      },
      "source": [
        "df[\"出身都道府県\"]==\"Tochigi\""
      ],
      "execution_count": null,
      "outputs": [
        {
          "output_type": "execute_result",
          "data": {
            "text/plain": [
              "0    False\n",
              "1     True\n",
              "2    False\n",
              "3    False\n",
              "4     True\n",
              "Name: 出身都道府県, dtype: bool"
            ]
          },
          "metadata": {},
          "execution_count": 16
        }
      ]
    },
    {
      "cell_type": "markdown",
      "metadata": {
        "id": "bUB1Puao9LqO"
      },
      "source": [
        "が条件に合致するかどうかTrue/Falseの配列になっていて、  \n",
        "df[ [True/Falseの配列] ]とすると、Trueに対応する要素のみを返す  \n",
        "フィルターのような役割になっている。"
      ]
    },
    {
      "cell_type": "markdown",
      "metadata": {
        "id": "4xcTwpmcf3WK"
      },
      "source": [
        "### 列の追加"
      ]
    },
    {
      "cell_type": "markdown",
      "metadata": {
        "id": "ZYNKYZc1f9XO"
      },
      "source": [
        ""
      ]
    },
    {
      "cell_type": "code",
      "metadata": {
        "id": "Hznr0hZMghcK",
        "outputId": "4456ce07-655e-428d-9304-27383e137c71",
        "colab": {
          "base_uri": "https://localhost:8080/",
          "height": 206
        }
      },
      "source": [
        "#スカラー値の場合\"初期化\"のような振る舞いをする\n",
        "df[\"血液型\"] = \"A\"\n",
        "df"
      ],
      "execution_count": null,
      "outputs": [
        {
          "output_type": "execute_result",
          "data": {
            "text/html": [
              "<div>\n",
              "<style scoped>\n",
              "    .dataframe tbody tr th:only-of-type {\n",
              "        vertical-align: middle;\n",
              "    }\n",
              "\n",
              "    .dataframe tbody tr th {\n",
              "        vertical-align: top;\n",
              "    }\n",
              "\n",
              "    .dataframe thead th {\n",
              "        text-align: right;\n",
              "    }\n",
              "</style>\n",
              "<table border=\"1\" class=\"dataframe\">\n",
              "  <thead>\n",
              "    <tr style=\"text-align: right;\">\n",
              "      <th></th>\n",
              "      <th>名前</th>\n",
              "      <th>出身都道府県</th>\n",
              "      <th>生年</th>\n",
              "      <th>身長</th>\n",
              "      <th>血液型</th>\n",
              "    </tr>\n",
              "  </thead>\n",
              "  <tbody>\n",
              "    <tr>\n",
              "      <th>0</th>\n",
              "      <td>Aさん</td>\n",
              "      <td>Tokyo</td>\n",
              "      <td>1998</td>\n",
              "      <td>172</td>\n",
              "      <td>A</td>\n",
              "    </tr>\n",
              "    <tr>\n",
              "      <th>1</th>\n",
              "      <td>Bさん</td>\n",
              "      <td>Tochigi</td>\n",
              "      <td>1993</td>\n",
              "      <td>156</td>\n",
              "      <td>A</td>\n",
              "    </tr>\n",
              "    <tr>\n",
              "      <th>2</th>\n",
              "      <td>Cさん</td>\n",
              "      <td>Hokkaido</td>\n",
              "      <td>2000</td>\n",
              "      <td>162</td>\n",
              "      <td>A</td>\n",
              "    </tr>\n",
              "    <tr>\n",
              "      <th>3</th>\n",
              "      <td>Dさん</td>\n",
              "      <td>Kyoto</td>\n",
              "      <td>1989</td>\n",
              "      <td>180</td>\n",
              "      <td>A</td>\n",
              "    </tr>\n",
              "    <tr>\n",
              "      <th>4</th>\n",
              "      <td>Eさん</td>\n",
              "      <td>Tochigi</td>\n",
              "      <td>2002</td>\n",
              "      <td>158</td>\n",
              "      <td>A</td>\n",
              "    </tr>\n",
              "  </tbody>\n",
              "</table>\n",
              "</div>"
            ],
            "text/plain": [
              "    名前    出身都道府県    生年   身長 血液型\n",
              "0  Aさん     Tokyo  1998  172   A\n",
              "1  Bさん   Tochigi  1993  156   A\n",
              "2  Cさん  Hokkaido  2000  162   A\n",
              "3  Dさん     Kyoto  1989  180   A\n",
              "4  Eさん   Tochigi  2002  158   A"
            ]
          },
          "metadata": {},
          "execution_count": 17
        }
      ]
    },
    {
      "cell_type": "code",
      "metadata": {
        "id": "1ved-4XAgMvq",
        "outputId": "0d8522f3-93a3-40a7-9a01-5a6ccb76a6a4",
        "colab": {
          "base_uri": "https://localhost:8080/",
          "height": 206
        }
      },
      "source": [
        "#リストで追加\n",
        "df[\"血液型\"] = [ \"A\", \"O\",\"AB\",\"B\",\"A\"]\n",
        "df"
      ],
      "execution_count": null,
      "outputs": [
        {
          "output_type": "execute_result",
          "data": {
            "text/html": [
              "<div>\n",
              "<style scoped>\n",
              "    .dataframe tbody tr th:only-of-type {\n",
              "        vertical-align: middle;\n",
              "    }\n",
              "\n",
              "    .dataframe tbody tr th {\n",
              "        vertical-align: top;\n",
              "    }\n",
              "\n",
              "    .dataframe thead th {\n",
              "        text-align: right;\n",
              "    }\n",
              "</style>\n",
              "<table border=\"1\" class=\"dataframe\">\n",
              "  <thead>\n",
              "    <tr style=\"text-align: right;\">\n",
              "      <th></th>\n",
              "      <th>名前</th>\n",
              "      <th>出身都道府県</th>\n",
              "      <th>生年</th>\n",
              "      <th>身長</th>\n",
              "      <th>血液型</th>\n",
              "    </tr>\n",
              "  </thead>\n",
              "  <tbody>\n",
              "    <tr>\n",
              "      <th>0</th>\n",
              "      <td>Aさん</td>\n",
              "      <td>Tokyo</td>\n",
              "      <td>1998</td>\n",
              "      <td>172</td>\n",
              "      <td>A</td>\n",
              "    </tr>\n",
              "    <tr>\n",
              "      <th>1</th>\n",
              "      <td>Bさん</td>\n",
              "      <td>Tochigi</td>\n",
              "      <td>1993</td>\n",
              "      <td>156</td>\n",
              "      <td>O</td>\n",
              "    </tr>\n",
              "    <tr>\n",
              "      <th>2</th>\n",
              "      <td>Cさん</td>\n",
              "      <td>Hokkaido</td>\n",
              "      <td>2000</td>\n",
              "      <td>162</td>\n",
              "      <td>AB</td>\n",
              "    </tr>\n",
              "    <tr>\n",
              "      <th>3</th>\n",
              "      <td>Dさん</td>\n",
              "      <td>Kyoto</td>\n",
              "      <td>1989</td>\n",
              "      <td>180</td>\n",
              "      <td>B</td>\n",
              "    </tr>\n",
              "    <tr>\n",
              "      <th>4</th>\n",
              "      <td>Eさん</td>\n",
              "      <td>Tochigi</td>\n",
              "      <td>2002</td>\n",
              "      <td>158</td>\n",
              "      <td>A</td>\n",
              "    </tr>\n",
              "  </tbody>\n",
              "</table>\n",
              "</div>"
            ],
            "text/plain": [
              "    名前    出身都道府県    生年   身長 血液型\n",
              "0  Aさん     Tokyo  1998  172   A\n",
              "1  Bさん   Tochigi  1993  156   O\n",
              "2  Cさん  Hokkaido  2000  162  AB\n",
              "3  Dさん     Kyoto  1989  180   B\n",
              "4  Eさん   Tochigi  2002  158   A"
            ]
          },
          "metadata": {},
          "execution_count": 18
        }
      ]
    },
    {
      "cell_type": "markdown",
      "metadata": {
        "id": "S_I81w5L-UOE"
      },
      "source": [
        "### 特定の行を取得したい場合"
      ]
    },
    {
      "cell_type": "markdown",
      "metadata": {
        "id": "he5uTk3H-kMs"
      },
      "source": [
        "たとえば、行番号がわかっているなら、```iloc```関数を使えば良い"
      ]
    },
    {
      "cell_type": "code",
      "metadata": {
        "colab": {
          "base_uri": "https://localhost:8080/"
        },
        "id": "kbxrpQ1E-k8F",
        "outputId": "624e7f30-0fef-435f-a01d-56f00dd15f4e"
      },
      "source": [
        "df.iloc[3]"
      ],
      "execution_count": null,
      "outputs": [
        {
          "output_type": "execute_result",
          "data": {
            "text/plain": [
              "名前          Dさん\n",
              "出身都道府県    Kyoto\n",
              "生年         1989\n",
              "身長          180\n",
              "血液型           B\n",
              "Name: 3, dtype: object"
            ]
          },
          "metadata": {},
          "execution_count": 19
        }
      ]
    },
    {
      "cell_type": "markdown",
      "metadata": {
        "id": "2998C5BK_Wut"
      },
      "source": [
        "値のみ取得したければ先程と同様"
      ]
    },
    {
      "cell_type": "code",
      "metadata": {
        "colab": {
          "base_uri": "https://localhost:8080/"
        },
        "id": "6HoJX4h__Uj3",
        "outputId": "f5920d8b-0e2a-41e6-d655-92000b6e0727"
      },
      "source": [
        "df.iloc[3].values"
      ],
      "execution_count": null,
      "outputs": [
        {
          "output_type": "execute_result",
          "data": {
            "text/plain": [
              "array(['Dさん', 'Kyoto', 1989, 180, 'B'], dtype=object)"
            ]
          },
          "metadata": {},
          "execution_count": 20
        }
      ]
    },
    {
      "cell_type": "markdown",
      "metadata": {
        "id": "4gwiSube_ax9"
      },
      "source": [
        "また、以下のような使い方もできるが"
      ]
    },
    {
      "cell_type": "code",
      "metadata": {
        "colab": {
          "base_uri": "https://localhost:8080/",
          "height": 144
        },
        "id": "4oabG7uA-TyS",
        "outputId": "20740bd5-423a-4571-b670-8153c97ce8c8"
      },
      "source": [
        "df[1:4] #1から3行目まで"
      ],
      "execution_count": null,
      "outputs": [
        {
          "output_type": "execute_result",
          "data": {
            "text/html": [
              "<div>\n",
              "<style scoped>\n",
              "    .dataframe tbody tr th:only-of-type {\n",
              "        vertical-align: middle;\n",
              "    }\n",
              "\n",
              "    .dataframe tbody tr th {\n",
              "        vertical-align: top;\n",
              "    }\n",
              "\n",
              "    .dataframe thead th {\n",
              "        text-align: right;\n",
              "    }\n",
              "</style>\n",
              "<table border=\"1\" class=\"dataframe\">\n",
              "  <thead>\n",
              "    <tr style=\"text-align: right;\">\n",
              "      <th></th>\n",
              "      <th>名前</th>\n",
              "      <th>出身都道府県</th>\n",
              "      <th>生年</th>\n",
              "      <th>身長</th>\n",
              "      <th>血液型</th>\n",
              "    </tr>\n",
              "  </thead>\n",
              "  <tbody>\n",
              "    <tr>\n",
              "      <th>1</th>\n",
              "      <td>Bさん</td>\n",
              "      <td>Tochigi</td>\n",
              "      <td>1993</td>\n",
              "      <td>156</td>\n",
              "      <td>O</td>\n",
              "    </tr>\n",
              "    <tr>\n",
              "      <th>2</th>\n",
              "      <td>Cさん</td>\n",
              "      <td>Hokkaido</td>\n",
              "      <td>2000</td>\n",
              "      <td>162</td>\n",
              "      <td>AB</td>\n",
              "    </tr>\n",
              "    <tr>\n",
              "      <th>3</th>\n",
              "      <td>Dさん</td>\n",
              "      <td>Kyoto</td>\n",
              "      <td>1989</td>\n",
              "      <td>180</td>\n",
              "      <td>B</td>\n",
              "    </tr>\n",
              "  </tbody>\n",
              "</table>\n",
              "</div>"
            ],
            "text/plain": [
              "    名前    出身都道府県    生年   身長 血液型\n",
              "1  Bさん   Tochigi  1993  156   O\n",
              "2  Cさん  Hokkaido  2000  162  AB\n",
              "3  Dさん     Kyoto  1989  180   B"
            ]
          },
          "metadata": {},
          "execution_count": 21
        }
      ]
    },
    {
      "cell_type": "markdown",
      "metadata": {
        "id": "hbFfX303_eVc"
      },
      "source": [
        "```df[1]```といった使い方は出来ない。  "
      ]
    },
    {
      "cell_type": "markdown",
      "metadata": {
        "id": "oH1A89pw_s6b"
      },
      "source": [
        "### より複雑な行・列の抽出"
      ]
    },
    {
      "cell_type": "markdown",
      "metadata": {
        "id": "vxd7k3f3AJjj"
      },
      "source": [
        "上にならって、2000年より前に生まれた人だけを抽出し"
      ]
    },
    {
      "cell_type": "code",
      "metadata": {
        "colab": {
          "base_uri": "https://localhost:8080/",
          "height": 144
        },
        "id": "rDrnJUg9_w1Q",
        "outputId": "5ec4bd6f-dcab-45f8-9af9-ed6d7c9eee9b"
      },
      "source": [
        "df[ df[\"生年\"] < 2000 ]"
      ],
      "execution_count": null,
      "outputs": [
        {
          "output_type": "execute_result",
          "data": {
            "text/html": [
              "<div>\n",
              "<style scoped>\n",
              "    .dataframe tbody tr th:only-of-type {\n",
              "        vertical-align: middle;\n",
              "    }\n",
              "\n",
              "    .dataframe tbody tr th {\n",
              "        vertical-align: top;\n",
              "    }\n",
              "\n",
              "    .dataframe thead th {\n",
              "        text-align: right;\n",
              "    }\n",
              "</style>\n",
              "<table border=\"1\" class=\"dataframe\">\n",
              "  <thead>\n",
              "    <tr style=\"text-align: right;\">\n",
              "      <th></th>\n",
              "      <th>名前</th>\n",
              "      <th>出身都道府県</th>\n",
              "      <th>生年</th>\n",
              "      <th>身長</th>\n",
              "      <th>血液型</th>\n",
              "    </tr>\n",
              "  </thead>\n",
              "  <tbody>\n",
              "    <tr>\n",
              "      <th>0</th>\n",
              "      <td>Aさん</td>\n",
              "      <td>Tokyo</td>\n",
              "      <td>1998</td>\n",
              "      <td>172</td>\n",
              "      <td>A</td>\n",
              "    </tr>\n",
              "    <tr>\n",
              "      <th>1</th>\n",
              "      <td>Bさん</td>\n",
              "      <td>Tochigi</td>\n",
              "      <td>1993</td>\n",
              "      <td>156</td>\n",
              "      <td>O</td>\n",
              "    </tr>\n",
              "    <tr>\n",
              "      <th>3</th>\n",
              "      <td>Dさん</td>\n",
              "      <td>Kyoto</td>\n",
              "      <td>1989</td>\n",
              "      <td>180</td>\n",
              "      <td>B</td>\n",
              "    </tr>\n",
              "  </tbody>\n",
              "</table>\n",
              "</div>"
            ],
            "text/plain": [
              "    名前   出身都道府県    生年   身長 血液型\n",
              "0  Aさん    Tokyo  1998  172   A\n",
              "1  Bさん  Tochigi  1993  156   O\n",
              "3  Dさん    Kyoto  1989  180   B"
            ]
          },
          "metadata": {},
          "execution_count": 22
        }
      ]
    },
    {
      "cell_type": "markdown",
      "metadata": {
        "id": "iZrMq16v__fV"
      },
      "source": [
        "さらにこのうち身長が170cm以上の人だけがほしければ"
      ]
    },
    {
      "cell_type": "code",
      "metadata": {
        "colab": {
          "base_uri": "https://localhost:8080/",
          "height": 112
        },
        "id": "d6q2DR7nAYEv",
        "outputId": "122198a6-8156-4c2a-f1c9-db0558489c21"
      },
      "source": [
        "df[(df[\"生年\"] < 2000) & (df[\"身長\"]>170)]"
      ],
      "execution_count": null,
      "outputs": [
        {
          "output_type": "execute_result",
          "data": {
            "text/html": [
              "<div>\n",
              "<style scoped>\n",
              "    .dataframe tbody tr th:only-of-type {\n",
              "        vertical-align: middle;\n",
              "    }\n",
              "\n",
              "    .dataframe tbody tr th {\n",
              "        vertical-align: top;\n",
              "    }\n",
              "\n",
              "    .dataframe thead th {\n",
              "        text-align: right;\n",
              "    }\n",
              "</style>\n",
              "<table border=\"1\" class=\"dataframe\">\n",
              "  <thead>\n",
              "    <tr style=\"text-align: right;\">\n",
              "      <th></th>\n",
              "      <th>名前</th>\n",
              "      <th>出身都道府県</th>\n",
              "      <th>生年</th>\n",
              "      <th>身長</th>\n",
              "      <th>血液型</th>\n",
              "    </tr>\n",
              "  </thead>\n",
              "  <tbody>\n",
              "    <tr>\n",
              "      <th>0</th>\n",
              "      <td>Aさん</td>\n",
              "      <td>Tokyo</td>\n",
              "      <td>1998</td>\n",
              "      <td>172</td>\n",
              "      <td>A</td>\n",
              "    </tr>\n",
              "    <tr>\n",
              "      <th>3</th>\n",
              "      <td>Dさん</td>\n",
              "      <td>Kyoto</td>\n",
              "      <td>1989</td>\n",
              "      <td>180</td>\n",
              "      <td>B</td>\n",
              "    </tr>\n",
              "  </tbody>\n",
              "</table>\n",
              "</div>"
            ],
            "text/plain": [
              "    名前 出身都道府県    生年   身長 血液型\n",
              "0  Aさん  Tokyo  1998  172   A\n",
              "3  Dさん  Kyoto  1989  180   B"
            ]
          },
          "metadata": {},
          "execution_count": 23
        }
      ]
    },
    {
      "cell_type": "markdown",
      "metadata": {
        "id": "-b36txVaA7fQ"
      },
      "source": [
        "などとすればよい。  \n",
        "他にも```iloc```,```loc```などを用いれば  \n",
        "特定の行・列を抽出することができる\n",
        "\n",
        "* ```iloc```は番号の指定のみに対応\n",
        "* ```loc```は名前のみ\n",
        "\n",
        "**欲しい要素の数値もしくは項目名のリスト**を  \n",
        "行・列の２つついて指定してやればよい。"
      ]
    },
    {
      "cell_type": "code",
      "metadata": {
        "colab": {
          "base_uri": "https://localhost:8080/",
          "height": 81
        },
        "id": "xZhc6nlDBXJH",
        "outputId": "fc37fae5-120c-425f-e0f6-4bf0cd2e90bb"
      },
      "source": [
        "df.iloc[[0], [0]] #0行目,0列目"
      ],
      "execution_count": null,
      "outputs": [
        {
          "output_type": "execute_result",
          "data": {
            "text/html": [
              "<div>\n",
              "<style scoped>\n",
              "    .dataframe tbody tr th:only-of-type {\n",
              "        vertical-align: middle;\n",
              "    }\n",
              "\n",
              "    .dataframe tbody tr th {\n",
              "        vertical-align: top;\n",
              "    }\n",
              "\n",
              "    .dataframe thead th {\n",
              "        text-align: right;\n",
              "    }\n",
              "</style>\n",
              "<table border=\"1\" class=\"dataframe\">\n",
              "  <thead>\n",
              "    <tr style=\"text-align: right;\">\n",
              "      <th></th>\n",
              "      <th>名前</th>\n",
              "    </tr>\n",
              "  </thead>\n",
              "  <tbody>\n",
              "    <tr>\n",
              "      <th>0</th>\n",
              "      <td>Aさん</td>\n",
              "    </tr>\n",
              "  </tbody>\n",
              "</table>\n",
              "</div>"
            ],
            "text/plain": [
              "    名前\n",
              "0  Aさん"
            ]
          },
          "metadata": {},
          "execution_count": 24
        }
      ]
    },
    {
      "cell_type": "code",
      "metadata": {
        "colab": {
          "base_uri": "https://localhost:8080/",
          "height": 144
        },
        "id": "i-W-XTw9Bz5-",
        "outputId": "54888076-5bf3-4d81-eef2-888709ce21ec"
      },
      "source": [
        "#スライスで指定することもできる\n",
        "df.iloc[1:4, :3] #1-3行目かつ0-2列目 (スライスの終点は含まれないことに注意)\n",
        "\n",
        "#スライスの場合は、 1:4が[1,2,3]と同じ働きをするので、括弧[]はいらない"
      ],
      "execution_count": null,
      "outputs": [
        {
          "output_type": "execute_result",
          "data": {
            "text/html": [
              "<div>\n",
              "<style scoped>\n",
              "    .dataframe tbody tr th:only-of-type {\n",
              "        vertical-align: middle;\n",
              "    }\n",
              "\n",
              "    .dataframe tbody tr th {\n",
              "        vertical-align: top;\n",
              "    }\n",
              "\n",
              "    .dataframe thead th {\n",
              "        text-align: right;\n",
              "    }\n",
              "</style>\n",
              "<table border=\"1\" class=\"dataframe\">\n",
              "  <thead>\n",
              "    <tr style=\"text-align: right;\">\n",
              "      <th></th>\n",
              "      <th>名前</th>\n",
              "      <th>出身都道府県</th>\n",
              "      <th>生年</th>\n",
              "    </tr>\n",
              "  </thead>\n",
              "  <tbody>\n",
              "    <tr>\n",
              "      <th>1</th>\n",
              "      <td>Bさん</td>\n",
              "      <td>Tochigi</td>\n",
              "      <td>1993</td>\n",
              "    </tr>\n",
              "    <tr>\n",
              "      <th>2</th>\n",
              "      <td>Cさん</td>\n",
              "      <td>Hokkaido</td>\n",
              "      <td>2000</td>\n",
              "    </tr>\n",
              "    <tr>\n",
              "      <th>3</th>\n",
              "      <td>Dさん</td>\n",
              "      <td>Kyoto</td>\n",
              "      <td>1989</td>\n",
              "    </tr>\n",
              "  </tbody>\n",
              "</table>\n",
              "</div>"
            ],
            "text/plain": [
              "    名前    出身都道府県    生年\n",
              "1  Bさん   Tochigi  1993\n",
              "2  Cさん  Hokkaido  2000\n",
              "3  Dさん     Kyoto  1989"
            ]
          },
          "metadata": {},
          "execution_count": 25
        }
      ]
    },
    {
      "cell_type": "markdown",
      "metadata": {
        "id": "acMQBcZw5hmv"
      },
      "source": [
        "```loc```を使う場合は、indexの代わりに項目名で指定する。\n",
        "\n",
        "※今の場合、行を指定する項目名が既に整数値なので  \n",
        "インデックスと見分けが付きづらいことに注意"
      ]
    },
    {
      "cell_type": "code",
      "metadata": {
        "colab": {
          "base_uri": "https://localhost:8080/",
          "height": 175
        },
        "id": "JLlD6iUvCH-q",
        "outputId": "fd81691c-d46d-4f1a-bb0d-30c66f2d559b"
      },
      "source": [
        "df.loc[1:4,[\"名前\",\"身長\"]] "
      ],
      "execution_count": null,
      "outputs": [
        {
          "output_type": "execute_result",
          "data": {
            "text/html": [
              "<div>\n",
              "<style scoped>\n",
              "    .dataframe tbody tr th:only-of-type {\n",
              "        vertical-align: middle;\n",
              "    }\n",
              "\n",
              "    .dataframe tbody tr th {\n",
              "        vertical-align: top;\n",
              "    }\n",
              "\n",
              "    .dataframe thead th {\n",
              "        text-align: right;\n",
              "    }\n",
              "</style>\n",
              "<table border=\"1\" class=\"dataframe\">\n",
              "  <thead>\n",
              "    <tr style=\"text-align: right;\">\n",
              "      <th></th>\n",
              "      <th>名前</th>\n",
              "      <th>身長</th>\n",
              "    </tr>\n",
              "  </thead>\n",
              "  <tbody>\n",
              "    <tr>\n",
              "      <th>1</th>\n",
              "      <td>Bさん</td>\n",
              "      <td>156</td>\n",
              "    </tr>\n",
              "    <tr>\n",
              "      <th>2</th>\n",
              "      <td>Cさん</td>\n",
              "      <td>162</td>\n",
              "    </tr>\n",
              "    <tr>\n",
              "      <th>3</th>\n",
              "      <td>Dさん</td>\n",
              "      <td>180</td>\n",
              "    </tr>\n",
              "    <tr>\n",
              "      <th>4</th>\n",
              "      <td>Eさん</td>\n",
              "      <td>158</td>\n",
              "    </tr>\n",
              "  </tbody>\n",
              "</table>\n",
              "</div>"
            ],
            "text/plain": [
              "    名前   身長\n",
              "1  Bさん  156\n",
              "2  Cさん  162\n",
              "3  Dさん  180\n",
              "4  Eさん  158"
            ]
          },
          "metadata": {},
          "execution_count": 26
        }
      ]
    },
    {
      "cell_type": "code",
      "metadata": {
        "colab": {
          "base_uri": "https://localhost:8080/",
          "height": 175
        },
        "id": "y3rZAq4rCTSh",
        "outputId": "46bb4fb4-5451-42e8-d802-3df247d4b10c"
      },
      "source": [
        "df.loc[[1,2,3,4],\"名前\":\"生年\"]"
      ],
      "execution_count": null,
      "outputs": [
        {
          "output_type": "execute_result",
          "data": {
            "text/html": [
              "<div>\n",
              "<style scoped>\n",
              "    .dataframe tbody tr th:only-of-type {\n",
              "        vertical-align: middle;\n",
              "    }\n",
              "\n",
              "    .dataframe tbody tr th {\n",
              "        vertical-align: top;\n",
              "    }\n",
              "\n",
              "    .dataframe thead th {\n",
              "        text-align: right;\n",
              "    }\n",
              "</style>\n",
              "<table border=\"1\" class=\"dataframe\">\n",
              "  <thead>\n",
              "    <tr style=\"text-align: right;\">\n",
              "      <th></th>\n",
              "      <th>名前</th>\n",
              "      <th>出身都道府県</th>\n",
              "      <th>生年</th>\n",
              "    </tr>\n",
              "  </thead>\n",
              "  <tbody>\n",
              "    <tr>\n",
              "      <th>1</th>\n",
              "      <td>Bさん</td>\n",
              "      <td>Tochigi</td>\n",
              "      <td>1993</td>\n",
              "    </tr>\n",
              "    <tr>\n",
              "      <th>2</th>\n",
              "      <td>Cさん</td>\n",
              "      <td>Hokkaido</td>\n",
              "      <td>2000</td>\n",
              "    </tr>\n",
              "    <tr>\n",
              "      <th>3</th>\n",
              "      <td>Dさん</td>\n",
              "      <td>Kyoto</td>\n",
              "      <td>1989</td>\n",
              "    </tr>\n",
              "    <tr>\n",
              "      <th>4</th>\n",
              "      <td>Eさん</td>\n",
              "      <td>Tochigi</td>\n",
              "      <td>2002</td>\n",
              "    </tr>\n",
              "  </tbody>\n",
              "</table>\n",
              "</div>"
            ],
            "text/plain": [
              "    名前    出身都道府県    生年\n",
              "1  Bさん   Tochigi  1993\n",
              "2  Cさん  Hokkaido  2000\n",
              "3  Dさん     Kyoto  1989\n",
              "4  Eさん   Tochigi  2002"
            ]
          },
          "metadata": {},
          "execution_count": 27
        }
      ]
    },
    {
      "cell_type": "markdown",
      "metadata": {
        "id": "WzV2r0oPA82E"
      },
      "source": [
        "といった具合。\n",
        "\n",
        "```loc```を使う場合、1:4や[1,2,3,4]は  \n",
        "indexのスライスではなく、項目名を意味し  \n",
        "Eさんのデータも含まれている事がわかる。"
      ]
    },
    {
      "cell_type": "markdown",
      "metadata": {
        "id": "py5Dt6wY10pB"
      },
      "source": [
        "## Webページにある表をDataFrameとして取得する"
      ]
    },
    {
      "cell_type": "markdown",
      "metadata": {
        "id": "s7XShK0B15-t"
      },
      "source": [
        "```pandas```内の```read_html```関数を用いれば、  \n",
        "Webページの中にある表をDataFrame形式で取得することもできます。\n",
        "\n",
        "以下では例としてWikipediaの[ノーベル物理学賞](https://ja.wikipedia.org/wiki/%e3%83%8e%e3%83%bc%e3%83%99%e3%83%ab%e7%89%a9%e7%90%86%e5%ad%a6%e8%b3%9e)のページにある、受賞者一覧を取得してみましょう"
      ]
    },
    {
      "cell_type": "code",
      "metadata": {
        "id": "WQG0tt0q2Hj-"
      },
      "source": [
        "url = \"https://ja.wikipedia.org/wiki/%e3%83%8e%e3%83%bc%e3%83%99%e3%83%ab%e7%89%a9%e7%90%86%e5%ad%a6%e8%b3%9e\"\n",
        "tables = pd.read_html(url)"
      ],
      "execution_count": null,
      "outputs": []
    },
    {
      "cell_type": "code",
      "metadata": {
        "colab": {
          "base_uri": "https://localhost:8080/"
        },
        "id": "xLVtylYB2Uow",
        "outputId": "5ea2a27c-b0e5-4109-f770-a3f62e8ffc90"
      },
      "source": [
        "print(len(tables))"
      ],
      "execution_count": null,
      "outputs": [
        {
          "output_type": "stream",
          "name": "stdout",
          "text": [
            "21\n"
          ]
        }
      ]
    },
    {
      "cell_type": "markdown",
      "metadata": {
        "id": "yBghdSUU2XdQ"
      },
      "source": [
        "ページ内に、21個もの表があることがわかります。  \n",
        "(ほとんどはwikipediaのテンプレート等)\n",
        "\n",
        "たとえば、2010年代の受賞者のみに興味がある場合は"
      ]
    },
    {
      "cell_type": "code",
      "metadata": {
        "colab": {
          "base_uri": "https://localhost:8080/",
          "height": 1000
        },
        "id": "nf2JwszO2nBM",
        "outputId": "929632a4-1c15-4ed9-8d61-4bb8e83ae91e"
      },
      "source": [
        "df = tables[12]\n",
        "df"
      ],
      "execution_count": null,
      "outputs": [
        {
          "output_type": "execute_result",
          "data": {
            "text/html": [
              "<div>\n",
              "<style scoped>\n",
              "    .dataframe tbody tr th:only-of-type {\n",
              "        vertical-align: middle;\n",
              "    }\n",
              "\n",
              "    .dataframe tbody tr th {\n",
              "        vertical-align: top;\n",
              "    }\n",
              "\n",
              "    .dataframe thead th {\n",
              "        text-align: right;\n",
              "    }\n",
              "</style>\n",
              "<table border=\"1\" class=\"dataframe\">\n",
              "  <thead>\n",
              "    <tr style=\"text-align: right;\">\n",
              "      <th></th>\n",
              "      <th>年度</th>\n",
              "      <th>受賞者名</th>\n",
              "      <th>受賞者名.1</th>\n",
              "      <th>国籍</th>\n",
              "      <th>受賞理由[3]・原著ないし関連論文</th>\n",
              "    </tr>\n",
              "  </thead>\n",
              "  <tbody>\n",
              "    <tr>\n",
              "      <th>0</th>\n",
              "      <td>2010年</td>\n",
              "      <td>NaN</td>\n",
              "      <td>アンドレ・ガイムAndre Geim</td>\n",
              "      <td>オランダ（ ロシア出身）</td>\n",
              "      <td>二次元物質グラフェンに関する革新的実験[注 70]</td>\n",
              "    </tr>\n",
              "    <tr>\n",
              "      <th>1</th>\n",
              "      <td>2010年</td>\n",
              "      <td>NaN</td>\n",
              "      <td>コンスタンチン・ノボセロフKonstantin Novoselov</td>\n",
              "      <td>ロシア イギリス</td>\n",
              "      <td>二次元物質グラフェンに関する革新的実験[注 70]</td>\n",
              "    </tr>\n",
              "    <tr>\n",
              "      <th>2</th>\n",
              "      <td>2011年</td>\n",
              "      <td>NaN</td>\n",
              "      <td>ソール・パールマッターSaul Perlmutter</td>\n",
              "      <td>アメリカ合衆国</td>\n",
              "      <td>遠方の超新星の観測を通した宇宙の加速膨張の発見Astrophys. J.: 517 (199...</td>\n",
              "    </tr>\n",
              "    <tr>\n",
              "      <th>3</th>\n",
              "      <td>2011年</td>\n",
              "      <td>NaN</td>\n",
              "      <td>ブライアン・P・シュミットBrian Schmidt</td>\n",
              "      <td>オーストラリア アメリカ合衆国</td>\n",
              "      <td>遠方の超新星の観測を通した宇宙の加速膨張の発見Astrophys. J.: 517 (199...</td>\n",
              "    </tr>\n",
              "    <tr>\n",
              "      <th>4</th>\n",
              "      <td>2011年</td>\n",
              "      <td>NaN</td>\n",
              "      <td>アダム・リースAdam Riess</td>\n",
              "      <td>アメリカ合衆国</td>\n",
              "      <td>遠方の超新星の観測を通した宇宙の加速膨張の発見Astrophys. J.: 517 (199...</td>\n",
              "    </tr>\n",
              "    <tr>\n",
              "      <th>5</th>\n",
              "      <td>2012年</td>\n",
              "      <td>NaN</td>\n",
              "      <td>セルジュ・アロシュSerge Haroche</td>\n",
              "      <td>フランス（ モロッコ出身）</td>\n",
              "      <td>個別の量子系に対する計測および制御[注 71]を可能にする画期的な実験的手法に関する業績[4...</td>\n",
              "    </tr>\n",
              "    <tr>\n",
              "      <th>6</th>\n",
              "      <td>2012年</td>\n",
              "      <td>NaN</td>\n",
              "      <td>デービッド・ワインランドDavid J. Wineland</td>\n",
              "      <td>アメリカ合衆国</td>\n",
              "      <td>個別の量子系に対する計測および制御[注 71]を可能にする画期的な実験的手法に関する業績[4...</td>\n",
              "    </tr>\n",
              "    <tr>\n",
              "      <th>7</th>\n",
              "      <td>2013年</td>\n",
              "      <td>NaN</td>\n",
              "      <td>フランソワ・アングレールFrançois Englert</td>\n",
              "      <td>ベルギー</td>\n",
              "      <td>欧州原子核研究機構 (CERN) によって存在が確認された素粒子（ヒッグス粒子）に基づく、質...</td>\n",
              "    </tr>\n",
              "    <tr>\n",
              "      <th>8</th>\n",
              "      <td>2013年</td>\n",
              "      <td>NaN</td>\n",
              "      <td>ピーター・ヒッグスPeter Higgs</td>\n",
              "      <td>イギリス</td>\n",
              "      <td>欧州原子核研究機構 (CERN) によって存在が確認された素粒子（ヒッグス粒子）に基づく、質...</td>\n",
              "    </tr>\n",
              "    <tr>\n",
              "      <th>9</th>\n",
              "      <td>2014年</td>\n",
              "      <td>NaN</td>\n",
              "      <td>赤崎勇Isamu Akasaki</td>\n",
              "      <td>日本</td>\n",
              "      <td>高輝度で省電力の白色光源を実現可能にした青色発光ダイオードの発明[9]</td>\n",
              "    </tr>\n",
              "    <tr>\n",
              "      <th>10</th>\n",
              "      <td>2014年</td>\n",
              "      <td>NaN</td>\n",
              "      <td>天野浩Hiroshi Amano</td>\n",
              "      <td>日本</td>\n",
              "      <td>高輝度で省電力の白色光源を実現可能にした青色発光ダイオードの発明[9]</td>\n",
              "    </tr>\n",
              "    <tr>\n",
              "      <th>11</th>\n",
              "      <td>2014年</td>\n",
              "      <td>NaN</td>\n",
              "      <td>中村修二Shuji Nakamura</td>\n",
              "      <td>アメリカ合衆国（ 日本出身）</td>\n",
              "      <td>高輝度で省電力の白色光源を実現可能にした青色発光ダイオードの発明[9]</td>\n",
              "    </tr>\n",
              "    <tr>\n",
              "      <th>12</th>\n",
              "      <td>2015年</td>\n",
              "      <td>NaN</td>\n",
              "      <td>梶田隆章Takaaki Kajita</td>\n",
              "      <td>日本</td>\n",
              "      <td>素粒子「ニュートリノ」が質量を持つことを示すニュートリノ振動の発見[10]</td>\n",
              "    </tr>\n",
              "    <tr>\n",
              "      <th>13</th>\n",
              "      <td>2015年</td>\n",
              "      <td>NaN</td>\n",
              "      <td>アーサー・B・マクドナルドArthur B. McDonald</td>\n",
              "      <td>カナダ</td>\n",
              "      <td>素粒子「ニュートリノ」が質量を持つことを示すニュートリノ振動の発見[10]</td>\n",
              "    </tr>\n",
              "    <tr>\n",
              "      <th>14</th>\n",
              "      <td>2016年</td>\n",
              "      <td>NaN</td>\n",
              "      <td>デイヴィッド・J・サウレスDavid J. Thouless</td>\n",
              "      <td>イギリス アメリカ合衆国</td>\n",
              "      <td>物質のトポロジカル相とトポロジカル相転移の理論的発見[11][12]</td>\n",
              "    </tr>\n",
              "    <tr>\n",
              "      <th>15</th>\n",
              "      <td>2016年</td>\n",
              "      <td>NaN</td>\n",
              "      <td>ダンカン・ホールデンDuncan Haldane</td>\n",
              "      <td>イギリス スロベニア</td>\n",
              "      <td>物質のトポロジカル相とトポロジカル相転移の理論的発見[11][12]</td>\n",
              "    </tr>\n",
              "    <tr>\n",
              "      <th>16</th>\n",
              "      <td>2016年</td>\n",
              "      <td>NaN</td>\n",
              "      <td>ジョン・M・コステリッツMichael Kosterlitz</td>\n",
              "      <td>イギリス アメリカ合衆国</td>\n",
              "      <td>物質のトポロジカル相とトポロジカル相転移の理論的発見[11][12]</td>\n",
              "    </tr>\n",
              "    <tr>\n",
              "      <th>17</th>\n",
              "      <td>2017年</td>\n",
              "      <td>NaN</td>\n",
              "      <td>レイナー・ワイスRainer Weiss</td>\n",
              "      <td>アメリカ合衆国（ ドイツ出身）</td>\n",
              "      <td>LIGO検出器および重力波の観測への決定的な貢献</td>\n",
              "    </tr>\n",
              "    <tr>\n",
              "      <th>18</th>\n",
              "      <td>2017年</td>\n",
              "      <td>NaN</td>\n",
              "      <td>バリー・バリッシュBarry Barish</td>\n",
              "      <td>アメリカ合衆国</td>\n",
              "      <td>LIGO検出器および重力波の観測への決定的な貢献</td>\n",
              "    </tr>\n",
              "    <tr>\n",
              "      <th>19</th>\n",
              "      <td>2017年</td>\n",
              "      <td>NaN</td>\n",
              "      <td>キップ・ソーンKip Thorne</td>\n",
              "      <td>アメリカ合衆国</td>\n",
              "      <td>LIGO検出器および重力波の観測への決定的な貢献</td>\n",
              "    </tr>\n",
              "    <tr>\n",
              "      <th>20</th>\n",
              "      <td>2018年</td>\n",
              "      <td>NaN</td>\n",
              "      <td>アーサー・アシュキンArthur Ashkin</td>\n",
              "      <td>アメリカ合衆国</td>\n",
              "      <td>光ピンセットの開発と生体システムへの応用</td>\n",
              "    </tr>\n",
              "    <tr>\n",
              "      <th>21</th>\n",
              "      <td>2018年</td>\n",
              "      <td>NaN</td>\n",
              "      <td>ジェラール・ムルGérard Mourou</td>\n",
              "      <td>フランス</td>\n",
              "      <td>超高出力・超短パルスレーザーの生成方法の開発</td>\n",
              "    </tr>\n",
              "    <tr>\n",
              "      <th>22</th>\n",
              "      <td>2018年</td>\n",
              "      <td>NaN</td>\n",
              "      <td>ドナ・ストリックランドDonna Strickland</td>\n",
              "      <td>カナダ</td>\n",
              "      <td>超高出力・超短パルスレーザーの生成方法の開発</td>\n",
              "    </tr>\n",
              "    <tr>\n",
              "      <th>23</th>\n",
              "      <td>2019年</td>\n",
              "      <td>NaN</td>\n",
              "      <td>ジェームズ・ピーブルスJim Peebles</td>\n",
              "      <td>アメリカ合衆国（ カナダ出身）</td>\n",
              "      <td>物理宇宙論における理論的発見</td>\n",
              "    </tr>\n",
              "    <tr>\n",
              "      <th>24</th>\n",
              "      <td>2019年</td>\n",
              "      <td>NaN</td>\n",
              "      <td>ミシェル・マイヨールMichel Mayor</td>\n",
              "      <td>スイス</td>\n",
              "      <td>太陽型恒星を周回する太陽系外惑星の発見</td>\n",
              "    </tr>\n",
              "    <tr>\n",
              "      <th>25</th>\n",
              "      <td>2019年</td>\n",
              "      <td>NaN</td>\n",
              "      <td>ディディエ・ケローDidier Queloz</td>\n",
              "      <td>スイス</td>\n",
              "      <td>太陽型恒星を周回する太陽系外惑星の発見</td>\n",
              "    </tr>\n",
              "  </tbody>\n",
              "</table>\n",
              "</div>"
            ],
            "text/plain": [
              "       年度  ...                                  受賞理由[3]・原著ないし関連論文\n",
              "0   2010年  ...                          二次元物質グラフェンに関する革新的実験[注 70]\n",
              "1   2010年  ...                          二次元物質グラフェンに関する革新的実験[注 70]\n",
              "2   2011年  ...  遠方の超新星の観測を通した宇宙の加速膨張の発見Astrophys. J.: 517 (199...\n",
              "3   2011年  ...  遠方の超新星の観測を通した宇宙の加速膨張の発見Astrophys. J.: 517 (199...\n",
              "4   2011年  ...  遠方の超新星の観測を通した宇宙の加速膨張の発見Astrophys. J.: 517 (199...\n",
              "5   2012年  ...  個別の量子系に対する計測および制御[注 71]を可能にする画期的な実験的手法に関する業績[4...\n",
              "6   2012年  ...  個別の量子系に対する計測および制御[注 71]を可能にする画期的な実験的手法に関する業績[4...\n",
              "7   2013年  ...  欧州原子核研究機構 (CERN) によって存在が確認された素粒子（ヒッグス粒子）に基づく、質...\n",
              "8   2013年  ...  欧州原子核研究機構 (CERN) によって存在が確認された素粒子（ヒッグス粒子）に基づく、質...\n",
              "9   2014年  ...                高輝度で省電力の白色光源を実現可能にした青色発光ダイオードの発明[9]\n",
              "10  2014年  ...                高輝度で省電力の白色光源を実現可能にした青色発光ダイオードの発明[9]\n",
              "11  2014年  ...                高輝度で省電力の白色光源を実現可能にした青色発光ダイオードの発明[9]\n",
              "12  2015年  ...              素粒子「ニュートリノ」が質量を持つことを示すニュートリノ振動の発見[10]\n",
              "13  2015年  ...              素粒子「ニュートリノ」が質量を持つことを示すニュートリノ振動の発見[10]\n",
              "14  2016年  ...                 物質のトポロジカル相とトポロジカル相転移の理論的発見[11][12]\n",
              "15  2016年  ...                 物質のトポロジカル相とトポロジカル相転移の理論的発見[11][12]\n",
              "16  2016年  ...                 物質のトポロジカル相とトポロジカル相転移の理論的発見[11][12]\n",
              "17  2017年  ...                           LIGO検出器および重力波の観測への決定的な貢献\n",
              "18  2017年  ...                           LIGO検出器および重力波の観測への決定的な貢献\n",
              "19  2017年  ...                           LIGO検出器および重力波の観測への決定的な貢献\n",
              "20  2018年  ...                               光ピンセットの開発と生体システムへの応用\n",
              "21  2018年  ...                             超高出力・超短パルスレーザーの生成方法の開発\n",
              "22  2018年  ...                             超高出力・超短パルスレーザーの生成方法の開発\n",
              "23  2019年  ...                                     物理宇宙論における理論的発見\n",
              "24  2019年  ...                                太陽型恒星を周回する太陽系外惑星の発見\n",
              "25  2019年  ...                                太陽型恒星を周回する太陽系外惑星の発見\n",
              "\n",
              "[26 rows x 5 columns]"
            ]
          },
          "metadata": {},
          "execution_count": 30
        }
      ]
    },
    {
      "cell_type": "markdown",
      "metadata": {
        "id": "U6LFpNLN2sZh"
      },
      "source": [
        "## DataFrameのcsv/Excelファイルへの書き出し"
      ]
    },
    {
      "cell_type": "markdown",
      "metadata": {
        "id": "tbZn9qyB2xTS"
      },
      "source": [
        "DataFrameオブジェクトは、```pandas```内の関数を用いれば、  \n",
        "簡単にcsvやExcelファイルとして書き出すことができます。\n",
        "\n",
        "先程の、２０１０年代のノーベル物理学賞受賞者のデータを、  \n",
        "Google Driveにファイルとして書き出してみましょう。"
      ]
    },
    {
      "cell_type": "code",
      "metadata": {
        "id": "CKxWkUsW3Hi2",
        "outputId": "1ab4a4a6-ef51-44d9-9e39-98055f19f6fc",
        "colab": {
          "base_uri": "https://localhost:8080/"
        }
      },
      "source": [
        "from google.colab import drive\n",
        "drive.mount('/content/drive')"
      ],
      "execution_count": null,
      "outputs": [
        {
          "output_type": "stream",
          "name": "stdout",
          "text": [
            "Mounted at /content/drive\n"
          ]
        }
      ]
    },
    {
      "cell_type": "markdown",
      "metadata": {
        "id": "gsr83KhA3Hww"
      },
      "source": [
        "**csvとして書き出す場合**\n",
        "\n",
        "適当にパスを指定して、DataFrameオブジェクトに  \n",
        "```to_csv```関数を作用させます。"
      ]
    },
    {
      "cell_type": "code",
      "metadata": {
        "id": "jLS-3W8F27Xe"
      },
      "source": [
        "df.to_csv(\"/content/drive/My Drive/AdDS2021/pd_write_test.csv\")"
      ],
      "execution_count": null,
      "outputs": []
    },
    {
      "cell_type": "markdown",
      "metadata": {
        "id": "k6XnW1V93mik"
      },
      "source": [
        "**Excelファイルとして書き出す場合**\n",
        "\n",
        "この場合も同様で、```to_excel```関数を用います。"
      ]
    },
    {
      "cell_type": "code",
      "metadata": {
        "id": "A4A69Qb83vkk"
      },
      "source": [
        "df.to_excel(\"/content/drive/My Drive/AdDS2021/pd_write_test.xlsx\")"
      ],
      "execution_count": null,
      "outputs": []
    },
    {
      "cell_type": "markdown",
      "metadata": {
        "id": "jrfPQzrq4GJK"
      },
      "source": [
        "上記の関数内で文字コードを指定することもできます。  \n",
        "例: ```encoding=\"utf-8_sig\"```, ```encoding=\"shift_jis\"```"
      ]
    },
    {
      "cell_type": "markdown",
      "metadata": {
        "id": "O6bVMFaNKeUT"
      },
      "source": [
        "## Pandasで複雑なエクセルファイルを操作する"
      ]
    },
    {
      "cell_type": "markdown",
      "metadata": {
        "id": "KBgNqsmGKjvm"
      },
      "source": [
        "Pandasにはread_excel()という関数が用意されていて、  \n",
        "多数のシートを含むようなエクセルファイルを開くことも出来る。\n",
        "\n",
        "まずは必要なモジュールをインポートしよう。"
      ]
    },
    {
      "cell_type": "code",
      "metadata": {
        "id": "hBKVdR2zKxe_"
      },
      "source": [
        "import pandas as pd\n",
        "from pandas import DataFrame"
      ],
      "execution_count": 1,
      "outputs": []
    },
    {
      "cell_type": "markdown",
      "metadata": {
        "id": "34iZ93suY1nz"
      },
      "source": [
        "今まではGoogle Driveにいれたファイルを読み出していたが、  \n",
        "Webから直接xlsxファイルを読み込んでみよう。"
      ]
    },
    {
      "cell_type": "code",
      "source": [
        "url = \"https://www.mext.go.jp/content/20201225-mxt_kagsei-mext_01110_012.xlsx\"\n",
        "input_file = pd.ExcelFile(url)"
      ],
      "metadata": {
        "id": "2yR7aEeImkAl"
      },
      "execution_count": 6,
      "outputs": []
    },
    {
      "cell_type": "markdown",
      "metadata": {
        "id": "YEsLWG0mY8z-"
      },
      "source": [
        "ブック内のシートの一覧は以下のように取得できる。"
      ]
    },
    {
      "cell_type": "code",
      "metadata": {
        "id": "VJv-enRZTxUt",
        "outputId": "40cc2804-2e46-4120-cf86-6f8423eb4bd6",
        "colab": {
          "base_uri": "https://localhost:8080/"
        }
      },
      "source": [
        "sheet_names = input_file.sheet_names\n",
        "print(\"pandas: シート名\",sheet_names)"
      ],
      "execution_count": 5,
      "outputs": [
        {
          "output_type": "stream",
          "name": "stdout",
          "text": [
            "pandas: シート名 ['表全体', '1穀類', '2いも及びでん粉類', '3砂糖及び甘味類', '4豆類', '5種実類', '6野菜類', '7果実類', '8きのこ類', '9藻類', '10魚介類', '11肉類', '12鶏卵', '13乳類', '14油脂類', '15菓子類', '16し好飲料', '17調味料及び香辛料', '18調理済み流通食品類']\n"
          ]
        }
      ]
    },
    {
      "cell_type": "markdown",
      "metadata": {
        "id": "Tn6Lq7UhT1ZX"
      },
      "source": [
        "シートを指定するのは、インデックスかシート名の文字列で行う。\n",
        "\n",
        "\"1 穀類\"を使うことにして、  \n",
        "pandasにあるread_excel関数を使ってみよう。  \n",
        "read_excel関数の最初の引数にはパスの他に、urlも取れる。"
      ]
    },
    {
      "cell_type": "code",
      "metadata": {
        "id": "07xxSw7nVdK2",
        "outputId": "64fc60bb-83ba-4a50-d4dd-77cff9da297a",
        "colab": {
          "base_uri": "https://localhost:8080/",
          "height": 1000
        }
      },
      "source": [
        "df = pd.read_excel(url,sheet_name=\"1穀類\")\n",
        "df"
      ],
      "execution_count": 11,
      "outputs": [
        {
          "output_type": "execute_result",
          "data": {
            "text/html": [
              "<div>\n",
              "<style scoped>\n",
              "    .dataframe tbody tr th:only-of-type {\n",
              "        vertical-align: middle;\n",
              "    }\n",
              "\n",
              "    .dataframe tbody tr th {\n",
              "        vertical-align: top;\n",
              "    }\n",
              "\n",
              "    .dataframe thead th {\n",
              "        text-align: right;\n",
              "    }\n",
              "</style>\n",
              "<table border=\"1\" class=\"dataframe\">\n",
              "  <thead>\n",
              "    <tr style=\"text-align: right;\">\n",
              "      <th></th>\n",
              "      <th>Unnamed: 0</th>\n",
              "      <th>Unnamed: 1</th>\n",
              "      <th>Unnamed: 2</th>\n",
              "      <th>Unnamed: 3</th>\n",
              "      <th>Unnamed: 4</th>\n",
              "      <th>Unnamed: 5</th>\n",
              "      <th>Unnamed: 6</th>\n",
              "      <th>Unnamed: 7</th>\n",
              "      <th>Unnamed: 8</th>\n",
              "      <th>Unnamed: 9</th>\n",
              "      <th>Unnamed: 10</th>\n",
              "      <th>Unnamed: 11</th>\n",
              "      <th>Unnamed: 12</th>\n",
              "      <th>Unnamed: 13</th>\n",
              "      <th>Unnamed: 14</th>\n",
              "      <th>Unnamed: 15</th>\n",
              "      <th>Unnamed: 16</th>\n",
              "      <th>Unnamed: 17</th>\n",
              "      <th>Unnamed: 18</th>\n",
              "      <th>Unnamed: 19</th>\n",
              "      <th>Unnamed: 20</th>\n",
              "      <th>Unnamed: 21</th>\n",
              "      <th>Unnamed: 22</th>\n",
              "      <th>Unnamed: 23</th>\n",
              "      <th>Unnamed: 24</th>\n",
              "      <th>Unnamed: 25</th>\n",
              "      <th>Unnamed: 26</th>\n",
              "      <th>Unnamed: 27</th>\n",
              "      <th>Unnamed: 28</th>\n",
              "      <th>Unnamed: 29</th>\n",
              "      <th>Unnamed: 30</th>\n",
              "      <th>Unnamed: 31</th>\n",
              "      <th>Unnamed: 32</th>\n",
              "      <th>Unnamed: 33</th>\n",
              "      <th>Unnamed: 34</th>\n",
              "      <th>Unnamed: 35</th>\n",
              "      <th>Unnamed: 36</th>\n",
              "      <th>Unnamed: 37</th>\n",
              "      <th>Unnamed: 38</th>\n",
              "      <th>Unnamed: 39</th>\n",
              "      <th>Unnamed: 40</th>\n",
              "      <th>Unnamed: 41</th>\n",
              "      <th>Unnamed: 42</th>\n",
              "      <th>Unnamed: 43</th>\n",
              "      <th>Unnamed: 44</th>\n",
              "      <th>Unnamed: 45</th>\n",
              "      <th>Unnamed: 46</th>\n",
              "      <th>Unnamed: 47</th>\n",
              "      <th>Unnamed: 48</th>\n",
              "      <th>Unnamed: 49</th>\n",
              "      <th>Unnamed: 50</th>\n",
              "      <th>Unnamed: 51</th>\n",
              "      <th>Unnamed: 52</th>\n",
              "      <th>Unnamed: 53</th>\n",
              "      <th>Unnamed: 54</th>\n",
              "      <th>Unnamed: 55</th>\n",
              "      <th>Unnamed: 56</th>\n",
              "      <th>Unnamed: 57</th>\n",
              "      <th>Unnamed: 58</th>\n",
              "      <th>Unnamed: 59</th>\n",
              "      <th>Unnamed: 60</th>\n",
              "      <th>更新日：2021年2 月○日</th>\n",
              "    </tr>\n",
              "  </thead>\n",
              "  <tbody>\n",
              "    <tr>\n",
              "      <th>0</th>\n",
              "      <td>NaN</td>\n",
              "      <td>食　品　番　号</td>\n",
              "      <td>索　引　番　号</td>\n",
              "      <td>可　　食　　部　　 100　　g　　当　　た　　り</td>\n",
              "      <td>NaN</td>\n",
              "      <td>NaN</td>\n",
              "      <td>NaN</td>\n",
              "      <td>NaN</td>\n",
              "      <td>NaN</td>\n",
              "      <td>NaN</td>\n",
              "      <td>NaN</td>\n",
              "      <td>NaN</td>\n",
              "      <td>NaN</td>\n",
              "      <td>NaN</td>\n",
              "      <td>NaN</td>\n",
              "      <td>NaN</td>\n",
              "      <td>NaN</td>\n",
              "      <td>NaN</td>\n",
              "      <td>NaN</td>\n",
              "      <td>NaN</td>\n",
              "      <td>NaN</td>\n",
              "      <td>NaN</td>\n",
              "      <td>NaN</td>\n",
              "      <td>NaN</td>\n",
              "      <td>NaN</td>\n",
              "      <td>NaN</td>\n",
              "      <td>NaN</td>\n",
              "      <td>NaN</td>\n",
              "      <td>NaN</td>\n",
              "      <td>NaN</td>\n",
              "      <td>NaN</td>\n",
              "      <td>NaN</td>\n",
              "      <td>NaN</td>\n",
              "      <td>可　　食　　部　　 100　 g　　当　　た　　り</td>\n",
              "      <td>NaN</td>\n",
              "      <td>NaN</td>\n",
              "      <td>NaN</td>\n",
              "      <td>NaN</td>\n",
              "      <td>NaN</td>\n",
              "      <td>NaN</td>\n",
              "      <td>NaN</td>\n",
              "      <td>NaN</td>\n",
              "      <td>NaN</td>\n",
              "      <td>NaN</td>\n",
              "      <td>NaN</td>\n",
              "      <td>NaN</td>\n",
              "      <td>NaN</td>\n",
              "      <td>NaN</td>\n",
              "      <td>NaN</td>\n",
              "      <td>NaN</td>\n",
              "      <td>NaN</td>\n",
              "      <td>NaN</td>\n",
              "      <td>NaN</td>\n",
              "      <td>NaN</td>\n",
              "      <td>NaN</td>\n",
              "      <td>NaN</td>\n",
              "      <td>NaN</td>\n",
              "      <td>NaN</td>\n",
              "      <td>NaN</td>\n",
              "      <td>NaN</td>\n",
              "      <td>NaN</td>\n",
              "      <td>備　　考</td>\n",
              "    </tr>\n",
              "    <tr>\n",
              "      <th>1</th>\n",
              "      <td>NaN</td>\n",
              "      <td>NaN</td>\n",
              "      <td>NaN</td>\n",
              "      <td>食　品　名</td>\n",
              "      <td>廃　棄　率</td>\n",
              "      <td>エネルギー</td>\n",
              "      <td>NaN</td>\n",
              "      <td>水　分</td>\n",
              "      <td>たんぱく質</td>\n",
              "      <td>NaN</td>\n",
              "      <td>脂質</td>\n",
              "      <td>NaN</td>\n",
              "      <td>NaN</td>\n",
              "      <td>炭水化物</td>\n",
              "      <td>NaN</td>\n",
              "      <td>NaN</td>\n",
              "      <td>NaN</td>\n",
              "      <td>NaN</td>\n",
              "      <td>NaN</td>\n",
              "      <td>NaN</td>\n",
              "      <td>NaN</td>\n",
              "      <td>有機酸</td>\n",
              "      <td>灰\\n\\n分</td>\n",
              "      <td>無 機 質</td>\n",
              "      <td>NaN</td>\n",
              "      <td>NaN</td>\n",
              "      <td>NaN</td>\n",
              "      <td>NaN</td>\n",
              "      <td>NaN</td>\n",
              "      <td>NaN</td>\n",
              "      <td>NaN</td>\n",
              "      <td>NaN</td>\n",
              "      <td>NaN</td>\n",
              "      <td>無機質</td>\n",
              "      <td>NaN</td>\n",
              "      <td>NaN</td>\n",
              "      <td>NaN</td>\n",
              "      <td>ビ　　タ　　ミ　　ン</td>\n",
              "      <td>NaN</td>\n",
              "      <td>NaN</td>\n",
              "      <td>NaN</td>\n",
              "      <td>NaN</td>\n",
              "      <td>NaN</td>\n",
              "      <td>NaN</td>\n",
              "      <td>NaN</td>\n",
              "      <td>NaN</td>\n",
              "      <td>NaN</td>\n",
              "      <td>NaN</td>\n",
              "      <td>NaN</td>\n",
              "      <td>NaN</td>\n",
              "      <td>NaN</td>\n",
              "      <td>NaN</td>\n",
              "      <td>NaN</td>\n",
              "      <td>NaN</td>\n",
              "      <td>NaN</td>\n",
              "      <td>NaN</td>\n",
              "      <td>NaN</td>\n",
              "      <td>NaN</td>\n",
              "      <td>NaN</td>\n",
              "      <td>アルコール</td>\n",
              "      <td>食塩相当量</td>\n",
              "      <td>NaN</td>\n",
              "    </tr>\n",
              "    <tr>\n",
              "      <th>2</th>\n",
              "      <td>NaN</td>\n",
              "      <td>NaN</td>\n",
              "      <td>NaN</td>\n",
              "      <td>NaN</td>\n",
              "      <td>NaN</td>\n",
              "      <td>NaN</td>\n",
              "      <td>NaN</td>\n",
              "      <td>NaN</td>\n",
              "      <td>アミノ酸組成による\\nたんぱく質</td>\n",
              "      <td>たんぱく質</td>\n",
              "      <td>脂肪酸の\\nトリアシルグリセロール当量</td>\n",
              "      <td>コレステロール</td>\n",
              "      <td>脂質</td>\n",
              "      <td>利用可能炭水化物</td>\n",
              "      <td>NaN</td>\n",
              "      <td>NaN</td>\n",
              "      <td>NaN</td>\n",
              "      <td>NaN</td>\n",
              "      <td>食物繊維総量</td>\n",
              "      <td>糖アルコール</td>\n",
              "      <td>炭水化物</td>\n",
              "      <td>NaN</td>\n",
              "      <td>NaN</td>\n",
              "      <td>ナ ト リ ウ ム</td>\n",
              "      <td>カ　リ　ウ　ム</td>\n",
              "      <td>カ ル シ ウ ム</td>\n",
              "      <td>マ グ ネ シ ウ ム</td>\n",
              "      <td>リ　ン</td>\n",
              "      <td>鉄</td>\n",
              "      <td>亜　鉛</td>\n",
              "      <td>銅</td>\n",
              "      <td>マ　ン　ガ　ン</td>\n",
              "      <td>NaN</td>\n",
              "      <td>ヨ　ウ　素</td>\n",
              "      <td>セ　レ　ン</td>\n",
              "      <td>ク　ロ　ム</td>\n",
              "      <td>モリブデン</td>\n",
              "      <td>ビタミンA</td>\n",
              "      <td>NaN</td>\n",
              "      <td>NaN</td>\n",
              "      <td>NaN</td>\n",
              "      <td>NaN</td>\n",
              "      <td>NaN</td>\n",
              "      <td>ビタミンD</td>\n",
              "      <td>ビタミンE</td>\n",
              "      <td>NaN</td>\n",
              "      <td>NaN</td>\n",
              "      <td>NaN</td>\n",
              "      <td>ビタミンK</td>\n",
              "      <td>ビ\\nタ\\nミ\\nン\\nＢ１</td>\n",
              "      <td>ビ\\nタ\\nミ\\nン\\nB２</td>\n",
              "      <td>ナイアシン</td>\n",
              "      <td>ナイアシン当量</td>\n",
              "      <td>ビ\\nタ\\nミ\\nン\\nＢ６</td>\n",
              "      <td>ビ\\nタ\\nミ\\nン\\nＢ１２</td>\n",
              "      <td>葉　酸</td>\n",
              "      <td>パントテン酸</td>\n",
              "      <td>ビ オ チ ン</td>\n",
              "      <td>ビタミンC</td>\n",
              "      <td>NaN</td>\n",
              "      <td>NaN</td>\n",
              "      <td>NaN</td>\n",
              "    </tr>\n",
              "    <tr>\n",
              "      <th>3</th>\n",
              "      <td>NaN</td>\n",
              "      <td>NaN</td>\n",
              "      <td>NaN</td>\n",
              "      <td>NaN</td>\n",
              "      <td>NaN</td>\n",
              "      <td>NaN</td>\n",
              "      <td>NaN</td>\n",
              "      <td>NaN</td>\n",
              "      <td>NaN</td>\n",
              "      <td>NaN</td>\n",
              "      <td>NaN</td>\n",
              "      <td>NaN</td>\n",
              "      <td>NaN</td>\n",
              "      <td>利用可能炭水化物\\n（単糖当量）</td>\n",
              "      <td>NaN</td>\n",
              "      <td>利用可能炭水化物\\n（質量計）</td>\n",
              "      <td>差引き法による\\n利用可能炭水化物</td>\n",
              "      <td>NaN</td>\n",
              "      <td>NaN</td>\n",
              "      <td>NaN</td>\n",
              "      <td>NaN</td>\n",
              "      <td>NaN</td>\n",
              "      <td>NaN</td>\n",
              "      <td>NaN</td>\n",
              "      <td>NaN</td>\n",
              "      <td>NaN</td>\n",
              "      <td>NaN</td>\n",
              "      <td>NaN</td>\n",
              "      <td>NaN</td>\n",
              "      <td>NaN</td>\n",
              "      <td>NaN</td>\n",
              "      <td>NaN</td>\n",
              "      <td>NaN</td>\n",
              "      <td>NaN</td>\n",
              "      <td>NaN</td>\n",
              "      <td>NaN</td>\n",
              "      <td>NaN</td>\n",
              "      <td>NaN</td>\n",
              "      <td>NaN</td>\n",
              "      <td>NaN</td>\n",
              "      <td>NaN</td>\n",
              "      <td>NaN</td>\n",
              "      <td>レチノール活性当量</td>\n",
              "      <td>NaN</td>\n",
              "      <td>α|トコフェロール</td>\n",
              "      <td>β|トコフェロール</td>\n",
              "      <td>γ|トコフェロール</td>\n",
              "      <td>δ|トコフェロール</td>\n",
              "      <td>NaN</td>\n",
              "      <td>NaN</td>\n",
              "      <td>NaN</td>\n",
              "      <td>NaN</td>\n",
              "      <td>NaN</td>\n",
              "      <td>NaN</td>\n",
              "      <td>NaN</td>\n",
              "      <td>NaN</td>\n",
              "      <td>NaN</td>\n",
              "      <td>NaN</td>\n",
              "      <td>NaN</td>\n",
              "      <td>NaN</td>\n",
              "      <td>NaN</td>\n",
              "      <td>NaN</td>\n",
              "    </tr>\n",
              "    <tr>\n",
              "      <th>4</th>\n",
              "      <td>NaN</td>\n",
              "      <td>NaN</td>\n",
              "      <td>NaN</td>\n",
              "      <td>NaN</td>\n",
              "      <td>NaN</td>\n",
              "      <td>NaN</td>\n",
              "      <td>NaN</td>\n",
              "      <td>NaN</td>\n",
              "      <td>NaN</td>\n",
              "      <td>NaN</td>\n",
              "      <td>NaN</td>\n",
              "      <td>NaN</td>\n",
              "      <td>NaN</td>\n",
              "      <td>NaN</td>\n",
              "      <td>NaN</td>\n",
              "      <td>NaN</td>\n",
              "      <td>NaN</td>\n",
              "      <td>NaN</td>\n",
              "      <td>NaN</td>\n",
              "      <td>NaN</td>\n",
              "      <td>NaN</td>\n",
              "      <td>NaN</td>\n",
              "      <td>NaN</td>\n",
              "      <td>NaN</td>\n",
              "      <td>NaN</td>\n",
              "      <td>NaN</td>\n",
              "      <td>NaN</td>\n",
              "      <td>NaN</td>\n",
              "      <td>NaN</td>\n",
              "      <td>NaN</td>\n",
              "      <td>NaN</td>\n",
              "      <td>NaN</td>\n",
              "      <td>NaN</td>\n",
              "      <td>NaN</td>\n",
              "      <td>NaN</td>\n",
              "      <td>NaN</td>\n",
              "      <td>NaN</td>\n",
              "      <td>レチノール</td>\n",
              "      <td>NaN</td>\n",
              "      <td>NaN</td>\n",
              "      <td>NaN</td>\n",
              "      <td>β|カロテン当量</td>\n",
              "      <td>NaN</td>\n",
              "      <td>NaN</td>\n",
              "      <td>NaN</td>\n",
              "      <td>NaN</td>\n",
              "      <td>NaN</td>\n",
              "      <td>NaN</td>\n",
              "      <td>NaN</td>\n",
              "      <td>NaN</td>\n",
              "      <td>NaN</td>\n",
              "      <td>NaN</td>\n",
              "      <td>NaN</td>\n",
              "      <td>NaN</td>\n",
              "      <td>NaN</td>\n",
              "      <td>NaN</td>\n",
              "      <td>NaN</td>\n",
              "      <td>NaN</td>\n",
              "      <td>NaN</td>\n",
              "      <td>NaN</td>\n",
              "      <td>NaN</td>\n",
              "      <td>NaN</td>\n",
              "    </tr>\n",
              "    <tr>\n",
              "      <th>...</th>\n",
              "      <td>...</td>\n",
              "      <td>...</td>\n",
              "      <td>...</td>\n",
              "      <td>...</td>\n",
              "      <td>...</td>\n",
              "      <td>...</td>\n",
              "      <td>...</td>\n",
              "      <td>...</td>\n",
              "      <td>...</td>\n",
              "      <td>...</td>\n",
              "      <td>...</td>\n",
              "      <td>...</td>\n",
              "      <td>...</td>\n",
              "      <td>...</td>\n",
              "      <td>...</td>\n",
              "      <td>...</td>\n",
              "      <td>...</td>\n",
              "      <td>...</td>\n",
              "      <td>...</td>\n",
              "      <td>...</td>\n",
              "      <td>...</td>\n",
              "      <td>...</td>\n",
              "      <td>...</td>\n",
              "      <td>...</td>\n",
              "      <td>...</td>\n",
              "      <td>...</td>\n",
              "      <td>...</td>\n",
              "      <td>...</td>\n",
              "      <td>...</td>\n",
              "      <td>...</td>\n",
              "      <td>...</td>\n",
              "      <td>...</td>\n",
              "      <td>...</td>\n",
              "      <td>...</td>\n",
              "      <td>...</td>\n",
              "      <td>...</td>\n",
              "      <td>...</td>\n",
              "      <td>...</td>\n",
              "      <td>...</td>\n",
              "      <td>...</td>\n",
              "      <td>...</td>\n",
              "      <td>...</td>\n",
              "      <td>...</td>\n",
              "      <td>...</td>\n",
              "      <td>...</td>\n",
              "      <td>...</td>\n",
              "      <td>...</td>\n",
              "      <td>...</td>\n",
              "      <td>...</td>\n",
              "      <td>...</td>\n",
              "      <td>...</td>\n",
              "      <td>...</td>\n",
              "      <td>...</td>\n",
              "      <td>...</td>\n",
              "      <td>...</td>\n",
              "      <td>...</td>\n",
              "      <td>...</td>\n",
              "      <td>...</td>\n",
              "      <td>...</td>\n",
              "      <td>...</td>\n",
              "      <td>...</td>\n",
              "      <td>...</td>\n",
              "    </tr>\n",
              "    <tr>\n",
              "      <th>211</th>\n",
              "      <td>1.0</td>\n",
              "      <td>01139</td>\n",
              "      <td>201</td>\n",
              "      <td>ひえ　精白粒</td>\n",
              "      <td>0</td>\n",
              "      <td>1534</td>\n",
              "      <td>361</td>\n",
              "      <td>12.9</td>\n",
              "      <td>8.4</td>\n",
              "      <td>9.4</td>\n",
              "      <td>3.0</td>\n",
              "      <td>(0)</td>\n",
              "      <td>3.3</td>\n",
              "      <td>77.9</td>\n",
              "      <td>*</td>\n",
              "      <td>70.8</td>\n",
              "      <td>70.2</td>\n",
              "      <td>NaN</td>\n",
              "      <td>4.3</td>\n",
              "      <td>-</td>\n",
              "      <td>73.2</td>\n",
              "      <td>-</td>\n",
              "      <td>1.3</td>\n",
              "      <td>6</td>\n",
              "      <td>240</td>\n",
              "      <td>7</td>\n",
              "      <td>58</td>\n",
              "      <td>280</td>\n",
              "      <td>1.6</td>\n",
              "      <td>2.2</td>\n",
              "      <td>0.15</td>\n",
              "      <td>1.37</td>\n",
              "      <td>NaN</td>\n",
              "      <td>0</td>\n",
              "      <td>4</td>\n",
              "      <td>2</td>\n",
              "      <td>10</td>\n",
              "      <td>(0)</td>\n",
              "      <td>(0)</td>\n",
              "      <td>(0)</td>\n",
              "      <td>(0)</td>\n",
              "      <td>(0)</td>\n",
              "      <td>(0)</td>\n",
              "      <td>(0)</td>\n",
              "      <td>0.1</td>\n",
              "      <td>0</td>\n",
              "      <td>1.2</td>\n",
              "      <td>0</td>\n",
              "      <td>(0)</td>\n",
              "      <td>0.25</td>\n",
              "      <td>0.02</td>\n",
              "      <td>0.4</td>\n",
              "      <td>2.3</td>\n",
              "      <td>0.17</td>\n",
              "      <td>(0)</td>\n",
              "      <td>14</td>\n",
              "      <td>1.50</td>\n",
              "      <td>3.6</td>\n",
              "      <td>0</td>\n",
              "      <td>-</td>\n",
              "      <td>Tr</td>\n",
              "      <td>歩留り： 55～60 %</td>\n",
              "    </tr>\n",
              "    <tr>\n",
              "      <th>212</th>\n",
              "      <td>1.0</td>\n",
              "      <td>01140</td>\n",
              "      <td>202</td>\n",
              "      <td>もろこし　玄穀</td>\n",
              "      <td>0</td>\n",
              "      <td>1454</td>\n",
              "      <td>344</td>\n",
              "      <td>12.0</td>\n",
              "      <td>(9.0)</td>\n",
              "      <td>10.3</td>\n",
              "      <td>(4.7)</td>\n",
              "      <td>(0)</td>\n",
              "      <td>4.7</td>\n",
              "      <td>65.6</td>\n",
              "      <td>*</td>\n",
              "      <td>59.7</td>\n",
              "      <td>62.7</td>\n",
              "      <td>NaN</td>\n",
              "      <td>9.7</td>\n",
              "      <td>-</td>\n",
              "      <td>71.1</td>\n",
              "      <td>-</td>\n",
              "      <td>1.9</td>\n",
              "      <td>2</td>\n",
              "      <td>590</td>\n",
              "      <td>16</td>\n",
              "      <td>160</td>\n",
              "      <td>430</td>\n",
              "      <td>3.3</td>\n",
              "      <td>2.7</td>\n",
              "      <td>0.44</td>\n",
              "      <td>1.63</td>\n",
              "      <td>NaN</td>\n",
              "      <td>1</td>\n",
              "      <td>1</td>\n",
              "      <td>1</td>\n",
              "      <td>34</td>\n",
              "      <td>(0)</td>\n",
              "      <td>-</td>\n",
              "      <td>-</td>\n",
              "      <td>-</td>\n",
              "      <td>(0)</td>\n",
              "      <td>(0)</td>\n",
              "      <td>(0)</td>\n",
              "      <td>0.5</td>\n",
              "      <td>0</td>\n",
              "      <td>2.3</td>\n",
              "      <td>0</td>\n",
              "      <td>(0)</td>\n",
              "      <td>0.35</td>\n",
              "      <td>0.10</td>\n",
              "      <td>6.0</td>\n",
              "      <td>(8.0)</td>\n",
              "      <td>0.31</td>\n",
              "      <td>(0)</td>\n",
              "      <td>54</td>\n",
              "      <td>1.42</td>\n",
              "      <td>15.0</td>\n",
              "      <td>(0)</td>\n",
              "      <td>-</td>\n",
              "      <td>0</td>\n",
              "      <td>別名： こうりゃん、ソルガム、たかきび、マイロ</td>\n",
              "    </tr>\n",
              "    <tr>\n",
              "      <th>213</th>\n",
              "      <td>1.0</td>\n",
              "      <td>01141</td>\n",
              "      <td>203</td>\n",
              "      <td>もろこし　精白粒</td>\n",
              "      <td>0</td>\n",
              "      <td>1473</td>\n",
              "      <td>348</td>\n",
              "      <td>12.5</td>\n",
              "      <td>(8.0)</td>\n",
              "      <td>9.5</td>\n",
              "      <td>(2.3)</td>\n",
              "      <td>(0)</td>\n",
              "      <td>2.6</td>\n",
              "      <td>72.0</td>\n",
              "      <td>NaN</td>\n",
              "      <td>65.4</td>\n",
              "      <td>71.5</td>\n",
              "      <td>*</td>\n",
              "      <td>4.4</td>\n",
              "      <td>-</td>\n",
              "      <td>74.1</td>\n",
              "      <td>-</td>\n",
              "      <td>1.3</td>\n",
              "      <td>2</td>\n",
              "      <td>410</td>\n",
              "      <td>14</td>\n",
              "      <td>110</td>\n",
              "      <td>290</td>\n",
              "      <td>2.4</td>\n",
              "      <td>1.3</td>\n",
              "      <td>0.21</td>\n",
              "      <td>1.12</td>\n",
              "      <td>NaN</td>\n",
              "      <td>-</td>\n",
              "      <td>-</td>\n",
              "      <td>-</td>\n",
              "      <td>-</td>\n",
              "      <td>(0)</td>\n",
              "      <td>-</td>\n",
              "      <td>-</td>\n",
              "      <td>-</td>\n",
              "      <td>(0)</td>\n",
              "      <td>(0)</td>\n",
              "      <td>(0)</td>\n",
              "      <td>0.2</td>\n",
              "      <td>0</td>\n",
              "      <td>1.5</td>\n",
              "      <td>0</td>\n",
              "      <td>(0)</td>\n",
              "      <td>0.10</td>\n",
              "      <td>0.03</td>\n",
              "      <td>3.0</td>\n",
              "      <td>(5.0)</td>\n",
              "      <td>0.24</td>\n",
              "      <td>(0)</td>\n",
              "      <td>29</td>\n",
              "      <td>0.66</td>\n",
              "      <td>-</td>\n",
              "      <td>(0)</td>\n",
              "      <td>-</td>\n",
              "      <td>0</td>\n",
              "      <td>別名： こうりゃん、ソルガム、たかきび、マイロ\\n歩留り： 70～80 %</td>\n",
              "    </tr>\n",
              "    <tr>\n",
              "      <th>214</th>\n",
              "      <td>1.0</td>\n",
              "      <td>01142</td>\n",
              "      <td>204</td>\n",
              "      <td>ライむぎ　全粒粉</td>\n",
              "      <td>0</td>\n",
              "      <td>1342</td>\n",
              "      <td>317</td>\n",
              "      <td>12.5</td>\n",
              "      <td>10.8</td>\n",
              "      <td>12.7</td>\n",
              "      <td>(2.0)</td>\n",
              "      <td>(0)</td>\n",
              "      <td>2.7</td>\n",
              "      <td>61.2</td>\n",
              "      <td>*</td>\n",
              "      <td>55.7</td>\n",
              "      <td>60.0</td>\n",
              "      <td>NaN</td>\n",
              "      <td>13.3</td>\n",
              "      <td>-</td>\n",
              "      <td>70.7</td>\n",
              "      <td>-</td>\n",
              "      <td>1.4</td>\n",
              "      <td>1</td>\n",
              "      <td>400</td>\n",
              "      <td>31</td>\n",
              "      <td>100</td>\n",
              "      <td>290</td>\n",
              "      <td>3.5</td>\n",
              "      <td>3.5</td>\n",
              "      <td>0.44</td>\n",
              "      <td>2.15</td>\n",
              "      <td>NaN</td>\n",
              "      <td>0</td>\n",
              "      <td>2</td>\n",
              "      <td>1</td>\n",
              "      <td>65</td>\n",
              "      <td>(0)</td>\n",
              "      <td>-</td>\n",
              "      <td>-</td>\n",
              "      <td>-</td>\n",
              "      <td>(0)</td>\n",
              "      <td>(0)</td>\n",
              "      <td>(0)</td>\n",
              "      <td>1.0</td>\n",
              "      <td>0.3</td>\n",
              "      <td>0</td>\n",
              "      <td>0</td>\n",
              "      <td>(0)</td>\n",
              "      <td>0.47</td>\n",
              "      <td>0.20</td>\n",
              "      <td>1.7</td>\n",
              "      <td>4.2</td>\n",
              "      <td>0.22</td>\n",
              "      <td>(0)</td>\n",
              "      <td>65</td>\n",
              "      <td>0.87</td>\n",
              "      <td>9.5</td>\n",
              "      <td>0</td>\n",
              "      <td>-</td>\n",
              "      <td>0</td>\n",
              "      <td>別名：黒麦（くろむぎ）</td>\n",
              "    </tr>\n",
              "    <tr>\n",
              "      <th>215</th>\n",
              "      <td>1.0</td>\n",
              "      <td>01143</td>\n",
              "      <td>205</td>\n",
              "      <td>ライむぎ　ライ麦粉</td>\n",
              "      <td>0</td>\n",
              "      <td>1368</td>\n",
              "      <td>324</td>\n",
              "      <td>13.5</td>\n",
              "      <td>7.8</td>\n",
              "      <td>8.5</td>\n",
              "      <td>1.2</td>\n",
              "      <td>(0)</td>\n",
              "      <td>1.6</td>\n",
              "      <td>64.4</td>\n",
              "      <td>NaN</td>\n",
              "      <td>58.6</td>\n",
              "      <td>64.0</td>\n",
              "      <td>*</td>\n",
              "      <td>12.9</td>\n",
              "      <td>-</td>\n",
              "      <td>75.8</td>\n",
              "      <td>-</td>\n",
              "      <td>0.6</td>\n",
              "      <td>1</td>\n",
              "      <td>140</td>\n",
              "      <td>25</td>\n",
              "      <td>30</td>\n",
              "      <td>140</td>\n",
              "      <td>1.5</td>\n",
              "      <td>0.7</td>\n",
              "      <td>0.11</td>\n",
              "      <td>-</td>\n",
              "      <td>NaN</td>\n",
              "      <td>-</td>\n",
              "      <td>-</td>\n",
              "      <td>-</td>\n",
              "      <td>-</td>\n",
              "      <td>(0)</td>\n",
              "      <td>-</td>\n",
              "      <td>-</td>\n",
              "      <td>-</td>\n",
              "      <td>(0)</td>\n",
              "      <td>(0)</td>\n",
              "      <td>(0)</td>\n",
              "      <td>0.7</td>\n",
              "      <td>0.3</td>\n",
              "      <td>0</td>\n",
              "      <td>0</td>\n",
              "      <td>(0)</td>\n",
              "      <td>0.15</td>\n",
              "      <td>0.07</td>\n",
              "      <td>0.9</td>\n",
              "      <td>2.6</td>\n",
              "      <td>0.10</td>\n",
              "      <td>(0)</td>\n",
              "      <td>34</td>\n",
              "      <td>0.63</td>\n",
              "      <td>-</td>\n",
              "      <td>(0)</td>\n",
              "      <td>-</td>\n",
              "      <td>0</td>\n",
              "      <td>別名:黒麦（くろむぎ）\\n歩留り： 65～75 %</td>\n",
              "    </tr>\n",
              "  </tbody>\n",
              "</table>\n",
              "<p>216 rows × 62 columns</p>\n",
              "</div>"
            ],
            "text/plain": [
              "     Unnamed: 0 Unnamed: 1  ... Unnamed: 60                         更新日：2021年2 月○日\n",
              "0           NaN    食　品　番　号  ...         NaN                                   備　　考\n",
              "1           NaN        NaN  ...       食塩相当量                                    NaN\n",
              "2           NaN        NaN  ...         NaN                                    NaN\n",
              "3           NaN        NaN  ...         NaN                                    NaN\n",
              "4           NaN        NaN  ...         NaN                                    NaN\n",
              "..          ...        ...  ...         ...                                    ...\n",
              "211         1.0      01139  ...          Tr                           歩留り： 55～60 %\n",
              "212         1.0      01140  ...           0                別名： こうりゃん、ソルガム、たかきび、マイロ\n",
              "213         1.0      01141  ...           0  別名： こうりゃん、ソルガム、たかきび、マイロ\\n歩留り： 70～80 %\n",
              "214         1.0      01142  ...           0                            別名：黒麦（くろむぎ）\n",
              "215         1.0      01143  ...           0              別名:黒麦（くろむぎ）\\n歩留り： 65～75 %\n",
              "\n",
              "[216 rows x 62 columns]"
            ]
          },
          "metadata": {},
          "execution_count": 11
        }
      ]
    },
    {
      "cell_type": "markdown",
      "metadata": {
        "id": "xew_ouFxVnLl"
      },
      "source": [
        "同じものが得られている。\n"
      ]
    },
    {
      "cell_type": "markdown",
      "metadata": {
        "id": "pPBxyiV2oVKV"
      },
      "source": [
        "### データの整形\n",
        "\n",
        "次に、今取得したデータフレームのままでは少々扱い辛いので\"整形\"を考える。  \n",
        "というのも前から4行ほど表示してみると..."
      ]
    },
    {
      "cell_type": "code",
      "metadata": {
        "id": "NKcdOLCMV3qM",
        "outputId": "556e8017-3e63-434e-c844-000f647b8779",
        "colab": {
          "base_uri": "https://localhost:8080/",
          "height": 473
        }
      },
      "source": [
        "df[0:4] "
      ],
      "execution_count": 12,
      "outputs": [
        {
          "output_type": "execute_result",
          "data": {
            "text/html": [
              "<div>\n",
              "<style scoped>\n",
              "    .dataframe tbody tr th:only-of-type {\n",
              "        vertical-align: middle;\n",
              "    }\n",
              "\n",
              "    .dataframe tbody tr th {\n",
              "        vertical-align: top;\n",
              "    }\n",
              "\n",
              "    .dataframe thead th {\n",
              "        text-align: right;\n",
              "    }\n",
              "</style>\n",
              "<table border=\"1\" class=\"dataframe\">\n",
              "  <thead>\n",
              "    <tr style=\"text-align: right;\">\n",
              "      <th></th>\n",
              "      <th>Unnamed: 0</th>\n",
              "      <th>Unnamed: 1</th>\n",
              "      <th>Unnamed: 2</th>\n",
              "      <th>Unnamed: 3</th>\n",
              "      <th>Unnamed: 4</th>\n",
              "      <th>Unnamed: 5</th>\n",
              "      <th>Unnamed: 6</th>\n",
              "      <th>Unnamed: 7</th>\n",
              "      <th>Unnamed: 8</th>\n",
              "      <th>Unnamed: 9</th>\n",
              "      <th>Unnamed: 10</th>\n",
              "      <th>Unnamed: 11</th>\n",
              "      <th>Unnamed: 12</th>\n",
              "      <th>Unnamed: 13</th>\n",
              "      <th>Unnamed: 14</th>\n",
              "      <th>Unnamed: 15</th>\n",
              "      <th>Unnamed: 16</th>\n",
              "      <th>Unnamed: 17</th>\n",
              "      <th>Unnamed: 18</th>\n",
              "      <th>Unnamed: 19</th>\n",
              "      <th>Unnamed: 20</th>\n",
              "      <th>Unnamed: 21</th>\n",
              "      <th>Unnamed: 22</th>\n",
              "      <th>Unnamed: 23</th>\n",
              "      <th>Unnamed: 24</th>\n",
              "      <th>Unnamed: 25</th>\n",
              "      <th>Unnamed: 26</th>\n",
              "      <th>Unnamed: 27</th>\n",
              "      <th>Unnamed: 28</th>\n",
              "      <th>Unnamed: 29</th>\n",
              "      <th>Unnamed: 30</th>\n",
              "      <th>Unnamed: 31</th>\n",
              "      <th>Unnamed: 32</th>\n",
              "      <th>Unnamed: 33</th>\n",
              "      <th>Unnamed: 34</th>\n",
              "      <th>Unnamed: 35</th>\n",
              "      <th>Unnamed: 36</th>\n",
              "      <th>Unnamed: 37</th>\n",
              "      <th>Unnamed: 38</th>\n",
              "      <th>Unnamed: 39</th>\n",
              "      <th>Unnamed: 40</th>\n",
              "      <th>Unnamed: 41</th>\n",
              "      <th>Unnamed: 42</th>\n",
              "      <th>Unnamed: 43</th>\n",
              "      <th>Unnamed: 44</th>\n",
              "      <th>Unnamed: 45</th>\n",
              "      <th>Unnamed: 46</th>\n",
              "      <th>Unnamed: 47</th>\n",
              "      <th>Unnamed: 48</th>\n",
              "      <th>Unnamed: 49</th>\n",
              "      <th>Unnamed: 50</th>\n",
              "      <th>Unnamed: 51</th>\n",
              "      <th>Unnamed: 52</th>\n",
              "      <th>Unnamed: 53</th>\n",
              "      <th>Unnamed: 54</th>\n",
              "      <th>Unnamed: 55</th>\n",
              "      <th>Unnamed: 56</th>\n",
              "      <th>Unnamed: 57</th>\n",
              "      <th>Unnamed: 58</th>\n",
              "      <th>Unnamed: 59</th>\n",
              "      <th>Unnamed: 60</th>\n",
              "      <th>更新日：2021年2 月○日</th>\n",
              "    </tr>\n",
              "  </thead>\n",
              "  <tbody>\n",
              "    <tr>\n",
              "      <th>0</th>\n",
              "      <td>NaN</td>\n",
              "      <td>食　品　番　号</td>\n",
              "      <td>索　引　番　号</td>\n",
              "      <td>可　　食　　部　　 100　　g　　当　　た　　り</td>\n",
              "      <td>NaN</td>\n",
              "      <td>NaN</td>\n",
              "      <td>NaN</td>\n",
              "      <td>NaN</td>\n",
              "      <td>NaN</td>\n",
              "      <td>NaN</td>\n",
              "      <td>NaN</td>\n",
              "      <td>NaN</td>\n",
              "      <td>NaN</td>\n",
              "      <td>NaN</td>\n",
              "      <td>NaN</td>\n",
              "      <td>NaN</td>\n",
              "      <td>NaN</td>\n",
              "      <td>NaN</td>\n",
              "      <td>NaN</td>\n",
              "      <td>NaN</td>\n",
              "      <td>NaN</td>\n",
              "      <td>NaN</td>\n",
              "      <td>NaN</td>\n",
              "      <td>NaN</td>\n",
              "      <td>NaN</td>\n",
              "      <td>NaN</td>\n",
              "      <td>NaN</td>\n",
              "      <td>NaN</td>\n",
              "      <td>NaN</td>\n",
              "      <td>NaN</td>\n",
              "      <td>NaN</td>\n",
              "      <td>NaN</td>\n",
              "      <td>NaN</td>\n",
              "      <td>可　　食　　部　　 100　 g　　当　　た　　り</td>\n",
              "      <td>NaN</td>\n",
              "      <td>NaN</td>\n",
              "      <td>NaN</td>\n",
              "      <td>NaN</td>\n",
              "      <td>NaN</td>\n",
              "      <td>NaN</td>\n",
              "      <td>NaN</td>\n",
              "      <td>NaN</td>\n",
              "      <td>NaN</td>\n",
              "      <td>NaN</td>\n",
              "      <td>NaN</td>\n",
              "      <td>NaN</td>\n",
              "      <td>NaN</td>\n",
              "      <td>NaN</td>\n",
              "      <td>NaN</td>\n",
              "      <td>NaN</td>\n",
              "      <td>NaN</td>\n",
              "      <td>NaN</td>\n",
              "      <td>NaN</td>\n",
              "      <td>NaN</td>\n",
              "      <td>NaN</td>\n",
              "      <td>NaN</td>\n",
              "      <td>NaN</td>\n",
              "      <td>NaN</td>\n",
              "      <td>NaN</td>\n",
              "      <td>NaN</td>\n",
              "      <td>NaN</td>\n",
              "      <td>備　　考</td>\n",
              "    </tr>\n",
              "    <tr>\n",
              "      <th>1</th>\n",
              "      <td>NaN</td>\n",
              "      <td>NaN</td>\n",
              "      <td>NaN</td>\n",
              "      <td>食　品　名</td>\n",
              "      <td>廃　棄　率</td>\n",
              "      <td>エネルギー</td>\n",
              "      <td>NaN</td>\n",
              "      <td>水　分</td>\n",
              "      <td>たんぱく質</td>\n",
              "      <td>NaN</td>\n",
              "      <td>脂質</td>\n",
              "      <td>NaN</td>\n",
              "      <td>NaN</td>\n",
              "      <td>炭水化物</td>\n",
              "      <td>NaN</td>\n",
              "      <td>NaN</td>\n",
              "      <td>NaN</td>\n",
              "      <td>NaN</td>\n",
              "      <td>NaN</td>\n",
              "      <td>NaN</td>\n",
              "      <td>NaN</td>\n",
              "      <td>有機酸</td>\n",
              "      <td>灰\\n\\n分</td>\n",
              "      <td>無 機 質</td>\n",
              "      <td>NaN</td>\n",
              "      <td>NaN</td>\n",
              "      <td>NaN</td>\n",
              "      <td>NaN</td>\n",
              "      <td>NaN</td>\n",
              "      <td>NaN</td>\n",
              "      <td>NaN</td>\n",
              "      <td>NaN</td>\n",
              "      <td>NaN</td>\n",
              "      <td>無機質</td>\n",
              "      <td>NaN</td>\n",
              "      <td>NaN</td>\n",
              "      <td>NaN</td>\n",
              "      <td>ビ　　タ　　ミ　　ン</td>\n",
              "      <td>NaN</td>\n",
              "      <td>NaN</td>\n",
              "      <td>NaN</td>\n",
              "      <td>NaN</td>\n",
              "      <td>NaN</td>\n",
              "      <td>NaN</td>\n",
              "      <td>NaN</td>\n",
              "      <td>NaN</td>\n",
              "      <td>NaN</td>\n",
              "      <td>NaN</td>\n",
              "      <td>NaN</td>\n",
              "      <td>NaN</td>\n",
              "      <td>NaN</td>\n",
              "      <td>NaN</td>\n",
              "      <td>NaN</td>\n",
              "      <td>NaN</td>\n",
              "      <td>NaN</td>\n",
              "      <td>NaN</td>\n",
              "      <td>NaN</td>\n",
              "      <td>NaN</td>\n",
              "      <td>NaN</td>\n",
              "      <td>アルコール</td>\n",
              "      <td>食塩相当量</td>\n",
              "      <td>NaN</td>\n",
              "    </tr>\n",
              "    <tr>\n",
              "      <th>2</th>\n",
              "      <td>NaN</td>\n",
              "      <td>NaN</td>\n",
              "      <td>NaN</td>\n",
              "      <td>NaN</td>\n",
              "      <td>NaN</td>\n",
              "      <td>NaN</td>\n",
              "      <td>NaN</td>\n",
              "      <td>NaN</td>\n",
              "      <td>アミノ酸組成による\\nたんぱく質</td>\n",
              "      <td>たんぱく質</td>\n",
              "      <td>脂肪酸の\\nトリアシルグリセロール当量</td>\n",
              "      <td>コレステロール</td>\n",
              "      <td>脂質</td>\n",
              "      <td>利用可能炭水化物</td>\n",
              "      <td>NaN</td>\n",
              "      <td>NaN</td>\n",
              "      <td>NaN</td>\n",
              "      <td>NaN</td>\n",
              "      <td>食物繊維総量</td>\n",
              "      <td>糖アルコール</td>\n",
              "      <td>炭水化物</td>\n",
              "      <td>NaN</td>\n",
              "      <td>NaN</td>\n",
              "      <td>ナ ト リ ウ ム</td>\n",
              "      <td>カ　リ　ウ　ム</td>\n",
              "      <td>カ ル シ ウ ム</td>\n",
              "      <td>マ グ ネ シ ウ ム</td>\n",
              "      <td>リ　ン</td>\n",
              "      <td>鉄</td>\n",
              "      <td>亜　鉛</td>\n",
              "      <td>銅</td>\n",
              "      <td>マ　ン　ガ　ン</td>\n",
              "      <td>NaN</td>\n",
              "      <td>ヨ　ウ　素</td>\n",
              "      <td>セ　レ　ン</td>\n",
              "      <td>ク　ロ　ム</td>\n",
              "      <td>モリブデン</td>\n",
              "      <td>ビタミンA</td>\n",
              "      <td>NaN</td>\n",
              "      <td>NaN</td>\n",
              "      <td>NaN</td>\n",
              "      <td>NaN</td>\n",
              "      <td>NaN</td>\n",
              "      <td>ビタミンD</td>\n",
              "      <td>ビタミンE</td>\n",
              "      <td>NaN</td>\n",
              "      <td>NaN</td>\n",
              "      <td>NaN</td>\n",
              "      <td>ビタミンK</td>\n",
              "      <td>ビ\\nタ\\nミ\\nン\\nＢ１</td>\n",
              "      <td>ビ\\nタ\\nミ\\nン\\nB２</td>\n",
              "      <td>ナイアシン</td>\n",
              "      <td>ナイアシン当量</td>\n",
              "      <td>ビ\\nタ\\nミ\\nン\\nＢ６</td>\n",
              "      <td>ビ\\nタ\\nミ\\nン\\nＢ１２</td>\n",
              "      <td>葉　酸</td>\n",
              "      <td>パントテン酸</td>\n",
              "      <td>ビ オ チ ン</td>\n",
              "      <td>ビタミンC</td>\n",
              "      <td>NaN</td>\n",
              "      <td>NaN</td>\n",
              "      <td>NaN</td>\n",
              "    </tr>\n",
              "    <tr>\n",
              "      <th>3</th>\n",
              "      <td>NaN</td>\n",
              "      <td>NaN</td>\n",
              "      <td>NaN</td>\n",
              "      <td>NaN</td>\n",
              "      <td>NaN</td>\n",
              "      <td>NaN</td>\n",
              "      <td>NaN</td>\n",
              "      <td>NaN</td>\n",
              "      <td>NaN</td>\n",
              "      <td>NaN</td>\n",
              "      <td>NaN</td>\n",
              "      <td>NaN</td>\n",
              "      <td>NaN</td>\n",
              "      <td>利用可能炭水化物\\n（単糖当量）</td>\n",
              "      <td>NaN</td>\n",
              "      <td>利用可能炭水化物\\n（質量計）</td>\n",
              "      <td>差引き法による\\n利用可能炭水化物</td>\n",
              "      <td>NaN</td>\n",
              "      <td>NaN</td>\n",
              "      <td>NaN</td>\n",
              "      <td>NaN</td>\n",
              "      <td>NaN</td>\n",
              "      <td>NaN</td>\n",
              "      <td>NaN</td>\n",
              "      <td>NaN</td>\n",
              "      <td>NaN</td>\n",
              "      <td>NaN</td>\n",
              "      <td>NaN</td>\n",
              "      <td>NaN</td>\n",
              "      <td>NaN</td>\n",
              "      <td>NaN</td>\n",
              "      <td>NaN</td>\n",
              "      <td>NaN</td>\n",
              "      <td>NaN</td>\n",
              "      <td>NaN</td>\n",
              "      <td>NaN</td>\n",
              "      <td>NaN</td>\n",
              "      <td>NaN</td>\n",
              "      <td>NaN</td>\n",
              "      <td>NaN</td>\n",
              "      <td>NaN</td>\n",
              "      <td>NaN</td>\n",
              "      <td>レチノール活性当量</td>\n",
              "      <td>NaN</td>\n",
              "      <td>α|トコフェロール</td>\n",
              "      <td>β|トコフェロール</td>\n",
              "      <td>γ|トコフェロール</td>\n",
              "      <td>δ|トコフェロール</td>\n",
              "      <td>NaN</td>\n",
              "      <td>NaN</td>\n",
              "      <td>NaN</td>\n",
              "      <td>NaN</td>\n",
              "      <td>NaN</td>\n",
              "      <td>NaN</td>\n",
              "      <td>NaN</td>\n",
              "      <td>NaN</td>\n",
              "      <td>NaN</td>\n",
              "      <td>NaN</td>\n",
              "      <td>NaN</td>\n",
              "      <td>NaN</td>\n",
              "      <td>NaN</td>\n",
              "      <td>NaN</td>\n",
              "    </tr>\n",
              "  </tbody>\n",
              "</table>\n",
              "</div>"
            ],
            "text/plain": [
              "   Unnamed: 0 Unnamed: 1 Unnamed: 2  ... Unnamed: 59 Unnamed: 60 更新日：2021年2 月○日\n",
              "0         NaN    食　品　番　号    索　引　番　号  ...         NaN         NaN           備　　考\n",
              "1         NaN        NaN        NaN  ...       アルコール       食塩相当量            NaN\n",
              "2         NaN        NaN        NaN  ...         NaN         NaN            NaN\n",
              "3         NaN        NaN        NaN  ...         NaN         NaN            NaN\n",
              "\n",
              "[4 rows x 62 columns]"
            ]
          },
          "metadata": {},
          "execution_count": 12
        }
      ]
    },
    {
      "cell_type": "markdown",
      "metadata": {
        "id": "CULET-99WJ3D"
      },
      "source": [
        "最初の4行ほどに栄養素等の情報が入っているのだが、  \n",
        "セルが結合されたりしているため、所々にNaNが入っていたりして見辛い。\n",
        "\n",
        "(碁盤目の構造を破壊してしまうため「セルの結合」は機械的な処理と  \n",
        "やや相性が悪く、プログラミングを用いたデータ分析では嫌われる)\n",
        "\n",
        "各省庁の公開データのフォーマットの統一化は今後に期待することにして...  \n",
        "まず以下の項目に該当する列だけを抽出する事を考える。\n",
        "\n"
      ]
    },
    {
      "cell_type": "code",
      "metadata": {
        "id": "Jhdp9z7cZm97"
      },
      "source": [
        "targets = [\"食品名\", \"エネルギー\",\"たんぱく質\", \"脂質\", \"炭水化物\"]"
      ],
      "execution_count": 13,
      "outputs": []
    },
    {
      "cell_type": "markdown",
      "metadata": {
        "id": "zGrqpS-6jhaK"
      },
      "source": [
        "該当するデータがどの行・列に格納されているかをコードで指定するのは、  \n",
        "前述のファイル構造の事情からやや面倒くさい。  \n",
        "\n",
        "以下では、その場しのぎ的ではあるが、  \n",
        "興味のある量が何番目かを指定してまとめてみることにしよう。\n",
        "\n",
        "そのために、1行目の要素を表示してみよう。"
      ]
    },
    {
      "cell_type": "code",
      "metadata": {
        "id": "yZ-IVG2Ma30o",
        "outputId": "2a81b6dc-055b-4a6c-c356-6a4c28898436",
        "colab": {
          "base_uri": "https://localhost:8080/"
        }
      },
      "source": [
        "#1行目(エクセルだと2行目)の要素を表示してみる\n",
        "print(list(df.iloc[0].values))\n",
        "\n",
        "#半角空白, 全角空白(\\u3000)や改行コード\\nを取り除いたリストを作って表示してみる\n",
        "tlist = list(map( lambda s: str(s).replace(\"\\u3000\",\"\").replace(\"\\n\",\"\").replace(\" \",\"\"),df.iloc[0].values))\n",
        "print(tlist)\n"
      ],
      "execution_count": 14,
      "outputs": [
        {
          "output_type": "stream",
          "name": "stdout",
          "text": [
            "[nan, '食\\u3000品\\u3000番\\u3000号', '索\\u3000引\\u3000番\\u3000号', '可\\u3000\\u3000食\\u3000\\u3000部\\u3000\\u3000 100\\u3000\\u3000g\\u3000\\u3000当\\u3000\\u3000た\\u3000\\u3000り', nan, nan, nan, nan, nan, nan, nan, nan, nan, nan, nan, nan, nan, nan, nan, nan, nan, nan, nan, nan, nan, nan, nan, nan, nan, nan, nan, nan, nan, '可\\u3000\\u3000食\\u3000\\u3000部\\u3000\\u3000 100\\u3000 g\\u3000\\u3000当\\u3000\\u3000た\\u3000\\u3000り', nan, nan, nan, nan, nan, nan, nan, nan, nan, nan, nan, nan, nan, nan, nan, nan, nan, nan, nan, nan, nan, nan, nan, nan, nan, nan, nan, '備\\u3000\\u3000考']\n",
            "['nan', '食品番号', '索引番号', '可食部100g当たり', 'nan', 'nan', 'nan', 'nan', 'nan', 'nan', 'nan', 'nan', 'nan', 'nan', 'nan', 'nan', 'nan', 'nan', 'nan', 'nan', 'nan', 'nan', 'nan', 'nan', 'nan', 'nan', 'nan', 'nan', 'nan', 'nan', 'nan', 'nan', 'nan', '可食部100g当たり', 'nan', 'nan', 'nan', 'nan', 'nan', 'nan', 'nan', 'nan', 'nan', 'nan', 'nan', 'nan', 'nan', 'nan', 'nan', 'nan', 'nan', 'nan', 'nan', 'nan', 'nan', 'nan', 'nan', 'nan', 'nan', 'nan', 'nan', '備考']\n"
          ]
        }
      ]
    },
    {
      "cell_type": "markdown",
      "metadata": {
        "id": "KEaiS1EAiWDY"
      },
      "source": [
        "セルの結合により、興味のあるデータがどの列に記述されているかは注意が必要。  \n",
        "\n",
        "実際、[エネルギー]という文字列は1行目の6列目(それぞれインデックスでいうと0,5)で取得できるが、  \n",
        "kJ単位になっていて、kcal単位でほしければ、7列目に格納された値が必要になる。  \n",
        "\n",
        "また、エクセルファイルを見るとわかるように、たんぱく質・脂質・炭水化物はさらに細分化されており、  \n",
        "O列R列など、細かい列の分割が挿入されている. ~~これは大変困る~~\n",
        "\n",
        "単純にたんぱく質・脂質・炭水化物と表記されている列のインデックスはそれぞれ9,12,20となる。  \n",
        "食品名が格納されている列(3)、エネルギー[kJ単位] (6)と合わせて確認してみよう。"
      ]
    },
    {
      "cell_type": "code",
      "metadata": {
        "id": "U-Hzne6VgWf3",
        "outputId": "79709503-9ee6-4ec4-b51e-de8b854e1409",
        "colab": {
          "base_uri": "https://localhost:8080/",
          "height": 424
        }
      },
      "source": [
        "df.iloc[:,[3,6,9,12,20]]"
      ],
      "execution_count": 15,
      "outputs": [
        {
          "output_type": "execute_result",
          "data": {
            "text/html": [
              "<div>\n",
              "<style scoped>\n",
              "    .dataframe tbody tr th:only-of-type {\n",
              "        vertical-align: middle;\n",
              "    }\n",
              "\n",
              "    .dataframe tbody tr th {\n",
              "        vertical-align: top;\n",
              "    }\n",
              "\n",
              "    .dataframe thead th {\n",
              "        text-align: right;\n",
              "    }\n",
              "</style>\n",
              "<table border=\"1\" class=\"dataframe\">\n",
              "  <thead>\n",
              "    <tr style=\"text-align: right;\">\n",
              "      <th></th>\n",
              "      <th>Unnamed: 3</th>\n",
              "      <th>Unnamed: 6</th>\n",
              "      <th>Unnamed: 9</th>\n",
              "      <th>Unnamed: 12</th>\n",
              "      <th>Unnamed: 20</th>\n",
              "    </tr>\n",
              "  </thead>\n",
              "  <tbody>\n",
              "    <tr>\n",
              "      <th>0</th>\n",
              "      <td>可　　食　　部　　 100　　g　　当　　た　　り</td>\n",
              "      <td>NaN</td>\n",
              "      <td>NaN</td>\n",
              "      <td>NaN</td>\n",
              "      <td>NaN</td>\n",
              "    </tr>\n",
              "    <tr>\n",
              "      <th>1</th>\n",
              "      <td>食　品　名</td>\n",
              "      <td>NaN</td>\n",
              "      <td>NaN</td>\n",
              "      <td>NaN</td>\n",
              "      <td>NaN</td>\n",
              "    </tr>\n",
              "    <tr>\n",
              "      <th>2</th>\n",
              "      <td>NaN</td>\n",
              "      <td>NaN</td>\n",
              "      <td>たんぱく質</td>\n",
              "      <td>脂質</td>\n",
              "      <td>炭水化物</td>\n",
              "    </tr>\n",
              "    <tr>\n",
              "      <th>3</th>\n",
              "      <td>NaN</td>\n",
              "      <td>NaN</td>\n",
              "      <td>NaN</td>\n",
              "      <td>NaN</td>\n",
              "      <td>NaN</td>\n",
              "    </tr>\n",
              "    <tr>\n",
              "      <th>4</th>\n",
              "      <td>NaN</td>\n",
              "      <td>NaN</td>\n",
              "      <td>NaN</td>\n",
              "      <td>NaN</td>\n",
              "      <td>NaN</td>\n",
              "    </tr>\n",
              "    <tr>\n",
              "      <th>...</th>\n",
              "      <td>...</td>\n",
              "      <td>...</td>\n",
              "      <td>...</td>\n",
              "      <td>...</td>\n",
              "      <td>...</td>\n",
              "    </tr>\n",
              "    <tr>\n",
              "      <th>211</th>\n",
              "      <td>ひえ　精白粒</td>\n",
              "      <td>361</td>\n",
              "      <td>9.4</td>\n",
              "      <td>3.3</td>\n",
              "      <td>73.2</td>\n",
              "    </tr>\n",
              "    <tr>\n",
              "      <th>212</th>\n",
              "      <td>もろこし　玄穀</td>\n",
              "      <td>344</td>\n",
              "      <td>10.3</td>\n",
              "      <td>4.7</td>\n",
              "      <td>71.1</td>\n",
              "    </tr>\n",
              "    <tr>\n",
              "      <th>213</th>\n",
              "      <td>もろこし　精白粒</td>\n",
              "      <td>348</td>\n",
              "      <td>9.5</td>\n",
              "      <td>2.6</td>\n",
              "      <td>74.1</td>\n",
              "    </tr>\n",
              "    <tr>\n",
              "      <th>214</th>\n",
              "      <td>ライむぎ　全粒粉</td>\n",
              "      <td>317</td>\n",
              "      <td>12.7</td>\n",
              "      <td>2.7</td>\n",
              "      <td>70.7</td>\n",
              "    </tr>\n",
              "    <tr>\n",
              "      <th>215</th>\n",
              "      <td>ライむぎ　ライ麦粉</td>\n",
              "      <td>324</td>\n",
              "      <td>8.5</td>\n",
              "      <td>1.6</td>\n",
              "      <td>75.8</td>\n",
              "    </tr>\n",
              "  </tbody>\n",
              "</table>\n",
              "<p>216 rows × 5 columns</p>\n",
              "</div>"
            ],
            "text/plain": [
              "                    Unnamed: 3 Unnamed: 6 Unnamed: 9 Unnamed: 12 Unnamed: 20\n",
              "0    可　　食　　部　　 100　　g　　当　　た　　り        NaN        NaN         NaN         NaN\n",
              "1                        食　品　名        NaN        NaN         NaN         NaN\n",
              "2                          NaN        NaN      たんぱく質          脂質        炭水化物\n",
              "3                          NaN        NaN        NaN         NaN         NaN\n",
              "4                          NaN        NaN        NaN         NaN         NaN\n",
              "..                         ...        ...        ...         ...         ...\n",
              "211                     ひえ　精白粒        361        9.4         3.3        73.2\n",
              "212                    もろこし　玄穀        344       10.3         4.7        71.1\n",
              "213                   もろこし　精白粒        348        9.5         2.6        74.1\n",
              "214                   ライむぎ　全粒粉        317       12.7         2.7        70.7\n",
              "215                  ライむぎ　ライ麦粉        324        8.5         1.6        75.8\n",
              "\n",
              "[216 rows x 5 columns]"
            ]
          },
          "metadata": {},
          "execution_count": 15
        }
      ]
    },
    {
      "cell_type": "markdown",
      "metadata": {
        "id": "LNk4oIypmpTe"
      },
      "source": [
        "もう少し整形したいので、新しいデータフレームのコラムを書き換える。\n",
        "\n",
        "食品名等が記載されているのは10行目以降なので、それを使い  \n",
        "columnを指定する。\n",
        "\n",
        "さらに、食品名に含まれる余分な文字コードも削除しておこう。"
      ]
    },
    {
      "cell_type": "code",
      "metadata": {
        "id": "ZWkaRBZynATr",
        "outputId": "95929484-7b13-4055-9227-c2c6e63a4c69",
        "colab": {
          "base_uri": "https://localhost:8080/",
          "height": 424
        }
      },
      "source": [
        "ndf = df.iloc[:,[3,6,9,12,20]] \n",
        "ndf = ndf.iloc[10:,:]\n",
        "ndf.columns=[\"食品名\",\"エネルギー(kcal)\",\"たんぱく質(g)\",\"脂質(g)\",\"炭水化物(g)\"]\n",
        "ndf[\"食品名\"] = ndf[\"食品名\"].str.replace(\"\\u3000\",\" \") # 食品名の中にある余分な全角空白(\\u3000)を半角スペースに置き換える\n",
        "ndf"
      ],
      "execution_count": 16,
      "outputs": [
        {
          "output_type": "execute_result",
          "data": {
            "text/html": [
              "<div>\n",
              "<style scoped>\n",
              "    .dataframe tbody tr th:only-of-type {\n",
              "        vertical-align: middle;\n",
              "    }\n",
              "\n",
              "    .dataframe tbody tr th {\n",
              "        vertical-align: top;\n",
              "    }\n",
              "\n",
              "    .dataframe thead th {\n",
              "        text-align: right;\n",
              "    }\n",
              "</style>\n",
              "<table border=\"1\" class=\"dataframe\">\n",
              "  <thead>\n",
              "    <tr style=\"text-align: right;\">\n",
              "      <th></th>\n",
              "      <th>食品名</th>\n",
              "      <th>エネルギー(kcal)</th>\n",
              "      <th>たんぱく質(g)</th>\n",
              "      <th>脂質(g)</th>\n",
              "      <th>炭水化物(g)</th>\n",
              "    </tr>\n",
              "  </thead>\n",
              "  <tbody>\n",
              "    <tr>\n",
              "      <th>10</th>\n",
              "      <td>成分識別子</td>\n",
              "      <td>ENERC_KCAL</td>\n",
              "      <td>PROT-</td>\n",
              "      <td>FAT-</td>\n",
              "      <td>CHOCDF-</td>\n",
              "    </tr>\n",
              "    <tr>\n",
              "      <th>11</th>\n",
              "      <td>アマランサス 玄穀</td>\n",
              "      <td>343</td>\n",
              "      <td>12.7</td>\n",
              "      <td>6.0</td>\n",
              "      <td>64.9</td>\n",
              "    </tr>\n",
              "    <tr>\n",
              "      <th>12</th>\n",
              "      <td>あわ 精白粒</td>\n",
              "      <td>346</td>\n",
              "      <td>11.2</td>\n",
              "      <td>4.4</td>\n",
              "      <td>69.7</td>\n",
              "    </tr>\n",
              "    <tr>\n",
              "      <th>13</th>\n",
              "      <td>あわ あわもち</td>\n",
              "      <td>210</td>\n",
              "      <td>5.1</td>\n",
              "      <td>1.3</td>\n",
              "      <td>45.3</td>\n",
              "    </tr>\n",
              "    <tr>\n",
              "      <th>14</th>\n",
              "      <td>えんばく オートミール</td>\n",
              "      <td>350</td>\n",
              "      <td>13.7</td>\n",
              "      <td>5.7</td>\n",
              "      <td>69.1</td>\n",
              "    </tr>\n",
              "    <tr>\n",
              "      <th>...</th>\n",
              "      <td>...</td>\n",
              "      <td>...</td>\n",
              "      <td>...</td>\n",
              "      <td>...</td>\n",
              "      <td>...</td>\n",
              "    </tr>\n",
              "    <tr>\n",
              "      <th>211</th>\n",
              "      <td>ひえ 精白粒</td>\n",
              "      <td>361</td>\n",
              "      <td>9.4</td>\n",
              "      <td>3.3</td>\n",
              "      <td>73.2</td>\n",
              "    </tr>\n",
              "    <tr>\n",
              "      <th>212</th>\n",
              "      <td>もろこし 玄穀</td>\n",
              "      <td>344</td>\n",
              "      <td>10.3</td>\n",
              "      <td>4.7</td>\n",
              "      <td>71.1</td>\n",
              "    </tr>\n",
              "    <tr>\n",
              "      <th>213</th>\n",
              "      <td>もろこし 精白粒</td>\n",
              "      <td>348</td>\n",
              "      <td>9.5</td>\n",
              "      <td>2.6</td>\n",
              "      <td>74.1</td>\n",
              "    </tr>\n",
              "    <tr>\n",
              "      <th>214</th>\n",
              "      <td>ライむぎ 全粒粉</td>\n",
              "      <td>317</td>\n",
              "      <td>12.7</td>\n",
              "      <td>2.7</td>\n",
              "      <td>70.7</td>\n",
              "    </tr>\n",
              "    <tr>\n",
              "      <th>215</th>\n",
              "      <td>ライむぎ ライ麦粉</td>\n",
              "      <td>324</td>\n",
              "      <td>8.5</td>\n",
              "      <td>1.6</td>\n",
              "      <td>75.8</td>\n",
              "    </tr>\n",
              "  </tbody>\n",
              "</table>\n",
              "<p>206 rows × 5 columns</p>\n",
              "</div>"
            ],
            "text/plain": [
              "             食品名 エネルギー(kcal) たんぱく質(g) 脂質(g)  炭水化物(g)\n",
              "10         成分識別子  ENERC_KCAL    PROT-  FAT-  CHOCDF-\n",
              "11     アマランサス 玄穀         343     12.7   6.0     64.9\n",
              "12        あわ 精白粒         346     11.2   4.4     69.7\n",
              "13       あわ あわもち         210      5.1   1.3     45.3\n",
              "14   えんばく オートミール         350     13.7   5.7     69.1\n",
              "..           ...         ...      ...   ...      ...\n",
              "211       ひえ 精白粒         361      9.4   3.3     73.2\n",
              "212      もろこし 玄穀         344     10.3   4.7     71.1\n",
              "213     もろこし 精白粒         348      9.5   2.6     74.1\n",
              "214     ライむぎ 全粒粉         317     12.7   2.7     70.7\n",
              "215    ライむぎ ライ麦粉         324      8.5   1.6     75.8\n",
              "\n",
              "[206 rows x 5 columns]"
            ]
          },
          "metadata": {},
          "execution_count": 16
        }
      ]
    },
    {
      "cell_type": "markdown",
      "metadata": {
        "id": "B5FN5MFcmECG"
      },
      "source": [
        "次に、食品名の一覧を取得した後、興味のあるもの(日常的に馴染みのあるもの)だけを  \n",
        "ピックアップしてみよう。"
      ]
    },
    {
      "cell_type": "code",
      "metadata": {
        "id": "_SI2LaqPmOK3",
        "outputId": "a2c7c01d-3657-4c61-88d6-8ac701c83ebd",
        "colab": {
          "base_uri": "https://localhost:8080/"
        }
      },
      "source": [
        "print(list(ndf[\"食品名\"]))"
      ],
      "execution_count": 17,
      "outputs": [
        {
          "output_type": "stream",
          "name": "stdout",
          "text": [
            "['成分識別子', 'アマランサス 玄穀', 'あわ 精白粒', 'あわ あわもち', 'えんばく オートミール', 'おおむぎ 七分つき押麦', 'おおむぎ 押麦 乾', 'おおむぎ 押麦 めし', 'おおむぎ 米粒麦', 'おおむぎ 大麦めん 乾', 'おおむぎ 大麦めん ゆで', 'おおむぎ 麦こがし', 'キヌア 玄穀', 'きび 精白粒', 'こむぎ ［玄穀］ 国産 普通', 'こむぎ ［玄穀］ 輸入 軟質', 'こむぎ ［玄穀］ 輸入 硬質', 'こむぎ ［小麦粉］ 薄力粉 1等', 'こむぎ ［小麦粉］ 薄力粉 2等', 'こむぎ ［小麦粉］ 中力粉 1等', 'こむぎ ［小麦粉］ 中力粉 2等', 'こむぎ ［小麦粉］ 強力粉 1等', 'こむぎ ［小麦粉］ 強力粉 2等', 'こむぎ ［小麦粉］ 強力粉 全粒粉', 'こむぎ ［小麦粉］ プレミックス粉 お好み焼き用', 'こむぎ ［小麦粉］ プレミックス粉 ホットケーキ用', 'こむぎ ［小麦粉］ プレミックス粉 から揚げ用', 'こむぎ ［小麦粉］ プレミックス粉 天ぷら用', 'こむぎ ［小麦粉］ プレミックス粉 天ぷら用 バッター', 'こむぎ ［小麦粉］ プレミックス粉 天ぷら用 バッター 揚げ', 'こむぎ ［パン類］ 角形食パン 食パン', 'こむぎ ［パン類］ 角形食パン 焼き', 'こむぎ ［パン類］ 角形食パン 耳を除いたもの', 'こむぎ ［パン類］ 角形食パン 耳', 'こむぎ ［パン類］ 食パン リーンタイプ', 'こむぎ ［パン類］ 食パン リッチタイプ', 'こむぎ ［パン類］ 山形食パン 食パン', 'こむぎ ［パン類］ コッペパン', 'こむぎ ［パン類］ 乾パン', 'こむぎ ［パン類］ フランスパン', 'こむぎ ［パン類］ ライ麦パン', 'こむぎ ［パン類］ 全粒粉パン', 'こむぎ ［パン類］ ぶどうパン', 'こむぎ ［パン類］ ロールパン', 'こむぎ ［パン類］ クロワッサン レギュラータイプ', 'こむぎ ［パン類］ クロワッサン リッチタイプ', 'こむぎ ［パン類］ くるみパン', 'こむぎ ［パン類］ イングリッシュマフィン', 'こむぎ ［パン類］ ナン', 'こむぎ ［パン類］ ベーグル', 'こむぎ ［うどん・そうめん類］ うどん 生', 'こむぎ ［うどん・そうめん類］ うどん ゆで', 'こむぎ ［うどん・そうめん類］ うどん 半生うどん', 'こむぎ ［うどん・そうめん類］ 干しうどん 乾', 'こむぎ ［うどん・そうめん類］ 干しうどん ゆで', 'こむぎ ［うどん・そうめん類］ そうめん・ひやむぎ 乾', 'こむぎ ［うどん・そうめん類］ そうめん・ひやむぎ ゆで', 'こむぎ ［うどん・そうめん類］ 手延そうめん・手延ひやむぎ 乾', 'こむぎ ［うどん・そうめん類］ 手延そうめん・手延ひやむぎ ゆで', 'こむぎ ［中華めん類］ 中華めん 生', 'こむぎ ［中華めん類］ 中華めん ゆで', 'こむぎ ［中華めん類］ 半生中華めん ', 'こむぎ ［中華めん類］ 蒸し中華めん 蒸し中華めん', 'こむぎ ［中華めん類］ 蒸し中華めん  ソテー', 'こむぎ ［中華めん類］ 干し中華めん 乾', 'こむぎ ［中華めん類］ 干し中華めん ゆで', 'こむぎ ［中華めん類］ 沖縄そば 生', 'こむぎ ［中華めん類］ 沖縄そば ゆで', 'こむぎ ［中華めん類］ 干し沖縄そば 乾', 'こむぎ ［中華めん類］ 干し沖縄そば ゆで', 'こむぎ ［即席めん類］ 即席中華めん 油揚げ味付け', 'こむぎ ［即席めん類］ 即席中華めん 油揚げ 乾 （添付調味料等を含むもの）', 'こむぎ ［即席めん類］ 即席中華めん 油揚げ 調理後全体 （添付調味料等を含むもの）', 'こむぎ ［即席めん類］ 即席中華めん 油揚げ ゆで （添付調味料等を含まないもの）', 'こむぎ ［即席めん類］ 即席中華めん 油揚げ 乾 （添付調味料等を含まないもの）', 'こむぎ ［即席めん類］ 即席中華めん 非油揚げ 乾 （添付調味料等を含むもの）', 'こむぎ ［即席めん類］ 即席中華めん 非油揚げ 調理後全体 （添付調味料等を含むもの）', 'こむぎ ［即席めん類］ 即席中華めん 非油揚げ ゆで （添付調味料等を含まないもの）', 'こむぎ ［即席めん類］ 即席中華めん 非油揚げ 乾 （添付調味料等を含まないもの）', 'こむぎ ［即席めん類］ 中華スタイル即席カップめん 油揚げ 塩味 乾 （添付調味料等を含むもの）', 'こむぎ ［即席めん類］ 中華スタイル即席カップめん 油揚げ 塩味 調理後全体 （添付調味料等を含むもの）', 'こむぎ ［即席めん類］ 中華スタイル即席カップめん 油揚げ 塩味 調理後のめん （スープを残したもの）', 'こむぎ ［即席めん類］ 中華スタイル即席カップめん 油揚げ しょうゆ味 乾 （添付調味料等を含むもの）', 'こむぎ ［即席めん類］ 中華スタイル即席カップめん 油揚げ しょうゆ味 調理後全体 （添付調味料等を含むもの）', 'こむぎ ［即席めん類］ 中華スタイル即席カップめん 油揚げ しょうゆ味 調理後のめん （スープを残したもの）', 'こむぎ ［即席めん類］ 中華スタイル即席カップめん 油揚げ 焼きそば 乾 （添付調味料等を含むもの）', 'こむぎ ［即席めん類］ 中華スタイル即席カップめん 油揚げ 焼きそば 調理後全体 （添付調味料等を含むもの）', 'こむぎ ［即席めん類］ 中華スタイル即席カップめん 非油揚げ 乾 （添付調味料等を含むもの）', 'こむぎ ［即席めん類］ 中華スタイル即席カップめん 非油揚げ 調理後全体 （添付調味料等を含むもの）', 'こむぎ ［即席めん類］ 中華スタイル即席カップめん 非油揚げ 調理後のめん （スープを残したもの）', 'こむぎ ［即席めん類］ 和風スタイル即席カップめん 油揚げ 乾 （添付調味料等を含むもの）', 'こむぎ ［即席めん類］ 和風スタイル即席カップめん 油揚げ 調理後全体 （添付調味料等を含むもの）', 'こむぎ ［即席めん類］ 和風スタイル即席カップめん 油揚げ 調理後のめん （スープを残したもの）', 'こむぎ ［マカロニ・スパゲッティ類］ マカロニ・スパゲッティ 乾', 'こむぎ ［マカロニ・スパゲッティ類］ マカロニ・スパゲッティ ゆで', 'こむぎ ［マカロニ・スパゲッティ類］ マカロニ・スパゲッティ ソテー', 'こむぎ ［マカロニ・スパゲッティ類］ 生パスタ 生', 'こむぎ ［ふ類］ 生ふ', 'こむぎ ［ふ類］ 焼きふ 釜焼きふ', 'こむぎ ［ふ類］ 焼きふ 板ふ', 'こむぎ ［ふ類］ 焼きふ 車ふ', 'こむぎ ［ふ類］ 油ふ', 'こむぎ ［その他］ 小麦はいが', 'こむぎ ［その他］ 小麦たんぱく 粉末状', 'こむぎ ［その他］ 小麦たんぱく 粒状', 'こむぎ ［その他］ 小麦たんぱく ペースト状', 'こむぎ ［その他］ かやきせんべい', 'こむぎ ［その他］ ぎょうざの皮 生', 'こむぎ ［その他］ しゅうまいの皮 生', 'こむぎ ［その他］ 春巻きの皮 生', 'こむぎ ［その他］ 春巻きの皮 揚げ', 'こむぎ ［その他］ ピザ生地', 'こむぎ ［その他］ ちくわぶ', 'こむぎ ［その他］ パン粉 生', 'こむぎ ［その他］ パン粉 半生', 'こむぎ ［その他］ パン粉 乾燥', 'こむぎ ［その他］ 冷めん 生', 'こめ ［水稲穀粒］ 玄米', 'こめ ［水稲穀粒］ 半つき米', 'こめ ［水稲穀粒］ 七分つき米', 'こめ ［水稲穀粒］ 精白米 うるち米', 'こめ ［水稲穀粒］ 精白米 もち米', 'こめ ［水稲穀粒］ 精白米 インディカ米', 'こめ ［水稲穀粒］ はいが精米', 'こめ ［水稲穀粒］ 発芽玄米', 'こめ ［水稲穀粒］ 赤米', 'こめ ［水稲穀粒］ 黒米', 'こめ ［水稲めし］ 玄米', 'こめ ［水稲めし］ 半つき米', 'こめ ［水稲めし］ 七分つき米', 'こめ ［水稲めし］ 精白米 インディカ米', 'こめ ［水稲めし］ 精白米 うるち米', 'こめ ［水稲めし］ 精白米 もち米', 'こめ ［水稲めし］ はいが精米', 'こめ ［水稲めし］ 発芽玄米', 'こめ ［水稲めし］ 赤米', 'こめ ［水稲めし］ 黒米', 'こめ ［水稲軟めし］ 精白米', 'こめ ［水稲全かゆ］ 玄米', 'こめ ［水稲全かゆ］ 半つき米', 'こめ ［水稲全かゆ］ 七分つき米', 'こめ ［水稲全かゆ］ 精白米', 'こめ ［水稲五分かゆ］ 玄米', 'こめ ［水稲五分かゆ］ 半つき米', 'こめ ［水稲五分かゆ］ 七分つき米', 'こめ ［水稲五分かゆ］ 精白米', 'こめ ［水稲おもゆ］ 玄米', 'こめ ［水稲おもゆ］ 半つき米', 'こめ ［水稲おもゆ］ 七分つき米', 'こめ ［水稲おもゆ］ 精白米', 'こめ ［陸稲穀粒］ 玄米', 'こめ ［陸稲穀粒］ 半つき米', 'こめ ［陸稲穀粒］ 七分つき米', 'こめ ［陸稲穀粒］ 精白米', 'こめ ［陸稲めし］ 玄米', 'こめ ［陸稲めし］ 半つき米', 'こめ ［陸稲めし］ 七分つき米', 'こめ ［陸稲めし］ 精白米', 'こめ ［うるち米製品］ アルファ化米 一般用', 'こめ ［うるち米製品］ アルファ化米 学校給食用強化品', 'こめ ［うるち米製品］ おにぎり', 'こめ ［うるち米製品］ 焼きおにぎり', 'こめ ［うるち米製品］ きりたんぽ', 'こめ ［うるち米製品］ 上新粉', 'こめ ［うるち米製品］ 玄米粉', 'こめ ［うるち米製品］ 米粉', 'こめ ［うるち米製品］ 米粉パン 食パン', 'こめ ［うるち米製品］ 米粉パン ロールパン', 'こめ ［うるち米製品］ 米粉パン 小麦グルテン不使用のもの', 'こめ ［うるち米製品］ 米粉めん', 'こめ ［うるち米製品］ ビーフン', 'こめ ［うるち米製品］ ライスペーパー', 'こめ ［うるち米製品］ 米こうじ', 'こめ ［もち米製品］ もち', 'こめ ［もち米製品］ 赤飯', 'こめ ［もち米製品］ あくまき', 'こめ ［もち米製品］ 白玉粉', 'こめ ［もち米製品］ 道明寺粉', 'こめ ［その他］ 米ぬか', 'そば そば粉 全層粉', 'そば そば粉 内層粉', 'そば そば粉 中層粉', 'そば そば粉 表層粉', 'そば そば米', 'そば そば 生', 'そば そば ゆで', 'そば そば 半生そば', 'そば 干しそば 乾', 'そば 干しそば ゆで', 'とうもろこし 玄穀 黄色種', 'とうもろこし 玄穀 白色種', 'とうもろこし コーンミール 黄色種', 'とうもろこし コーンミール 白色種', 'とうもろこし コーングリッツ 黄色種', 'とうもろこし コーングリッツ 白色種', 'とうもろこし コーンフラワー 黄色種', 'とうもろこし コーンフラワー 白色種', 'とうもろこし ジャイアントコーン フライ 味付け', 'とうもろこし ポップコーン', 'とうもろこし コーンフレーク', 'はとむぎ 精白粒', 'ひえ 精白粒', 'もろこし 玄穀', 'もろこし 精白粒', 'ライむぎ 全粒粉', 'ライむぎ ライ麦粉']\n"
          ]
        }
      ]
    },
    {
      "cell_type": "markdown",
      "metadata": {
        "id": "bT1akYL_pBXs"
      },
      "source": [
        "この中から...\n",
        "* こむぎ［パン類］食パンリッチタイプ\n",
        "* こむぎ［パン類］フランスパン\n",
        "* こめ［水稲軟めし］精白米\n",
        "* そばそばゆで\n",
        "* こむぎ［うどん・そうめん類］うどんゆで\n",
        "\n",
        "のみに興味があれば"
      ]
    },
    {
      "cell_type": "code",
      "metadata": {
        "id": "F2ouiW-jqpjm",
        "outputId": "43e7e9b0-8161-4960-e534-9beb38809a85",
        "colab": {
          "base_uri": "https://localhost:8080/",
          "height": 206
        }
      },
      "source": [
        "tshokuhin = [\"こむぎ ［パン類］ 食パン リッチタイプ\",\"こむぎ ［パン類］ フランスパン\",\"こめ ［水稲軟めし］ 精白米\", \"そば そば ゆで\", \"こむぎ ［うどん・そうめん類］ うどん ゆで\"]\n",
        "ndf[ ndf[\"食品名\"].isin(tshokuhin)]"
      ],
      "execution_count": 18,
      "outputs": [
        {
          "output_type": "execute_result",
          "data": {
            "text/html": [
              "<div>\n",
              "<style scoped>\n",
              "    .dataframe tbody tr th:only-of-type {\n",
              "        vertical-align: middle;\n",
              "    }\n",
              "\n",
              "    .dataframe tbody tr th {\n",
              "        vertical-align: top;\n",
              "    }\n",
              "\n",
              "    .dataframe thead th {\n",
              "        text-align: right;\n",
              "    }\n",
              "</style>\n",
              "<table border=\"1\" class=\"dataframe\">\n",
              "  <thead>\n",
              "    <tr style=\"text-align: right;\">\n",
              "      <th></th>\n",
              "      <th>食品名</th>\n",
              "      <th>エネルギー(kcal)</th>\n",
              "      <th>たんぱく質(g)</th>\n",
              "      <th>脂質(g)</th>\n",
              "      <th>炭水化物(g)</th>\n",
              "    </tr>\n",
              "  </thead>\n",
              "  <tbody>\n",
              "    <tr>\n",
              "      <th>45</th>\n",
              "      <td>こむぎ ［パン類］ 食パン リッチタイプ</td>\n",
              "      <td>256</td>\n",
              "      <td>(7.8)</td>\n",
              "      <td>(6.0)</td>\n",
              "      <td>(45.6)</td>\n",
              "    </tr>\n",
              "    <tr>\n",
              "      <th>49</th>\n",
              "      <td>こむぎ ［パン類］ フランスパン</td>\n",
              "      <td>289</td>\n",
              "      <td>9.4</td>\n",
              "      <td>1.3</td>\n",
              "      <td>57.5</td>\n",
              "    </tr>\n",
              "    <tr>\n",
              "      <th>61</th>\n",
              "      <td>こむぎ ［うどん・そうめん類］ うどん ゆで</td>\n",
              "      <td>95</td>\n",
              "      <td>2.6</td>\n",
              "      <td>0.4</td>\n",
              "      <td>21.6</td>\n",
              "    </tr>\n",
              "    <tr>\n",
              "      <th>147</th>\n",
              "      <td>こめ ［水稲軟めし］ 精白米</td>\n",
              "      <td>113</td>\n",
              "      <td>(1.8)</td>\n",
              "      <td>(0.3)</td>\n",
              "      <td>(26.4)</td>\n",
              "    </tr>\n",
              "    <tr>\n",
              "      <th>195</th>\n",
              "      <td>そば そば ゆで</td>\n",
              "      <td>130</td>\n",
              "      <td>4.8</td>\n",
              "      <td>1.0</td>\n",
              "      <td>26.0</td>\n",
              "    </tr>\n",
              "  </tbody>\n",
              "</table>\n",
              "</div>"
            ],
            "text/plain": [
              "                        食品名 エネルギー(kcal) たんぱく質(g)  脂質(g) 炭水化物(g)\n",
              "45     こむぎ ［パン類］ 食パン リッチタイプ         256    (7.8)  (6.0)  (45.6)\n",
              "49         こむぎ ［パン類］ フランスパン         289      9.4    1.3    57.5\n",
              "61   こむぎ ［うどん・そうめん類］ うどん ゆで          95      2.6    0.4    21.6\n",
              "147          こめ ［水稲軟めし］ 精白米         113    (1.8)  (0.3)  (26.4)\n",
              "195                そば そば ゆで         130      4.8    1.0    26.0"
            ]
          },
          "metadata": {},
          "execution_count": 18
        }
      ]
    },
    {
      "cell_type": "markdown",
      "metadata": {
        "id": "Jt2aLH3jrWSY"
      },
      "source": [
        "などとする。"
      ]
    },
    {
      "cell_type": "markdown",
      "metadata": {
        "id": "So7B0ZauwuyT"
      },
      "source": [
        "'6野菜類'でも同様に..."
      ]
    },
    {
      "cell_type": "code",
      "metadata": {
        "id": "aYwheZeiw0Oe",
        "outputId": "9e5445e1-6290-45aa-9eac-6ffd3c23f947",
        "colab": {
          "base_uri": "https://localhost:8080/",
          "height": 424
        }
      },
      "source": [
        "df6 = pd.read_excel(url,sheet_name=\"6野菜類\")\n",
        "df6.iloc[:,[3,6,9,12,20]]\n",
        "ndf6 = df6.iloc[:,[3,6,9,12,20]] \n",
        "ndf6 = ndf6.iloc[10:,:]\n",
        "ndf6.columns=[\"食品名\",\"エネルギー(kcal)\",\"たんぱく質(g)\",\"脂質(g)\",\"炭水化物(g)\"]\n",
        "ndf6[\"食品名\"] = ndf6[\"食品名\"].str.replace(\"\\u3000\",\" \") \n",
        "ndf6"
      ],
      "execution_count": 20,
      "outputs": [
        {
          "output_type": "execute_result",
          "data": {
            "text/html": [
              "<div>\n",
              "<style scoped>\n",
              "    .dataframe tbody tr th:only-of-type {\n",
              "        vertical-align: middle;\n",
              "    }\n",
              "\n",
              "    .dataframe tbody tr th {\n",
              "        vertical-align: top;\n",
              "    }\n",
              "\n",
              "    .dataframe thead th {\n",
              "        text-align: right;\n",
              "    }\n",
              "</style>\n",
              "<table border=\"1\" class=\"dataframe\">\n",
              "  <thead>\n",
              "    <tr style=\"text-align: right;\">\n",
              "      <th></th>\n",
              "      <th>食品名</th>\n",
              "      <th>エネルギー(kcal)</th>\n",
              "      <th>たんぱく質(g)</th>\n",
              "      <th>脂質(g)</th>\n",
              "      <th>炭水化物(g)</th>\n",
              "    </tr>\n",
              "  </thead>\n",
              "  <tbody>\n",
              "    <tr>\n",
              "      <th>10</th>\n",
              "      <td>成分識別子</td>\n",
              "      <td>ENERC_KCAL</td>\n",
              "      <td>PROT-</td>\n",
              "      <td>FAT-</td>\n",
              "      <td>CHOCDF-</td>\n",
              "    </tr>\n",
              "    <tr>\n",
              "      <th>11</th>\n",
              "      <td>アーティチョーク 花らい 生</td>\n",
              "      <td>39</td>\n",
              "      <td>2.3</td>\n",
              "      <td>0.2</td>\n",
              "      <td>11.3</td>\n",
              "    </tr>\n",
              "    <tr>\n",
              "      <th>12</th>\n",
              "      <td>アーティチョーク 花らい ゆで</td>\n",
              "      <td>35</td>\n",
              "      <td>2.1</td>\n",
              "      <td>0.1</td>\n",
              "      <td>10.8</td>\n",
              "    </tr>\n",
              "    <tr>\n",
              "      <th>13</th>\n",
              "      <td>あさつき 葉 生</td>\n",
              "      <td>34</td>\n",
              "      <td>4.2</td>\n",
              "      <td>0.3</td>\n",
              "      <td>5.6</td>\n",
              "    </tr>\n",
              "    <tr>\n",
              "      <th>14</th>\n",
              "      <td>あさつき 葉 ゆで</td>\n",
              "      <td>41</td>\n",
              "      <td>4.2</td>\n",
              "      <td>0.3</td>\n",
              "      <td>7.3</td>\n",
              "    </tr>\n",
              "    <tr>\n",
              "      <th>...</th>\n",
              "      <td>...</td>\n",
              "      <td>...</td>\n",
              "      <td>...</td>\n",
              "      <td>...</td>\n",
              "      <td>...</td>\n",
              "    </tr>\n",
              "    <tr>\n",
              "      <th>407</th>\n",
              "      <td>（その他） ミックスベジタブル 冷凍</td>\n",
              "      <td>67</td>\n",
              "      <td>3.0</td>\n",
              "      <td>0.7</td>\n",
              "      <td>15.1</td>\n",
              "    </tr>\n",
              "    <tr>\n",
              "      <th>408</th>\n",
              "      <td>（その他） ミックスベジタブル 冷凍 ゆで</td>\n",
              "      <td>65</td>\n",
              "      <td>3.1</td>\n",
              "      <td>0.8</td>\n",
              "      <td>14.6</td>\n",
              "    </tr>\n",
              "    <tr>\n",
              "      <th>409</th>\n",
              "      <td>（その他） ミックスベジタブル 冷凍 油いため</td>\n",
              "      <td>108</td>\n",
              "      <td>3.3</td>\n",
              "      <td>4.9</td>\n",
              "      <td>15.7</td>\n",
              "    </tr>\n",
              "    <tr>\n",
              "      <th>410</th>\n",
              "      <td>（その他） 野菜ミックスジュース 通常タイプ</td>\n",
              "      <td>21</td>\n",
              "      <td>0.8</td>\n",
              "      <td>0.1</td>\n",
              "      <td>4.7</td>\n",
              "    </tr>\n",
              "    <tr>\n",
              "      <th>411</th>\n",
              "      <td>（その他） 野菜ミックスジュース 濃縮タイプ</td>\n",
              "      <td>36</td>\n",
              "      <td>1.0</td>\n",
              "      <td>0.3</td>\n",
              "      <td>7.8</td>\n",
              "    </tr>\n",
              "  </tbody>\n",
              "</table>\n",
              "<p>402 rows × 5 columns</p>\n",
              "</div>"
            ],
            "text/plain": [
              "                         食品名 エネルギー(kcal) たんぱく質(g) 脂質(g)  炭水化物(g)\n",
              "10                     成分識別子  ENERC_KCAL    PROT-  FAT-  CHOCDF-\n",
              "11            アーティチョーク 花らい 生          39      2.3   0.2     11.3\n",
              "12           アーティチョーク 花らい ゆで          35      2.1   0.1     10.8\n",
              "13                  あさつき 葉 生          34      4.2   0.3      5.6\n",
              "14                 あさつき 葉 ゆで          41      4.2   0.3      7.3\n",
              "..                       ...         ...      ...   ...      ...\n",
              "407       （その他） ミックスベジタブル 冷凍          67      3.0   0.7     15.1\n",
              "408    （その他） ミックスベジタブル 冷凍 ゆで          65      3.1   0.8     14.6\n",
              "409  （その他） ミックスベジタブル 冷凍 油いため         108      3.3   4.9     15.7\n",
              "410   （その他） 野菜ミックスジュース 通常タイプ          21      0.8   0.1      4.7\n",
              "411   （その他） 野菜ミックスジュース 濃縮タイプ          36      1.0   0.3      7.8\n",
              "\n",
              "[402 rows x 5 columns]"
            ]
          },
          "metadata": {},
          "execution_count": 20
        }
      ]
    },
    {
      "cell_type": "markdown",
      "metadata": {
        "id": "di6-R2kIx88j"
      },
      "source": [
        "特定のキーワードを含むものを全て取得して、  \n",
        "食品名を細かく指定したり、対応する行番号のインデックスを取得できたりする"
      ]
    },
    {
      "cell_type": "code",
      "metadata": {
        "id": "XDN2orG9xP_j",
        "outputId": "f9d26ea0-010f-46bc-d636-7e7b55853dcc",
        "colab": {
          "base_uri": "https://localhost:8080/",
          "height": 269
        }
      },
      "source": [
        "kyabetu = ndf6[ndf6[\"食品名\"].str.contains('キャベツ')]\n",
        "kyabetu"
      ],
      "execution_count": 21,
      "outputs": [
        {
          "output_type": "execute_result",
          "data": {
            "text/html": [
              "<div>\n",
              "<style scoped>\n",
              "    .dataframe tbody tr th:only-of-type {\n",
              "        vertical-align: middle;\n",
              "    }\n",
              "\n",
              "    .dataframe tbody tr th {\n",
              "        vertical-align: top;\n",
              "    }\n",
              "\n",
              "    .dataframe thead th {\n",
              "        text-align: right;\n",
              "    }\n",
              "</style>\n",
              "<table border=\"1\" class=\"dataframe\">\n",
              "  <thead>\n",
              "    <tr style=\"text-align: right;\">\n",
              "      <th></th>\n",
              "      <th>食品名</th>\n",
              "      <th>エネルギー(kcal)</th>\n",
              "      <th>たんぱく質(g)</th>\n",
              "      <th>脂質(g)</th>\n",
              "      <th>炭水化物(g)</th>\n",
              "    </tr>\n",
              "  </thead>\n",
              "  <tbody>\n",
              "    <tr>\n",
              "      <th>81</th>\n",
              "      <td>（キャベツ類） キャベツ 結球葉 生</td>\n",
              "      <td>21</td>\n",
              "      <td>1.3</td>\n",
              "      <td>0.2</td>\n",
              "      <td>5.2</td>\n",
              "    </tr>\n",
              "    <tr>\n",
              "      <th>82</th>\n",
              "      <td>（キャベツ類） キャベツ 結球葉 ゆで</td>\n",
              "      <td>19</td>\n",
              "      <td>0.9</td>\n",
              "      <td>0.2</td>\n",
              "      <td>4.6</td>\n",
              "    </tr>\n",
              "    <tr>\n",
              "      <th>83</th>\n",
              "      <td>（キャベツ類） キャベツ 結球葉 油いため</td>\n",
              "      <td>78</td>\n",
              "      <td>1.6</td>\n",
              "      <td>6.0</td>\n",
              "      <td>5.9</td>\n",
              "    </tr>\n",
              "    <tr>\n",
              "      <th>84</th>\n",
              "      <td>（キャベツ類） グリーンボール 結球葉 生</td>\n",
              "      <td>20</td>\n",
              "      <td>1.4</td>\n",
              "      <td>0.1</td>\n",
              "      <td>4.3</td>\n",
              "    </tr>\n",
              "    <tr>\n",
              "      <th>85</th>\n",
              "      <td>（キャベツ類） レッドキャベツ 結球葉 生</td>\n",
              "      <td>30</td>\n",
              "      <td>2.0</td>\n",
              "      <td>0.1</td>\n",
              "      <td>6.7</td>\n",
              "    </tr>\n",
              "    <tr>\n",
              "      <th>358</th>\n",
              "      <td>めキャベツ 結球葉 生</td>\n",
              "      <td>52</td>\n",
              "      <td>5.7</td>\n",
              "      <td>0.1</td>\n",
              "      <td>9.9</td>\n",
              "    </tr>\n",
              "    <tr>\n",
              "      <th>359</th>\n",
              "      <td>めキャベツ 結球葉 ゆで</td>\n",
              "      <td>51</td>\n",
              "      <td>5.3</td>\n",
              "      <td>0.1</td>\n",
              "      <td>9.8</td>\n",
              "    </tr>\n",
              "  </tbody>\n",
              "</table>\n",
              "</div>"
            ],
            "text/plain": [
              "                       食品名 エネルギー(kcal) たんぱく質(g) 脂質(g) 炭水化物(g)\n",
              "81      （キャベツ類） キャベツ 結球葉 生          21      1.3   0.2     5.2\n",
              "82     （キャベツ類） キャベツ 結球葉 ゆで          19      0.9   0.2     4.6\n",
              "83   （キャベツ類） キャベツ 結球葉 油いため          78      1.6   6.0     5.9\n",
              "84   （キャベツ類） グリーンボール 結球葉 生          20      1.4   0.1     4.3\n",
              "85   （キャベツ類） レッドキャベツ 結球葉 生          30      2.0   0.1     6.7\n",
              "358            めキャベツ 結球葉 生          52      5.7   0.1     9.9\n",
              "359           めキャベツ 結球葉 ゆで          51      5.3   0.1     9.8"
            ]
          },
          "metadata": {},
          "execution_count": 21
        }
      ]
    },
    {
      "cell_type": "code",
      "metadata": {
        "id": "QboGKX8bx0yB",
        "outputId": "414505f2-b3ce-41a9-c7c4-2a18468a7773",
        "colab": {
          "base_uri": "https://localhost:8080/",
          "height": 332
        }
      },
      "source": [
        "tomato = ndf6[ndf6[\"食品名\"].str.contains('トマト')]\n",
        "tomato"
      ],
      "execution_count": 22,
      "outputs": [
        {
          "output_type": "execute_result",
          "data": {
            "text/html": [
              "<div>\n",
              "<style scoped>\n",
              "    .dataframe tbody tr th:only-of-type {\n",
              "        vertical-align: middle;\n",
              "    }\n",
              "\n",
              "    .dataframe tbody tr th {\n",
              "        vertical-align: top;\n",
              "    }\n",
              "\n",
              "    .dataframe thead th {\n",
              "        text-align: right;\n",
              "    }\n",
              "</style>\n",
              "<table border=\"1\" class=\"dataframe\">\n",
              "  <thead>\n",
              "    <tr style=\"text-align: right;\">\n",
              "      <th></th>\n",
              "      <th>食品名</th>\n",
              "      <th>エネルギー(kcal)</th>\n",
              "      <th>たんぱく質(g)</th>\n",
              "      <th>脂質(g)</th>\n",
              "      <th>炭水化物(g)</th>\n",
              "    </tr>\n",
              "  </thead>\n",
              "  <tbody>\n",
              "    <tr>\n",
              "      <th>221</th>\n",
              "      <td>（トマト類） 赤色トマト 果実 生</td>\n",
              "      <td>20</td>\n",
              "      <td>0.7</td>\n",
              "      <td>0.1</td>\n",
              "      <td>4.7</td>\n",
              "    </tr>\n",
              "    <tr>\n",
              "      <th>222</th>\n",
              "      <td>（トマト類） 赤色ミニトマト 果実 生</td>\n",
              "      <td>30</td>\n",
              "      <td>1.1</td>\n",
              "      <td>0.1</td>\n",
              "      <td>7.2</td>\n",
              "    </tr>\n",
              "    <tr>\n",
              "      <th>223</th>\n",
              "      <td>（トマト類） 黄色トマト 果実 生</td>\n",
              "      <td>18</td>\n",
              "      <td>1.1</td>\n",
              "      <td>0.4</td>\n",
              "      <td>3.2</td>\n",
              "    </tr>\n",
              "    <tr>\n",
              "      <th>224</th>\n",
              "      <td>（トマト類） ドライトマト</td>\n",
              "      <td>291</td>\n",
              "      <td>14.2</td>\n",
              "      <td>2.1</td>\n",
              "      <td>67.3</td>\n",
              "    </tr>\n",
              "    <tr>\n",
              "      <th>225</th>\n",
              "      <td>（トマト類） 加工品 ホール 食塩無添加</td>\n",
              "      <td>21</td>\n",
              "      <td>0.9</td>\n",
              "      <td>0.2</td>\n",
              "      <td>4.4</td>\n",
              "    </tr>\n",
              "    <tr>\n",
              "      <th>226</th>\n",
              "      <td>（トマト類） 加工品 トマトジュース 食塩添加</td>\n",
              "      <td>15</td>\n",
              "      <td>0.7</td>\n",
              "      <td>0.1</td>\n",
              "      <td>4.0</td>\n",
              "    </tr>\n",
              "    <tr>\n",
              "      <th>227</th>\n",
              "      <td>（トマト類） 加工品 トマトジュース 食塩無添加</td>\n",
              "      <td>18</td>\n",
              "      <td>0.7</td>\n",
              "      <td>0.1</td>\n",
              "      <td>4.0</td>\n",
              "    </tr>\n",
              "    <tr>\n",
              "      <th>228</th>\n",
              "      <td>（トマト類） 加工品 ミックスジュース 食塩添加</td>\n",
              "      <td>18</td>\n",
              "      <td>0.6</td>\n",
              "      <td>0</td>\n",
              "      <td>4.3</td>\n",
              "    </tr>\n",
              "    <tr>\n",
              "      <th>229</th>\n",
              "      <td>（トマト類） 加工品 ミックスジュース 食塩無添加</td>\n",
              "      <td>18</td>\n",
              "      <td>0.6</td>\n",
              "      <td>0</td>\n",
              "      <td>4.3</td>\n",
              "    </tr>\n",
              "  </tbody>\n",
              "</table>\n",
              "</div>"
            ],
            "text/plain": [
              "                           食品名 エネルギー(kcal) たんぱく質(g) 脂質(g) 炭水化物(g)\n",
              "221          （トマト類） 赤色トマト 果実 生          20      0.7   0.1     4.7\n",
              "222        （トマト類） 赤色ミニトマト 果実 生          30      1.1   0.1     7.2\n",
              "223          （トマト類） 黄色トマト 果実 生          18      1.1   0.4     3.2\n",
              "224              （トマト類） ドライトマト         291     14.2   2.1    67.3\n",
              "225       （トマト類） 加工品 ホール 食塩無添加          21      0.9   0.2     4.4\n",
              "226    （トマト類） 加工品 トマトジュース 食塩添加          15      0.7   0.1     4.0\n",
              "227   （トマト類） 加工品 トマトジュース 食塩無添加          18      0.7   0.1     4.0\n",
              "228   （トマト類） 加工品 ミックスジュース 食塩添加          18      0.6     0     4.3\n",
              "229  （トマト類） 加工品 ミックスジュース 食塩無添加          18      0.6     0     4.3"
            ]
          },
          "metadata": {},
          "execution_count": 22
        }
      ]
    },
    {
      "cell_type": "markdown",
      "metadata": {
        "id": "ojENrlEZGepm"
      },
      "source": [
        "DataFrame同士を結合してまとめるなどして  \n",
        "扱いやすいデータに整形していく.\n",
        "\n",
        "縦方向の結合はpandasのconcat(concatenateの略)を使う。"
      ]
    },
    {
      "cell_type": "code",
      "metadata": {
        "id": "SKoSAqvNGkrt",
        "outputId": "875a089c-64af-46bd-e5f0-52eeeefdc086",
        "colab": {
          "base_uri": "https://localhost:8080/",
          "height": 551
        }
      },
      "source": [
        "tdf = pd.concat([kyabetu, tomato])\n",
        "tdf"
      ],
      "execution_count": 23,
      "outputs": [
        {
          "output_type": "execute_result",
          "data": {
            "text/html": [
              "<div>\n",
              "<style scoped>\n",
              "    .dataframe tbody tr th:only-of-type {\n",
              "        vertical-align: middle;\n",
              "    }\n",
              "\n",
              "    .dataframe tbody tr th {\n",
              "        vertical-align: top;\n",
              "    }\n",
              "\n",
              "    .dataframe thead th {\n",
              "        text-align: right;\n",
              "    }\n",
              "</style>\n",
              "<table border=\"1\" class=\"dataframe\">\n",
              "  <thead>\n",
              "    <tr style=\"text-align: right;\">\n",
              "      <th></th>\n",
              "      <th>食品名</th>\n",
              "      <th>エネルギー(kcal)</th>\n",
              "      <th>たんぱく質(g)</th>\n",
              "      <th>脂質(g)</th>\n",
              "      <th>炭水化物(g)</th>\n",
              "    </tr>\n",
              "  </thead>\n",
              "  <tbody>\n",
              "    <tr>\n",
              "      <th>81</th>\n",
              "      <td>（キャベツ類） キャベツ 結球葉 生</td>\n",
              "      <td>21</td>\n",
              "      <td>1.3</td>\n",
              "      <td>0.2</td>\n",
              "      <td>5.2</td>\n",
              "    </tr>\n",
              "    <tr>\n",
              "      <th>82</th>\n",
              "      <td>（キャベツ類） キャベツ 結球葉 ゆで</td>\n",
              "      <td>19</td>\n",
              "      <td>0.9</td>\n",
              "      <td>0.2</td>\n",
              "      <td>4.6</td>\n",
              "    </tr>\n",
              "    <tr>\n",
              "      <th>83</th>\n",
              "      <td>（キャベツ類） キャベツ 結球葉 油いため</td>\n",
              "      <td>78</td>\n",
              "      <td>1.6</td>\n",
              "      <td>6.0</td>\n",
              "      <td>5.9</td>\n",
              "    </tr>\n",
              "    <tr>\n",
              "      <th>84</th>\n",
              "      <td>（キャベツ類） グリーンボール 結球葉 生</td>\n",
              "      <td>20</td>\n",
              "      <td>1.4</td>\n",
              "      <td>0.1</td>\n",
              "      <td>4.3</td>\n",
              "    </tr>\n",
              "    <tr>\n",
              "      <th>85</th>\n",
              "      <td>（キャベツ類） レッドキャベツ 結球葉 生</td>\n",
              "      <td>30</td>\n",
              "      <td>2.0</td>\n",
              "      <td>0.1</td>\n",
              "      <td>6.7</td>\n",
              "    </tr>\n",
              "    <tr>\n",
              "      <th>358</th>\n",
              "      <td>めキャベツ 結球葉 生</td>\n",
              "      <td>52</td>\n",
              "      <td>5.7</td>\n",
              "      <td>0.1</td>\n",
              "      <td>9.9</td>\n",
              "    </tr>\n",
              "    <tr>\n",
              "      <th>359</th>\n",
              "      <td>めキャベツ 結球葉 ゆで</td>\n",
              "      <td>51</td>\n",
              "      <td>5.3</td>\n",
              "      <td>0.1</td>\n",
              "      <td>9.8</td>\n",
              "    </tr>\n",
              "    <tr>\n",
              "      <th>221</th>\n",
              "      <td>（トマト類） 赤色トマト 果実 生</td>\n",
              "      <td>20</td>\n",
              "      <td>0.7</td>\n",
              "      <td>0.1</td>\n",
              "      <td>4.7</td>\n",
              "    </tr>\n",
              "    <tr>\n",
              "      <th>222</th>\n",
              "      <td>（トマト類） 赤色ミニトマト 果実 生</td>\n",
              "      <td>30</td>\n",
              "      <td>1.1</td>\n",
              "      <td>0.1</td>\n",
              "      <td>7.2</td>\n",
              "    </tr>\n",
              "    <tr>\n",
              "      <th>223</th>\n",
              "      <td>（トマト類） 黄色トマト 果実 生</td>\n",
              "      <td>18</td>\n",
              "      <td>1.1</td>\n",
              "      <td>0.4</td>\n",
              "      <td>3.2</td>\n",
              "    </tr>\n",
              "    <tr>\n",
              "      <th>224</th>\n",
              "      <td>（トマト類） ドライトマト</td>\n",
              "      <td>291</td>\n",
              "      <td>14.2</td>\n",
              "      <td>2.1</td>\n",
              "      <td>67.3</td>\n",
              "    </tr>\n",
              "    <tr>\n",
              "      <th>225</th>\n",
              "      <td>（トマト類） 加工品 ホール 食塩無添加</td>\n",
              "      <td>21</td>\n",
              "      <td>0.9</td>\n",
              "      <td>0.2</td>\n",
              "      <td>4.4</td>\n",
              "    </tr>\n",
              "    <tr>\n",
              "      <th>226</th>\n",
              "      <td>（トマト類） 加工品 トマトジュース 食塩添加</td>\n",
              "      <td>15</td>\n",
              "      <td>0.7</td>\n",
              "      <td>0.1</td>\n",
              "      <td>4.0</td>\n",
              "    </tr>\n",
              "    <tr>\n",
              "      <th>227</th>\n",
              "      <td>（トマト類） 加工品 トマトジュース 食塩無添加</td>\n",
              "      <td>18</td>\n",
              "      <td>0.7</td>\n",
              "      <td>0.1</td>\n",
              "      <td>4.0</td>\n",
              "    </tr>\n",
              "    <tr>\n",
              "      <th>228</th>\n",
              "      <td>（トマト類） 加工品 ミックスジュース 食塩添加</td>\n",
              "      <td>18</td>\n",
              "      <td>0.6</td>\n",
              "      <td>0</td>\n",
              "      <td>4.3</td>\n",
              "    </tr>\n",
              "    <tr>\n",
              "      <th>229</th>\n",
              "      <td>（トマト類） 加工品 ミックスジュース 食塩無添加</td>\n",
              "      <td>18</td>\n",
              "      <td>0.6</td>\n",
              "      <td>0</td>\n",
              "      <td>4.3</td>\n",
              "    </tr>\n",
              "  </tbody>\n",
              "</table>\n",
              "</div>"
            ],
            "text/plain": [
              "                           食品名 エネルギー(kcal) たんぱく質(g) 脂質(g) 炭水化物(g)\n",
              "81          （キャベツ類） キャベツ 結球葉 生          21      1.3   0.2     5.2\n",
              "82         （キャベツ類） キャベツ 結球葉 ゆで          19      0.9   0.2     4.6\n",
              "83       （キャベツ類） キャベツ 結球葉 油いため          78      1.6   6.0     5.9\n",
              "84       （キャベツ類） グリーンボール 結球葉 生          20      1.4   0.1     4.3\n",
              "85       （キャベツ類） レッドキャベツ 結球葉 生          30      2.0   0.1     6.7\n",
              "358                めキャベツ 結球葉 生          52      5.7   0.1     9.9\n",
              "359               めキャベツ 結球葉 ゆで          51      5.3   0.1     9.8\n",
              "221          （トマト類） 赤色トマト 果実 生          20      0.7   0.1     4.7\n",
              "222        （トマト類） 赤色ミニトマト 果実 生          30      1.1   0.1     7.2\n",
              "223          （トマト類） 黄色トマト 果実 生          18      1.1   0.4     3.2\n",
              "224              （トマト類） ドライトマト         291     14.2   2.1    67.3\n",
              "225       （トマト類） 加工品 ホール 食塩無添加          21      0.9   0.2     4.4\n",
              "226    （トマト類） 加工品 トマトジュース 食塩添加          15      0.7   0.1     4.0\n",
              "227   （トマト類） 加工品 トマトジュース 食塩無添加          18      0.7   0.1     4.0\n",
              "228   （トマト類） 加工品 ミックスジュース 食塩添加          18      0.6     0     4.3\n",
              "229  （トマト類） 加工品 ミックスジュース 食塩無添加          18      0.6     0     4.3"
            ]
          },
          "metadata": {},
          "execution_count": 23
        }
      ]
    },
    {
      "cell_type": "markdown",
      "metadata": {
        "id": "dPK_KIGcyuod"
      },
      "source": [
        "# LICENSE"
      ]
    },
    {
      "cell_type": "markdown",
      "metadata": {
        "id": "q943wB7Z4DYK"
      },
      "source": [
        "\n",
        "Copyright (C) 2021 Sota Yoshida\n",
        "\n",
        "[ライセンス:クリエイティブ・コモンズ 4.0 表示 (CC-BY 4.0)](https://creativecommons.org/licenses/by/4.0/deed.ja)"
      ]
    }
  ]
}