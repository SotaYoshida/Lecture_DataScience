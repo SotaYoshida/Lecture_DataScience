{
  "nbformat": 4,
  "nbformat_minor": 0,
  "metadata": {
    "colab": {
      "name": "Python_chapter3_Function.ipynb",
      "provenance": [],
      "collapsed_sections": [],
      "authorship_tag": "ABX9TyPHutA5JP2jxidHn90gOIls",
      "include_colab_link": true
    },
    "kernelspec": {
      "name": "python3",
      "display_name": "Python 3"
    }
  },
  "cells": [
    {
      "cell_type": "markdown",
      "metadata": {
        "id": "view-in-github",
        "colab_type": "text"
      },
      "source": [
        "<a href=\"https://colab.research.google.com/github/SotaYoshida/Lecture_DataScience/blob/2021/notebooks/Python_chapter3_Function.ipynb\" target=\"_parent\"><img src=\"https://colab.research.google.com/assets/colab-badge.svg\" alt=\"Open In Colab\"/></a>"
      ]
    },
    {
      "cell_type": "markdown",
      "metadata": {
        "id": "7Id5T1JiYLyY"
      },
      "source": [
        "#関数と戻り値(返り値), 変数のスコープ\n",
        "\n",
        "[この章の目的]\n",
        "プログラム内での関数,戻り値,スコープの概念を獲得する。"
      ]
    },
    {
      "cell_type": "markdown",
      "metadata": {
        "id": "SUPz1ngVdANb"
      },
      "source": [
        "このノートでは、Pythonにおける関数の定義と、  \n",
        "関数が返す値[戻り値(返り値とも呼ぶ)]と、  \n",
        "ややテクニカルですが重要な点である変数のスコープについて説明します。  \n",
        "\n",
        "\n"
      ]
    },
    {
      "cell_type": "markdown",
      "metadata": {
        "id": "39hwOTPKHdBK"
      },
      "source": [
        "##関数の定義"
      ]
    },
    {
      "cell_type": "markdown",
      "metadata": {
        "id": "8YqBoNnXHjDe"
      },
      "source": [
        "既に現れた```print```や```len```などはPythonに備え付けられた[組み込み関数]と呼ばれるものの一種です。  \n",
        "以下に示すように、組み込み関数とは別にユーザーが独自の関数を定義することができます。"
      ]
    },
    {
      "cell_type": "markdown",
      "metadata": {
        "id": "sBlv18DTYgpB"
      },
      "source": [
        "たとえば"
      ]
    },
    {
      "cell_type": "code",
      "metadata": {
        "id": "oeG9EoBPYflr"
      },
      "source": [
        "list1 = [2.0,  4.0]\n",
        "list2 = [1.0,  3.0]"
      ],
      "execution_count": 1,
      "outputs": []
    },
    {
      "cell_type": "markdown",
      "metadata": {
        "id": "7gtmJwnHYp67"
      },
      "source": [
        "といったようなリストがたくさん(たとえば1000個)あったときに、  \n",
        "任意の２つのリストに対して[1番目同士の積を２番め同士の差に掛ける]  \n",
        "という操作が必要だったとします。  \n",
        "(とくにこの演算には深い意味はありません、ただの例です)\n"
      ]
    },
    {
      "cell_type": "markdown",
      "metadata": {
        "id": "f-1OoOC3ZFfW"
      },
      "source": [
        "そんなとき、毎回"
      ]
    },
    {
      "cell_type": "code",
      "metadata": {
        "id": "lrWeMpk5ZGy6",
        "colab": {
          "base_uri": "https://localhost:8080/"
        },
        "outputId": "9ce87bf4-9f95-4136-ca12-777b6791b349"
      },
      "source": [
        "(list1[0] * list2[0]) * (list1[1]-list2[1])"
      ],
      "execution_count": 2,
      "outputs": [
        {
          "output_type": "execute_result",
          "data": {
            "text/plain": [
              "2.0"
            ]
          },
          "metadata": {
            "tags": []
          },
          "execution_count": 2
        }
      ]
    },
    {
      "cell_type": "markdown",
      "metadata": {
        "id": "lyuVwV40Ytk8"
      },
      "source": [
        "などと書くのは面倒です。\n",
        "\n",
        "何回も必要になる処理は、関数として定義しておけば呼び出して簡単に使うことができます。  \n",
        "\n",
        "任意の長さが２(以上)のリストに対して上の操作を行う関数を定義してみましょう。"
      ]
    },
    {
      "cell_type": "code",
      "metadata": {
        "id": "f0iYOWb5Zfcp",
        "colab": {
          "base_uri": "https://localhost:8080/"
        },
        "outputId": "ca925040-1562-4444-9aaa-3b2d4393d52b"
      },
      "source": [
        "def sousaA(l1,l2):           \n",
        "    return (l1[0] * l2[0]) * (l1[1]-l2[1])\n",
        "\n",
        "list1 = [2.0, 4.0]\n",
        "list2 = [1.0, 3.0]\n",
        "list3 = [3.0, 5.0]\n",
        "\n",
        "t = sousaA(list3,list1) \n",
        "print(\"操作Aの結果は\", t, \"で、\")\n",
        "\n"
      ],
      "execution_count": 19,
      "outputs": [
        {
          "output_type": "stream",
          "text": [
            "6.0\n"
          ],
          "name": "stdout"
        }
      ]
    },
    {
      "cell_type": "markdown",
      "metadata": {
        "id": "r6JbFf61Zv3l"
      },
      "source": [
        "sousaAは関数の名前で、関数名の後ろのカッコには引数(ひきすう)を指定します。  \n",
        "\n",
        "リスト(l1)とリスト(l2)を突っ込んだときに[1番目同士の積を２番め同士の差に掛けた値]  \n",
        "を計算してreturn(返す)という一連の操作をdef(defineの略)した、  \n",
        "というのが上のコードで行っていることです。  \n",
        "\n",
        "コロン(:)以下の操作はインデントされていて、どこまでが関数の操作かわかるようになっています。\n",
        "\n",
        "使用する際には、この関数```sousaA()```に必要な引数(変数,今の場合リスト)```l1,l2```を指定して使います。\n",
        "引数は一般に関数の中だけで使う変数名なので、関数に入れる際にl1,l2という名前にする必要はありません。\n"
      ]
    },
    {
      "cell_type": "code",
      "metadata": {
        "id": "vfn_uW7jsk1x",
        "colab": {
          "base_uri": "https://localhost:8080/"
        },
        "outputId": "52a40ecd-6b09-42ce-c399-57fca2bb6fb2"
      },
      "source": [
        "print(sousaA(list1,list2)) ##でも使えるし\n",
        "print(sousaA([20.0, 1.0], [3.0,5.5])) #などとしても使える"
      ],
      "execution_count": 14,
      "outputs": [
        {
          "output_type": "stream",
          "text": [
            "2.0\n",
            "-270.0\n"
          ],
          "name": "stdout"
        }
      ]
    },
    {
      "cell_type": "markdown",
      "metadata": {
        "id": "JYEIUOkRx34k"
      },
      "source": [
        "100人に対応するリストが100個ある場合,\n",
        "```\n",
        "lists= [list1,list2,...,list100] #　これは文法的にはエラー(list100も定義されていないし...は使えないため)\n",
        "for j in range(100):\n",
        "    for i in range(j):\n",
        "        sousaA(lists[i],lists[j])  \n",
        "```"
      ]
    },
    {
      "cell_type": "markdown",
      "metadata": {
        "id": "Vw6vnfd9yksQ"
      },
      "source": [
        "とすれば、全組み合わせ(${}_{100}C_2$)に対してsousaAが実行できます。"
      ]
    },
    {
      "cell_type": "markdown",
      "metadata": {
        "id": "YsUvuSp0hHta"
      },
      "source": [
        "引数は、関数の中で行う操作に必要な変数を指定しています。上の例では２つのリストを引数としました。\n",
        "\n",
        "\n",
        "関数の中で行う操作に、関数の外からの情報が必要ない場合は引数なしの関数でも構いませんし、\n",
        "関数の外に値を渡す必要がなければreturn文を明示的に書かなくても大丈夫で、その場合は```None```(値なし)が返されます。\n"
      ]
    },
    {
      "cell_type": "code",
      "metadata": {
        "id": "hKXXnar5huWZ",
        "colab": {
          "base_uri": "https://localhost:8080/"
        },
        "outputId": "15a5b742-d1f8-4308-c695-f1ae89c01205"
      },
      "source": [
        "def name(): #引数なしで、ただ以下の文字列を表示する関数\n",
        "    print(\"私は田中です\")\n",
        "\n",
        "def myname(namae): #引数namaeを使って、以下の文字列を表示する関数\n",
        "    print(\"私は\"+str(namae)+\"です\")\n",
        "\n",
        "def myname_return(namae): #　myname()で表示させた文字列自体を返す関数\n",
        "    return \"私は\"+str(namae)+\"です\"\n",
        "\n",
        "print(\"name()の実行→\", name()) ## name()が実行され、返り値をprintする\n",
        "\n",
        "print(\"myname()の返り値→\", myname(\"吉田\"))\n",
        "\n",
        "print(\"myname_return()の返り値→\", myname_return(\"吉田\"))"
      ],
      "execution_count": 22,
      "outputs": [
        {
          "output_type": "stream",
          "text": [
            "私は田中です\n",
            "name()の実行→ None\n",
            "私は吉田です\n",
            "myname()の返り値→ None\n",
            "myname_return()の返り値→ 私は吉田です\n",
            "<class 'str'> <class 'str'>\n"
          ],
          "name": "stdout"
        }
      ]
    },
    {
      "cell_type": "markdown",
      "metadata": {
        "id": "KfNDxdUVaxhm"
      },
      "source": [
        "戻り値```return```は単一の値や文字列に限らず、複数の値でも可能ですし、リストを返すことも出来ます。\n",
        "\n",
        "関数sousaAの場合、戻り値は"
      ]
    },
    {
      "cell_type": "code",
      "metadata": {
        "id": "yeTwBPAWazPc",
        "colab": {
          "base_uri": "https://localhost:8080/"
        },
        "outputId": "d3d5de48-a696-4a04-9068-b6af1f55373b"
      },
      "source": [
        "print(type(sousaA(list1,list2)))"
      ],
      "execution_count": 23,
      "outputs": [
        {
          "output_type": "stream",
          "text": [
            "<class 'float'>\n"
          ],
          "name": "stdout"
        }
      ]
    },
    {
      "cell_type": "markdown",
      "metadata": {
        "id": "odzJujkVa4hP"
      },
      "source": [
        "float(実数値)ですが"
      ]
    },
    {
      "cell_type": "code",
      "metadata": {
        "id": "_6vSVbsia69R",
        "colab": {
          "base_uri": "https://localhost:8080/"
        },
        "outputId": "105eae3a-325a-4a3d-848c-6474f2120296"
      },
      "source": [
        "def sousaB(l1,l2):\n",
        "    return \"この関数の戻り値は\"+str( (l1[0] * l2[0]) * (l1[1]-l2[1]))+\"です\"\n",
        "\n",
        "def sousaC(l1,l2):\n",
        "    return l1+l2 #結合したリストを返す関数\n",
        "\n",
        "print(\"sousaB\", sousaB(list1,list2))\n",
        "print(\"type B\", type(sousaB(list1,list2)))\n",
        "\n",
        "print(\"sousaC\",sousaC(list1,list2))\n",
        "print(\"type C\", type(sousaC(list1,list2)))"
      ],
      "execution_count": 24,
      "outputs": [
        {
          "output_type": "stream",
          "text": [
            "sousaB この関数の戻り値は2.0です\n",
            "type B <class 'str'>\n",
            "sousaC [2.0, 4.0, 1.0, 3.0]\n",
            "type C <class 'list'>\n"
          ],
          "name": "stdout"
        }
      ]
    },
    {
      "cell_type": "markdown",
      "metadata": {
        "id": "oVUqT1cDbijH"
      },
      "source": [
        "といったように、様々な返り値を持つ関数が定義できます。\n",
        "\n",
        "また\n"
      ]
    },
    {
      "cell_type": "code",
      "metadata": {
        "id": "EDjIjXbMiYyP",
        "colab": {
          "base_uri": "https://localhost:8080/"
        },
        "outputId": "c6a25cba-2e26-4164-958b-7752eea602ec"
      },
      "source": [
        "newlist = sousaC(list1,list2)\n",
        "print(\"newlist\", newlist)"
      ],
      "execution_count": 25,
      "outputs": [
        {
          "output_type": "stream",
          "text": [
            "newlist [2.0, 4.0, 1.0, 3.0]\n"
          ],
          "name": "stdout"
        }
      ]
    },
    {
      "cell_type": "markdown",
      "metadata": {
        "id": "9KGMvcMuiaxd"
      },
      "source": [
        "といったように、新たな変数に関数の戻り値を代入して使うことも出来ます。"
      ]
    },
    {
      "cell_type": "code",
      "metadata": {
        "id": "UKfsgcxMcChs",
        "colab": {
          "base_uri": "https://localhost:8080/"
        },
        "outputId": "ba429f51-c9ae-4611-aa93-aa15d8675870"
      },
      "source": [
        "list1 = [2.0, 4.0]\n",
        "list2 = [1.0, 3.0]\n",
        "\n",
        "def sousaD(l1,l2):\n",
        "    lt = min(len(l1),len(l2)) #l1とl2のうち短い方のリストの長さを取得\n",
        "    s = 0.0 \n",
        "    for i in range(lt): #長さltだけiのループを回す\n",
        "        s += (l1[i]- l2[i])**2 #各要素の差分を二乗して和をとる\n",
        "    return s\n",
        "\n",
        "print(\"list1\",list1,\"list2\",list2,\"のとき\")\n",
        "print(\"sousaDの返り値は\", sousaD(list1,list2))"
      ],
      "execution_count": 26,
      "outputs": [
        {
          "output_type": "stream",
          "text": [
            "list1 [2.0, 4.0] list2 [1.0, 3.0] のとき\n",
            "sousaDの返り値は 2.0\n"
          ],
          "name": "stdout"
        }
      ]
    },
    {
      "cell_type": "markdown",
      "metadata": {
        "id": "Jv3eXprZb4a7"
      },
      "source": [
        "\n",
        "繰り返しの操作を毎回書いているとコードが長くなって可読性が下がってしまいます。  \n",
        "関数を定義しておくと繰り返しの作業を[パッケージ化]できてコードがスッキリしますし、是非マスターしてください。"
      ]
    },
    {
      "cell_type": "markdown",
      "metadata": {
        "id": "CALwXDRsj2hK"
      },
      "source": [
        "**注意点**\n",
        "関数を定義するときはfor文などと同様、インデントに注意してください。"
      ]
    },
    {
      "cell_type": "markdown",
      "metadata": {
        "id": "2BGecTAbkFEW"
      },
      "source": [
        "たとえば関数```sousaD```のインデントを変えた以下のコード"
      ]
    },
    {
      "cell_type": "code",
      "metadata": {
        "id": "qU3yxnrCkGGs"
      },
      "source": [
        "def sousaE(l1,l2):\n",
        "    lt = min(len(l1),len(l2)) #l1とl2のうち短い方のリストの長さを取得\n",
        "\n",
        "s = 0.0\n",
        "for i in range(lt): #長さltだけiのループを回す\n",
        "    s += (l1[i]- l2[i])**2 #各要素の差分を二乗して和をとる\n",
        "\n",
        "sousaE(list1,list2)"
      ],
      "execution_count": null,
      "outputs": []
    },
    {
      "cell_type": "markdown",
      "metadata": {
        "id": "YTuhueLCkal3"
      },
      "source": [
        "では、関数```sousaE```の定義はlt = の行までになっています。  \n",
        "したがって関数```sousaE```の外で```lt```という変数が使われているので、not definedというエラーが出ます。\n",
        "\n",
        "\n"
      ]
    },
    {
      "cell_type": "markdown",
      "metadata": {
        "id": "gwbplPrRy35O"
      },
      "source": [
        "関数の引数に戻って、もう少し使い方を補足しておきましょう。  \n",
        "関数を定義するときに、引数にデフォルト値(とくに値を指定しなければこの値が選ばれる)を定義することが出来ます。\n"
      ]
    },
    {
      "cell_type": "code",
      "metadata": {
        "id": "EGy5tiLSzKHq",
        "colab": {
          "base_uri": "https://localhost:8080/",
          "height": 85
        },
        "outputId": "8945aaf9-0a48-46db-bbaf-ca3d0f1dc05f"
      },
      "source": [
        "def sump(tmp,p=2):\n",
        "    return sum([tmp[i]**p for i in range(len(tmp))])\n",
        "\n",
        "list1 = [10.0,20.0,30.0,40.0]\n",
        "print(\"default\", sump(list1)) #pを指定しなければp=2が選ばれる\n",
        "print(\"p=1\", sump(list1,p=1)) \n",
        "print(\"p=2\", sump(list1,2)) \n",
        "print(\"p=3\", sump(list1,3))  #"
      ],
      "execution_count": null,
      "outputs": [
        {
          "output_type": "stream",
          "text": [
            "default 3000.0\n",
            "p=1 100.0\n",
            "p=2 3000.0\n",
            "p=3 100000.0\n"
          ],
          "name": "stdout"
        }
      ]
    },
    {
      "cell_type": "markdown",
      "metadata": {
        "id": "hOiz1XSGKDyx"
      },
      "source": [
        "今の場合、引数を指定する際に$p=$　は書いても欠かなくてもOKですが、  \n",
        "デフォルト値が複数設定されている関数を作った場合には、  \n",
        "どの変数を指定しているのかを明示的にするため、  \n",
        "$p=3$などと引数に入力します。"
      ]
    },
    {
      "cell_type": "markdown",
      "metadata": {
        "id": "s0PMOFGPaX0_"
      },
      "source": [
        "**練習**: 上の例を色々と弄りながら(元となるリストを長くしたり、関数内の処理を変えて)様々な関数を定義し、挙動を理解しましょう。\n",
        "\n"
      ]
    },
    {
      "cell_type": "markdown",
      "metadata": {
        "id": "Hi4Bw-xWK3d5"
      },
      "source": [
        "## 変数のスコープについて\n",
        "\n",
        "以下の内容は、これまで学習したfor文や関数のインデントとも関連した話題です。  初学者がつまづきやすい点ですし、非常に重要です。\n",
        "\n",
        "一般に、プログラミングでは[グローバル変数]と[ローカル変数]と呼ばれるものがあります。  \n",
        "その名(global/local)が示すとおり、グローバル変数とはどこからでも参照できる変数で、ローカル変数とは、ある有効範囲(たとえば関数内)のみで参照できる変数です。\n",
        "\n",
        "例を見ながら理解していきましょう。\n"
      ]
    },
    {
      "cell_type": "code",
      "metadata": {
        "id": "SDXBYARcMssS"
      },
      "source": [
        "a = 2\n",
        "list1 = [10.0,20.0,30.0,40.0]"
      ],
      "execution_count": 29,
      "outputs": []
    },
    {
      "cell_type": "markdown",
      "metadata": {
        "id": "Hz1s_N4CM5GE"
      },
      "source": [
        "のように、関数内での代入などではない場合、変数はグローバル変数として定義されます。\n",
        "\n",
        "そのため、一度定義されれば関数に引数として渡さなくても参照することができます"
      ]
    },
    {
      "cell_type": "code",
      "metadata": {
        "id": "lqCI3oOSNCWs",
        "colab": {
          "base_uri": "https://localhost:8080/"
        },
        "outputId": "a33f9b91-53b2-47ff-a019-7f72856481b1"
      },
      "source": [
        "def testfunc():\n",
        "    print(a)\n",
        "\n",
        "a = 2\n",
        "testfunc()"
      ],
      "execution_count": 36,
      "outputs": [
        {
          "output_type": "stream",
          "text": [
            "2\n"
          ],
          "name": "stdout"
        }
      ]
    },
    {
      "cell_type": "markdown",
      "metadata": {
        "id": "sXaRD7zMO7gq"
      },
      "source": [
        "一方、関数の中で定義(代入)されるローカル変数は、関数の外で参照することはできません。\n",
        "(注: あとで説明するように関数内でglobal変数であることを宣言すれば関数の外でも参照できます)\n",
        "\n",
        "以下のコードを実行して,関数の中で定義された変数abcdをprintしようとしてもエラーが起こってしまいます。"
      ]
    },
    {
      "cell_type": "code",
      "metadata": {
        "id": "0C7YGdYCPGZ0",
        "colab": {
          "base_uri": "https://localhost:8080/",
          "height": 204
        },
        "outputId": "8826476f-25de-4ae4-ed03-e12872644527"
      },
      "source": [
        "def testfunc():\n",
        "    abcd = 1.000\n",
        "testfunc()\n",
        "print(abcd)"
      ],
      "execution_count": 37,
      "outputs": [
        {
          "output_type": "error",
          "ename": "NameError",
          "evalue": "ignored",
          "traceback": [
            "\u001b[0;31m---------------------------------------------------------------------------\u001b[0m",
            "\u001b[0;31mNameError\u001b[0m                                 Traceback (most recent call last)",
            "\u001b[0;32m<ipython-input-37-e6f85c71f263>\u001b[0m in \u001b[0;36m<module>\u001b[0;34m()\u001b[0m\n\u001b[1;32m      2\u001b[0m     \u001b[0mabcd\u001b[0m \u001b[0;34m=\u001b[0m \u001b[0;36m1.000\u001b[0m\u001b[0;34m\u001b[0m\u001b[0;34m\u001b[0m\u001b[0m\n\u001b[1;32m      3\u001b[0m \u001b[0mtestfunc\u001b[0m\u001b[0;34m(\u001b[0m\u001b[0;34m)\u001b[0m\u001b[0;34m\u001b[0m\u001b[0;34m\u001b[0m\u001b[0m\n\u001b[0;32m----> 4\u001b[0;31m \u001b[0mprint\u001b[0m\u001b[0;34m(\u001b[0m\u001b[0mabcd\u001b[0m\u001b[0;34m)\u001b[0m\u001b[0;34m\u001b[0m\u001b[0;34m\u001b[0m\u001b[0m\n\u001b[0m",
            "\u001b[0;31mNameError\u001b[0m: name 'abcd' is not defined"
          ]
        }
      ]
    },
    {
      "cell_type": "markdown",
      "metadata": {
        "id": "Skv7X7b3N2vc"
      },
      "source": [
        "では、次のコードを実行すると、最後に表示されるaはどうなるでしょうか？ 2でしょうか？それとも5でしょうか？"
      ]
    },
    {
      "cell_type": "code",
      "metadata": {
        "id": "MRy8oApxN8em",
        "colab": {
          "base_uri": "https://localhost:8080/"
        },
        "outputId": "c79be614-e2f6-4122-bd56-2a902301ada4"
      },
      "source": [
        "def testfunc():\n",
        "    a = 5\n",
        "a= 2\n",
        "testfunc()\n",
        "print(a)"
      ],
      "execution_count": 40,
      "outputs": [
        {
          "output_type": "stream",
          "text": [
            "2\n"
          ],
          "name": "stdout"
        }
      ]
    },
    {
      "cell_type": "markdown",
      "metadata": {
        "id": "wNbcnDiiOPqV"
      },
      "source": [
        "となり```a```の値は更新されません。これは、testfuncの中で定義されている```a```は、\n",
        "関数の内部で定義(代入)される変数であるため、ローカル変数とみなされて処理が行われるためです。\n",
        "\n",
        "同じ変数名を持った別のオブジェクトとして、メモリに割り当てられているわけです。\n",
        "\n",
        "実際、idをprintさせてみると、関数の内と外とでidが異なることも分かります。"
      ]
    },
    {
      "cell_type": "code",
      "metadata": {
        "id": "feLgu_e4OPcc",
        "colab": {
          "base_uri": "https://localhost:8080/"
        },
        "outputId": "14c991d2-6d7c-424f-e7a5-3bf20081e487"
      },
      "source": [
        "def testfunc():\n",
        "    a = 5\n",
        "    print(\"関数の内部\", a, id(a))\n",
        "a= 2 \n",
        "print(\"関数の実行前\", a, id(a))\n",
        "testfunc()\n",
        "print(\"関数の実行後\", a, id(a)) "
      ],
      "execution_count": 41,
      "outputs": [
        {
          "output_type": "stream",
          "text": [
            "関数の実行前 2 10914528\n",
            "関数の内部 5 10914624\n",
            "関数の実行後 2 10914528\n"
          ],
          "name": "stdout"
        }
      ]
    },
    {
      "cell_type": "markdown",
      "metadata": {
        "id": "-y5mwt3OPiFY"
      },
      "source": [
        "一方で、"
      ]
    },
    {
      "cell_type": "code",
      "metadata": {
        "id": "csjHT3p_Pl3D",
        "colab": {
          "base_uri": "https://localhost:8080/"
        },
        "outputId": "d4b9c7a2-ccdc-44a8-f0bb-3ff69b0a58f3"
      },
      "source": [
        "def testfunc():\n",
        "    global abc, a #global変数の宣言\n",
        "    abc = 5\n",
        "    a = 4\n",
        "\n",
        "a=2\n",
        "testfunc()\n",
        "print(\"a\", a)\n",
        "print(\"abc\", abc)"
      ],
      "execution_count": 43,
      "outputs": [
        {
          "output_type": "stream",
          "text": [
            "a 4\n",
            "abc 5\n"
          ],
          "name": "stdout"
        }
      ]
    },
    {
      "cell_type": "markdown",
      "metadata": {
        "id": "qctKvajGMmO9"
      },
      "source": [
        "といったように、関数の中で使う変数をグローバル変数として宣言すれば、定義した値を関数の外でも使うことができ、また関数内で更新することもできます。\n",
        "\n",
        "ただし、このようなコードの書き方は、処理が複雑化してくるとどこでその変数が参照されたり更新されたりしているかがわかりづらく、予期しない挙動の原因にもなりますのであまりオススメしません。  \n",
        "[関数には引数として変数を渡して、必要な戻り値を取得する]というコードを書くのがあくまで基本です。\n",
        "\n",
        "global変数の宣言を使うべき場合としては...コードの中で一度計算して、二度と変更する必要が無いような値にのみ使うようにしましょう。\n",
        "\n",
        "\n",
        "関数を用いる際に、変数のスコープに関して混乱を避ける方法としては、以下の方法がおすすめです。\n",
        "\n",
        "関数を定義する際の引値は、メインプログラムで使わない変数に設定することでローカル変数であることを強調する.  \n",
        "たとえば...コードの主要箇所で使うリストの名前には番号を振ることにして、関数の引数にはアルファベットを使うなど。 (他にもアンダースコア_の有無でglobal/localを区別するとか-> list_1,list_2, list1,list2)"
      ]
    },
    {
      "cell_type": "code",
      "metadata": {
        "id": "RKaOuz0HQsVh"
      },
      "source": [
        "def sousa(listA,listB): #リストを結合して返す操作\n",
        "    return listA + listB \n",
        "\n",
        "list1 = [ 2.0,30.0,18.0]\n",
        "list2 = [ 9.0,4.0,8.0]\n",
        "sousa(list1,list2)"
      ],
      "execution_count": null,
      "outputs": []
    }
  ]
}
