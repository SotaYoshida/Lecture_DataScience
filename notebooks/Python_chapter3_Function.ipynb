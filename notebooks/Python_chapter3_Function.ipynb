{
  "nbformat": 4,
  "nbformat_minor": 0,
  "metadata": {
    "colab": {
      "name": "Python_chapter3_Function.ipynb",
      "provenance": [],
      "collapsed_sections": [],
      "authorship_tag": "ABX9TyMxKHZDSCGKaUHas5JvwMtP",
      "include_colab_link": true
    },
    "kernelspec": {
      "name": "python3",
      "display_name": "Python 3"
    }
  },
  "cells": [
    {
      "cell_type": "markdown",
      "metadata": {
        "id": "view-in-github",
        "colab_type": "text"
      },
      "source": [
        "<a href=\"https://colab.research.google.com/github/SotaYoshida/Lecture_DataScience/blob/2021/notebooks/Python_chapter3_Function.ipynb\" target=\"_parent\"><img src=\"https://colab.research.google.com/assets/colab-badge.svg\" alt=\"Open In Colab\"/></a>"
      ]
    },
    {
      "cell_type": "markdown",
      "metadata": {
        "id": "7Id5T1JiYLyY"
      },
      "source": [
        "#関数と戻り値(返り値), 変数のスコープ\n",
        "\n",
        "[この章の目的]\n",
        "プログラム内での関数と戻り値,スコープの概念を獲得する。"
      ]
    },
    {
      "cell_type": "markdown",
      "metadata": {
        "id": "SUPz1ngVdANb"
      },
      "source": [
        "このノートでは、Pythonにおける関数の定義と、  \n",
        "関数が返す値[戻り値(返り値とも呼ぶ)]と、  \n",
        "ややテクニカルですが重要な点である変数のスコープについて説明します。  \n",
        "\n",
        "\n"
      ]
    },
    {
      "cell_type": "markdown",
      "metadata": {
        "id": "39hwOTPKHdBK"
      },
      "source": [
        "##関数の定義"
      ]
    },
    {
      "cell_type": "markdown",
      "metadata": {
        "id": "8YqBoNnXHjDe"
      },
      "source": [
        "既に現れた```print```や```len```などはPythonに備え付けられた[組み込み関数]と呼ばれるものの一種です。  \n",
        "以下に示すように、組み込み関数とは別にユーザーが独自の関数を定義することができます。"
      ]
    },
    {
      "cell_type": "markdown",
      "metadata": {
        "id": "sBlv18DTYgpB"
      },
      "source": [
        "たとえば"
      ]
    },
    {
      "cell_type": "code",
      "metadata": {
        "id": "oeG9EoBPYflr"
      },
      "source": [
        "p1 = [2.0, 4.0, -5.0]\n",
        "p2 = [1.0, 3.0, -4.0]\n",
        "#...\n",
        "p100 = [5.5,-2.0, 3.0]"
      ],
      "execution_count": null,
      "outputs": []
    },
    {
      "cell_type": "markdown",
      "metadata": {
        "id": "7gtmJwnHYp67"
      },
      "source": [
        "といったようなリスト(ある点の$x,y,z$座標だと思ってください)が  \n",
        "たくさん(たとえば100個)あったときに、  \n",
        "任意の２つの点の距離を求める操作が必要だったとします。  "
      ]
    },
    {
      "cell_type": "markdown",
      "metadata": {
        "id": "f-1OoOC3ZFfW"
      },
      "source": [
        "そんなとき${}_{100}C_2=4995$通りに対して毎回"
      ]
    },
    {
      "cell_type": "code",
      "metadata": {
        "id": "lrWeMpk5ZGy6"
      },
      "source": [
        "d_1_2 = ( (p1[0] - p2[0])**2 + (p1[1] - p2[1])**2 + (p1[2] - p2[2])**2 ) ** 0.5"
      ],
      "execution_count": null,
      "outputs": []
    },
    {
      "cell_type": "markdown",
      "metadata": {
        "id": "lyuVwV40Ytk8"
      },
      "source": [
        "などと書くのは面倒です。\n",
        "\n",
        "何回も必要になる処理は、関数として定義しておけば呼び出して簡単に使うことができます。  \n",
        "\n",
        "任意の長さが3の数値リストに対して  \n",
        "3次元空間での距離を計算する関数を自作してみましょう。"
      ]
    },
    {
      "cell_type": "code",
      "metadata": {
        "id": "f0iYOWb5Zfcp",
        "colab": {
          "base_uri": "https://localhost:8080/"
        },
        "outputId": "b42f1ff6-dd82-4cb7-e8a3-4f4a29676c14"
      },
      "source": [
        "def calc_d(l1,l2):           \n",
        "    return ( (l1[0] - l2[0])**2 + (l1[1] - l2[1])**2 + (l1[2] - l2[2])**2 ) ** 0.5\n",
        "\n",
        "t = calc_d(p1,p2) \n",
        "print(\"点1\",p1, \"と点2\", p2, \"の距離は\", t, \"です\")"
      ],
      "execution_count": null,
      "outputs": [
        {
          "output_type": "stream",
          "name": "stdout",
          "text": [
            "点1 [2.0, 4.0, -5.0] と点2 [1.0, 3.0, -4.0] の距離は 1.7320508075688772 です\n"
          ]
        }
      ]
    },
    {
      "cell_type": "markdown",
      "metadata": {
        "id": "r6JbFf61Zv3l"
      },
      "source": [
        "calc_dは自作した関数の名前で、関数名の後ろのカッコには引数(ひきすう)を指定します。  \n",
        "\n",
        "リスト(```l1```)とリスト(```l2```)を突っ込んだときに距離を計算して  \n",
        "```return```する(返す)という一連の操作を```def```(defineの略)した、  \n",
        "というのが上のコードで行っていることです。  \n",
        "\n",
        "コロン(:)以下の操作はインデントされていて、  \n",
        "どこまでが関数のブロックかわかるようになっています。  \n",
        "(ブロックについては```if```や```for```を思い出してください)\n",
        "\n",
        "\n",
        "使用する際には、この関数```calc_d()```に必要な引数(変数,今の場合リスト)  \n",
        "```l1,l2```を指定して使います。  \n",
        "引数は一般に関数の中だけで使う変数名なので、  \n",
        "関数に入れる際にl1,l2という名前にあわせる必要はありません。\n"
      ]
    },
    {
      "cell_type": "code",
      "metadata": {
        "id": "vfn_uW7jsk1x",
        "colab": {
          "base_uri": "https://localhost:8080/"
        },
        "outputId": "fdbad61a-ab09-423b-daae-9dca5c621215"
      },
      "source": [
        "print(calc_d(p1,p100)) #←これでも使えるし\n",
        "print(calc_d([20.0, 1.0,-5.0], [-2.0, 3.0,5.5])) #←などとしても使える"
      ],
      "execution_count": null,
      "outputs": [
        {
          "output_type": "stream",
          "name": "stdout",
          "text": [
            "10.594810050208546\n",
            "24.45914961727002\n"
          ]
        }
      ]
    },
    {
      "cell_type": "markdown",
      "metadata": {
        "id": "JYEIUOkRx34k"
      },
      "source": [
        "上の例のように100個の点の3次元座標に対応するリストがある場合,\n"
      ]
    },
    {
      "cell_type": "code",
      "metadata": {
        "id": "rQeQdGnqytj6",
        "colab": {
          "base_uri": "https://localhost:8080/"
        },
        "outputId": "57e68e0c-4e6c-49c9-de91-51e56a20adea"
      },
      "source": [
        "import random \n",
        "lists = [ [ random.gauss(0,1), random.gauss(0,1), random.gauss(0,1) ] for i in range(100)] #座標点をランダムに100個作っている\n",
        "hit = 0\n",
        "for j in range(100):\n",
        "    for i in range(j+1,100): \n",
        "        distance = calc_d( lists[j], lists[i])\n",
        "        #print(j,i, distance) # 4950回文の計算結果をprintすると邪魔なのでコメントアウトした\n",
        "        hit += 1 \n",
        "print(hit) #回数だけ表示しよう\n",
        "#上のjのループ内で、iはj+1から99までを回る。 j+1= 100つまり j=99のとき range(j+1,100)はちゃんと空になる\n",
        "#つまり、長さ100のリストにindex=100でアクセス(範囲外参照)したりすることはない。"
      ],
      "execution_count": null,
      "outputs": [
        {
          "output_type": "stream",
          "name": "stdout",
          "text": [
            "4950\n"
          ]
        }
      ]
    },
    {
      "cell_type": "markdown",
      "metadata": {
        "id": "YsUvuSp0hHta"
      },
      "source": [
        "などとすれば、全組み合わせ(${}_{100}C_2$)に対して距離を計算することが出来る。  \n",
        "\n",
        "\n",
        "引数は通常関数の中で行う操作に必要な変数を指定します。  \n",
        "上の例では２つのリストを引数としました。\n",
        "\n",
        "\n",
        "関数内の操作に関数外からの情報(インプット)が必要ない場合は  \n",
        "引数なしの関数でも構いませんし、  \n",
        "関数の外に値を渡す(アウトプット)必要がなければ  \n",
        "return文を明示的に書かなくても大丈夫です。  \n",
        "return文がない場合は```None```(値なし)が返されます。\n",
        "\n",
        "幾つか例を作って、挙動を理解してみましょう。\n"
      ]
    },
    {
      "cell_type": "code",
      "metadata": {
        "id": "hKXXnar5huWZ",
        "colab": {
          "base_uri": "https://localhost:8080/"
        },
        "outputId": "654717fd-5230-412a-f84d-9fd88761d9aa"
      },
      "source": [
        "def name(): #引数なしで、ただ以下の文字列を表示する関数\n",
        "    print(\"私は田中です\")\n",
        "\n",
        "def myname(namae): #引数namaeを使って、以下の文字列を表示する関数\n",
        "    print(\"私は\"+str(namae)+\"です\")\n",
        "\n",
        "def myname_return(namae): #　myname()で表示させた文字列自体を返す関数\n",
        "    return \"私は\"+str(namae)+\"です\"\n",
        "\n",
        "print(\"name()の実行→\", name()) ## name()が実行されたあとにココのprint文が実行される。\n",
        "\n",
        "print(\"myname()の返り値→\", myname(\"吉田\"))\n",
        "\n",
        "print(\"myname_return()の返り値→\", myname_return(\"吉田\"))"
      ],
      "execution_count": null,
      "outputs": [
        {
          "output_type": "stream",
          "name": "stdout",
          "text": [
            "私は田中です\n",
            "name()の実行→ None\n",
            "私は吉田です\n",
            "myname()の返り値→ None\n",
            "myname_return()の返り値→ 私は吉田です\n"
          ]
        }
      ]
    },
    {
      "cell_type": "markdown",
      "metadata": {
        "id": "KfNDxdUVaxhm"
      },
      "source": [
        "戻り値```return```は単一の値や文字列に限らず、  \n",
        "複数の値でも可能ですし、リストを返すことも出来ます。\n",
        "\n",
        "先程の自作関数```calc_d```の場合、戻り値はfloat(実数値)ですが"
      ]
    },
    {
      "cell_type": "code",
      "metadata": {
        "id": "_6vSVbsia69R",
        "colab": {
          "base_uri": "https://localhost:8080/"
        },
        "outputId": "c951d169-b3bf-4f2d-c5f8-3bbcb2caa21a"
      },
      "source": [
        "def calc_d_print(l1,l2):\n",
        "    return \"距離は\"+str( ( (l1[0] - l2[0])**2 + (l1[1] - l2[1])**2 + (l1[2] - l2[2])**2 ) ** 0.5  )+\"です\"\n",
        "\n",
        "def zahyo_and_d(l1,l2):\n",
        "    d = calc_d(l1,l2) #関数の中で、先程の自作関数を呼んでいる\n",
        "    return [l1,l2],d #座標を結合したリストと距離を返す\n",
        "\n",
        "ret = calc_d_print(p1,p2)\n",
        "print(\"関数calc_d_print→\", ret,type(ret))\n",
        "\n",
        "\n",
        "ret = zahyo_and_d(p1,p2)\n",
        "print(\"関数zahyo→ \", ret,type(ret))\n",
        "print(\"座標の結合リスト\",ret[0],\"距離\",ret[1])"
      ],
      "execution_count": null,
      "outputs": [
        {
          "output_type": "stream",
          "name": "stdout",
          "text": [
            "関数calc_d_print 距離は1.7320508075688772です <class 'str'>\n",
            "関数zahyo:  ([[2.0, 4.0, -5.0], [1.0, 3.0, -4.0]], 1.7320508075688772) <class 'tuple'> 座標の結合リスト [[2.0, 4.0, -5.0], [1.0, 3.0, -4.0]] 距離 1.7320508075688772\n"
          ]
        }
      ]
    },
    {
      "cell_type": "markdown",
      "metadata": {
        "id": "oVUqT1cDbijH"
      },
      "source": [
        "といったように、様々な返り値を持つ関数を定義できます。\n"
      ]
    },
    {
      "cell_type": "markdown",
      "metadata": {
        "id": "gwbplPrRy35O"
      },
      "source": [
        "関数を定義するときに、  \n",
        "引数にデフォルト値(とくに値を指定しなければこの値が選ばれる)を  \n",
        "設定することも出来ます。\n"
      ]
    },
    {
      "cell_type": "code",
      "metadata": {
        "id": "EGy5tiLSzKHq",
        "colab": {
          "base_uri": "https://localhost:8080/"
        },
        "outputId": "1c4fc107-7cf3-43d8-b6be-1f7e296db0d2"
      },
      "source": [
        "#数値リストの要素のp乗和を計算する関数\n",
        "def sump(tmp,p=2): \n",
        "    return sum([tmp[i]**p for i in range(len(tmp))])\n",
        "\n",
        "list1 = [10.0,20.0,30.0,40.0]\n",
        "print(\"default\", sump(list1)) #pを指定しなければp=2が選ばれる\n",
        "print(\"p=1\", sump(list1,p=1)) \n",
        "print(\"p=2\", sump(list1,2)) \n",
        "print(\"p=3\", sump(list1,3))  #"
      ],
      "execution_count": null,
      "outputs": [
        {
          "output_type": "stream",
          "name": "stdout",
          "text": [
            "default 3000.0\n",
            "p=1 100.0\n",
            "p=2 3000.0\n",
            "p=3 100000.0\n"
          ]
        }
      ]
    },
    {
      "cell_type": "markdown",
      "metadata": {
        "id": "hOiz1XSGKDyx"
      },
      "source": [
        "今の場合、引数を指定する際に$p=$　は書いても欠かなくてもOKですが、  \n",
        "デフォルト値が複数設定されている関数を作った場合には、  \n",
        "どの変数を指定しているのかを明示的にするため、  \n",
        "$p=3$などと引数に入力します。"
      ]
    },
    {
      "cell_type": "markdown",
      "metadata": {
        "id": "gOX1OPyMkkfF"
      },
      "source": [
        "\n",
        "関数を定義することで作業を\"パッケージ化\"し、コードを簡略化することができます。\n",
        "「繰り返しの操作は関数にする」ことを心がけましょう。\n"
      ]
    },
    {
      "cell_type": "markdown",
      "metadata": {
        "id": "Hi4Bw-xWK3d5"
      },
      "source": [
        "## 変数のスコープについて\n",
        "\n",
        "以下の内容は、これまで学習したfor文や関数のインデントとも関連した話題です。  \n",
        "非常に重要な反面、初学者がつまづきやすい点でもあります。\n",
        "\n",
        "一般に、プログラミングでは[グローバル変数]と[ローカル変数]と呼ばれるものがあります。  \n",
        "その名(global/local)が示すとおり、  \n",
        "グローバル変数とはどこからでも参照できる変数で、  \n",
        "ローカル変数とは、ある有効範囲(たとえば関数内)のみで参照できる変数です。\n",
        "\n",
        "例を見ながら理解していきましょう。\n"
      ]
    },
    {
      "cell_type": "code",
      "metadata": {
        "id": "SDXBYARcMssS"
      },
      "source": [
        "a = 2\n",
        "list1 = [10.0,20.0,30.0,40.0]"
      ],
      "execution_count": null,
      "outputs": []
    },
    {
      "cell_type": "markdown",
      "metadata": {
        "id": "Hz1s_N4CM5GE"
      },
      "source": [
        "のように、関数内での代入などではない場合、変数はグローバル変数として定義されます。\n",
        "\n",
        "そのため、一度定義されれば関数に引数として渡さなくても参照することができます"
      ]
    },
    {
      "cell_type": "code",
      "metadata": {
        "id": "lqCI3oOSNCWs",
        "colab": {
          "base_uri": "https://localhost:8080/"
        },
        "outputId": "681dbaae-556a-457c-d82e-32a9291921c6"
      },
      "source": [
        "def testfunc():\n",
        "    print(a)\n",
        "\n",
        "a = 2\n",
        "testfunc()"
      ],
      "execution_count": null,
      "outputs": [
        {
          "output_type": "stream",
          "name": "stdout",
          "text": [
            "2\n"
          ]
        }
      ]
    },
    {
      "cell_type": "markdown",
      "metadata": {
        "id": "sXaRD7zMO7gq"
      },
      "source": [
        "一方、関数の中で定義(代入)されるローカル変数は、関数の外で参照することはできません。  \n",
        "(注: あとで説明するように関数内でglobal変数であることを宣言すれば関数の外でも参照できます)\n",
        "\n",
        "以下のコードを実行して,関数の中で定義された変数abcdをprintしようとしてもエラーが起こってしまいます。"
      ]
    },
    {
      "cell_type": "code",
      "metadata": {
        "id": "0C7YGdYCPGZ0",
        "colab": {
          "base_uri": "https://localhost:8080/",
          "height": 202
        },
        "outputId": "4f82d90c-791e-4946-f384-526d3178cb72"
      },
      "source": [
        "def testfunc():\n",
        "    abcd = 1.000\n",
        "testfunc()\n",
        "print(abcd)"
      ],
      "execution_count": null,
      "outputs": [
        {
          "output_type": "error",
          "ename": "NameError",
          "evalue": "ignored",
          "traceback": [
            "\u001b[0;31m---------------------------------------------------------------------------\u001b[0m",
            "\u001b[0;31mNameError\u001b[0m                                 Traceback (most recent call last)",
            "\u001b[0;32m<ipython-input-36-e6f85c71f263>\u001b[0m in \u001b[0;36m<module>\u001b[0;34m()\u001b[0m\n\u001b[1;32m      2\u001b[0m     \u001b[0mabcd\u001b[0m \u001b[0;34m=\u001b[0m \u001b[0;36m1.000\u001b[0m\u001b[0;34m\u001b[0m\u001b[0;34m\u001b[0m\u001b[0m\n\u001b[1;32m      3\u001b[0m \u001b[0mtestfunc\u001b[0m\u001b[0;34m(\u001b[0m\u001b[0;34m)\u001b[0m\u001b[0;34m\u001b[0m\u001b[0;34m\u001b[0m\u001b[0m\n\u001b[0;32m----> 4\u001b[0;31m \u001b[0mprint\u001b[0m\u001b[0;34m(\u001b[0m\u001b[0mabcd\u001b[0m\u001b[0;34m)\u001b[0m\u001b[0;34m\u001b[0m\u001b[0;34m\u001b[0m\u001b[0m\n\u001b[0m",
            "\u001b[0;31mNameError\u001b[0m: name 'abcd' is not defined"
          ]
        }
      ]
    },
    {
      "cell_type": "markdown",
      "metadata": {
        "id": "Skv7X7b3N2vc"
      },
      "source": [
        "では、次のコードを実行すると、最後に表示されるaはどうなるでしょうか？  \n",
        "2でしょうか？それとも5でしょうか？"
      ]
    },
    {
      "cell_type": "code",
      "metadata": {
        "id": "MRy8oApxN8em",
        "colab": {
          "base_uri": "https://localhost:8080/"
        },
        "outputId": "321ced5c-3002-4eee-e298-7a172cf3effc"
      },
      "source": [
        "def testfunc():\n",
        "    a = 5\n",
        "a= 2\n",
        "testfunc()\n",
        "print(a)"
      ],
      "execution_count": null,
      "outputs": [
        {
          "output_type": "stream",
          "name": "stdout",
          "text": [
            "2\n"
          ]
        }
      ]
    },
    {
      "cell_type": "markdown",
      "metadata": {
        "id": "wNbcnDiiOPqV"
      },
      "source": [
        "となり```a```の値は更新されません。  \n",
        "これは、testfuncの中で定義されている```a```は、  \n",
        "関数の内部で定義(代入)される変数であるため、  \n",
        "ローカル変数とみなされて処理が行われるためです。\n",
        "\n",
        "実際、idをprintさせてみると、関数の内と外とでidが異なることも分かります。"
      ]
    },
    {
      "cell_type": "code",
      "metadata": {
        "id": "feLgu_e4OPcc",
        "colab": {
          "base_uri": "https://localhost:8080/"
        },
        "outputId": "6e647e2f-2a1c-411a-ef4b-365e61e9e906"
      },
      "source": [
        "def testfunc():\n",
        "    a = 5\n",
        "    print(\"関数の内部\", a, id(a))\n",
        "    \n",
        "a= 2 \n",
        "print(\"関数の実行前\", a, id(a))\n",
        "testfunc()\n",
        "print(\"関数の実行後\", a, id(a)) "
      ],
      "execution_count": null,
      "outputs": [
        {
          "output_type": "stream",
          "name": "stdout",
          "text": [
            "関数の実行前 2 94412437125664\n",
            "関数の内部 5 94412437125760\n",
            "関数の実行後 2 94412437125664\n"
          ]
        }
      ]
    },
    {
      "cell_type": "markdown",
      "metadata": {
        "id": "-y5mwt3OPiFY"
      },
      "source": [
        "一方で、"
      ]
    },
    {
      "cell_type": "code",
      "metadata": {
        "id": "csjHT3p_Pl3D",
        "colab": {
          "base_uri": "https://localhost:8080/"
        },
        "outputId": "6a5ad181-d94e-4f56-da8c-aa85f4a3c604"
      },
      "source": [
        "def testfunc():\n",
        "    global abc, a #global変数の宣言\n",
        "    abc = 5\n",
        "    a += 2\n",
        "\n",
        "a=2\n",
        "print(\"実行前\")\n",
        "print(\"a\",a , id(a))\n",
        "testfunc()\n",
        "print(\"実行後\")\n",
        "print(\"a\", a, id(a))  #別の変数として再定義されていることが分かる\n",
        "print(\"abc\", abc)"
      ],
      "execution_count": null,
      "outputs": [
        {
          "output_type": "stream",
          "name": "stdout",
          "text": [
            "実行前\n",
            "a 2 94412437125664\n",
            "94412437125728\n",
            "実行後\n",
            "a 4 94412437125728\n",
            "abc 5\n"
          ]
        }
      ]
    },
    {
      "cell_type": "markdown",
      "metadata": {
        "id": "qctKvajGMmO9"
      },
      "source": [
        "といったように、関数の中で使う変数をグローバル変数として宣言すれば、  \n",
        "関数の外でもその変数を使うことができます。\n",
        "\n",
        "ただし、このようなコードの書き方は、処理が複雑化してくると  \n",
        "どこでその変数が定義されたり更新されたりしているかがわかりづらく、  \n",
        "予期しない挙動の原因にもなりますのであまりオススメしません。  \n",
        "[関数には引数として変数を渡して、必要な戻り値を取得する]というコードを書くのがあくまで基本です。\n",
        "\n",
        "global変数の宣言を使うべき場合としては...コードの中で一度計算して、  \n",
        "二度と変更する必要が無いような値にのみ使うようにしましょう。\n",
        "\n",
        "\n",
        "関数を用いる際に、変数のスコープに関して混乱を避ける方法としては...\n",
        "\n",
        "メインプログラムと関数内とで変数の命名規則を区別しておく:   \n",
        "たとえば...メインコード(global変数)で使うリストの名前の区別には数字を使う、  \n",
        "関数の引数にはアルファベットを使うなどの工夫がオススメです。"
      ]
    },
    {
      "cell_type": "code",
      "metadata": {
        "id": "RKaOuz0HQsVh"
      },
      "source": [
        "def func_join(listA,listB): #リストを結合して返す関数\n",
        "    return listA + listB \n",
        "\n",
        "list1 = [ 2.0,30.0,18.0]\n",
        "list2 = [ 9.0,4.0,8.0]\n",
        "nlist = func_join(list1,list2)"
      ],
      "execution_count": null,
      "outputs": []
    },
    {
      "cell_type": "markdown",
      "metadata": {
        "id": "6TUuABHM4ei0"
      },
      "source": [
        "#### $\\clubsuit$ 関数内でのリスト更新\n"
      ]
    },
    {
      "cell_type": "markdown",
      "metadata": {
        "id": "vRetz7vT4iyg"
      },
      "source": [
        "上では、数値(float)と関数を例に説明しましたが、  \n",
        "リストの場合はもう少し挙動が複雑です。"
      ]
    },
    {
      "cell_type": "code",
      "metadata": {
        "id": "5rZLX1Vh4p2f",
        "colab": {
          "base_uri": "https://localhost:8080/"
        },
        "outputId": "ca13440a-d6b6-44c9-8521-f6ea3ce39efe"
      },
      "source": [
        "def func_update_list(in_list):\n",
        "    in_list[0] = \"AAA\"\n",
        "\n",
        "tmp = [ \"SS\", 1,2,3]\n",
        "print(\"実行前\", tmp, id(tmp), id(tmp[0]))\n",
        "func_update_list(tmp)\n",
        "print(\"実行後\", tmp,id(tmp),id(tmp[0])) "
      ],
      "execution_count": null,
      "outputs": [
        {
          "output_type": "stream",
          "name": "stdout",
          "text": [
            "実行前 ['SS', 1, 2, 3] 139900671706048 139900671819888\n",
            "実行後 ['AAA', 1, 2, 3] 139900671706048 139900672697328\n",
            "実行前 ['SS', 1, 2, 3] 139900671707888 139900671819888\n",
            "実行後 ['AAA', 1, 2, 3] 139900671707888 139900672697328\n"
          ]
        }
      ]
    },
    {
      "cell_type": "markdown",
      "metadata": {
        "id": "5w-Zo7Pw5YyA"
      },
      "source": [
        "リストオブジェクト自体のidは引き継がれていて、  \n",
        "リスト内要素(0番目)の更新が反映されていることがわかります。"
      ]
    },
    {
      "cell_type": "code",
      "metadata": {
        "id": "OgGkbM7u-k15",
        "colab": {
          "base_uri": "https://localhost:8080/"
        },
        "outputId": "8283c13a-5d99-48cc-b879-ea53284581a3"
      },
      "source": [
        "def func_update_list(in_list):\n",
        "    in_list[0] = \"AAA\" \n",
        "    in_list = [\"BBB\", 0,1,2]  ##ココはローカル変数扱い\n",
        "    return in_list\n",
        "\n",
        "tmp = [ \"SS\", 1,2,3]\n",
        "print(\"実行前\", tmp, id(tmp), id(tmp[0]))\n",
        "ret = func_update_list(tmp)\n",
        "print(\"実行後\", tmp,id(tmp),id(tmp[0])) \n",
        "print(\"ret\", ret,id(ret),id(ret[0])) "
      ],
      "execution_count": null,
      "outputs": [
        {
          "output_type": "stream",
          "name": "stdout",
          "text": [
            "実行前 ['SS', 1, 2, 3] 139900671827312 139900672968496\n",
            "実行後 ['AAA', 1, 2, 3] 139900671827312 139900672697328\n",
            "ret ['BBB', 0, 1, 2] 139900671867152 139900673209136\n"
          ]
        }
      ]
    },
    {
      "cell_type": "markdown",
      "metadata": {
        "id": "dPK_KIGcyuod"
      },
      "source": [
        "# LICENSE"
      ]
    },
    {
      "cell_type": "markdown",
      "metadata": {
        "id": "q943wB7Z4DYK"
      },
      "source": [
        "\n",
        "Copyright (C) 2021 Sota Yoshida\n",
        "\n",
        "[ライセンス:クリエイティブ・コモンズ 4.0 表示 (CC-BY 4.0)](https://creativecommons.org/licenses/by/4.0/deed.ja)"
      ]
    }
  ]
}