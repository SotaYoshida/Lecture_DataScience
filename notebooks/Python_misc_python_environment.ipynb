{
  "nbformat": 4,
  "nbformat_minor": 0,
  "metadata": {
    "colab": {
      "name": "Python_misc_python_environment.ipynb",
      "provenance": [],
      "collapsed_sections": [
        "dSRDbGRtjOUq",
        "rAlPquBCSVud",
        "h2K-l3Iu0vHS",
        "c17cT0gy2fwF",
        "OtjKhaH451we",
        "N4vEf_Av9hjN"
      ],
      "include_colab_link": true
    },
    "kernelspec": {
      "name": "python3",
      "display_name": "Python 3"
    }
  },
  "cells": [
    {
      "cell_type": "markdown",
      "metadata": {
        "id": "view-in-github",
        "colab_type": "text"
      },
      "source": [
        "<a href=\"https://colab.research.google.com/github/SotaYoshida/Lecture_DataScience/blob/2021/notebooks/Python_misc_python_environment.ipynb\" target=\"_parent\"><img src=\"https://colab.research.google.com/assets/colab-badge.svg\" alt=\"Open In Colab\"/></a>"
      ]
    },
    {
      "cell_type": "markdown",
      "metadata": {
        "id": "xygiFz3F15TQ"
      },
      "source": [
        "# Pythonの環境構築\n",
        "\n",
        "手元で作業がしたい、という方に向けて  \n",
        "ローカル環境にPythonを導入する方法をOSごとに紹介する。  \n",
        "\n",
        "難易度としてはLinux < Mac << (壁)<<  Windowsといった感じ(私見)."
      ]
    },
    {
      "cell_type": "code",
      "metadata": {
        "id": "sq5ewMLVBX_D"
      },
      "source": [
        "#動画貼り付け用にモジュールをインポートしておく\n",
        "from IPython.display import HTML\n",
        "from base64 import b64encode"
      ],
      "execution_count": null,
      "outputs": []
    },
    {
      "cell_type": "markdown",
      "metadata": {
        "id": "6Z6mR5y871Nj"
      },
      "source": [
        "## Windowsの場合"
      ]
    },
    {
      "cell_type": "markdown",
      "metadata": {
        "id": "EvTOzAC173gT"
      },
      "source": [
        "いくつかの方針が考えられる。\n",
        "\n",
        "1. Pythonのインストーラを用いてインストールする  \n",
        "  * メリット: Windows環境を汚さない, インストールが楽  \n",
        "  * デメリット: 他のプログラミング言語などへの拡張性が低い\n",
        "\n",
        "2. Linux環境を構築する（**推奨**)\n",
        "* 2-1.   Windows Subsystem for Linux(WSL)（**推奨**)  \n",
        "  * メリット: Windows環境を汚さない, Linuxシェル環境・パッケージマネージャ(Pythonに限らず各種インストールが楽)  \n",
        "  * デメリット: WSL特有の情報を調べる必要がある\n",
        "\n",
        "* 2-2.  デュアルブート   \n",
        "  * メリット: Windowsとは別に好きなLinuxディストリビューションを共存させられる  \n",
        "  * デメリット: ディスク領域の分割などが必要\n",
        "  慣れないとデータを吹っ飛ばす危険あり  \n",
        "  (外部ストレージ等でのバックアップ必須です)\n",
        "\n",
        "* 2-3. Docker（**推奨**)\n",
        "    * WindowsでのDocker環境の経験がないため、  \n",
        "      現在このノートブックで説明する予定はありません。"
      ]
    },
    {
      "cell_type": "markdown",
      "metadata": {
        "id": "dSRDbGRtjOUq"
      },
      "source": [
        "### 1.の方法"
      ]
    },
    {
      "cell_type": "code",
      "metadata": {
        "colab": {
          "base_uri": "https://localhost:8080/",
          "height": 335
        },
        "id": "LlF9t8tRCl3-",
        "outputId": "9cc59d5f-7f78-4094-d7aa-6fdf370b53bc"
      },
      "source": [
        "HTML(r'<iframe width=\"560\" height=\"315\" src=\"https://www.youtube.com/embed/z2_nNvpgonY\" frameborder=\"0\" allow=\"accelerometer; autoplay; clipboard-write; encrypted-media; gyroscope; picture-in-picture\" allowfullscreen></iframe>')"
      ],
      "execution_count": null,
      "outputs": [
        {
          "output_type": "execute_result",
          "data": {
            "text/html": [
              "<iframe width=\"560\" height=\"315\" src=\"https://www.youtube.com/embed/z2_nNvpgonY\" frameborder=\"0\" allow=\"accelerometer; autoplay; clipboard-write; encrypted-media; gyroscope; picture-in-picture\" allowfullscreen></iframe>"
            ],
            "text/plain": [
              "<IPython.core.display.HTML object>"
            ]
          },
          "metadata": {
            "tags": []
          },
          "execution_count": 2
        }
      ]
    },
    {
      "cell_type": "markdown",
      "metadata": {
        "id": "LxXDO1L1HSGZ"
      },
      "source": [
        "以下のA)B)いずれかの方法でストアを開き  \n",
        "Python3.8かPython3.9を選び[入手]する。\n",
        "\n",
        "A) Microsoft Storeを開き、pythonと検索する。\n",
        "\n",
        "B)コマンドプロンプト※を開き、pythonと入力してEnter→Storeが開く。  \n",
        "(※Win１０の左下にある検索バーにcmdと打つと出てくる)  \n",
        "B)の方法だとstore上で古いpythonが開くかもしれないので  \n",
        "検索バーから再度pythonと検索しよう。\n",
        "\n",
        "**インストールしたpythonの使い方**\n",
        "\n",
        "コマンドプロンプト上で\n",
        "```\n",
        "python\n",
        "```\n",
        "と実行すると対話モードでpythonが開く。  \n",
        "スタートメニューからpythonを起動しても同じ。\n",
        "\n",
        "\n",
        "\n",
        "```\n",
        "print(\"Hello World\")\n",
        "```\n",
        "や、\n",
        "```\n",
        "for i in range(5):\n",
        "    print(i)\n",
        "```\n",
        "などを実行してみよう。\n",
        "\n",
        "Python(対話モード)を終了する際はCtrl+Z(もしくはCtrl+Cを実行後にCtrl+Z)→Enterを押すか、\n",
        "```\n",
        "exit()\n",
        "```\n",
        "と入力しEnterを押せば良い。\n",
        "\n",
        "**Python用のライブラリをインストールする方法**\n",
        "\n",
        "コマンドプロンプト上で\n",
        "```\n",
        "pip install matplotlib\n",
        "pip install pandas\n",
        "pip install Selenium\n",
        "```\n",
        "などとする。\n",
        "\n",
        "**ソースファイルの編集と実行**\n",
        "\n",
        "対話モードだと、長い処理を実現するのには向いていないので、  \n",
        "作業をソースコードとしてファイルに書き出し、それを実行したくなる。  \n",
        "実行したい場合は、コマンドプロンプト上で\n",
        "```\n",
        "python hogehoge.py\n",
        "```\n",
        "などとすると```hogehoge.py```というファイルに書いた処理が実行される。\n",
        "\n",
        "例: デスクトップにあるソースコードを実行する場合\n",
        "\n",
        "```\n",
        "chdir Desktop　\n",
        "```\n",
        "などして、適宜カレント(現在いる)ディレクトリの変更をするか\n",
        "```\n",
        "python Desktop/hogehoge.py\n",
        "```\n",
        "など実行するソースの(相対 or 絶対)パスの指定が必要になる。"
      ]
    },
    {
      "cell_type": "markdown",
      "metadata": {
        "id": "rAlPquBCSVud"
      },
      "source": [
        "### 2-1. の方法"
      ]
    },
    {
      "cell_type": "markdown",
      "metadata": {
        "id": "jutP3oJrDq-1"
      },
      "source": [
        "Windowsの中にLinux(とくにUbuntu)を入れる方法"
      ]
    },
    {
      "cell_type": "code",
      "metadata": {
        "colab": {
          "base_uri": "https://localhost:8080/",
          "height": 335
        },
        "id": "9Es-IU7ZFaEq",
        "outputId": "b5ef62a9-2efd-4acf-d974-bc71b06cd521"
      },
      "source": [
        "HTML(r'<iframe width=\"560\" height=\"315\" src=\"https://www.youtube.com/embed/deZTrWYk9vU\" frameborder=\"0\" allow=\"accelerometer; autoplay; clipboard-write; encrypted-media; gyroscope; picture-in-picture\" allowfullscreen></iframe>')"
      ],
      "execution_count": null,
      "outputs": [
        {
          "output_type": "execute_result",
          "data": {
            "text/html": [
              "<iframe width=\"560\" height=\"315\" src=\"https://www.youtube.com/embed/deZTrWYk9vU\" frameborder=\"0\" allow=\"accelerometer; autoplay; clipboard-write; encrypted-media; gyroscope; picture-in-picture\" allowfullscreen></iframe>"
            ],
            "text/plain": [
              "<IPython.core.display.HTML object>"
            ]
          },
          "metadata": {
            "tags": []
          },
          "execution_count": 4
        }
      ]
    },
    {
      "cell_type": "markdown",
      "metadata": {
        "id": "iKAHNa6LSatq"
      },
      "source": [
        "#### 手順1.\n",
        " コントロールパネルから、[プログラム] > [Windowsの機能の有効化または無効化] を選択し、  \n",
        "「Windows Subsystem for Linux」にチェックを入れて有効化する  \n",
        "(確か再起動が必要だった気がします)\n",
        "\n",
        "#### 手順2. \n",
        "Microsoft storeでUbuntuと検索し、1番目(単に「Ubuntu」という名前のもの)か、  \n",
        "あるいは20.04LTSをインストールする  \n",
        "※Windows OSのアップデートをしばらく行っていない場合、入手ボタンが押せない。  \n",
        "一般論として、OSのマイナーアップデートは基本的に都度更新するようにしましょう。    \n",
        "(メジャーアップデートは場合による...)\n",
        "\n",
        "#### 手順3. \n",
        "スタートメニューからUbuntuを起動する\n",
        "\n",
        "* Enter new UNIX username: Linuxで使うユーザー名を入力する\n",
        "* new password: パスワードを設定する\n",
        "* Retype new password: 確認のため再入力する\n",
        "\n",
        "これで、windows内にlinux環境が構築されます。\n",
        "\n",
        "#### 手順4. \n",
        "Ubuntuターミナルに以下を入力し実行\n",
        "```\n",
        "sudo apt update\n",
        "sudo apt upgrade\n",
        "```\n",
        "sudoは管理者権限で実行する、という意味で、  \n",
        "aptはLinux(Debian系)のパッケージ管理システムです。  \n",
        "※PCの時刻設定がきちんと行われていないと、aptのupdateやupgradeに失敗します。\n",
        "\n",
        "Ubuntuには初めからPython3系が含まれていますが、  \n",
        "pythonの最新バージョンをpip込みでインストールしましょう。\n",
        "\n",
        "```\n",
        "sudo apt install python3-pip -y\n",
        "```\n",
        "これでpython3.xの最新バージョンと、python用のパッケージマネージャpipがインストールされ、\n",
        "\n",
        "ライブラリ・モジュールをインストールしたければ\n",
        "```\n",
        "pip3 install matplotlib\n",
        "pip3 install pandas\n",
        "pip3 install Selenium\n",
        "```\n",
        "などを実行する。\n"
      ]
    },
    {
      "cell_type": "markdown",
      "metadata": {
        "id": "qpMLRtznBk-F"
      },
      "source": [
        "### Windows環境のどこにLinuxのファイルが保存されるか"
      ]
    },
    {
      "cell_type": "markdown",
      "metadata": {
        "id": "m14aIZMayDK3"
      },
      "source": [
        "\n",
        "```C:\\Users\\sota\\AppData\\Local\\Packages\\CanonicalGroupLimited.UbuntuonWindows_79rhkp1fndgsc\\LocalState\\rootfs```\n",
        "\n",
        "のsota部分(や場合によってはドライブ部分C:)を皆さんの環境に置き換えたものが、  \n",
        "Windows内に構築されたLinuxのルートディレクトリ(最上位のディレクトリ)となります。  \n",
        "Ubuntuを開くと、rootfs以下のhomeディレクトリにログインした状態でターミナルが開きます。\n",
        "\n",
        "パスが上記と微妙に異なる場合は、  \n",
        "WindowsのユーザーフォルダからAppDataを開いて、  \n",
        "検索バーでUbuntuと検索すれば、  \n",
        "該当するディレクトリが見つけられるはずです。  \n",
        "(隠しフォルダを非表示にしていると見えないかも)"
      ]
    },
    {
      "cell_type": "markdown",
      "metadata": {
        "id": "pf6D3K6nDMGz"
      },
      "source": [
        "### Linux側からWindows側のファイルにアクセスする"
      ]
    },
    {
      "cell_type": "markdown",
      "metadata": {
        "id": "1lD8ywRszRCM"
      },
      "source": [
        "WindowsのディスクはLinuxからみた```/mnt/```以下にマウントされている。  \n",
        "たとえば、```/mnt/c/Users/[ユーザー名]/Downloads```\n",
        "で、Windows側のダウンロードフォルダのパスを指定できる。\n",
        "\n",
        "OneDriveによるバックアップに含まれているフォルダは、  \n",
        "デフォルトパスから、OneDriveの下に変更されていることがあるので注意。\n",
        "\n",
        "(例: デスクトップはLinuxから見ると```/mnt/c/Users/[ユーザー名]/Desktop```のはずだが、  \n",
        "デスクトップフォルダがOneDriveのバックアップ対象になっていると、  \n",
        "```/mnt/c/Users/[ユーザー名]/OneDrive/Desktop```などと変更されてしまうので注意。)"
      ]
    },
    {
      "cell_type": "markdown",
      "metadata": {
        "id": "h2K-l3Iu0vHS"
      },
      "source": [
        "### 2-2.の方法"
      ]
    },
    {
      "cell_type": "markdown",
      "metadata": {
        "id": "5th6Q2I90yXC"
      },
      "source": [
        "バックアップや起動ディスク等の知識なくデュアルブート環境を構築しようとすると  \n",
        "最悪の場合すべてのデータを失いますので、こちらを選ぶ場合は予め相談してください。\n",
        "\n",
        "Linux環境を構築をすれば、あとはLinuxを起動し、以下のLinuxの場合の手順に従うだけ。\n",
        "\n"
      ]
    },
    {
      "cell_type": "markdown",
      "metadata": {
        "id": "smNWLNUjQLSu"
      },
      "source": [
        "### 2-3.の方法"
      ]
    },
    {
      "cell_type": "markdown",
      "metadata": {
        "id": "IGGzjhDdQPP9"
      },
      "source": [
        "いまのところ編集予定なし。"
      ]
    },
    {
      "cell_type": "markdown",
      "metadata": {
        "id": "c17cT0gy2fwF"
      },
      "source": [
        "## Macの場合"
      ]
    },
    {
      "cell_type": "code",
      "metadata": {
        "colab": {
          "base_uri": "https://localhost:8080/",
          "height": 335
        },
        "id": "-0EaMODUBA0a",
        "outputId": "d71eaf40-8fb9-447f-bca7-be2f2f9dec99"
      },
      "source": [
        "HTML(r'<iframe width=\"560\" height=\"315\" src=\"https://www.youtube.com/embed/X2FMQYpXtGY\" frameborder=\"0\" allow=\"accelerometer; autoplay; clipboard-write; encrypted-media; gyroscope; picture-in-picture\" allowfullscreen></iframe>')"
      ],
      "execution_count": null,
      "outputs": [
        {
          "output_type": "execute_result",
          "data": {
            "text/html": [
              "<iframe width=\"560\" height=\"315\" src=\"https://www.youtube.com/embed/X2FMQYpXtGY\" frameborder=\"0\" allow=\"accelerometer; autoplay; clipboard-write; encrypted-media; gyroscope; picture-in-picture\" allowfullscreen></iframe>"
            ],
            "text/plain": [
              "<IPython.core.display.HTML object>"
            ]
          },
          "metadata": {
            "tags": []
          },
          "execution_count": 1
        }
      ]
    },
    {
      "cell_type": "markdown",
      "metadata": {
        "id": "HMrb9so42ihm"
      },
      "source": [
        "python2.xやpython3.x (xは購入機種・時期によって違う)が元々入っている。  \n",
        "\n",
        "Launchpadにある[その他]から**ターミナル**を開き、  \n",
        "```python```と入力し、タブキーを2回押すと、  \n",
        "幾つか該当するものが表示される。  \n",
        "以下は一例:\n",
        "```\n",
        "python             python2            python2.7-config   python3-config     python3.7-config   python3.7m-config  pythonw            \n",
        "python-config      python2.7          python3            python3.7          python3.7m         pythontex          pythonw2.7 \n",
        "```\n",
        "\n",
        "python3がある場合は、\n",
        "```$python3```\n",
        "と入力しエンターを押すと、pythonの対話モード(インタラクティブモードとも)が開く※。\n",
        "\n",
        "\n",
        "※初回起動時はXcodeの導入が必要かもしれない  \n",
        "その場合は、ターミナルに\n",
        "```\n",
        "xcode-select --install\n",
        "```\n",
        "を打ち込みインストール作業を行う。  \n",
        "Xcodeのサイズがでかいので安定したネットワーク下で実行すること.\n",
        "\n",
        "Python(対話モード)が起動できたら\n",
        "```\n",
        "print(\"Hello World\")\n",
        "```\n",
        "などと打って、エンターを押すと、文字列```\"Hello World\"```が表示されるので試してみよう。\n",
        "\n",
        "\n",
        "\n",
        "pythonの最新のバージョンやその他色々なものを導入したければ  \n",
        "今後のことも考えてMacにHomebrewと呼ばれるパッケージマネージャを導入しよう。\n",
        "[参考](https://qiita.com/zaburo/items/29fe23c1ceb6056109fd)\n",
        "\n",
        "Homebrewが導入できたら、\n",
        "\n",
        "```\n",
        "brew update\n",
        "brew upgrade\n",
        "brew upgrade python3\n",
        "```\n",
        "と順にターミナルで実行する(暫く掛かるかも).   \n",
        "\n",
        "※python3がもともとない場合は、3つめのものを　\n",
        "```\n",
        "brew install python3\n",
        "```\n",
        "などと置き換える。\n",
        "\n",
        "インストールに成功すれば、python用のパッケージマネージャ(pip)も使えるようになるはず。  \n",
        "以後は\n",
        "```\n",
        "pip install matplotlib\n",
        "pip install pandas\n",
        "```\n",
        "などとすると、python用のモジュールがインストールされ、  \n",
        "pythonからいつでもインポートして使うことができる。\n"
      ]
    },
    {
      "cell_type": "markdown",
      "metadata": {
        "id": "JBnG_Zeapnc5"
      },
      "source": [
        "MacにDocker環境を入れておけば、```apt```で色々揃うので  \n",
        "(とくにPython以外の)レガシーコードの動作確認等には役に立つ。"
      ]
    },
    {
      "cell_type": "markdown",
      "metadata": {
        "id": "OtjKhaH451we"
      },
      "source": [
        "## Linuxの場合"
      ]
    },
    {
      "cell_type": "markdown",
      "metadata": {
        "id": "0rZweyH-53og"
      },
      "source": [
        "Linuxを使っている人が、pythonのインストールができないとは思いにくいが...  \n",
        "\n",
        "ターミナルから\n",
        "```\n",
        "sudo apt update -y\n",
        "sudo apt upgrade -y\n",
        "sudo apt dist-upgrade -y\n",
        "sudo apt autoremove -y\n",
        "```\n",
        "などを実行しパッケージマネージャのアップデート等を行った後  \n",
        "python3系がない場合は\n",
        "```\n",
        "sudo apt install python3\n",
        "```\n",
        "ある場合は\n",
        "```\n",
        "sudo apt upgrade python3\n",
        "```\n",
        "などを実行すればよい。\n",
        "\n",
        "pipがない場合、\n",
        "```\n",
        "sudo apt install python3-pip\n",
        "```\n",
        "を実行する。"
      ]
    },
    {
      "cell_type": "markdown",
      "metadata": {
        "id": "N4vEf_Av9hjN"
      },
      "source": [
        "## Linux/Unix ターミナルの操作"
      ]
    },
    {
      "cell_type": "markdown",
      "metadata": {
        "id": "3uyugO029lsM"
      },
      "source": [
        "基本的な事項をまとめる\n",
        "\n",
        "* Ctrl+C: 入力内容の消去・実行中の作業の中断\n",
        "* Ctrl+D: ターミナル(タブ)を閉じる (Pythonの対話モードから出るときにも使う)\n",
        "* Tab: 入力を補完してくれる\n",
        "* *(半角アスタリスク): ワイルドカード記号\n",
        "\n",
        "基本的なコマンド\n",
        "* cd チェンジディレクトリ, \"現在地\"を変更する\n",
        "```\n",
        "cd ./Desktop \n",
        "cd ../ \n",
        "cd ~\n",
        "cd -\n",
        "```\n",
        "1つめはhomeディレクトリからデスクトップ(があれば)移動  \n",
        "2つめは1つ上の階層に移動する  \n",
        "3つめはホームディレクトリに移動  \n",
        "4つめは直前にいたディレクトリに移動\n",
        "\n",
        "* ls リストコマンド, ファイルやディレクトリなどを表示する.\n",
        "```\n",
        "ls \n",
        "ls ../*.txt\n",
        "ls Picutures/pic_*.png\n",
        "``` \n",
        "1つめは現在いるディレクトリ以下のファイル等を表示  \n",
        "2つめは現在いるディレクトリの１つ上の階層にある.txt拡張子の全ファイルを表示  \n",
        "3つめは現在ホームディレクトリにいると仮定して、その直下にあるPictures以下にあるpngファイルのうち、冒頭が```pic_```のものを全て表示\n",
        "\n",
        "\n",
        "* mkdir コマンド (ディレクトリを作る)\n",
        "``` \n",
        "mkdir Desktop/AdDS2021\n",
        "```\n",
        "\n",
        "* rm ファイルやディレクトリを削除する\n",
        "```\n",
        "rm ./Desktop/report1.txt\n",
        "```\n",
        "ディレクトリを消すときは-rオプションが必要\n",
        "```\n",
        "rm -r ./Desktop/AdDS2021\n",
        "```\n",
        "    **rmコマンドで削除したものはゴミ箱に入れられずに削除されるので注意**  \n",
        "    (rmコマンドにエイリアスを貼って、ゴミ箱を経由する命令に置き換えたり  \n",
        "    rmtrash(や類似のもの)を使用するのがオススメ)\n",
        "\n",
        "* grep 検索\n",
        "``` \n",
        "grep \"Hello World\" Desktop/AdDS2021/*py\n",
        "```\n",
        "\n",
        "\n",
        "**タブ補完**\n",
        "\n",
        "Linux/Unixターミナルでは、タブによる入力補完が使えますので  \n",
        "ぜひ多用してください。\n",
        "\n",
        "ちなみに今Desktopにいて、そこに  \n",
        "```AdDS2019, AdDS2020, AdDS2021```\n",
        "というディレクトリがあり、  \n",
        "最初のものに移動したいとします。\n",
        "こんなとき、いちいち\n",
        "```\n",
        "cd AdDS2019\n",
        "```\n",
        "と打つのは面倒だし、打ち間違えたりします。\n",
        "```\n",
        "cd Ad\n",
        "```\n",
        "と打った時点でタブをポンポンと叩くと、    \n",
        "Desktopに上記のフォルダ以外の\"Ad\"を含むディレクトリがなければ  \n",
        "```AdDS20```まで入力が補完され、  \n",
        "該当する候補(上の全てのディレクトリ)がターミナル上で表示されます。  \n",
        "その後1を打って再びタブを叩くと、該当するものは一つですので  \n",
        "(ambiguityがなくなった時点で)最後まで入力が補完されます。"
      ]
    },
    {
      "cell_type": "markdown",
      "metadata": {
        "id": "-59SkHdxcbdW"
      },
      "source": [
        "## Linuxのホームディレクトリの変更\n",
        "\n"
      ]
    },
    {
      "cell_type": "markdown",
      "metadata": {
        "id": "Cr8gjvHLcf_0"
      },
      "source": [
        "WSLを使用する際、Windows側から見るとLinux(Ubuntu)は```C:\\Users\\sota\\AppData\\Local\\Packages\\CanonicalGroupLimited.UbuntuonWindows_79rhkp1fndgsc\\LocalState\\rootfs```  \n",
        "といった階層に入っている。\n",
        "\n",
        "Ubuntuを起動した際に開くターミナルの\"位置\"(これをホームディレクトリと呼ぶ)は、  \n",
        "上記のルートディレクトリ(rootfs)直下にあるhomeである。  \n",
        "\n",
        "たとえばWindows側のホームディレクトリ ```C:\\Users\\[username]```以下に  \n",
        "適当なディレクトリを作って、それをUbuntuのログイン(ホーム)ディレクトリとして設定することも出来る。\n",
        "\n",
        "※ 以下の操作では、emacsやvi(m)などのエディタに慣れていないうちは  \n",
        "システムファイルに余計な文字を書き込んでしまう危険性があるので  \n",
        "エディタの使い方を調べてから実行するなど、注意が必要です。  \n",
        "(不安な場合はZoomで画面を共有しながら一緒にやりましょう)\n",
        "\n",
        "ホームディレクトリの変更方法は、  \n",
        "1. Ubuntuターミナルから、管理者権限で```/etc/passwd```を開く  \n",
        "たとえば、emacsが入っていれば\n",
        "```\n",
        "sudo emacs /etc/passwd\n",
        "```\n",
        "なければ\n",
        "```\n",
        "sudo vim /etc/passwd\n",
        "```\n",
        "でファイルを開きます。\n",
        "\n",
        "\n",
        "2. どこかに\n",
        "```\n",
        "Ubuntuユーザ名:x:1000:1000:\"\",,,:/home/ユーザ名:/bin/bash\n",
        "```\n",
        "といった欄があるので```/home/ユーザー名```部分を、  \n",
        "Windows側に作成しておいた新しくLinuxのホームディレクトリとしたいディレクトリの  \n",
        "パスに置き換えて、passwdを上書き保存し、閉じる。\n",
        "\n",
        "* Emacsの場合 編集は簡単. Ctrl+X -> Ctrl +Sを押して上書き保存. Ctrl+X->Ctrl+Cで閉じる.\n",
        "* vimの場合 iを押すとインサートモードに入り編集可能に. 編集モードから抜けるのはEsc. ```:wq```で保存して終了\n",
        "\n",
        "3. Ubuntuを再起動し、エラー等が表示されず、  \n",
        "```pwd```コマンドで現在地を確認して設定したディレクトリになっているか確認しましょう。\n",
        "\n",
        "4. もともとのホームディレクトリにあった```.bashrc```(エイリアスなどの情報を書くファイル)を\n",
        "新しいホームディレクトリに移動させれば完了です。\n",
        "```\n",
        "cp -r /home/[user name]/.*  ~/\n",
        "```\n"
      ]
    },
    {
      "cell_type": "markdown",
      "metadata": {
        "id": "EQua9TCuQjgB"
      },
      "source": [
        "# ソースコードの編集"
      ]
    },
    {
      "cell_type": "markdown",
      "metadata": {
        "id": "dKT9iarAGg_o"
      },
      "source": [
        "メモ帳などでも可だが、予約語などの色を区別して表示してくれるエディタを使うのがおすすめ。\n",
        "\n",
        "WindowsではVisual Studio code (VScode)がソコソコ使われているらしい。  \n",
        "Visual Studioを使う場合[コミュニティ]という無料のものを選ぼう。\n",
        "\n",
        "慣れたものが良ければ、google colab.でコードを編集して使うのも  \n",
        "(ソースコードの移動などが面倒だが)一つの手ではある。\n",
        "\n",
        "たとえばWindows内Ubuntu環境を構築した(2-1の)場合、  \n",
        "プログラムをファイルとして保存する方法は大まかに2通りで\n",
        "\n",
        "1. UbuntuのCUI上で使えるエディタ(vi, emacsなど)を使う\n",
        "    * メリット: CUI環境で全て済む, 太古のコンピュータでも使える, ファイルの移動などもコマンドで楽ちん\n",
        "    * デメリット: 専用のコマンドを覚えないといけない\n",
        "2. Windowsでエディタ(たとえば上記のVS Code)を用意してファイルを作成する\n",
        "    * メリット: GUIで操作できるので直観的\n",
        "    * デメリット: Windowsで作成したファイルをLinuxの作業ディレクトリに移動させる(あるいはその逆の)手間が必要になる。  \n",
        "    (一度フォルダをVS Codeで開いたりVS code上のターミナルを使うのがオススメ)\n",
        "\n"
      ]
    },
    {
      "cell_type": "markdown",
      "metadata": {
        "id": "dPK_KIGcyuod"
      },
      "source": [
        "# LICENSE"
      ]
    },
    {
      "cell_type": "markdown",
      "metadata": {
        "id": "q943wB7Z4DYK"
      },
      "source": [
        "\n",
        "Copyright (C) 2021 Sota Yoshida\n",
        "\n",
        "[ライセンス:クリエイティブ・コモンズ 4.0 表示 (CC-BY 4.0)](https://creativecommons.org/licenses/by/4.0/deed.ja)"
      ]
    }
  ]
}