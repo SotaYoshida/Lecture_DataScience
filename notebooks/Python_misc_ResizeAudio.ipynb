{
  "nbformat": 4,
  "nbformat_minor": 0,
  "metadata": {
    "colab": {
      "name": "Python_misc_ResizeAudio.ipynb",
      "provenance": [],
      "include_colab_link": true
    },
    "kernelspec": {
      "name": "python3",
      "display_name": "Python 3"
    }
  },
  "cells": [
    {
      "cell_type": "markdown",
      "metadata": {
        "id": "view-in-github",
        "colab_type": "text"
      },
      "source": [
        "<a href=\"https://colab.research.google.com/github/SotaYoshida/Lecture_DataScience/blob/master/Python_misc_ResizeAudio.ipynb\" target=\"_parent\"><img src=\"https://colab.research.google.com/assets/colab-badge.svg\" alt=\"Open In Colab\"/></a>"
      ]
    },
    {
      "cell_type": "markdown",
      "metadata": {
        "id": "xfXS_exIxwCf",
        "colab_type": "text"
      },
      "source": [
        "#### コレで何ができるのか\n",
        "\n",
        "以下のおまじないを実行していくと、\n",
        "Google Driveにアップロードしたmp3ファイルが圧縮され、変換されたmp3ファイルがdriveに生成されます。"
      ]
    },
    {
      "cell_type": "markdown",
      "metadata": {
        "id": "v0UoTJzXppa9",
        "colab_type": "text"
      },
      "source": [
        "#### Google colabが初めての方へ\n",
        "\n",
        "1. gmailアカウントでログインしてください\n",
        "2. 下のコード(灰色の部分)を実行してみてください  \n",
        "セルの実行は再生マークを押すか、セルにフォーカスを当ててCtrl+Enter(Mac:command+Enter)を押してください\n",
        "3. 実行時の警告はGitHubを介してNotebookを使っていることに由来します。この手の警告が気になる方は、左上の[ファイル]から[ドライブにコピー]を選択し、ご自身のgoogle driveにコピーされたノートブックを使用してください."
      ]
    },
    {
      "cell_type": "code",
      "metadata": {
        "id": "evmXs70--fDj",
        "colab_type": "code",
        "colab": {}
      },
      "source": [
        "A=5\n",
        "B=3\n",
        "C=A+B\n",
        "print(\"AたすBは\"+str(C)+\"です\")"
      ],
      "execution_count": null,
      "outputs": []
    },
    {
      "cell_type": "markdown",
      "metadata": {
        "id": "G1c-us_JisKp",
        "colab_type": "text"
      },
      "source": [
        "#### Google driveをマウントする  \n",
        "1. 以下を実行し、出てくるURLに遷移\n",
        "2. authorization codeをコピーし枠内に貼り付けてEnterを押す  (Google colabからgoogle driveのファイルにアクセスできるようになります)\n"
      ]
    },
    {
      "cell_type": "code",
      "metadata": {
        "id": "C2G6aw8kixUk",
        "colab_type": "code",
        "colab": {}
      },
      "source": [
        "from google.colab import drive\n",
        "drive.mount('./gdrive')"
      ],
      "execution_count": null,
      "outputs": []
    },
    {
      "cell_type": "markdown",
      "metadata": {
        "id": "pdegKGUYli0U",
        "colab_type": "text"
      },
      "source": [
        "`./dgrive/My Drive`がgoogle driveでいうところの**マイドライブ**に相当します。  \n",
        "たとえば、マイドライブの直下に`mp3`というディレクトリがあって、その中に`Jugyo1.mp3`というファイルがあったとします。  \n",
        "\n",
        "すると、そのファイルへのpathは `./gdrive/My Drive/mp3/Jugyo1.mp3`となり、このようにファイルの住所を指定します。  \n",
        "\n",
        "*Google colabでは2バイト(全角)や空白の入ったファイルもあまり意識すること無く使用できますが、プログラムで扱うファイルの名前はやはり半角にするのがおすすめ(古くからの慣例)です。  \n"
      ]
    },
    {
      "cell_type": "markdown",
      "metadata": {
        "id": "vQ6OS02KxhS3",
        "colab_type": "text"
      },
      "source": [
        "**変換したいファイルは予めgoogle driveにアップロードしてください**"
      ]
    },
    {
      "cell_type": "markdown",
      "metadata": {
        "id": "FBTjxzgytgRL",
        "colab_type": "text"
      },
      "source": [
        "#### ファイルの参照やその他の使い方\n",
        "\n",
        "Google Colab.では先頭に!をつけることでターミナルで使用するコマンドを実行することもできます。  \n",
        "つまり、リストの参照をしたいときは!lsとすればよく、ディレクトリを新たに作成したいときは!mkdirといった具合です."
      ]
    },
    {
      "cell_type": "code",
      "metadata": {
        "id": "fjFj1l72njyp",
        "colab_type": "code",
        "colab": {}
      },
      "source": [
        "!ls ./gdrive/My\\ Drive/mp3/*mp3 ## mp3ディレクトリ内のmp3で終わるファイルの一覧を表示するコマンド\n",
        "!mkdir ./gdrive/My\\ Drive/mp3 #マイドライブ直下にmp3というディレクトリを作成するコマンド マイドライブ内にmp3というディレクトリがないときはこれを叩く"
      ],
      "execution_count": null,
      "outputs": []
    },
    {
      "cell_type": "markdown",
      "metadata": {
        "id": "scfeRwAEpfxe",
        "colab_type": "text"
      },
      "source": [
        "\n",
        "  \n",
        "圧縮したいファイルがgoogle drive上にあることを確認できたら、以下の\n",
        "`inpf  = \"引用符内でinput file~~\"`部分の引用符の中を、変換したいご自身のファイルへのパスに置き換えてください.\n",
        "\n",
        "例1:  \n",
        "```\n",
        "inpf = './gdrive/My Drive/宇都宮学入門/めちゃくちゃおもしろい授業音声その530.mp3'\n",
        "```\n",
        "例2:  \n",
        "```\n",
        "inpf = './gdrive/My Drive/mp3/ちょっぴりおもしろい授業音声その1.mp3'\n",
        "```\n",
        "\n",
        "そして、コードを実行します。 \n",
        "\n"
      ]
    },
    {
      "cell_type": "code",
      "metadata": {
        "id": "dkbjKsmDmmvu",
        "colab_type": "code",
        "colab": {}
      },
      "source": [
        "!pip install pydub #pydubのインストール\n",
        "from pydub import AudioSegment                                                                                                 \n",
        "import glob\n",
        "import sys\n",
        "\n",
        "ibit = \"128k\"  ### bitrateを指定 \"64k\", \"128k\", \"256k\"あたりで試すのがおすすめです\n",
        "inpf = \"引用符内でinput file名を入力してください\"\n",
        "\n",
        "sound = AudioSegment.from_file(inpf)\n",
        "oupf= inpf.replace(\".mp3\", \"resized_\"+str(ibit)+\".mp3\")   ##Currently, the code only supports mp3.                                                                       \n",
        "sound.export(oupf, format=\"mp3\", bitrate=ibit)"
      ],
      "execution_count": null,
      "outputs": []
    },
    {
      "cell_type": "markdown",
      "metadata": {
        "id": "s48rlWXMyjRX",
        "colab_type": "text"
      },
      "source": [
        "すると、google driveに圧縮されたファイルが生成されているはずです。"
      ]
    },
    {
      "cell_type": "markdown",
      "metadata": {
        "id": "725N4FPltBIH",
        "colab_type": "text"
      },
      "source": [
        "\n",
        "なお、プログラムは原則的に上から実行され、\n",
        "コード内のシャープ記号は、プログラムに「#以降は読まないように」と命令するのに相当します。\n",
        "当然"
      ]
    },
    {
      "cell_type": "code",
      "metadata": {
        "id": "tEJBmQ-PtJTA",
        "colab_type": "code",
        "colab": {}
      },
      "source": [
        "inpf = \"Jugyo1.mp3\"  \n",
        "inpf = \"Jugyo2.mp3\""
      ],
      "execution_count": null,
      "outputs": []
    },
    {
      "cell_type": "markdown",
      "metadata": {
        "id": "8fK5vXdgtMUG",
        "colab_type": "text"
      },
      "source": [
        "とすると、以降の処理ではinpfという変数には\"Jugyo2.mp3\"が格納されているので\"Jugyo1.mp3\"は処理されないので注意してください。"
      ]
    },
    {
      "cell_type": "markdown",
      "metadata": {
        "id": "z_G44nD8ySuH",
        "colab_type": "text"
      },
      "source": [
        "#### 更に便利な例\n",
        "mp3というディレクトリに1000個mp3があってそれをすべて変換したい場合、inpfの部分を1000回書き換えるのは得策ではありません。以下を実行しましょう。"
      ]
    },
    {
      "cell_type": "markdown",
      "metadata": {
        "id": "R2ljl7t60olh",
        "colab_type": "text"
      },
      "source": [
        "元ファイルとまざってわかりにくい！という場合にそなえて以下のようにresized_mp3というディレクトリを新たに作成してそちらにファイルを作成することにします。\n"
      ]
    },
    {
      "cell_type": "code",
      "metadata": {
        "id": "7fGhzSRC1fMH",
        "colab_type": "code",
        "colab": {}
      },
      "source": [
        "!mkdir ./gdrive/My\\ Drive/resized_mp3"
      ],
      "execution_count": null,
      "outputs": []
    },
    {
      "cell_type": "code",
      "metadata": {
        "id": "6imr15em0scz",
        "colab_type": "code",
        "colab": {}
      },
      "source": [
        "!pip install pydub #pydubのインストール (二回目以降はコメントアウトしてもOK)\n",
        "from pydub import AudioSegment                                                                                                 \n",
        "import glob\n",
        "import sys\n",
        "\n",
        "ibit = \"128k\"  ### bitrateを指定 \"64k\", \"128k\", \"256k\"あたりで試すのがおすすめです\n",
        "inps = glob.glob(\"./gdrive/My Drive/mp3/*.mp3\") ### 左は当該のフォルダ内のすべてのmp3ファイルを変換する場合    *はワイルドカードです                            \n",
        "\n",
        "for inpf in inps:                                                                                                                                                          \n",
        "    oupf= inpf.replace(\"My Drive/mp3\",\"My Drive/resized_mp3\").replace(\".mp3\", \"resized_\"+str(ibit)+\".mp3\")                                                                      \n",
        "    sound = AudioSegment.from_file(inpf)                                                                                                                                \n",
        "    sound.export(oupf, format=\"mp3\", bitrate=ibit)  "
      ],
      "execution_count": null,
      "outputs": []
    }
  ]
}