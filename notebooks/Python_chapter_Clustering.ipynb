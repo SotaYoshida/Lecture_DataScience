{
  "nbformat": 4,
  "nbformat_minor": 0,
  "metadata": {
    "colab": {
      "name": "Python_chapter_Clustering.ipynb",
      "provenance": [],
      "collapsed_sections": [],
      "include_colab_link": true
    },
    "kernelspec": {
      "name": "python3",
      "display_name": "Python 3"
    }
  },
  "cells": [
    {
      "cell_type": "markdown",
      "metadata": {
        "id": "view-in-github",
        "colab_type": "text"
      },
      "source": [
        "<a href=\"https://colab.research.google.com/github/SotaYoshida/Lecture_DataScience/tree/2021/notebooks/Python_chapter_Clustering.ipynb\" target=\"_parent\"><img src=\"https://colab.research.google.com/assets/colab-badge.svg\" alt=\"Open In Colab\"/></a>"
      ]
    },
    {
      "cell_type": "markdown",
      "metadata": {
        "id": "DaKT8z---KiX"
      },
      "source": [
        "#クラスタリング\n"
      ]
    },
    {
      "cell_type": "code",
      "metadata": {
        "id": "UbQPcBxwev0H"
      },
      "source": [
        "#この章で使うライブラリを予めインポートしておく\n",
        "import numpy as np ## numpyというライブラリをインポートしてnpという名前で使う\n",
        "from matplotlib import pyplot as plt "
      ],
      "execution_count": null,
      "outputs": []
    },
    {
      "cell_type": "markdown",
      "metadata": {
        "id": "-Y-aCGHsDJsJ"
      },
      "source": [
        "#### １次元のクラスタリング\n",
        "\n",
        "以下のような１次元データを考えます。"
      ]
    },
    {
      "cell_type": "code",
      "metadata": {
        "id": "kpa8jJOUsMdy"
      },
      "source": [
        "data = [-4.3, -3.1, -0.5, 0.0, 3.8, 5.3]\n",
        "mu_c = 2.0 ## mu candidate"
      ],
      "execution_count": null,
      "outputs": []
    },
    {
      "cell_type": "markdown",
      "metadata": {
        "id": "1eI2sIheiJRj"
      },
      "source": [
        "図にしてみましょう。  \n",
        "(とりあえず詳細を理解する必要はありませんから、以下のコードを実行してください)"
      ]
    },
    {
      "cell_type": "code",
      "metadata": {
        "id": "e9FDKo6Eg41k",
        "colab": {
          "base_uri": "https://localhost:8080/",
          "height": 129
        },
        "outputId": "f94fe68e-7aa1-4ac6-9ff5-c1155ba8168f"
      },
      "source": [
        "data = np.array([-4.3, -3.1, -0.5, 0.0, 3.8, 5.3])\n",
        "fig = plt.figure(figsize=(7,1.5))\n",
        "ax = fig.add_subplot(1,1,1)\n",
        "ax.set_xlim([-5,6.5]);ax.set_ylim([-0.5,0.5])\n",
        "ax.arrow(x=-5,y=0,dx=11,dy=0,width=0.0001,head_width=0.1,head_length=0.2,length_includes_head=True,color='k')\n",
        "ax.spines[\"right\"].set_color(\"none\") # 右消し                                                                                                                                                                                    \n",
        "ax.spines[\"left\"].set_color(\"none\")  # 左消し                                                                                                                                                                                    \n",
        "ax.spines[\"top\"].set_color(\"none\")  # 上消し                                                                                                                                                                                    \n",
        "ax.scatter(data,0*data,label=\"Data\",alpha=0.8,zorder=3000)\n",
        "ax.set_yticks([])\n",
        "ax.legend()\n",
        "plt.show()\n",
        "plt.close()\n"
      ],
      "execution_count": null,
      "outputs": [
        {
          "output_type": "display_data",
          "data": {
            "image/png": "[encoded data removed]",
            "text/plain": [
              "<Figure size 504x108 with 1 Axes>"
            ]
          },
          "metadata": {
            "tags": [],
            "needs_background": "light"
          }
        }
      ]
    },
    {
      "cell_type": "markdown",
      "metadata": {
        "id": "rXljWZZLiTdk"
      },
      "source": [
        "これを3つのクラスターに分類せよと言われれば簡単でしょう。  \n",
        "左の2つ、真ん中の２つ、右の2つですね？  \n",
        "\n",
        "ただ一般のデータではそう簡単には行きませんので、講義でならったように距離の二乗和を計算する必要があるでしょうから、そのためのコードを書いてみましょう。\n",
        "\n",
        "まずは簡単のため、クラスターの数が1個として、\n",
        "クラスターの中心を2.0にとってみます。   \n",
        "\n",
        "6つのデータそれぞれと2.0との距離は以下のように計算できます"
      ]
    },
    {
      "cell_type": "code",
      "metadata": {
        "id": "VQ_CO574i_cP",
        "colab": {
          "base_uri": "https://localhost:8080/",
          "height": 35
        },
        "outputId": "756e7b8d-37c3-4ef1-9868-0dc9be57d69e"
      },
      "source": [
        "data = [-4.3, -3.1, -0.5, 0.0, 3.8, 5.3] ## 念の為再定義\n",
        "total = 0.0 ## 二乗和の値を足していく変数を定義\n",
        "mu_c = 2.0 \n",
        "for tmp in data:\n",
        "  total += (tmp-mu_c)**2\n",
        "print(total)\n"
      ],
      "execution_count": null,
      "outputs": [
        {
          "output_type": "stream",
          "text": [
            "90.07999999999998\n"
          ],
          "name": "stdout"
        }
      ]
    },
    {
      "cell_type": "markdown",
      "metadata": {
        "id": "kzmEmDFxk_Ei"
      },
      "source": [
        "\n",
        "---\n",
        "\n",
        "**補足**  \n",
        "numpyライブラリを使うと、上のコードは"
      ]
    },
    {
      "cell_type": "code",
      "metadata": {
        "id": "LLmamI4SlFE9",
        "colab": {
          "base_uri": "https://localhost:8080/",
          "height": 35
        },
        "outputId": "00c60fc7-ec71-43c6-8c92-cb16c9f7d02d"
      },
      "source": [
        "data = np.array([-4.3, -3.1, -0.5, 0.0, 3.8, 5.3])\n",
        "mu_c = 2.0 \n",
        "total = np.sum( (data-mu_c)**2 )\n",
        "print(total)"
      ],
      "execution_count": null,
      "outputs": [
        {
          "output_type": "stream",
          "text": [
            "90.07999999999998\n"
          ],
          "name": "stdout"
        }
      ]
    },
    {
      "cell_type": "markdown",
      "metadata": {
        "id": "0Wr-8nKDoZj_"
      },
      "source": [
        "と簡略化できます。 data-mu_cでは、各要素からmu_cを引いたndarrayが作成され  \n",
        "\n",
        "sum関数で、要素の全合計を計算します　\n",
        "\n",
        "---\n",
        "\n",
        "\n"
      ]
    },
    {
      "cell_type": "markdown",
      "metadata": {
        "id": "blZ2aoRKkWzB"
      },
      "source": [
        "クラスターの割当が決まっている場合、距離の二乗和を最小化する点は、  \n",
        "同一のクラスターに所属するデータの平均値に一致します。  \n",
        "データの平均値を取得して、二乗和を計算してみます。"
      ]
    },
    {
      "cell_type": "code",
      "metadata": {
        "id": "QaVv6qbfkc89",
        "colab": {
          "base_uri": "https://localhost:8080/",
          "height": 35
        },
        "outputId": "c4303fd7-932b-4002-e3fa-3d057e7af9f4"
      },
      "source": [
        "mu = np.mean(np.array(data))\n",
        "total = 0.0 ## 値の初期化\n",
        "for tmp in data:\n",
        "  total += (tmp-mu)**2\n",
        "print(total)"
      ],
      "execution_count": null,
      "outputs": [
        {
          "output_type": "stream",
          "text": [
            "70.63999999999999\n"
          ],
          "name": "stdout"
        }
      ]
    },
    {
      "cell_type": "markdown",
      "metadata": {
        "id": "ow-RAdaPq6a9"
      },
      "source": [
        "これまでのデータを3つのクラスターに分類したい場合も同様に距離の二乗和を計算します。  \n",
        "ただし、クラスターの数がK個あるときは、K個のクラスター中心を定義しなければなりませんし、それぞれのデータがどのクラスターに所属しているかという情報も必要です。\n",
        "\n",
        "講義で話したように、今の場合はクラスターの中心も予め([-3.7, -0.25, 4.55])と見積もれますから、\n",
        "距離の二乗の総和を求めると、以下のようになります。  \n"
      ]
    },
    {
      "cell_type": "code",
      "metadata": {
        "id": "CcuNmfDFsK2i",
        "colab": {
          "base_uri": "https://localhost:8080/",
          "height": 35
        },
        "outputId": "9c0bc791-55af-4f17-b31e-1f429b67129a"
      },
      "source": [
        "data= [ np.array([-4.3, -3.1]), np.array([-0.5, 0.0]), np.array([3.8, 5.3]) ]\n",
        "mu = np.array([-3.7, -0.25, 4.55])\n",
        "total = 0.0\n",
        "for knum in range(3):\n",
        "  total += np.sum( (data[knum] - mu[knum])**2 )\n",
        "print(total)"
      ],
      "execution_count": null,
      "outputs": [
        {
          "output_type": "stream",
          "text": [
            "1.9699999999999998\n"
          ],
          "name": "stdout"
        }
      ]
    },
    {
      "cell_type": "markdown",
      "metadata": {
        "id": "8hfnI04TqT29"
      },
      "source": [
        "これまで考察してきたものは「予めクラスターの割当が分かっている(決まっている)場合」\n",
        "でした。  \n",
        "ただし、一般の場合にはクラスターの割当を変えながら検証することが必要なので、\n",
        "クラスターの割当を指定するインデックスを含んだものとしてデータを定義しなければなりません。"
      ]
    },
    {
      "cell_type": "code",
      "metadata": {
        "id": "rWBdImfYs2yH"
      },
      "source": [
        "data = np.array( [ [-4.3,2],[-3.1,1],\n",
        "                  [-0.5,2], [0.0,0],\n",
        "                  [3.8,0], [5.3,1] ]) \n",
        "mu_c = np.array([-3.7, -0.25, 4.55])"
      ],
      "execution_count": null,
      "outputs": []
    },
    {
      "cell_type": "markdown",
      "metadata": {
        "id": "rXMlH2OTt3o1"
      },
      "source": [
        "実際には入れ子になっているリストの2番目(クラスターの割当)と、mu_cをあれこれ変えながら、\n",
        "最小の[距離の二乗和]を考える必要がありますが、  \n",
        "講義でも話した通り、こうした最適化問題を解くのは一般に難しく、  \n",
        "また、様々な最適化手法を包括的に学ぶのは、講義の１コマでは不可能です。\n",
        "\n",
        "以下では、最適化を行う部分はライブラリに丸投げすることにして、  \n",
        "[とりあえずクラスタリングができるようになる]というのをひとまずのゴールとしましょう。  \n",
        "\n",
        "\n"
      ]
    },
    {
      "cell_type": "markdown",
      "metadata": {
        "id": "s6oA6LcdvPmL"
      },
      "source": [
        "#### Scipyライブラリを用いたK-means クラスタリング"
      ]
    },
    {
      "cell_type": "markdown",
      "metadata": {
        "id": "NtqfK1i43nNV"
      },
      "source": [
        "まずnumpy,sklearnの２つのライブラリをインポートしましょう。"
      ]
    },
    {
      "cell_type": "code",
      "metadata": {
        "id": "g4CEUois_7P4"
      },
      "source": [
        "import numpy as np\n",
        "from sklearn.cluster import KMeans #sklearnというライブラリのclusterというクラスをKMeansという名前でインポート"
      ],
      "execution_count": null,
      "outputs": []
    },
    {
      "cell_type": "code",
      "metadata": {
        "id": "umqvJCFu7RB-",
        "colab": {
          "base_uri": "https://localhost:8080/",
          "height": 138
        },
        "outputId": "c028887d-a7cf-403e-f71d-e41d8285ef60"
      },
      "source": [
        "data1D=np.array([-4.3, -3.1, -0.5,  0.,   3.8,  5.3])\n",
        "print(data1D)\n",
        "\n",
        "print(data1D.reshape(-1,1))"
      ],
      "execution_count": null,
      "outputs": [
        {
          "output_type": "stream",
          "text": [
            "[-4.3 -3.1 -0.5  0.   3.8  5.3]\n",
            "[[-4.3]\n",
            " [-3.1]\n",
            " [-0.5]\n",
            " [ 0. ]\n",
            " [ 3.8]\n",
            " [ 5.3]]\n"
          ],
          "name": "stdout"
        }
      ]
    },
    {
      "cell_type": "code",
      "metadata": {
        "id": "959OwvBwj0K-"
      },
      "source": [
        "knum=3 ## クラスターの数を指定しておく\n",
        "data1D=np.array([-4.3, -3.1, -0.5,  0.,   3.8,  5.3])\n",
        "KMmodel= KMeans(n_clusters=knum, init='k-means++').fit(data1D.reshape(-1,1))"
      ],
      "execution_count": null,
      "outputs": []
    },
    {
      "cell_type": "markdown",
      "metadata": {
        "id": "J3gwszMvje37"
      },
      "source": [
        "基本的にはこれでおしまいです。  \n",
        "上でやっていることはsklearnライブラリの中のKMeansというクラスの中のfit関数にdata1Dを突っ込んで、クラスタリングのための最適化問題を解いて、  \n",
        "その答え(一式)をKMmodelという変数に格納しています。  \n",
        "関数の引数の```n_clusters```は分類したいクラスターの数です。\n",
        "```init```はKMeans法でクラスタリングする際の初期値の生成の仕方を指定する引数で、```k-means++```はk-means++法と呼ばれる手法です.  \n",
        "[参考文献]David Arthur and Sergei Vassilvitskii. K-means++: the advantages of careful seeding. In In Proceedings of the 18th Annual ACM-SIAM Symposium on Discrete Algorithms, 2007.\n",
        "\n",
        "さらにここから、KMeans(と名前をつけた元々はsklearn.clusterというクラス)内の関数である```cluster_centers_```,```labels_```,```inertia_```を使うと、それぞれ、\n",
        "計算されたクラスターの中心,クラスターの割当のためのインデックスのリスト,距離の二乗和が得られます.\n"
      ]
    },
    {
      "cell_type": "code",
      "metadata": {
        "id": "veYCUS1ApY4k",
        "colab": {
          "base_uri": "https://localhost:8080/",
          "height": 69
        },
        "outputId": "f61f3c95-dea2-4ec8-a5cf-18a67307a4b9"
      },
      "source": [
        "KMmodel.cluster_centers_\n"
      ],
      "execution_count": null,
      "outputs": [
        {
          "output_type": "execute_result",
          "data": {
            "text/plain": [
              "array([[ 4.55],\n",
              "       [-0.25],\n",
              "       [-3.7 ]])"
            ]
          },
          "metadata": {
            "tags": []
          },
          "execution_count": 12
        }
      ]
    },
    {
      "cell_type": "code",
      "metadata": {
        "id": "R6PTbOuO5jzJ",
        "colab": {
          "base_uri": "https://localhost:8080/",
          "height": 35
        },
        "outputId": "107de0d4-75af-40b4-e68a-16d3412a37e6"
      },
      "source": [
        "KMmodel.labels_ ## indices"
      ],
      "execution_count": null,
      "outputs": [
        {
          "output_type": "execute_result",
          "data": {
            "text/plain": [
              "array([2, 2, 1, 1, 0, 0], dtype=int32)"
            ]
          },
          "metadata": {
            "tags": []
          },
          "execution_count": 13
        }
      ]
    },
    {
      "cell_type": "code",
      "metadata": {
        "id": "rotM5pmO5fsO",
        "colab": {
          "base_uri": "https://localhost:8080/",
          "height": 35
        },
        "outputId": "aa5faee5-d2d1-4505-98c7-6b574b11c171"
      },
      "source": [
        "KMmodel.inertia_ ## sum of squared distances"
      ],
      "execution_count": null,
      "outputs": [
        {
          "output_type": "execute_result",
          "data": {
            "text/plain": [
              "1.9699999999999995"
            ]
          },
          "metadata": {
            "tags": []
          },
          "execution_count": 14
        }
      ]
    },
    {
      "cell_type": "markdown",
      "metadata": {
        "id": "KBAqXEYi2nr-"
      },
      "source": [
        "直感的に求めた答えと一致していることがわかります。"
      ]
    },
    {
      "cell_type": "markdown",
      "metadata": {
        "id": "2yB8LfAa37_Z"
      },
      "source": [
        "次に、もうちょっとクラスタリングが非自明な１次元データを作っておきましょう.\n",
        "\n",
        "\n"
      ]
    },
    {
      "cell_type": "code",
      "metadata": {
        "id": "8tluNHQi6rl4"
      },
      "source": [
        "np.random.seed(1234) ##再現性のため乱数のseedを固定 \n",
        "data1D = np.random.normal(-3,1.0,5) #平均-2.0, 標準偏差1.0の正規分布から乱数を5個生成する。\n",
        "data1D = np.concatenate([data1D,np.random.normal(0.0,1.0,5)]) # 平均0.0　〜から〜５個生成して追加\n",
        "data1D = np.concatenate([data1D,np.random.normal(3.0,1.0,5)]) # 平均3.0 の〜 以下同様"
      ],
      "execution_count": null,
      "outputs": []
    },
    {
      "cell_type": "markdown",
      "metadata": {
        "id": "B_3MA4iZAk0e"
      },
      "source": [
        "グラフにするとこんな感じ"
      ]
    },
    {
      "cell_type": "code",
      "metadata": {
        "id": "pFTQg8-PAlU_",
        "colab": {
          "base_uri": "https://localhost:8080/",
          "height": 157
        },
        "outputId": "3e8a018f-55ba-4e32-bffe-d44971f6b344"
      },
      "source": [
        "fig = plt.figure(figsize=(7,2))\n",
        "ax = fig.add_subplot(1,1,1)\n",
        "#ax.set_xlim([-5,6.5]);ax.set_ylim([-0.5,0.5])\n",
        "ax.arrow(x=-5,y=0,dx=11,dy=0,width=0.0001,head_width=0.1,head_length=0.2,length_includes_head=True,color='k')\n",
        "ax.spines[\"right\"].set_color(\"none\");ax.spines[\"left\"].set_color(\"none\")\n",
        "ax.spines[\"top\"].set_color(\"none\")\n",
        "ax.scatter(data1D,0*data1D,label=\"Data\",alpha=0.8,zorder=3000)\n",
        "ax.set_yticks([])\n",
        "plt.show();plt.close()"
      ],
      "execution_count": null,
      "outputs": [
        {
          "output_type": "display_data",
          "data": {
            "image/png": "[encoded data removed]",
            "text/plain": [
              "<Figure size 504x144 with 1 Axes>"
            ]
          },
          "metadata": {
            "tags": [],
            "needs_background": "light"
          }
        }
      ]
    },
    {
      "cell_type": "markdown",
      "metadata": {
        "id": "tzHH3uJ73V3r"
      },
      "source": [
        "先程のKMeans関数を使ってこのデータをクラスタリングしてみましょう。  \n",
        "まずはK=3の場合です。  "
      ]
    },
    {
      "cell_type": "code",
      "metadata": {
        "id": "ZCPlsCurjh2D",
        "colab": {
          "base_uri": "https://localhost:8080/",
          "height": 104
        },
        "outputId": "2a0c3c9e-6a7b-4052-ec53-d362adb3e75a"
      },
      "source": [
        "knum=3 \n",
        "KMmodel= KMeans(n_clusters=knum, init='k-means++').fit(data1D.reshape(-1,1))\n",
        "print(\"cluster_center\", KMmodel.cluster_centers_)\n",
        "print(\"sum of distance\", KMmodel.inertia_)\n",
        "print(\"indices\", KMmodel.labels_)"
      ],
      "execution_count": null,
      "outputs": [
        {
          "output_type": "stream",
          "text": [
            "cluster_center [[-2.92712652]\n",
            " [ 3.69030713]\n",
            " [ 0.42093388]]\n",
            "sum of distance 8.27623790425188\n",
            "indices [0 0 0 0 0 2 2 2 2 0 1 1 1 2 1]\n"
          ],
          "name": "stdout"
        }
      ]
    },
    {
      "cell_type": "markdown",
      "metadata": {
        "id": "_mVVtQf0fG9V"
      },
      "source": [
        "##### エルボー法によるクラスター数の決定\n",
        "\n",
        "一般にK-means法でクラスタリングする際には、分類するクラスターの数それ自体が非自明です。  \n",
        "ここでは、エルボー法として知られる方法で、クラスターの数を決定してみましょう。  \n",
        "\n",
        "エルボー法では、クラスターを変動させたときの距離の二乗和の振る舞いから、\n",
        "ふさわしいクラスター数を決定します。 ```knum```を少しずつ増やしながら、二乗和(```inertia_```の出力)の振る舞いをみてみましょう。\n"
      ]
    },
    {
      "cell_type": "code",
      "metadata": {
        "id": "G5dwaoShfcvN",
        "colab": {
          "base_uri": "https://localhost:8080/",
          "height": 86
        },
        "outputId": "5f1bfcf3-2d58-4a8b-ca45-c3b048e72b11"
      },
      "source": [
        "sumV=[] ## 結果をまとめるための空の配列を作っておく\n",
        "for knum in range(1,10):\n",
        "  sumV += [ [knum, KMeans(n_clusters=knum, init='k-means++').fit(data1D.reshape(-1,1)).inertia_]]\n",
        "sumV=np.array(sumV).T ## 転置を取る \n",
        "print(sumV)"
      ],
      "execution_count": null,
      "outputs": [
        {
          "output_type": "stream",
          "text": [
            "[[  1.           2.           3.           4.           5.\n",
            "    6.           7.           8.           9.        ]\n",
            " [115.0116751   29.43593519   8.2762379    4.29793698   2.51504002\n",
            "    1.11588856   0.66944387   0.36627375   0.15357837]]\n"
          ],
          "name": "stdout"
        }
      ]
    },
    {
      "cell_type": "markdown",
      "metadata": {
        "id": "185G3-37fu15"
      },
      "source": [
        "絵にしてみましょう。"
      ]
    },
    {
      "cell_type": "code",
      "metadata": {
        "id": "JZUimvWIfwDa",
        "colab": {
          "base_uri": "https://localhost:8080/",
          "height": 282
        },
        "outputId": "abad757f-c6db-44ce-8bd5-8003e9bbaf78"
      },
      "source": [
        "fig = plt.figure(figsize=(7,4))\n",
        "ax = fig.add_subplot(1,1,1)\n",
        "ax.set_facecolor(\"#D3DEF1\")\n",
        "ax.set_xlabel(\"number of cluster\");ax.set_ylabel(\"Squared distances\")\n",
        "ax.plot(sumV[0],sumV[1],marker=\"o\")\n",
        "plt.show()\n",
        "plt.close()"
      ],
      "execution_count": null,
      "outputs": [
        {
          "output_type": "display_data",
          "data": {
            "image/png": "[encoded data removed]",
            "text/plain": [
              "<Figure size 504x288 with 1 Axes>"
            ]
          },
          "metadata": {
            "tags": [],
            "needs_background": "light"
          }
        }
      ]
    },
    {
      "cell_type": "markdown",
      "metadata": {
        "id": "vAxsNrWlf4j7"
      },
      "source": [
        "これをみるとK=2から3にかけて肘(エルボー)のように折れ曲がっていますので、\n",
        "K=3くらいがだいたい良さそうなことがわかります。\n",
        "\n",
        "エルボー法が絶対的なクラスター数を与えるわけではないことに注意"
      ]
    },
    {
      "cell_type": "markdown",
      "metadata": {
        "id": "yeLHH1sglU8m"
      },
      "source": [
        "###### 二次元データのクラスタリング\n"
      ]
    },
    {
      "cell_type": "code",
      "metadata": {
        "id": "q91AqjjMqk8j",
        "colab": {
          "base_uri": "https://localhost:8080/",
          "height": 282
        },
        "outputId": "f2954913-06e9-4614-e675-74267a61c15a"
      },
      "source": [
        "from sklearn.datasets import make_blobs\n",
        "X,unusedX=make_blobs(random_state=10) ##標準で用意されているデータセットをインポート\n",
        "plt.scatter(X[:,0],X[:,1])"
      ],
      "execution_count": null,
      "outputs": [
        {
          "output_type": "execute_result",
          "data": {
            "text/plain": [
              "<matplotlib.collections.PathCollection at 0x7ff3b360bfd0>"
            ]
          },
          "metadata": {
            "tags": []
          },
          "execution_count": 20
        },
        {
          "output_type": "display_data",
          "data": {
            "image/png": "[encoded data removed]",
            "text/plain": [
              "<Figure size 432x288 with 1 Axes>"
            ]
          },
          "metadata": {
            "tags": [],
            "needs_background": "light"
          }
        }
      ]
    },
    {
      "cell_type": "markdown",
      "metadata": {
        "id": "gMuGCeKDrQR8"
      },
      "source": [
        "**練習**  \n",
        "このデータXを使って、3つのクラスターに分類してみましょう。\n",
        "KMeansライブラリで\n",
        "1.   クラスター中心\n",
        "2.   距離の二乗和\n",
        "3.   ラベルを取得\n",
        "を計算して、\n",
        "4.   図にしてみよう(クラスターごとに色を変えたりできると良い)\n"
      ]
    },
    {
      "cell_type": "code",
      "metadata": {
        "id": "CUJZ9qLLrcOW"
      },
      "source": [
        ""
      ],
      "execution_count": null,
      "outputs": []
    },
    {
      "cell_type": "markdown",
      "metadata": {
        "id": "k3FYVVtLq0fc"
      },
      "source": [
        "### 補足\n",
        "###### 特殊な形状のデータ\n"
      ]
    },
    {
      "cell_type": "code",
      "metadata": {
        "id": "GQ5EMqplIPjK",
        "colab": {
          "base_uri": "https://localhost:8080/",
          "height": 265
        },
        "outputId": "7df04ba0-a48e-4314-b27c-350359e35160"
      },
      "source": [
        "from sklearn.datasets import make_circles\n",
        "from sklearn.cluster import KMeans\n",
        "\n",
        "N =100\n",
        "noise=0.05\n",
        "xy,z = make_circles(n_samples=N, factor=.5, noise=noise)\n",
        "\n",
        "knum=2\n",
        "km_model= KMeans(n_clusters=knum, init='k-means++', n_init=10, max_iter=300,\n",
        "                    tol=0.0001,precompute_distances='auto', verbose=0,\n",
        "                    random_state=None, copy_x=True, n_jobs=1).fit(xy.reshape(-1,1))\n",
        "km_l = km_model.labels_\n",
        "\n",
        "cols=[\"red\",\"blue\",\"green\"]\n",
        "\n",
        "plt.figure(figsize=(4,4)) \n",
        "for i, tmp in enumerate(xy):\n",
        "    plt.scatter(xy[i][0],xy[i][1],color=cols[km_l[i]])\n",
        "plt.show()\n",
        "plt.close()\n"
      ],
      "execution_count": null,
      "outputs": [
        {
          "output_type": "display_data",
          "data": {
            "image/png": "[encoded data removed]",
            "text/plain": [
              "<Figure size 288x288 with 1 Axes>"
            ]
          },
          "metadata": {
            "tags": [],
            "needs_background": "light"
          }
        }
      ]
    },
    {
      "cell_type": "markdown",
      "metadata": {
        "id": "rCbg_gogCnLw"
      },
      "source": [
        "このように、特殊な形状な場合のクラスタリングにはK-means法は一般に有効ではなく、Spectral Clusteringなどの手法が必要です。"
      ]
    }
  ]
}
