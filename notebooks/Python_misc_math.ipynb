{
  "nbformat": 4,
  "nbformat_minor": 0,
  "metadata": {
    "colab": {
      "name": "Python_misc_math.ipynb",
      "provenance": [],
      "authorship_tag": "ABX9TyPilBqDcRlDoKyOCb6Janot",
      "include_colab_link": true
    },
    "kernelspec": {
      "name": "python3",
      "display_name": "Python 3"
    },
    "language_info": {
      "name": "python"
    }
  },
  "cells": [
    {
      "cell_type": "markdown",
      "metadata": {
        "id": "view-in-github",
        "colab_type": "text"
      },
      "source": [
        "<a href=\"https://colab.research.google.com/github/SotaYoshida/Lecture_DataScience/blob/master/Python_misc_math.ipynb\" target=\"_parent\"><img src=\"https://colab.research.google.com/assets/colab-badge.svg\" alt=\"Open In Colab\"/></a>"
      ]
    },
    {
      "cell_type": "markdown",
      "metadata": {
        "id": "WYpsm3PugGlI"
      },
      "source": [
        "(未編集)"
      ]
    },
    {
      "cell_type": "markdown",
      "metadata": {
        "id": "IHmu7dfYfV3L"
      },
      "source": [
        "# 数学の基礎事項について\n",
        "\n"
      ]
    },
    {
      "cell_type": "markdown",
      "metadata": {
        "id": "it_kxoKXgDfO"
      },
      "source": [
        "※関連するノートブック"
      ]
    },
    {
      "cell_type": "code",
      "metadata": {
        "id": "OhWjFdLWfh-1"
      },
      "source": [
        ""
      ],
      "execution_count": null,
      "outputs": []
    },
    {
      "cell_type": "markdown",
      "metadata": {
        "id": "BQcTACZvsYyW"
      },
      "source": [
        "## 微分\n",
        "\n",
        "日本では、中学校(2年?)で傾きと切片を学習する。\n",
        "\n",
        "ある直線$y=ax+b$を考えたとき、直線の傾き$a$に着目すれば、  \n",
        "$x$の増加分に対して$y$がどれだけ変化するかを知ることができる。\n",
        "\n",
        "一方、実社会で扱うデータは、一般に直線よりも複雑な形をしていて、  \n",
        "それを式で表現しようと思うと、様々な関数の形を考える必要がある。  \n",
        "(たとえば何かの値の季節変動などをイメージしてください)\n",
        "\n",
        "そこで、直線の場合の[傾き]を、直線以外の関数に\"拡張\"しようと考えるのは  \n",
        "至って自然な発想といえる。それが**微分**の概念である.\n",
        "\n",
        "微分(積分)の歴史は古く、人類史のどの時点でアイデアが確立したとするかは諸説あるが  \n",
        "最も代表的なものは、17世紀にニュートンとライプニッツが確立したとする説で  \n",
        "ニュートンは微分の概念を独自に定式化し、天体の軌道などを予測するなどの偉大な功績を残した.\n",
        "\n",
        "以下の内容は、全学向けの授業ということもあって厳密性はかなり犠牲にして微分の概念を導入している  \n",
        "(もちろん、大学の数学の教科書に載っている関数の連続性や微分の厳密な定義は非常に重要です).\n",
        "\n",
        "時間があったら、ヨビノリさんの[「中学数学からはじめる微分積分」](https://youtu.be/4p1rwfXbCoY)を視聴していただけると、  \n",
        "「なぜ微分なんてものを考えないといけないのか」のイメージがつくのかな、と思います。\n",
        "\n",
        "補足資料: [講義ノート](https://drive.google.com/file/d/1ZKi8DJFSg00xir1IoEQiw3z9vxmejeCv/view)の4章[数学的準備]\n"
      ]
    },
    {
      "cell_type": "markdown",
      "metadata": {
        "id": "OJqvQeu8wOgC"
      },
      "source": [
        "### 微分の基本的な考え方\n",
        "\n",
        "定義: ある変数$x$について関数$f(x)$が与えられているとき、  \n",
        "関数$f(x)$の$x=a$での微分を  \n",
        "$f'(a)=\\lim_{\\delta \\to 0} \\frac{f(a+\\delta)-f(a)}{\\delta}$と定義する.  \n",
        "\n",
        "ここで、$\\lim_{\\delta \\to 0}$は0に限りなく近い(無限小)の$\\delta$を考えることを意味する。  \n",
        "\n",
        "つまり、関数をある点からちょこっとだけ動かしたときに、  \n",
        "関数の値が変動する度合いがどれくらいかを表しています。  \n",
        "上の定義は「無限小の幅で関数を直線で近似して傾きを計算している」とも言いかえられるでしょう。\n",
        "\n",
        "**直線の例**  \n",
        "$f(x) = ax + b $の$x=x_1$での微分値は定義に当てはめて計算すると  \n",
        "$f'(x_1)= \\lim_{\\delta \\to 0} \\frac{f(x_1+\\delta)-f(x_1)}{\\delta}= \\lim_{\\delta \\to 0} \\frac{(a(x_1+\\delta)+b)-(ax_1+b)}{\\delta} = a $ となる。  \n",
        "つまり微分の値は直線の傾きに対応していて、  \n",
        "なおかつ微分の値はどこの場所($x$)で調べても定数$a$であることを意味している。\n",
        "\n",
        "\n",
        "**二次関数(放物線)の例**  \n",
        "$f(x) = ax^2 + bx +c $\n",
        "の$x=x_1$での微分は、定義にならって計算すると\n",
        "$f'(x_1) = 2ax_1+b$となる(確かめてみよう)  \n",
        "一方で$f(x)$を平方完成すると$f(x)=a(x+\\frac{b}{2a})^2 -\\frac{b^2}{4a} +c$となり、  \n",
        "$x=-b/(2a)$で傾きが0になる。  \n",
        "つまりこの二次関数は$x=-b/(2a)$で極値($a>0$なら最小値, $a<0$なら最大値)を持つ。\n",
        "\n",
        "微分が0というのは関数の形がそこで谷や峠になっていることを意味する。  \n",
        "実際上の例でも微分の値は$x_1=-b/(2a)$のとき、値は0になっている.\n",
        "\n",
        "\n",
        "\n",
        "\n",
        "\n"
      ]
    },
    {
      "cell_type": "markdown",
      "metadata": {
        "id": "EKvfZuwG02Wv"
      },
      "source": [
        "a=2.0,b=4.0,c=5.0とでもして、図をかいてみよう"
      ]
    },
    {
      "cell_type": "code",
      "metadata": {
        "id": "Bh0Y1E-A03PF",
        "colab": {
          "base_uri": "https://localhost:8080/"
        },
        "outputId": "8f311de7-2ee8-41e8-cce8-d37addcb1027"
      },
      "source": [
        "from matplotlib import pyplot as plt\n",
        "import numpy as np\n",
        "xr = np.arange(-5.0,3.0,0.01)\n",
        "yr = 2.0 * xr**2 + 4.0 * xr + 5.0\n",
        "fig = plt.figure(figsize=(10,2))\n",
        "plt.plot(xr,yr)\n",
        "plt.show()"
      ],
      "execution_count": null,
      "outputs": [
        {
          "output_type": "display_data",
          "data": {
            "image/png": "[encoded data removed]",
            "text/plain": [
              "<Figure size 720x144 with 1 Axes>"
            ]
          },
          "metadata": {
            "tags": [],
            "needs_background": "light"
          }
        }
      ]
    },
    {
      "cell_type": "markdown",
      "metadata": {
        "id": "1Vdm0nMX1oCX"
      },
      "source": [
        "確かに$x=-b/(2a)=-1.0$のところで極値(最小値)となっている。"
      ]
    },
    {
      "cell_type": "markdown",
      "metadata": {
        "id": "HUp-OGlj6wOg"
      },
      "source": [
        "微分の値もplotしてみると"
      ]
    },
    {
      "cell_type": "code",
      "metadata": {
        "id": "ZyvYWUVX6xo6",
        "colab": {
          "base_uri": "https://localhost:8080/"
        },
        "outputId": "f8e5746d-43d0-44ed-bd13-a8eb3bc8a433"
      },
      "source": [
        "xr = np.arange(-5.0,3.0,0.01)\n",
        "yr = 2.0 * xr**2 + 4.0 * xr + 5.0\n",
        "yp = 4.0 * xr + 4.0 \n",
        "fig = plt.figure(figsize=(20,4))\n",
        "axs = [fig.add_subplot(121),fig.add_subplot(122)]\n",
        "axs[0].plot(xr,yr,label=\"f(x)\"); axs[0].legend()\n",
        "axs[1].plot(xr,yp,label=\"f'(x)\");axs[1].plot([-5,3],[0,0],color=\"gray\",linestyle=\"dotted\");axs[1].legend()\n",
        "plt.show();plt.close()"
      ],
      "execution_count": null,
      "outputs": [
        {
          "output_type": "display_data",
          "data": {
            "image/png": "[encoded data removed]",
            "text/plain": [
              "<Figure size 1440x288 with 2 Axes>"
            ]
          },
          "metadata": {
            "tags": [],
            "needs_background": "light"
          }
        }
      ]
    },
    {
      "cell_type": "markdown",
      "metadata": {
        "id": "dstsTQdJ7sFs"
      },
      "source": [
        "$x<-1$では$f'(x)<0$で、$x>-1$では$f'(x)>0$となっていますね。"
      ]
    },
    {
      "cell_type": "markdown",
      "metadata": {
        "id": "Z0uJ-5dE1xNE"
      },
      "source": [
        "これまでは、定義に即して微分の値を計算していましたが、毎回調べたい点で定義に立ち返るというのは面倒です。\n",
        "\n",
        "関数が閉じた形で与えられているとき(つまり、$f(x)$が$x$の具体的な表式で与えられているとき)  \n",
        "多くはその微分$f'(x)$も$x$の関数として書き下すことができます。  \n",
        "\n",
        "そうすれば、$x$に特定の値を代入すれば好きな点での微分の値$f'(x)$を知ることができます。\n",
        "\n",
        "\n",
        "とりあえずは以下を公式的に抑えておけば問題は有りません。\n",
        "\n",
        "1. $x$の$x$に対する微分は1\n",
        "2. $a x^p$の$x$に対する微分は$apx^{p-1}$ ($a$は非ゼロの定数)\n",
        "3. $\\exp{(x)}$(ネイピア数$e$の$x$乗)の$x$に対する微分は$\\exp{(x)}$ \n",
        "4. $\\cos{x}$の$x$に対する微分は$-\\sin{x}$\n",
        "5. $\\sin{x}$の$x$に対する微分は$\\cos{x}$\n",
        "6. $\\ln{x}$の$x$に対する微分は$1/x$\n",
        "\n",
        "いずれも、上の微分の定義や、指数関数/三角関数/対数関数の定義(c.f. マクローリン展開)から証明することができますので、興味があれば人生で一度はやってみてください。\n"
      ]
    }
  ]
}