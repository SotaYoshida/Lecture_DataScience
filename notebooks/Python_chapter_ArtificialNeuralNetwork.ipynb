{
  "nbformat": 4,
  "nbformat_minor": 0,
  "metadata": {
    "colab": {
      "name": "Python_chapter_ArtificialNeuralNetwork.ipynb",
      "provenance": [],
      "collapsed_sections": [],
      "authorship_tag": "ABX9TyMChUgJ4u/3kU3+zBHyGn1X",
      "include_colab_link": true
    },
    "kernelspec": {
      "name": "python3",
      "display_name": "Python 3"
    },
    "accelerator": "TPU"
  },
  "cells": [
    {
      "cell_type": "markdown",
      "metadata": {
        "id": "view-in-github",
        "colab_type": "text"
      },
      "source": [
        "<a href=\"https://colab.research.google.com/github/SotaYoshida/Lecture_DataScience/blob/master/Python_chapter_ArtificialNeuralNetwork.ipynb\" target=\"_parent\"><img src=\"https://colab.research.google.com/assets/colab-badge.svg\" alt=\"Open In Colab\"/></a>"
      ]
    },
    {
      "cell_type": "markdown",
      "metadata": {
        "id": "sKor3X3ievgT"
      },
      "source": [
        "# 機械学習: ニューラルネットワークによる回帰"
      ]
    },
    {
      "cell_type": "markdown",
      "metadata": {
        "id": "4qZBy99AnBTn"
      },
      "source": [
        "\n",
        "\n",
        "この章では、最も単純な、入力層・隠れ層・出力層からなるニューラルネットワークを使って、データから尤もらしい予測を与える関数を構築してみましょう。\n",
        "\n",
        "対象とする(疑似)データは、多項式回帰の際に用いたデータと同じsin関数＋ノイズで生成することにします。\n",
        "\n",
        "\n",
        "* すすんだ注: このノートブックでは「ニューラルネットワークをPythonで表現してみる」ことに重きをおくため、使用するデータを訓練データ,検証データ,テストデータに分けることはせず、データは全てニューラルネットワークの訓練データとして使うこととします。\n",
        "授業で説明するとおり、一般に[教師あり学習]の文脈でニューラルネットワークを考える際は、本来データを上の様に複数用途に分けながら、モデル選択を行ったり、汎化性能の評価に使ったりします。"
      ]
    },
    {
      "cell_type": "code",
      "metadata": {
        "id": "nme6EtxcerdN"
      },
      "source": [
        "import numpy as np\n",
        "def create_toy_data(sample_size, std):\n",
        "    np.random.seed(1234) #毎回同じデータになるように乱数の種を固定しておく \n",
        "    x = np.linspace(0, 0.5, sample_size)\n",
        "    t = np.sin(2*np.pi*x) + np.random.normal(scale=std, size=x.shape)                                                                                                                 \n",
        "    return x, t\n",
        "\n",
        "xt,yt = create_toy_data(40,5.e-2) "
      ],
      "execution_count": null,
      "outputs": []
    },
    {
      "cell_type": "code",
      "metadata": {
        "id": "kZDRP8GFCSl1",
        "colab": {
          "base_uri": "https://localhost:8080/",
          "height": 279
        },
        "outputId": "c966d25b-df0c-4e7b-f96c-093653f0a07c"
      },
      "source": [
        "###グラフにしてみる\n",
        "import matplotlib.pyplot as plt\n",
        "fig = plt.figure(figsize=(10,4))\n",
        "ax = fig.add_subplot(111)\n",
        "ax.set_xlabel(\"x\"); ax.set_ylabel(\"y\")\n",
        "ax.scatter(xt, yt, facecolor=\"none\", edgecolor=\"b\", s=50, label=\"Data\")\n",
        "ax.legend()\n",
        "plt.show()\n",
        "plt.close()"
      ],
      "execution_count": null,
      "outputs": [
        {
          "output_type": "display_data",
          "data": {
            "image/png": "[encoded data removed]",
            "text/plain": [
              "<Figure size 720x288 with 1 Axes>"
            ]
          },
          "metadata": {
            "tags": [],
            "needs_background": "light"
          }
        }
      ]
    },
    {
      "cell_type": "markdown",
      "metadata": {
        "id": "qG3GbElypvo7"
      },
      "source": [
        "ではいくつか必要な関数を適宜定義しながら進めていきましょう。\n",
        "\n",
        "*注: 以下のコードは入力・出力ともに1次元かつ、決まったニューラルネットワーク構造の場合に対して書かれているため、naiveに2層以上の隠れ層を持つニューラルネットワークに拡張するのはstraightfowardではなく、また効率的ではありません。"
      ]
    },
    {
      "cell_type": "code",
      "metadata": {
        "id": "uRYnoX_rhm6U"
      },
      "source": [
        "nhl = 16 ## 隠れ層のノードの数を指定 これを増やすほどニューラルネットワークの表現能力が上がる一方、データに過適合しやすくなる(例外あり)"
      ],
      "execution_count": null,
      "outputs": []
    },
    {
      "cell_type": "code",
      "metadata": {
        "id": "9NjbaZrFpw0K"
      },
      "source": [
        "#重み行列W,V(今はベクトル)と、隠れ層でのバイアスbs,出力層でのバイアスを正規乱数で初期化\n",
        "np.random.seed(1234)  #結果が実行ごとに同じになるよう乱数を固定(バグを見つけやすくする)\n",
        "W = np.array([ np.random.normal() for i in range(nhl)])\n",
        "V = np.array([ np.random.normal() for i in range(nhl)])\n",
        "bs = np.array([np.random.normal() for i in range(nhl)])\n",
        "b0 = np.random.normal()"
      ],
      "execution_count": null,
      "outputs": []
    },
    {
      "cell_type": "markdown",
      "metadata": {
        "id": "OqSaHMtth5to"
      },
      "source": [
        "隠れ層で作用させる活性化関数を定義しておきましょう。"
      ]
    },
    {
      "cell_type": "code",
      "metadata": {
        "id": "z8XFRbf6h6q9"
      },
      "source": [
        "#シグモイド関数: 活性化関数の一つ\n",
        "def sigmoid(z):\n",
        "    return 1.0/(1.0+np.exp(-z))"
      ],
      "execution_count": null,
      "outputs": []
    },
    {
      "cell_type": "markdown",
      "metadata": {
        "id": "iHf3g_gsiENm"
      },
      "source": [
        "最適化したい量(データとモデルの齟齬を表す量)を目的関数(target function)やloss functionなどと呼びます。(以下でもそれに倣う)\n",
        "\n",
        "以下では、データとANNのアウトプットの二乗誤差を目的関数として定めることにします。"
      ]
    },
    {
      "cell_type": "code",
      "metadata": {
        "id": "AsIEltHxiEY4"
      },
      "source": [
        "### データとANNの出力間の二乗誤差を計算する関数を作っておく。\n",
        "def calc_tloss(x,y,tW,tV,tbs,tb0,acf):\n",
        "    nhl = len(tW)\n",
        "    s=0.0\n",
        "    for i in range(len(x)):\n",
        "        s += (np.dot(tV, acf(tW*x[i]+tbs)) + tb0 - y[i])**2\n",
        "    return s"
      ],
      "execution_count": null,
      "outputs": []
    },
    {
      "cell_type": "markdown",
      "metadata": {
        "id": "Q_QhyjGnQVyJ"
      },
      "source": [
        "上ではcalc_tlossの引数にacfという変数を指定し、acfにsigmoidを指定しました。この様にしておくと、sigmoid関数以外の活性化関数を使う際にも、上のcalc_tloss関数が使いまわせますね。\n",
        "\n"
      ]
    },
    {
      "cell_type": "markdown",
      "metadata": {
        "id": "6P_hprmIWE0w"
      },
      "source": [
        "####データの下処理\n",
        "\n",
        "機械学習などの分析では、データの値を中心0,分散1に変換して扱うのが基本です。\n",
        "\n",
        "このことを、データの標準化と呼びます。\n",
        "\n"
      ]
    },
    {
      "cell_type": "code",
      "metadata": {
        "id": "ABVMF4Y9WCBN"
      },
      "source": [
        "ymean = np.mean(yt)\n",
        "ystd = np.std(yt)\n",
        "ny = (np.array(yt)-ymean)/ ystd #それぞれのデータを平均をひいて標準偏差で割る"
      ],
      "execution_count": null,
      "outputs": []
    },
    {
      "cell_type": "markdown",
      "metadata": {
        "id": "p_n9AjxUYWUr"
      },
      "source": [
        "なぜ標準化が必要なのかは、今のような1次元入力データの場合よりもむしろ多変数を扱う際を考えてみるとわかります。\n",
        "\n",
        "変数ごとに標準的なスケールが違う値を扱う場合、スケールの大きな量に学習が引っ張られる、ということが起こりえます。\n",
        "\n",
        "たとえば目的関数を[体重と身長、それぞれについての二乗誤差の和]とする場合、  \n",
        "データが50kg、ニューラルネットワークの予測が55kgで10%違っていても、二乗誤差の値は25ですが、  \n",
        "身長が180cm vs 198cmと10%違っていたら、二乗誤差の値は324となります。  \n",
        "したがって、目的関数は身長の予測精度により強く依存することになり、  \n",
        "身長をより重視する(きちんと再現する)方向へ、ニューラルネットワークの学習が引っ張られてしまいます。\n",
        "\n",
        "もちろん、身長をより高い精度で推測したいニューラルネットワークを構築したいなら話は別ですが、  \n",
        "特定の値を特別視しない(全ての量を平等に扱う)のなら、標準化が必須です。\n",
        "\n",
        "進んだ注)一方、最近になって、特定のアーキテクチャのネットワークを考える際に白色化が汎化性能を下げてしまう例というのも報告されています。https://arxiv.org/abs/2008.07545"
      ]
    },
    {
      "cell_type": "code",
      "metadata": {
        "id": "e01pxFk0Qiuj"
      },
      "source": [
        "acf = sigmoid #sigmoid関数をacfという名前で使う"
      ],
      "execution_count": null,
      "outputs": []
    },
    {
      "cell_type": "markdown",
      "metadata": {
        "id": "eUXQaPuVQ_FR"
      },
      "source": [
        "さて、初期値W,V,bs,b0と活性化関数にsigmoidを選んだニューラルネットワークとデータの値の二乗誤差は..."
      ]
    },
    {
      "cell_type": "code",
      "metadata": {
        "id": "Xsdv35IfQ_bs",
        "colab": {
          "base_uri": "https://localhost:8080/",
          "height": 34
        },
        "outputId": "c2e82f8d-7179-493c-d971-4b905ccd656d"
      },
      "source": [
        "print(\"初期値での二乗誤差\",calc_tloss(xt,ny,W,V,bs,b0,acf))"
      ],
      "execution_count": null,
      "outputs": [
        {
          "output_type": "stream",
          "text": [
            "初期値での二乗誤差 313.1095204085971\n"
          ],
          "name": "stdout"
        }
      ]
    },
    {
      "cell_type": "markdown",
      "metadata": {
        "id": "q5o7mlnFMPLF"
      },
      "source": [
        "データ1個あたり、ニューラルネットワークとデータ値との間にどれくらい誤差があるかというと..."
      ]
    },
    {
      "cell_type": "code",
      "metadata": {
        "id": "84AJ8uM3MYxi",
        "colab": {
          "base_uri": "https://localhost:8080/",
          "height": 34
        },
        "outputId": "6b6d8cb8-4c54-451a-e435-4eff8e135f2b"
      },
      "source": [
        "print(\"データ1個あたりの誤差:\", np.sqrt(calc_tloss(xt,ny,W,V,bs,b0,acf)/len(xt))) #データ1個あたりどれほど誤差*があるか *標準化された誤差"
      ],
      "execution_count": null,
      "outputs": [
        {
          "output_type": "stream",
          "text": [
            "データ1個あたりの誤差: 2.797809502131074\n"
          ],
          "name": "stdout"
        }
      ]
    },
    {
      "cell_type": "markdown",
      "metadata": {
        "id": "iV0s8cpJrN2e"
      },
      "source": [
        "ランダムに生成した重み(W,V)やバイアス項(bs,b0)では、まだニューラルネットワークは訓練がなされていないデタラメな関数なので、図にプロットしてみると...\n"
      ]
    },
    {
      "cell_type": "code",
      "metadata": {
        "id": "pSmbEHP9MhfL",
        "colab": {
          "base_uri": "https://localhost:8080/",
          "height": 279
        },
        "outputId": "81360a2c-d94e-48f2-9fb8-73f221065651"
      },
      "source": [
        "xp = np.linspace(0.0,0.5,300)\n",
        "yp = np.array([np.dot(V, sigmoid(W*xp[i]+bs)) for i in range(len(xp))])\n",
        "\n",
        "fig = plt.figure(figsize=(10,4))\n",
        "ax = fig.add_subplot(111)\n",
        "ax.set_xlabel(\"x\"); ax.set_ylabel(\"y\")\n",
        "ax.scatter(xt, yt, facecolor=\"none\", edgecolor=\"b\", s=50, label=\"Data\") \n",
        "ax.plot(xp,yp*ystd+ymean,label=\"ANN\") #ニューラルネットワークの予測ypは、\"標準化された\"yの値に従って学習されているので、元のスケールに戻さないといけない。\n",
        "ax.legend()\n",
        "plt.show(); plt.close()"
      ],
      "execution_count": null,
      "outputs": [
        {
          "output_type": "display_data",
          "data": {
            "image/png": "[encoded data removed]",
            "text/plain": [
              "<Figure size 720x288 with 1 Axes>"
            ]
          },
          "metadata": {
            "tags": [],
            "needs_background": "light"
          }
        }
      ]
    },
    {
      "cell_type": "markdown",
      "metadata": {
        "id": "zfYX7Od8NEDt"
      },
      "source": [
        "当然ですが、全然だめですね。\n",
        "\n",
        "状況を改善するためにニューラルネットワークのパラメータを徐々に更新(学習)していきましょう。\n",
        "\n",
        "そのためには、まず勾配を計算する関数を用意しておきます。\n",
        "\n",
        "loss functionを$f$と書くことにすると、必要な勾配は4種類で\n",
        "$\\frac{\\partial f}{\\partial W}, \\frac{\\partial f}{\\partial V}, \\frac{\\partial f}{\\partial b}, \\frac{\\partial f}{\\partial b_0}$です。  \n",
        "プログラムではそれぞれ```dw,dv,dbs,db0```とでも名前をつけることにして、勾配を返り値として与える関数を定義します。\n",
        "\n",
        "以下では、勾配降下法, Adamの2通りの最適化手法を用いてパラメータを更新することとします。"
      ]
    },
    {
      "cell_type": "markdown",
      "metadata": {
        "id": "wOxttwbLdc1E"
      },
      "source": [
        "### 勾配降下法"
      ]
    },
    {
      "cell_type": "markdown",
      "metadata": {
        "id": "nyeC4YIfjnua"
      },
      "source": [
        "勾配降下法とは、目的関数を微分した勾配の値のみを使ってパラメータを更新する方法です。\n",
        "\n",
        "たとえば,重み$W$の$i$番目を更新する際には、\n",
        "\n",
        "$W_i := W_i - \\eta \\frac{\\partial f}{\\partial W_i}$\n",
        "\n",
        "とします。($f$は目的関数で、$\\eta$は学習率(パラメータ更新のスケールを決めるパラメータ)です。)"
      ]
    },
    {
      "cell_type": "code",
      "metadata": {
        "id": "xyL8Tvp1r6F-"
      },
      "source": [
        "def calc_der(x,y,tW,tV,tbs,tb0,acf,acfder):\n",
        "    tdw =  np.array([0.0 for i in range(len(tW))])\n",
        "    tdv =  np.array([0.0 for i in range(len(tV))])\n",
        "    tdbs = np.array([0.0 for i in range(len(tbs))])\n",
        "    tdb0 = 0.0\n",
        "    #以下の勾配の計算は、目的関数が二乗誤差かつ全データでの勾配の和を使用する場合にのみ正しい\n",
        "    for i in range(len(x)):\n",
        "        g = np.dot(tV, acf(tW*x[i]+tbs) ) + tb0 - y[i]\n",
        "        tdb0 += 2.0 * g\n",
        "        for jth in range(nhl):                    \n",
        "            tdv[jth]  += 2.0 * g * acf(tW[jth]*x[i]+tbs[jth])\n",
        "            tdw[jth]  += 2.0 * g * tV[jth] * acfder(tW[jth]*x[i]+tbs[jth]) *x[i]\n",
        "            tdbs[jth] += 2.0 * g * tV[jth] * acfder(tW[jth]*x[i]+tbs[jth])\n",
        "    return tdw, tdv, tdbs, tdb0\n",
        "\n",
        "#シグモイド関数の微分: 勾配の計算を具体的に求めるのに使う\n",
        "def sigmoid_der(z):\n",
        "    return np.exp(-z)/ ((1.0+np.exp(-z))**2)"
      ],
      "execution_count": null,
      "outputs": []
    },
    {
      "cell_type": "markdown",
      "metadata": {
        "id": "UOWJiYG6Nrp5"
      },
      "source": [
        "さてW,V,bs,b0の初期値での勾配の値は"
      ]
    },
    {
      "cell_type": "code",
      "metadata": {
        "id": "6Px2oXdcNzTQ",
        "colab": {
          "base_uri": "https://localhost:8080/",
          "height": 238
        },
        "outputId": "acef0629-2681-47c6-9bad-33d43ecfc332"
      },
      "source": [
        "acf = sigmoid\n",
        "acfder = sigmoid_der #sigmoid関数の微分sigmoid_derをacfderという名前で使う\n",
        "calc_der(xt,ny,W,V,bs,b0,acf,acfder)"
      ],
      "execution_count": null,
      "outputs": [
        {
          "output_type": "execute_result",
          "data": {
            "text/plain": [
              "(array([  3.71768718,   3.42487069,  11.00052237, -19.86949718,\n",
              "         -2.6224706 ,  -8.52137151,   1.83366782,   2.68306716,\n",
              "         17.14697937,  -3.90458411,   8.31922697, -12.29443667,\n",
              "         -2.17912443,   7.55129304,  -5.09567869,   4.39648691]),\n",
              " array([159.35982299, 141.67501356, 160.90790174,  94.15902163,\n",
              "        101.71777326,  99.29137319, 154.96003837, 188.79870715,\n",
              "        108.76124583,  52.66658505, 121.14831466,  29.22709608,\n",
              "        129.31113955,  42.52714301,  93.12439202, 105.55855779]),\n",
              " array([ 15.3634969 ,  13.09474627,  48.52059886, -80.02456212,\n",
              "        -10.54790346, -34.01603145,   7.73369772,  10.15640871,\n",
              "         68.81205743, -18.00095629,  34.11414435, -45.52845202,\n",
              "         -8.98223104,  35.20765921, -20.53605489,  17.64215683]),\n",
              " 209.14938165821826)"
            ]
          },
          "metadata": {
            "tags": []
          },
          "execution_count": 41
        }
      ]
    },
    {
      "cell_type": "markdown",
      "metadata": {
        "id": "k7vvCZExdmnK"
      },
      "source": [
        "と計算できるようになりました。"
      ]
    },
    {
      "cell_type": "code",
      "metadata": {
        "id": "skJRBuEBrn4b"
      },
      "source": [
        "def fitGD(x,y,tW,tV,tbs,tb0,acf,acfder,nepoch,eta,verbose):\n",
        "    for i in range(nepoch):\n",
        "        tdw,tdv,tdbs, tdb0 = calc_der(x,y,tW,tV,tbs,tb0,acf,acfder)\n",
        "        tW = tW - eta * tdw\n",
        "        tV = tV -eta * tdv\n",
        "        tbs =  tbs -eta * tdbs\n",
        "        tb0 = tb0 -eta * tdb0        \n",
        "        if verbose == 1:\n",
        "            print(i, \"tloss =\", calc_tloss(x,y,tW,tV,tbs,tb0,acf))\n",
        "    return tW,tV,tbs,tb0,tdw,tdv,tdbs, tdb0"
      ],
      "execution_count": null,
      "outputs": []
    },
    {
      "cell_type": "markdown",
      "metadata": {
        "id": "W86sRWDOSZfU"
      },
      "source": [
        "では実際に上の関数を使って、パラメータの値を更新してみましょう。(nhlの値に依りますが、ちょっぴり計算に時間がかかります)"
      ]
    },
    {
      "cell_type": "code",
      "metadata": {
        "id": "Zy6GcfmpSZwc"
      },
      "source": [
        "nepoch = 1000\n",
        "acf = sigmoid; acfder=sigmoid_der\n",
        "verbose=0\n",
        "eta = 0.001 #学習率(パラメータ更新のスケールを決めるパラメータ)\n",
        "W,V,bs,b0,dw,dv,dbs,db0=fitGD(xt,ny,W,V,bs,b0,acf,acfder,nepoch,eta,verbose)"
      ],
      "execution_count": null,
      "outputs": []
    },
    {
      "cell_type": "markdown",
      "metadata": {
        "id": "N-vuF2Z9SRXU"
      },
      "source": [
        "更新された重み・バイアス(W,V,bs,b0)を使って、データとの二乗誤差を計算してみると..."
      ]
    },
    {
      "cell_type": "code",
      "metadata": {
        "id": "uZUXTpfhS1Y2",
        "colab": {
          "base_uri": "https://localhost:8080/",
          "height": 34
        },
        "outputId": "54d97655-9654-447b-efc3-80c0441cc112"
      },
      "source": [
        "print(\"学習後の二乗誤差\",calc_tloss(xt,ny,W,V,bs,b0,acf))"
      ],
      "execution_count": null,
      "outputs": [
        {
          "output_type": "stream",
          "text": [
            "学習後の二乗誤差 39.18248205155594\n"
          ],
          "name": "stdout"
        }
      ]
    },
    {
      "cell_type": "markdown",
      "metadata": {
        "id": "3MfVJVWmTJlU"
      },
      "source": [
        "すると、さっきより小さくはなっていますが、そこまで二乗誤差が減っていません。  \n",
        "\n",
        "実際にplotしてみても"
      ]
    },
    {
      "cell_type": "code",
      "metadata": {
        "id": "fSpr9Db1SQZ1"
      },
      "source": [
        "xp = np.linspace(0, 0.5, 500) \n",
        "yp = 0.0*xp \n",
        "for i in range(len(yp)):\n",
        "    yp[i] = np.dot(V, sigmoid(W*xp[i]+bs)) + b0 "
      ],
      "execution_count": null,
      "outputs": []
    },
    {
      "cell_type": "code",
      "metadata": {
        "id": "M4SvRcWLSSyg",
        "colab": {
          "base_uri": "https://localhost:8080/",
          "height": 279
        },
        "outputId": "57708f20-9fcb-4432-9ee7-35cb24517365"
      },
      "source": [
        "fig = plt.figure(figsize=(10,4))\n",
        "ax = fig.add_subplot(111)\n",
        "ax.set_xlabel(\"x\"); ax.set_ylabel(\"y\")\n",
        "ax.scatter(xt, yt, facecolor=\"none\", edgecolor=\"b\", s=50, label=\"Data\")\n",
        "ax.plot(xp,yp*ystd+ymean,label=\"ANN\") ## ニューラルネットワークの出力は標準化した値に対して学習されていることに注意\n",
        "ax.legend()\n",
        "plt.show()\n",
        "plt.close()"
      ],
      "execution_count": null,
      "outputs": [
        {
          "output_type": "display_data",
          "data": {
            "image/png": "[encoded data removed]",
            "text/plain": [
              "<Figure size 720x288 with 1 Axes>"
            ]
          },
          "metadata": {
            "tags": [],
            "needs_background": "light"
          }
        }
      ]
    },
    {
      "cell_type": "markdown",
      "metadata": {
        "id": "cINfIqP4TTAV"
      },
      "source": [
        "ほとんど学習が進んでいません...(絶望)\n",
        "\n"
      ]
    },
    {
      "cell_type": "code",
      "metadata": {
        "id": "WGbs5urFfy1w"
      },
      "source": [
        "np.random.seed(1234)\n",
        "W = np.array([ np.random.normal() for i in range(nhl)])\n",
        "V = np.array([ np.random.normal() for i in range(nhl)])\n",
        "bs = np.array([np.random.normal() for i in range(nhl)])\n",
        "b0 = np.random.normal()"
      ],
      "execution_count": null,
      "outputs": []
    },
    {
      "cell_type": "markdown",
      "metadata": {
        "id": "tDt2m0JKf1Ja"
      },
      "source": [
        "学習の様子を都度printしてみる(```verbose=1```に設定する)ことにすると"
      ]
    },
    {
      "cell_type": "code",
      "metadata": {
        "id": "U_Je7tlWfX9v",
        "colab": {
          "base_uri": "https://localhost:8080/",
          "height": 374
        },
        "outputId": "e61137be-73d4-4cd7-ef63-7f7b6f8b8632"
      },
      "source": [
        "nepoch=20 #20回だけ学習の様子を表示\n",
        "verbose=1 \n",
        "print(\"学習前のloss\", calc_tloss(xt,ny,W,V,bs,b0,acf))\n",
        "#学習\n",
        "W,V,bs,b0,dw,dv,dbs,db0=fitGD(xt,ny,W,V,bs,b0,acf,acfder,nepoch,eta,verbose)"
      ],
      "execution_count": null,
      "outputs": [
        {
          "output_type": "stream",
          "text": [
            "学習前のloss 313.1095204085971\n",
            "0 tloss = 98.10842891664797\n",
            "1 tloss = 52.306327217124306\n",
            "2 tloss = 42.481240439665385\n",
            "3 tloss = 40.378110176044245\n",
            "4 tloss = 39.9284136800197\n",
            "5 tloss = 39.83184259852155\n",
            "6 tloss = 39.810576416992646\n",
            "7 tloss = 39.805358062718724\n",
            "8 tloss = 39.803559451478186\n",
            "9 tloss = 39.80249058239799\n",
            "10 tloss = 39.80157854862621\n",
            "11 tloss = 39.800701341234976\n",
            "12 tloss = 39.799832972772975\n",
            "13 tloss = 39.7989679029648\n",
            "14 tloss = 39.79810494546709\n",
            "15 tloss = 39.797243841016076\n",
            "16 tloss = 39.796384527753446\n",
            "17 tloss = 39.795526985868875\n",
            "18 tloss = 39.79467120452678\n",
            "19 tloss = 39.793817174827616\n"
          ],
          "name": "stdout"
        }
      ]
    },
    {
      "cell_type": "markdown",
      "metadata": {
        "id": "TJaqgLw7Uaau"
      },
      "source": [
        "あるところからは、ほとんど学習が進んでいない事がわかります。\n",
        "\n",
        "原因として考えられるのは\n",
        "* loss functionをパラメータ(超)空間上にプロットした際にプラトーが存在する\n",
        "* 最適化手法や学習率の設定が適切でない\n",
        "* 初期値が悪い\n",
        "\n",
        "などがあります。\n",
        "\n",
        "勾配降下法は、最もシンプルな勾配を使った最適化手法ですが、学習の途中で勾配がほとんど0になってしまって(勾配消失ともいう)、学習が進まなくなってしまう、といったことがよく起こります。  \n",
        "\n",
        "「勾配が小さいなら勾配にかける学習率を大きくすればええんとちゃいまんの...？」  \n",
        "と思うかもしれませんが、学習率を単純に大きくしてしまうと、明後日の方向にパラメータを更新するせいで目的関数が発散してしまいます。(eta=0.1などとして試してみてください)\n",
        "\n",
        "注) 勾配降下法を拡張した、データを部分的に使うことで学習が停滞することを防ぐ、確率的勾配降下法(Stochastic Gradient Descent; SGD)は現在もよく使われています。\n",
        "\n",
        "以下では、Adamと呼ばれる別の最適化手法を試してみましょう。"
      ]
    },
    {
      "cell_type": "markdown",
      "metadata": {
        "id": "A3NSz6JulqFB"
      },
      "source": [
        "#### Adam"
      ]
    },
    {
      "cell_type": "markdown",
      "metadata": {
        "id": "n0QGVWTmltgl"
      },
      "source": [
        "Adamは、勾配降下法の様にその都度の勾配の情報だけを使うのではなく、\n",
        "以前の勾配の情報も有効活用する手法です。\n",
        "\n",
        "Adamは2014年に提唱された比較的新しい手法で、以降の機械学習の論文では、Adamが最もよく使われています。(*最も\"良い\"という意味では必ずしもありません)"
      ]
    },
    {
      "cell_type": "code",
      "metadata": {
        "id": "AdFBxZceoktL"
      },
      "source": [
        "def updateAdam(A,mt,vt,i,beta1,beta2,eps):\n",
        "    mhat = mt / (1.0-beta1**(i+1))\n",
        "    vhat = vt / (1.0-beta2**(i+1))\n",
        "    return mhat / (np.sqrt( vhat )+eps)\n",
        "\n",
        "def fitAdam(x,y,tW,tV,tbs,tb0,acf,acfder,nepoch,eta,verbose):\n",
        "    #新たに必要なものを定義しておく。\n",
        "    mt_w = np.array([0.0 for i in range(len(tW))])\n",
        "    mt_v = np.array([0.0 for i in range(len(tV))])\n",
        "    mt_bs = np.array([0.0 for i in range(len(tbs))])\n",
        "    mt_b0 = 0.0\n",
        "    vt_w = np.array([0.0 for i in range(len(tW))])\n",
        "    vt_v = np.array([0.0 for i in range(len(tV))])\n",
        "    vt_bs = np.array([0.0 for i in range(len(tbs))])\n",
        "    vt_b0 = 0.0\n",
        "    #########\n",
        "    beta1 = 0.9\n",
        "    beta2 = 0.999\n",
        "    eps = 1.e-8\n",
        "    #########\n",
        "    for i in range(nepoch):\n",
        "        tdw,tdv,tdbs, tdb0 = calc_der(x,y,tW,tV,tbs,tb0,acf,acfder)   ### 勾配を計算するところまでは同じ。\n",
        "        # mt と vtたちの更新 ベクトルをブロードキャストで更新していることに注意\n",
        "        mt_w = beta1 * mt_w + (1.0-beta1)*tdw\n",
        "        vt_w = beta2 * vt_w + (1.0-beta2)*(tdw**2)\n",
        "        mt_v = beta1 * mt_v + (1.0-beta1)*tdv\n",
        "        vt_v = beta2 * vt_v + (1.0-beta2)*(tdv**2)\n",
        "        mt_bs = beta1 * mt_bs + (1.0-beta1)*tdbs\n",
        "        vt_bs = beta2 * vt_bs + (1.0-beta2)*(tdbs**2)\n",
        "        mt_b0 = beta1*mt_b0 + (1.0-beta1)*tdb0\n",
        "        vt_b0 = beta2*vt_b0 + (1.0-beta2)*(tdb0**2)\n",
        "        ### 重み・バイアスの更新\n",
        "        tW += -eta * updateAdam(tW, mt_w,vt_w,i,beta1,beta2,eps)\n",
        "        tV += -eta * updateAdam(tV, mt_v,vt_v,i,beta1,beta2,eps)\n",
        "        tbs += -eta * updateAdam(tbs,mt_bs,vt_bs,i,beta1,beta2,eps)\n",
        "        tb0 += -eta *  (mt_b0/(1.0-beta1**(i+1))) / ( np.sqrt( vt_b0/ (1.0-beta2**(i+1))) + eps)\n",
        "        if verbose == 1 and i % 500 == 0:\n",
        "            print(i, \"tloss =\", calc_tloss(x,y,tW,tV,tbs,tb0,acf))\n",
        "    return tW,tV,tbs,tb0,tdw,tdv,tdbs, tdb0"
      ],
      "execution_count": null,
      "outputs": []
    },
    {
      "cell_type": "markdown",
      "metadata": {
        "id": "ZzDaa2zCoeIm"
      },
      "source": [
        "それでは重みを初期化して、再び学習をしてみましょう"
      ]
    },
    {
      "cell_type": "code",
      "metadata": {
        "id": "4mkH2DuglqLS",
        "colab": {
          "base_uri": "https://localhost:8080/",
          "height": 51
        },
        "outputId": "175f4215-3122-4b33-8e16-709e7113c489"
      },
      "source": [
        "np.random.seed(1234) ## Gradient descentと同条件でスタートするため\n",
        "W = np.array([ np.random.normal() for i in range(nhl)])\n",
        "V = np.array([ np.random.normal() for i in range(nhl)])\n",
        "bs = np.array([np.random.normal() for i in range(nhl)])\n",
        "b0 = np.random.normal()\n",
        "nepoch=2000\n",
        "verbose=0\n",
        "eta = 0.01\n",
        "acf = sigmoid ; acfder =sigmoid_der\n",
        "print(\"学習前のloss\", calc_tloss(xt,ny,W,V,bs,b0,acf))\n",
        "W,V,bs,b0,dw,dv,dbs,db0=fitAdam(xt,ny,W,V,bs,b0,acf,acfder,nepoch,eta,verbose)\n",
        "print(\"学習後のloss\", calc_tloss(xt,ny,W,V,bs,b0,acf))"
      ],
      "execution_count": null,
      "outputs": [
        {
          "output_type": "stream",
          "text": [
            "学習前のloss 313.1095204085971\n",
            "学習後のloss 1.0073769153776333\n"
          ],
          "name": "stdout"
        }
      ]
    },
    {
      "cell_type": "markdown",
      "metadata": {
        "id": "0PJr6ceIFVS-"
      },
      "source": [
        "さっきより2桁近くlossの値が小さくなっています。学習がうまく行ってそうですね。\n",
        "\n",
        "グラフにしてみると..."
      ]
    },
    {
      "cell_type": "code",
      "metadata": {
        "id": "QlVmPtFxVr3u",
        "colab": {
          "base_uri": "https://localhost:8080/",
          "height": 279
        },
        "outputId": "9e094d39-c5eb-4f9d-e750-a90e8adb1393"
      },
      "source": [
        "xp = np.linspace(0, 0.5, 500) \n",
        "yp = 0.0*xp \n",
        "for i in range(len(yp)):\n",
        "    yp[i] = np.dot(V, sigmoid(W*xp[i]+bs)) + b0 \n",
        "ytruth = np.sin(2*np.pi*xp)\n",
        "fig = plt.figure(figsize=(10,4))\n",
        "ax = fig.add_subplot(111)\n",
        "ax.set_xlabel(\"x\"); ax.set_ylabel(\"y\")\n",
        "ax.scatter(xt, yt, facecolor=\"none\", edgecolor=\"b\", s=50, label=\"Data\")\n",
        "ax.plot(xp,yp*ystd+ymean,color=\"C01\",label=\"ANN\")\n",
        "ax.plot(xp,ytruth,color=\"C02\",label=\"Ground Truth\")\n",
        "ax.legend()\n",
        "plt.show()\n",
        "plt.close()"
      ],
      "execution_count": null,
      "outputs": [
        {
          "output_type": "display_data",
          "data": {
            "image/png": "[encoded data removed]",
            "text/plain": [
              "<Figure size 720x288 with 1 Axes>"
            ]
          },
          "metadata": {
            "tags": [],
            "needs_background": "light"
          }
        }
      ]
    },
    {
      "cell_type": "markdown",
      "metadata": {
        "id": "jOaGjLWiGE0-"
      },
      "source": [
        "のように、データの特徴をそこそこうまく捉えたニューラルネットワークへと学習が進みました。\n",
        "\n",
        "実際には、ニューラルネットワークの精度(良さ)は、前述のような検証データに対する汎化性能で評価します。  \n",
        "\n",
        "上で示した例では、3層のニューラルネットワークにデータからそれらしい関数を学習させてみました。\n",
        "\n",
        "ニューラルネットワークの構造をより複雑化したりしながら、より複雑で高次元な回帰問題に応用したり、回帰問題だけではなく分類問題・画像生成・物体検知などなど、各種の楽しい実社会の問題に応用していきます。 (例: 第2回で説明した敵対的生成ネットワーク)\n"
      ]
    },
    {
      "cell_type": "markdown",
      "metadata": {
        "id": "qMB-1YMwdqij"
      },
      "source": [
        "### 最適化手法に関するまとめ\n",
        "\n",
        "ニューラルネットワークの学習がうまく進むかどうかは一般に\n",
        "1. ネットワークの構造(アーキテクチャとも言ったりします)や活性化関数(とその微分)の持つ性質\n",
        "2. 最適化手法や手法内のパラメータ\n",
        "3. 重みやバイアスの初期値\n",
        "\n",
        "などに強く依存します。\n",
        "\n",
        "1.に関して   \n",
        "回帰問題における代表的な活性化関数としては\n",
        "最近の傾向として、sigmoidよりも以下のReLU関数が使われることが多いです。  \n",
        "\n",
        "\n",
        "\n",
        "\n"
      ]
    },
    {
      "cell_type": "code",
      "metadata": {
        "id": "LKDihzzDT0-H"
      },
      "source": [
        "def relu(z):\n",
        "    return (z > 0)* z   \n",
        "\n",
        "def relu_der(z):\n",
        "     return (z > 0)*1.0 \n",
        "     \n",
        "#いずれも、zが実数値でもnp.array型のベクトルでも対応可能な表式"
      ],
      "execution_count": null,
      "outputs": []
    },
    {
      "cell_type": "code",
      "metadata": {
        "id": "M962DFirJgu9",
        "colab": {
          "base_uri": "https://localhost:8080/",
          "height": 265
        },
        "outputId": "92e78308-4c14-42be-f276-2bef66741017"
      },
      "source": [
        "##適当な区間のxの値を用意する\n",
        "xp = np.linspace(-10.0,10.0,100)\n",
        "yp_sigmoid = sigmoid(xp)\n",
        "yp_relu = relu(xp)\n",
        "\n",
        "fig = plt.figure(figsize=(10,4))\n",
        "ax1 = fig.add_subplot(121)\n",
        "ax1.plot(xp,yp_sigmoid,label=\"Sigmoid\")\n",
        "ax1.legend()\n",
        "ax2 = fig.add_subplot(122)\n",
        "ax2.plot(xp,yp_relu,label=\"ReLU\")\n",
        "ax2.legend()\n",
        "plt.show()\n",
        "plt.close()"
      ],
      "execution_count": null,
      "outputs": [
        {
          "output_type": "display_data",
          "data": {
            "image/png": "[encoded data removed]",
            "text/plain": [
              "<Figure size 720x288 with 2 Axes>"
            ]
          },
          "metadata": {
            "tags": [],
            "needs_background": "light"
          }
        }
      ]
    },
    {
      "cell_type": "markdown",
      "metadata": {
        "id": "f9ELoAn8hYNr"
      },
      "source": [
        "sigmoid関数はx->+∞で1.0, x=-∞で-1.0に漸近します。\n",
        "\n",
        "一方でReLU関数はx=0までは0.0で、x>0.0で、xとなるような関数です。\n",
        "\n",
        "\n",
        "なぜReLUがよく使われる様になったかと言うと、  \n",
        "(特に隠れ層の数が多い深層学習において)学習するにつれて勾配の値が小さくなって学習が進まない、\n",
        "という問題を解決するためです。\n",
        "\n",
        "それぞれの関数の微分を表示してみると"
      ]
    },
    {
      "cell_type": "code",
      "metadata": {
        "id": "dj-P7bDfvYpr",
        "colab": {
          "base_uri": "https://localhost:8080/",
          "height": 265
        },
        "outputId": "186e77bd-515e-4438-d575-691d8dfdd4b0"
      },
      "source": [
        "xp = np.linspace(-10.0,10.0,100)\n",
        "yp_sigmoid = sigmoid_der(xp)\n",
        "yp_relu = relu_der(xp)\n",
        "\n",
        "fig = plt.figure(figsize=(10,4))\n",
        "ax1 = fig.add_subplot(121)\n",
        "ax1.plot(xp,yp_sigmoid,label=\"Sigmoid\")\n",
        "ax1.legend()\n",
        "ax2 = fig.add_subplot(122)\n",
        "ax2.plot(xp,yp_relu,label=\"ReLU\")\n",
        "ax2.legend()\n",
        "plt.show()\n",
        "plt.close()"
      ],
      "execution_count": null,
      "outputs": [
        {
          "output_type": "display_data",
          "data": {
            "image/png": "[encoded data removed]",
            "text/plain": [
              "<Figure size 720x288 with 2 Axes>"
            ]
          },
          "metadata": {
            "tags": [],
            "needs_background": "light"
          }
        }
      ]
    },
    {
      "cell_type": "markdown",
      "metadata": {
        "id": "B0FHTFBwvtLP"
      },
      "source": [
        "sigmoid関数は微分の値が最大で0.25なのに対して、ReLU関数では最大1.0となるため勾配の消失が起こりにくいのです。"
      ]
    },
    {
      "cell_type": "markdown",
      "metadata": {
        "id": "PiFx3X4xJd7V"
      },
      "source": [
        "問題ごとに何が最適なネットワーク構造だったり活性化関数なのかは、  \n",
        "予め分かることはなく、試行錯誤が必要です。  \n",
        "ここまでこの授業で勉強してきた皆さんは既に、  \n",
        "「この試行錯誤自体を人力ではなくコンピュータにやらせる方法はないか」という点に思い至るのではないでしょうか?\n",
        "\n",
        "これに関連したお話は後の回で説明したいと思います。"
      ]
    },
    {
      "cell_type": "markdown",
      "metadata": {
        "id": "hpVMAFUiwUtT"
      },
      "source": [
        "3.に関して\n",
        "\n",
        "また、ネットワークの重みやバイアスをどのような値から始めるかに学習が依存する場合もあります。\n",
        "\n",
        "というのも、今考えた３層のニューラルネットワークでは、  \n",
        "重み$W$の学習に使う勾配の表式は、$V$に比例しています。\n",
        "\n",
        "したがって単純に勾配の情報のみを使う最適化手法では、  \n",
        "$V$の初期値を0に取ったり、学習の過程で偶然$V$の値が0に近くなってしまうと、  \n",
        "$V$が更新されノンゼロの値を持つまで$W$の学習は始まりません。\n",
        "\n",
        "どのような初期値を採用するべきかに関しても、予め知ることは一般にはできませんが、  \n",
        "いくつかの特定の場合に関して、推奨される方法というのは存在しています。\n",
        "\n",
        "例: ReLU関数を活性化関数に使うときはHeの初期値というものが推奨されている"
      ]
    }
  ]
}
