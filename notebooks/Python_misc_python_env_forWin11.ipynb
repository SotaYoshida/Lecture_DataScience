{
  "nbformat": 4,
  "nbformat_minor": 0,
  "metadata": {
    "colab": {
      "name": "Python_misc_python_env_forWin11.ipynb",
      "provenance": [],
      "collapsed_sections": [
        "h2K-l3Iu0vHS",
        "c17cT0gy2fwF",
        "OtjKhaH451we",
        "N4vEf_Av9hjN"
      ],
      "include_colab_link": true
    },
    "kernelspec": {
      "name": "python3",
      "display_name": "Python 3"
    }
  },
  "cells": [
    {
      "cell_type": "markdown",
      "metadata": {
        "id": "view-in-github",
        "colab_type": "text"
      },
      "source": [
        "<a href=\"https://colab.research.google.com/github/SotaYoshida/Lecture_DataScience/blob/2021/notebooks/Python_misc_python_env_forWin11.ipynb\" target=\"_parent\"><img src=\"https://colab.research.google.com/assets/colab-badge.svg\" alt=\"Open In Colab\"/></a>"
      ]
    },
    {
      "cell_type": "markdown",
      "metadata": {
        "id": "xygiFz3F15TQ"
      },
      "source": [
        "# Pythonの環境構築 (Windows11版)\n",
        "\n"
      ]
    },
    {
      "cell_type": "code",
      "metadata": {
        "id": "sq5ewMLVBX_D"
      },
      "source": [
        "#動画貼り付け用にモジュールをインポートしておく\n",
        "from IPython.display import HTML\n",
        "from base64 import b64encode"
      ],
      "execution_count": null,
      "outputs": []
    },
    {
      "cell_type": "markdown",
      "metadata": {
        "id": "6Z6mR5y871Nj"
      },
      "source": [
        "## Windowsの場合"
      ]
    },
    {
      "cell_type": "markdown",
      "metadata": {
        "id": "EvTOzAC173gT"
      },
      "source": [
        "いくつかの方針が考えられるが、下記の導入を推奨とする。\n",
        "\n",
        "* Windowsターミナル\n",
        "\n",
        "* Windows Subsystem for Linux2(WSL2)\n",
        "\n",
        "\n",
        "\n"
      ]
    },
    {
      "cell_type": "markdown",
      "source": [
        "### Windowsターミナルの導入\n",
        "\n",
        "ターミナルとは、CUI(Character User Interface)、つまり  \n",
        "コマンドなどの文字列のみを用いてコンピュータを操作する環境を指す言葉です。\n",
        "\n",
        "CUIに対して、普段我々が使っているポインタやウィンドウなどは  \n",
        "GUI(Graphical User Interface)に相当します。\n",
        "\n",
        "何故現代においてもCUIが必要なのか、  \n",
        "つまりマウスでポインタを動かしたりクリックするのではなく  \n",
        "一見不便そうな文字列だらけのインターフェースが用いられるのか、  \n",
        "そこには*単に映画やドラマでハッカーの邪悪さを演出する*以上の理由があります。  \n",
        "\n",
        "計算機(コンピュータ)の発展の歴史的側面、パフォーマンス的側面から  \n",
        "その理由をすべて説明することは出来ませんが、  \n",
        "例えば授業で用いた```ls```コマンドなどはCUIの利便性を表す一例になっていて  \n",
        "こうしたいわゆる\"機械的\"な操作についてはCUIに軍配が挙がります。\n",
        "\n",
        "Windows Terminalは、2019年にマイクロソフトがリリースしたターミナルで  \n",
        "コマンドプロンプトやPowerShellといったWindows独自のCUIに加えて  \n",
        "後述のWSLを統合的に扱うことができる環境となっています。\n",
        "\n",
        "\n",
        "* Windows10の場合\n",
        "\n",
        "    後々のことも考えてこれを導入しておこう。\n",
        "    MS storeでWindows terminalと検索し、 入手を押す\n",
        "\n",
        "* Windows11の場合\n",
        "\n",
        "    標準で入っているので、Windowsボタンで開くメニューからterminalなどと検索すると出てくる"
      ],
      "metadata": {
        "id": "_LM9LKt-fBZq"
      }
    },
    {
      "cell_type": "markdown",
      "metadata": {
        "id": "rAlPquBCSVud"
      },
      "source": [
        "### WSL2の導入"
      ]
    },
    {
      "cell_type": "markdown",
      "metadata": {
        "id": "jutP3oJrDq-1"
      },
      "source": [
        "オペレーティングシステム(OS)の源流を遡ると、大まかには2つに大別される。  \n",
        "1つがUnix系そしてもう１つはWindows系で、前者の方がより歴史が古い。\n",
        "\n",
        "Unixはあるところで枝分かれし、LinuxやMac OSなどもUnix系に含まれる。  \n",
        "\n",
        "サーバー用途のマシンや、スパコンなどの計算機環境では基本的にLinuxがOSとして採用されたり  \n",
        "歴史的経緯から、プログラミング言語・開発環境などもUnix/Linuxとともに発展してきた部分が大きい。\n",
        "\n",
        "一方でWindowsは一般家庭での用途の拡がりとともに独自の進化を遂げてきた。  \n",
        "\n",
        "Windowsユーザーが、プログラミング環境の構築やLinux-likeな作業をしたい場合  \n",
        "方法は幾つかあるが最近だとWindows Subsystem for Linux (通称WSL)を使うのが  \n",
        "最も簡単かつ安全な方法の１つとされている。\n",
        "\n",
        "\n",
        "この授業ではLinuxの中のUbuntuというディストリビューションを用意して使うことにしよう。  \n",
        "Ubuntu自体はLinux OSの中ではGUI環境も良く出来ているディストリビューションで人気が高い。  \n",
        "~Windowsよりはフォントが美しいのでメインで使うのもいいかもしれない~\n"
      ]
    },
    {
      "cell_type": "markdown",
      "source": [
        "* **手順1**  \n",
        "\n",
        "    スタートメニューからterminalなどと打ち込んで  \n",
        "    Windows Terminalで右クリックして[管理者として実行]する  \n",
        "    このアプリがデバイスに変更を加えることを許可しますか→[はい]\n",
        "\n",
        "* **手順2**\n",
        "\n",
        "    ```\n",
        "    wsl --install -d Ubuntu\n",
        "    ```\n",
        "    と打ち込んで実行(Enter)する\n",
        "\n",
        "* **手順3**\n",
        "\n",
        "    Ubuntuのウィンドウが開く※1ので  \n",
        "    指示(Press any key to continue...)に従って適当なキーを押す。\n",
        "\n",
        "    ※1RyzenのCPUが搭載されたマシンを使っていて  \n",
        "    ウィンドウが開いたときにerror: 0x800701bcが発生している場合  \n",
        "    [このページ](https://docs.microsoft.com/ja-jp/windows/wsl/install-manual#step-4---download-the-linux-kernel-update-package)の情報を参考に  \n",
        "    \"Linux カーネル更新プログラム パッケージ\"をダウンロードして実行し手順1→2を再度行う。\n",
        "\n",
        "* **手順4**\n",
        "\n",
        "    しばらくするとLinuxシステム用のユーザーネームを求められるので\n",
        "    ```Enter new UNIX username: ```\n",
        "    ユーザーネームを入力してEnterを押す\n",
        "\n",
        "    usernameは半角英数字にしよう。短い方が便利。\n",
        "\n",
        "* **手順5**\n",
        "\n",
        "    ```NewPassword```\n",
        "    とパスワードの設定を求められるので打ち込んでEnter  \n",
        "\n",
        "    Retype new password(もっかい打て)と言われるのでもう一度\n",
        "\n",
        "    ユーザー名が緑色で表示されていて、エラーメッセージ等がなければOK\n",
        "\n",
        "\n",
        "以降は、スタートメニューからUbuntuと検索してUbuntuを開いても良いし  \n",
        "Windows terminalのタブの\"+\"のさらに右にある∨マークから  \n",
        "Ubuntuを選択すると(あるいはショートカットで)、Windows terminalの上でUbuntuが開く。\n",
        "\n",
        "\n",
        "なお、デフォルトの設定だとUbuntuを開くとUbuntuのホームディレクトリで開くし  \n",
        "Windows terminalから開くと、Windows側のホームディレクトリで開く\n",
        "    "
      ],
      "metadata": {
        "id": "gancuw1N3uAJ"
      }
    },
    {
      "cell_type": "markdown",
      "metadata": {
        "id": "iKAHNa6LSatq"
      },
      "source": [
        "以下では、どちらでUbuntu環境を開いている場合も便宜上\"Ubuntuターミナル\"と呼ぶことにしよう。\n",
        "\n",
        "\n",
        "Ubuntuターミナルに以下を入力し実行\n",
        "```\n",
        "$sudo apt update\n",
        "$sudo apt upgrade\n",
        "```\n",
        "注:$は打ち込むのではなく、ターミナルの末尾にあるものを指す\n",
        "\n",
        "sudoは管理者権限で実行する、という意味で、\n",
        "aptはLinux(Debian系)のパッケージ管理システムです。  \n",
        "\n",
        "sudo apt install xxxx\n",
        "などとして、様々なものを簡単にインストールすることが出来ます。\n",
        "\n",
        "※PCの時刻設定がきちんと行われていないと、aptのupdateやupgradeに失敗します。\n",
        "\n",
        "Ubuntuには初めからPython3系が含まれていますが、\n",
        "pythonの最新バージョンをpip込みでインストールしましょう。\n",
        "```\n",
        "sudo apt install python3-pip -y\n",
        "```\n",
        "これでpython3.xの最新バージョンと、python用のパッケージマネージャpipがインストールされます。\n",
        "\n",
        "インストールが終わったら```python3```と打ち込んでEnterを押すと  \n",
        "Pythonの対話モードに入ります。\n",
        "\n",
        "打ちかけの作業を消したり、処理を中断する際はCtrl+Cを、  \n",
        "対話モードから抜けたければCtrl+Dを入力します  \n",
        "(書きかけのコードがあったり処理が実行されているときは先にCtrl+Cで中断してからCtrl+d)\n",
        "\n",
        "ライブラリ・モジュールをインストールしたければUbuntuターミナルから\n",
        "```\n",
        "pip3 install matplotlib\n",
        "pip3 install pandas\n",
        "pip3 install Selenium\n",
        "```\n",
        "などを実行する。"
      ]
    },
    {
      "cell_type": "markdown",
      "metadata": {
        "id": "qpMLRtznBk-F"
      },
      "source": [
        "### Windows環境のどこにLinuxのファイルが保存されるか"
      ]
    },
    {
      "cell_type": "markdown",
      "metadata": {
        "id": "m14aIZMayDK3"
      },
      "source": [
        "\n",
        "```C:\\Users\\sota\\AppData\\Local\\Packages\\CanonicalGroupLimited.UbuntuonWindows_79rhkp1fndgsc\\LocalState\\rootfs```\n",
        "\n",
        "のsota部分(や場合によってはドライブ部分C:)を皆さんの環境に置き換えたものが、  \n",
        "Windows内に構築されたLinuxのルートディレクトリ(最上位のディレクトリ)となります。  \n",
        "Ubuntuを開くと、rootfs以下のhomeディレクトリにログインした状態でターミナルが開きます。\n",
        "\n",
        "パスが上記と微妙に異なる場合は、  \n",
        "WindowsのユーザーフォルダからAppDataを開いて、  \n",
        "検索バーでUbuntuと検索すれば、  \n",
        "該当するディレクトリが見つけられるはずです。  \n",
        "(隠しフォルダを非表示にしていると見えないかも)"
      ]
    },
    {
      "cell_type": "markdown",
      "metadata": {
        "id": "pf6D3K6nDMGz"
      },
      "source": [
        "### Linux側からWindows側のファイルにアクセスする"
      ]
    },
    {
      "cell_type": "markdown",
      "metadata": {
        "id": "1lD8ywRszRCM"
      },
      "source": [
        "WindowsのディスクはLinuxからみた```/mnt/```以下にマウントされている。  \n",
        "たとえば、```/mnt/c/Users/[ユーザー名]/Downloads```\n",
        "で、Windows側のダウンロードフォルダのパスを指定できる。\n",
        "\n",
        "OneDriveによるバックアップに含まれているフォルダは、  \n",
        "デフォルトパスから、OneDriveの下に変更されていることがあるので注意。\n",
        "\n",
        "(例: デスクトップはLinuxから見ると```/mnt/c/Users/[ユーザー名]/Desktop```のはずだが、  \n",
        "デスクトップフォルダがOneDriveのバックアップ対象になっていると、  \n",
        "```/mnt/c/Users/[ユーザー名]/OneDrive/Desktop```などと変更されてしまうので注意。)"
      ]
    },
    {
      "cell_type": "markdown",
      "metadata": {
        "id": "IGGzjhDdQPP9"
      },
      "source": [
        "その他、Linuxコマンドの使い方等については  \n",
        "[元のノートブック](https://colab.research.google.com/github/SotaYoshida/Lecture_DataScience/blob/2021/notebooks/Python_misc_python_environment.ipynb)を参照"
      ]
    },
    {
      "cell_type": "markdown",
      "metadata": {
        "id": "dPK_KIGcyuod"
      },
      "source": [
        "# LICENSE"
      ]
    },
    {
      "cell_type": "markdown",
      "metadata": {
        "id": "q943wB7Z4DYK"
      },
      "source": [
        "\n",
        "Copyright (C) 2021 Sota Yoshida\n",
        "\n",
        "[ライセンス:クリエイティブ・コモンズ 4.0 表示 (CC-BY 4.0)](https://creativecommons.org/licenses/by/4.0/deed.ja)"
      ]
    }
  ]
}