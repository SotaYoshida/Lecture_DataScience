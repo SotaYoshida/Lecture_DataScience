{
  "cells": [
    {
      "cell_type": "markdown",
      "metadata": {
        "id": "xygiFz3F15TQ"
      },
      "source": [
        "# Pythonの環境構築 (Windows11版)\n",
        "\n"
      ]
    },
    {
      "cell_type": "markdown",
      "metadata": {
        "id": "EvTOzAC173gT"
      },
      "source": [
        "いくつかの方針が考えられるが、下記の導入を推奨とする。\n",
        "\n",
        "* Windowsターミナル\n",
        "\n",
        "* Windows Subsystem for Linux2(WSL2)\n",
        "\n",
        "\n",
        ":::{note}\n",
        "授業の受講者で環境構築を希望される方は、事前に相談することを強く推奨します。\n",
        "とくにWindowsの場合、作成者(吉田)はWindowsユーザーではないので幾つかの情報が古い恐れがあります。\n",
        ":::\n"
      ]
    },
    {
      "cell_type": "markdown",
      "metadata": {
        "id": "_LM9LKt-fBZq"
      },
      "source": [
        "## Windowsターミナルの導入\n",
        "\n",
        "ターミナルとは、CUI(Character User Interface)、つまり  \n",
        "コマンドなどの文字列のみを用いてコンピュータを操作する環境を指す言葉です。\n",
        "\n",
        "CUIに対して、普段我々が使っているポインタやウィンドウなどは  \n",
        "GUI(Graphical User Interface)に相当します。\n",
        "\n",
        "Windows Terminalは、2019年にマイクロソフトがリリースしたターミナルで  \n",
        "コマンドプロンプトやPowerShellといったWindows独自のCUIに加えて  \n",
        "後述のWSLを統合的に扱うことができる環境となっています。\n",
        "\n",
        "Windows11以降標準で入っているのでWindowsボタンで\n",
        "開くメニューから、「ターミナル」「terminal」などと検索すると出てくる。\n",
        "\n",
        "開く際に右クリックすると管理者権限で開く事もできる(WSLのインストール時に必要)。"
      ]
    },
    {
      "cell_type": "markdown",
      "metadata": {
        "id": "rAlPquBCSVud"
      },
      "source": [
        "## WSL2の導入"
      ]
    },
    {
      "cell_type": "markdown",
      "metadata": {
        "id": "jutP3oJrDq-1"
      },
      "source": [
        "オペレーティングシステム(OS)の源流を遡ると、大まかには2つに大別される。  \n",
        "1つがUnix系で歴史が古い。そしてもう１つはお使いのWindowsである。\n",
        "\n",
        "Unixはあるところで枝分かれし、LinuxやMac OSなどもUnix系に含まれる。  \n",
        "サーバー用途のマシンや、スパコンなどの計算機環境では基本的にLinuxがOSとして採用されている。    \n",
        "コンピュータの\"計算機\"としての側面や歴史的経緯から  \n",
        "プログラミング言語・開発環境などもUnix/Linuxとともに発展してきた部分が大きい。\n",
        "\n",
        "\n",
        "一方でWindowsは、一般家庭でのコンピュータの需要拡大とともに独自の進化を遂げてきた。  \n",
        "\n",
        "Windowsユーザーが、プログラミング環境の構築やLinux-likeな作業をしたい場合  \n",
        "方法は幾つかあるが最近だとWindows Subsystem for Linux (通称WSL)を使うのが  \n",
        "最も簡単かつ安全な方法の１つとされている。\n",
        "\n",
        "この授業ではLinuxの中のUbuntuというディストリビューションを用意して使うことにしよう。  "
      ]
    },
    {
      "cell_type": "markdown",
      "metadata": {
        "id": "gancuw1N3uAJ"
      },
      "source": [
        "* **手順1. WSLと仮想マシンプラットフォームの有効化**\n",
        "\n",
        "    スタートメニューから「コントロールパネル」を検索して開く \n",
        "    <img src=\"https://github.com/SotaYoshida/Lecture_DataScience/blob/main/notebooks/pic_for_notebook/wsl_1.png?raw=true\" width=50%>   \n",
        "\n",
        "    コントロールパネルの[プログラム]>[Windowsの機能の有効化または無効化] を選択し\n",
        "    * 「Linux用Windowsサブシステム」\n",
        "    * 「Virtual Machine Platform」または「仮想マシン プラットフォーム」(※日本語表記か英語表記のどちらか一つが存在するはず)\n",
        "\n",
        "    の２つにチェックを入れて有効化する(再起動が必要)。  \n",
        "    その際、他は触らないこと。もし誤ってチェックをしたり外したりしてしまった場合は一度キャンセルを押してやり直そう。\n",
        "\n",
        "* **手順2. Linuxカーネル更新プログラムの適用**\n",
        "\n",
        "    :::{margin}\n",
        "    この操作はもともとAMD RyzenのCPUを搭載したマシンでWSL2を使う場合に必要だったが、\n",
        "    IntelのCPUを搭載したマシンでも必要になったようだ。\n",
        "    :::\n",
        "    [このページ](https://docs.microsoft.com/ja-jp/windows/wsl/install-manual#step-4---download-the-linux-kernel-update-package)の手順4にあるリンクから\n",
        "    「x64 マシン用 WSL2 Linux カーネル更新プログラム パッケージ」をクリックし、\n",
        "    ダウンロードしたファイルを実行する。\n",
        "    Next→Windowsシステム側の警告「はい」を選択→Finishで完了する。\n",
        "\n",
        "* **手順3. WSLのバージョンの確認**\n",
        "\n",
        "    Windows Terminal上で\n",
        "    ```\n",
        "    wsl -l -v\n",
        "    ```\n",
        "    と打ち込んでEnterを押すと、WSLのバージョンが表示される。\n",
        "    もしもバージョンが1であれば、WSL2への変更が推奨される。\n",
        "\n",
        "    [参考リンク](https://learn.microsoft.com/ja-jp/windows/wsl/basic-commands?source=recommendations#set-wsl-version-to-1-or-2)\n",
        "\n",
        "* **手順4. Windows TerminalからWSLのインストール**  \n",
        "\n",
        "    スタートメニューからterminalなどと打ち込んで  \n",
        "    **ターミナルの上で右クリックして[管理者として実行]する**  \n",
        "    このアプリがデバイスに変更を加えることを許可しますかというポップアップが出た場合、はいを選択すれば良い。  \n",
        "    \n",
        "    次にターミナルに\n",
        "    ```\n",
        "    wsl --install -d Ubuntu\n",
        "    ```\n",
        "    と打ちEnterを押すことで、Ubuntuのインストールが始まる。\n",
        "\n",
        "\n",
        "* **手順5. Ubuntuの起動**\n",
        "\n",
        "    Ubuntuのウィンドウが開く※ので  \n",
        "    指示(Press any key to continue...)に従って適当なキーを押す。\n",
        "\n",
        "    <img src=\"https://github.com/SotaYoshida/Lecture_DataScience/blob/main/notebooks/pic_for_notebook/wsl_3.png?raw=true\" width=50%>   \n",
        "\n",
        "    ※ウィンドウが開いたときにerror: 0x800701bcが発生している場合は、手順2→4を再度行ってみよう。\n",
        "    もしもそれでも解決しない場合は、教員に尋ねること。\n",
        "\n",
        "* **手順6. Ubuntuの初期設定**\n",
        "\n",
        "    しばらくすると```Enter new UNIX username: ```  \n",
        "    とLinuxシステム用のusernameを求められるので  \n",
        "    適当なものを入力してEnterを押す  \n",
        "    usernameは半角英数字にしよう。あとは...短い方があとあと便利。\n",
        "\n",
        "    その後\n",
        "    ```NewPassword```\n",
        "    とパスワードの設定を求められるので打ち込んでEnter  \n",
        "    **この際、パスワードの秘匿化のために何も表示されずカーソルも動かないが、入力しているので安心して打ち込もう**\n",
        "\n",
        "    ```Retype new password```(もっかい打て)と言われるのでもう一度\n",
        "\n",
        "    ユーザー名が緑色で表示されていて、エラーメッセージ等がなければOK\n",
        "\n",
        "    <img src=\"https://github.com/SotaYoshida/Lecture_DataScience/blob/main/notebooks/pic_for_notebook/wsl_4_1.png?raw=true\" width=50%>   \n",
        "\n",
        "\n",
        "上記の手順以降は、スタートメニューからUbuntuと検索してUbuntuを開いても良いし  \n",
        "Windows terminalのタブの\"+\"のさらに右にある∨マークから  \n",
        "Ubuntuを選択すると(あるいはショートカットで)、Windows terminalの上でUbuntuが開く。\n",
        "\n",
        "なお、デフォルトの設定だとUbuntuを開くとUbuntuのホームディレクトリで開くし  \n",
        "Windows terminalから開くと、Windows側のホームディレクトリにいる状態で開く\n",
        "\n",
        "<img src=\"https://github.com/SotaYoshida/Lecture_DataScience/blob/main/notebooks/pic_for_notebook/wsl_4_2.png?raw=true\" width=50%>   \n"
      ]
    },
    {
      "cell_type": "markdown",
      "metadata": {
        "id": "iKAHNa6LSatq"
      },
      "source": [
        "## WSL下でのPython環境の構築\n",
        "\n",
        "※以下では、直接/Windows TerminalのどちらでUbuntu環境を開いている場合も  \n",
        "便宜上\"Ubuntuターミナル\"と呼ぶことにしよう。\n",
        "\n",
        "WSL下にPython環境構築をする方法は以下の通り\n",
        "\n",
        "* **手順1. aptのupdate/upgrade**\n",
        "\n",
        "    Ubuntuターミナルで以下を入力し実行する\n",
        "    ```\n",
        "    $sudo apt update\n",
        "    $sudo apt upgrade\n",
        "    ```\n",
        "\n",
        "    注:上の```$```は打ち込むのではなく、 Ubuntuターミナルの末尾にある```$```を指し  \n",
        "    Pythonの対話モードなどで打ち込む場合と区別するための表記。\n",
        "\n",
        "    sudoはコマンドの頭につけることで管理者権限で実行する、という命令を意味します。  \n",
        "    実行時に、Ubuntu用に設定したパスワードが要求されます  \n",
        "    入力しても画面には表示されないので注意しながら打ち込んでEnterを押す。  \n",
        "    (間違っても再度入力を求めてくれますし、やめたければCtrl+C)\n",
        "\n",
        "    aptはLinux(Debian系)のパッケージ管理システムです。  \n",
        "    ```\n",
        "    $sudo apt install xxxx\n",
        "    ```\n",
        "    などとして、様々なものを簡単にインストールすることが出来ます。\n",
        "\n",
        "    ※PCの時刻設定がきちんと行われていないと、aptのupdateやupgradeに失敗します。\n",
        "\n",
        "* **手順2. Pythonのインストール**\n",
        "\n",
        "    Ubuntuには初めからPython3系が含まれていますが、\n",
        "\n",
        "    pythonの最新バージョンをpip込みでインストールしましょう。\n",
        "    ```\n",
        "    $sudo apt install python3-pip -y\n",
        "    ```\n",
        "    これでpython3.xとpython用のパッケージマネージャpipがインストールされます。\n",
        "\n",
        "* **手順3. Pythonの対話モードに入ってみよう**\n",
        "\n",
        "    インストールが終わったら```python3```と打ち込んでEnterを押すと  \n",
        "    Pythonの対話モードに入ります。対話モードの中で\n",
        "    ```\n",
        "    >print(\"Hello\")\n",
        "    ```\n",
        "    などと打ち込んで実行してみましょう。\n",
        "\n",
        "    打ちかけの作業を消したり、処理を中断する際はCtrl+Cを、  \n",
        "    対話モードから抜けたければCtrl+Dを入力します  \n",
        "    (書きかけのコードがあったり処理が実行されているときは先にCtrl+Cで中断してからCtrl+d)\n",
        "\n",
        "* **手順4. ライブラリのインストール**\n",
        "\n",
        "    ライブラリ・モジュールをインストールしたければUbuntuターミナルから\n",
        "    ```\n",
        "    $pip3 install matplotlib\n",
        "    $pip3 install pandas\n",
        "    $pip3 install Selenium\n",
        "    ```\n",
        "    などを実行します。\n",
        "\n",
        "    Google Colab環境では毎度\n",
        "    ```\n",
        "    !pip install japanize-matplotlib\n",
        "    ```\n",
        "    などとしましたが、一度インストールしておけば  \n",
        "    コードの実行のたびにpipでインストール作業を行う必要はありません。  \n",
        "    (ライブラリのimportはセッションごとに必要です)"
      ]
    },
    {
      "cell_type": "markdown",
      "metadata": {
        "id": "IGGzjhDdQPP9"
      },
      "source": [
        "その他、Linuxコマンドの使い方等については[元のノートブック](https://colab.research.google.com/github/SotaYoshida/Lecture_DataScience/blob/main/notebooks/Python_misc_python_environment.ipynb)を参照"
      ]
    }
  ],
  "metadata": {
    "colab": {
      "collapsed_sections": [
        "h2K-l3Iu0vHS",
        "c17cT0gy2fwF",
        "OtjKhaH451we",
        "N4vEf_Av9hjN"
      ],
      "include_colab_link": true,
      "name": "Python_misc_python_env_forWin11.ipynb",
      "provenance": []
    },
    "kernelspec": {
      "display_name": "Python 3.9.13 64-bit",
      "language": "python",
      "name": "python3"
    },
    "language_info": {
      "name": "python",
      "version": "3.9.13"
    },
    "vscode": {
      "interpreter": {
        "hash": "aee8b7b246df8f9039afb4144a1f6fd8d2ca17a180786b69acc140d282b71a49"
      }
    }
  },
  "nbformat": 4,
  "nbformat_minor": 0
}
