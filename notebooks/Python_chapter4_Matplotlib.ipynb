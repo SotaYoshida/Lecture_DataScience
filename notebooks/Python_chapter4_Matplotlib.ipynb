{
  "nbformat": 4,
  "nbformat_minor": 0,
  "metadata": {
    "colab": {
      "name": "Python_chapter4_Matplotlib.ipynb",
      "provenance": [],
      "collapsed_sections": [],
      "include_colab_link": true
    },
    "kernelspec": {
      "name": "python3",
      "display_name": "Python 3"
    }
  },
  "cells": [
    {
      "cell_type": "markdown",
      "metadata": {
        "id": "view-in-github",
        "colab_type": "text"
      },
      "source": [
        "<a href=\"https://colab.research.google.com/github/SotaYoshida/Lecture_DataScience/blob/2021/notebooks/Python_chapter4_Matplotlib.ipynb\" target=\"_parent\"><img src=\"https://colab.research.google.com/assets/colab-badge.svg\" alt=\"Open In Colab\"/></a>"
      ]
    },
    {
      "cell_type": "markdown",
      "metadata": {
        "id": "OCa-xyVjiadQ"
      },
      "source": [
        "# ライブラリ/パッケージ/モジュールとデータの可視化(Matplotlib)\n",
        "\n",
        "[この章の目的]\n",
        "* [ライブラリ]という概念の獲得\n",
        "* Pythonを用いた各種プロットをやってみる\n",
        "\n",
        "Pythonでは(他のプログラミング言語と同様)  \n",
        "特定の作業がパッケージ化されたプログラム群が用意されていて、  \n",
        "これらをライブラリ,パッケージ,モジュールなどと呼びます\n",
        "> 授業では、ライブラリ,モジュール,パッケージという名前が混在しているかと思います。  \n",
        "正確な定義としてはライブラリ/パッケージ/モジュールの順に、  \n",
        "より上位の集合を指すようですが、境界はあいまいな印象です。  \n",
        "\n",
        "Pythonのライブラリの多くはGitHub上で開発・公開されていて、  \n",
        "簡単にインストールしたりインポートして使うことができます。  \n",
        "\n",
        "データ分析, AI・機械学習, エクセル等の操作, Webスクレイピングなど  \n",
        "非常に多岐にわたるモジュールが存在していて誰でも気軽に使うことができます。\n",
        "\n",
        "幾つかのライブラリやモジュールは標準で組み込まれているため、  \n",
        "インストール作業をすることなく、  \n",
        "以下のように簡単にインポートして使うことができます。  \n",
        "たとえばmathという名前のモジュールをインポートする際には\n"
      ]
    },
    {
      "cell_type": "code",
      "metadata": {
        "id": "hGBW_qTNkvRq"
      },
      "source": [
        "import math"
      ],
      "execution_count": null,
      "outputs": []
    },
    {
      "cell_type": "markdown",
      "metadata": {
        "id": "It2WtKEtkwNT"
      },
      "source": [
        "とします。簡単ですね。\n",
        "  \n",
        "上でmathをインポートすると、数学で多用される$\\pi$,対数関数```log(),log10()```  \n",
        "指数関数```exp```,三角関数```sin,cos```などを使うことができます。"
      ]
    },
    {
      "cell_type": "markdown",
      "metadata": {
        "id": "KbRzvsm95XU_"
      },
      "source": [
        "モジュール内に用意されている関数を利用するときは通常  \n",
        "```モジュール名.関数```や```モジュール名.関数(引数)```といった形で使います。"
      ]
    },
    {
      "cell_type": "code",
      "metadata": {
        "id": "9BbEO3a8k0VH",
        "colab": {
          "base_uri": "https://localhost:8080/"
        },
        "outputId": "d60f64eb-3aa0-4025-e630-14bbbd1634bc"
      },
      "source": [
        "print(math.log(2.0)) #自然対数 \n",
        "print(math.log10(2.0)) #常用(底が10)対数\n",
        "print(math.exp(2.0)) #指数関数\n",
        "print(math.pi) #円周率pi (引数なし)\n",
        "print(math.sin(math.pi))  # sin(pi)"
      ],
      "execution_count": null,
      "outputs": [
        {
          "output_type": "stream",
          "name": "stdout",
          "text": [
            "0.6931471805599453\n",
            "0.3010299956639812\n",
            "7.38905609893065\n",
            "3.141592653589793\n",
            "1.2246467991473532e-16\n"
          ]
        }
      ]
    },
    {
      "cell_type": "markdown",
      "metadata": {
        "id": "cGKN5FijmR8v"
      },
      "source": [
        "注:sin(π)は厳密に0になるべきですが1章で述べたように、  \n",
        "実数が有限の精度なので微小な量0からずれています"
      ]
    },
    {
      "cell_type": "markdown",
      "metadata": {
        "id": "69y4fMDWSB11"
      },
      "source": [
        "## Numpy"
      ]
    },
    {
      "cell_type": "markdown",
      "metadata": {
        "id": "FIsrOtnTR4qZ"
      },
      "source": [
        "データ分析などで非常によく使われるNumpyというライブラリがあります。\n",
        "\n",
        "簡単な作業ならリストでも代用できるので必須ではありませんが  \n",
        "コードを大幅に簡略化することができるので  \n",
        "今後ノートブックでもたびたびNumpyが用いられます。\n",
        "\n",
        "詳しくは[こちらのノートブック](https://colab.research.google.com/github/SotaYoshida/Lecture_DataScience/blob/2021/notebooks/Python_misc_numpy.ipynb)を参照してください."
      ]
    },
    {
      "cell_type": "markdown",
      "metadata": {
        "id": "XD-dP853zCmO"
      },
      "source": [
        "## Python(Matplotlib)を用いた作図\n"
      ]
    },
    {
      "cell_type": "markdown",
      "metadata": {
        "id": "SGAFbBQJnplQ"
      },
      "source": [
        "\n",
        "以降ではMatplotlibと呼ばれるモジュールを使って、  \n",
        "各種のグラフを作成する方法を見ていきましょう.\n",
        "\n",
        "Matplotlibは様々なグラフが描ける一方で少々テクニカルな部分が多いので  \n",
        "**細かい部分は分からなくても心配は不要です**  \n",
        "「こういうおまじないを唱える(書くと)こうなる」  \n",
        "というざっくりとした理解でまずは大丈夫です。  \n",
        "\n",
        "はじめはネットに転がっている誰かが書いたコードを少しずつ流用し、  \n",
        "自分の目的のためにどうすれば良いか類推しながら改良していって、  \n",
        "自分の描きたいグラフに近づけていくのが良いでしょう。  \n",
        "(私もよく過去の自分が作成したコードを流用して作図しています)\n",
        "\n",
        "慣れてくるといろんな図を作ったり、細かいところにこだわったりしたくなります。  \n",
        "そんなときは以下のチートシートが役に立ちます.  \n",
        "https://github.com/matplotlib/cheatsheets  \n",
        "\n",
        "\n"
      ]
    },
    {
      "cell_type": "markdown",
      "metadata": {
        "id": "zBHRI7JmAnqV"
      },
      "source": [
        "まず、以下のコードを実行して、matplotlib内のpyplotをインポートします\n",
        "\n",
        "matplot.pyplotだと名前が長いので```plt```という名前で使えるようにしています   \n",
        "そのためには```import XXX as YY``` などとします"
      ]
    },
    {
      "cell_type": "code",
      "metadata": {
        "id": "oevjB6tvA97n"
      },
      "source": [
        "import matplotlib.pyplot as plt "
      ],
      "execution_count": null,
      "outputs": []
    },
    {
      "cell_type": "code",
      "metadata": {
        "id": "xm6JsJ9Iy0Jz"
      },
      "source": [
        "from matplotlib import pyplot as plt #でも同じ"
      ],
      "execution_count": null,
      "outputs": []
    },
    {
      "cell_type": "markdown",
      "metadata": {
        "id": "-KUcnUBIg2W2"
      },
      "source": [
        "いくつかのライブラリにはディレクトリのように\n",
        "\n",
        "LibraryA  \n",
        "├ module1.py  \n",
        "│   └─ sub_module1_1.py   \n",
        "│   └─ sub_module1_2.py  \n",
        "├ module2.py  \n",
        "︙  \n",
        "\n",
        "という階層構造があり\"子\"はピリオドで指定します.  \n",
        "上の```matplotlib.pyplot```はその一例です."
      ]
    },
    {
      "cell_type": "markdown",
      "metadata": {
        "id": "Ycksu5i7BsWp"
      },
      "source": [
        "次に、Matplotlibは標準だと日本がは文字化けして豆腐のように表示されてしまうので、  \n",
        "日本語フォントを使うためのライブラリをGoogleのサーバにインストールします"
      ]
    },
    {
      "cell_type": "code",
      "metadata": {
        "id": "Qwb9pJyCAcfC",
        "colab": {
          "base_uri": "https://localhost:8080/"
        },
        "outputId": "4402341c-171e-4955-f096-ad6fd639787e"
      },
      "source": [
        "!pip install japanize-matplotlib \n",
        "import japanize_matplotlib\n",
        "import numpy as np  #ついでにコレもインポート"
      ],
      "execution_count": null,
      "outputs": [
        {
          "output_type": "stream",
          "name": "stdout",
          "text": [
            "Collecting japanize-matplotlib\n",
            "  Downloading japanize-matplotlib-1.1.3.tar.gz (4.1 MB)\n",
            "\u001b[K     |████████████████████████████████| 4.1 MB 13.9 MB/s \n",
            "\u001b[?25hRequirement already satisfied: matplotlib in /usr/local/lib/python3.7/dist-packages (from japanize-matplotlib) (3.2.2)\n",
            "Requirement already satisfied: cycler>=0.10 in /usr/local/lib/python3.7/dist-packages (from matplotlib->japanize-matplotlib) (0.10.0)\n",
            "Requirement already satisfied: python-dateutil>=2.1 in /usr/local/lib/python3.7/dist-packages (from matplotlib->japanize-matplotlib) (2.8.2)\n",
            "Requirement already satisfied: numpy>=1.11 in /usr/local/lib/python3.7/dist-packages (from matplotlib->japanize-matplotlib) (1.19.5)\n",
            "Requirement already satisfied: pyparsing!=2.0.4,!=2.1.2,!=2.1.6,>=2.0.1 in /usr/local/lib/python3.7/dist-packages (from matplotlib->japanize-matplotlib) (2.4.7)\n",
            "Requirement already satisfied: kiwisolver>=1.0.1 in /usr/local/lib/python3.7/dist-packages (from matplotlib->japanize-matplotlib) (1.3.2)\n",
            "Requirement already satisfied: six in /usr/local/lib/python3.7/dist-packages (from cycler>=0.10->matplotlib->japanize-matplotlib) (1.15.0)\n",
            "Building wheels for collected packages: japanize-matplotlib\n",
            "  Building wheel for japanize-matplotlib (setup.py) ... \u001b[?25l\u001b[?25hdone\n",
            "  Created wheel for japanize-matplotlib: filename=japanize_matplotlib-1.1.3-py3-none-any.whl size=4120274 sha256=98e7f1a2f90a2e998c7343b4ece95ea7b5c958187f3de5a105373c80c3b27f08\n",
            "  Stored in directory: /root/.cache/pip/wheels/83/97/6b/e9e0cde099cc40f972b8dd23367308f7705ae06cd6d4714658\n",
            "Successfully built japanize-matplotlib\n",
            "Installing collected packages: japanize-matplotlib\n",
            "Successfully installed japanize-matplotlib-1.1.3\n"
          ]
        }
      ]
    },
    {
      "cell_type": "markdown",
      "metadata": {
        "id": "QPB383yO9SFq"
      },
      "source": [
        "Pythonでグラフを作る際の基本は、  \n",
        "**データ(描画したいもの)が入ったリストを作ること**です。\n",
        "\n",
        "リストに対して、線や棒、いろんな形のシンボルを描いたりして、  \n",
        "どんどんグラフを構成する要素を足しながら、   \n",
        "それらの色や線種、透過度や太さ,背景色などを変えつつ  \n",
        "徐々に望むようなグラフにしていきます。\n",
        "\n",
        "以下では代表的なグラフを例に、Matplotlibを使った作画を試してみましょう。"
      ]
    },
    {
      "cell_type": "markdown",
      "metadata": {
        "id": "88mhl_c22S4-"
      },
      "source": [
        "### 棒グラフ"
      ]
    },
    {
      "cell_type": "markdown",
      "metadata": {
        "id": "j98rkXdk03-h"
      },
      "source": [
        "Aさんの共通試験の得点をリスト(括弧[ ]内に、数字カンマで区切る)に格納します。  \n",
        "順番(各科目の名前(ラベル))は、国語,英語,数IA,数IIB,化学,物理,世界史として...  "
      ]
    },
    {
      "cell_type": "code",
      "metadata": {
        "id": "WWBmSr7L0_6s",
        "colab": {
          "base_uri": "https://localhost:8080/"
        },
        "outputId": "48045aeb-d3ee-4740-eca2-0cfd90c09a80"
      },
      "source": [
        "data = [152, 170, 82,85,79,92,88]\n",
        "label = [\"国語\",\"英語\", \"数IA\", \"数IIB\", \"化学\", \"物理\", \"世界史\"]\n",
        "total = sum(data)\n",
        "print(\"合計得点は\", total, \"点で、得点率は\"+str(\"%6.1f\" % (100* total/900))+\"%です\")\n",
        "#print(\"合計得点は\", total, \"点で、得点率は\"+str(total/900)+\"%です\")"
      ],
      "execution_count": null,
      "outputs": [
        {
          "output_type": "stream",
          "name": "stdout",
          "text": [
            "合計得点は 748 点で、得点率は  83.1%です\n"
          ]
        }
      ]
    },
    {
      "cell_type": "markdown",
      "metadata": {
        "id": "4gaNmr3CefUn"
      },
      "source": [
        "Aさん優秀ですね。これを棒グラフにでもしてみましょう。"
      ]
    },
    {
      "cell_type": "code",
      "metadata": {
        "id": "S0rBmtTL3YsB",
        "colab": {
          "base_uri": "https://localhost:8080/",
          "height": 169
        },
        "outputId": "2cabcb04-470f-4537-d24d-265927d8133c"
      },
      "source": [
        "plt.figure( figsize=(10,2) ) \n",
        "plt.bar(label,data,align='center',width=0.5,color=\"red\") \n",
        "plt.xlabel(\"各科目\"); plt.ylabel(\"Aさんの得点\") \n",
        "plt.show() \n",
        "plt.close()"
      ],
      "execution_count": null,
      "outputs": [
        {
          "output_type": "display_data",
          "data": {
            "image/png": "[encoded data removed]",
            "text/plain": [
              "<Figure size 720x144 with 1 Axes>"
            ]
          },
          "metadata": {
            "needs_background": "light"
          }
        }
      ]
    },
    {
      "cell_type": "markdown",
      "metadata": {
        "id": "4SV4bCn9nxqV"
      },
      "source": [
        "棒グラフが描けたでしょうか。それぞれの行の意味を順に説明します。  \n",
        "\n",
        "* 1行目:  \n",
        "```plt.figure(figsize=(10,2))  ```  \n",
        "ここでは、matplotlib.pyplot内のfigureという関数を読んでいます。  \n",
        "図を描くキャンバスを用意しているようなイメージです。  \n",
        "上でmatplotlibモジュール内のpyplotというモジュールを  \n",
        "pltという名前でインポートしたのでplt.figureというのは、  \n",
        "pyplot内のfigureという関数を使うことを意味します。  \n",
        "ここでは```figsize=(10,2)```という引数を指定しました。  \n",
        "(指定しなければ自動で図のサイズが決まります)  \n",
        "figsize=(横,縦)で大きさが指定できます、figsizeを変えて試してみましょう  \n",
        "\n",
        "* 2行目:  \n",
        "```plt.bar(label,data,align='center',width=0.5,color=\"red\")```  \n",
        "pyplot内のbarという関数(棒グラフを描く関数)を使っています。  \n",
        "1つめの引数はx軸上の値で、2つめはy軸に対応する値です。  \n",
        "x軸用のリストが数値以外のときは整数値を割り当ててプロットしてくれます  \n",
        "(７個データがあれば、x=0,1,...,6に割り当てられる)\n",
        "\n",
        "* 3行目:  \n",
        "```plt.xlabel(\"各科目\"); plt.ylabel(\"Aさんの得点\")  ```  \n",
        "ここではx軸とy軸のデータの種類(ラベル/labelと呼ぶ)を指定しています。  \n",
        "\n",
        "* 4行目:  \n",
        "```plt.show()```  \n",
        "それまでに指定した条件で絵を描いて表示する\n",
        "\n",
        "* 5行目:  \n",
        "```plt.close()  ```キャンバスを閉じる。  \n",
        "とくに一つのプログラムで複数絵を描くときはこれを書きましょう。  \n",
        "(closeしないと、どこまでがどのグラフのための指示かわからず  \n",
        "意図しない絵になることがあります)"
      ]
    },
    {
      "cell_type": "markdown",
      "metadata": {
        "id": "QJU3ua-h6JS0"
      },
      "source": [
        "####  **練習**   \n",
        "国語と英語の得点を100点満点に換算し、  \n",
        "いくつかの得点や棒グラフの色を変えてプロットしてみましょう。\n"
      ]
    },
    {
      "cell_type": "code",
      "metadata": {
        "id": "nmcYXrZACP4n"
      },
      "source": [
        ""
      ],
      "execution_count": null,
      "outputs": []
    },
    {
      "cell_type": "markdown",
      "metadata": {
        "id": "EJpfw2KwCPdV"
      },
      "source": [
        "\n",
        "\n",
        "---\n",
        "\n"
      ]
    },
    {
      "cell_type": "markdown",
      "metadata": {
        "id": "BzWX1S4I3ERW"
      },
      "source": [
        "### 円グラフ"
      ]
    },
    {
      "cell_type": "markdown",
      "metadata": {
        "id": "lH6qwevuz3Wo"
      },
      "source": [
        "世の中には多くの円グラフの誤用が溢れています。  \n",
        "ワイドショーなどで総和が100%になっていなかったり、  \n",
        "円に対して占める割合が明らかに間違っていたりと、ひどい有様です。  \n",
        "\n",
        "他にも、奥行方向に傾いた円グラフも誤った印象を与えます。  \n",
        "このように、円グラフというのは作成する際に注意が必要ですし、  \n",
        "作成した円グラフがおかしいと「私は教養のない人です」  \n",
        "と言っているようなもので大変恥ずかしい思いをします。  \n",
        "\n",
        "そもそも円グラフにしなきゃいけないデータってあるんでしょうか？  \n",
        "帯グラフなどのほうがよっぽど量の比較にも向いています。\n",
        "\n",
        "あれ...無くない？ということで円グラフはオマケとします。"
      ]
    },
    {
      "cell_type": "code",
      "metadata": {
        "id": "onNa3DTcgq-y",
        "colab": {
          "base_uri": "https://localhost:8080/",
          "height": 248
        },
        "outputId": "6e676417-65d0-4411-d321-7214d15998e9"
      },
      "source": [
        "#どうしても円グラフが描きたい方へ (下のコードを適当にいじって遊んでみてください)\n",
        "tlabels = [\"Aと答えた人\",\"Bと答えた人\",\"Cと答えた人\"]\n",
        "ratio = [513,142, 249]\n",
        "\n",
        "plt.figure(figsize=(4,4)) \n",
        "plt.pie(ratio,labels=tlabels,counterclock=False, startangle=90,autopct=\"%.1f%%\")\n",
        "plt.show()\n",
        "plt.close() \n",
        "# labels=tlabelsは、 pie()関数の中のlabelsという引数にtlabelsを突っ込むという意味\n",
        "# label(ラベル)とは、凡例(legend)のこと。それぞれのオブジェクトが何を指すのか\n",
        "# counterclockは反時計回りのオプションをFalse(偽)とするのでつまり時計回り(回りくどいな...)\n",
        "# startangleは円グラフの始点を、x軸から見て何度のところにとるかで、今は90度(つまり12時の方向)と設定.\n",
        "# autopctは「値を%表記に直せ」というオプションで、 %.1f%%は小数点以下1桁まで出力しなさいという命令."
      ],
      "execution_count": null,
      "outputs": [
        {
          "output_type": "display_data",
          "data": {
            "image/png": "[encoded data removed]",
            "text/plain": [
              "<Figure size 288x288 with 1 Axes>"
            ]
          },
          "metadata": {}
        }
      ]
    },
    {
      "cell_type": "code",
      "metadata": {
        "id": "efNzOCmBlOyj",
        "colab": {
          "base_uri": "https://localhost:8080/",
          "height": 213
        },
        "outputId": "c79236e2-f6c6-4528-9813-76ee20ff6ecc"
      },
      "source": [
        "tlabels = [\"Aと答えた人\",\"Bと答えた人\",\"Cと答えた人\"]\n",
        "ratio = [513,142, 249]\n",
        "\n",
        "plt.figure(figsize=(10,3)) \n",
        "plt.ylim([-1,1]) #plt.ylim(-1,1)でも可\n",
        "xs = 0.0\n",
        "for i in range(len(tlabels)):\n",
        "    tx = ratio[i]\n",
        "    ty = 0.0\n",
        "    plt.barh([ty],width=tx,left=xs,label=tlabels[i]+\"(\"+str(ratio[i])+\"人, \"+str(\"%4.1f\" % (100*ratio[i]/sum(ratio)))+\"%)\")\n",
        "    xs += ratio[i]\n",
        "plt.legend()\n",
        "plt.show()\n",
        "plt.close()"
      ],
      "execution_count": null,
      "outputs": [
        {
          "output_type": "display_data",
          "data": {
            "image/png": "[encoded data removed]",
            "text/plain": [
              "<Figure size 720x216 with 1 Axes>"
            ]
          },
          "metadata": {
            "needs_background": "light"
          }
        }
      ]
    },
    {
      "cell_type": "markdown",
      "metadata": {
        "id": "Bvlp1LLbpLut"
      },
      "source": [
        "こっちの棒グラフのほうが良い気がする"
      ]
    },
    {
      "cell_type": "markdown",
      "metadata": {
        "id": "6iN_Tl4millJ"
      },
      "source": [
        "### plot: 線の描画\n",
        "\n",
        "説明変数$x$と目的変数$y$があって、  \n",
        "とくに**$x$に対する$y$の振る舞い**に興味がある場合には```plot```を使います。\n",
        "\n",
        "たとえば、日付($x$)に対するコロナウイルス感染者($y$)の推移をプロットしてみましょう。\n",
        "\n",
        "日付は、WHOのSituation Reportが初めて発表された  \n",
        "1月20日を起点(ゼロ)とする経過日数として表すことにして...\n",
        "\n",
        "\n",
        "\n"
      ]
    },
    {
      "cell_type": "code",
      "metadata": {
        "id": "N0LR-xQii7b3",
        "colab": {
          "base_uri": "https://localhost:8080/",
          "height": 539
        },
        "outputId": "757de566-1af8-48f8-cc69-98b98d9443b9"
      },
      "source": [
        "# 感染者数と重傷者数\n",
        "y= [282,314,None,581,846,1320,2014,2798,4593,\n",
        "    6065,7818,9826,11953,14557,17391,20630,\n",
        "    24554,28276,31481,34886,\n",
        "     37558.40554,43103,45171] #2月13日までのデータ\n",
        "\n",
        "y_err= [282,314,None,581,846,1320,2014,2798,4593,\n",
        "    6065,7818,9826,11953,14557,17391,20630,\n",
        "    24554,28276,31481,34886,35000,\n",
        "     37558.40554,43103,45171] #2月13日までのデータ\n",
        "\n",
        "y_sev=[51,51,None,96,177,237,324,461,976,1239,\n",
        "       1370,1527,1795,2110,2296,2788,3219,3859,4821,6101,6188,6484,7333,8304]\n",
        "\n",
        "plt.figure(figsize=(12,4)) \n",
        "plt.xlabel(\"1月20日以降の経過日数\")\n",
        "plt.plot(range(len(y)),y, label=\"世界全体での新型コロナウイルス感染者数\",color=\"red\")\n",
        "#x軸が0から始まる整数値(0,1,...)で良い場合は、x軸のデータを指定しなくてもplotしてくれる\n",
        "plt.plot(y_sev, label=\"重傷者数\",color=\"blue\") \n",
        "plt.legend() ##凡例(線や点等の説明)を描画する\n",
        "plt.show()\n",
        "plt.close() \n",
        "\n",
        "plt.figure(figsize=(12,4)) \n",
        "plt.xlabel(\"1月20日以降の経過日数\")\n",
        "plt.yscale(\"log\") ## y軸を対数スケールに変換\n",
        "plt.plot(range(len(y)), y, marker=\"x\",label=\"世界全体での新型コロナウイルス感染者数\",color=\"red\") ## markerの値を指定すれば、線だけじゃなく点を描くことも出来る。\n",
        "plt.plot(y_sev, label=\"重傷者数\",marker=\"o\",color=\"blue\")\n",
        "plt.legend()\n",
        "plt.show()\n",
        "plt.close() "
      ],
      "execution_count": null,
      "outputs": [
        {
          "output_type": "display_data",
          "data": {
            "image/png": "[encoded data removed]",
            "text/plain": [
              "<Figure size 864x288 with 1 Axes>"
            ]
          },
          "metadata": {
            "needs_background": "light"
          }
        },
        {
          "output_type": "display_data",
          "data": {
            "image/png": "[encoded data removed]",
            "text/plain": [
              "<Figure size 864x288 with 1 Axes>"
            ]
          },
          "metadata": {
            "needs_background": "light"
          }
        }
      ]
    },
    {
      "cell_type": "markdown",
      "metadata": {
        "id": "5Hbzfjw0pqhu"
      },
      "source": [
        "下のグラフはy軸の対数スケールをとってみました。\n",
        "\n",
        "*データが無い日の値は0ではなくNone(値なし)にすることに注意しましょう*"
      ]
    },
    {
      "cell_type": "markdown",
      "metadata": {
        "id": "AP4eGtKElufB"
      },
      "source": [
        "**注意**  \n",
        "当然ですが、x軸とy軸方向でデータの数が合っていないとエラーを起こします。  \n",
        "\n",
        "「一緒にしているつもりなのにエラーが出る...」と言う場合は  \n",
        "len()関数などを実行してリストの長さ/要素の数をチェックしてみましょう。  \n",
        "カンマがピリオドになるなどして、意図しないリストになっているかもしれません。  \n",
        "\n",
        "例:   \n",
        "(意図したリスト) [2,3,5]  ←長さ3のリスト  \n",
        "(間違えて作ったリスト) [2.3,5] ←カンマがピリオドになっていて、長さ2のリストになっている  \n"
      ]
    },
    {
      "cell_type": "markdown",
      "metadata": {
        "id": "EiGt8E4VoWEI"
      },
      "source": [
        "\n",
        "\n",
        "**練習**:   \n",
        "「matplotlib marker」でWeb検索してみて、どんな形状のmarkerが使えるか調べてみましょう。  \n",
        "その中から\"x\"(バツ印)以外の好きなシンボルを選んで上のグラフの二番目をプロットしてみましょう。\n",
        "\n"
      ]
    },
    {
      "cell_type": "code",
      "metadata": {
        "id": "Oy34IWVsCLZv"
      },
      "source": [
        ""
      ],
      "execution_count": null,
      "outputs": []
    },
    {
      "cell_type": "markdown",
      "metadata": {
        "id": "H15gDDnkmz5p"
      },
      "source": [
        "### scatter: 散布図の描画\n",
        "\n",
        "xとy、２つの量があって、どちらにも興味がある、  \n",
        "あるいは両者の間の相関に興味がある場合、  \n",
        "散布図を描くと、見通しやすくなることが多いです。\n",
        "\n",
        "以下では、2017年の宇都宮の平均気温とアイスクリームの消費量の相関を見てみましょう。  \n",
        "気温・アイスクリームの消費量ともに、1月から12月に順番にリストに入れていくことにします。\n",
        "\n"
      ]
    },
    {
      "cell_type": "code",
      "metadata": {
        "id": "ZpNvApJ-nVKv",
        "colab": {
          "base_uri": "https://localhost:8080/",
          "height": 304
        },
        "outputId": "05a6b8bb-8f4f-422b-d2ac-e28e968ff58b"
      },
      "source": [
        "x= [3.1, 4.3, 6.6, 13.2, 19.1, 20.9, 26.4, 25.1, 21.9, 15.7, 9.6, 3.8]\n",
        "y= [568, 572, 804, 833, 930, 965, 1213, 1120, 835, 540, 451, 502]\n",
        "\n",
        "plt.figure(figsize=(4,4)) \n",
        "plt.title(\"宇都宮市\") ## 図にはタイトルをつけることができます\n",
        "plt.xlabel(\"平均気温 (℃)\") #軸ラベルの指定\n",
        "plt.ylabel(\"世帯あたりのアイスクリーム・シャーベットの消費金額 (円)\")\n",
        "plt.scatter(x,y)\n",
        "plt.show()\n",
        "plt.close() "
      ],
      "execution_count": null,
      "outputs": [
        {
          "output_type": "display_data",
          "data": {
            "image/png": "[encoded data removed]",
            "text/plain": [
              "<Figure size 288x288 with 1 Axes>"
            ]
          },
          "metadata": {
            "needs_background": "light"
          }
        }
      ]
    },
    {
      "cell_type": "markdown",
      "metadata": {
        "id": "B-535rGQpYsg"
      },
      "source": [
        "相関係数などの情報を含んだもう少しかっこいい図を作ってみましょう。\n"
      ]
    },
    {
      "cell_type": "code",
      "metadata": {
        "id": "bOGBYPK7pgJZ",
        "colab": {
          "base_uri": "https://localhost:8080/",
          "height": 348
        },
        "outputId": "f86f8b2c-b8fa-4868-b642-68df12f0b624"
      },
      "source": [
        "x= [3.1, 4.3, 6.6, 13.2, 19.1, 20.9, 26.4, 25.1, 21.9, 15.7, 9.6, 3.8]\n",
        "y= [568, 572, 804, 833, 930, 965, 1213, 1120, 835, 540, 451, 502]\n",
        "\n",
        "x= np.array(x); y= np.array(y)## 注1　\n",
        "r = np.corrcoef(x,y) ## x,yの配列間の相関行列を計算します \n",
        "corrcoef=r[0,1] ## 行列の非対角要素が相関係数です。 r[0,1] # 0行目1列の値\n",
        "\n",
        "def seasoncolor(month): #季節ごとに適当に色を塗ってみましょう\n",
        "    if month <= 2 or month ==12:\n",
        "        return \"blue\"\n",
        "    elif 3 <= month <=5:\n",
        "        return \"green\"\n",
        "    elif 6 <= month <=8:\n",
        "        return \"red\"\n",
        "    elif 9<= month <=11:\n",
        "        return \"orange\"\n",
        "    return tcol\n",
        "\n",
        "fig = plt.figure(figsize=(5,5))\n",
        "ax = fig.add_subplot(111)  ## 注2\n",
        "ax.set_facecolor(\"#D3DEF1\")\n",
        "ax.set_title(\"宇都宮市\")\n",
        "ax.set_xlabel(\"平均気温 (℃)\")\n",
        "ax.set_ylabel(\"世帯あたりのアイスクリーム・シャーベットの消費金額 (円)\")\n",
        "ax.grid(True,axis=\"both\",color=\"w\", linestyle=\"dotted\", linewidth=0.8)\n",
        "for i in range(len(x)):\n",
        "    tcol=seasoncolor(i+1)\n",
        "    ax.scatter(x[i],y[i],marker=\"o\",s=10,color=tcol,zorder=20000,alpha=0.7)\n",
        "    ax.text(x[i],y[i],str(i+1)+\"月\",color=\"k\",fontsize=8)\n",
        "ax.text(0.1,0.9, \"r=\"+str(\"%5.2f\" % corrcoef), transform=ax.transAxes,fontsize=12)\n",
        "plt.show()\n",
        "plt.close()"
      ],
      "execution_count": null,
      "outputs": [
        {
          "output_type": "display_data",
          "data": {
            "image/png": "[encoded data removed]",
            "text/plain": [
              "<Figure size 360x360 with 1 Axes>"
            ]
          },
          "metadata": {
            "needs_background": "light"
          }
        }
      ]
    },
    {
      "cell_type": "markdown",
      "metadata": {
        "id": "VOIXNJmOqJvf"
      },
      "source": [
        "**注:**   x,yのデータをnumpy.array()を使ってndarray型に変換しました.  \n",
        "今の場合はndarrayにする必要性は必ずしもないのですが、  \n",
        "こうしておくといくつかの処理が高速・便利になります。  \n",
        "**数値を格納したリストは常にnp.arrayに変換して使う**  \n",
        "と、慣れるまでは考えてもよいかもしれません。  \n",
        "\n",
        "たとえばx軸の気温を絶対温度(ケルビン)に直したい時、  \n",
        "リストのままでは以下はエラーになります\n"
      ]
    },
    {
      "cell_type": "code",
      "metadata": {
        "id": "-PN1u1tTsxT-",
        "colab": {
          "base_uri": "https://localhost:8080/",
          "height": 185
        },
        "outputId": "db179fda-c8f4-4966-db3a-726e6495c623"
      },
      "source": [
        "x= [3.1, 4.3, 6.6, 13.2, 19.1, 20.9, 26.4, 25.1, 21.9, 15.7, 9.6, 3.8]\n",
        "print(x - 273.15 )"
      ],
      "execution_count": null,
      "outputs": [
        {
          "output_type": "error",
          "ename": "TypeError",
          "evalue": "ignored",
          "traceback": [
            "\u001b[0;31m---------------------------------------------------------------------------\u001b[0m",
            "\u001b[0;31mTypeError\u001b[0m                                 Traceback (most recent call last)",
            "\u001b[0;32m<ipython-input-29-0fe3254a75b5>\u001b[0m in \u001b[0;36m<module>\u001b[0;34m()\u001b[0m\n\u001b[1;32m      1\u001b[0m \u001b[0mx\u001b[0m\u001b[0;34m=\u001b[0m \u001b[0;34m[\u001b[0m\u001b[0;36m3.1\u001b[0m\u001b[0;34m,\u001b[0m \u001b[0;36m4.3\u001b[0m\u001b[0;34m,\u001b[0m \u001b[0;36m6.6\u001b[0m\u001b[0;34m,\u001b[0m \u001b[0;36m13.2\u001b[0m\u001b[0;34m,\u001b[0m \u001b[0;36m19.1\u001b[0m\u001b[0;34m,\u001b[0m \u001b[0;36m20.9\u001b[0m\u001b[0;34m,\u001b[0m \u001b[0;36m26.4\u001b[0m\u001b[0;34m,\u001b[0m \u001b[0;36m25.1\u001b[0m\u001b[0;34m,\u001b[0m \u001b[0;36m21.9\u001b[0m\u001b[0;34m,\u001b[0m \u001b[0;36m15.7\u001b[0m\u001b[0;34m,\u001b[0m \u001b[0;36m9.6\u001b[0m\u001b[0;34m,\u001b[0m \u001b[0;36m3.8\u001b[0m\u001b[0;34m]\u001b[0m\u001b[0;34m\u001b[0m\u001b[0;34m\u001b[0m\u001b[0m\n\u001b[0;32m----> 2\u001b[0;31m \u001b[0mprint\u001b[0m\u001b[0;34m(\u001b[0m\u001b[0mx\u001b[0m \u001b[0;34m-\u001b[0m \u001b[0;36m273.15\u001b[0m \u001b[0;34m)\u001b[0m\u001b[0;34m\u001b[0m\u001b[0;34m\u001b[0m\u001b[0m\n\u001b[0m",
            "\u001b[0;31mTypeError\u001b[0m: unsupported operand type(s) for -: 'list' and 'float'"
          ]
        }
      ]
    },
    {
      "cell_type": "markdown",
      "metadata": {
        "id": "j3QyW6vks12G"
      },
      "source": [
        "ので、各要素に-273.15を加える必要がありますが、気温のリストをnp.arrayにしておけば"
      ]
    },
    {
      "cell_type": "code",
      "metadata": {
        "id": "kl3ZsfWcq3SA",
        "colab": {
          "base_uri": "https://localhost:8080/"
        },
        "outputId": "846a95eb-5fb5-4288-8d1b-2dfee2581360"
      },
      "source": [
        "print(np.array(x) -273.15)"
      ],
      "execution_count": null,
      "outputs": [
        {
          "output_type": "stream",
          "name": "stdout",
          "text": [
            "[-270.05 -268.85 -266.55 -259.95 -254.05 -252.25 -246.75 -248.05 -251.25\n",
            " -257.45 -263.55 -269.35]\n"
          ]
        }
      ]
    },
    {
      "cell_type": "markdown",
      "metadata": {
        "id": "-C6XzzOStFM8"
      },
      "source": [
        "とするだけで、全ての要素に-273.15を加えたnp.arrayを返します。\n",
        "\n",
        "これは、numpyに備わった「ブロードキャスト」と呼ばれる仕組みによるものです。\n",
        "\n",
        "この機能によって、いちいち配列の次元数や形状を揃えなくても  \n",
        "簡単に計算を記述することができます。"
      ]
    },
    {
      "cell_type": "markdown",
      "metadata": {
        "id": "WTDhlmHY7r2p"
      },
      "source": [
        "### $\\clubsuit$ ```ax (matplotlib.axes) ```"
      ]
    },
    {
      "cell_type": "markdown",
      "metadata": {
        "id": "qQHLqX9ntOur"
      },
      "source": [
        "\n",
        "上では、axという見慣れないものが導入されました。\n",
        "\n",
        "キャンバスの上に小さな作業領域```axes```を指定するための  \n",
        "```add_subplot```や```add_axes```といった関数があります。\n",
        "```ax```はこれらの関数で生成される作業領域に慣例的に用いる変数です。\n",
        "\n",
        "たとえばキャンバスを四分割して、  \n",
        "似たようなグラフを4つ同時に描いたりするのに便利です。\n",
        "\n",
        "```axes```を使いこなすのは少々テクニカルな点も多いので、  \n",
        "よくわからない部分はとりあえず飛ばし読みで構いません。  \n",
        "慣れてくると、その便利さに気がつくはずです。  \n",
        "\n",
        "細かい図の書き方は追々、一緒に勉強していきましょう。\n",
        "\n",
        "axに関しては、日本語で書かれた以下の記事もおすすめです  \n",
        "https://qiita.com/skotaro/items/08dc0b8c5704c94eafb9"
      ]
    },
    {
      "cell_type": "code",
      "metadata": {
        "id": "5btbwRL4YCJq",
        "colab": {
          "base_uri": "https://localhost:8080/",
          "height": 319
        },
        "outputId": "243dbdbc-9c57-44b1-8d19-a712138466ef"
      },
      "source": [
        "fig = plt.figure(figsize=(10,5))\n",
        "axTL= fig.add_subplot(2,2,1)  #TL: Top Leftのつもり\n",
        "axTR = fig.add_subplot(2,2,2) #TR: Top Rightのつもり \n",
        "axBL = fig.add_subplot(2,2,3) #BL: Bottom Leftのつもり\n",
        "axBR = fig.add_subplot(2,2,4) #BR: Bottom rightのつもり\n",
        "axTL.plot(y_err)\n",
        "axTR.scatter(x,y)\n",
        "axBL.bar(label,data,align='center',width=0.5,color=\"red\") \n",
        "axBR.text(0.5,0.4,\"右下だよ\")\n",
        "plt.show()\n",
        "plt.close()"
      ],
      "execution_count": null,
      "outputs": [
        {
          "output_type": "display_data",
          "data": {
            "image/png": "[encoded data removed]",
            "text/plain": [
              "<Figure size 720x360 with 4 Axes>"
            ]
          },
          "metadata": {
            "needs_background": "light"
          }
        }
      ]
    },
    {
      "cell_type": "markdown",
      "metadata": {
        "id": "161cPa6nrVJG"
      },
      "source": [
        "### Google Driveのマウントと、Google Colab.上で作ったグラフの保存\n",
        "\n",
        "プログラムを実行して絵を描けるようになったら、  \n",
        "次にそれを保存して、レポートに貼り付けたり、  \n",
        "誰かに送ったりする必要が出てくると思います。  \n",
        "\n",
        "Google Colab.では、同じGoogleのサービスである  \n",
        "Google drive上にファイルを保存したり(無料版で15GBまで)  \n",
        "保存したファイルを他人と共有することができます。\n",
        "\n",
        "皆さんのアカウントのGoogle Driveにあるファイルに  \n",
        "Google Colab.からアクセスするためにはマウントという作業が必要です。\n",
        "\n",
        "    \n",
        "\n",
        "\n",
        "\n",
        "\n"
      ]
    },
    {
      "cell_type": "code",
      "metadata": {
        "colab": {
          "base_uri": "https://localhost:8080/"
        },
        "id": "Cr7sAeT37OSo",
        "outputId": "70c2fb82-ba14-44b7-8e0c-5cd977137ed8"
      },
      "source": [
        "from google.colab import drive\n",
        "drive.mount('/content/drive')  # ←のマウントする際の名前は好きに決められる。drive.mount('gdrive')とかでもOK"
      ],
      "execution_count": 3,
      "outputs": [
        {
          "output_type": "stream",
          "name": "stdout",
          "text": [
            "Drive already mounted at /content/drive; to attempt to forcibly remount, call drive.mount(\"/content/drive\", force_remount=True).\n"
          ]
        }
      ]
    },
    {
      "cell_type": "markdown",
      "metadata": {
        "id": "fKJKV7iQj_kt"
      },
      "source": [
        "上のコードを実行すると(複数アカウントを所持している方はアカウントの選択をして)\n",
        "ログインをクリックするとURLが出てきます。  \n",
        "\n",
        "すると、**[このコードをコピーし、アプリケーションに切り替えて貼り付けてください]。**  \n",
        "というメッセージが出ますので、  \n",
        "Enter your authorization code:という欄にコードを貼り付けEnterを押します。\n",
        "\n",
        "上のコードは「google driveをdriveという名前でマウントする」という操作を表しています。  \n",
        "マウントできていれば、以下のコードを実行すると、  \n",
        "皆さんのアカウントのマイドライブ直下のファイル一覧が表示されます。"
      ]
    },
    {
      "cell_type": "code",
      "metadata": {
        "id": "6CyxsW43aDh0"
      },
      "source": [
        "!ls ./drive/MyDrive"
      ],
      "execution_count": null,
      "outputs": []
    },
    {
      "cell_type": "markdown",
      "metadata": {
        "id": "Mem3umDTc21A"
      },
      "source": [
        "Google Colab.からは、!マークをつけることで  \n",
        "LinuxやMac(Unix)同様のコマンドが使えます。  \n",
        "上のlsというコマンドは(List Segmentsの略で)ファイルや  \n",
        "ディレクトリの情報を表示するコマンドです。\n",
        "\n",
        "半角のスラッシュ```/```はディレクトリ階層を意味していて、  \n",
        "windowsで言うところの￥に相当します。\n",
        "\n",
        "コンピュータでディレクトリやパスを指定するときは通常  \n",
        "このような**パス**と呼ばれるものを指定して扱います。  \n",
        "※パスについては5章のノートに詳しい記述があります。\n"
      ]
    },
    {
      "cell_type": "markdown",
      "metadata": {
        "id": "tWWrxd0N_z4k"
      },
      "source": [
        "次に、GoogleDriveに、図を保存する用のフォルダを作っておきましょう.  \n",
        "\n",
        "mkdir(make directoryの略)コマンドで、  \n",
        "マイドライブ直下に```Colab_pic```というディレクトリを作ることにします."
      ]
    },
    {
      "cell_type": "code",
      "metadata": {
        "id": "Ou5uXl-U_zV9"
      },
      "source": [
        "!mkdir './drive/MyDrive/Colab_pic' "
      ],
      "execution_count": null,
      "outputs": []
    },
    {
      "cell_type": "markdown",
      "metadata": {
        "id": "t3G421FJjMMG"
      },
      "source": [
        "上のコードを実行後にエラーが出ていなければ  \n",
        "Google driveを開くとColab_picというディレクトリが作成されているかと思います。"
      ]
    },
    {
      "cell_type": "markdown",
      "metadata": {
        "id": "dlHHaqPA_8we"
      },
      "source": [
        "一度フォルダを作ってしまうと、２回目以降は上のコードを実行しても  \n",
        "「既にフォルダありますよ！！」というメッセージがでますので  \n",
        "ノートを開くたびに実行する必要はありません。  \n"
      ]
    },
    {
      "cell_type": "markdown",
      "metadata": {
        "id": "enGmvm6gAVoE"
      },
      "source": [
        "これで準備ができました。  \n",
        "試しに以下のコードを実行して図を保存してみましょう。\n",
        "\n",
        "\n",
        "\n"
      ]
    },
    {
      "cell_type": "code",
      "metadata": {
        "id": "PHW-hUepA0dD",
        "colab": {
          "base_uri": "https://localhost:8080/",
          "height": 402
        },
        "outputId": "4f34a122-4330-4b29-9fab-ca5c285cf97f"
      },
      "source": [
        "### 先程の図\n",
        "fig = plt.figure(figsize=(6,6))\n",
        "ax = fig.add_subplot(1,1,1)  \n",
        "ax.set_facecolor(\"#D3DEF1\")\n",
        "ax.set_title(\"宇都宮市\")\n",
        "ax.set_xlabel(\"平均気温 (℃)\")\n",
        "ax.set_ylabel(\"世帯あたりのアイスクリム・シャーベットの消費金額 (円)\")\n",
        "ax.grid(True,axis=\"both\",color=\"w\", linestyle=\"dotted\", linewidth=0.8)\n",
        "for i in range(len(x)):\n",
        "    tcol=seasoncolor(i+1)\n",
        "    ax.scatter(x[i],y[i],marker=\"o\",s=10,color=tcol,zorder=20000,alpha=0.7)\n",
        "    ax.text(x[i],y[i],str(i+1)+\"月\",color=\"k\",fontsize=8)\n",
        "ax.text(0.1,0.9, \"r=\"+str(\"%5.2f\" % corrcoef), transform=ax.transAxes,fontsize=12)\n",
        "plt.savefig(\"./drive/My Drive/Colab_pic/scatter_Utsunomiya_ice.pdf\") #####  ここがさっきと違います！ \n",
        "#plt.show()\n",
        "plt.close()"
      ],
      "execution_count": null,
      "outputs": [
        {
          "output_type": "display_data",
          "data": {
            "image/png": "[encoded data removed]",
            "text/plain": [
              "<Figure size 432x432 with 1 Axes>"
            ]
          },
          "metadata": {
            "needs_background": "light"
          }
        }
      ]
    },
    {
      "cell_type": "markdown",
      "metadata": {
        "id": "LdmUlNpQjwEL"
      },
      "source": [
        "Google drive上の指定したフォルダに、ファイルが作られたでしょうか？  \n",
        "matplotlibはファイル名を変えるだけで  \n",
        "指定した拡張子で描画してくれるので色々試してみましょう  \n",
        "(.jpg,.pdf,.eps,.pngなど)"
      ]
    },
    {
      "cell_type": "markdown",
      "metadata": {
        "id": "uICk2RZ5uFwD"
      },
      "source": [
        "**余談**\n",
        "\n",
        "スライドに載せる画像は可能な限り、ラスタ形式ではなくベクタ形式(pdfやeps)がおすすめです。  \n",
        "(それか、高解像度でjpegやpngを作ってスライドで使って、誰かにスライドを渡すときは軽量化する)  \n",
        "プレゼンで図が滲んでいるスライドを見せていると「あぁ配慮が足りないんだな」と思われて損をしてしまうかもしれません。  \n",
        "論文でラスタ画像を使う場合は「トンデモ論文だと思われて誰にも読まれない危険性」を理解して使いましょう。\n"
      ]
    },
    {
      "cell_type": "markdown",
      "metadata": {
        "id": "WHPD2iPs0JlX"
      },
      "source": [
        "**練習**\n",
        "これまでの(棒グラフ,円グラフ,１次元図,散布図)のグラフを描画したコード部分で、  \n",
        "データを自由に足してみながら、plt.show()を書き換えてファイルに出力してみましょう。\n",
        "\n",
        "\n",
        "\n",
        "\n",
        "\n",
        "\n"
      ]
    },
    {
      "cell_type": "code",
      "metadata": {
        "id": "IOyDWeNzUzou"
      },
      "source": [
        ""
      ],
      "execution_count": null,
      "outputs": []
    },
    {
      "cell_type": "markdown",
      "metadata": {
        "id": "FS7A2eX6daYK"
      },
      "source": [
        "### gifアニメーションの作成"
      ]
    },
    {
      "cell_type": "markdown",
      "metadata": {
        "id": "u5BC24cadfQH"
      },
      "source": [
        "「なんだこの程度のグラフならExcelでも簡単にできるじゃん...」  \n",
        "と思った皆さんのために、もう少し凝ったことをやってみましょう。  \n",
        "gifアニメーション(パラパラ漫画)を作ってみます。  \n",
        "\n",
        "以下のリンクに、x軸をGDP,y軸を24歳から35歳の平均就学年数の女性/男性比(%)とした  \n",
        "グラフを画像ファイル(png)にしたものを公開しました。\n",
        "\n",
        "(もともとのデータはFACTFULNESSから来ているのでライセンスフリーです)  \n",
        "https://drive.google.com/drive/folders/1E0H1CP_r8kFJPqtq-_sYr1-PNl-BUAXp?usp=sharing\n",
        "\n",
        "\n",
        "1.   まずこれをダウンロードしてください。\n",
        "2.   ZIP形式で保存されるので、それを解凍してください\n",
        "3.   解凍したフォルダを自身のGoogle Driveの好きな場所にアップロードしてください  \n",
        "※以下のコードをそのまま使いたければ```AdDS2021```というディレクトリを作ってその下にアップロード\n",
        "\n",
        "\n"
      ]
    },
    {
      "cell_type": "markdown",
      "metadata": {
        "id": "qH7GKz_yfRhO"
      },
      "source": [
        "たとえば私のようにGoogle Driveのマイドライブ直下のAdDS2021というフォルダの下に  \n",
        "GDPvsWomenInSchoolというフォルダを置いたとします\n",
        "\n",
        "参考スクリーンショット:  \n",
        "![](https://drive.google.com/uc?export=view&id=12v-XLgCHTpOehkJ2pmJIZ7zcaGIH4OZv)  \n",
        "\n"
      ]
    },
    {
      "cell_type": "markdown",
      "metadata": {
        "id": "C79BzM_hhBT3"
      },
      "source": [
        "年代ごとに別々になったたくさんのグラフを、1つのパラパラ漫画にまとめてみましょう\n",
        "\n",
        "先程のグラフがgoogle driveに保存されているかどうかは、  \n",
        "以下のコマンドで確認できます(アップロードして直後はファイルが見つからないことがあります)"
      ]
    },
    {
      "cell_type": "code",
      "metadata": {
        "id": "uFfxkEk-hGsO"
      },
      "source": [
        "!ls  ./drive/MyDrive/AdDS2021/GDPvsWomenInSchool/*.png"
      ],
      "execution_count": null,
      "outputs": []
    },
    {
      "cell_type": "markdown",
      "metadata": {
        "id": "8k2AXhuTfqJF"
      },
      "source": [
        "AdDS2021/GDPvsWomenInSchool/の部分は皆さんのフォルダ名に適宜変更してください.\n",
        "\n",
        "pngファイルをまとめてgifにするコードは以下のとおりです。(処理にしばし時間がかかります)"
      ]
    },
    {
      "cell_type": "code",
      "metadata": {
        "id": "Uqdk5CaBdgJi"
      },
      "source": [
        "from PIL import Image\n",
        "import glob\n",
        "\n",
        "files = sorted(glob.glob('./drive/My Drive/AdDS2021/GDPvsWomenInSchool/GDPvsWomen*.png')) ##まとめたいpngをワイルドカードで指定\n",
        "images = list(map(lambda file: Image.open(file), files))\n",
        "\n",
        "oupf = './drive/My Drive/Colab_pic/GDPvsWomen.gif' ##出力名と保存場所を指定する\n",
        "images[0].save(oupf, save_all=True, append_images=images[1:], duration=400, loop=0)"
      ],
      "execution_count": null,
      "outputs": []
    },
    {
      "cell_type": "markdown",
      "metadata": {
        "id": "eiu1iJjEokt6"
      },
      "source": [
        "エラーが出なければおそらく変数```oupf```で指定した場所に、gifファイルが生成されていると思います。\n",
        "\n",
        "\n",
        "私の作成例([ファイルへのリンク](https://drive.google.com/file/d/1Y4EkRP3U-aUcziBOoHyxuBZWbT7ZGL-k/view?usp=sharing))は以下のとおりです  \n",
        "\n",
        "<img src=\"https://drive.google.com/uc?export=view&id=1Y4EkRP3U-aUcziBOoHyxuBZWbT7ZGL-k\" width = 40%>\n",
        "\n"
      ]
    },
    {
      "cell_type": "markdown",
      "metadata": {
        "id": "7rVhvZASjDPK"
      },
      "source": [
        "### $\\clubsuit$おまけ\n",
        "\n",
        "その他のグラフ"
      ]
    },
    {
      "cell_type": "code",
      "metadata": {
        "id": "9nJ-tBtxjFJ2"
      },
      "source": [
        "import matplotlib.pyplot as plt\n",
        "from mpl_toolkits.mplot3d import axes3d\n",
        "from mpl_toolkits.mplot3d.axes3d import get_test_data\n",
        "import os\n",
        "\n",
        "X, Y, Z = get_test_data()\n",
        "fig = plt.figure(figsize=(10,5))\n",
        "ax = fig.gca(projection='3d')\n",
        "ax.set_xlabel(\"x\")\n",
        "ax.set_ylabel(\"y\")\n",
        "ax.set_zlabel(\"target function\")\n",
        "ax.view_init(elev=45)#上から見た角度を調整できる\n",
        "ax.plot_surface(X, Y, Z,cmap=plt.cm.viridis)\n",
        "plt.show()\n",
        "plt.close()"
      ],
      "execution_count": null,
      "outputs": []
    },
    {
      "cell_type": "markdown",
      "metadata": {
        "id": "c34ap-zmHd5s"
      },
      "source": [
        "二次元ヒストグラム"
      ]
    },
    {
      "cell_type": "code",
      "metadata": {
        "id": "n00yqPx9Hf1E"
      },
      "source": [
        "import matplotlib.cm as cm\n",
        "import numpy as np\n",
        "\n",
        "mu1 = [ 3.0, 2.0]\n",
        "cov1 = [ [1.0, 0.7],[0.7,1.0]]\n",
        "numS = 50000\n",
        "\n",
        "sample1 = np.random.multivariate_normal(mu1,cov1,numS)\n",
        "x1, y1 = sample1.T\n",
        "\n",
        "fig = plt.figure(figsize=(6,5))\n",
        "ax1 = fig.add_subplot(111)\n",
        "H1 = ax1.hist2d(x1,y1, bins=40, cmap=cm.jet)\n",
        "ax1.scatter(mu1[0],mu1[1],color=\"k\",marker=\"x\")\n",
        "ax1.set_title('sample1')\n",
        "ax1.set_xlabel('x'); ax1.set_ylabel('y')\n",
        "fig.colorbar(H1[3],ax=ax1)\n",
        "plt.show()\n",
        "plt.close()\n"
      ],
      "execution_count": null,
      "outputs": []
    },
    {
      "cell_type": "markdown",
      "metadata": {
        "id": "n2vmy-cwzHVi"
      },
      "source": [
        "日本地図"
      ]
    },
    {
      "cell_type": "code",
      "metadata": {
        "id": "eFGbkhOQzH27"
      },
      "source": [
        "!pip install japanmap\n",
        "from japanmap import pref_names,pref_code,groups,picture\n",
        "import matplotlib.pyplot as plt\n",
        "from pylab import rcParams"
      ],
      "execution_count": null,
      "outputs": []
    },
    {
      "cell_type": "code",
      "metadata": {
        "id": "KkH_HRkYMmUw"
      },
      "source": [
        "plt.figure(figsize=(6,6))\n",
        "plt.imshow(picture({'栃木県': 'red', '群馬県': 'blue'}))"
      ],
      "execution_count": null,
      "outputs": []
    },
    {
      "cell_type": "markdown",
      "metadata": {
        "id": "dPK_KIGcyuod"
      },
      "source": [
        "# LICENSE"
      ]
    },
    {
      "cell_type": "markdown",
      "metadata": {
        "id": "q943wB7Z4DYK"
      },
      "source": [
        "\n",
        "Copyright (C) 2021 Sota Yoshida\n",
        "\n",
        "[ライセンス:クリエイティブ・コモンズ 4.0 表示 (CC-BY 4.0)](https://creativecommons.org/licenses/by/4.0/deed.ja)"
      ]
    }
  ]
}