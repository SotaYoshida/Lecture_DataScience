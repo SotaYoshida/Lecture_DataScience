{
  "nbformat": 4,
  "nbformat_minor": 0,
  "metadata": {
    "colab": {
      "name": "Python_misc_interpolation_integral.ipynb",
      "provenance": [],
      "collapsed_sections": [
        "4dMj1-bpCxRQ",
        "iJbN-_V8C3o2"
      ],
      "include_colab_link": true
    },
    "kernelspec": {
      "name": "python3",
      "display_name": "Python 3"
    }
  },
  "cells": [
    {
      "cell_type": "markdown",
      "metadata": {
        "id": "view-in-github",
        "colab_type": "text"
      },
      "source": [
        "<a href=\"https://colab.research.google.com/github/SotaYoshida/Lecture_DataScience/blob/2021/notebooks/Python_misc_interpolation_integral.ipynb\" target=\"_parent\"><img src=\"https://colab.research.google.com/assets/colab-badge.svg\" alt=\"Open In Colab\"/></a>"
      ]
    },
    {
      "cell_type": "markdown",
      "metadata": {
        "id": "Ws7MIlNI8DVM"
      },
      "source": [
        "# 補間と数値積分\n",
        "\n",
        "\n"
      ]
    },
    {
      "cell_type": "code",
      "metadata": {
        "colab": {
          "base_uri": "https://localhost:8080/"
        },
        "id": "qGETMby8UfnP",
        "outputId": "9a496d0f-4b99-46c7-8036-b77c44b0a818"
      },
      "source": [
        "import numpy as np \n",
        "import pandas as pd\n",
        "from matplotlib import pyplot as plt\n",
        "!pip install japanize_matplotlib\n",
        "import japanize_matplotlib"
      ],
      "execution_count": 35,
      "outputs": [
        {
          "output_type": "stream",
          "text": [
            "Collecting japanize_matplotlib\n",
            "  Downloading japanize-matplotlib-1.1.3.tar.gz (4.1 MB)\n",
            "\u001b[K     |████████████████████████████████| 4.1 MB 5.2 MB/s \n",
            "\u001b[?25hRequirement already satisfied: matplotlib in /usr/local/lib/python3.7/dist-packages (from japanize_matplotlib) (3.2.2)\n",
            "Requirement already satisfied: pyparsing!=2.0.4,!=2.1.2,!=2.1.6,>=2.0.1 in /usr/local/lib/python3.7/dist-packages (from matplotlib->japanize_matplotlib) (2.4.7)\n",
            "Requirement already satisfied: cycler>=0.10 in /usr/local/lib/python3.7/dist-packages (from matplotlib->japanize_matplotlib) (0.10.0)\n",
            "Requirement already satisfied: python-dateutil>=2.1 in /usr/local/lib/python3.7/dist-packages (from matplotlib->japanize_matplotlib) (2.8.1)\n",
            "Requirement already satisfied: numpy>=1.11 in /usr/local/lib/python3.7/dist-packages (from matplotlib->japanize_matplotlib) (1.19.5)\n",
            "Requirement already satisfied: kiwisolver>=1.0.1 in /usr/local/lib/python3.7/dist-packages (from matplotlib->japanize_matplotlib) (1.3.1)\n",
            "Requirement already satisfied: six in /usr/local/lib/python3.7/dist-packages (from cycler>=0.10->matplotlib->japanize_matplotlib) (1.15.0)\n",
            "Building wheels for collected packages: japanize-matplotlib\n",
            "  Building wheel for japanize-matplotlib (setup.py) ... \u001b[?25l\u001b[?25hdone\n",
            "  Created wheel for japanize-matplotlib: filename=japanize_matplotlib-1.1.3-py3-none-any.whl size=4120274 sha256=d105a6530267a1b53e09b3b400a9f0d086918c428a2f6592d48b83e77b0b8d19\n",
            "  Stored in directory: /root/.cache/pip/wheels/83/97/6b/e9e0cde099cc40f972b8dd23367308f7705ae06cd6d4714658\n",
            "Successfully built japanize-matplotlib\n",
            "Installing collected packages: japanize-matplotlib\n",
            "Successfully installed japanize-matplotlib-1.1.3\n"
          ],
          "name": "stdout"
        }
      ]
    },
    {
      "cell_type": "markdown",
      "metadata": {
        "id": "1rBRTEatNnT9"
      },
      "source": [
        "##補間"
      ]
    },
    {
      "cell_type": "markdown",
      "metadata": {
        "id": "N2Z2wYqeNuTS"
      },
      "source": [
        "補間/内挿(interpolation)とは、既知の離散的な点列をもとに  \n",
        "点列の間の各点の値を見積もったり、連続的な関数としての表現を与えることの総称である。\n",
        "\n",
        "たとえば、夏休みの宿題でアサガオの観察日記をつけることにしたAさんが、  \n",
        "毎日、アサガオの鉢の土の表面温度もあわせて記録していたとする。\n",
        "\n",
        "ところが、お盆で祖父母の家に帰った3日だけ、測定をさぼってしまった。  \n",
        "そんなとき、お盆前までとお盆以降の測定結果から  \n",
        "お盆期間の温度を見積もることは、\n",
        "[内挿]を考えていることに相当する。"
      ]
    },
    {
      "cell_type": "markdown",
      "metadata": {
        "id": "jkyr6-wAQhuG"
      },
      "source": [
        "### 線形補間"
      ]
    },
    {
      "cell_type": "markdown",
      "metadata": {
        "id": "FposrucFQq-L"
      },
      "source": [
        "誰でもすぐに思いつく方法は、既知の点を直線で結んで間の点の値を補うことであり、  \n",
        "これは線形補間や１次補間と呼ばれる。\n",
        "\n",
        "線形になる機構がわかっている場合を除いて、測定し忘れたデータを線で補間した結果が正しい保証はまったくないのだが、とにかくやってみよう。\n",
        "\n",
        "[気象庁の東京の2020年8月の気象データ](https://www.data.jma.go.jp/obd/stats/etrn/view/daily_s1.php?prec_no=44&block_no=47662&year=2020&month=8&day=&view=)から、最高気温を例にとってみよう。\n",
        "\n",
        "手で入力するのではなく、スクレイピングしてみよう。\n",
        "DataFrameの使い方については別のノートブックを参照のこと。\n",
        "\n",
        "\n"
      ]
    },
    {
      "cell_type": "code",
      "metadata": {
        "id": "K2_CmgqbShD5"
      },
      "source": [
        "url = 'https://www.data.jma.go.jp/obd/stats/etrn/view/daily_s1.php?prec_no=44&block_no=47662&year=2020&month=8&day=&view='\n",
        "df = pd.read_html(url)[0] #0番目がほしい表になっている"
      ],
      "execution_count": 4,
      "outputs": []
    },
    {
      "cell_type": "markdown",
      "metadata": {
        "id": "lbxMYzYmTs7B"
      },
      "source": [
        "列を確認すると"
      ]
    },
    {
      "cell_type": "code",
      "metadata": {
        "id": "LblA7gv7TKLZ",
        "colab": {
          "base_uri": "https://localhost:8080/"
        },
        "outputId": "c691c3fe-85ab-4cb1-ea4c-5baca311d062"
      },
      "source": [
        "print(df.columns) "
      ],
      "execution_count": 5,
      "outputs": [
        {
          "output_type": "stream",
          "text": [
            "MultiIndex([(         '日',          '日',                '日', ...),\n",
            "            (   '気圧(hPa)',         '現地',               '平均', ...),\n",
            "            (   '気圧(hPa)',         '海面',               '平均', ...),\n",
            "            (   '降水量(mm)',    '降水量(mm)',               '合計', ...),\n",
            "            (   '降水量(mm)',    '降水量(mm)',               '最大', ...),\n",
            "            (   '降水量(mm)',    '降水量(mm)',               '最大', ...),\n",
            "            (     '気温(℃)',      '気温(℃)',               '平均', ...),\n",
            "            (     '気温(℃)',      '気温(℃)',               '最高', ...),\n",
            "            (     '気温(℃)',      '気温(℃)',               '最低', ...),\n",
            "            (     '湿度(％)',      '湿度(％)',               '平均', ...),\n",
            "            (     '湿度(％)',      '湿度(％)',               '最小', ...),\n",
            "            ('風向・風速(m/s)', '風向・風速(m/s)',             '平均風速', ...),\n",
            "            ('風向・風速(m/s)', '風向・風速(m/s)',             '最大風速', ...),\n",
            "            ('風向・風速(m/s)', '風向・風速(m/s)',             '最大風速', ...),\n",
            "            ('風向・風速(m/s)', '風向・風速(m/s)',           '最大瞬間風速', ...),\n",
            "            ('風向・風速(m/s)', '風向・風速(m/s)',           '最大瞬間風速', ...),\n",
            "            (   '日照時間(h)',    '日照時間(h)',          '日照時間(h)', ...),\n",
            "            (     '雪(cm)',      '雪(cm)',               '降雪', ...),\n",
            "            (     '雪(cm)',      '雪(cm)',             '最深積雪', ...),\n",
            "            (      '天気概況',       '天気概況',   '昼(06:00-18:00)', ...),\n",
            "            (      '天気概況',       '天気概況', '夜(18:00-翌日06:00)', ...)],\n",
            "           )\n"
          ],
          "name": "stdout"
        }
      ]
    },
    {
      "cell_type": "markdown",
      "metadata": {
        "id": "S8Ek53VGTvPj"
      },
      "source": [
        "タプルになっていて少々厄介な構造になっていることが分かる。"
      ]
    },
    {
      "cell_type": "code",
      "metadata": {
        "colab": {
          "base_uri": "https://localhost:8080/",
          "height": 1000
        },
        "id": "UqAjARwnTyxM",
        "outputId": "427f3175-1325-44c1-fc42-798e0340631b"
      },
      "source": [
        "df"
      ],
      "execution_count": 6,
      "outputs": [
        {
          "output_type": "execute_result",
          "data": {
            "text/html": [
              "<div>\n",
              "<style scoped>\n",
              "    .dataframe tbody tr th:only-of-type {\n",
              "        vertical-align: middle;\n",
              "    }\n",
              "\n",
              "    .dataframe tbody tr th {\n",
              "        vertical-align: top;\n",
              "    }\n",
              "\n",
              "    .dataframe thead tr th {\n",
              "        text-align: left;\n",
              "    }\n",
              "</style>\n",
              "<table border=\"1\" class=\"dataframe\">\n",
              "  <thead>\n",
              "    <tr>\n",
              "      <th></th>\n",
              "      <th>日</th>\n",
              "      <th colspan=\"2\" halign=\"left\">気圧(hPa)</th>\n",
              "      <th colspan=\"3\" halign=\"left\">降水量(mm)</th>\n",
              "      <th colspan=\"3\" halign=\"left\">気温(℃)</th>\n",
              "      <th colspan=\"2\" halign=\"left\">湿度(％)</th>\n",
              "      <th colspan=\"5\" halign=\"left\">風向・風速(m/s)</th>\n",
              "      <th>日照時間(h)</th>\n",
              "      <th colspan=\"2\" halign=\"left\">雪(cm)</th>\n",
              "      <th colspan=\"2\" halign=\"left\">天気概況</th>\n",
              "    </tr>\n",
              "    <tr>\n",
              "      <th></th>\n",
              "      <th>日</th>\n",
              "      <th>現地</th>\n",
              "      <th>海面</th>\n",
              "      <th colspan=\"3\" halign=\"left\">降水量(mm)</th>\n",
              "      <th colspan=\"3\" halign=\"left\">気温(℃)</th>\n",
              "      <th colspan=\"2\" halign=\"left\">湿度(％)</th>\n",
              "      <th colspan=\"5\" halign=\"left\">風向・風速(m/s)</th>\n",
              "      <th>日照時間(h)</th>\n",
              "      <th colspan=\"2\" halign=\"left\">雪(cm)</th>\n",
              "      <th colspan=\"2\" halign=\"left\">天気概況</th>\n",
              "    </tr>\n",
              "    <tr>\n",
              "      <th></th>\n",
              "      <th>日</th>\n",
              "      <th>平均</th>\n",
              "      <th>平均</th>\n",
              "      <th>合計</th>\n",
              "      <th colspan=\"2\" halign=\"left\">最大</th>\n",
              "      <th>平均</th>\n",
              "      <th>最高</th>\n",
              "      <th>最低</th>\n",
              "      <th>平均</th>\n",
              "      <th>最小</th>\n",
              "      <th>平均風速</th>\n",
              "      <th colspan=\"2\" halign=\"left\">最大風速</th>\n",
              "      <th colspan=\"2\" halign=\"left\">最大瞬間風速</th>\n",
              "      <th>日照時間(h)</th>\n",
              "      <th>降雪</th>\n",
              "      <th>最深積雪</th>\n",
              "      <th>昼(06:00-18:00)</th>\n",
              "      <th>夜(18:00-翌日06:00)</th>\n",
              "    </tr>\n",
              "    <tr>\n",
              "      <th></th>\n",
              "      <th>日</th>\n",
              "      <th>平均</th>\n",
              "      <th>平均</th>\n",
              "      <th>合計</th>\n",
              "      <th>1時間</th>\n",
              "      <th>10分間</th>\n",
              "      <th>平均</th>\n",
              "      <th>最高</th>\n",
              "      <th>最低</th>\n",
              "      <th>平均</th>\n",
              "      <th>最小</th>\n",
              "      <th>平均風速</th>\n",
              "      <th>風速</th>\n",
              "      <th>風向</th>\n",
              "      <th>風速</th>\n",
              "      <th>風向</th>\n",
              "      <th>日照時間(h)</th>\n",
              "      <th>合計</th>\n",
              "      <th>値</th>\n",
              "      <th>昼(06:00-18:00)</th>\n",
              "      <th>夜(18:00-翌日06:00)</th>\n",
              "    </tr>\n",
              "  </thead>\n",
              "  <tbody>\n",
              "    <tr>\n",
              "      <th>0</th>\n",
              "      <td>1</td>\n",
              "      <td>1009.3</td>\n",
              "      <td>1012.0</td>\n",
              "      <td>0.5</td>\n",
              "      <td>0.5</td>\n",
              "      <td>0.5</td>\n",
              "      <td>26.1</td>\n",
              "      <td>31.8</td>\n",
              "      <td>21.8</td>\n",
              "      <td>77</td>\n",
              "      <td>55</td>\n",
              "      <td>2.6</td>\n",
              "      <td>5.4</td>\n",
              "      <td>東北東</td>\n",
              "      <td>9.9</td>\n",
              "      <td>東北東</td>\n",
              "      <td>5.5</td>\n",
              "      <td>--</td>\n",
              "      <td>--</td>\n",
              "      <td>晴</td>\n",
              "      <td>晴一時曇</td>\n",
              "    </tr>\n",
              "    <tr>\n",
              "      <th>1</th>\n",
              "      <td>2</td>\n",
              "      <td>1011.0</td>\n",
              "      <td>1013.8</td>\n",
              "      <td>--</td>\n",
              "      <td>--</td>\n",
              "      <td>--</td>\n",
              "      <td>26.3</td>\n",
              "      <td>31.5</td>\n",
              "      <td>22.6</td>\n",
              "      <td>75</td>\n",
              "      <td>48</td>\n",
              "      <td>2.4</td>\n",
              "      <td>5.1</td>\n",
              "      <td>南東</td>\n",
              "      <td>8.6</td>\n",
              "      <td>南南東</td>\n",
              "      <td>6.0</td>\n",
              "      <td>--</td>\n",
              "      <td>--</td>\n",
              "      <td>晴時々曇</td>\n",
              "      <td>晴</td>\n",
              "    </tr>\n",
              "    <tr>\n",
              "      <th>2</th>\n",
              "      <td>3</td>\n",
              "      <td>1011.0</td>\n",
              "      <td>1013.8</td>\n",
              "      <td>--</td>\n",
              "      <td>--</td>\n",
              "      <td>--</td>\n",
              "      <td>27.2</td>\n",
              "      <td>32.3</td>\n",
              "      <td>22.3</td>\n",
              "      <td>74</td>\n",
              "      <td>47</td>\n",
              "      <td>2.4</td>\n",
              "      <td>5.0</td>\n",
              "      <td>南南東</td>\n",
              "      <td>7.7</td>\n",
              "      <td>南東</td>\n",
              "      <td>10.1</td>\n",
              "      <td>--</td>\n",
              "      <td>--</td>\n",
              "      <td>晴</td>\n",
              "      <td>晴</td>\n",
              "    </tr>\n",
              "    <tr>\n",
              "      <th>3</th>\n",
              "      <td>4</td>\n",
              "      <td>1012.2</td>\n",
              "      <td>1014.9</td>\n",
              "      <td>--</td>\n",
              "      <td>--</td>\n",
              "      <td>--</td>\n",
              "      <td>28.3</td>\n",
              "      <td>33.1</td>\n",
              "      <td>24.5</td>\n",
              "      <td>77</td>\n",
              "      <td>51</td>\n",
              "      <td>2.9</td>\n",
              "      <td>5.5</td>\n",
              "      <td>南東</td>\n",
              "      <td>8.5</td>\n",
              "      <td>南東</td>\n",
              "      <td>10.4</td>\n",
              "      <td>--</td>\n",
              "      <td>--</td>\n",
              "      <td>晴</td>\n",
              "      <td>晴後時々曇</td>\n",
              "    </tr>\n",
              "    <tr>\n",
              "      <th>4</th>\n",
              "      <td>5</td>\n",
              "      <td>1013.4</td>\n",
              "      <td>1016.1</td>\n",
              "      <td>0.0</td>\n",
              "      <td>0.0</td>\n",
              "      <td>0.0</td>\n",
              "      <td>29.1</td>\n",
              "      <td>34.2</td>\n",
              "      <td>25.7</td>\n",
              "      <td>76</td>\n",
              "      <td>50</td>\n",
              "      <td>2.9</td>\n",
              "      <td>5.3</td>\n",
              "      <td>南</td>\n",
              "      <td>8.6</td>\n",
              "      <td>南南東</td>\n",
              "      <td>10.3</td>\n",
              "      <td>--</td>\n",
              "      <td>--</td>\n",
              "      <td>晴</td>\n",
              "      <td>晴後一時曇</td>\n",
              "    </tr>\n",
              "    <tr>\n",
              "      <th>5</th>\n",
              "      <td>6</td>\n",
              "      <td>1010.5</td>\n",
              "      <td>1013.2</td>\n",
              "      <td>--</td>\n",
              "      <td>--</td>\n",
              "      <td>--</td>\n",
              "      <td>28.5</td>\n",
              "      <td>33.1</td>\n",
              "      <td>25.5</td>\n",
              "      <td>79</td>\n",
              "      <td>60</td>\n",
              "      <td>3.9</td>\n",
              "      <td>8.4</td>\n",
              "      <td>南</td>\n",
              "      <td>13.7</td>\n",
              "      <td>南</td>\n",
              "      <td>9.7</td>\n",
              "      <td>--</td>\n",
              "      <td>--</td>\n",
              "      <td>晴時々薄曇</td>\n",
              "      <td>晴</td>\n",
              "    </tr>\n",
              "    <tr>\n",
              "      <th>6</th>\n",
              "      <td>7</td>\n",
              "      <td>1005.0</td>\n",
              "      <td>1007.7</td>\n",
              "      <td>--</td>\n",
              "      <td>--</td>\n",
              "      <td>--</td>\n",
              "      <td>29.5</td>\n",
              "      <td>35.4</td>\n",
              "      <td>26.0</td>\n",
              "      <td>71</td>\n",
              "      <td>48</td>\n",
              "      <td>3.4</td>\n",
              "      <td>5.8</td>\n",
              "      <td>南南東</td>\n",
              "      <td>10.0</td>\n",
              "      <td>南</td>\n",
              "      <td>8.8</td>\n",
              "      <td>--</td>\n",
              "      <td>--</td>\n",
              "      <td>薄曇</td>\n",
              "      <td>曇一時晴</td>\n",
              "    </tr>\n",
              "    <tr>\n",
              "      <th>7</th>\n",
              "      <td>8</td>\n",
              "      <td>1006.1</td>\n",
              "      <td>1008.8</td>\n",
              "      <td>--</td>\n",
              "      <td>--</td>\n",
              "      <td>--</td>\n",
              "      <td>28.1</td>\n",
              "      <td>32.3</td>\n",
              "      <td>25.1</td>\n",
              "      <td>79</td>\n",
              "      <td>64</td>\n",
              "      <td>2.7</td>\n",
              "      <td>5.3</td>\n",
              "      <td>南東</td>\n",
              "      <td>8.5</td>\n",
              "      <td>南東</td>\n",
              "      <td>4.7</td>\n",
              "      <td>--</td>\n",
              "      <td>--</td>\n",
              "      <td>曇後晴</td>\n",
              "      <td>曇一時晴</td>\n",
              "    </tr>\n",
              "    <tr>\n",
              "      <th>8</th>\n",
              "      <td>9</td>\n",
              "      <td>1006.9</td>\n",
              "      <td>1009.6</td>\n",
              "      <td>--</td>\n",
              "      <td>--</td>\n",
              "      <td>--</td>\n",
              "      <td>28.7</td>\n",
              "      <td>34.7</td>\n",
              "      <td>23.4</td>\n",
              "      <td>77</td>\n",
              "      <td>51</td>\n",
              "      <td>2.4</td>\n",
              "      <td>5.3</td>\n",
              "      <td>南南東</td>\n",
              "      <td>8.1</td>\n",
              "      <td>南南東</td>\n",
              "      <td>7.5</td>\n",
              "      <td>--</td>\n",
              "      <td>--</td>\n",
              "      <td>薄曇</td>\n",
              "      <td>薄曇時々晴</td>\n",
              "    </tr>\n",
              "    <tr>\n",
              "      <th>9</th>\n",
              "      <td>10</td>\n",
              "      <td>1010.3</td>\n",
              "      <td>1013.0</td>\n",
              "      <td>--</td>\n",
              "      <td>--</td>\n",
              "      <td>--</td>\n",
              "      <td>30.5</td>\n",
              "      <td>35.2</td>\n",
              "      <td>26.9</td>\n",
              "      <td>73</td>\n",
              "      <td>55</td>\n",
              "      <td>2.4</td>\n",
              "      <td>5.4</td>\n",
              "      <td>南東</td>\n",
              "      <td>8.4</td>\n",
              "      <td>南南東</td>\n",
              "      <td>8.8</td>\n",
              "      <td>--</td>\n",
              "      <td>--</td>\n",
              "      <td>薄曇</td>\n",
              "      <td>晴時々薄曇</td>\n",
              "    </tr>\n",
              "    <tr>\n",
              "      <th>10</th>\n",
              "      <td>11</td>\n",
              "      <td>1009.7</td>\n",
              "      <td>1012.4</td>\n",
              "      <td>--</td>\n",
              "      <td>--</td>\n",
              "      <td>--</td>\n",
              "      <td>31.7</td>\n",
              "      <td>37.3</td>\n",
              "      <td>27.0</td>\n",
              "      <td>67</td>\n",
              "      <td>51</td>\n",
              "      <td>4.0</td>\n",
              "      <td>7.4</td>\n",
              "      <td>南</td>\n",
              "      <td>11.7</td>\n",
              "      <td>南</td>\n",
              "      <td>12.5</td>\n",
              "      <td>--</td>\n",
              "      <td>--</td>\n",
              "      <td>晴</td>\n",
              "      <td>快晴</td>\n",
              "    </tr>\n",
              "    <tr>\n",
              "      <th>11</th>\n",
              "      <td>12</td>\n",
              "      <td>1009.0</td>\n",
              "      <td>1011.7</td>\n",
              "      <td>0.5</td>\n",
              "      <td>0.5</td>\n",
              "      <td>0.5</td>\n",
              "      <td>30.0</td>\n",
              "      <td>35.8</td>\n",
              "      <td>27.3</td>\n",
              "      <td>79</td>\n",
              "      <td>56</td>\n",
              "      <td>2.5</td>\n",
              "      <td>5.7</td>\n",
              "      <td>南</td>\n",
              "      <td>9.4</td>\n",
              "      <td>西北西</td>\n",
              "      <td>7.2</td>\n",
              "      <td>--</td>\n",
              "      <td>--</td>\n",
              "      <td>晴後曇一時雨、雷を伴う</td>\n",
              "      <td>曇一時雨後晴</td>\n",
              "    </tr>\n",
              "    <tr>\n",
              "      <th>12</th>\n",
              "      <td>13</td>\n",
              "      <td>1006.4</td>\n",
              "      <td>1009.1</td>\n",
              "      <td>21.5</td>\n",
              "      <td>21.5</td>\n",
              "      <td>16.0</td>\n",
              "      <td>29.4</td>\n",
              "      <td>36.1</td>\n",
              "      <td>25.4</td>\n",
              "      <td>82</td>\n",
              "      <td>53</td>\n",
              "      <td>2.2</td>\n",
              "      <td>6.5</td>\n",
              "      <td>北西</td>\n",
              "      <td>10.6</td>\n",
              "      <td>北西</td>\n",
              "      <td>7.8</td>\n",
              "      <td>--</td>\n",
              "      <td>--</td>\n",
              "      <td>晴後時々曇一時雨、雷を伴う</td>\n",
              "      <td>晴</td>\n",
              "    </tr>\n",
              "    <tr>\n",
              "      <th>13</th>\n",
              "      <td>14</td>\n",
              "      <td>1005.5</td>\n",
              "      <td>1008.3</td>\n",
              "      <td>0.0</td>\n",
              "      <td>0.0</td>\n",
              "      <td>0.0</td>\n",
              "      <td>29.4</td>\n",
              "      <td>34.2</td>\n",
              "      <td>24.9</td>\n",
              "      <td>78</td>\n",
              "      <td>55</td>\n",
              "      <td>2.8</td>\n",
              "      <td>6.3</td>\n",
              "      <td>南南東</td>\n",
              "      <td>9.9</td>\n",
              "      <td>南東</td>\n",
              "      <td>8.3</td>\n",
              "      <td>--</td>\n",
              "      <td>--</td>\n",
              "      <td>晴</td>\n",
              "      <td>晴後一時曇</td>\n",
              "    </tr>\n",
              "    <tr>\n",
              "      <th>14</th>\n",
              "      <td>15</td>\n",
              "      <td>1004.0</td>\n",
              "      <td>1006.7</td>\n",
              "      <td>--</td>\n",
              "      <td>--</td>\n",
              "      <td>--</td>\n",
              "      <td>31.0</td>\n",
              "      <td>36.1</td>\n",
              "      <td>26.9</td>\n",
              "      <td>76</td>\n",
              "      <td>57</td>\n",
              "      <td>2.1</td>\n",
              "      <td>4.6</td>\n",
              "      <td>南東</td>\n",
              "      <td>7.4</td>\n",
              "      <td>南東</td>\n",
              "      <td>10.0</td>\n",
              "      <td>--</td>\n",
              "      <td>--</td>\n",
              "      <td>晴</td>\n",
              "      <td>晴後薄曇</td>\n",
              "    </tr>\n",
              "    <tr>\n",
              "      <th>15</th>\n",
              "      <td>16</td>\n",
              "      <td>1006.2</td>\n",
              "      <td>1008.9</td>\n",
              "      <td>0.0</td>\n",
              "      <td>0.0</td>\n",
              "      <td>0.0</td>\n",
              "      <td>31.2</td>\n",
              "      <td>35.4</td>\n",
              "      <td>28.0</td>\n",
              "      <td>74</td>\n",
              "      <td>57</td>\n",
              "      <td>2.7</td>\n",
              "      <td>5.5</td>\n",
              "      <td>北東</td>\n",
              "      <td>9.3</td>\n",
              "      <td>北東</td>\n",
              "      <td>9.7</td>\n",
              "      <td>--</td>\n",
              "      <td>--</td>\n",
              "      <td>晴、雷を伴う</td>\n",
              "      <td>曇後晴</td>\n",
              "    </tr>\n",
              "    <tr>\n",
              "      <th>16</th>\n",
              "      <td>17</td>\n",
              "      <td>1007.2</td>\n",
              "      <td>1009.9</td>\n",
              "      <td>0.0</td>\n",
              "      <td>0.0</td>\n",
              "      <td>0.0</td>\n",
              "      <td>30.8</td>\n",
              "      <td>36.5</td>\n",
              "      <td>27.2</td>\n",
              "      <td>76</td>\n",
              "      <td>50</td>\n",
              "      <td>2.7</td>\n",
              "      <td>5.9</td>\n",
              "      <td>南南東</td>\n",
              "      <td>9.3</td>\n",
              "      <td>南</td>\n",
              "      <td>7.0</td>\n",
              "      <td>--</td>\n",
              "      <td>--</td>\n",
              "      <td>曇後一時晴</td>\n",
              "      <td>曇一時雨</td>\n",
              "    </tr>\n",
              "    <tr>\n",
              "      <th>17</th>\n",
              "      <td>18</td>\n",
              "      <td>1007.2</td>\n",
              "      <td>1009.9</td>\n",
              "      <td>--</td>\n",
              "      <td>--</td>\n",
              "      <td>--</td>\n",
              "      <td>30.3</td>\n",
              "      <td>34.3</td>\n",
              "      <td>27.8</td>\n",
              "      <td>71</td>\n",
              "      <td>53</td>\n",
              "      <td>2.8</td>\n",
              "      <td>5.8</td>\n",
              "      <td>南東</td>\n",
              "      <td>9.4</td>\n",
              "      <td>北北東</td>\n",
              "      <td>4.2</td>\n",
              "      <td>--</td>\n",
              "      <td>--</td>\n",
              "      <td>晴一時曇</td>\n",
              "      <td>曇時々晴</td>\n",
              "    </tr>\n",
              "    <tr>\n",
              "      <th>18</th>\n",
              "      <td>19</td>\n",
              "      <td>1008.3</td>\n",
              "      <td>1011.0</td>\n",
              "      <td>--</td>\n",
              "      <td>--</td>\n",
              "      <td>--</td>\n",
              "      <td>29.0</td>\n",
              "      <td>34.2</td>\n",
              "      <td>25.6</td>\n",
              "      <td>72</td>\n",
              "      <td>51</td>\n",
              "      <td>2.7</td>\n",
              "      <td>5.2</td>\n",
              "      <td>南東</td>\n",
              "      <td>7.8</td>\n",
              "      <td>南東</td>\n",
              "      <td>10.8</td>\n",
              "      <td>--</td>\n",
              "      <td>--</td>\n",
              "      <td>晴時々薄曇</td>\n",
              "      <td>晴一時薄曇</td>\n",
              "    </tr>\n",
              "    <tr>\n",
              "      <th>19</th>\n",
              "      <td>20</td>\n",
              "      <td>1008.9</td>\n",
              "      <td>1011.6</td>\n",
              "      <td>--</td>\n",
              "      <td>--</td>\n",
              "      <td>--</td>\n",
              "      <td>29.7</td>\n",
              "      <td>34.8</td>\n",
              "      <td>25.8</td>\n",
              "      <td>74</td>\n",
              "      <td>51</td>\n",
              "      <td>3.2</td>\n",
              "      <td>6.1</td>\n",
              "      <td>南東</td>\n",
              "      <td>9.6</td>\n",
              "      <td>南南東</td>\n",
              "      <td>11.1</td>\n",
              "      <td>--</td>\n",
              "      <td>--</td>\n",
              "      <td>晴</td>\n",
              "      <td>快晴</td>\n",
              "    </tr>\n",
              "    <tr>\n",
              "      <th>20</th>\n",
              "      <td>21</td>\n",
              "      <td>1009.5</td>\n",
              "      <td>1012.3</td>\n",
              "      <td>--</td>\n",
              "      <td>--</td>\n",
              "      <td>--</td>\n",
              "      <td>30.1</td>\n",
              "      <td>36.0</td>\n",
              "      <td>26.0</td>\n",
              "      <td>72</td>\n",
              "      <td>32</td>\n",
              "      <td>2.8</td>\n",
              "      <td>5.2</td>\n",
              "      <td>南東</td>\n",
              "      <td>8.0</td>\n",
              "      <td>南東</td>\n",
              "      <td>10.5</td>\n",
              "      <td>--</td>\n",
              "      <td>--</td>\n",
              "      <td>晴</td>\n",
              "      <td>晴</td>\n",
              "    </tr>\n",
              "    <tr>\n",
              "      <th>21</th>\n",
              "      <td>22</td>\n",
              "      <td>1008.5</td>\n",
              "      <td>1011.2</td>\n",
              "      <td>0.0</td>\n",
              "      <td>0.0</td>\n",
              "      <td>0.0</td>\n",
              "      <td>29.3</td>\n",
              "      <td>35.2</td>\n",
              "      <td>24.0</td>\n",
              "      <td>75</td>\n",
              "      <td>36</td>\n",
              "      <td>2.7</td>\n",
              "      <td>7.1</td>\n",
              "      <td>南東</td>\n",
              "      <td>11.1</td>\n",
              "      <td>南南東</td>\n",
              "      <td>8.0</td>\n",
              "      <td>--</td>\n",
              "      <td>--</td>\n",
              "      <td>晴時々曇</td>\n",
              "      <td>曇時々雨、雷を伴う</td>\n",
              "    </tr>\n",
              "    <tr>\n",
              "      <th>22</th>\n",
              "      <td>23</td>\n",
              "      <td>1006.2</td>\n",
              "      <td>1009.0</td>\n",
              "      <td>38.0</td>\n",
              "      <td>34.5</td>\n",
              "      <td>16.5</td>\n",
              "      <td>25.6</td>\n",
              "      <td>29.4</td>\n",
              "      <td>23.2</td>\n",
              "      <td>87</td>\n",
              "      <td>72</td>\n",
              "      <td>2.0</td>\n",
              "      <td>4.8</td>\n",
              "      <td>南東</td>\n",
              "      <td>9.6</td>\n",
              "      <td>東南東</td>\n",
              "      <td>1.9</td>\n",
              "      <td>--</td>\n",
              "      <td>--</td>\n",
              "      <td>曇時々大雨、雷を伴う</td>\n",
              "      <td>晴時々曇一時雨</td>\n",
              "    </tr>\n",
              "    <tr>\n",
              "      <th>23</th>\n",
              "      <td>24</td>\n",
              "      <td>1004.9</td>\n",
              "      <td>1007.7</td>\n",
              "      <td>0.0</td>\n",
              "      <td>0.0</td>\n",
              "      <td>0.0</td>\n",
              "      <td>27.2</td>\n",
              "      <td>32.3</td>\n",
              "      <td>23.0</td>\n",
              "      <td>79</td>\n",
              "      <td>53</td>\n",
              "      <td>2.7</td>\n",
              "      <td>4.9</td>\n",
              "      <td>東北東</td>\n",
              "      <td>8.3</td>\n",
              "      <td>東北東</td>\n",
              "      <td>6.7</td>\n",
              "      <td>--</td>\n",
              "      <td>--</td>\n",
              "      <td>晴一時曇</td>\n",
              "      <td>曇一時晴</td>\n",
              "    </tr>\n",
              "    <tr>\n",
              "      <th>24</th>\n",
              "      <td>25</td>\n",
              "      <td>1007.7</td>\n",
              "      <td>1010.4</td>\n",
              "      <td>--</td>\n",
              "      <td>--</td>\n",
              "      <td>--</td>\n",
              "      <td>27.8</td>\n",
              "      <td>32.2</td>\n",
              "      <td>24.8</td>\n",
              "      <td>75</td>\n",
              "      <td>56</td>\n",
              "      <td>2.7</td>\n",
              "      <td>5.2</td>\n",
              "      <td>南南東</td>\n",
              "      <td>8.5</td>\n",
              "      <td>南南東</td>\n",
              "      <td>7.2</td>\n",
              "      <td>--</td>\n",
              "      <td>--</td>\n",
              "      <td>晴</td>\n",
              "      <td>晴</td>\n",
              "    </tr>\n",
              "    <tr>\n",
              "      <th>25</th>\n",
              "      <td>26</td>\n",
              "      <td>1009.4</td>\n",
              "      <td>1012.1</td>\n",
              "      <td>--</td>\n",
              "      <td>--</td>\n",
              "      <td>--</td>\n",
              "      <td>28.8</td>\n",
              "      <td>34.0</td>\n",
              "      <td>24.3</td>\n",
              "      <td>77</td>\n",
              "      <td>52</td>\n",
              "      <td>2.7</td>\n",
              "      <td>6.1</td>\n",
              "      <td>南東</td>\n",
              "      <td>8.6</td>\n",
              "      <td>南東</td>\n",
              "      <td>10.4</td>\n",
              "      <td>--</td>\n",
              "      <td>--</td>\n",
              "      <td>晴</td>\n",
              "      <td>晴</td>\n",
              "    </tr>\n",
              "    <tr>\n",
              "      <th>26</th>\n",
              "      <td>27</td>\n",
              "      <td>1009.7</td>\n",
              "      <td>1012.4</td>\n",
              "      <td>0.0</td>\n",
              "      <td>0.0</td>\n",
              "      <td>0.0</td>\n",
              "      <td>29.3</td>\n",
              "      <td>33.6</td>\n",
              "      <td>26.3</td>\n",
              "      <td>79</td>\n",
              "      <td>58</td>\n",
              "      <td>3.1</td>\n",
              "      <td>7.1</td>\n",
              "      <td>南南東</td>\n",
              "      <td>12.8</td>\n",
              "      <td>南</td>\n",
              "      <td>7.4</td>\n",
              "      <td>--</td>\n",
              "      <td>--</td>\n",
              "      <td>晴一時雨</td>\n",
              "      <td>晴後時々曇</td>\n",
              "    </tr>\n",
              "    <tr>\n",
              "      <th>27</th>\n",
              "      <td>28</td>\n",
              "      <td>1009.3</td>\n",
              "      <td>1012.0</td>\n",
              "      <td>--</td>\n",
              "      <td>--</td>\n",
              "      <td>--</td>\n",
              "      <td>30.2</td>\n",
              "      <td>34.5</td>\n",
              "      <td>27.0</td>\n",
              "      <td>76</td>\n",
              "      <td>58</td>\n",
              "      <td>3.3</td>\n",
              "      <td>5.5</td>\n",
              "      <td>南東</td>\n",
              "      <td>8.7</td>\n",
              "      <td>南南東</td>\n",
              "      <td>7.7</td>\n",
              "      <td>--</td>\n",
              "      <td>--</td>\n",
              "      <td>晴一時曇</td>\n",
              "      <td>晴</td>\n",
              "    </tr>\n",
              "    <tr>\n",
              "      <th>28</th>\n",
              "      <td>29</td>\n",
              "      <td>1007.9</td>\n",
              "      <td>1010.6</td>\n",
              "      <td>--</td>\n",
              "      <td>--</td>\n",
              "      <td>--</td>\n",
              "      <td>30.3</td>\n",
              "      <td>35.0</td>\n",
              "      <td>26.9</td>\n",
              "      <td>73</td>\n",
              "      <td>55</td>\n",
              "      <td>3.3</td>\n",
              "      <td>6.3</td>\n",
              "      <td>南東</td>\n",
              "      <td>9.5</td>\n",
              "      <td>南南東</td>\n",
              "      <td>11.7</td>\n",
              "      <td>--</td>\n",
              "      <td>--</td>\n",
              "      <td>晴</td>\n",
              "      <td>薄曇時々晴</td>\n",
              "    </tr>\n",
              "    <tr>\n",
              "      <th>29</th>\n",
              "      <td>30</td>\n",
              "      <td>1007.1</td>\n",
              "      <td>1009.8</td>\n",
              "      <td>--</td>\n",
              "      <td>--</td>\n",
              "      <td>--</td>\n",
              "      <td>30.0</td>\n",
              "      <td>34.9</td>\n",
              "      <td>26.6</td>\n",
              "      <td>73</td>\n",
              "      <td>47</td>\n",
              "      <td>3.3</td>\n",
              "      <td>6.3</td>\n",
              "      <td>南東</td>\n",
              "      <td>9.9</td>\n",
              "      <td>南東</td>\n",
              "      <td>9.4</td>\n",
              "      <td>--</td>\n",
              "      <td>--</td>\n",
              "      <td>晴</td>\n",
              "      <td>晴後薄曇</td>\n",
              "    </tr>\n",
              "    <tr>\n",
              "      <th>30</th>\n",
              "      <td>31</td>\n",
              "      <td>1008.3</td>\n",
              "      <td>1011.0</td>\n",
              "      <td>1.0</td>\n",
              "      <td>1.0</td>\n",
              "      <td>0.5</td>\n",
              "      <td>27.5</td>\n",
              "      <td>32.6</td>\n",
              "      <td>22.7</td>\n",
              "      <td>80</td>\n",
              "      <td>61</td>\n",
              "      <td>2.9</td>\n",
              "      <td>6.2</td>\n",
              "      <td>東北東</td>\n",
              "      <td>11.9</td>\n",
              "      <td>北東</td>\n",
              "      <td>3.4</td>\n",
              "      <td>--</td>\n",
              "      <td>--</td>\n",
              "      <td>曇時々晴</td>\n",
              "      <td>曇時々雨</td>\n",
              "    </tr>\n",
              "  </tbody>\n",
              "</table>\n",
              "</div>"
            ],
            "text/plain": [
              "     日 気圧(hPa)         降水量(mm)  ... 雪(cm)                天気概況                 \n",
              "     日      現地      海面 降水量(mm)  ... 雪(cm)                天気概況                 \n",
              "     日      平均      平均      合計  ...    降雪 最深積雪 昼(06:00-18:00) 夜(18:00-翌日06:00)\n",
              "     日      平均      平均      合計  ...    合計    値 昼(06:00-18:00) 夜(18:00-翌日06:00)\n",
              "0    1  1009.3  1012.0     0.5  ...    --   --              晴             晴一時曇\n",
              "1    2  1011.0  1013.8      --  ...    --   --           晴時々曇                晴\n",
              "2    3  1011.0  1013.8      --  ...    --   --              晴                晴\n",
              "3    4  1012.2  1014.9      --  ...    --   --              晴            晴後時々曇\n",
              "4    5  1013.4  1016.1     0.0  ...    --   --              晴            晴後一時曇\n",
              "5    6  1010.5  1013.2      --  ...    --   --          晴時々薄曇                晴\n",
              "6    7  1005.0  1007.7      --  ...    --   --             薄曇             曇一時晴\n",
              "7    8  1006.1  1008.8      --  ...    --   --            曇後晴             曇一時晴\n",
              "8    9  1006.9  1009.6      --  ...    --   --             薄曇            薄曇時々晴\n",
              "9   10  1010.3  1013.0      --  ...    --   --             薄曇            晴時々薄曇\n",
              "10  11  1009.7  1012.4      --  ...    --   --              晴               快晴\n",
              "11  12  1009.0  1011.7     0.5  ...    --   --    晴後曇一時雨、雷を伴う           曇一時雨後晴\n",
              "12  13  1006.4  1009.1    21.5  ...    --   --  晴後時々曇一時雨、雷を伴う                晴\n",
              "13  14  1005.5  1008.3     0.0  ...    --   --              晴            晴後一時曇\n",
              "14  15  1004.0  1006.7      --  ...    --   --              晴             晴後薄曇\n",
              "15  16  1006.2  1008.9     0.0  ...    --   --         晴、雷を伴う              曇後晴\n",
              "16  17  1007.2  1009.9     0.0  ...    --   --          曇後一時晴             曇一時雨\n",
              "17  18  1007.2  1009.9      --  ...    --   --           晴一時曇             曇時々晴\n",
              "18  19  1008.3  1011.0      --  ...    --   --          晴時々薄曇            晴一時薄曇\n",
              "19  20  1008.9  1011.6      --  ...    --   --              晴               快晴\n",
              "20  21  1009.5  1012.3      --  ...    --   --              晴                晴\n",
              "21  22  1008.5  1011.2     0.0  ...    --   --           晴時々曇        曇時々雨、雷を伴う\n",
              "22  23  1006.2  1009.0    38.0  ...    --   --     曇時々大雨、雷を伴う          晴時々曇一時雨\n",
              "23  24  1004.9  1007.7     0.0  ...    --   --           晴一時曇             曇一時晴\n",
              "24  25  1007.7  1010.4      --  ...    --   --              晴                晴\n",
              "25  26  1009.4  1012.1      --  ...    --   --              晴                晴\n",
              "26  27  1009.7  1012.4     0.0  ...    --   --           晴一時雨            晴後時々曇\n",
              "27  28  1009.3  1012.0      --  ...    --   --           晴一時曇                晴\n",
              "28  29  1007.9  1010.6      --  ...    --   --              晴            薄曇時々晴\n",
              "29  30  1007.1  1009.8      --  ...    --   --              晴             晴後薄曇\n",
              "30  31  1008.3  1011.0     1.0  ...    --   --           曇時々晴             曇時々雨\n",
              "\n",
              "[31 rows x 21 columns]"
            ]
          },
          "metadata": {
            "tags": []
          },
          "execution_count": 6
        }
      ]
    },
    {
      "cell_type": "markdown",
      "metadata": {
        "id": "zSHO_4ehTq5Z"
      },
      "source": [
        "少々adhocだが、7列目に欲しいデータ(最高気温)があるのでndarrayにしてしまおう"
      ]
    },
    {
      "cell_type": "code",
      "metadata": {
        "colab": {
          "base_uri": "https://localhost:8080/"
        },
        "id": "BNNGMme-T_-k",
        "outputId": "060e0f35-fc2e-4ee1-896f-4e0f18cb81e3"
      },
      "source": [
        "highT = np.array(list(df.iloc[:,7]))\n",
        "print(highT)"
      ],
      "execution_count": 15,
      "outputs": [
        {
          "output_type": "stream",
          "text": [
            "[31.8 31.5 32.3 33.1 34.2 33.1 35.4 32.3 34.7 35.2 37.3 35.8 36.1 34.2\n",
            " 36.1 35.4 36.5 34.3 34.2 34.8 36.  35.2 29.4 32.3 32.2 34.  33.6 34.5\n",
            " 35.  34.9 32.6]\n"
          ],
          "name": "stdout"
        }
      ]
    },
    {
      "cell_type": "markdown",
      "metadata": {
        "id": "VNUKOAHAUtRt"
      },
      "source": [
        "毎日観測するのが大変なので偶数の日は観測をサボることにしたとしましょう。"
      ]
    },
    {
      "cell_type": "code",
      "metadata": {
        "id": "dXtUUNvhTIhQ",
        "colab": {
          "base_uri": "https://localhost:8080/"
        },
        "outputId": "9019f338-2471-415f-95f8-4b5e8efb8af4"
      },
      "source": [
        "import copy \n",
        "obsT = copy.copy(highT)\n",
        "for i in range(1,31,2):\n",
        "    obsT[i] = None\n",
        "print(\"観測\", obsT)"
      ],
      "execution_count": 37,
      "outputs": [
        {
          "output_type": "stream",
          "text": [
            "観測 [31.8  nan 32.3  nan 34.2  nan 35.4  nan 34.7  nan 37.3  nan 36.1  nan\n",
            " 36.1  nan 36.5  nan 34.2  nan 36.   nan 29.4  nan 32.2  nan 33.6  nan\n",
            " 35.   nan 32.6]\n"
          ],
          "name": "stdout"
        }
      ]
    },
    {
      "cell_type": "markdown",
      "metadata": {
        "id": "C2FpgMtuVbgQ"
      },
      "source": [
        "偶数の日は前後の日のデータを使って補間することにすると"
      ]
    },
    {
      "cell_type": "code",
      "metadata": {
        "colab": {
          "base_uri": "https://localhost:8080/",
          "height": 227
        },
        "id": "6hLFfAFYVl6H",
        "outputId": "6880ac6d-5bd9-4553-eccf-ae11cdc58390"
      },
      "source": [
        "def lin_interp(x1,y1,x2,y2,x):\n",
        "    return ((x-x1)*y2 - (x-x2)*y1)/ (x2-x1)\n",
        "xr = np.array(range(31))\n",
        "for i in range(1,31,2):\n",
        "    x1 = xr[i-1]; y1 = highT[i-1]\n",
        "    x2 = xr[i+1]; y2 = highT[i+1]\n",
        "    obsT[i] = lin_interp(x1,y1,x2,y2,xr[i])\n",
        "\n",
        "xr = xr + 1\n",
        "fig = plt.figure(figsize=(8,3))\n",
        "plt.ylim(25,40)\n",
        "plt.xlabel(\"8月\")\n",
        "plt.ylabel(\"8月の最高気温\")\n",
        "plt.plot(xr,highT,marker=\"o\",linestyle=\"-\",alpha=0.6,label=\"真値\",zorder=1)\n",
        "plt.scatter(xr[1::2],obsT[1::2],marker=\"^\",linestyle=\"dashed\",\n",
        "            label=\"補間/内挿値\",color=\"orange\",zorder=10)\n",
        "plt.legend(loc=\"lower right\")\n",
        "plt.show()\n",
        "plt.close()"
      ],
      "execution_count": 51,
      "outputs": [
        {
          "output_type": "display_data",
          "data": {
            "image/png": "[encoded data removed]",
            "text/plain": [
              "<Figure size 576x216 with 1 Axes>"
            ]
          },
          "metadata": {
            "tags": [],
            "needs_background": "light"
          }
        }
      ]
    },
    {
      "cell_type": "markdown",
      "metadata": {
        "id": "-17KKm8taUuW"
      },
      "source": [
        "となります。それっぽいデータが得られました。"
      ]
    },
    {
      "cell_type": "markdown",
      "metadata": {
        "id": "-WthzvSjWhCf"
      },
      "source": [
        "### スプライン補間"
      ]
    },
    {
      "cell_type": "markdown",
      "metadata": {
        "id": "361FEtHRfIMY"
      },
      "source": [
        ""
      ]
    },
    {
      "cell_type": "markdown",
      "metadata": {
        "id": "ZcfH31GFfFd0"
      },
      "source": [
        "### ラグランジュ補間"
      ]
    },
    {
      "cell_type": "markdown",
      "metadata": {
        "id": "AC7ee97ifInC"
      },
      "source": [
        ""
      ]
    },
    {
      "cell_type": "markdown",
      "metadata": {
        "id": "x2jEwHlUNrtN"
      },
      "source": [
        "## 数値積分"
      ]
    },
    {
      "cell_type": "markdown",
      "metadata": {
        "id": "4dMj1-bpCxRQ"
      },
      "source": [
        "###  台形公式"
      ]
    },
    {
      "cell_type": "code",
      "metadata": {
        "id": "Cw-cXXy0C3e3"
      },
      "source": [
        ""
      ],
      "execution_count": null,
      "outputs": []
    },
    {
      "cell_type": "markdown",
      "metadata": {
        "id": "5dfXqmjkEm8i"
      },
      "source": [
        ""
      ]
    },
    {
      "cell_type": "markdown",
      "metadata": {
        "id": "iJbN-_V8C3o2"
      },
      "source": [
        "### シンプソンの公式"
      ]
    },
    {
      "cell_type": "code",
      "metadata": {
        "id": "Imf_L_t0C9XL"
      },
      "source": [
        ""
      ],
      "execution_count": null,
      "outputs": []
    },
    {
      "cell_type": "markdown",
      "metadata": {
        "id": "l0vlN29eR3s-"
      },
      "source": [
        "### $\\clubsuit$ ガウス求積 (gaussian quadrature) $^{(*1)}$"
      ]
    },
    {
      "cell_type": "markdown",
      "metadata": {
        "id": "kgMrhSDBC9cz"
      },
      "source": [
        "任意の多項式関数$f(x)$について、区間$[-1,1]^{(*2)}$に渡る定積分$I$を、  \n",
        "正の整数$n$を用いて、\n",
        "$I = \\int^1_{-1}f(x) \\simeq \\sum^n_{i=1}w_i f(x_i)$  \n",
        "の形でなるべく正確に(実用的には、正確かつ少ない項数nで)近似する事を考える。\n",
        "\n",
        "$x_i$は積分点(またはガウス点)、$w_i$は重みと呼ばれる。\n",
        "\n",
        "ガウス求積というときは通常、後述のGauss-Legendre公式を指し、  \n",
        "$n$次のルジャンドル多項式の$n$個の零点([-1,1]内にある)を積分点として選ぶ。  \n",
        "このとき、$w_i$を(以降の小節のように)適切に選ぶと、$f(x)$が$2n-1$次以下の場合、等号が厳密に成り立つ。  \n",
        "逆に、関数$f(x)$が$2n$以上の次数を持つ多項式の場合や、多項式関数でない場合、  \n",
        "上の等号は成り立たない(近似の精度が十分な場合もある)。\n",
        "\n",
        ">*1: ガウスに因んで名付けられた数値解析の手法で、  \n",
        "物理などでよく出てくるガウス積分$\\int^\\infty_{-\\infty} dx \\exp{(-x^2)} = \\sqrt{\\pi}$とは特別関係はない\n",
        "\n",
        ">*2 一般には、任意の区間$[a,b]$についての積分がしたくなるが、  \n",
        "区間$[-1,1]$に\"標準化\"するのが慣例で、多くのライブラリ等での実装もそうなっている。  \n",
        "このためにはもちろん、元の変数$x$を$t = \\frac{2(x-a)}{b-a }- 1 $と 変数変換をすればよい。  \n",
        "具体的な表式を書いておくと...\n",
        "$\\int^b_a dx f(x) = \\frac{b-a}{2}\\int^1_{-1}dt f(\\frac{b-a}{2}t +\\frac{a+b}{2})$となる。\n",
        "\n",
        "\n",
        "### Gauss-Legendre公式\n",
        "\n",
        "上記の$n$個の積分点を$n$次のLegendre多項式の零点、  \n",
        "つまり$P_n(x_i)=0$となる点$x_i$(i=1,...,n)に取る。  \n",
        "また重みを$w_i=2/[ nP_{n-1}(x_i) P'_{n}(x_i)]$と取る。\n",
        "\n",
        "> このノートブックではルジャンドル多項式の性質を全て網羅することはしない。  \n",
        "人生で一度くらいは工学や物理などで出てくる直交多項式の漸化式などを勉強しておくと良いかも...。  \n",
        "ルジャンドル多項式, エルミート多項式，ラゲール多項式， etc.  \n",
        "覚えておく必要はなく、必要になった時に「アレに載ってたな...」と思い出せれば良い。  \n",
        "参考: [物理のための応用数学 (裳華房)][詳解応用物理数学演習 (共立出版)]\n",
        "\n",
        "数値積分をしてみよう。\n",
        "\n",
        "たとえば関数$f(x)= 7 x^6 + 20x^4 + 1$を考える。  \n",
        "この関数の区間$[-1,1]$における積分の値は手計算で求めることができて  \n",
        "$\\int^1_{-1}dx (7x^6 + 20 x^4 + 1) = [ x^7 + 4x^5 + x ]^{x=1}_{x=-1}=12 $である。\n"
      ]
    },
    {
      "cell_type": "code",
      "metadata": {
        "id": "YwH6GZP6NGqB"
      },
      "source": [
        "#関数を定義\n",
        "def f(x):\n",
        "    return 7 * x**6 + 20* x**4 + 1"
      ],
      "execution_count": null,
      "outputs": []
    },
    {
      "cell_type": "markdown",
      "metadata": {
        "id": "YSsQfGyDNkIZ"
      },
      "source": [
        "ルジャンドル多項式の零点を求めるには、  \n",
        "numpyの中にある関数を使えばよい。"
      ]
    },
    {
      "cell_type": "code",
      "metadata": {
        "id": "o4aHdtoBPAIa"
      },
      "source": [
        "import numpy as np"
      ],
      "execution_count": null,
      "outputs": []
    },
    {
      "cell_type": "code",
      "metadata": {
        "colab": {
          "base_uri": "https://localhost:8080/"
        },
        "id": "zCE5K9__HqAE",
        "outputId": "fc7dc4e7-70af-4783-ca0c-0b7d23a35378"
      },
      "source": [
        "n=6\n",
        "\n",
        "# 零点と重みを計算する\n",
        "xs,ws = np.polynomial.legendre.leggauss(n)\n",
        "\n",
        "print(\"次数\",n);print(\"零点\",xs);print(\"重み\",ws)\n",
        "# s = f(xs[0])*ws[0] + f(xs[1])*ws[1] + ...\n",
        "s = np.dot(f(xs),ws) # numpyのブロードキャストで1行で書ける\n",
        "print(\"数値積分の結果\", s)"
      ],
      "execution_count": null,
      "outputs": [
        {
          "output_type": "stream",
          "text": [
            "次数 6\n",
            "零点 [-0.93246951 -0.66120939 -0.23861919  0.23861919  0.66120939  0.93246951]\n",
            "重み [0.17132449 0.36076157 0.46791393 0.46791393 0.36076157 0.17132449]\n",
            "数値積分の結果 11.999999999999979\n"
          ],
          "name": "stdout"
        }
      ]
    },
    {
      "cell_type": "code",
      "metadata": {
        "colab": {
          "base_uri": "https://localhost:8080/"
        },
        "id": "YlQeGjLAPGLG",
        "outputId": "5496e738-63be-4bf2-dbc4-0d20c98686c1"
      },
      "source": [
        "for n in range(1,6):\n",
        "    xs,ws = np.polynomial.legendre.leggauss(n)\n",
        "    print(\"n=\",n, \" 積分値 \", np.dot(f(xs),ws))"
      ],
      "execution_count": null,
      "outputs": [
        {
          "output_type": "stream",
          "text": [
            "n= 1  積分値  2.0\n",
            "n= 2  積分値  6.962962962962962\n",
            "n= 3  積分値  11.680000000000003\n",
            "n= 4  積分値  11.999999999999993\n",
            "n= 5  積分値  12.00000000000001\n"
          ],
          "name": "stdout"
        }
      ]
    },
    {
      "cell_type": "markdown",
      "metadata": {
        "id": "Cyy51Qv8PgEH"
      },
      "source": [
        "次数を下げて$n=4$程度でも、つまりたった4つの積分点で  \n",
        "積分値を高精度に近似できていることが分かる。\n"
      ]
    }
  ]
}