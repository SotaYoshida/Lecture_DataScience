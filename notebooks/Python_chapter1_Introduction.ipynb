{
  "nbformat": 4,
  "nbformat_minor": 0,
  "metadata": {
    "colab": {
      "name": "Python_chapter1_Introduction.ipynb",
      "provenance": [],
      "include_colab_link": true
    },
    "kernelspec": {
      "name": "python3",
      "display_name": "Python 3"
    }
  },
  "cells": [
    {
      "cell_type": "markdown",
      "metadata": {
        "id": "view-in-github",
        "colab_type": "text"
      },
      "source": [
        "<a href=\"https://colab.research.google.com/github/SotaYoshida/Lecture_DataScience/blob/2021/notebooks/Python_chapter1_Introduction.ipynb\" target=\"_parent\"><img src=\"https://colab.research.google.com/assets/colab-badge.svg\" alt=\"Open In Colab\"/></a>"
      ]
    },
    {
      "cell_type": "markdown",
      "metadata": {
        "id": "rk52fX27r7hj"
      },
      "source": [
        "## Pythonの基本 その1: "
      ]
    },
    {
      "cell_type": "markdown",
      "metadata": {
        "id": "SuZ0RbPur8wg"
      },
      "source": [
        "授業の冒頭で説明するように  \n",
        "「プログラミングを学ぶこと」「プログラミングでDSを学ぶこと」  \n",
        "は、複雑なデータの取り扱いを簡単にしてくれたり  \n",
        "系統的な作業を可能にしたり  \n",
        "ミス(精度)をコントロールすることが出来たりと利点が多い。\n",
        "\n",
        "しかし、その恩恵を受けるためには(少々退屈な)基本的な事項をまずはじめにおさえなくてはならない。\n",
        "\n",
        "この授業で重視するのはPythonの文法や作法、テクニックではない。   \n",
        "というのも、自分が実現したい操作・作業をきちんと言語化することさえできれば、  \n",
        "授業で扱う程度の内容であればググればだいたいのことは解決できる。  \n",
        "(さらにいうとそれを英語で検索することができればウェブ上で収集できる情報は何倍にも膨れ上がる)\n",
        "\n",
        "以降では  「なんのためにXXXなんてものを導入(あるいは定義)するのか？」  \n",
        "を意識しながら、Pythonを学習していくことにする。"
      ]
    },
    {
      "cell_type": "markdown",
      "metadata": {
        "id": "9f041YDhyHKb"
      },
      "source": [
        "\n",
        "\n",
        "\n",
        "\n",
        "\n",
        "### 変数の定義と簡単な演算\n",
        "\n",
        "プログラミング言語における[変数]とは  \n",
        "**「[値]に固有の名前（識別子）を付したもの」**  \n",
        "とここでは定義します。\n",
        "\n",
        "どのようなものが[値]として扱えるかは徐々に見ていくことにして、  \n",
        "まずは代表的な値(実数値,整数)を変数に代入してみましょう。\n",
        "\n"
      ]
    },
    {
      "cell_type": "code",
      "metadata": {
        "id": "_emEY3U-SGBk"
      },
      "source": [
        "a = 2.0 \n",
        "b = 5"
      ],
      "execution_count": null,
      "outputs": []
    },
    {
      "cell_type": "markdown",
      "metadata": {
        "id": "CUJ8eEf8x2bs"
      },
      "source": [
        "これで変数```a```と変数```b```に値が代入されました。  \n",
        "\n",
        "プログラムでは通常、等号記号(=)は代入に使用されます。   \n",
        "値の代入は、等号(＝)の左に変数(値を入れたいものの名前)、右に値を書くことで行います。\n",
        "[変数] = [値]\n",
        "\n",
        "注: pythonでは変数は値を格納する箱というよりは、値が保管される住所(id)を示すもの、というのが正確です。  \n",
        "詳しくは、次の章の[リスト操作の注意点]を参照.\n"
      ]
    },
    {
      "cell_type": "markdown",
      "metadata": {
        "id": "kSahHBeguqRX"
      },
      "source": [
        "\n",
        "### 簡単な演算\n",
        "次にこれらを使って、四則演算をしてみましょう\n",
        "\n",
        "足し算"
      ]
    },
    {
      "cell_type": "code",
      "metadata": {
        "id": "PLwBPo2OyCvc",
        "colab": {
          "base_uri": "https://localhost:8080/",
          "height": 35
        },
        "outputId": "e803fa31-9566-4d87-a253-a3a99ee33753"
      },
      "source": [
        "a+b "
      ],
      "execution_count": null,
      "outputs": [
        {
          "output_type": "execute_result",
          "data": {
            "text/plain": [
              "7.0"
            ]
          },
          "metadata": {
            "tags": []
          },
          "execution_count": 6
        }
      ]
    },
    {
      "cell_type": "markdown",
      "metadata": {
        "id": "1ntUEuJWyBoC"
      },
      "source": [
        "引き算"
      ]
    },
    {
      "cell_type": "code",
      "metadata": {
        "id": "1IpzKL9TyW2k",
        "colab": {
          "base_uri": "https://localhost:8080/",
          "height": 35
        },
        "outputId": "08807a99-86e7-40a3-f556-bd67d6cf2338"
      },
      "source": [
        "a-b"
      ],
      "execution_count": null,
      "outputs": [
        {
          "output_type": "execute_result",
          "data": {
            "text/plain": [
              "-3.0"
            ]
          },
          "metadata": {
            "tags": []
          },
          "execution_count": 7
        }
      ]
    },
    {
      "cell_type": "markdown",
      "metadata": {
        "id": "S4-CasuLyiJM"
      },
      "source": [
        "掛け算 掛け算記号は*(アスタリスク)です"
      ]
    },
    {
      "cell_type": "code",
      "metadata": {
        "id": "ZQCmuN-IyiZQ",
        "colab": {
          "base_uri": "https://localhost:8080/",
          "height": 35
        },
        "outputId": "80bc16fe-5012-4c2e-db6a-001609a5d640"
      },
      "source": [
        "a*b"
      ],
      "execution_count": null,
      "outputs": [
        {
          "output_type": "execute_result",
          "data": {
            "text/plain": [
              "10.0"
            ]
          },
          "metadata": {
            "tags": []
          },
          "execution_count": 8
        }
      ]
    },
    {
      "cell_type": "markdown",
      "metadata": {
        "id": "uYolSMVnyiiz"
      },
      "source": [
        "演算した結果を別の変数cに代入して保存しておくこともできます。"
      ]
    },
    {
      "cell_type": "code",
      "metadata": {
        "id": "8Z5Q-TN0yirc"
      },
      "source": [
        "c=a*b # このように、新たに値を代入した場合はc(=a*b)の値は表示されません。  "
      ],
      "execution_count": null,
      "outputs": []
    },
    {
      "cell_type": "markdown",
      "metadata": {
        "id": "_eyM3WdUyiyP"
      },
      "source": [
        "cの値が後で知りたいと思ったときは、以下のようにprint関数というものを使います。"
      ]
    },
    {
      "cell_type": "code",
      "metadata": {
        "id": "dS6W58sfyi8w",
        "colab": {
          "base_uri": "https://localhost:8080/",
          "height": 35
        },
        "outputId": "0b78e406-7d9d-4f8c-d584-4cd1195f3680"
      },
      "source": [
        "print(c)"
      ],
      "execution_count": null,
      "outputs": [
        {
          "output_type": "stream",
          "text": [
            "10.0\n"
          ],
          "name": "stdout"
        }
      ]
    },
    {
      "cell_type": "markdown",
      "metadata": {
        "id": "SvfvgAEu2hAq"
      },
      "source": [
        "以下ではprint関数を逐次使って、値や演算の結果を確認することにしましょう。  \n",
        "変数の値を確認することは、プログラムが正しく動いているかを確認する最も単純かつ強力な方法です。  \n",
        "「何かおかしいな？」「意図した動きと違うな」と思ったらprintしてみるのが一番です。\n",
        "\n",
        "またコード部分に#(半角シャープ記号)をつけると、コンピュータは#以降に書かれたことを無視しますので、コメントを書くことができます。 (コメントアウト)\n",
        "\n",
        "なれないうちは\n",
        "* どういった計算をするのか\n",
        "* その行をいつ編集したのか\n",
        "\n",
        "などコメントを逐一書いておくと便利かもしれません。"
      ]
    },
    {
      "cell_type": "code",
      "metadata": {
        "id": "uNWje7ZmSPQh"
      },
      "source": [
        "print(b/a)  # 割り算\n",
        "print(b//a) # 切り捨て除算 \n",
        "print(b%a) # bをaで割った余り\n",
        "print(a**b) # aのb乗"
      ],
      "execution_count": null,
      "outputs": []
    },
    {
      "cell_type": "markdown",
      "metadata": {
        "id": "9gfUQB-QA4Tt"
      },
      "source": [
        "変数は、その値を更新することもできます。"
      ]
    },
    {
      "cell_type": "markdown",
      "metadata": {
        "id": "qYviUyHp50-g"
      },
      "source": [
        "```a = a + 2```  \n",
        "は、aに2を加えたものでaを再定義することを表します。\n",
        "また、  \n",
        "```a += 2 ```  \n",
        "と書いても同じ結果が得られます。  \n",
        "(+= を用いた書き方のほうがシンプルなので、今後多用します)"
      ]
    },
    {
      "cell_type": "code",
      "metadata": {
        "id": "kShmmBdw6Bfg"
      },
      "source": [
        "a = 2.0 \n",
        "a += 4.0; print(\"二行目\", a)\n",
        "a += -3.0; print(\"三行目\", a)"
      ],
      "execution_count": null,
      "outputs": []
    },
    {
      "cell_type": "markdown",
      "metadata": {
        "id": "ksTr3vgORMth"
      },
      "source": [
        "**約束 変数名に全角文字(ひらがな・カタカナ・漢字)はできるだけ使わない!!**"
      ]
    },
    {
      "cell_type": "code",
      "metadata": {
        "id": "lHrhJ0kP3sqB"
      },
      "source": [
        "あ=1.0;print(あ) ## 非推奨"
      ],
      "execution_count": null,
      "outputs": []
    },
    {
      "cell_type": "markdown",
      "metadata": {
        "id": "e7-sDw8n3Vnh"
      },
      "source": [
        "上記のように、変数名にひらがな等を使用することは可能です。  \n",
        "Google Colaboratoryでは何も特別なことをしなくてもひらがなが使えますし,  \n",
        "最近の多くのプログラミング言語は全角文字をサポートしています。  \n",
        "ただ他人とのファイルの互換性などを考慮すると、  \n",
        "一般にはひらがなや漢字など全角文字を変数に指定することは避けたほうが無難です。  \n",
        "ユニコードでのプログラミングに馴染みがない偉い先生に全角スペースや全角文字が入ったコードを渡すと...  \n",
        "怒られが発生しない保証はありません。  \n",
        "\n",
        "以降ではこの慣例にならって、変数名に全角文字は使いません。  \n",
        "変数名は基本的に半角英数字, アンダースコア\"_\", のみで定義しましょう。  \n",
        "```+,-,%,/,=```などの記号も使うことができません。  \n",
        "たとえば\"-\"は既に引き算という演算を表すのに使用されているので、  \n",
        "```a-b``` という名前の変数を定義しようとしても、  \n",
        "機械にとっては [a-b]という変数ではなく[a マイナス b]と見えてしまいます。  \n",
        "また変数の頭に数字を使うこともできません。 例:  ```2a```\n"
      ]
    },
    {
      "cell_type": "markdown",
      "metadata": {
        "id": "Xzh2hrEGQyoh"
      },
      "source": [
        "### Pythonでの文字列操作"
      ]
    },
    {
      "cell_type": "markdown",
      "metadata": {
        "id": "k3iSDpMuQP-a"
      },
      "source": [
        "Pythonでは、数値はもちろん文字列も[値]として扱うことができます。  \n",
        "比較的簡単に文字列の操作ができることも、Pythonが愛される理由の一つでしょう。\n"
      ]
    },
    {
      "cell_type": "code",
      "metadata": {
        "id": "Uf5RoETJQf9T"
      },
      "source": [
        "text = \"私の名前はXXXです\" ## XXXのところを自分の名前にしてみましょう。\n",
        "print(text)"
      ],
      "execution_count": null,
      "outputs": []
    },
    {
      "cell_type": "markdown",
      "metadata": {
        "id": "vu7JQswcQima"
      },
      "source": [
        "文字列と文字列同士では、足し算や掛け算が適用できます。\n",
        "たとえば\n"
      ]
    },
    {
      "cell_type": "code",
      "metadata": {
        "id": "1KfLiGbXSGtu"
      },
      "source": [
        "text1 = \"ティッシュ配りの\"\n",
        "text2 = \"バイトを監視する\"\n",
        "print(text1 + text2) "
      ],
      "execution_count": null,
      "outputs": []
    },
    {
      "cell_type": "markdown",
      "metadata": {
        "id": "gapLeKPbSS9X"
      },
      "source": [
        "とすれば、text1とtext2にそれぞれ代入した２つの文字列を連結した一つの文字列として表示することができます。\n",
        "\n",
        "また、"
      ]
    },
    {
      "cell_type": "code",
      "metadata": {
        "id": "lkPrilk0Smn1"
      },
      "source": [
        "a = 2\n",
        "print(str(a)+\"人の\"+text1+ text2 * 5 +\"正社員\")"
      ],
      "execution_count": null,
      "outputs": []
    },
    {
      "cell_type": "markdown",
      "metadata": {
        "id": "SXWbu7hERxhk"
      },
      "source": [
        "とすれば、text2部分を５回繰り返して他の文字列とつなぎ合わせた長い文字列を作ることができます。  \n",
        "ここで、整数値を代入したaを文字列として他の文字列と結合するときは、  \n",
        "str()関数(string関数/ストリング関数)を使って、文字列に変換してやらなくてはいけません。  \n",
        "これに関連して後で\"型\"というものを勉強します。  \n",
        "\n",
        "また足し算と掛け算は定義できますが、文字列に対して引き算や割り算を行おうとするとエラーを吐きます。"
      ]
    },
    {
      "cell_type": "markdown",
      "metadata": {
        "id": "T7h-QznePvEt"
      },
      "source": [
        "**練習**  \n",
        "このセルの下に[+コード]を押してコード用のセルを追加して、以下の処理をやってみましょう\n",
        "\n",
        "1.    a,b,c,d,eに適当に値を代入する。\n",
        "2.    ```(a+b) **c *d -e, (a+b)**(c*d) -e ``` を計算して、演算の優先順序が意図したものと整合するか確認\n",
        "3.    上の値と、str関数(数値の文字列への変換)を使って、ド◯ゴンボールのフ◯ーザのようなセリフを表示する  \n",
        "      例： 私の戦闘力は530000です。\n",
        "\n",
        "\n",
        "\n",
        "\n"
      ]
    },
    {
      "cell_type": "code",
      "metadata": {
        "id": "aikvmdx04ZE4"
      },
      "source": [
        ""
      ],
      "execution_count": null,
      "outputs": []
    },
    {
      "cell_type": "markdown",
      "metadata": {
        "id": "yYihawgNW-J5"
      },
      "source": [
        "####ここまでで学んだことの復習\n",
        "\n",
        "*   変数に値を代入する  \n",
        "*   変数同士の四則演算を行う \n",
        "*   print関数で変数の値を表示する\n",
        "*   文字列を表示したり結合したりする\n",
        "*   str関数で数値を文字列に変換する"
      ]
    },
    {
      "cell_type": "markdown",
      "metadata": {
        "id": "cA-K0W0gdUVm"
      },
      "source": [
        "---\n",
        "\n",
        "### プログラムの実行順  \n",
        "\n",
        "基本的にプログラミングでは、上から処理が実行されます。  \n",
        "(より正確には[ブロックごとに上から]が正しいですが、  \n",
        "このあたりは追々見ていくことにしましょう)\n",
        "\n",
        "以下の2行のコードは、実行するとエラーが出ます。  \n"
      ]
    },
    {
      "cell_type": "code",
      "metadata": {
        "id": "Nxtzf6oydyPo"
      },
      "source": [
        "print(num)\n",
        "num=2"
      ],
      "execution_count": null,
      "outputs": []
    },
    {
      "cell_type": "markdown",
      "metadata": {
        "id": "pDZNSdGSXLLS"
      },
      "source": [
        "理由は、```num```という変数が定義されていない(not defined/undefined)のに、  \n",
        "その値をprintしようとしたからです。  \n",
        "\n",
        "上のnum=2の代入部分を含むコードを実行した後なら"
      ]
    },
    {
      "cell_type": "code",
      "metadata": {
        "id": "iGbewJx35Cv-"
      },
      "source": [
        "print(num)"
      ],
      "execution_count": null,
      "outputs": []
    },
    {
      "cell_type": "markdown",
      "metadata": {
        "id": "_-Tay-k25G4T"
      },
      "source": [
        "としてももうエラーは出ないはずです。"
      ]
    },
    {
      "cell_type": "markdown",
      "metadata": {
        "id": "diGHO3vHByMP"
      },
      "source": [
        "とくにGoogle Colab(Jupyter Notebook環境)では、セルをまたいでコードを実行することがあるので、\n",
        "意図した変数の値がきちんと引き継がれているか注意が必要です。c.f. 変数のスコープ(chapter3で解説します)  "
      ]
    },
    {
      "cell_type": "markdown",
      "metadata": {
        "id": "nvVmV3T2eNNg"
      },
      "source": [
        "Jupyter Notebook環境では、  \n",
        "セルのコードを逐次実行した場合、括弧[ ]内の整数でコードの実行順を確認することができます。  \n",
        "\n",
        "コードやノートが複雑になってくると、正しい順番で実行しないと、エラーが出たり、エラーは出ないけども正しい\"答え\"とは別の答えを出力する場合がありますので、注意しましょう。\n",
        "\n",
        "処理(プログラム)をあまりバラバラのセルに書かず、一つにまとめて書くのがおすすめです。\n",
        "\n"
      ]
    },
    {
      "cell_type": "markdown",
      "metadata": {
        "id": "iZWBifqG1hiM"
      },
      "source": [
        "### 変数の型  　　\n",
        "プログラムの中で扱う変数には様々な\"型\"(=type, タイプ)が存在します。  \n",
        "\n",
        "すぐに使う代表的なものとしては、  \n",
        "float    :    実数  \n",
        "int      :    整数  \n",
        "str      :    文字列 (stringの略)  \n",
        "bool :  真偽値 (下で説明します)  \n",
        "くらいでしょうか。この他にもリスト・辞書・タプルや、様々な型が存在しています。  \n",
        "\n"
      ]
    },
    {
      "cell_type": "markdown",
      "metadata": {
        "id": "CiI90I_KBFp4"
      },
      "source": [
        "たとえば上で定義したaの型は```type```という関数を使うことで調べることができます。\n",
        "\n",
        "Pythonでは、特定の型同士のみに許された特殊な演算等もありますから、  たまに変数の型が調べたくなるときがあります。  \n"
      ]
    },
    {
      "cell_type": "code",
      "metadata": {
        "id": "lk5U6eRixEmS"
      },
      "source": [
        "a=2.0\n",
        "type(a)"
      ],
      "execution_count": null,
      "outputs": []
    },
    {
      "cell_type": "markdown",
      "metadata": {
        "id": "SeEQBeHX_Ajq"
      },
      "source": [
        "a(=2.0)はfloat、つまり浮動小数点(floating point)です。 いい加減な理解としては、\"実数値\"に近い概念だと思ってください。"
      ]
    },
    {
      "cell_type": "code",
      "metadata": {
        "id": "Z1_Hd3SdxE0Y"
      },
      "source": [
        "b=2\n",
        "type(b)"
      ],
      "execution_count": null,
      "outputs": []
    },
    {
      "cell_type": "markdown",
      "metadata": {
        "id": "I44ty3r3_Odl"
      },
      "source": [
        "ｂはint型、つまり整数値です。\n",
        "\n",
        "\n",
        "\n",
        "\n"
      ]
    },
    {
      "cell_type": "markdown",
      "metadata": {
        "id": "Ju30-9Eg_mkm"
      },
      "source": [
        "##### 注)プログラムでの実数の取り扱い"
      ]
    },
    {
      "cell_type": "markdown",
      "metadata": {
        "id": "uV441Uk-5U6g"
      },
      "source": [
        "整数としての2(つまりint型の2)は理想的な整数2であるのに対して、  \n",
        "float型の2.0というのは、  \n",
        "コンピュータが扱える有限の精度のもとで十分2.0とみなせる値  \n",
        "という意味しか持ちません。\n",
        "\n",
        "a に以下の値を代入してprintしてみましょう。"
      ]
    },
    {
      "cell_type": "code",
      "metadata": {
        "id": "_bHmWs7-70G_"
      },
      "source": [
        "a = 2.00000000000000000000055511151231257827021181583404541015625\n",
        "print(a)"
      ],
      "execution_count": null,
      "outputs": []
    },
    {
      "cell_type": "markdown",
      "metadata": {
        "id": "Cil16n_8jY5E"
      },
      "source": [
        "コンピュータで実数値を表現する際、小数点以下の桁数を無限桁考慮するのは  \n",
        "機械にとっても大変ですから、ある程度の精度で打ち切ることが必要になります。\n",
        "\n",
        "Pythonでは、現在の世界標準である[IEEE 754]という規格のもとで  \n",
        "17桁程度の精度が採用されている、とザックリ理解しておけば当面は問題ないでしょう。\n",
        "\n",
        "たとえば、0.3と0.1+0.1+0.1は、コンピュータが無限の精度を持っていれば(つまり0.3や0.1のあとに無限に0が続く数を扱うことができれば)等しい数になるべきですが、有限の精度を採用している都合上\n"
      ]
    },
    {
      "cell_type": "code",
      "metadata": {
        "id": "guk4yu1W-ceA"
      },
      "source": [
        "print(0.3 - (0.1+0.1+0.1))"
      ],
      "execution_count": null,
      "outputs": []
    },
    {
      "cell_type": "markdown",
      "metadata": {
        "id": "fVklyhDm-0do"
      },
      "source": [
        "というように差をとると機械が扱える精度の限界に近い有限の値だけずれている事が分かります。\n",
        "\n",
        "授業で扱う対象の場合は、この有限精度が実用上のトラブルを起こすことは無いはずです。  \n",
        "一方で(研究等で)いわゆる数値計算を行う場合は、  \n",
        "このようなごく小さな誤差が掛け算によって増幅されて  \n",
        "無視できない影響を引き起こすことがしばしばあるので、  \n",
        "工夫や適切な処理が必要になります。  "
      ]
    },
    {
      "cell_type": "markdown",
      "metadata": {
        "id": "9pzeE-C812cT"
      },
      "source": [
        "$\\clubsuit$ さらに進んだ注\n",
        "\n",
        "コンピューターでは、0か１の二値を取るビット(bit)を最小単位として  \n",
        "数値など各種の情報を表現したり扱ったりします。  \n",
        "\n",
        "\n",
        "たとえば整数値は、ビットを用いた表現と1対1対応させることができます。  \n",
        "ビットが２つ使えるとするならば、  [00]が1, [01]が2,[10]が3,[11]が4といった具合です。  \n",
        "\n",
        "一方で実数は、いくらでも小さく分割できるため集合としては非可算無限  \n",
        "(それぞれの値に、１対１対応する\"番号\"をつけることができない)となり、  \n",
        "これをコンピューターで扱おうとすると、必ず何らかの\"近似\"が必要になります。\n",
        "\n",
        "この近似の方法として通常用いられるのが、浮動小数点という考え方です。"
      ]
    },
    {
      "cell_type": "markdown",
      "metadata": {
        "id": "0rTMkwwu542w"
      },
      "source": [
        "#### 予約語\n",
        "\n",
        "Pythonには、あらかじめ役割が与えられている言葉=予約語があり、以下は変数名として使う事はできません。\n",
        "\n",
        "> False, None, True, and, as, assert, break,  \n",
        "class, continue, def, del, elif, else, except,  \n",
        "finally, for, from, global, if, import, in, is,  \n",
        "lambda, nonlocal,not, or, pass, raise, return,  \n",
        "try, while, with, yield\n",
        "\n"
      ]
    },
    {
      "cell_type": "markdown",
      "metadata": {
        "id": "e4uODAXQ1-vk"
      },
      "source": [
        "これらの役割については登場したその都度説明します。  \n",
        "\n",
        "実際にコード用のセルにこれらの語句を入力すると、黒ではなく別の色で表示されます。  \n",
        "こういう場合は、変数に別の名前をつけるようにしましょう。"
      ]
    },
    {
      "cell_type": "markdown",
      "metadata": {
        "id": "2clzBTJo47u2"
      },
      "source": [
        "##### ブール型\n",
        "真偽値 (bool,ブール)は　True(真)であるかFalse(偽)であるかの二通りの値しか取らない型です。\n",
        "たとえば"
      ]
    },
    {
      "cell_type": "code",
      "metadata": {
        "id": "Ft3Id7uO5VtR"
      },
      "source": [
        "a=2.0; b = 5.0"
      ],
      "execution_count": null,
      "outputs": []
    },
    {
      "cell_type": "markdown",
      "metadata": {
        "id": "v3Dkiheo5ZE7"
      },
      "source": [
        "　のとき、"
      ]
    },
    {
      "cell_type": "code",
      "metadata": {
        "id": "jlQpKJu6xTv-"
      },
      "source": [
        "print(a < b)  # aがbより小さいかどうか"
      ],
      "execution_count": null,
      "outputs": []
    },
    {
      "cell_type": "code",
      "metadata": {
        "id": "e6CjUOwrxcgH"
      },
      "source": [
        "print(a == b) # aがbと等しいかどうか プログラムでの等号は=ではなく==です。\n"
      ],
      "execution_count": null,
      "outputs": []
    },
    {
      "cell_type": "markdown",
      "metadata": {
        "id": "GjZXvoth5lZv"
      },
      "source": [
        "これを考えるとなにが嬉しいかというと、ある条件をみたす(みたさない)ときだけ特定の作業をするプログラムを書くことが出来ます。"
      ]
    },
    {
      "cell_type": "code",
      "metadata": {
        "id": "wHr_li34xe8s"
      },
      "source": [
        "if a==b: \n",
        "    print(\"aとbが一緒だよ!!やったぜ！！！\")\n",
        "else:\n",
        "    print(\"aとｂが違うじゃないか！！！！\")"
      ],
      "execution_count": null,
      "outputs": []
    },
    {
      "cell_type": "markdown",
      "metadata": {
        "id": "xyNnie55N77B"
      },
      "source": [
        "具体例については後で見ることにしましょう。　"
      ]
    },
    {
      "cell_type": "markdown",
      "metadata": {
        "id": "xnXutUH9dTnj"
      },
      "source": [
        "## $\\clubsuit$もう少し詳細な文字列操作 \n",
        "\n",
        "replace関数,split関数,strip関数なども便利ですが、この章では省略します。\n",
        "以降のファイル操作の章で扱います。"
      ]
    }
  ]
}