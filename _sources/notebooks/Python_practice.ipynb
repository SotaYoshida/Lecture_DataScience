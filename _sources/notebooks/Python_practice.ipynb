{
  "cells": [
    {
      "cell_type": "markdown",
      "metadata": {
        "colab_type": "text",
        "id": "view-in-github"
      },
      "source": [
        "<a href=\"https://colab.research.google.com/github/SotaYoshida/Lecture_DataScience/blob/main/notebooks/Python_practice.ipynb\" target=\"_parent\"><img src=\"https://colab.research.google.com/assets/colab-badge.svg\" alt=\"Open In Colab\"/></a>"
      ]
    },
    {
      "cell_type": "markdown",
      "metadata": {},
      "source": [
        "# 練習帳(編集中)\n",
        "\n",
        "このノートブックでは、1-8章で抑えておくべき基本事項を確認するための練習問題を与える。\n",
        "\n",
        "CLで収集する授業のリアクションシートには、\n",
        "* 練習帳のURL\n",
        "* 授業や資料でわからなかったこと\n",
        "* なければ適当な感想(最近ハマっていることやお昼ごはんなど)\n",
        "\n",
        "を当該の週の水曜17:00までに提出すること。これをもって出席とみなす。\n",
        "\n",
        "この練習帳の目的は、皆さんが自分自身の理解・疑問点を確認するためであって\n",
        "練習帳で書いているコードなどが正しいかどうかは一切授業の評点には関係がない。\n",
        "したがって友人に見せてもらったり相談をして体裁を整える必要はまったくないので\n",
        "教員やTAへの質問を円滑にするための連絡帳のようなものだと思ってもらえれば良い。\n",
        "\n",
        "また、質問の見落としを防ぐためリアクションシート(CL)の方で\n",
        ">練習帳に詳細な質問とコードを書きました\n",
        "\n",
        "などと教えてもらえるとスムーズな対応が可能になります。\n",
        "\n",
        "\n",
        "## 練習帳のノートブックの共有の仕方\n",
        "\n",
        "以下の手順にならってください。\n",
        "1-3は1度やれば再び行う必要はありません。\n",
        "\n",
        "1. まずノートブックのコピーを作成し、ファイル名を適当に編集する: 例: 練習帳_123456X.ipynb (123456Xは学籍番号のつもり)\n",
        "2. 右上の共有ボタンを押し、「制限付き」を「リンクを知っている全員」に変更\n",
        "   (共有ボタンが見えない場合、編集権限がないつまり「ノートブックのコピーをつくる」というお約束を忘れていることを意味する)\n",
        "3. 「リンクを知っている全員」の右にある「閲覧者」を「編集者」に変更する\n",
        "4. 最後に、リンクをコピーし、どこかにメモっておこう(2回目以降はCLで一度提出した過去のURLをコピーするのが手っ取り早い)\n",
        "\n",
        "\n",
        "\n",
        "\n"
      ]
    },
    {
      "cell_type": "markdown",
      "metadata": {},
      "source": [
        "# 練習問題\n",
        "\n",
        "レイアウトは好きに改変してOK.\n",
        "コードセル・テキストセルともに自由に追加して構わない。\n"
      ]
    },
    {
      "cell_type": "markdown",
      "metadata": {},
      "source": [
        "## 第3回 (第1章)\n",
        "\n",
        "練習問題:  \n",
        "1. 身長と体重に相当する変数を適当に定義し、BMI(体重kg ÷ 身長mの二乗)を計算した上でprintせよ (自身の身長体重を用いる必要はない)\n",
        "2. 上で計算したBMIに対応する変数とstr関数を用いて文字列を連結し、\"AさんのBMIは22.0です\"などと表示させよ。\n"
      ]
    },
    {
      "cell_type": "code",
      "execution_count": null,
      "metadata": {},
      "outputs": [],
      "source": []
    },
    {
      "cell_type": "markdown",
      "metadata": {},
      "source": [
        "## 第4回 (第2章)\n",
        "\n",
        "練習問題:  \n",
        "1. 要素に身長(単位:cm)と体重(単位:kg)を持つ適当なリストを定義し、5人のデータ(リスト)を要素にもつ入れ子のリストを作成せよ。ただし3人目の身長と体重は必ず175,60とすること(それ以外は適当で構わない)。\n",
        "2. 上のリストから、5人の身長の平均と体重をそれぞれ計算するコードを作成せよ。\n",
        "3. 上のリストについて、`for`文を用いて全員のBMI(体重kg ÷ 身長mの二乗)を計算し、一人ずつBMIを表示させよ。(単位に注意)\n",
        "4. `for`文のブロック内で`if`と`break`を用いて、「BMIが20.0以下なら、値を表示したあとにループを終了する」という処理を実現せよ。"
      ]
    },
    {
      "cell_type": "code",
      "execution_count": null,
      "metadata": {},
      "outputs": [],
      "source": []
    },
    {
      "cell_type": "markdown",
      "metadata": {},
      "source": [
        "## 第5回 (第3章)"
      ]
    },
    {
      "cell_type": "markdown",
      "metadata": {},
      "source": [
        "## 第6回 (第4章)"
      ]
    },
    {
      "cell_type": "markdown",
      "metadata": {},
      "source": [
        "## 第7回 (第5章)"
      ]
    },
    {
      "cell_type": "markdown",
      "metadata": {},
      "source": [
        "## 第8回 (第6章)"
      ]
    },
    {
      "cell_type": "markdown",
      "metadata": {},
      "source": [
        "## 第9回 (第7章)"
      ]
    },
    {
      "cell_type": "markdown",
      "metadata": {},
      "source": [
        "## 第10回 (第8章)"
      ]
    },
    {
      "cell_type": "markdown",
      "metadata": {},
      "source": [
        "## 最終課題\n",
        "\n",
        "授業の第12-15回で取り組む最終課題については、自由な発想で課題を設計し、取り組んでもらって構わないが  \n",
        "一方で、第1回・第2回の小レポートの結果を勘案して「自由課題とすると課題の取り組みで困りそうだな...」という方に向けて\n",
        "予め決まった課題を3つほど用意してある。「これをやれ!!」という訳ではもちろんなく、一種の救済措置のようなものだと捉えてほしい。\n",
        "\n",
        "(以下編集中)\n",
        "\n",
        "### 固定課題1: 政府統計のデータ収集と可視化\n",
        "\n",
        "### 固定課題2: 機械学習を用いた画像認識\n",
        "\n",
        "### 固定課題3: 簡単なゲーム開発"
      ]
    }
  ],
  "metadata": {
    "colab": {
      "include_colab_link": true,
      "name": "Python_chapter1_Introduction.ipynb",
      "provenance": []
    },
    "interpreter": {
      "hash": "aee8b7b246df8f9039afb4144a1f6fd8d2ca17a180786b69acc140d282b71a49"
    },
    "kernelspec": {
      "display_name": "Python 3.9.10 64-bit",
      "language": "python",
      "name": "python3"
    },
    "language_info": {
      "name": "python",
      "version": "3.9.10"
    }
  },
  "nbformat": 4,
  "nbformat_minor": 0
}
