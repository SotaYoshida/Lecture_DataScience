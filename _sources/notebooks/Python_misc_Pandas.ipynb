{
  "cells": [
    {
      "cell_type": "markdown",
      "metadata": {
        "colab_type": "text",
        "id": "view-in-github"
      },
      "source": [
        "<a href=\"https://colab.research.google.com/github/SotaYoshida/Lecture_DataScience/blob/main/notebooks/Python_misc_Pandas.ipynb\" target=\"_parent\"><img src=\"https://colab.research.google.com/assets/colab-badge.svg\" alt=\"Open In Colab\"/></a>"
      ]
    },
    {
      "cell_type": "markdown",
      "metadata": {
        "id": "g05kSZSuyD8r"
      },
      "source": [
        "# Pandasの使い方 (基礎)"
      ]
    },
    {
      "cell_type": "markdown",
      "metadata": {
        "id": "NnDUb09nyHXf"
      },
      "source": [
        "```Pandas```は、データ分析のためのライブラリで  \n",
        "統計量を計算・表示したり、それらをグラフとして可視化出来たり  \n",
        "前処理などの地道だが重要な作業を比較的簡単に行うことができる。\n",
        "\n",
        "まずはインポートしよう。```pd```という名前で使うのが慣例。"
      ]
    },
    {
      "cell_type": "code",
      "execution_count": 1,
      "metadata": {
        "id": "G0LxApMex5f6"
      },
      "outputs": [],
      "source": [
        "import pandas as pd "
      ]
    },
    {
      "cell_type": "markdown",
      "metadata": {
        "id": "q-qC7xkDhU5A"
      },
      "source": [
        "pandasでは主に`Series`と`DataFrame`の２つのオブジェクトを扱う。  \n",
        "`Series`は`DataFrame`の特殊な場合とみなせるので、以下では`DataFrame`のみ説明することにします。"
      ]
    },
    {
      "cell_type": "markdown",
      "metadata": {
        "id": "-1ut22WgzFeQ"
      },
      "source": [
        "## DataFrame型"
      ]
    },
    {
      "cell_type": "markdown",
      "metadata": {
        "id": "A-RriyHt1r-p"
      },
      "source": [
        "`DataFrame`はExcelシートのような二次元のデータを表現するのに利用され各種データ分析などで非常に役に立つ。"
      ]
    },
    {
      "cell_type": "code",
      "execution_count": 2,
      "metadata": {
        "id": "Ubw2JSMmzCkX"
      },
      "outputs": [],
      "source": [
        "from pandas import DataFrame"
      ]
    },
    {
      "cell_type": "markdown",
      "metadata": {
        "id": "oeBpZK4l7knI"
      },
      "source": [
        "以下の辞書型をDataFrameのオブジェクトに変換してみましょう。"
      ]
    },
    {
      "cell_type": "code",
      "execution_count": 3,
      "metadata": {
        "id": "HKPVuPjz7jmb"
      },
      "outputs": [
        {
          "name": "stdout",
          "output_type": "stream",
          "text": [
            "dataの型 <class 'dict'>\n",
            "dfの型 <class 'pandas.core.frame.DataFrame'>\n"
          ]
        }
      ],
      "source": [
        "data = { '名前': [\"Aさん\", \"Bさん\", \"Cさん\", \"Dさん\", \"Eさん\"],\n",
        "        '出身都道府県':['Tokyo', 'Tochigi', 'Hokkaido','Kyoto','Tochigi'],\n",
        "        '生年': [ 1998, 1993,2000,1989,2002],\n",
        "        '身長': [172, 156, 162, 180,158]}\n",
        "df = DataFrame(data)\n",
        "print(\"dataの型\", type(data))\n",
        "print(\"dfの型\",type(df))"
      ]
    },
    {
      "cell_type": "markdown",
      "metadata": {
        "id": "5F90_vjr8ukA"
      },
      "source": [
        "jupyter環境でDataFrameをコードセルの最終行に書くと、\"いい感じ\"に表示してくれる"
      ]
    },
    {
      "cell_type": "code",
      "execution_count": 4,
      "metadata": {
        "id": "8VZZ6asj8qie"
      },
      "outputs": [
        {
          "data": {
            "text/html": [
              "<div>\n",
              "<style scoped>\n",
              "    .dataframe tbody tr th:only-of-type {\n",
              "        vertical-align: middle;\n",
              "    }\n",
              "\n",
              "    .dataframe tbody tr th {\n",
              "        vertical-align: top;\n",
              "    }\n",
              "\n",
              "    .dataframe thead th {\n",
              "        text-align: right;\n",
              "    }\n",
              "</style>\n",
              "<table border=\"1\" class=\"dataframe\">\n",
              "  <thead>\n",
              "    <tr style=\"text-align: right;\">\n",
              "      <th></th>\n",
              "      <th>名前</th>\n",
              "      <th>出身都道府県</th>\n",
              "      <th>生年</th>\n",
              "      <th>身長</th>\n",
              "    </tr>\n",
              "  </thead>\n",
              "  <tbody>\n",
              "    <tr>\n",
              "      <th>0</th>\n",
              "      <td>Aさん</td>\n",
              "      <td>Tokyo</td>\n",
              "      <td>1998</td>\n",
              "      <td>172</td>\n",
              "    </tr>\n",
              "    <tr>\n",
              "      <th>1</th>\n",
              "      <td>Bさん</td>\n",
              "      <td>Tochigi</td>\n",
              "      <td>1993</td>\n",
              "      <td>156</td>\n",
              "    </tr>\n",
              "    <tr>\n",
              "      <th>2</th>\n",
              "      <td>Cさん</td>\n",
              "      <td>Hokkaido</td>\n",
              "      <td>2000</td>\n",
              "      <td>162</td>\n",
              "    </tr>\n",
              "    <tr>\n",
              "      <th>3</th>\n",
              "      <td>Dさん</td>\n",
              "      <td>Kyoto</td>\n",
              "      <td>1989</td>\n",
              "      <td>180</td>\n",
              "    </tr>\n",
              "    <tr>\n",
              "      <th>4</th>\n",
              "      <td>Eさん</td>\n",
              "      <td>Tochigi</td>\n",
              "      <td>2002</td>\n",
              "      <td>158</td>\n",
              "    </tr>\n",
              "  </tbody>\n",
              "</table>\n",
              "</div>"
            ],
            "text/plain": [
              "    名前    出身都道府県    生年   身長\n",
              "0  Aさん     Tokyo  1998  172\n",
              "1  Bさん   Tochigi  1993  156\n",
              "2  Cさん  Hokkaido  2000  162\n",
              "3  Dさん     Kyoto  1989  180\n",
              "4  Eさん   Tochigi  2002  158"
            ]
          },
          "execution_count": 4,
          "metadata": {},
          "output_type": "execute_result"
        }
      ],
      "source": [
        "df"
      ]
    },
    {
      "cell_type": "markdown",
      "metadata": {
        "id": "BkqFef0A83To"
      },
      "source": [
        "printだとちょっと無機質な感じに。"
      ]
    },
    {
      "cell_type": "code",
      "execution_count": 5,
      "metadata": {
        "id": "xiIqLRFG82BW"
      },
      "outputs": [
        {
          "name": "stdout",
          "output_type": "stream",
          "text": [
            "    名前    出身都道府県    生年   身長\n",
            "0  Aさん     Tokyo  1998  172\n",
            "1  Bさん   Tochigi  1993  156\n",
            "2  Cさん  Hokkaido  2000  162\n",
            "3  Dさん     Kyoto  1989  180\n",
            "4  Eさん   Tochigi  2002  158\n"
          ]
        }
      ],
      "source": [
        "print(df)"
      ]
    },
    {
      "cell_type": "markdown",
      "metadata": {},
      "source": [
        "単一のコードセルの途中でDataFrameを表示したい場合などは、`display`関数を使うと良い。"
      ]
    },
    {
      "cell_type": "code",
      "execution_count": 6,
      "metadata": {},
      "outputs": [
        {
          "data": {
            "text/html": [
              "<div>\n",
              "<style scoped>\n",
              "    .dataframe tbody tr th:only-of-type {\n",
              "        vertical-align: middle;\n",
              "    }\n",
              "\n",
              "    .dataframe tbody tr th {\n",
              "        vertical-align: top;\n",
              "    }\n",
              "\n",
              "    .dataframe thead th {\n",
              "        text-align: right;\n",
              "    }\n",
              "</style>\n",
              "<table border=\"1\" class=\"dataframe\">\n",
              "  <thead>\n",
              "    <tr style=\"text-align: right;\">\n",
              "      <th></th>\n",
              "      <th>名前</th>\n",
              "      <th>出身都道府県</th>\n",
              "      <th>生年</th>\n",
              "      <th>身長</th>\n",
              "    </tr>\n",
              "  </thead>\n",
              "  <tbody>\n",
              "    <tr>\n",
              "      <th>0</th>\n",
              "      <td>Aさん</td>\n",
              "      <td>Tokyo</td>\n",
              "      <td>1998</td>\n",
              "      <td>172</td>\n",
              "    </tr>\n",
              "    <tr>\n",
              "      <th>1</th>\n",
              "      <td>Bさん</td>\n",
              "      <td>Tochigi</td>\n",
              "      <td>1993</td>\n",
              "      <td>156</td>\n",
              "    </tr>\n",
              "    <tr>\n",
              "      <th>2</th>\n",
              "      <td>Cさん</td>\n",
              "      <td>Hokkaido</td>\n",
              "      <td>2000</td>\n",
              "      <td>162</td>\n",
              "    </tr>\n",
              "    <tr>\n",
              "      <th>3</th>\n",
              "      <td>Dさん</td>\n",
              "      <td>Kyoto</td>\n",
              "      <td>1989</td>\n",
              "      <td>180</td>\n",
              "    </tr>\n",
              "    <tr>\n",
              "      <th>4</th>\n",
              "      <td>Eさん</td>\n",
              "      <td>Tochigi</td>\n",
              "      <td>2002</td>\n",
              "      <td>158</td>\n",
              "    </tr>\n",
              "  </tbody>\n",
              "</table>\n",
              "</div>"
            ],
            "text/plain": [
              "    名前    出身都道府県    生年   身長\n",
              "0  Aさん     Tokyo  1998  172\n",
              "1  Bさん   Tochigi  1993  156\n",
              "2  Cさん  Hokkaido  2000  162\n",
              "3  Dさん     Kyoto  1989  180\n",
              "4  Eさん   Tochigi  2002  158"
            ]
          },
          "metadata": {},
          "output_type": "display_data"
        }
      ],
      "source": [
        "display(df)"
      ]
    },
    {
      "cell_type": "markdown",
      "metadata": {
        "id": "vn8s-8VR7b6Q"
      },
      "source": [
        "```info()```関数を作用させると、詳細な情報が得られる。  \n",
        "列ごとにどんな種類のデータが格納されているのかや、\n",
        "メモリ使用量など表示することができる。"
      ]
    },
    {
      "cell_type": "code",
      "execution_count": 7,
      "metadata": {
        "id": "2KsTF1d17anv"
      },
      "outputs": [
        {
          "name": "stdout",
          "output_type": "stream",
          "text": [
            "<class 'pandas.core.frame.DataFrame'>\n",
            "RangeIndex: 5 entries, 0 to 4\n",
            "Data columns (total 4 columns):\n",
            " #   Column  Non-Null Count  Dtype \n",
            "---  ------  --------------  ----- \n",
            " 0   名前      5 non-null      object\n",
            " 1   出身都道府県  5 non-null      object\n",
            " 2   生年      5 non-null      int64 \n",
            " 3   身長      5 non-null      int64 \n",
            "dtypes: int64(2), object(2)\n",
            "memory usage: 292.0+ bytes\n"
          ]
        }
      ],
      "source": [
        "df.info()"
      ]
    },
    {
      "cell_type": "markdown",
      "metadata": {
        "id": "-TsUcNTsBIIi"
      },
      "source": [
        "## DataFrameの要素を確認・指定する方法"
      ]
    },
    {
      "cell_type": "markdown",
      "metadata": {
        "id": "6ChkvnngBLb_"
      },
      "source": [
        "`index`: 行方向のデータ項目(おもに整数値(行番号),ID,名前など)  \n",
        "`columns`: 列方向のデータの項目(おもにデータの種類)  \n",
        "をそれぞれ表示してみよう。"
      ]
    },
    {
      "cell_type": "code",
      "execution_count": 8,
      "metadata": {
        "id": "YkQCL0ay59o8"
      },
      "outputs": [
        {
          "data": {
            "text/plain": [
              "RangeIndex(start=0, stop=5, step=1)"
            ]
          },
          "execution_count": 8,
          "metadata": {},
          "output_type": "execute_result"
        }
      ],
      "source": [
        "df.index"
      ]
    },
    {
      "cell_type": "code",
      "execution_count": 9,
      "metadata": {
        "id": "WNqLrkQ35-4O"
      },
      "outputs": [
        {
          "data": {
            "text/plain": [
              "Index(['名前', '出身都道府県', '生年', '身長'], dtype='object')"
            ]
          },
          "execution_count": 9,
          "metadata": {},
          "output_type": "execute_result"
        }
      ],
      "source": [
        "df.columns"
      ]
    },
    {
      "cell_type": "markdown",
      "metadata": {
        "id": "-MtegVlt60qr"
      },
      "source": [
        "行方向を、整数値(行数)ではなく名前にしたければ"
      ]
    },
    {
      "cell_type": "code",
      "execution_count": 10,
      "metadata": {
        "id": "aE51PtdW6pKE"
      },
      "outputs": [
        {
          "data": {
            "text/html": [
              "<div>\n",
              "<style scoped>\n",
              "    .dataframe tbody tr th:only-of-type {\n",
              "        vertical-align: middle;\n",
              "    }\n",
              "\n",
              "    .dataframe tbody tr th {\n",
              "        vertical-align: top;\n",
              "    }\n",
              "\n",
              "    .dataframe thead th {\n",
              "        text-align: right;\n",
              "    }\n",
              "</style>\n",
              "<table border=\"1\" class=\"dataframe\">\n",
              "  <thead>\n",
              "    <tr style=\"text-align: right;\">\n",
              "      <th></th>\n",
              "      <th>出身都道府県</th>\n",
              "      <th>生年</th>\n",
              "      <th>身長</th>\n",
              "    </tr>\n",
              "  </thead>\n",
              "  <tbody>\n",
              "    <tr>\n",
              "      <th>Aさん</th>\n",
              "      <td>Tokyo</td>\n",
              "      <td>1998</td>\n",
              "      <td>172</td>\n",
              "    </tr>\n",
              "    <tr>\n",
              "      <th>Bさん</th>\n",
              "      <td>Tochigi</td>\n",
              "      <td>1993</td>\n",
              "      <td>156</td>\n",
              "    </tr>\n",
              "    <tr>\n",
              "      <th>Cさん</th>\n",
              "      <td>Hokkaido</td>\n",
              "      <td>2000</td>\n",
              "      <td>162</td>\n",
              "    </tr>\n",
              "    <tr>\n",
              "      <th>Dさん</th>\n",
              "      <td>Kyoto</td>\n",
              "      <td>1989</td>\n",
              "      <td>180</td>\n",
              "    </tr>\n",
              "    <tr>\n",
              "      <th>Eさん</th>\n",
              "      <td>Tochigi</td>\n",
              "      <td>2002</td>\n",
              "      <td>158</td>\n",
              "    </tr>\n",
              "  </tbody>\n",
              "</table>\n",
              "</div>"
            ],
            "text/plain": [
              "       出身都道府県    生年   身長\n",
              "Aさん     Tokyo  1998  172\n",
              "Bさん   Tochigi  1993  156\n",
              "Cさん  Hokkaido  2000  162\n",
              "Dさん     Kyoto  1989  180\n",
              "Eさん   Tochigi  2002  158"
            ]
          },
          "execution_count": 10,
          "metadata": {},
          "output_type": "execute_result"
        }
      ],
      "source": [
        "data1 = {'出身都道府県':['Tokyo', 'Tochigi', 'Hokkaido','Kyoto','Tochigi'],\n",
        "        '生年': [ 1998, 1993,2000,1989,2002],\n",
        "        '身長': [172, 156, 162, 180,158]}\n",
        "df = DataFrame(data1)\n",
        "df.index =[\"Aさん\", \"Bさん\", \"Cさん\", \"Dさん\", \"Eさん\"]\n",
        "df"
      ]
    },
    {
      "cell_type": "markdown",
      "metadata": {
        "id": "LaFJVeL27NqY"
      },
      "source": [
        "などとしてもよい。"
      ]
    },
    {
      "cell_type": "markdown",
      "metadata": {
        "id": "_uFFuzQM8FoQ"
      },
      "source": [
        "### 特定の列を取得したい場合"
      ]
    },
    {
      "cell_type": "code",
      "execution_count": 11,
      "metadata": {
        "id": "oQ9hZkVx8K-p"
      },
      "outputs": [
        {
          "data": {
            "text/plain": [
              "Aさん    172\n",
              "Bさん    156\n",
              "Cさん    162\n",
              "Dさん    180\n",
              "Eさん    158\n",
              "Name: 身長, dtype: int64"
            ]
          },
          "execution_count": 11,
          "metadata": {},
          "output_type": "execute_result"
        }
      ],
      "source": [
        "df[\"身長\"]"
      ]
    },
    {
      "cell_type": "markdown",
      "metadata": {
        "id": "zn3WJ4_5946D"
      },
      "source": [
        "と列名を指定すればよい。  \n",
        "以下の方法でも取得できるが、この授業では非推奨とする。\n"
      ]
    },
    {
      "cell_type": "code",
      "execution_count": 12,
      "metadata": {
        "id": "3VyUAqQs9596"
      },
      "outputs": [
        {
          "data": {
            "text/plain": [
              "Aさん    172\n",
              "Bさん    156\n",
              "Cさん    162\n",
              "Dさん    180\n",
              "Eさん    158\n",
              "Name: 身長, dtype: int64"
            ]
          },
          "execution_count": 12,
          "metadata": {},
          "output_type": "execute_result"
        }
      ],
      "source": [
        "df.身長"
      ]
    },
    {
      "cell_type": "markdown",
      "metadata": {
        "id": "uK8zkK3h8cpY"
      },
      "source": [
        "値のリスト(正確にはnumpy.ndarray型)として取得したければ"
      ]
    },
    {
      "cell_type": "code",
      "execution_count": 13,
      "metadata": {
        "id": "tozKlT028hfi"
      },
      "outputs": [
        {
          "data": {
            "text/plain": [
              "array([172, 156, 162, 180, 158])"
            ]
          },
          "execution_count": 13,
          "metadata": {},
          "output_type": "execute_result"
        }
      ],
      "source": [
        "df[\"身長\"].values"
      ]
    },
    {
      "cell_type": "code",
      "execution_count": 14,
      "metadata": {
        "id": "87TOA6-e8j8v"
      },
      "outputs": [
        {
          "data": {
            "text/plain": [
              "array(['Tokyo', 'Tochigi', 'Hokkaido', 'Kyoto', 'Tochigi'], dtype=object)"
            ]
          },
          "execution_count": 14,
          "metadata": {},
          "output_type": "execute_result"
        }
      ],
      "source": [
        "df[\"出身都道府県\"].values"
      ]
    },
    {
      "cell_type": "markdown",
      "metadata": {
        "id": "Yh97e7y58yHY"
      },
      "source": [
        "などとすればよい。\n",
        "\n",
        "慣れ親しんだ形に変換したければ、リストに変換すればよい\n"
      ]
    },
    {
      "cell_type": "code",
      "execution_count": 15,
      "metadata": {
        "id": "2Uh6YGih5FjE"
      },
      "outputs": [
        {
          "data": {
            "text/plain": [
              "['Tokyo', 'Tochigi', 'Hokkaido', 'Kyoto', 'Tochigi']"
            ]
          },
          "execution_count": 15,
          "metadata": {},
          "output_type": "execute_result"
        }
      ],
      "source": [
        "list(df[\"出身都道府県\"].values)"
      ]
    },
    {
      "cell_type": "markdown",
      "metadata": {
        "id": "WfpujEkA5BSD"
      },
      "source": [
        "ある列が特定のものに一致するもののみを抽出するのも簡単にできる"
      ]
    },
    {
      "cell_type": "code",
      "execution_count": 16,
      "metadata": {
        "id": "qlFGoUdc8zPn"
      },
      "outputs": [
        {
          "data": {
            "text/html": [
              "<div>\n",
              "<style scoped>\n",
              "    .dataframe tbody tr th:only-of-type {\n",
              "        vertical-align: middle;\n",
              "    }\n",
              "\n",
              "    .dataframe tbody tr th {\n",
              "        vertical-align: top;\n",
              "    }\n",
              "\n",
              "    .dataframe thead th {\n",
              "        text-align: right;\n",
              "    }\n",
              "</style>\n",
              "<table border=\"1\" class=\"dataframe\">\n",
              "  <thead>\n",
              "    <tr style=\"text-align: right;\">\n",
              "      <th></th>\n",
              "      <th>出身都道府県</th>\n",
              "      <th>生年</th>\n",
              "      <th>身長</th>\n",
              "    </tr>\n",
              "  </thead>\n",
              "  <tbody>\n",
              "    <tr>\n",
              "      <th>Bさん</th>\n",
              "      <td>Tochigi</td>\n",
              "      <td>1993</td>\n",
              "      <td>156</td>\n",
              "    </tr>\n",
              "    <tr>\n",
              "      <th>Eさん</th>\n",
              "      <td>Tochigi</td>\n",
              "      <td>2002</td>\n",
              "      <td>158</td>\n",
              "    </tr>\n",
              "  </tbody>\n",
              "</table>\n",
              "</div>"
            ],
            "text/plain": [
              "      出身都道府県    生年   身長\n",
              "Bさん  Tochigi  1993  156\n",
              "Eさん  Tochigi  2002  158"
            ]
          },
          "execution_count": 16,
          "metadata": {},
          "output_type": "execute_result"
        }
      ],
      "source": [
        "df[df[\"出身都道府県\"]==\"Tochigi\"]"
      ]
    },
    {
      "cell_type": "markdown",
      "metadata": {
        "id": "ItbqbBdn9HG0"
      },
      "source": [
        "これは"
      ]
    },
    {
      "cell_type": "code",
      "execution_count": 17,
      "metadata": {
        "id": "Ubs3Zbjj9KA9"
      },
      "outputs": [
        {
          "data": {
            "text/plain": [
              "Aさん    False\n",
              "Bさん     True\n",
              "Cさん    False\n",
              "Dさん    False\n",
              "Eさん     True\n",
              "Name: 出身都道府県, dtype: bool"
            ]
          },
          "execution_count": 17,
          "metadata": {},
          "output_type": "execute_result"
        }
      ],
      "source": [
        "df[\"出身都道府県\"]==\"Tochigi\""
      ]
    },
    {
      "cell_type": "markdown",
      "metadata": {
        "id": "bUB1Puao9LqO"
      },
      "source": [
        "が条件に合致するかどうかTrue/Falseの配列(正確には`Series`)になっていて、  \n",
        "df[ [True/Falseの配列] ]とすると、Trueに対応する要素のみを返すフィルターのような役割になっている。"
      ]
    },
    {
      "cell_type": "markdown",
      "metadata": {
        "id": "4xcTwpmcf3WK"
      },
      "source": [
        "### 列の追加"
      ]
    },
    {
      "cell_type": "code",
      "execution_count": 18,
      "metadata": {
        "id": "Hznr0hZMghcK"
      },
      "outputs": [
        {
          "data": {
            "text/html": [
              "<div>\n",
              "<style scoped>\n",
              "    .dataframe tbody tr th:only-of-type {\n",
              "        vertical-align: middle;\n",
              "    }\n",
              "\n",
              "    .dataframe tbody tr th {\n",
              "        vertical-align: top;\n",
              "    }\n",
              "\n",
              "    .dataframe thead th {\n",
              "        text-align: right;\n",
              "    }\n",
              "</style>\n",
              "<table border=\"1\" class=\"dataframe\">\n",
              "  <thead>\n",
              "    <tr style=\"text-align: right;\">\n",
              "      <th></th>\n",
              "      <th>出身都道府県</th>\n",
              "      <th>生年</th>\n",
              "      <th>身長</th>\n",
              "      <th>血液型</th>\n",
              "    </tr>\n",
              "  </thead>\n",
              "  <tbody>\n",
              "    <tr>\n",
              "      <th>Aさん</th>\n",
              "      <td>Tokyo</td>\n",
              "      <td>1998</td>\n",
              "      <td>172</td>\n",
              "      <td>A</td>\n",
              "    </tr>\n",
              "    <tr>\n",
              "      <th>Bさん</th>\n",
              "      <td>Tochigi</td>\n",
              "      <td>1993</td>\n",
              "      <td>156</td>\n",
              "      <td>A</td>\n",
              "    </tr>\n",
              "    <tr>\n",
              "      <th>Cさん</th>\n",
              "      <td>Hokkaido</td>\n",
              "      <td>2000</td>\n",
              "      <td>162</td>\n",
              "      <td>A</td>\n",
              "    </tr>\n",
              "    <tr>\n",
              "      <th>Dさん</th>\n",
              "      <td>Kyoto</td>\n",
              "      <td>1989</td>\n",
              "      <td>180</td>\n",
              "      <td>A</td>\n",
              "    </tr>\n",
              "    <tr>\n",
              "      <th>Eさん</th>\n",
              "      <td>Tochigi</td>\n",
              "      <td>2002</td>\n",
              "      <td>158</td>\n",
              "      <td>A</td>\n",
              "    </tr>\n",
              "  </tbody>\n",
              "</table>\n",
              "</div>"
            ],
            "text/plain": [
              "       出身都道府県    生年   身長 血液型\n",
              "Aさん     Tokyo  1998  172   A\n",
              "Bさん   Tochigi  1993  156   A\n",
              "Cさん  Hokkaido  2000  162   A\n",
              "Dさん     Kyoto  1989  180   A\n",
              "Eさん   Tochigi  2002  158   A"
            ]
          },
          "execution_count": 18,
          "metadata": {},
          "output_type": "execute_result"
        }
      ],
      "source": [
        "#スカラー値の場合\"初期化\"のような振る舞いをする\n",
        "df[\"血液型\"] = \"A\"\n",
        "df"
      ]
    },
    {
      "cell_type": "code",
      "execution_count": 19,
      "metadata": {},
      "outputs": [
        {
          "data": {
            "text/html": [
              "<div>\n",
              "<style scoped>\n",
              "    .dataframe tbody tr th:only-of-type {\n",
              "        vertical-align: middle;\n",
              "    }\n",
              "\n",
              "    .dataframe tbody tr th {\n",
              "        vertical-align: top;\n",
              "    }\n",
              "\n",
              "    .dataframe thead th {\n",
              "        text-align: right;\n",
              "    }\n",
              "</style>\n",
              "<table border=\"1\" class=\"dataframe\">\n",
              "  <thead>\n",
              "    <tr style=\"text-align: right;\">\n",
              "      <th></th>\n",
              "      <th>出身都道府県</th>\n",
              "      <th>生年</th>\n",
              "      <th>身長</th>\n",
              "      <th>血液型</th>\n",
              "    </tr>\n",
              "  </thead>\n",
              "  <tbody>\n",
              "    <tr>\n",
              "      <th>Aさん</th>\n",
              "      <td>Tokyo</td>\n",
              "      <td>1998</td>\n",
              "      <td>172</td>\n",
              "      <td>B</td>\n",
              "    </tr>\n",
              "    <tr>\n",
              "      <th>Bさん</th>\n",
              "      <td>Tochigi</td>\n",
              "      <td>1993</td>\n",
              "      <td>156</td>\n",
              "      <td>B</td>\n",
              "    </tr>\n",
              "    <tr>\n",
              "      <th>Cさん</th>\n",
              "      <td>Hokkaido</td>\n",
              "      <td>2000</td>\n",
              "      <td>162</td>\n",
              "      <td>B</td>\n",
              "    </tr>\n",
              "    <tr>\n",
              "      <th>Dさん</th>\n",
              "      <td>Kyoto</td>\n",
              "      <td>1989</td>\n",
              "      <td>180</td>\n",
              "      <td>B</td>\n",
              "    </tr>\n",
              "    <tr>\n",
              "      <th>Eさん</th>\n",
              "      <td>Tochigi</td>\n",
              "      <td>2002</td>\n",
              "      <td>158</td>\n",
              "      <td>B</td>\n",
              "    </tr>\n",
              "  </tbody>\n",
              "</table>\n",
              "</div>"
            ],
            "text/plain": [
              "       出身都道府県    生年   身長 血液型\n",
              "Aさん     Tokyo  1998  172   B\n",
              "Bさん   Tochigi  1993  156   B\n",
              "Cさん  Hokkaido  2000  162   B\n",
              "Dさん     Kyoto  1989  180   B\n",
              "Eさん   Tochigi  2002  158   B"
            ]
          },
          "execution_count": 19,
          "metadata": {},
          "output_type": "execute_result"
        }
      ],
      "source": [
        "df[\"血液型\"] = \"B\"\n",
        "df"
      ]
    },
    {
      "cell_type": "markdown",
      "metadata": {},
      "source": [
        "リストや`numpy.ndarray`を列として追加することができる。"
      ]
    },
    {
      "cell_type": "code",
      "execution_count": 20,
      "metadata": {
        "id": "1ved-4XAgMvq"
      },
      "outputs": [
        {
          "data": {
            "text/html": [
              "<div>\n",
              "<style scoped>\n",
              "    .dataframe tbody tr th:only-of-type {\n",
              "        vertical-align: middle;\n",
              "    }\n",
              "\n",
              "    .dataframe tbody tr th {\n",
              "        vertical-align: top;\n",
              "    }\n",
              "\n",
              "    .dataframe thead th {\n",
              "        text-align: right;\n",
              "    }\n",
              "</style>\n",
              "<table border=\"1\" class=\"dataframe\">\n",
              "  <thead>\n",
              "    <tr style=\"text-align: right;\">\n",
              "      <th></th>\n",
              "      <th>出身都道府県</th>\n",
              "      <th>生年</th>\n",
              "      <th>身長</th>\n",
              "      <th>血液型</th>\n",
              "    </tr>\n",
              "  </thead>\n",
              "  <tbody>\n",
              "    <tr>\n",
              "      <th>Aさん</th>\n",
              "      <td>Tokyo</td>\n",
              "      <td>1998</td>\n",
              "      <td>172</td>\n",
              "      <td>A</td>\n",
              "    </tr>\n",
              "    <tr>\n",
              "      <th>Bさん</th>\n",
              "      <td>Tochigi</td>\n",
              "      <td>1993</td>\n",
              "      <td>156</td>\n",
              "      <td>O</td>\n",
              "    </tr>\n",
              "    <tr>\n",
              "      <th>Cさん</th>\n",
              "      <td>Hokkaido</td>\n",
              "      <td>2000</td>\n",
              "      <td>162</td>\n",
              "      <td>AB</td>\n",
              "    </tr>\n",
              "    <tr>\n",
              "      <th>Dさん</th>\n",
              "      <td>Kyoto</td>\n",
              "      <td>1989</td>\n",
              "      <td>180</td>\n",
              "      <td>B</td>\n",
              "    </tr>\n",
              "    <tr>\n",
              "      <th>Eさん</th>\n",
              "      <td>Tochigi</td>\n",
              "      <td>2002</td>\n",
              "      <td>158</td>\n",
              "      <td>A</td>\n",
              "    </tr>\n",
              "  </tbody>\n",
              "</table>\n",
              "</div>"
            ],
            "text/plain": [
              "       出身都道府県    生年   身長 血液型\n",
              "Aさん     Tokyo  1998  172   A\n",
              "Bさん   Tochigi  1993  156   O\n",
              "Cさん  Hokkaido  2000  162  AB\n",
              "Dさん     Kyoto  1989  180   B\n",
              "Eさん   Tochigi  2002  158   A"
            ]
          },
          "execution_count": 20,
          "metadata": {},
          "output_type": "execute_result"
        }
      ],
      "source": [
        "#リストで追加\n",
        "df[\"血液型\"] = [ \"A\", \"O\",\"AB\",\"B\",\"A\"]\n",
        "df"
      ]
    },
    {
      "cell_type": "markdown",
      "metadata": {
        "id": "S_I81w5L-UOE"
      },
      "source": [
        "### 特定の行を取得したい場合"
      ]
    },
    {
      "cell_type": "markdown",
      "metadata": {
        "id": "he5uTk3H-kMs"
      },
      "source": [
        "たとえば、行番号がわかっているなら、```iloc```関数を使えば良い"
      ]
    },
    {
      "cell_type": "code",
      "execution_count": 21,
      "metadata": {
        "id": "kbxrpQ1E-k8F"
      },
      "outputs": [
        {
          "data": {
            "text/plain": [
              "出身都道府県    Kyoto\n",
              "生年         1989\n",
              "身長          180\n",
              "血液型           B\n",
              "Name: Dさん, dtype: object"
            ]
          },
          "execution_count": 21,
          "metadata": {},
          "output_type": "execute_result"
        }
      ],
      "source": [
        "df.iloc[3]"
      ]
    },
    {
      "cell_type": "markdown",
      "metadata": {
        "id": "2998C5BK_Wut"
      },
      "source": [
        "値のみ取得したければ先程と同様`values`で`numpy.ndarray`を取得できる"
      ]
    },
    {
      "cell_type": "code",
      "execution_count": 22,
      "metadata": {
        "id": "6HoJX4h__Uj3"
      },
      "outputs": [
        {
          "data": {
            "text/plain": [
              "array(['Kyoto', 1989, 180, 'B'], dtype=object)"
            ]
          },
          "execution_count": 22,
          "metadata": {},
          "output_type": "execute_result"
        }
      ],
      "source": [
        "df.iloc[3].values"
      ]
    },
    {
      "cell_type": "markdown",
      "metadata": {
        "id": "4gwiSube_ax9"
      },
      "source": [
        "また、以下のような使い方もできるが"
      ]
    },
    {
      "cell_type": "code",
      "execution_count": 23,
      "metadata": {
        "id": "4oabG7uA-TyS"
      },
      "outputs": [
        {
          "data": {
            "text/html": [
              "<div>\n",
              "<style scoped>\n",
              "    .dataframe tbody tr th:only-of-type {\n",
              "        vertical-align: middle;\n",
              "    }\n",
              "\n",
              "    .dataframe tbody tr th {\n",
              "        vertical-align: top;\n",
              "    }\n",
              "\n",
              "    .dataframe thead th {\n",
              "        text-align: right;\n",
              "    }\n",
              "</style>\n",
              "<table border=\"1\" class=\"dataframe\">\n",
              "  <thead>\n",
              "    <tr style=\"text-align: right;\">\n",
              "      <th></th>\n",
              "      <th>出身都道府県</th>\n",
              "      <th>生年</th>\n",
              "      <th>身長</th>\n",
              "      <th>血液型</th>\n",
              "    </tr>\n",
              "  </thead>\n",
              "  <tbody>\n",
              "    <tr>\n",
              "      <th>Bさん</th>\n",
              "      <td>Tochigi</td>\n",
              "      <td>1993</td>\n",
              "      <td>156</td>\n",
              "      <td>O</td>\n",
              "    </tr>\n",
              "    <tr>\n",
              "      <th>Cさん</th>\n",
              "      <td>Hokkaido</td>\n",
              "      <td>2000</td>\n",
              "      <td>162</td>\n",
              "      <td>AB</td>\n",
              "    </tr>\n",
              "    <tr>\n",
              "      <th>Dさん</th>\n",
              "      <td>Kyoto</td>\n",
              "      <td>1989</td>\n",
              "      <td>180</td>\n",
              "      <td>B</td>\n",
              "    </tr>\n",
              "  </tbody>\n",
              "</table>\n",
              "</div>"
            ],
            "text/plain": [
              "       出身都道府県    生年   身長 血液型\n",
              "Bさん   Tochigi  1993  156   O\n",
              "Cさん  Hokkaido  2000  162  AB\n",
              "Dさん     Kyoto  1989  180   B"
            ]
          },
          "execution_count": 23,
          "metadata": {},
          "output_type": "execute_result"
        }
      ],
      "source": [
        "df[1:4] "
      ]
    },
    {
      "cell_type": "markdown",
      "metadata": {
        "id": "hbFfX303_eVc"
      },
      "source": [
        "```df[1]```といった使い方は出来ず、KeyErrorが発生する、"
      ]
    },
    {
      "cell_type": "code",
      "execution_count": 24,
      "metadata": {},
      "outputs": [
        {
          "ename": "KeyError",
          "evalue": "1",
          "output_type": "error",
          "traceback": [
            "\u001b[0;31m---------------------------------------------------------------------------\u001b[0m",
            "\u001b[0;31mKeyError\u001b[0m                                  Traceback (most recent call last)",
            "File \u001b[0;32m~/.pyenv/versions/3.11.4/lib/python3.11/site-packages/pandas/core/indexes/base.py:3805\u001b[0m, in \u001b[0;36mIndex.get_loc\u001b[0;34m(self, key)\u001b[0m\n\u001b[1;32m   3804\u001b[0m \u001b[38;5;28;01mtry\u001b[39;00m:\n\u001b[0;32m-> 3805\u001b[0m     \u001b[38;5;28;01mreturn\u001b[39;00m \u001b[38;5;28;43mself\u001b[39;49m\u001b[38;5;241;43m.\u001b[39;49m\u001b[43m_engine\u001b[49m\u001b[38;5;241;43m.\u001b[39;49m\u001b[43mget_loc\u001b[49m\u001b[43m(\u001b[49m\u001b[43mcasted_key\u001b[49m\u001b[43m)\u001b[49m\n\u001b[1;32m   3806\u001b[0m \u001b[38;5;28;01mexcept\u001b[39;00m \u001b[38;5;167;01mKeyError\u001b[39;00m \u001b[38;5;28;01mas\u001b[39;00m err:\n",
            "File \u001b[0;32mindex.pyx:167\u001b[0m, in \u001b[0;36mpandas._libs.index.IndexEngine.get_loc\u001b[0;34m()\u001b[0m\n",
            "File \u001b[0;32mindex.pyx:196\u001b[0m, in \u001b[0;36mpandas._libs.index.IndexEngine.get_loc\u001b[0;34m()\u001b[0m\n",
            "File \u001b[0;32mpandas/_libs/hashtable_class_helper.pxi:7081\u001b[0m, in \u001b[0;36mpandas._libs.hashtable.PyObjectHashTable.get_item\u001b[0;34m()\u001b[0m\n",
            "File \u001b[0;32mpandas/_libs/hashtable_class_helper.pxi:7089\u001b[0m, in \u001b[0;36mpandas._libs.hashtable.PyObjectHashTable.get_item\u001b[0;34m()\u001b[0m\n",
            "\u001b[0;31mKeyError\u001b[0m: 1",
            "\nThe above exception was the direct cause of the following exception:\n",
            "\u001b[0;31mKeyError\u001b[0m                                  Traceback (most recent call last)",
            "Cell \u001b[0;32mIn[24], line 1\u001b[0m\n\u001b[0;32m----> 1\u001b[0m \u001b[43mdf\u001b[49m\u001b[43m[\u001b[49m\u001b[38;5;241;43m1\u001b[39;49m\u001b[43m]\u001b[49m\n",
            "File \u001b[0;32m~/.pyenv/versions/3.11.4/lib/python3.11/site-packages/pandas/core/frame.py:4102\u001b[0m, in \u001b[0;36mDataFrame.__getitem__\u001b[0;34m(self, key)\u001b[0m\n\u001b[1;32m   4100\u001b[0m \u001b[38;5;28;01mif\u001b[39;00m \u001b[38;5;28mself\u001b[39m\u001b[38;5;241m.\u001b[39mcolumns\u001b[38;5;241m.\u001b[39mnlevels \u001b[38;5;241m>\u001b[39m \u001b[38;5;241m1\u001b[39m:\n\u001b[1;32m   4101\u001b[0m     \u001b[38;5;28;01mreturn\u001b[39;00m \u001b[38;5;28mself\u001b[39m\u001b[38;5;241m.\u001b[39m_getitem_multilevel(key)\n\u001b[0;32m-> 4102\u001b[0m indexer \u001b[38;5;241m=\u001b[39m \u001b[38;5;28;43mself\u001b[39;49m\u001b[38;5;241;43m.\u001b[39;49m\u001b[43mcolumns\u001b[49m\u001b[38;5;241;43m.\u001b[39;49m\u001b[43mget_loc\u001b[49m\u001b[43m(\u001b[49m\u001b[43mkey\u001b[49m\u001b[43m)\u001b[49m\n\u001b[1;32m   4103\u001b[0m \u001b[38;5;28;01mif\u001b[39;00m is_integer(indexer):\n\u001b[1;32m   4104\u001b[0m     indexer \u001b[38;5;241m=\u001b[39m [indexer]\n",
            "File \u001b[0;32m~/.pyenv/versions/3.11.4/lib/python3.11/site-packages/pandas/core/indexes/base.py:3812\u001b[0m, in \u001b[0;36mIndex.get_loc\u001b[0;34m(self, key)\u001b[0m\n\u001b[1;32m   3807\u001b[0m     \u001b[38;5;28;01mif\u001b[39;00m \u001b[38;5;28misinstance\u001b[39m(casted_key, \u001b[38;5;28mslice\u001b[39m) \u001b[38;5;129;01mor\u001b[39;00m (\n\u001b[1;32m   3808\u001b[0m         \u001b[38;5;28misinstance\u001b[39m(casted_key, abc\u001b[38;5;241m.\u001b[39mIterable)\n\u001b[1;32m   3809\u001b[0m         \u001b[38;5;129;01mand\u001b[39;00m \u001b[38;5;28many\u001b[39m(\u001b[38;5;28misinstance\u001b[39m(x, \u001b[38;5;28mslice\u001b[39m) \u001b[38;5;28;01mfor\u001b[39;00m x \u001b[38;5;129;01min\u001b[39;00m casted_key)\n\u001b[1;32m   3810\u001b[0m     ):\n\u001b[1;32m   3811\u001b[0m         \u001b[38;5;28;01mraise\u001b[39;00m InvalidIndexError(key)\n\u001b[0;32m-> 3812\u001b[0m     \u001b[38;5;28;01mraise\u001b[39;00m \u001b[38;5;167;01mKeyError\u001b[39;00m(key) \u001b[38;5;28;01mfrom\u001b[39;00m \u001b[38;5;21;01merr\u001b[39;00m\n\u001b[1;32m   3813\u001b[0m \u001b[38;5;28;01mexcept\u001b[39;00m \u001b[38;5;167;01mTypeError\u001b[39;00m:\n\u001b[1;32m   3814\u001b[0m     \u001b[38;5;66;03m# If we have a listlike key, _check_indexing_error will raise\u001b[39;00m\n\u001b[1;32m   3815\u001b[0m     \u001b[38;5;66;03m#  InvalidIndexError. Otherwise we fall through and re-raise\u001b[39;00m\n\u001b[1;32m   3816\u001b[0m     \u001b[38;5;66;03m#  the TypeError.\u001b[39;00m\n\u001b[1;32m   3817\u001b[0m     \u001b[38;5;28mself\u001b[39m\u001b[38;5;241m.\u001b[39m_check_indexing_error(key)\n",
            "\u001b[0;31mKeyError\u001b[0m: 1"
          ]
        }
      ],
      "source": [
        "df[1]"
      ]
    },
    {
      "cell_type": "markdown",
      "metadata": {
        "id": "oH1A89pw_s6b"
      },
      "source": [
        "### より複雑な行・列の抽出"
      ]
    },
    {
      "cell_type": "markdown",
      "metadata": {
        "id": "vxd7k3f3AJjj"
      },
      "source": [
        "上にならって、2000年より前に生まれた人だけを抽出し"
      ]
    },
    {
      "cell_type": "code",
      "execution_count": 25,
      "metadata": {
        "id": "rDrnJUg9_w1Q"
      },
      "outputs": [
        {
          "data": {
            "text/html": [
              "<div>\n",
              "<style scoped>\n",
              "    .dataframe tbody tr th:only-of-type {\n",
              "        vertical-align: middle;\n",
              "    }\n",
              "\n",
              "    .dataframe tbody tr th {\n",
              "        vertical-align: top;\n",
              "    }\n",
              "\n",
              "    .dataframe thead th {\n",
              "        text-align: right;\n",
              "    }\n",
              "</style>\n",
              "<table border=\"1\" class=\"dataframe\">\n",
              "  <thead>\n",
              "    <tr style=\"text-align: right;\">\n",
              "      <th></th>\n",
              "      <th>出身都道府県</th>\n",
              "      <th>生年</th>\n",
              "      <th>身長</th>\n",
              "      <th>血液型</th>\n",
              "    </tr>\n",
              "  </thead>\n",
              "  <tbody>\n",
              "    <tr>\n",
              "      <th>Aさん</th>\n",
              "      <td>Tokyo</td>\n",
              "      <td>1998</td>\n",
              "      <td>172</td>\n",
              "      <td>A</td>\n",
              "    </tr>\n",
              "    <tr>\n",
              "      <th>Bさん</th>\n",
              "      <td>Tochigi</td>\n",
              "      <td>1993</td>\n",
              "      <td>156</td>\n",
              "      <td>O</td>\n",
              "    </tr>\n",
              "    <tr>\n",
              "      <th>Dさん</th>\n",
              "      <td>Kyoto</td>\n",
              "      <td>1989</td>\n",
              "      <td>180</td>\n",
              "      <td>B</td>\n",
              "    </tr>\n",
              "  </tbody>\n",
              "</table>\n",
              "</div>"
            ],
            "text/plain": [
              "      出身都道府県    生年   身長 血液型\n",
              "Aさん    Tokyo  1998  172   A\n",
              "Bさん  Tochigi  1993  156   O\n",
              "Dさん    Kyoto  1989  180   B"
            ]
          },
          "execution_count": 25,
          "metadata": {},
          "output_type": "execute_result"
        }
      ],
      "source": [
        "df[ df[\"生年\"] < 2000 ]"
      ]
    },
    {
      "cell_type": "markdown",
      "metadata": {
        "id": "iZrMq16v__fV"
      },
      "source": [
        "さらにこのうち身長が170cm以上の人だけがほしければ"
      ]
    },
    {
      "cell_type": "code",
      "execution_count": 26,
      "metadata": {
        "id": "d6q2DR7nAYEv"
      },
      "outputs": [
        {
          "data": {
            "text/html": [
              "<div>\n",
              "<style scoped>\n",
              "    .dataframe tbody tr th:only-of-type {\n",
              "        vertical-align: middle;\n",
              "    }\n",
              "\n",
              "    .dataframe tbody tr th {\n",
              "        vertical-align: top;\n",
              "    }\n",
              "\n",
              "    .dataframe thead th {\n",
              "        text-align: right;\n",
              "    }\n",
              "</style>\n",
              "<table border=\"1\" class=\"dataframe\">\n",
              "  <thead>\n",
              "    <tr style=\"text-align: right;\">\n",
              "      <th></th>\n",
              "      <th>出身都道府県</th>\n",
              "      <th>生年</th>\n",
              "      <th>身長</th>\n",
              "      <th>血液型</th>\n",
              "    </tr>\n",
              "  </thead>\n",
              "  <tbody>\n",
              "    <tr>\n",
              "      <th>Aさん</th>\n",
              "      <td>Tokyo</td>\n",
              "      <td>1998</td>\n",
              "      <td>172</td>\n",
              "      <td>A</td>\n",
              "    </tr>\n",
              "    <tr>\n",
              "      <th>Dさん</th>\n",
              "      <td>Kyoto</td>\n",
              "      <td>1989</td>\n",
              "      <td>180</td>\n",
              "      <td>B</td>\n",
              "    </tr>\n",
              "  </tbody>\n",
              "</table>\n",
              "</div>"
            ],
            "text/plain": [
              "    出身都道府県    生年   身長 血液型\n",
              "Aさん  Tokyo  1998  172   A\n",
              "Dさん  Kyoto  1989  180   B"
            ]
          },
          "execution_count": 26,
          "metadata": {},
          "output_type": "execute_result"
        }
      ],
      "source": [
        "df[(df[\"生年\"] < 2000) & (df[\"身長\"]>170)]"
      ]
    },
    {
      "cell_type": "markdown",
      "metadata": {
        "id": "-b36txVaA7fQ"
      },
      "source": [
        "などとすればよい。**複数条件の場合は、条件を()で囲む必要があることに注意**しよう。\n",
        "\n",
        "他にも```iloc```,```loc```などを用いれば、特定の行・列を抽出することができる\n",
        "\n",
        "* ```iloc```は番号の指定のみに対応\n",
        "* ```loc```は名前(列名・行明)のみ\n",
        "\n",
        "**欲しい要素の数値もしくは項目名のリスト**を行・列のそれぞれについて指定してやればよい。"
      ]
    },
    {
      "cell_type": "code",
      "execution_count": 27,
      "metadata": {
        "id": "xZhc6nlDBXJH"
      },
      "outputs": [
        {
          "data": {
            "text/html": [
              "<div>\n",
              "<style scoped>\n",
              "    .dataframe tbody tr th:only-of-type {\n",
              "        vertical-align: middle;\n",
              "    }\n",
              "\n",
              "    .dataframe tbody tr th {\n",
              "        vertical-align: top;\n",
              "    }\n",
              "\n",
              "    .dataframe thead th {\n",
              "        text-align: right;\n",
              "    }\n",
              "</style>\n",
              "<table border=\"1\" class=\"dataframe\">\n",
              "  <thead>\n",
              "    <tr style=\"text-align: right;\">\n",
              "      <th></th>\n",
              "      <th>出身都道府県</th>\n",
              "    </tr>\n",
              "  </thead>\n",
              "  <tbody>\n",
              "    <tr>\n",
              "      <th>Aさん</th>\n",
              "      <td>Tokyo</td>\n",
              "    </tr>\n",
              "  </tbody>\n",
              "</table>\n",
              "</div>"
            ],
            "text/plain": [
              "    出身都道府県\n",
              "Aさん  Tokyo"
            ]
          },
          "execution_count": 27,
          "metadata": {},
          "output_type": "execute_result"
        }
      ],
      "source": [
        "df.iloc[[0], [0]] #0行目,0列目"
      ]
    },
    {
      "cell_type": "code",
      "execution_count": 28,
      "metadata": {
        "id": "i-W-XTw9Bz5-"
      },
      "outputs": [
        {
          "data": {
            "text/html": [
              "<div>\n",
              "<style scoped>\n",
              "    .dataframe tbody tr th:only-of-type {\n",
              "        vertical-align: middle;\n",
              "    }\n",
              "\n",
              "    .dataframe tbody tr th {\n",
              "        vertical-align: top;\n",
              "    }\n",
              "\n",
              "    .dataframe thead th {\n",
              "        text-align: right;\n",
              "    }\n",
              "</style>\n",
              "<table border=\"1\" class=\"dataframe\">\n",
              "  <thead>\n",
              "    <tr style=\"text-align: right;\">\n",
              "      <th></th>\n",
              "      <th>出身都道府県</th>\n",
              "      <th>生年</th>\n",
              "      <th>身長</th>\n",
              "    </tr>\n",
              "  </thead>\n",
              "  <tbody>\n",
              "    <tr>\n",
              "      <th>Bさん</th>\n",
              "      <td>Tochigi</td>\n",
              "      <td>1993</td>\n",
              "      <td>156</td>\n",
              "    </tr>\n",
              "    <tr>\n",
              "      <th>Cさん</th>\n",
              "      <td>Hokkaido</td>\n",
              "      <td>2000</td>\n",
              "      <td>162</td>\n",
              "    </tr>\n",
              "    <tr>\n",
              "      <th>Dさん</th>\n",
              "      <td>Kyoto</td>\n",
              "      <td>1989</td>\n",
              "      <td>180</td>\n",
              "    </tr>\n",
              "  </tbody>\n",
              "</table>\n",
              "</div>"
            ],
            "text/plain": [
              "       出身都道府県    生年   身長\n",
              "Bさん   Tochigi  1993  156\n",
              "Cさん  Hokkaido  2000  162\n",
              "Dさん     Kyoto  1989  180"
            ]
          },
          "execution_count": 28,
          "metadata": {},
          "output_type": "execute_result"
        }
      ],
      "source": [
        "#スライスで指定することもできる\n",
        "df.iloc[1:4, :3] #1-3行目かつ0-2列目 (スライスの終点は含まれないことに注意)\n",
        "#スライスの場合は、 1:4が[1,2,3]と同じ働きをするので、括弧[]はいらない"
      ]
    },
    {
      "cell_type": "markdown",
      "metadata": {
        "id": "acMQBcZw5hmv"
      },
      "source": [
        "```loc```を使う場合は、indexの代わりに項目名で指定する。"
      ]
    },
    {
      "cell_type": "code",
      "execution_count": 29,
      "metadata": {
        "id": "JLlD6iUvCH-q"
      },
      "outputs": [
        {
          "data": {
            "text/html": [
              "<div>\n",
              "<style scoped>\n",
              "    .dataframe tbody tr th:only-of-type {\n",
              "        vertical-align: middle;\n",
              "    }\n",
              "\n",
              "    .dataframe tbody tr th {\n",
              "        vertical-align: top;\n",
              "    }\n",
              "\n",
              "    .dataframe thead th {\n",
              "        text-align: right;\n",
              "    }\n",
              "</style>\n",
              "<table border=\"1\" class=\"dataframe\">\n",
              "  <thead>\n",
              "    <tr style=\"text-align: right;\">\n",
              "      <th></th>\n",
              "      <th>出身都道府県</th>\n",
              "      <th>身長</th>\n",
              "    </tr>\n",
              "  </thead>\n",
              "  <tbody>\n",
              "    <tr>\n",
              "      <th>Aさん</th>\n",
              "      <td>Tokyo</td>\n",
              "      <td>172</td>\n",
              "    </tr>\n",
              "    <tr>\n",
              "      <th>Cさん</th>\n",
              "      <td>Hokkaido</td>\n",
              "      <td>162</td>\n",
              "    </tr>\n",
              "  </tbody>\n",
              "</table>\n",
              "</div>"
            ],
            "text/plain": [
              "       出身都道府県   身長\n",
              "Aさん     Tokyo  172\n",
              "Cさん  Hokkaido  162"
            ]
          },
          "execution_count": 29,
          "metadata": {},
          "output_type": "execute_result"
        }
      ],
      "source": [
        "df.loc[[\"Aさん\",\"Cさん\"],[\"出身都道府県\",\"身長\"]] "
      ]
    },
    {
      "cell_type": "markdown",
      "metadata": {},
      "source": [
        "スライス的に指定することもできる"
      ]
    },
    {
      "cell_type": "code",
      "execution_count": 30,
      "metadata": {
        "id": "y3rZAq4rCTSh"
      },
      "outputs": [
        {
          "data": {
            "text/html": [
              "<div>\n",
              "<style scoped>\n",
              "    .dataframe tbody tr th:only-of-type {\n",
              "        vertical-align: middle;\n",
              "    }\n",
              "\n",
              "    .dataframe tbody tr th {\n",
              "        vertical-align: top;\n",
              "    }\n",
              "\n",
              "    .dataframe thead th {\n",
              "        text-align: right;\n",
              "    }\n",
              "</style>\n",
              "<table border=\"1\" class=\"dataframe\">\n",
              "  <thead>\n",
              "    <tr style=\"text-align: right;\">\n",
              "      <th></th>\n",
              "      <th>出身都道府県</th>\n",
              "      <th>生年</th>\n",
              "    </tr>\n",
              "  </thead>\n",
              "  <tbody>\n",
              "    <tr>\n",
              "      <th>Bさん</th>\n",
              "      <td>Tochigi</td>\n",
              "      <td>1993</td>\n",
              "    </tr>\n",
              "    <tr>\n",
              "      <th>Cさん</th>\n",
              "      <td>Hokkaido</td>\n",
              "      <td>2000</td>\n",
              "    </tr>\n",
              "    <tr>\n",
              "      <th>Dさん</th>\n",
              "      <td>Kyoto</td>\n",
              "      <td>1989</td>\n",
              "    </tr>\n",
              "  </tbody>\n",
              "</table>\n",
              "</div>"
            ],
            "text/plain": [
              "       出身都道府県    生年\n",
              "Bさん   Tochigi  1993\n",
              "Cさん  Hokkaido  2000\n",
              "Dさん     Kyoto  1989"
            ]
          },
          "execution_count": 30,
          "metadata": {},
          "output_type": "execute_result"
        }
      ],
      "source": [
        "df.loc[\"Bさん\":\"Dさん\",\"出身都道府県\":\"生年\"]"
      ]
    },
    {
      "cell_type": "markdown",
      "metadata": {
        "id": "WzV2r0oPA82E"
      },
      "source": [
        "といった具合。\n",
        "\n",
        "```loc```を使う場合、1:4や[1,2,3,4]はindexのスライスではなく、  \n",
        "項目名を意味し、Eさんのデータも含まれている事がわかる。"
      ]
    },
    {
      "cell_type": "markdown",
      "metadata": {
        "id": "py5Dt6wY10pB"
      },
      "source": [
        "## Webページにある表をDataFrameとして取得する"
      ]
    },
    {
      "cell_type": "markdown",
      "metadata": {
        "id": "s7XShK0B15-t"
      },
      "source": [
        "```pandas```内の```read_html```関数を用いれば、  \n",
        "Webページの中にある表をDataFrame形式で取得することもできます。\n",
        "\n",
        "以下では例としてWikipediaの[ノーベル物理学賞](https://ja.wikipedia.org/wiki/%e3%83%8e%e3%83%bc%e3%83%99%e3%83%ab%e7%89%a9%e7%90%86%e5%ad%a6%e8%b3%9e)のページにある、受賞者一覧を取得してみましょう"
      ]
    },
    {
      "cell_type": "code",
      "execution_count": 31,
      "metadata": {
        "id": "WQG0tt0q2Hj-"
      },
      "outputs": [],
      "source": [
        "url = \"https://ja.wikipedia.org/wiki/%e3%83%8e%e3%83%bc%e3%83%99%e3%83%ab%e7%89%a9%e7%90%86%e5%ad%a6%e8%b3%9e\"\n",
        "tables = pd.read_html(url)"
      ]
    },
    {
      "cell_type": "markdown",
      "metadata": {},
      "source": []
    },
    {
      "cell_type": "code",
      "execution_count": 32,
      "metadata": {},
      "outputs": [],
      "source": [
        "#!pip install lxml\n",
        "#!pip install openpyxl"
      ]
    },
    {
      "cell_type": "markdown",
      "metadata": {},
      "source": [
        "表の数を数えてみると..."
      ]
    },
    {
      "cell_type": "code",
      "execution_count": 33,
      "metadata": {
        "id": "xLVtylYB2Uow"
      },
      "outputs": [
        {
          "name": "stdout",
          "output_type": "stream",
          "text": [
            "18\n"
          ]
        }
      ],
      "source": [
        "print(len(tables))"
      ]
    },
    {
      "cell_type": "markdown",
      "metadata": {
        "id": "yBghdSUU2XdQ"
      },
      "source": [
        "ページ内に、18個もの表があることがわかります。(ほとんどはwikipediaのテンプレート等)\n",
        "\n",
        "たとえば、2010年代の受賞者のみに興味がある場合は"
      ]
    },
    {
      "cell_type": "code",
      "execution_count": 34,
      "metadata": {
        "id": "nf2JwszO2nBM"
      },
      "outputs": [
        {
          "data": {
            "text/html": [
              "<div>\n",
              "<style scoped>\n",
              "    .dataframe tbody tr th:only-of-type {\n",
              "        vertical-align: middle;\n",
              "    }\n",
              "\n",
              "    .dataframe tbody tr th {\n",
              "        vertical-align: top;\n",
              "    }\n",
              "\n",
              "    .dataframe thead th {\n",
              "        text-align: right;\n",
              "    }\n",
              "</style>\n",
              "<table border=\"1\" class=\"dataframe\">\n",
              "  <thead>\n",
              "    <tr style=\"text-align: right;\">\n",
              "      <th></th>\n",
              "      <th>年度</th>\n",
              "      <th>受賞者名</th>\n",
              "      <th>受賞者名.1</th>\n",
              "      <th>国籍</th>\n",
              "      <th>受賞理由[4]・原著ないし関連論文</th>\n",
              "    </tr>\n",
              "  </thead>\n",
              "  <tbody>\n",
              "    <tr>\n",
              "      <th>0</th>\n",
              "      <td>2010年</td>\n",
              "      <td>NaN</td>\n",
              "      <td>アンドレ・ガイム Andre Geim</td>\n",
              "      <td>オランダ （ ロシア出身）</td>\n",
              "      <td>二次元物質グラフェンに関する革新的実験[注 71]</td>\n",
              "    </tr>\n",
              "    <tr>\n",
              "      <th>1</th>\n",
              "      <td>2010年</td>\n",
              "      <td>NaN</td>\n",
              "      <td>コンスタンチン・ノボセロフ Konstantin Novoselov</td>\n",
              "      <td>ロシア  イギリス</td>\n",
              "      <td>二次元物質グラフェンに関する革新的実験[注 71]</td>\n",
              "    </tr>\n",
              "    <tr>\n",
              "      <th>2</th>\n",
              "      <td>2011年</td>\n",
              "      <td>NaN</td>\n",
              "      <td>ソール・パールマッター Saul Perlmutter</td>\n",
              "      <td>アメリカ合衆国</td>\n",
              "      <td>遠方の超新星の観測を通した宇宙の加速膨張の発見 Astrophys. J.: 517 (19...</td>\n",
              "    </tr>\n",
              "    <tr>\n",
              "      <th>3</th>\n",
              "      <td>2011年</td>\n",
              "      <td>NaN</td>\n",
              "      <td>ブライアン・P・シュミット Brian Schmidt</td>\n",
              "      <td>オーストラリア  アメリカ合衆国</td>\n",
              "      <td>遠方の超新星の観測を通した宇宙の加速膨張の発見 Astrophys. J.: 517 (19...</td>\n",
              "    </tr>\n",
              "    <tr>\n",
              "      <th>4</th>\n",
              "      <td>2011年</td>\n",
              "      <td>NaN</td>\n",
              "      <td>アダム・リース Adam Riess</td>\n",
              "      <td>アメリカ合衆国</td>\n",
              "      <td>遠方の超新星の観測を通した宇宙の加速膨張の発見 Astrophys. J.: 517 (19...</td>\n",
              "    </tr>\n",
              "    <tr>\n",
              "      <th>5</th>\n",
              "      <td>2012年</td>\n",
              "      <td>NaN</td>\n",
              "      <td>セルジュ・アロシュ Serge Haroche</td>\n",
              "      <td>フランス （ モロッコ出身）</td>\n",
              "      <td>個別の量子系に対する計測および制御[注 72]を可能にする画期的な実験的手法に関する業績[5...</td>\n",
              "    </tr>\n",
              "    <tr>\n",
              "      <th>6</th>\n",
              "      <td>2012年</td>\n",
              "      <td>NaN</td>\n",
              "      <td>デービッド・ワインランド David J. Wineland</td>\n",
              "      <td>アメリカ合衆国</td>\n",
              "      <td>個別の量子系に対する計測および制御[注 72]を可能にする画期的な実験的手法に関する業績[5...</td>\n",
              "    </tr>\n",
              "    <tr>\n",
              "      <th>7</th>\n",
              "      <td>2013年</td>\n",
              "      <td>NaN</td>\n",
              "      <td>フランソワ・アングレール François Englert</td>\n",
              "      <td>ベルギー</td>\n",
              "      <td>欧州原子核研究機構 (CERN) によって存在が確認された素粒子（ヒッグス粒子）に基づく、質...</td>\n",
              "    </tr>\n",
              "    <tr>\n",
              "      <th>8</th>\n",
              "      <td>2013年</td>\n",
              "      <td>NaN</td>\n",
              "      <td>ピーター・ヒッグス Peter Higgs</td>\n",
              "      <td>イギリス</td>\n",
              "      <td>欧州原子核研究機構 (CERN) によって存在が確認された素粒子（ヒッグス粒子）に基づく、質...</td>\n",
              "    </tr>\n",
              "    <tr>\n",
              "      <th>9</th>\n",
              "      <td>2014年</td>\n",
              "      <td>NaN</td>\n",
              "      <td>赤﨑勇 Isamu Akasaki</td>\n",
              "      <td>日本</td>\n",
              "      <td>高輝度で省電力の白色光源を実現可能にした青色発光ダイオードの発明[10]</td>\n",
              "    </tr>\n",
              "    <tr>\n",
              "      <th>10</th>\n",
              "      <td>2014年</td>\n",
              "      <td>NaN</td>\n",
              "      <td>天野浩 Hiroshi Amano</td>\n",
              "      <td>日本</td>\n",
              "      <td>高輝度で省電力の白色光源を実現可能にした青色発光ダイオードの発明[10]</td>\n",
              "    </tr>\n",
              "    <tr>\n",
              "      <th>11</th>\n",
              "      <td>2014年</td>\n",
              "      <td>NaN</td>\n",
              "      <td>中村修二 Shuji Nakamura</td>\n",
              "      <td>アメリカ合衆国 （ 日本出身）</td>\n",
              "      <td>高輝度で省電力の白色光源を実現可能にした青色発光ダイオードの発明[10]</td>\n",
              "    </tr>\n",
              "    <tr>\n",
              "      <th>12</th>\n",
              "      <td>2015年</td>\n",
              "      <td>NaN</td>\n",
              "      <td>梶田隆章 Takaaki Kajita</td>\n",
              "      <td>日本</td>\n",
              "      <td>素粒子「ニュートリノ」が質量を持つことを示すニュートリノ振動の発見[11] Nucl. Ph...</td>\n",
              "    </tr>\n",
              "    <tr>\n",
              "      <th>13</th>\n",
              "      <td>2015年</td>\n",
              "      <td>NaN</td>\n",
              "      <td>アーサー・B・マクドナルド Arthur B. McDonald</td>\n",
              "      <td>カナダ</td>\n",
              "      <td>素粒子「ニュートリノ」が質量を持つことを示すニュートリノ振動の発見[11] Nucl. Ph...</td>\n",
              "    </tr>\n",
              "    <tr>\n",
              "      <th>14</th>\n",
              "      <td>2016年</td>\n",
              "      <td>NaN</td>\n",
              "      <td>デイヴィッド・J・サウレス David J. Thouless</td>\n",
              "      <td>イギリス  アメリカ合衆国</td>\n",
              "      <td>物質のトポロジカル相とトポロジカル相転移の理論的発見[12][13]</td>\n",
              "    </tr>\n",
              "    <tr>\n",
              "      <th>15</th>\n",
              "      <td>2016年</td>\n",
              "      <td>NaN</td>\n",
              "      <td>ダンカン・ホールデン Duncan Haldane</td>\n",
              "      <td>イギリス  スロベニア</td>\n",
              "      <td>物質のトポロジカル相とトポロジカル相転移の理論的発見[12][13]</td>\n",
              "    </tr>\n",
              "    <tr>\n",
              "      <th>16</th>\n",
              "      <td>2016年</td>\n",
              "      <td>NaN</td>\n",
              "      <td>ジョン・M・コステリッツ Michael Kosterlitz</td>\n",
              "      <td>イギリス  アメリカ合衆国</td>\n",
              "      <td>物質のトポロジカル相とトポロジカル相転移の理論的発見[12][13]</td>\n",
              "    </tr>\n",
              "    <tr>\n",
              "      <th>17</th>\n",
              "      <td>2017年</td>\n",
              "      <td>NaN</td>\n",
              "      <td>レイナー・ワイス Rainer Weiss</td>\n",
              "      <td>アメリカ合衆国 （ ドイツ出身）</td>\n",
              "      <td>LIGO検出器および重力波の観測への決定的な貢献</td>\n",
              "    </tr>\n",
              "    <tr>\n",
              "      <th>18</th>\n",
              "      <td>2017年</td>\n",
              "      <td>NaN</td>\n",
              "      <td>バリー・バリッシュ Barry Barish</td>\n",
              "      <td>アメリカ合衆国</td>\n",
              "      <td>LIGO検出器および重力波の観測への決定的な貢献</td>\n",
              "    </tr>\n",
              "    <tr>\n",
              "      <th>19</th>\n",
              "      <td>2017年</td>\n",
              "      <td>NaN</td>\n",
              "      <td>キップ・ソーン Kip Thorne</td>\n",
              "      <td>アメリカ合衆国</td>\n",
              "      <td>LIGO検出器および重力波の観測への決定的な貢献</td>\n",
              "    </tr>\n",
              "    <tr>\n",
              "      <th>20</th>\n",
              "      <td>2018年</td>\n",
              "      <td>NaN</td>\n",
              "      <td>アーサー・アシュキン Arthur Ashkin</td>\n",
              "      <td>アメリカ合衆国</td>\n",
              "      <td>光ピンセットの開発と生体システムへの応用</td>\n",
              "    </tr>\n",
              "    <tr>\n",
              "      <th>21</th>\n",
              "      <td>2018年</td>\n",
              "      <td>NaN</td>\n",
              "      <td>ジェラール・ムル Gérard Mourou</td>\n",
              "      <td>フランス</td>\n",
              "      <td>超高出力・超短パルスレーザーの生成方法の開発</td>\n",
              "    </tr>\n",
              "    <tr>\n",
              "      <th>22</th>\n",
              "      <td>2018年</td>\n",
              "      <td>NaN</td>\n",
              "      <td>ドナ・ストリックランド Donna Strickland</td>\n",
              "      <td>カナダ</td>\n",
              "      <td>超高出力・超短パルスレーザーの生成方法の開発</td>\n",
              "    </tr>\n",
              "    <tr>\n",
              "      <th>23</th>\n",
              "      <td>2019年</td>\n",
              "      <td>NaN</td>\n",
              "      <td>ジェームズ・ピーブルス Jim Peebles</td>\n",
              "      <td>アメリカ合衆国 （ カナダ出身）</td>\n",
              "      <td>物理宇宙論における理論的発見</td>\n",
              "    </tr>\n",
              "    <tr>\n",
              "      <th>24</th>\n",
              "      <td>2019年</td>\n",
              "      <td>NaN</td>\n",
              "      <td>ミシェル・マイヨール Michel Mayor</td>\n",
              "      <td>スイス</td>\n",
              "      <td>太陽型恒星を周回する太陽系外惑星の発見</td>\n",
              "    </tr>\n",
              "    <tr>\n",
              "      <th>25</th>\n",
              "      <td>2019年</td>\n",
              "      <td>NaN</td>\n",
              "      <td>ディディエ・ケロー Didier Queloz</td>\n",
              "      <td>スイス</td>\n",
              "      <td>太陽型恒星を周回する太陽系外惑星の発見</td>\n",
              "    </tr>\n",
              "  </tbody>\n",
              "</table>\n",
              "</div>"
            ],
            "text/plain": [
              "       年度  受賞者名                              受賞者名.1                国籍  \\\n",
              "0   2010年   NaN                 アンドレ・ガイム Andre Geim     オランダ （ ロシア出身）   \n",
              "1   2010年   NaN  コンスタンチン・ノボセロフ Konstantin Novoselov         ロシア  イギリス   \n",
              "2   2011年   NaN         ソール・パールマッター Saul Perlmutter           アメリカ合衆国   \n",
              "3   2011年   NaN         ブライアン・P・シュミット Brian Schmidt  オーストラリア  アメリカ合衆国   \n",
              "4   2011年   NaN                  アダム・リース Adam Riess           アメリカ合衆国   \n",
              "5   2012年   NaN             セルジュ・アロシュ Serge Haroche    フランス （ モロッコ出身）   \n",
              "6   2012年   NaN      デービッド・ワインランド David J. Wineland           アメリカ合衆国   \n",
              "7   2013年   NaN       フランソワ・アングレール François Englert              ベルギー   \n",
              "8   2013年   NaN               ピーター・ヒッグス Peter Higgs              イギリス   \n",
              "9   2014年   NaN                   赤﨑勇 Isamu Akasaki                日本   \n",
              "10  2014年   NaN                   天野浩 Hiroshi Amano                日本   \n",
              "11  2014年   NaN                 中村修二 Shuji Nakamura   アメリカ合衆国 （ 日本出身）   \n",
              "12  2015年   NaN                 梶田隆章 Takaaki Kajita                日本   \n",
              "13  2015年   NaN    アーサー・B・マクドナルド Arthur B. McDonald               カナダ   \n",
              "14  2016年   NaN     デイヴィッド・J・サウレス David J. Thouless     イギリス  アメリカ合衆国   \n",
              "15  2016年   NaN           ダンカン・ホールデン Duncan Haldane       イギリス  スロベニア   \n",
              "16  2016年   NaN     ジョン・M・コステリッツ Michael Kosterlitz     イギリス  アメリカ合衆国   \n",
              "17  2017年   NaN               レイナー・ワイス Rainer Weiss  アメリカ合衆国 （ ドイツ出身）   \n",
              "18  2017年   NaN              バリー・バリッシュ Barry Barish           アメリカ合衆国   \n",
              "19  2017年   NaN                  キップ・ソーン Kip Thorne           アメリカ合衆国   \n",
              "20  2018年   NaN            アーサー・アシュキン Arthur Ashkin           アメリカ合衆国   \n",
              "21  2018年   NaN              ジェラール・ムル Gérard Mourou              フランス   \n",
              "22  2018年   NaN        ドナ・ストリックランド Donna Strickland               カナダ   \n",
              "23  2019年   NaN             ジェームズ・ピーブルス Jim Peebles  アメリカ合衆国 （ カナダ出身）   \n",
              "24  2019年   NaN             ミシェル・マイヨール Michel Mayor               スイス   \n",
              "25  2019年   NaN             ディディエ・ケロー Didier Queloz               スイス   \n",
              "\n",
              "                                    受賞理由[4]・原著ないし関連論文  \n",
              "0                           二次元物質グラフェンに関する革新的実験[注 71]  \n",
              "1                           二次元物質グラフェンに関する革新的実験[注 71]  \n",
              "2   遠方の超新星の観測を通した宇宙の加速膨張の発見 Astrophys. J.: 517 (19...  \n",
              "3   遠方の超新星の観測を通した宇宙の加速膨張の発見 Astrophys. J.: 517 (19...  \n",
              "4   遠方の超新星の観測を通した宇宙の加速膨張の発見 Astrophys. J.: 517 (19...  \n",
              "5   個別の量子系に対する計測および制御[注 72]を可能にする画期的な実験的手法に関する業績[5...  \n",
              "6   個別の量子系に対する計測および制御[注 72]を可能にする画期的な実験的手法に関する業績[5...  \n",
              "7   欧州原子核研究機構 (CERN) によって存在が確認された素粒子（ヒッグス粒子）に基づく、質...  \n",
              "8   欧州原子核研究機構 (CERN) によって存在が確認された素粒子（ヒッグス粒子）に基づく、質...  \n",
              "9                高輝度で省電力の白色光源を実現可能にした青色発光ダイオードの発明[10]  \n",
              "10               高輝度で省電力の白色光源を実現可能にした青色発光ダイオードの発明[10]  \n",
              "11               高輝度で省電力の白色光源を実現可能にした青色発光ダイオードの発明[10]  \n",
              "12  素粒子「ニュートリノ」が質量を持つことを示すニュートリノ振動の発見[11] Nucl. Ph...  \n",
              "13  素粒子「ニュートリノ」が質量を持つことを示すニュートリノ振動の発見[11] Nucl. Ph...  \n",
              "14                 物質のトポロジカル相とトポロジカル相転移の理論的発見[12][13]  \n",
              "15                 物質のトポロジカル相とトポロジカル相転移の理論的発見[12][13]  \n",
              "16                 物質のトポロジカル相とトポロジカル相転移の理論的発見[12][13]  \n",
              "17                           LIGO検出器および重力波の観測への決定的な貢献  \n",
              "18                           LIGO検出器および重力波の観測への決定的な貢献  \n",
              "19                           LIGO検出器および重力波の観測への決定的な貢献  \n",
              "20                               光ピンセットの開発と生体システムへの応用  \n",
              "21                             超高出力・超短パルスレーザーの生成方法の開発  \n",
              "22                             超高出力・超短パルスレーザーの生成方法の開発  \n",
              "23                                     物理宇宙論における理論的発見  \n",
              "24                                太陽型恒星を周回する太陽系外惑星の発見  \n",
              "25                                太陽型恒星を周回する太陽系外惑星の発見  "
            ]
          },
          "execution_count": 34,
          "metadata": {},
          "output_type": "execute_result"
        }
      ],
      "source": [
        "df = tables[12]\n",
        "df"
      ]
    },
    {
      "cell_type": "markdown",
      "metadata": {
        "id": "O6bVMFaNKeUT"
      },
      "source": [
        "## Pandasでcsv/Excelファイルを読み込む\n",
        "\n",
        "\n",
        "### csvファイルの読み込み\n",
        "\n",
        "pandasには、csvを読み込むための関数```read_csv```も用意されていて、`read_excel`と同様に、ファイルパスを指定する他に、URLを指定して開く事ができる。\n",
        "\n",
        "[教育用標準データセット](https://www.nstac.go.jp/use/literacy/ssdse/)の一つであるSSDSE-A(市区町村別データ)を読み込んでみよう。\n",
        "\n",
        "下を実行すると...実はエラーとなる。"
      ]
    },
    {
      "cell_type": "code",
      "execution_count": null,
      "metadata": {},
      "outputs": [],
      "source": [
        "pd.read_csv(\"https://www.nstac.go.jp/sys/files/SSDSE-A-2024.csv\")"
      ]
    },
    {
      "cell_type": "markdown",
      "metadata": {},
      "source": [
        "その原因は、ファイルの文字コードがShift-JISであるためである。\n",
        "Shift-JISで作成されたファイルを読み込む場合、エンコーディングを指定する必要がある。\n",
        "\n",
        "\"shift_jis\"等としたいところだが、最近のShift-JISに対応するエンコーディングの指示は\"cp932\"である。"
      ]
    },
    {
      "cell_type": "code",
      "execution_count": null,
      "metadata": {},
      "outputs": [],
      "source": [
        "df = pd.read_csv(\"https://www.nstac.go.jp/sys/files/SSDSE-A-2024.csv\", encoding=\"cp932\")\n",
        "df"
      ]
    },
    {
      "cell_type": "markdown",
      "metadata": {
        "id": "KBgNqsmGKjvm"
      },
      "source": [
        "### Excelファイルの読み込み\n",
        "\n",
        "Pandasには`read_excel`という関数が用意されていて、  \n",
        "多数のシートを含むようなエクセルファイルを開くことも出来る。\n",
        "\n",
        "まずは必要なモジュールをインポートしよう。"
      ]
    },
    {
      "cell_type": "code",
      "execution_count": 35,
      "metadata": {
        "id": "hBKVdR2zKxe_"
      },
      "outputs": [],
      "source": [
        "import pandas as pd\n",
        "from pandas import DataFrame"
      ]
    },
    {
      "cell_type": "markdown",
      "metadata": {
        "id": "34iZ93suY1nz"
      },
      "source": [
        "今まではGoogle Driveにいれたファイルを読み出していたが、  \n",
        "Webから直接xlsxファイルを読み込んでみよう。"
      ]
    },
    {
      "cell_type": "code",
      "execution_count": 36,
      "metadata": {
        "id": "2yR7aEeImkAl"
      },
      "outputs": [],
      "source": [
        "url = \"https://www.mext.go.jp/content/20201225-mxt_kagsei-mext_01110_012.xlsx\"\n",
        "input_file = pd.ExcelFile(url)"
      ]
    },
    {
      "cell_type": "markdown",
      "metadata": {
        "id": "YEsLWG0mY8z-"
      },
      "source": [
        "ブック内のシートの一覧は以下のように取得できる。"
      ]
    },
    {
      "cell_type": "code",
      "execution_count": 37,
      "metadata": {
        "id": "VJv-enRZTxUt"
      },
      "outputs": [
        {
          "name": "stdout",
          "output_type": "stream",
          "text": [
            "pandas: シート名 ['表全体', '1穀類', '2いも及びでん粉類', '3砂糖及び甘味類', '4豆類', '5種実類', '6野菜類', '7果実類', '8きのこ類', '9藻類', '10魚介類', '11肉類', '12鶏卵', '13乳類', '14油脂類', '15菓子類', '16し好飲料', '17調味料及び香辛料', '18調理済み流通食品類']\n"
          ]
        }
      ],
      "source": [
        "sheet_names = input_file.sheet_names\n",
        "print(\"pandas: シート名\",sheet_names)"
      ]
    },
    {
      "cell_type": "markdown",
      "metadata": {
        "id": "Tn6Lq7UhT1ZX"
      },
      "source": [
        "シートを指定するのは、インデックスかシート名の文字列で行う。\n",
        "\n",
        "\"1 穀類\"を使うことにして、  \n",
        "pandasにあるread_excel関数を使ってみよう。  \n",
        "read_excel関数の最初の引数にはパスの他に、urlも取れる。"
      ]
    },
    {
      "cell_type": "code",
      "execution_count": null,
      "metadata": {
        "id": "07xxSw7nVdK2"
      },
      "outputs": [],
      "source": [
        "df = pd.read_excel(url,sheet_name=\"1穀類\")\n",
        "df"
      ]
    },
    {
      "cell_type": "markdown",
      "metadata": {
        "id": "xew_ouFxVnLl"
      },
      "source": [
        "同じものが得られている。\n"
      ]
    },
    {
      "cell_type": "markdown",
      "metadata": {},
      "source": [
        "#### Excelファイルの読み込みに関する補足\n",
        "\n",
        "`pandas`内部では`ExcelFile`というクラスがExcelファイルを扱うために用意されている。\n",
        "\n",
        "Excelファイルが単一のシートしかない場合や、上でやったように`ExcelFile`化してシート名を既に知っている場合は、`read_excel`関数で直接読み込むことができ、DataFrameとして取得できる。\n",
        "\n",
        "\n",
        "ファイルによっては、読み込む際にエラーが出ることがある。\n",
        "\n",
        "その場合、`openpyxl`というライブラリをインストールすることで解決することがある。\n",
        "以下のようにしてインストールし、`read_excel`のオプションとして`engine=\"openpyxl\"`を指定するとよい。\n",
        "\n",
        "```python\n",
        "!pip install openpyxl\n",
        "df = pd.read_excel('filepath.xlsx',engine=\"openpyxl\")\n",
        "```\n",
        "\n",
        "Pythonには伝統的にExcelファイルを扱うためのライブラリが複数存在しており、pandasの内部でも用いられている。\n",
        "中でも、ファイルを読み込む際に良く用いられてきたのが`xlrd`である。\n",
        "pandasのバージョン1.1まではExcelファイルを扱う際、内部的に`xlrd`を使用していたが、v1.2からは`.xlsx`形式は`openpyxl`、`.xls`は`xlrd`を使用するようになった。\n",
        "https://pandas.pydata.org/pandas-docs/stable/whatsnew/v1.2.0.html\n",
        "\n",
        "\n",
        "したがって、使用している環境で`openpyxl`や`xlrd`などがなければインストールしたり、ファイルを読み込む際に明示的にengineを指定してやる必要がある。"
      ]
    },
    {
      "cell_type": "markdown",
      "metadata": {
        "id": "pPBxyiV2oVKV"
      },
      "source": [
        "### データの整形\n",
        "\n",
        "次に、今取得したデータフレームのままでは少々扱い辛いので\"整形\"を考える。  \n",
        "というのも前から4行ほど表示してみると..."
      ]
    },
    {
      "cell_type": "code",
      "execution_count": null,
      "metadata": {
        "id": "NKcdOLCMV3qM"
      },
      "outputs": [],
      "source": [
        "df[0:4] "
      ]
    },
    {
      "cell_type": "markdown",
      "metadata": {
        "id": "CULET-99WJ3D"
      },
      "source": [
        "最初の4行ほどに栄養素等の情報が入っているのだが、  \n",
        "セルが結合されたりしているため、所々にNaNが入っていたりして見辛い。\n",
        "\n",
        "(碁盤目の構造を破壊してしまうため「セルの結合」は機械的な処理と  \n",
        "やや相性が悪く、プログラミングを用いたデータ分析では嫌われる)\n",
        "\n",
        "各省庁の公開データのフォーマットの統一化は今後に期待することにして...  \n",
        "まず以下の項目に該当する列だけを抽出する事を考える。\n",
        "\n"
      ]
    },
    {
      "cell_type": "code",
      "execution_count": null,
      "metadata": {
        "id": "Jhdp9z7cZm97"
      },
      "outputs": [],
      "source": [
        "targets = [\"食品名\", \"エネルギー\",\"たんぱく質\", \"脂質\", \"炭水化物\"]"
      ]
    },
    {
      "cell_type": "markdown",
      "metadata": {
        "id": "zGrqpS-6jhaK"
      },
      "source": [
        "該当するデータがどの行・列に格納されているかをコードで指定するのは、  \n",
        "前述のファイル構造の事情からやや面倒くさい。  \n",
        "\n",
        "以下では、その場しのぎ的ではあるが、  \n",
        "興味のある量が何番目かを指定してまとめてみることにしよう。\n",
        "\n",
        "そのために、1-2行目の要素を表示してみよう。"
      ]
    },
    {
      "cell_type": "code",
      "execution_count": null,
      "metadata": {
        "id": "yZ-IVG2Ma30o"
      },
      "outputs": [],
      "source": [
        "#1-2行目(エクセルだと2行目)の要素から\n",
        "    #半角空白, 全角空白(\\u3000)や改行コード\\nを取り除いたリストを作って表示してみる\n",
        "\n",
        "for idx in range(1,3):\n",
        "    tmp = df.iloc[idx].values\n",
        "    tlist = list(map( lambda s: str(s).replace(\"\\u3000\",\"\").replace(\"\\n\",\"\").replace(\" \",\"\"),tmp))\n",
        "    print(tlist)"
      ]
    },
    {
      "cell_type": "markdown",
      "metadata": {
        "id": "KEaiS1EAiWDY"
      },
      "source": [
        "セルの結合により、興味のあるデータがどの列に記述されているかは注意が必要。  \n",
        "\n",
        "実際、[エネルギー]という文字列は1行目の6列目(それぞれインデックスでいうと0,5)で取得できるが、  \n",
        "kJ単位になっていて、kcal単位でほしければ、7列目に格納された値が必要になる。  \n",
        "\n",
        "また、エクセルファイルを見るとわかるように、たんぱく質・脂質・炭水化物はさらに細分化されており、  \n",
        "O列R列など、細かい列の分割が挿入されている. ~~これは大変困る~~\n",
        "\n",
        "単純にたんぱく質・脂質・炭水化物と表記されている列のインデックスはそれぞれ9,12,20となる。  \n",
        "食品名が格納されている列(3)、エネルギー[kJ単位] (6)と合わせて確認してみよう。"
      ]
    },
    {
      "cell_type": "code",
      "execution_count": null,
      "metadata": {
        "id": "U-Hzne6VgWf3"
      },
      "outputs": [],
      "source": [
        "targets = [3,6,9,12,20]\n",
        "df.iloc[:,targets]"
      ]
    },
    {
      "cell_type": "markdown",
      "metadata": {
        "id": "LNk4oIypmpTe"
      },
      "source": [
        "もう少し整形したいので、新しいデータフレームの列を書き換える。\n",
        "\n",
        "食品名等が記載されているのは10行目以降なので、それを使いcolumnsを指定する。\n",
        "\n",
        "さらに、食品名に含まれる余分な文字コードも削除しておこう。"
      ]
    },
    {
      "cell_type": "code",
      "execution_count": null,
      "metadata": {
        "id": "ZWkaRBZynATr"
      },
      "outputs": [],
      "source": [
        "ndf = df.iloc[:,targets] \n",
        "ndf = ndf.iloc[10:,:]\n",
        "ndf.columns=[\"食品名\",\"エネルギー(kcal)\",\"たんぱく質(g)\",\"脂質(g)\",\"炭水化物(g)\"]\n",
        "ndf[\"食品名\"] = ndf[\"食品名\"].str.replace(\"\\u3000\",\" \") # 食品名の中にある余分な全角空白(\\u3000)を半角スペースに置き換える\n",
        "ndf"
      ]
    },
    {
      "cell_type": "markdown",
      "metadata": {
        "id": "B5FN5MFcmECG"
      },
      "source": [
        "次に、食品名の一覧を取得した後、興味のあるもの(日常的に馴染みのあるもの)だけを  \n",
        "ピックアップしてみよう。"
      ]
    },
    {
      "cell_type": "code",
      "execution_count": null,
      "metadata": {
        "id": "_SI2LaqPmOK3"
      },
      "outputs": [],
      "source": [
        "print(list(ndf[\"食品名\"]))"
      ]
    },
    {
      "cell_type": "markdown",
      "metadata": {
        "id": "bT1akYL_pBXs"
      },
      "source": [
        "この中から...\n",
        "* こむぎ［パン類］食パンリッチタイプ\n",
        "* こむぎ［パン類］フランスパン\n",
        "* こめ［水稲軟めし］精白米\n",
        "* そばそばゆで\n",
        "* こむぎ［うどん・そうめん類］うどんゆで\n",
        "\n",
        "のみに興味があれば"
      ]
    },
    {
      "cell_type": "code",
      "execution_count": null,
      "metadata": {
        "id": "F2ouiW-jqpjm"
      },
      "outputs": [],
      "source": [
        "tshokuhin = [\"こむぎ ［パン類］ 食パン リッチタイプ\",\"こむぎ ［パン類］ フランスパン\",\"こめ ［水稲軟めし］ 精白米\", \"そば そば ゆで\", \"こむぎ ［うどん・そうめん類］ うどん ゆで\"]\n",
        "ndf[ ndf[\"食品名\"].isin(tshokuhin)]"
      ]
    },
    {
      "cell_type": "markdown",
      "metadata": {
        "id": "Jt2aLH3jrWSY"
      },
      "source": [
        "などとする。"
      ]
    },
    {
      "cell_type": "markdown",
      "metadata": {
        "id": "So7B0ZauwuyT"
      },
      "source": [
        "'6野菜類'でも同様に..."
      ]
    },
    {
      "cell_type": "code",
      "execution_count": null,
      "metadata": {
        "id": "aYwheZeiw0Oe"
      },
      "outputs": [],
      "source": [
        "df6 = pd.read_excel(url,sheet_name=\"6野菜類\")\n",
        "df6.iloc[:,[3,6,9,12,20]]\n",
        "ndf6 = df6.iloc[:,[3,6,9,12,20]] \n",
        "ndf6 = ndf6.iloc[10:,:]\n",
        "ndf6.columns=[\"食品名\",\"エネルギー(kcal)\",\"たんぱく質(g)\",\"脂質(g)\",\"炭水化物(g)\"]\n",
        "ndf6[\"食品名\"] = ndf6[\"食品名\"].str.replace(\"\\u3000\",\" \") \n",
        "ndf6"
      ]
    },
    {
      "cell_type": "markdown",
      "metadata": {
        "id": "di6-R2kIx88j"
      },
      "source": [
        "特定のキーワードを含むものを全て取得して、  \n",
        "食品名を細かく指定したり、対応する行番号のインデックスを取得できたりする"
      ]
    },
    {
      "cell_type": "code",
      "execution_count": null,
      "metadata": {
        "id": "XDN2orG9xP_j"
      },
      "outputs": [],
      "source": [
        "kyabetu = ndf6[ndf6[\"食品名\"].str.contains('キャベツ')]\n",
        "kyabetu"
      ]
    },
    {
      "cell_type": "code",
      "execution_count": null,
      "metadata": {
        "id": "QboGKX8bx0yB"
      },
      "outputs": [],
      "source": [
        "tomato = ndf6[ndf6[\"食品名\"].str.contains('トマト')]\n",
        "tomato"
      ]
    },
    {
      "cell_type": "markdown",
      "metadata": {
        "id": "ojENrlEZGepm"
      },
      "source": [
        "DataFrame同士を結合してまとめるなどして扱いやすいデータに整形していく.\n",
        "\n",
        "縦方向の結合はpandasのconcat(concatenateの略)を使う。"
      ]
    },
    {
      "cell_type": "code",
      "execution_count": null,
      "metadata": {
        "id": "SKoSAqvNGkrt"
      },
      "outputs": [],
      "source": [
        "tdf = pd.concat([kyabetu, tomato])\n",
        "tdf"
      ]
    },
    {
      "cell_type": "markdown",
      "metadata": {
        "id": "U6LFpNLN2sZh"
      },
      "source": [
        "## DataFrameのcsv/Excelファイルへの書き出し"
      ]
    },
    {
      "cell_type": "markdown",
      "metadata": {
        "id": "tbZn9qyB2xTS"
      },
      "source": [
        "DataFrameオブジェクトは、```pandas```内の関数・メソッドを用いれば、簡単にcsvやExcelファイルとして書き出すことができる。\n",
        "\n",
        "先程の、2010年代のノーベル物理学賞受賞者のデータを、Google Driveにファイルとして書き出してみよう。"
      ]
    },
    {
      "cell_type": "code",
      "execution_count": null,
      "metadata": {
        "id": "CKxWkUsW3Hi2"
      },
      "outputs": [],
      "source": [
        "from google.colab import drive\n",
        "drive.mount('/content/drive')"
      ]
    },
    {
      "cell_type": "markdown",
      "metadata": {
        "id": "gsr83KhA3Hww"
      },
      "source": [
        "**csvとして書き出す場合**\n",
        "\n",
        "適当にパスを指定して、DataFrameオブジェクトに```to_csv```関数を作用させる。  "
      ]
    },
    {
      "cell_type": "code",
      "execution_count": null,
      "metadata": {
        "id": "jLS-3W8F27Xe"
      },
      "outputs": [],
      "source": [
        "df.to_csv(\"/content/drive/MyDrive/pd_write_test.csv\")"
      ]
    },
    {
      "cell_type": "markdown",
      "metadata": {
        "id": "k6XnW1V93mik"
      },
      "source": [
        "**Excelファイルとして書き出す場合**\n",
        "\n",
        "この場合も同様で、```to_excel```関数を用いればよい。"
      ]
    },
    {
      "cell_type": "code",
      "execution_count": null,
      "metadata": {
        "id": "A4A69Qb83vkk"
      },
      "outputs": [],
      "source": [
        "df.to_excel(\"/content/drive/MyDrive/pd_write_test.xlsx\")"
      ]
    },
    {
      "cell_type": "markdown",
      "metadata": {
        "id": "jrfPQzrq4GJK"
      },
      "source": [
        "上記の関数内で書き出しに使う文字コードを指定することもできる。    \n",
        "例: ```encoding=\"utf-8_sig\"```, ```encoding=\"shift_jis\"```"
      ]
    }
  ],
  "metadata": {
    "colab": {
      "collapsed_sections": [],
      "include_colab_link": true,
      "name": "Python_misc_Pandas.ipynb",
      "provenance": []
    },
    "kernelspec": {
      "display_name": "Python 3",
      "name": "python3"
    },
    "language_info": {
      "codemirror_mode": {
        "name": "ipython",
        "version": 3
      },
      "file_extension": ".py",
      "mimetype": "text/x-python",
      "name": "python",
      "nbconvert_exporter": "python",
      "pygments_lexer": "ipython3",
      "version": "3.11.4"
    }
  },
  "nbformat": 4,
  "nbformat_minor": 0
}
