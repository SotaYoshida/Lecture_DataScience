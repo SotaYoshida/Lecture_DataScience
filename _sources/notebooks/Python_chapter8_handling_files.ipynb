{
  "cells": [
    {
      "cell_type": "markdown",
      "metadata": {
        "colab_type": "text",
        "id": "view-in-github"
      },
      "source": [
        "<a href=\"https://colab.research.google.com/github/SotaYoshida/Lecture_DataScience/blob/main/notebooks/Python_chapter8_handling_files.ipynb\" target=\"_parent\"><img src=\"https://colab.research.google.com/assets/colab-badge.svg\" alt=\"Open In Colab\"/></a>"
      ]
    },
    {
      "cell_type": "markdown",
      "metadata": {
        "id": "JXf9XKfop6wz"
      },
      "source": [
        "# ファイル・文字列操作\n",
        "\n",
        "[この章の目的]\n",
        "テキストファイルやcsv・xlsx形式のデータをプログラムで扱えるようになる。"
      ]
    },
    {
      "cell_type": "markdown",
      "metadata": {
        "id": "LfaRUw0tp8wv"
      },
      "source": [
        "この章では、テキストファイルやcsvファイル(excelファイルはおまけ$\\clubsuit$)をPythonで操作する簡単な方法を学習する。  \n",
        "\n",
        "これまでの章では、データはリストとして既に与えられた状態から解析を行ったが、実際にデータを扱う際は  \n",
        "既に誰かが作成した何らかのファイルをプログラムで読み込んで操作する場合も多い。  \n",
        "この章の内容は、データ解析というよりは、Pythonでデータ解析をするための下準備に相当する。  \n",
        "\n",
        "愚直にコードを書いている事もあり少々泥臭い部分が多いが、この章のような操作のエッセンスを抑えておけば  \n",
        "普通にやると膨大な時間がかかる様々な処理を高速化・自動化することができるので、頑張って学習しよう。\n",
        "\n",
        "これまでの章で学んだfor文や自作関数、if文などを駆使する格好の練習問題でもある。\n"
      ]
    },
    {
      "cell_type": "markdown",
      "metadata": {
        "id": "Y0pkvGuu6B4t"
      },
      "source": [
        "## 授業で使うファイルの準備\n",
        "\n",
        "予め共有しておいた以下のファイルを用いる。\n",
        "\n",
        "* [test.txt](https://raw.githubusercontent.com/SotaYoshida/Lecture_DataScience/main/Chapter8_data/test.txt) (テキストファイル)\n",
        "\n",
        "* [python_handling_test.csv](https://raw.githubusercontent.com/SotaYoshida/Lecture_DataScience/main/Chapter8_data/python_handling_test.csv) (csv, カンマ区切りのテキストファイル)\n",
        "\n",
        "* [kakei.xlsx](https://github.com/SotaYoshida/Lecture_DataScience/raw/main/Chapter8_data/kakei.xlsx) (エクセルファイル)\n",
        "\n",
        "\n",
        "それぞれのファイルをダウンロードし、ご自身のGoogle Driveに指定されたディレクトリを作成し、ファイルをアップロードしてもよいが、少し時間がかかるので、Google Driveのマウントと、Linuxコマンドを駆使してファイルをダウンロードする方法を以下に示す。\n",
        "\n",
        "本章では、ファイルの場所を指定する**パス**という概念がたびたび登場する。\n",
        "以下のコードをそのまま使いたいという方は、マイドライブ直下に`Pro1AdDS`というフォルダを作り、さらにその中に```chapter8_data```というフォルダを作成して作業する必要がある。"
      ]
    },
    {
      "cell_type": "markdown",
      "metadata": {},
      "source": [
        "1. まずはGoogle Driveのマウントを行う:  \n",
        "  以降の多くのコードは、google driveの中にあるファイルを読み書きしたりする作業を伴うため、\n",
        "  Google Driveをマウントした状態でなければ、実行しても多くがエラーとなることに注意しよう。"
      ]
    },
    {
      "cell_type": "code",
      "execution_count": null,
      "metadata": {},
      "outputs": [],
      "source": [
        "from google.colab import drive\n",
        "drive.mount('/content/drive')"
      ]
    },
    {
      "cell_type": "markdown",
      "metadata": {},
      "source": [
        "2. 以下のコードを一度だけ実行する:"
      ]
    },
    {
      "cell_type": "code",
      "execution_count": null,
      "metadata": {},
      "outputs": [],
      "source": [
        "!git clone https://github.com/SotaYoshida/Lecture_DataScience\n",
        "!mkdir /content/drive/MyDrive/Pro1AdDS/\n",
        "!mv Lecture_DataScience/Chapter8_data /content/drive/MyDrive/Pro1AdDS/chapter8_data\n",
        "!ls /content/drive/MyDrive/Pro1AdDS/chapter8_data"
      ]
    },
    {
      "cell_type": "markdown",
      "metadata": {},
      "source": [
        "$\\clubsuit$ 解説(気になる人むけ):\n",
        "\n",
        "1つめの行ではまず授業資料のGitHubレポジトリをColab環境で間借りしているgoogleのサーバー上にクローン(≒コピー)する。2行目(`mkdir`コマンド)でマイドライブの下に`Pro1AdDS`というフォルダの作成を試み、3行目(`mv`コマンド)でダウンロードしてきたレポジトリにある`Chapter8_data`をさっき作った`Pro1AdDS`というフォルダの中に別名(先頭が小文字になっている)で移動する。\n",
        "最後に、どんなファイルがあるかを`ls`コマンドで確認している。  "
      ]
    },
    {
      "cell_type": "markdown",
      "metadata": {
        "id": "GT7Cl8yb8iL8"
      },
      "source": [
        "## テキストファイルの操作"
      ]
    },
    {
      "cell_type": "markdown",
      "metadata": {
        "id": "5LKmHodPF_n0"
      },
      "source": [
        "膨大な行・数のテキストファイルに対して、人間が手で操作をするというのは非効率だし、時として非現実的となる。\n",
        "\n",
        "誤変換を置換するくらいなら、どのテキスト/メモ帳アプリやwordでもできるが、全行(数千とか数万)に対して、決まった操作が必要な場合や複数ファイルについて同じ操作が必要になるときは、プログラムを書くと系統的な操作が可能となる。　\n",
        "\n",
        "まずはgoogle driveに保存した```test.txt```という名前のファイルがあるかを`ls`コマンドで確認してみる。"
      ]
    },
    {
      "cell_type": "code",
      "execution_count": null,
      "metadata": {
        "colab": {
          "base_uri": "https://localhost:8080/"
        },
        "id": "Nx4kIQw48w7y",
        "outputId": "b1b93834-5bd0-4954-a465-680acf6a9e11"
      },
      "outputs": [],
      "source": [
        "!ls /content/drive/MyDrive/Pro1AdDS/chapter8_data/*"
      ]
    },
    {
      "cell_type": "markdown",
      "metadata": {
        "id": "UCzT9lFC0x93"
      },
      "source": [
        "`*`はワイルドカード記号で、対象を任意とする命令に相当し、`*.拡張子` などとして使うのも便利."
      ]
    },
    {
      "cell_type": "markdown",
      "metadata": {
        "id": "lBNc6YKaJ-tO"
      },
      "source": [
        "ファイルが見つからない場合やディレクトリ構造の指定に間違いがある場合は\n",
        "> No such file or directory\n",
        "\n",
        "などと表示される。"
      ]
    },
    {
      "cell_type": "code",
      "execution_count": null,
      "metadata": {
        "colab": {
          "base_uri": "https://localhost:8080/"
        },
        "id": "Ayz1B8fz9wGb",
        "outputId": "40f02a5b-6069-4c88-d4bd-a4271afbcbe0"
      },
      "outputs": [],
      "source": [
        "!ls /content/drive/MyDrive/Pro1AdDS/chapter8_data/*txt "
      ]
    },
    {
      "cell_type": "markdown",
      "metadata": {
        "id": "uYhMU-Od-s4Z"
      },
      "source": [
        "とするとマイドライブ以下の`Pro1AdDS/chapter8_data`内にある`.txt`形式のファイル一覧を表示させることができる。  \n",
        "\n",
        "\n",
        "では以降で、この`test.txt`ファイルに書かれているテキストを取得してみよう。  \n",
        "方法は幾つかあるが、最も標準的なものとして、ファイルを開いてテキストを取得する方法を試してみよう。"
      ]
    },
    {
      "cell_type": "markdown",
      "metadata": {
        "id": "YCF5xUQ_3r_3"
      },
      "source": [
        "### テキストファイルを開いて内容を読み出す"
      ]
    },
    {
      "cell_type": "code",
      "execution_count": null,
      "metadata": {
        "id": "4qbsm40WpqK1"
      },
      "outputs": [],
      "source": [
        "filename = \"/content/drive/My Drive/Pro1AdDS/chapter8_data/test.txt\" \n",
        "inp = open(filename,\"r\")\n",
        "lines = inp.readlines()\n",
        "inp.close()"
      ]
    },
    {
      "cell_type": "markdown",
      "metadata": {
        "id": "aZxGX1R4_QUN"
      },
      "source": [
        "1行目でファイルパスを指定し```filename```という変数(文字列)とした。  \n",
        "2行目では、指定したパスにあるファイルを開いている。  \n",
        "今はファイルに書き込むのではなく、既にあるファイルを開いて読み込むので`\"r\"`というオプションを指定している。  \n",
        "他には`\"w\"`(書き出し,上書き), `\"a\"`(書き出し,追記)などがあり、新しく上書きでファイルを作成したい場合は`\"w\"`,すでにあるファイルの内容は消さずに追記したい場合は`\"a\"`を指定して`open`する。  \n",
        "3行目では、`inp`(ファイルを`open`して得たオブジェクト)に対して```readlines```というメソッドを適用している。\n",
        "これは、ファイルに書かれているテキストを(可能なら)全行に渡って読み込みメモリにストアするメソッドになっている。  "
      ]
    },
    {
      "cell_type": "code",
      "execution_count": null,
      "metadata": {
        "colab": {
          "base_uri": "https://localhost:8080/"
        },
        "id": "TMHIZJPTAvd7",
        "outputId": "2aae100d-5f48-461b-b699-74985a929dca"
      },
      "outputs": [],
      "source": [
        "print(lines)"
      ]
    },
    {
      "cell_type": "markdown",
      "metadata": {
        "id": "QSbIzGcdAyWH"
      },
      "source": [
        "とすると、全ての行が読み込まれ、変数```lines```に格納されていることがわかる。ここで```\\n```は改行記号を意味する。\n",
        "\n",
        "ループを回して一行ずつ表示させると"
      ]
    },
    {
      "cell_type": "code",
      "execution_count": null,
      "metadata": {
        "colab": {
          "base_uri": "https://localhost:8080/"
        },
        "id": "dPfMZpjUA_ZQ",
        "outputId": "001554b4-6212-4ef7-ec3e-f255f8d5223b"
      },
      "outputs": [],
      "source": [
        "for line in lines:\n",
        "    print(line)"
      ]
    },
    {
      "cell_type": "markdown",
      "metadata": {
        "id": "KS1P7UYYBFX2"
      },
      "source": [
        "といった感じ(行ごとにスペースが生じている理由については後で説明します)。"
      ]
    },
    {
      "cell_type": "markdown",
      "metadata": {
        "id": "W4CNTbH5Avlf"
      },
      "source": [
        "必要な行番号が分かっている場合は、`nlines = lines[2:10]`などとして、要らないところは捨てても良い。\n",
        "※リストのスライスについては[2章](https://sotayoshida.github.io/Lecture_DataScience/notebooks/Python_chapter2_ListLoop.html#id7)を参照\n",
        "\n",
        "次に、もう少し具体的なテキスト操作をしてみよう。   \n",
        "まず、上の1行ずつ表示するコードでは、改行コードを明示的に含む文字列を一行ずつ表示したため、改めて`print`すると余分なスペースが空いてしまう。  \n",
        "\n",
        "$\\clubsuit$ なぜなら`print`関数はデフォルトで末尾に改行```\\n```を挿入するのでファイルにある改行記号とあわせて2回改行してしまう→[参考リンク](https://docs.python.org/ja/3/library/functions.html#print)"
      ]
    },
    {
      "cell_type": "markdown",
      "metadata": {
        "id": "olRZ5IDD3yuV"
      },
      "source": [
        "### strip関数\n",
        "\n",
        "たとえば```strip()```関数を使うと、文字列に含まれる空白、タブや改行コードを消去することができる。"
      ]
    },
    {
      "cell_type": "code",
      "execution_count": null,
      "metadata": {
        "colab": {
          "base_uri": "https://localhost:8080/"
        },
        "id": "fWB00WIvzOlz",
        "outputId": "867eb590-a09a-4d51-baf6-57009d8a72a1"
      },
      "outputs": [],
      "source": [
        "a = \"test character\\t\"\n",
        "b = \"test2 \\n\"\n",
        "print(\"a\", a, \"←タブが隠れている\")\n",
        "print(\"b\", b, \"←改行される\")\n",
        "### strip関数をもちいて...\n",
        "print(\"a.strip()\", a.strip(),\"b.strip()\",b.strip())"
      ]
    },
    {
      "cell_type": "markdown",
      "metadata": {},
      "source": [
        "先程のforループでstrip関数を適用してやると..."
      ]
    },
    {
      "cell_type": "code",
      "execution_count": null,
      "metadata": {
        "colab": {
          "base_uri": "https://localhost:8080/"
        },
        "id": "bwCxUBMdBOb2",
        "outputId": "d964e851-62c0-4ded-9370-1f279c4a9dd7"
      },
      "outputs": [],
      "source": [
        "for line in lines:\n",
        "    print(line.strip())"
      ]
    },
    {
      "cell_type": "markdown",
      "metadata": {
        "id": "IpOm3O9rBlSH"
      },
      "source": [
        "文字列の右側に空白や改行コードが入っていることが明確な場合は  \n",
        "`strip`の代わりに`rstrip`を使ってもOK(`rstrip`のrはrightの意味)。"
      ]
    },
    {
      "cell_type": "code",
      "execution_count": null,
      "metadata": {
        "colab": {
          "base_uri": "https://localhost:8080/"
        },
        "id": "zVlMYYFtBnlD",
        "outputId": "2b14197a-506d-4207-bbc4-2937db656ed5"
      },
      "outputs": [],
      "source": [
        "for line in lines:\n",
        "    print(line.rstrip())"
      ]
    },
    {
      "cell_type": "markdown",
      "metadata": {
        "id": "E-iAh4w7BrbU"
      },
      "source": [
        "\n",
        "ファイルによってはインデントをするために左側にタブ```\\t```が含まれる場合もあります(PythonのコードをテキストとしてPythonから読むときなどがこれに該当)。そのような場合に左側にある空白やタブのみを取り除きたければ```lstrip()```を使って取り除くことができる。\n",
        "\n",
        "もちろんPythonではインデントが文法なので、インデントを一律で消す、といった操作は必要ないが、特定の状況では、`lstrip`も使えると便利な場合がある。"
      ]
    },
    {
      "cell_type": "markdown",
      "metadata": {
        "id": "V1Uk2u1Z2haB"
      },
      "source": [
        "Q. 上のファイルの文字列で`#`記号を含む行以降だけが必要な場合はどうすればいいか考えてみよう。\n",
        "\n",
        "最も単純(？)な実装は"
      ]
    },
    {
      "cell_type": "code",
      "execution_count": null,
      "metadata": {
        "colab": {
          "base_uri": "https://localhost:8080/"
        },
        "id": "o9ePmRrlCQV3",
        "outputId": "abd39a60-4d5b-40ae-8e81-e3d17f90e735"
      },
      "outputs": [],
      "source": [
        "hit = 0 \n",
        "for line in lines:\n",
        "    if \"###\" in line:\n",
        "        hit += 1 \n",
        "        continue\n",
        "    #hitが0の状態では何もしない\n",
        "    if hit == 0 :\n",
        "        continue \n",
        "    print(line.rstrip())"
      ]
    },
    {
      "cell_type": "markdown",
      "metadata": {
        "id": "S4pLj4K-CQhm"
      },
      "source": [
        "といった愚直な例が考えられる。\n",
        "つまり、`#`を含む行に到達するまでの行は無視して、それ以降の行だけをリストに格納するというもの。\n",
        "もちろん`#`を含む行が複数あるようなケースでは、自分が実現したい操作にあわせてコードを書き換える必要がある。\n",
        "\n",
        "以下では、`###data`までの行が必要ないので、必要なところまでを別のリストに格納してしまおう。\n"
      ]
    },
    {
      "cell_type": "code",
      "execution_count": null,
      "metadata": {
        "colab": {
          "base_uri": "https://localhost:8080/"
        },
        "id": "eYsStscDDXDa",
        "outputId": "e5334884-190b-4a4b-d2a6-e3705becf3f0"
      },
      "outputs": [],
      "source": [
        "hit = 0 #\n",
        "nlines = []\n",
        "for line in lines:\n",
        "    if \"###\" in line:\n",
        "        hit += 1 \n",
        "        continue\n",
        "    if hit == 0 :\n",
        "        continue #hitが0の状態では何もしない\n",
        "    nlines += [line]\n",
        "print(nlines)"
      ]
    },
    {
      "cell_type": "markdown",
      "metadata": {},
      "source": [
        "ひとくちにテキストファイルといっても様々な形式があり、表記方法もバラバラである。\n",
        "プログラムで扱う際には、そのファイルの特性に合わせて適切な処理を行う必要があることに注意しよう。"
      ]
    },
    {
      "cell_type": "markdown",
      "metadata": {
        "id": "p7_aA_O0p7tt"
      },
      "source": [
        "### split関数"
      ]
    },
    {
      "cell_type": "markdown",
      "metadata": {
        "id": "RDD1fCO3DNm6"
      },
      "source": [
        "また、1,2,3,4,5,6といったコンマやスペースで区切られたものをリストに格納したい場合には、```split```関数が便利。`split`関数は引数に何も指定しなければ、スペースや改行もしくはタブごとに文字列を区切ったリストを返す。"
      ]
    },
    {
      "cell_type": "code",
      "execution_count": null,
      "metadata": {},
      "outputs": [],
      "source": [
        "sample_text = \"This is a\\nsample\\ttext.\"\n",
        "sample_text.split()"
      ]
    },
    {
      "cell_type": "code",
      "execution_count": null,
      "metadata": {
        "colab": {
          "base_uri": "https://localhost:8080/"
        },
        "id": "1P4mcqMkCzbf",
        "outputId": "6bbaadf5-f756-4990-c57c-e452f7ddd7d8"
      },
      "outputs": [],
      "source": [
        "for line in nlines:\n",
        "    print(line.split())"
      ]
    },
    {
      "cell_type": "markdown",
      "metadata": {
        "id": "0QGZ-qxWDF6L"
      },
      "source": [
        "カンマがあるときはカンマで分割する、という約束を表現したければ"
      ]
    },
    {
      "cell_type": "code",
      "execution_count": null,
      "metadata": {
        "colab": {
          "base_uri": "https://localhost:8080/"
        },
        "id": "R5Wk_P3gDJ2C",
        "outputId": "9589e77b-476a-44e7-cb1c-61a45f67ca11"
      },
      "outputs": [],
      "source": [
        "for line in nlines:\n",
        "    if \",\" in line :\n",
        "        print(line.rstrip().split(\",\"))\n",
        "    else :\n",
        "        print(line.rstrip().split())"
      ]
    },
    {
      "cell_type": "markdown",
      "metadata": {
        "id": "QaOMvxGUDx7g"
      },
      "source": [
        "などとすれば良い。これを利用すれば、空のリストにファイルから読んだ要素を詰めていくといった操作も実現できる。\n"
      ]
    },
    {
      "cell_type": "code",
      "execution_count": null,
      "metadata": {
        "colab": {
          "base_uri": "https://localhost:8080/"
        },
        "id": "ocRjQCaGEF07",
        "outputId": "8f26d228-b132-4002-efbb-694216794090"
      },
      "outputs": [],
      "source": [
        "# 数字とプロフィールの空リストを作り、そこに読み込んだものを詰めていく\n",
        "# その際に、数字のリストとプロフィールのリストを分けたいとする\n",
        "nums = [] \n",
        "profs = [] \n",
        "\n",
        "for line in nlines:\n",
        "    if \",\" in line :\n",
        "        nums += [ line.rstrip().split(\",\") ]\n",
        "    else :\n",
        "        profs += [ line.rstrip().split()]\n",
        "print(\"nums\", nums)\n",
        "print(\"profs\", profs)"
      ]
    },
    {
      "cell_type": "markdown",
      "metadata": {
        "id": "pu5-guZDEcIo"
      },
      "source": [
        "上の`nums`の様に、予め全ての要素が整数だと分かっていて整数に対する演算(四則演算など)を後でするのなら、`str`(文字列)型ではなく`int`型にしておくほうが良いこともあるだろう。"
      ]
    },
    {
      "cell_type": "code",
      "execution_count": null,
      "metadata": {
        "colab": {
          "base_uri": "https://localhost:8080/"
        },
        "id": "J85gGgidEq6j",
        "outputId": "87947845-dd2e-4574-e710-05b6c7e7819c"
      },
      "outputs": [],
      "source": [
        "##リスト内包表記を使った実装\n",
        "nums = []\n",
        "for line in nlines:\n",
        "    if \",\" in line : \n",
        "        tl =  line.rstrip().split(\",\")\n",
        "        nums += [ [ int(tmp) for tmp in tl] ]\n",
        "print(\"方法1:\", nums)\n",
        "\n",
        "## map関数(後述)を使った実装\n",
        "nums = []\n",
        "for line in nlines:\n",
        "    if \",\" in line : \n",
        "        nums += [ list(map(int, line.rstrip().split(\",\") )) ]\n",
        "print(\"方法2:\", nums)"
      ]
    },
    {
      "cell_type": "markdown",
      "metadata": {
        "id": "ageWDCqlpxPy"
      },
      "source": [
        "### replace関数"
      ]
    },
    {
      "cell_type": "markdown",
      "metadata": {
        "id": "-ppyblOIq8PL"
      },
      "source": [
        "`replace`関数で文字の置換が可能:"
      ]
    },
    {
      "cell_type": "code",
      "execution_count": null,
      "metadata": {
        "colab": {
          "base_uri": "https://localhost:8080/"
        },
        "id": "B78Kb1QKqA5P",
        "outputId": "1048156c-f018-4f8a-87ff-3d01d047b562"
      },
      "outputs": [],
      "source": [
        "text = \"abcdあいうえお\"\n",
        "text = text.replace(\"abcd\", \"1234\")\n",
        "print(\"置換や→\",text)\n",
        "print(\"除去にも→\", text.replace(\"4\", \"\"))"
      ]
    },
    {
      "cell_type": "markdown",
      "metadata": {
        "id": "JHXIca-kE39k"
      },
      "source": [
        "### $\\clubsuit$ map関数\n",
        "\n",
        "`map`関数は`map(操作,対象)`という風に使って、対象の各要素に対して一括で操作を適用することができる。  \n",
        "今の場合、`['1', ' 2', ' 3', ' 4', ' 5', ' 6']`などの文字列のリストに対して、  \n",
        "整数型に変換する```int```関数を作用させるという操作を一度に行う。\n",
        "\n",
        "\n",
        ">注: `map`関数の返り値はmap objectというものであり、単純にprintしても中身が見れない。\n",
        "元のようなリストの形で使いたい場合は```list()```を使ってリストに変換するステップが必要になる。"
      ]
    },
    {
      "cell_type": "code",
      "execution_count": 1,
      "metadata": {},
      "outputs": [
        {
          "name": "stdout",
          "output_type": "stream",
          "text": [
            "[1, 2, 3, 4, 5, 6]\n"
          ]
        }
      ],
      "source": [
        "tmp = ['1', ' 2', ' 3', ' 4', ' 5', ' 6']\n",
        "print(\"map=>\", map(int, tmp), \"さらにlist化=>\", list(map(int, tmp)) )"
      ]
    },
    {
      "cell_type": "markdown",
      "metadata": {},
      "source": [
        "世の中には、アンケート結果や産業データなどがcsv(カンマ区切りのテキスト)ファイルで公開されている場合が多いが、  \n",
        "その場合は**上で説明したような手順でリストなどに格納すれば今まで行ったような解析やグラフ描画が実行できる**。  \n",
        "\n",
        "もちろんcsvを読むのに便利なライブラリもあり、上のような文字列操作が必ずしも必要でない場合もあるが、\n",
        "いろんな形式のファイルをプログラムで読み込む場合には、上のような基本的な操作を組み合わせることで、必要なデータを取り出すことができることは覚えておこう。"
      ]
    },
    {
      "cell_type": "markdown",
      "metadata": {
        "id": "7Zteg1NaYXuR"
      },
      "source": [
        "### テキストファイルの書き出し"
      ]
    },
    {
      "cell_type": "markdown",
      "metadata": {
        "id": "d1feYXb-4J-s"
      },
      "source": [
        "次に、テキストファイルを書き込んで保存してみよう。  \n",
        "上の文字列で、敬称を\"さん\"から\"様\"に置換したテキストを作成して、それを別ファイルとして保存してみる:"
      ]
    },
    {
      "cell_type": "code",
      "execution_count": null,
      "metadata": {
        "id": "J1fOkXTcYuQm"
      },
      "outputs": [],
      "source": [
        "filename = \"/content/drive/My Drive/Pro1AdDS/chapter8_data/test_replace.txt\" \n",
        "oup = open(filename,\"w\")  \n",
        "for line in lines:\n",
        "    print(line.rstrip().replace(\"さん\",\"様\"), file=oup) # file=[\"w\"ないし\"a\"でopenしたファイル]にすることで、printする先をファイルに指定できます。\n",
        "oup.close() #ファイルはきちんと閉じる."
      ]
    },
    {
      "cell_type": "markdown",
      "metadata": {
        "id": "BhsUEsIh6tC6"
      },
      "source": [
        "Google Driveで、作成されたファイルをチェックしてみよう。\n",
        "\n",
        "なお、filenameに元ファイルと同じものを指定すると```open(filename,\"w\")```を実行した時点でファイルが上書きされて空ファイルになるので注意。"
      ]
    },
    {
      "cell_type": "markdown",
      "metadata": {
        "id": "navysabZ4enm"
      },
      "source": [
        "今の例ではもちろん、手で置き換えたりするほうが遥かに速いが、こうしたPythonによるファイル操作を覚えておくと\n",
        "\n",
        "* ファイル自体が大量にあり、同じ操作を繰り返す場合\n",
        "* 単一のテキストファイルに大量の行に渡って情報がある場合\n",
        "\n",
        "など、手作業が非現実的な様々な状況でも、楽ちんに作業を終わらせることができる(かもしれない)。\n",
        "\n",
        "一度、プログラミングを用いたファイル操作をする発想を持つと、もうそれなしでは戻れない...かもしれない。\n",
        "\n",
        "### 文字コードに関連した余談\n",
        "\n",
        "Windows環境で作成されたテキストファイルを扱う際は読み込みで、文字コードによるエラーが出るかもしれない。\n",
        "文字コードとは、英数字のみならず、日本語や中国語などの文字をコンピュータで扱うための規則のことで、こうした文字・記号などとコンピュータ内部での数値(バイト列)との対応を定めたものである。\n",
        "最も一般的なのはUTF-8と呼ばれるものであるが、Windows環境ではShift-JISという文字コードが使われることもある。\n",
        "これが原因で、テキストファイルを読み込む際に文字化けが生じることがある。\n",
        "\n",
        "最近ではメモ帳でもUTF-8(世界標準)を採用しているよう(→[MicrosoftのWindows blogの記事](https://blogs.windows.com/japan/2020/02/20/about-windows-and-japanese-text/))だが、古いテキストファイルだとShift-JISになっているかも。そういうときは、```open(file, \"r\", encoding = \"shift_jis\")```など、ファイルを開くときにencodingを明示的に指定する必要がある。明示的にUTF-8で保存したいときは```open(file, \"w\", encoding = \"utf-8\")```などとする。  \n",
        "参考: [公式ドキュメント](https://docs.python.org/ja/3/howto/unicode.html#reading-and-writing-unicode-data)  \n",
        "ここまで勉強してきた皆さんには「そんなの、パソコンに存在するShift-JISで書かれたテキストファイルを全てUTF-8に変換するPythonスクリプト書けばいいんじゃね？」という発想があることを期待しています。\n"
      ]
    },
    {
      "cell_type": "markdown",
      "metadata": {
        "id": "J5sIptAmd1ni"
      },
      "source": [
        "## csv\n",
        "\n",
        "csvファイルは、カンマ区切りのテキストファイルであり、表形式のデータを保存するのに適している。\n"
      ]
    },
    {
      "cell_type": "markdown",
      "metadata": {
        "id": "ovU-6Bd-D9e1"
      },
      "source": [
        "### アンケート分析\n",
        "\n",
        "冒頭の二番目のファイル`python_handling_test.csv`(https://raw.githubusercontent.com/SotaYoshida/Lecture_DataScience/main/Chapter8_data/python_handling_test.csv)はあるアンケート結果をまとめたファイルになっている。  \n",
        "これは、Google フォームで作成したアンケートで、国数英社理(中学の５科目)に対する得意/苦手意識の調査を想定した疑似アンケートになっている。\n",
        "\n",
        "このようなアンケート調査は事務作業や卒業研究などで頻繁に見られ、会社や大学など所属コミュニティで何らかの意思決定に用いられることも多い。\n",
        "こうしたアンケート分析を行っていると、\n",
        "*   各回答項目同士の関係が知りたい\n",
        "*   明示的な項目以外の情報も抽出したい\n",
        "\n",
        "といった要望が出てくる。今の場合でいうと、\n",
        "* 各科目ごとの得意・苦手意識の相関を調べたい\n",
        "* 夜中(あるいは日中)にアンケートを回答した夜型(昼型)の人に見られる特徴がなにかないか？\n",
        "\n",
        "といったイメージ。そんなとき、\n",
        "\n",
        "> 国語が得意(どちらかというと得意)と回答した方に質問です。  \n",
        "英語についてはどうでしょうか？\n",
        "\n",
        "などと新たに設問を増やしてアンケートをやり直すというのは得策ではないので、\n",
        "すでに得られた情報からさらなる情報を引き出すことを考えたい。  \n",
        "\n",
        "こんなとき、csvファイルに記載された情報を整理してプログラムで扱いやすくすることを考えてみよう。\n",
        "\n",
        "余談: このcsvファイルをExcelで開こうとするとお使いの環境によっては文字化けを起こす。これはgoogleフォームで作成されたcsvファイルの文字コードが世界標準のutf-8を使用しているのに対し、ExcelがShift-JISという時代遅れな文字コードでcsvファイルを開こうとするためで、Googleのスプレッドシートや、Mac標準のNumbersで開くと文字化けはしない。\n",
        "\n",
        "2000件の回答は、もちろん手作業で入力したわけでも誰かに協力してもらったわけでもなく、一定のルール(傾向)を勝手に設定した上でランダムに回答を作成しフォームから自動回答するPythonスクリプトを書いている。\n",
        "時間に余裕があれば、こうしたWeb操作を自動化する方法も授業で扱います。 c.f. ブラウザ操作, Webスクレイピング"
      ]
    },
    {
      "cell_type": "code",
      "execution_count": null,
      "metadata": {
        "id": "zF6wdCGff4qd"
      },
      "outputs": [],
      "source": [
        "#読み込むファイルのパスの指定\n",
        "filename = \"/content/drive/My Drive/Pro1AdDS/chapter8_data/python_handling_test.csv\" "
      ]
    },
    {
      "cell_type": "markdown",
      "metadata": {
        "id": "vq3T9r6wgBmg"
      },
      "source": [
        "とりあえずファイルの中身を数行表示してみる。csvファイル(コンマ区切りのテキスト)なので、テキストファイルと同じ方法をとる(他の方法ももちろんある)"
      ]
    },
    {
      "cell_type": "code",
      "execution_count": null,
      "metadata": {
        "colab": {
          "base_uri": "https://localhost:8080/"
        },
        "id": "4yG6dZUngpnA",
        "outputId": "eb5da226-418d-4a75-e4fd-f680959f03ed"
      },
      "outputs": [],
      "source": [
        "inp=open(filename,\"r\")\n",
        "csv_lines=inp.readlines() \n",
        "inp.close()\n",
        "print(\"行数は\",len(csv_lines))\n",
        "for i in range(5):\n",
        "    print(csv_lines[i].rstrip())"
      ]
    },
    {
      "cell_type": "markdown",
      "metadata": {
        "id": "mfdbVE1Bhrhi"
      },
      "source": [
        "ちなみに...```pandas```ライブラリを使うとcsvをサクッと読み込むことができる"
      ]
    },
    {
      "cell_type": "code",
      "execution_count": null,
      "metadata": {
        "colab": {
          "base_uri": "https://localhost:8080/"
        },
        "id": "fgDQrP-1hA0D",
        "outputId": "8a51c3dc-77f5-4909-95b0-3e209da09a55"
      },
      "outputs": [],
      "source": [
        "import pandas as pd \n",
        "df = pd.read_csv(filename)\n",
        "df"
      ]
    },
    {
      "cell_type": "markdown",
      "metadata": {
        "id": "bMWTdHs9ilWM"
      },
      "source": [
        "ただし、csvファイルのフリをしたいい加減なファイルの場合はエラーになることもあるので、\n",
        "独自にコードを書いて例外的な処理をすることも必要になる。\n",
        "\n",
        "さて、```csv_lines```に格納したデータをもう少し扱いやすいように変更しよう。  \n",
        "最初の0行目はどういうデータが入っているか(データの項目)を表している。  \n",
        "1-2000行目には2000人分の回答が詰まっている。  \n",
        "\n",
        "これによると、  \n",
        "> 0列目: 回答した時刻  \n",
        "> 1列目: 性別  \n",
        "> 2列目: 国語  \n",
        "> 3列目: 数学  \n",
        "> 4列目: 英語  \n",
        "> 5列目: 社会  \n",
        "> 6列目: 理科  \n",
        "\n",
        "らしい。いろいろなデータの整理方法があると思うがここでは、\n",
        "* 処理A 0列目の時刻を24時間表記にして表示する  \n",
        "* 処理B 2-6列目の各科目の得意・苦手意識を、文字列を除去して数値[-2,-1,0,1,2]として扱う\n",
        "\n",
        "をまずやってみよう。\n",
        "\n"
      ]
    },
    {
      "cell_type": "code",
      "execution_count": null,
      "metadata": {
        "colab": {
          "base_uri": "https://localhost:8080/"
        },
        "id": "Kso8FZs6nQa0",
        "outputId": "3e2c5835-19b6-41de-ba7c-bda96bcc60d5"
      },
      "outputs": [],
      "source": [
        "#処理Aのための関数\n",
        "#input_strが、\"年月日 時刻(h:m:s) 午前/午後 GMT+9\" という文字列である、というデータの\"構造\"を知った上での実装になっていることに注意\n",
        "def make_time_24h(input_str):        \n",
        "    time  = input_str.split()[1]\n",
        "    AMPM = input_str.split()[2]\n",
        "    hms = time.split(\":\")\n",
        "    h = int(hms[0])\n",
        "    if AMPM == \"午前\":\n",
        "        output_str = time \n",
        "    else :\n",
        "        if h != 12:\n",
        "            output_str = str(h +12)+\":\"+hms[1]+\":\"+hms[2]\n",
        "        else:\n",
        "            output_str = str(h)+\":\"+hms[1]+\":\"+hms[2] # 12時xx分だけは別の取り扱いが必要\n",
        "    return output_str\n",
        "\n",
        "nlines=[] #整理したものをリストとしてまとめるための空のリスト\n",
        "for nth,line in enumerate(csv_lines[1:]): \n",
        "    nline = line.rstrip().replace('\"','').split(\",\") # 改行文字の除去、ダブルクォーテーションの除去, カンマで分割    \n",
        "    # 処理A)\n",
        "    time = make_time_24h(nline[0])\n",
        "    M_or_F = nline[1] #性別\n",
        "\n",
        "    #　処理B)\n",
        "    points = [ int(nline[k].split()[0]) for k in range(2,7)] #各科目の値だけのリスト(points)を作成, map関数にするのもあり\n",
        "\n",
        "    nline = [time, M_or_F]+points  #リストを連結(時刻,性別と各科目の値を同じ階層で結合)して、nlineという名前で上書き\n",
        "    nlines += [ nline ]\n",
        "\n",
        "    # うまく編集できたか400行おきほどでprintしてチェックしてみる\n",
        "    if nth % 400 == 0 :\n",
        "        print(\"編集前\", line.rstrip())\n",
        "        print(\"編集後\", nline)\n",
        "        print(\"\")"
      ]
    },
    {
      "cell_type": "markdown",
      "metadata": {
        "id": "VVxC-_FanOp2"
      },
      "source": [
        "最後に、各項目の得点を適当なリスト(あるいはnp.array)に整形しておけば、種々の分析を行うことができます。\n",
        "\n"
      ]
    },
    {
      "cell_type": "code",
      "execution_count": null,
      "metadata": {
        "colab": {
          "base_uri": "https://localhost:8080/"
        },
        "id": "38OyKcL4DVtR",
        "outputId": "a78ecf75-7448-4011-ee0c-00cd6acc7470"
      },
      "outputs": [],
      "source": [
        "import numpy as np\n",
        "points = [ [] for i in range(5)]\n",
        "for tmp in nlines:\n",
        "    for i in range(5):\n",
        "        points[i]+=[tmp[2+i]]\n",
        "print(\"points\", np.array(points))\n",
        "print(\"各科目の平均スコア:\", [np.mean(points[i]) for i in range(5)])"
      ]
    },
    {
      "cell_type": "markdown",
      "metadata": {
        "id": "gplM2Js9DWwP"
      },
      "source": [
        "相関分析は別の章で扱ったので、具体例は省略する。\n",
        "\n",
        "もちろん、このようなデータを扱う際には、`pandas`ライブラリを使うともっと簡単にデータを扱うことができるが、\n",
        "このような泥臭い？基本的な操作を覚えておくことは、データ解析の基礎を固める上で非常に重要である。"
      ]
    },
    {
      "cell_type": "markdown",
      "metadata": {
        "id": "2_SWNlqrhMLY"
      },
      "source": [
        "## $\\clubsuit$ 複雑なエクセルファイルの操作\n",
        "\n",
        "家計調査のデータが入ったエクセルファイル[kakei.xlsx](https://github.com/SotaYoshida/Lecture_DataScience/raw/main/Chapter8_data/kakei.xlsx)を使用する。  \n",
        "以下では、上と同じディレクトリに`kakei.xlsx`を置いたと仮定して処理を行うので、適宜ご自身の環境にパスを置き換えて実行しよう。"
      ]
    },
    {
      "cell_type": "code",
      "execution_count": null,
      "metadata": {
        "id": "FXWuDrYahMXf"
      },
      "outputs": [],
      "source": [
        "#読み込むファイルのパスの指定\n",
        "filename = \"/content/drive/My Drive/Pro1AdDS/chapter8_data/kakei.xlsx\" "
      ]
    },
    {
      "cell_type": "markdown",
      "metadata": {
        "id": "CcnorJJvmAR6"
      },
      "source": [
        "まずはxlsxファイルをPythonで読み込んで、どんな\"シート\"があるのかを確認してみよう。"
      ]
    },
    {
      "cell_type": "code",
      "execution_count": null,
      "metadata": {
        "colab": {
          "base_uri": "https://localhost:8080/"
        },
        "id": "vsLXQKlG8WYL",
        "outputId": "7bf4f36d-c5f5-496e-d2ec-a93c7b854a2f"
      },
      "outputs": [],
      "source": [
        "import pandas as pd\n",
        "input_file = pd.ExcelFile(filename)\n",
        "sheet_names = input_file.sheet_names\n",
        "print(\"pandas: シート名\",sheet_names)"
      ]
    },
    {
      "cell_type": "markdown",
      "metadata": {
        "id": "X1HOxhl6edOF"
      },
      "source": [
        "たくさんシートがあることが分かった。\n",
        "\n",
        "次に、Sheet1の中身をのぞいてみよう。まずは行と列の数を取得してみる:"
      ]
    },
    {
      "cell_type": "code",
      "execution_count": null,
      "metadata": {
        "colab": {
          "base_uri": "https://localhost:8080/"
        },
        "id": "0YivHM_Yed3Y",
        "outputId": "f86c467c-0249-4f97-dabc-8d0cee8f51e9"
      },
      "outputs": [],
      "source": [
        "Sheet1 = pd.read_excel(filename, sheet_name=\"Sheet1\")\n",
        "print(\"行,列の数\", Sheet1.shape)"
      ]
    },
    {
      "cell_type": "markdown",
      "metadata": {
        "id": "X5mDZqBWgXSD"
      },
      "source": [
        "0-5番目の行にはどんな値がセルに入っているのかな...と思ったら"
      ]
    },
    {
      "cell_type": "code",
      "execution_count": null,
      "metadata": {
        "colab": {
          "base_uri": "https://localhost:8080/"
        },
        "id": "nu6LskLOf7zz",
        "outputId": "8cdbd47d-1f90-460f-e825-74c8bcf45d44"
      },
      "outputs": [],
      "source": [
        "for i in range(5):\n",
        "    print( list(Sheet1.iloc[i]) )"
      ]
    },
    {
      "cell_type": "markdown",
      "metadata": {
        "id": "xkzCNbhDpbOT"
      },
      "source": [
        "などとする。このように、扱いたいファイルの\"構造\"を知ることがやりたい操作を系統的に実行するための第一歩になる。\n",
        "\n",
        "このエクセルを実際に開くとSheet1からSheet12までが複数都市の家計調査のデータでS1からS12までが気候データになっていて、\n",
        "1-12までの数字が2017年の1月から12月までに対応していることが分かる。\n",
        "\n",
        "実際のデータを触っていると「2006年までとそれ以降とでデータファイル(.xlsx)の\"構造\"が違う」といったことも出てくるので、\n",
        "最初は特定のものに合わせたコードを作り、徐々に汎用性の高い(例外に対応できる)コードにしていくのが良い。\n",
        "\n",
        "このエクセルを使って実際に作業をするには、pandas等のライブラリの細かい使い方を説明することになるため、授業ではやらず、以下の\"おまけ\"にいれておく。"
      ]
    },
    {
      "cell_type": "markdown",
      "metadata": {
        "id": "HJJ1Rd9XkITb"
      },
      "source": [
        "### $\\clubsuit\\clubsuit$ おまけ\n",
        "\n",
        "以下のコードは、プログラミングの\"ありがたみ\"を感じてもらうためのお試し用。\n",
        "(昔書いたかなり読みにくいコードなのであまり真剣に読まないで...)\n",
        "例外処理も完璧でないのだが、許してほしい。\n",
        "\n",
        "**大量の画像ファイルをドライブに生成するので、以下を読んだ上で実行してください**\n",
        "\n",
        "以下のコードたちを何もいじらずに実行すると、  \n",
        "全都市の月別平均気温と全品目の世帯平均支出のうち、  \n",
        "相関係数の絶対値が0.9以上のもの(291通り)をプロットして画像として保存します。  \n",
        "```pthre```の値を小さくすると、生成される画像の数がとんでもなく増えるのでやらないでください。\n",
        "\n",
        "(0.9 →  291通り, 0.8 → 1234通り, 0.7 → 2871通り,  \n",
        " 0.6 → 5233通り, 0.5 → 8375通り, 0.0 → 32876通り)\n",
        "\n",
        "Google Colab上で実行して291枚の画像が生成されるまでに80~150秒程度かかるようです。\n",
        "\n",
        "この時間未満でエクセルで操作をして同様の処理を完了出来るという方は...おそらく地球上にいないでしょう(要出典)"
      ]
    },
    {
      "cell_type": "code",
      "execution_count": null,
      "metadata": {
        "id": "ALOn2XR5lfT-"
      },
      "outputs": [],
      "source": [
        "# 画像がいっぱい生成されると面倒なので画像を保存するフォルダを作成しておく\n",
        "!mkdir /content/drive/MyDrive/Pro1AdDS/chapter8_data/kakei_cor_pic "
      ]
    },
    {
      "cell_type": "code",
      "execution_count": null,
      "metadata": {
        "colab": {
          "base_uri": "https://localhost:8080/"
        },
        "id": "dsPxfNhrr5e2",
        "outputId": "6d37c43f-3c92-4ff2-84f2-609ba697704d"
      },
      "outputs": [],
      "source": [
        "!pip install japanize_matplotlib "
      ]
    },
    {
      "cell_type": "code",
      "execution_count": null,
      "metadata": {
        "colab": {
          "base_uri": "https://localhost:8080/"
        },
        "id": "rZHYbCjWmXgG",
        "outputId": "81a4fc87-c666-4255-f658-d01ed18d0e7e"
      },
      "outputs": [],
      "source": [
        "import numpy as np\n",
        "import pandas as pd\n",
        "from matplotlib import pyplot as plt\n",
        "import japanize_matplotlib\n",
        "import time\n",
        "\n",
        "class ebook:\n",
        "    def __init__(self,inpf):\n",
        "        self.input_file = pd.ExcelFile(inpf)\n",
        "        sheet_names = input_file.sheet_names\n",
        "        self.sname = sheet_names\n",
        "        self.ns = len(sheet_names)\n",
        "        print(\"pandas: シート名\",sheet_names)\n",
        "        print(\"self.ns\", self.ns)\n",
        "\n",
        "        s_kikou=[]; s_kakei=[]\n",
        "        for i, sheetname in enumerate(self.sname):\n",
        "            if \"Sheet\" in sheetname :\n",
        "                s_kakei += [ i ]\n",
        "            elif \"S\" in sheetname :\n",
        "                s_kikou += [ i ]\n",
        "        self.s_kakei,self.s_kikou = s_kakei,s_kikou\n",
        "    def indices(self):\n",
        "        return self.s_kakei, self.s_kikou\n",
        "    def readkakei(self,ikakei) :\n",
        "        ws = self.input_file.parse(sheet_name=self.sname[ikakei])\n",
        "        nr = ws.shape[0]\n",
        "        premode = True\n",
        "        items = []\n",
        "        for ii in range(nr): \n",
        "            trow = list(ws.iloc[ii])\n",
        "            hit = 0\n",
        "            if premode == True:\n",
        "                for jj,tmp in enumerate(trow):\n",
        "                    if type(tmp) is str:\n",
        "                        if \"市\" in tmp:\n",
        "                            hit += 1\n",
        "                if hit > 5:\n",
        "                    premode=False\n",
        "                    i_kakei=[];p_kakei=[]\n",
        "                    for jj,tmp in enumerate(trow):\n",
        "                        if type(tmp) is str:\n",
        "                            if \"市\" in tmp:\n",
        "                                i_kakei += [jj]\n",
        "                                p_kakei +=[ tmp ] \n",
        "                    v_kakei = [ ]\n",
        "            else:                    \n",
        "                if ii >= 22:\n",
        "                    if type(trow[8]) is str and trow[8] != \"\":\n",
        "                        v_kakei += [ [trow[jj+1] for jj in i_kakei] ]\n",
        "                        items += [trow[8]]                         \n",
        "        return i_kakei, p_kakei, v_kakei,items\n",
        "    def readkikou(self,ikikou):\n",
        "        ws = self.input_file.parse(sheet_name=self.sname[ikikou], header=None)\n",
        "        nr = ws.shape[0]\n",
        "        quantities = [];v_kikou=[]\n",
        "        premode=True\n",
        "        for ii in range(nr): \n",
        "            trow = list(ws.iloc[ii])\n",
        "            if premode :\n",
        "                if any([\"市\" in str(tmp) for tmp in trow]):\n",
        "                    Tplaces = trow[1:]\n",
        "                    premode=False\n",
        "            else:\n",
        "                quantities += [ trow[0] ]\n",
        "                v_kikou += [ trow[1:] ]\n",
        "        return Tplaces, v_kikou,quantities\n",
        "\n",
        "# 月ごとの色を決める関数\n",
        "def seasoncolor(month):\n",
        "    if month <= 2 or month ==12:\n",
        "        return \"blue\"\n",
        "    elif 3 <= month <=5:\n",
        "        return \"green\"\n",
        "    elif 6 <= month <=8:\n",
        "        return \"red\"\n",
        "    elif 9<= month <=11:\n",
        "        return \"orange\"\n",
        "    return tcol\n",
        "\n",
        "# 指定した品目・地点の散布図を描く関数\n",
        "def plot_cor(x,y,item,quantity,place,corrcoef):    \n",
        "    fig = plt.figure(figsize=(4,4))\n",
        "    ax = fig.add_subplot(1,1,1)\n",
        "    ax.set_facecolor(\"#e0e0e0\")\n",
        "    ax.set_title(place+\"   r=\"+str(\"%8.2f\" % corrcoef).strip())\n",
        "    ax.set_xlabel(item);ax.set_ylabel(quantity)\n",
        "    ax.grid(True,axis=\"both\",color=\"w\", linestyle=\"dotted\", linewidth=0.8)\n",
        "    for i in range(len(x)):\n",
        "        tcol=seasoncolor(i+1)\n",
        "        ax.scatter(x[i],y[i],marker=\"o\",s=5,color=tcol,zorder=20000,alpha=0.7)\n",
        "        ax.text(x[i],y[i],str(i+1)+\"月\",color=\"k\",fontsize=8)\n",
        "    plt.savefig(oupdir + \"corr_\"+item+\"vs\"+quantity+\"_at_\"+place+\".png\",dpi=300) \n",
        "    plt.close()\n",
        "\n",
        "# 指定した品目・地点の散布図を描く関数\n",
        "def calcor(places,items, Vs_kakei,Tplaces,quantities,Vs_kikou):\n",
        "    hit = 0; num_pic=0\n",
        "    Vs = [] \n",
        "    for j_K,place in enumerate(places):\n",
        "        for j_T, Tplace in enumerate(Tplaces):\n",
        "            if place != Tplace :\n",
        "                continue\n",
        "            for ik,item in enumerate(items):\n",
        "                kvalue = np.array([ Vs_kakei[i][ik][j_K] for i in range(len(Vs_kakei))])\n",
        "                quantity=quantities[iT]\n",
        "                Tvalue = np.array([ Vs_kikou[i][iT][j_T] for i in range(len(Vs_kikou))])\n",
        "                if all(Tvalue) == 0.0: ## missing value in climate data\n",
        "                    continue\n",
        "                if printlog:\n",
        "                    print(\"@\", place,\" \",item,kvalue,\" VS \",quantity, \",\",Tvalue)\n",
        "                corrcoef=np.corrcoef(kvalue,Tvalue)[0][1]\n",
        "                Vs += [ [ corrcoef, item, quantity, place] ]\n",
        "                if abs(corrcoef) > pthre:\n",
        "                    hit += 1\n",
        "                    if pltmode==True:\n",
        "                        plot_cor(kvalue,Tvalue,item,quantity,place,corrcoef)                       \n",
        "                        num_pic += 1\n",
        "    print(\"hit:\",hit, \" number of picture\", num_pic)\n",
        "\n",
        "if __name__ == \"__main__\":\n",
        "    ti=time.time()\n",
        "    T=True\n",
        "    F=False\n",
        "    inpf = \"/content/drive/My Drive/Pro1AdDS/chapter8_data/kakei.xlsx\"\n",
        "    oupdir = \"/content/drive/My Drive/Pro1AdDS/chapter8_data/kakei_cor_pic/\" #適宜置き換える\n",
        "    iT = 6  # iT=6: 日平均気温\n",
        "    printlog= F #条件にhitした都市の品目と気候データを逐次printするかどうか. (Fを推奨)\n",
        "    pthre= 0.90 ## corrplotを描く相関係数の絶対値のthreshold(下限)\n",
        "    pltmode = T ## T:plotする F:計算のみ (画像をいちいちplotして保存する必要がない場合Fを推奨)\n",
        "    year=\"2017\" \n",
        "\n",
        "    wb=ebook(inpf)\n",
        "    s_kakei,s_kikou=wb.indices()   \n",
        "    Vs_kakei=[]; Vs_kikou=[]\n",
        "    for i,ind_kakei in enumerate(s_kakei):\n",
        "        i_places,places, v_kakei,items = wb.readkakei(ind_kakei)\n",
        "        Tplaces, v_kikou, quantities  = wb.readkikou(s_kikou[i])\n",
        "        Vs_kakei += [ v_kakei ]\n",
        "        Vs_kikou += [ v_kikou ]\n",
        "    calcor(places,items,Vs_kakei,Tplaces,quantities,Vs_kikou)    \n",
        "\n",
        "    tf=time.time()\n",
        "    print(\"Elapced time[sec]:\", tf-ti)"
      ]
    },
    {
      "cell_type": "markdown",
      "metadata": {
        "id": "riw7f35TRWsD"
      },
      "source": [
        "## 電子ファイルのフォーマット\n",
        "\n",
        "プログラムでデータを機械的に読み出して活用することで、人間が到底出来ないような作業効率を実現することができる場合も多い。\n",
        "そんな光の側面ばかりなら良いが、実際にはそう上手くは行かないことも多い。\n",
        "\n",
        "業務のデジタル化・デジタルトランスフォーメーションなどといった標語とは裏腹に、世の中にあふれるcsv,スプレッドシートなどは、\n",
        "csvと謳っておいて、実際にはカンマ区切りではなくタブ区切りであったり、機械判読を全く想定していないデータの書き方・並べ方となっているものが多く、\n",
        "プログラムを書ける人にとっては苦痛な状況も多い。  \n",
        "\n",
        "総務省統計局は令和2年2月に、政府統計(e-Stat)に関して[統計表における機械判読可能なデータの表記方法の統一ルールの策定](https://www.soumu.go.jp/menu_news/s-news/01toukatsu01_02000186.html)というものを出している。\n",
        "これが最適な提案かはさておき、データの記述に法則性と機械判読性をもたせる意識を全員が持つことが重要なように思う。\n",
        "\n",
        "お掃除ロボットが床を綺麗にするためには、まずお掃除ロボットが走れるよう掃除する(床に物が散乱していない)という条件が求められる、という話だ(そうなの？)。"
      ]
    },
    {
      "cell_type": "markdown",
      "metadata": {
        "id": "jH_bE8PSMP89"
      },
      "source": [
        "## ファイルパスの指定\n",
        "\n",
        "ファイルがコンピュータ上でどこにあるかを指し示す文字列はファイルパス(パス, path)と呼ばれる。  \n",
        "```\"/content/drive/My Drive/XXX.png\"```もファイルパスの一例になっている。\n",
        "\n",
        "たとえば...  \n",
        ">[Sota]というユーザの[ドキュメント] (あるいは[書類])フォルダに  \n",
        "[csv_file]というフォルダがあり[test.csv]というcsvファイルが入っている\n",
        "\n",
        "とするとそのファイルを指し示すパスは  \n",
        "Windowsの場合→ ```C:\\Users\\Sota\\Douments\\csv_file\\test.csv```  \n",
        "macOSの場合→ ```/Users/Sota/Documents/csv_file/test.csv```\n",
        "となる。\n",
        "\n",
        "注:  \n",
        "* Windowsの場合→\"C\"の部分は皆さんのディスク環境に依存\n",
        "* Google Colab.環境では、Unix(Mac)やLinuxと同様の方式(スラッシュを使用)  \n",
        "* バックスラッシュ\\はWindowsの日本語環境では¥円記号で表示される  \n",
        "(プログラムなどを書く人には厄介な仕様だったりする)  \n",
        "\n",
        "コンピュータには、ホームディレクトリというものが指定されておりWindowsなら ```C:\\Users\\ユーザー名```,Macなら ```/Users/ユーザー名```に通常設定されていて、ユーザーがよく使うデスクトップや写真・ドキュメントなどのフォルダはホームディレクトリ直下に配置されている。また、ホームディレクトリは```~/```で簡略化して指定することもできる。\n",
        "OSにもよるが...ライトユーザーはホームディレクトリより上の階層を触らないことが推奨されている。理由は、システムファイルなどが入っているため。\n",
        "\n",
        "パスの指定の仕方にはその他にも方法があり、ピリオドやスラッシュを駆使して現在のディレクトリからの[相対パス]で指定する事もできる。たとえば...\n",
        "\n",
        "Home  \n",
        "├ Documents  \n",
        "│└─ AdDS2021  \n",
        "││   　└─ Report1  \n",
        "│└─ AdDS2020  \n",
        "││   　└─ Report1  \n",
        "││   　│　 └─ StudentA  \n",
        "││   　│　 └─ StudentB  \n",
        "││   　└─ Report2  \n",
        "│└─ AdDS2019  \n",
        "├ Picures  \n",
        "︙\n",
        "\n",
        "こういう階層構造になっていて、現在```Home/Documents/AdDS2020/Report1```という\n",
        "ディレクトリにいるとすると、そこから\n",
        "* StudentAへの相対パスは ```./StudentA```や```StudentA```\n",
        "* Report2への相対パスは ```../Report2```\n",
        "* AdDS2019への相対パスは ```../../AdDS2019```\n",
        "* Pictures内のhonyarara.jpgへの相対パスは```../../../Pictures/honyarara.jpg```\n",
        "\n",
        "といった感じ。前述のように愚直にReport1フォルダを指定するときは```/Users/Sota/Documents/AdDS2020/Report1```といった感じで、これを相対パスと対比させて絶対パスと呼んだりする。"
      ]
    },
    {
      "cell_type": "markdown",
      "metadata": {
        "id": "kkrEMQUfhqzA"
      },
      "source": [
        "### ファイル名に使用すべきでない文字\n",
        "\n",
        "授業で公開しているノートブックの名前は基本的に半角英数字とアンダースコアのみで構成されている。\n",
        "これは別に作成者(吉田)がイキってる訳ではない。\n",
        "\n",
        "* 半角スペース(以下␣という記号で表現する)\n",
        "* 各種括弧 (),{},[]\n",
        "* カンマ ,\n",
        "* ピリオド .\n",
        "* ハイフン -\n",
        "* スラッシュ /\n",
        "* エクスクラメーションマーク !\n",
        "* 円記号(バックスラッシュ) ¥\n",
        "* その他、機種依存文字などはもちろん、全角記号等\n",
        "\n",
        "などは、(プログラムで扱う予定がある)ファイルの名前には使用しないことが推奨される。その理由は色々あるが\n",
        "\n",
        "1. 機械の解釈にambiguity(あいまいさ)が生じる\n",
        "2. (1.により人間側の操作が増えて)面倒\n",
        "\n",
        "というところに尽きる。例を示そう。  \n",
        "Google Colab.上では冒頭に!を付けることで、以下に例を示すようなLinuxコマンドを実行できる。\n",
        "\n",
        "```!ls hogehoge.pdf``` #← lsコマンド　リスト(該当ファイル等)を表示  \n",
        "```!mkdir hogehoge``` #← make directoryコマンド  \n",
        "```!rm hogehoge``` #←remove(削除)コマンド  "
      ]
    },
    {
      "attachments": {},
      "cell_type": "markdown",
      "metadata": {
        "id": "i7-Lssixk1ig"
      },
      "source": [
        "たとえば半角スペースが入った```test␣.pdf```というファイルがあったとする。  \n",
        "これをlsコマンドで表示させようとして\n",
        "\n",
        "```\n",
        "!ls test .pdf\n",
        "```\n",
        "\n",
        "という命令を行うと、```test␣.pdf```という指定ではなく```test```と```.pdf```という2つのファイルが存在するかどうかを尋ねる命令になってしまう。  \n",
        "この場合、```test␣.pdf```の有無を調べたければ、別途バックスラッシュを入れて「記号としての空白です」と機械に教えなくてはならない。このことを、エスケープとかエスケープシーケンスなどと呼ぶ。\n",
        "```\n",
        "!ls test\\ .pdf\n",
        "```\n",
        "\n",
        "といった具合に、人間側の手間が必要になってしまう。 \n",
        "\n",
        "人間が目で見るフォルダ名と機械に与えるべきパスが異なるというのは、やはり色んな場面で不便が生じる。\n",
        "上記の記号や２バイト以上の文字はファイル(フォルダ)名に使わないのがコンピューターにとっては無難である。\n",
        "\n",
        "こういうことは小中高や大学でも理由付きで教えてくれなかったりするので、プログラミングをやって初めて気がつく(気にするようになった)という人も多いかもしれない。\n",
        "\n",
        "機械判読可能なデータの表記方法やファイル名の命名規則などは、プログラムを書く上での基本的な知識として覚えておくと良い。"
      ]
    }
  ],
  "metadata": {
    "colab": {
      "collapsed_sections": [],
      "include_colab_link": true,
      "name": "Python_chapter8_handling_files.ipynb",
      "provenance": []
    },
    "kernelspec": {
      "display_name": "Python 3.9.13 64-bit",
      "language": "python",
      "name": "python3"
    },
    "language_info": {
      "codemirror_mode": {
        "name": "ipython",
        "version": 3
      },
      "file_extension": ".py",
      "mimetype": "text/x-python",
      "name": "python",
      "nbconvert_exporter": "python",
      "pygments_lexer": "ipython3",
      "version": "3.10.14"
    },
    "vscode": {
      "interpreter": {
        "hash": "aee8b7b246df8f9039afb4144a1f6fd8d2ca17a180786b69acc140d282b71a49"
      }
    }
  },
  "nbformat": 4,
  "nbformat_minor": 0
}
