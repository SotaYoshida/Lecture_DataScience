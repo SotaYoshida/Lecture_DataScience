{
  "cells": [
    {
      "cell_type": "markdown",
      "metadata": {
        "colab_type": "text",
        "id": "view-in-github"
      },
      "source": [
        "<a href=\"https://colab.research.google.com/github/SotaYoshida/Lecture_DataScience/blob/main/notebooks/Python_chapter8_handling_files.ipynb\" target=\"_parent\"><img src=\"https://colab.research.google.com/assets/colab-badge.svg\" alt=\"Open In Colab\"/></a>"
      ]
    },
    {
      "cell_type": "markdown",
      "metadata": {
        "id": "JXf9XKfop6wz"
      },
      "source": [
        "# ファイル・文字列操作\n",
        "\n",
        "[この章の目的]\n",
        "text,csvやxlsx形式のデータをプログラムでサクッと扱えるようになる。"
      ]
    },
    {
      "cell_type": "markdown",
      "metadata": {
        "id": "LfaRUw0tp8wv"
      },
      "source": [
        "この章では、テキストファイルやcsvファイル(excelファイルはおまけ$\\clubsuit$)をPythonで操作する簡単な方法を学習します。  \n",
        "\n",
        "これまでの章では、データはリストとして既に与えられた状態から解析を行いましたが、実際にデータを扱う際は既に誰かが作成した何らかのファイルをプログラムで読み込んで操作する場合も多くあります。  \n",
        "この章の内容は、データ解析というよりは、Pythonでデータ解析をするための下準備に相当するかと思います。  \n",
        "\n",
        "愚直にコードを書いている事もあり少々泥臭い部分が多いですが、この章のような操作のエッセンスを抑えておけば、普通にやると膨大な時間がかかる様々な処理を高速化することができますので、頑張って学習しましょう。\n"
      ]
    },
    {
      "cell_type": "markdown",
      "metadata": {
        "id": "Y0pkvGuu6B4t"
      },
      "source": [
        "## 授業で使うファイルの準備\n",
        "\n",
        "予め以下のリンクをクリックして、ファイルをダウンロードし、  \n",
        "ご自身のGoogle Driveにアップロードしておいてください。\n",
        "\n",
        "* [test.txt](https://drive.google.com/file/d/1U2uvrN18713ylN4OQiI2fsfX5gudL45w/view?usp=sharing) (テキストファイル)\n",
        "\n",
        "* [python_handling_test.csv](https://drive.google.com/file/d/1bYJNWdtujcQWfSBAa1UeXi2ZzJRJktil/view?usp=sharing) (csv, カンマ区切りのテキストファイル)\n",
        "\n",
        "* [kakei.xlsx](https://drive.google.com/file/d/1gJMVHivmP7R9Qf4LdqRhdPVc3x0IzD8v/view?usp=sharing) (エクセルファイル)\n",
        "\n",
        "\n",
        "以下のコードをそのまま使いたいという方は、  \n",
        "マイドライブ直下にAdDSというフォルダを作り  \n",
        "さらにその中に```chapter5_data```というフォルダを作成し、  \n",
        "ファイルをいれてください。"
      ]
    },
    {
      "cell_type": "markdown",
      "metadata": {
        "id": "GT7Cl8yb8iL8"
      },
      "source": [
        "## テキストファイルの操作"
      ]
    },
    {
      "cell_type": "markdown",
      "metadata": {
        "id": "5LKmHodPF_n0"
      },
      "source": [
        "膨大な行のテキストファイルに対して、人間が手で操作をするというのは時として非現実的です。  \n",
        "\n",
        "誤変換を置換するくらいなら、どのテキスト/メモ帳アプリやwordでもできますが、全行(数千とか数万)に対して、決まった操作が必要な場合、プログラムにしてしまったほうが遥かに便利です。\n",
        "\n",
        "以下ではGoogle Driveのマイドライブの```AdDS```の下に作った```chapter5_data```というフォルダにファイルを保存したと仮定して話を進めますので、**適宜皆さんの場合に置き換えて使用してください**\n"
      ]
    },
    {
      "cell_type": "markdown",
      "metadata": {
        "id": "B6oBjOGQ8k1K"
      },
      "source": [
        "まずはgoogle driveに保存した```test.txt```という名前のファイルを読み込んでみましょう。  \n",
        "既に何回かやったようにgoogle driveをマウントします。\n",
        "\n",
        "\n"
      ]
    },
    {
      "cell_type": "code",
      "execution_count": null,
      "metadata": {
        "id": "oKJPB3hafCDd",
        "vscode": {
          "languageId": "python"
        }
      },
      "outputs": [],
      "source": [
        "from google.colab import drive\n",
        "drive.mount('/content/drive')"
      ]
    },
    {
      "cell_type": "code",
      "execution_count": null,
      "metadata": {
        "id": "Nx4kIQw48w7y",
        "vscode": {
          "languageId": "python"
        }
      },
      "outputs": [],
      "source": [
        "!ls /content/drive/MyDrive/AdDS/chapter5_data/*"
      ]
    },
    {
      "cell_type": "markdown",
      "metadata": {
        "id": "UCzT9lFC0x93"
      },
      "source": [
        "*はワイルドカード記号で、対象を任意とする命令に相当します。  \n",
        "*.拡張子 などとして使うのも便利です。"
      ]
    },
    {
      "cell_type": "code",
      "execution_count": null,
      "metadata": {
        "id": "Ayz1B8fz9wGb",
        "vscode": {
          "languageId": "python"
        }
      },
      "outputs": [],
      "source": [
        "!ls /content/drive/MyDrive/AdDS/chapter5_data/*txt "
      ]
    },
    {
      "cell_type": "markdown",
      "metadata": {
        "id": "uYhMU-Od-s4Z"
      },
      "source": [
        "とするとマイドライブ/AdDS/chapter5_data/にある`.txt`形式のファイル一覧を表示させることができます。  \n",
        "`test.txt`が見つかったでしょうか？(DriveにアップロードしてColabから読み込みできるまでに少し時間がかかる場合があります)\n",
        "\n",
        "**ファイルパスの概念に不慣れな方は、このノートの後半を参照してください**\n",
        "\n",
        "\n",
        "\n",
        "では次に、このファイルに書かれているテキストを取得してみましょう。  \n",
        "方法はいくつかありますが、最もポピュラーなものとして、ファイルを開いてテキストを取得する方式を採用します。"
      ]
    },
    {
      "cell_type": "markdown",
      "metadata": {
        "id": "YCF5xUQ_3r_3"
      },
      "source": [
        "### テキストファイルを開いて内容を読み出す"
      ]
    },
    {
      "cell_type": "code",
      "execution_count": null,
      "metadata": {
        "id": "4qbsm40WpqK1",
        "vscode": {
          "languageId": "python"
        }
      },
      "outputs": [],
      "source": [
        "filename = \"/content/drive/My Drive/AdDS/chapter5_data/test.txt\" \n",
        "inp = open(filename,\"r\") # \"r\"はread(読み出し)を意味するオプション\n",
        "lines = inp.readlines()\n",
        "inp.close()"
      ]
    },
    {
      "cell_type": "markdown",
      "metadata": {
        "id": "aZxGX1R4_QUN"
      },
      "source": [
        "1行目でファイル名(正確にはファイルのパス)を指定し```filename```という名前に格納しました。  \n",
        "\n",
        "2行目では、指定したパスにあるファイルを開いています。今はファイルに書き込むのではなく、既にあるファイルを開いて読み込むので`\"r\"`というオプションを指定します。他には`\"w\"`(書き出し,上書き), `\"a\"`(書き出し,追記)などがあります。新しく上書きでファイルを作成したい場合は`\"w\"`,すでにあるファイルの内容は消さずに追記したい場合は`\"a\"`を指定します。\n",
        "\n",
        "3行目では、`inp`(ファイルをopenしたオブジェクト)に対して、```readlines```という操作を適用しています。\n",
        "これは、ファイルに書かれているテキストを[全行に渡って]読み込む関数です。  \n",
        "\n"
      ]
    },
    {
      "cell_type": "code",
      "execution_count": null,
      "metadata": {
        "id": "TMHIZJPTAvd7",
        "vscode": {
          "languageId": "python"
        }
      },
      "outputs": [],
      "source": [
        "print(lines)"
      ]
    },
    {
      "cell_type": "markdown",
      "metadata": {
        "id": "QSbIzGcdAyWH"
      },
      "source": [
        "とすると、全ての行が読み込まれ、変数```lines```に格納されていることがわかります。  \n",
        "ここで```\\n```は改行記号を意味します。ループを回して一行ずつ表示させると"
      ]
    },
    {
      "cell_type": "code",
      "execution_count": null,
      "metadata": {
        "id": "dPfMZpjUA_ZQ",
        "vscode": {
          "languageId": "python"
        }
      },
      "outputs": [],
      "source": [
        "for line in lines:\n",
        "    print(line)"
      ]
    },
    {
      "cell_type": "markdown",
      "metadata": {
        "id": "KS1P7UYYBFX2"
      },
      "source": [
        "といった感じです(改行については後で説明します)。"
      ]
    },
    {
      "cell_type": "markdown",
      "metadata": {
        "id": "W4CNTbH5Avlf"
      },
      "source": [
        "必要な行番号が分かっている場合は、`nlines = lines[2:10]`などとして要らないところは捨てて解析・操作してもOKです。(リストのスライスについては2章を参照)\n",
        "\n",
        "次に、もう少し具体的なテキスト操作をしてみましょう。 \n",
        "まず、上の1行ずつ表示するコードでは、改行コードを明示的に含む文字列を一行ずつ表示したため、改めて`print`すると余分なスペースが空いてしまいました。(これは`print`関数がデフォルトで末尾に改行```\\n```を挿入するため、ファイルにある改行記号と合わさってしまうためです→[参考リンク](https://docs.python.org/ja/3/library/functions.html#print))\n",
        "\n"
      ]
    },
    {
      "cell_type": "markdown",
      "metadata": {
        "id": "olRZ5IDD3yuV"
      },
      "source": [
        "### strip関数\n",
        "\n",
        "たとえば```strip()```関数を使うと、文字列に含まれる空白,タブや改行コードを消去することができます。"
      ]
    },
    {
      "cell_type": "code",
      "execution_count": null,
      "metadata": {
        "id": "fWB00WIvzOlz",
        "vscode": {
          "languageId": "python"
        }
      },
      "outputs": [],
      "source": [
        "a = \"test character\\t\"\n",
        "b = \"test2 \\n\"\n",
        "print(\"a\", a, \"←タブが隠れている\")\n",
        "print(\"b\", b, \"←改行される\")\n",
        "### strip関数をもちいて...\n",
        "print(\"a.strip()\", a.strip(),\"b.strip()\",b.strip())"
      ]
    },
    {
      "cell_type": "code",
      "execution_count": null,
      "metadata": {
        "id": "bwCxUBMdBOb2",
        "vscode": {
          "languageId": "python"
        }
      },
      "outputs": [],
      "source": [
        "for line in lines:\n",
        "    print(line.strip())"
      ]
    },
    {
      "cell_type": "markdown",
      "metadata": {
        "id": "IpOm3O9rBlSH"
      },
      "source": [
        "文字列の右側に空白や改行コードが入っていることが明確な場合は、`strip`の代わりに`rstrip`を使ってもOKです(`rstrip`のrはrightの意味)。"
      ]
    },
    {
      "cell_type": "code",
      "execution_count": null,
      "metadata": {
        "id": "zVlMYYFtBnlD",
        "vscode": {
          "languageId": "python"
        }
      },
      "outputs": [],
      "source": [
        "for line in lines:\n",
        "    print(line.rstrip())"
      ]
    },
    {
      "cell_type": "markdown",
      "metadata": {
        "id": "E-iAh4w7BrbU"
      },
      "source": [
        "\n",
        "ファイルによってはインデントをするために左側にタブ```\\t```が含まれる場合もあります(PythonのコードをテキストとしてPythonから読むときなどがこれに該当)。そのような場合に左側にある空白やタブのみを取り除きたければ```lstrip()```を使って取り除くことができます。\n",
        "\n"
      ]
    },
    {
      "cell_type": "markdown",
      "metadata": {
        "id": "V1Uk2u1Z2haB"
      },
      "source": [
        "上のファイルの文字列で`#`記号を含む行以降だけが必要な場合はどうすればいいでしょうか？最も単純(？)な実装は"
      ]
    },
    {
      "cell_type": "code",
      "execution_count": null,
      "metadata": {
        "id": "o9ePmRrlCQV3",
        "vscode": {
          "languageId": "python"
        }
      },
      "outputs": [],
      "source": [
        "hit = 0 #\n",
        "for line in lines:\n",
        "    if \"###\" in line:\n",
        "        hit += 1 \n",
        "        continue\n",
        "    if hit == 0 :\n",
        "        continue #hitが0の状態では何もしない\n",
        "    print(line.rstrip())"
      ]
    },
    {
      "cell_type": "markdown",
      "metadata": {
        "id": "S4pLj4K-CQhm"
      },
      "source": [
        "といったところでしょうか。\n",
        "\n",
        "以下では、`###data`までの行が必要ないので必要なところまでを別のリストに格納してしまいましょう。\n",
        "\n"
      ]
    },
    {
      "cell_type": "code",
      "execution_count": null,
      "metadata": {
        "id": "eYsStscDDXDa",
        "vscode": {
          "languageId": "python"
        }
      },
      "outputs": [],
      "source": [
        "hit = 0 #\n",
        "nlines = []\n",
        "for line in lines:\n",
        "    if \"###\" in line:\n",
        "        hit += 1 \n",
        "        continue\n",
        "    if hit == 0 :\n",
        "        continue #hitが0の状態では何もしない\n",
        "    nlines += [line]\n",
        "print(nlines)"
      ]
    },
    {
      "cell_type": "markdown",
      "metadata": {
        "id": "p7_aA_O0p7tt"
      },
      "source": [
        "### split関数"
      ]
    },
    {
      "cell_type": "markdown",
      "metadata": {
        "id": "RDD1fCO3DNm6"
      },
      "source": [
        "また、1,2,3,4,5,6といったコンマやスペースで区切られたものをリストに格納したい場合には、```split```関数が便利です。`split`関数は引数に何も指定しなければ、スペースもしくはタブごとに文字列を区切ったリストを返します。"
      ]
    },
    {
      "cell_type": "code",
      "execution_count": null,
      "metadata": {
        "id": "1P4mcqMkCzbf",
        "vscode": {
          "languageId": "python"
        }
      },
      "outputs": [],
      "source": [
        "for line in nlines:\n",
        "    print(line.split())"
      ]
    },
    {
      "cell_type": "markdown",
      "metadata": {
        "id": "0QGZ-qxWDF6L"
      },
      "source": [
        "カンマがあるときはカンマで分割する、という約束を表現したければ"
      ]
    },
    {
      "cell_type": "code",
      "execution_count": null,
      "metadata": {
        "id": "R5Wk_P3gDJ2C",
        "vscode": {
          "languageId": "python"
        }
      },
      "outputs": [],
      "source": [
        "for line in nlines:\n",
        "    if \",\" in line :\n",
        "        print(line.rstrip().split(\",\"))\n",
        "    else :\n",
        "        print(line.rstrip().split())"
      ]
    },
    {
      "cell_type": "markdown",
      "metadata": {
        "id": "QaOMvxGUDx7g"
      },
      "source": [
        "などとすることができます。たとえばこれを利用すれば、\n",
        "空のリストにファイルから読んだ要素を詰めていくといった操作が実現できます。\n"
      ]
    },
    {
      "cell_type": "code",
      "execution_count": null,
      "metadata": {
        "id": "ocRjQCaGEF07",
        "vscode": {
          "languageId": "python"
        }
      },
      "outputs": [],
      "source": [
        "nums = [] #数字のリストなのでnumsとした\n",
        "profs = [] #プロフィールのリストなのでprofsとした\n",
        "\n",
        "for line in nlines:\n",
        "    if \",\" in line :\n",
        "        nums += [ line.rstrip().split(\",\") ]\n",
        "    else :\n",
        "        profs += [ line.rstrip().split()]\n",
        "print(\"nums\", nums)\n",
        "print(\"profs\", profs)"
      ]
    },
    {
      "cell_type": "markdown",
      "metadata": {
        "id": "pu5-guZDEcIo"
      },
      "source": [
        "上の`nums`の様に、予め全ての要素が整数だと分かっていて、整数に対する演算(四則演算など)を後でするのなら、`str`(文字列)型ではなく`int`型にしておくほうが良いでしょう。"
      ]
    },
    {
      "cell_type": "code",
      "execution_count": null,
      "metadata": {
        "id": "J85gGgidEq6j",
        "vscode": {
          "languageId": "python"
        }
      },
      "outputs": [],
      "source": [
        "##リスト内包表記を使った実装\n",
        "nums = []\n",
        "for line in nlines:\n",
        "    if \",\" in line : \n",
        "        tl =  line.rstrip().split(\",\")\n",
        "        nums += [ [ int(tmp) for tmp in tl] ]\n",
        "print(nums)\n",
        "\n",
        "## map関数を使った実装\n",
        "nums = []\n",
        "for line in nlines:\n",
        "    if \",\" in line : \n",
        "        nums += [ list(map(int, line.rstrip().split(\",\") )) ]\n",
        "print(nums)"
      ]
    },
    {
      "cell_type": "markdown",
      "metadata": {
        "id": "ageWDCqlpxPy"
      },
      "source": [
        "### replace関数"
      ]
    },
    {
      "cell_type": "markdown",
      "metadata": {
        "id": "-ppyblOIq8PL"
      },
      "source": [
        "`replace`関数で文字の置換が可能です"
      ]
    },
    {
      "cell_type": "code",
      "execution_count": null,
      "metadata": {
        "id": "B78Kb1QKqA5P",
        "vscode": {
          "languageId": "python"
        }
      },
      "outputs": [],
      "source": [
        "text = \"abcdあいうえお\"\n",
        "text = text.replace(\"abcd\", \"1234\")\n",
        "print(\"置換や→\",text)\n",
        "print(\"除去にも→\", text.replace(\"4\", \"\"))"
      ]
    },
    {
      "cell_type": "markdown",
      "metadata": {
        "id": "JHXIca-kE39k"
      },
      "source": [
        "### $\\clubsuit$ map関数\n",
        "\n",
        "`map`関数は`map(操作,対象)`という風に使って、対象の各要素に対して一括で操作を適用することができます。\n",
        "今の場合、`['1', ' 2', ' 3', ' 4', ' 5', ' 6']`などの文字列のリストに対して、整数型に変換する```int```関数を作用させるという操作を一度に行います。\n",
        "\n",
        ">注: `map`関数の返り値はmap objectと呼ばれるものなので、元のようなリストの形で使いたい場合は```list()```を使ってリストに変換するステップが必要です。\n",
        "\n",
        "世の中には、アンケート結果や産業データなどがcsv(カンマ区切りのテキスト)ファイルで公開されている場合が多いですが、その場合は**上で説明したような手順でリストなどに格納すれば今まで行ったような解析やグラフ描画が実行できる**といったわけです。"
      ]
    },
    {
      "cell_type": "markdown",
      "metadata": {
        "id": "7Zteg1NaYXuR"
      },
      "source": [
        "### テキストファイルの書き出し"
      ]
    },
    {
      "cell_type": "markdown",
      "metadata": {
        "id": "d1feYXb-4J-s"
      },
      "source": [
        "次に、テキストファイルを書き込んで保存してみます。  \n",
        "上の文字列で、敬称を\"さん\"から\"様\"に置換したテキストを作成して、それを別ファイルとして保存してみましょう。\n"
      ]
    },
    {
      "cell_type": "code",
      "execution_count": null,
      "metadata": {
        "id": "J1fOkXTcYuQm",
        "vscode": {
          "languageId": "python"
        }
      },
      "outputs": [],
      "source": [
        "filename = \"/content/drive/My Drive/AdDS/chapter5_data/test_replace.txt\" \n",
        "oup = open(filename,\"w\")  ## oup は\"output\"の気持ち...\n",
        "for line in lines:\n",
        "    print(line.rstrip().replace(\"さん\",\"様\"), file=oup) # file=[openしたファイル]にすることで、printする先をファイルに指定できます。\n",
        "oup.close() #ファイルはきちんと閉じる."
      ]
    },
    {
      "cell_type": "markdown",
      "metadata": {
        "id": "BhsUEsIh6tC6"
      },
      "source": [
        "Google Driveで、作成されたファイルをチェックしてみましょう。\n",
        "\n",
        "なお、filenameに元ファイルと同じものを指定すると```open(filename,\"w\")```を実行した時点で、ファイルが上書きされて空ファイルになるので注意しましょう。"
      ]
    },
    {
      "cell_type": "markdown",
      "metadata": {
        "id": "navysabZ4enm"
      },
      "source": [
        "今の例ではもちろん、手で置き換えたりするほうが遥かに速いですがこうしたPythonによるファイル操作を覚えておくと\n",
        "\n",
        "* ファイル自体が大量にあり、同じ操作を繰り返す場合\n",
        "* 単一のテキストファイルに大量の行に渡って情報がある場合\n",
        "\n",
        "など、手作業が非現実的な様々な状況でも、楽ちんに作業を終わらせることができる(かもしれません)。\n",
        "\n",
        "上の内容や、これまでに学習したループ処理を駆使すると、数万人のデータが1行ずつ記載されたテキストファイルから条件にヒットする人の情報だけを抽出して小さなファイルにまとめるといったことも可能です。\n",
        "\n",
        "**プログラミングを用いたファイル操作をする発想があるかどうか**がきっとこの先、皆さんの生き方や働き方に大きな影響を与えると私は考えています。\n",
        "\n",
        "> **文字コードに関連した余談**  \n",
        "Windows環境で作成されたテキストファイルを扱う際は読み込みで、文字コードによるエラーが出るかもしれない。最近ではメモ帳でもUTF-8(世界標準)を採用しているよう(→[MicrosoftのWindows blogの記事](https://blogs.windows.com/japan/2020/02/20/about-windows-and-japanese-text/))だが、古いテキストファイルだとShift-JISになっているかも。そういうときは、```open(file, \"r\", encoding = \"shift_jis\")```など、ファイルを開くときにencodingを明示的に指定する必要がある。明示的にUTF-8で保存したいときは```open(file, \"w\", encoding = \"utf-8\")```などとする。  \n",
        "参考: [公式ドキュメント](https://docs.python.org/ja/3/howto/unicode.html#reading-and-writing-unicode-data)  \n",
        "ここまで勉強してきた皆さんには「そんなの、パソコンに存在するShift-JISで書かれたテキストファイルを全てUTF-8に変換するPythonスクリプト書けばいいんじゃね？」という発想があることを期待しています。\n"
      ]
    },
    {
      "cell_type": "markdown",
      "metadata": {
        "id": "J5sIptAmd1ni"
      },
      "source": [
        "## csv,エクセルファイルの操作"
      ]
    },
    {
      "cell_type": "markdown",
      "metadata": {
        "id": "ovU-6Bd-D9e1"
      },
      "source": [
        "### アンケート分析\n",
        "\n",
        "冒頭の二番目のファイル[python_handling_test.csv](https://drive.google.com/file/d/1bYJNWdtujcQWfSBAa1UeXi2ZzJRJktil/view?usp=sharing)はあるアンケート結果をまとめたファイルになっています。\n",
        "\n",
        "これは、Google フォームで作成したアンケート[(リンクはこちら)](https://docs.google.com/forms/d/1XU5yEoLzd-Jvcba7GaHhMGAZDzDd_Cpl0Jylvullc28/edit?usp=sharing)で、国数英社理(中学の５科目)に対する得意/苦手意識の調査を想定した疑似アンケートです。\n",
        "\n",
        "このようなアンケート調査は事務作業や卒業研究などで頻繁に見られ、会社や大学など所属コミュニティで何らかの意思決定に用いられることも多いことでしょう。こうしたアンケート分析を行っていると、\n",
        "*   各回答項目同士の関係が知りたい\n",
        "*   明示的な項目以外の情報も抽出したい\n",
        "\n",
        "といった要望が出てきます。今の場合でいうと、\n",
        "* 各科目ごとの得意・苦手意識の相関を調べたい\n",
        "* 夜中(あるいは日中)にアンケートを回答した夜型(昼型)の人に見られる特徴がなにかないか？\n",
        "\n",
        "といったイメージです。そんなとき、\n",
        "\n",
        "> 国語が得意(どちらかというと得意)と回答した方に質問です。  \n",
        "英語についてはどうでしょうか？\n",
        "\n",
        "などと新たに設問を増やしてアンケートをやり直すというのは得策では有りません。Pythonを使って、すでに得られた情報からさらなる情報を引き出すことを考えてみましょう。まずは、csvファイルに記載された情報を整理してプログラムで扱いやすくすることを考えます。\n",
        "\n",
        "> 余談: このcsvファイルをExcelで開こうとするとお使いの環境によって文字化けを起こすかと思います。これはgoogleフォームで作成されたcsvファイルの文字コードが世界標準のutf-8を使用しているのに対し、ExcelがShift-JISという時代遅れな文字コードでcsvファイルを開こうとするためです。Googleのスプレッドシートや、Mac標準のNumbersで開くと文字化けしません。\n",
        "\n",
        "> 2000件の回答は、もちろん私が手作業で入力したわけでも誰かに協力してもらったわけでもなく、一定のルール(傾向)を勝手に設定した上でランダムに回答を作成しフォームから自動回答するPythonスクリプトを書きました。  \n",
        "時間に余裕があれば、こうしたWeb操作を自動化する方法も授業で扱います。 c.f. ブラウザ操作, Webスクレイピング"
      ]
    },
    {
      "cell_type": "code",
      "execution_count": null,
      "metadata": {
        "id": "zF6wdCGff4qd",
        "vscode": {
          "languageId": "python"
        }
      },
      "outputs": [],
      "source": [
        "filename = \"/content/drive/My Drive/AdDS2021/chapter5_data/python_handling_test.csv\" #読み込むファイルのパスの指定"
      ]
    },
    {
      "cell_type": "markdown",
      "metadata": {
        "id": "vq3T9r6wgBmg"
      },
      "source": [
        "とりあえずファイルの中身を数行表示してみる。\n",
        "\n",
        "csvファイル(コンマ区切りのテキスト)なので、テキストファイルと同じ方法をとる(他の方法ももちろんある)"
      ]
    },
    {
      "cell_type": "code",
      "execution_count": null,
      "metadata": {
        "id": "4yG6dZUngpnA",
        "vscode": {
          "languageId": "python"
        }
      },
      "outputs": [],
      "source": [
        "inp=open(filename,\"r\")\n",
        "csv_lines=inp.readlines() \n",
        "inp.close()\n",
        "print(\"行数は\",len(csv_lines))\n",
        "for i in range(5):\n",
        "    print(csv_lines[i].rstrip())"
      ]
    },
    {
      "cell_type": "markdown",
      "metadata": {
        "id": "mfdbVE1Bhrhi"
      },
      "source": [
        "ちなみに...```pandas```ライブラリを使うとcsvをサクッと読み込むことができる"
      ]
    },
    {
      "cell_type": "code",
      "execution_count": null,
      "metadata": {
        "id": "fgDQrP-1hA0D",
        "vscode": {
          "languageId": "python"
        }
      },
      "outputs": [],
      "source": [
        "import pandas as pd \n",
        "df = pd.read_csv(filename)\n",
        "print(df)"
      ]
    },
    {
      "cell_type": "markdown",
      "metadata": {
        "id": "bMWTdHs9ilWM"
      },
      "source": [
        "さて、```csv_lines```に格納したデータをもう少し扱いやすいように変更しよう。  \n",
        "最初の0行目はどういうデータが入っているか(データの項目)を表している。  \n",
        "1-2000行目には2000人分の回答が詰まっている。  \n",
        "\n",
        "これによると、  \n",
        "> 0列目: 回答した時刻  \n",
        "> 1列目: 性別  \n",
        "> 2列目: 国語  \n",
        "> 3列目: 数学  \n",
        "> 4列目: 英語  \n",
        "> 5列目: 社会  \n",
        "> 6列目: 理科  \n",
        "\n",
        "らしい。いろいろなデータの整理方法があると思うがここでは、\n",
        "* 処理A 0列目の時刻を24時間表記にして表示する  \n",
        "* 処理B 2-6列目の各科目の得意・苦手意識を、文字列を除去して数値[-2,-1,0,1,2]として扱う\n",
        "\n",
        "をまずやってみよう。\n",
        "\n",
        "\n",
        "\n",
        "\n"
      ]
    },
    {
      "cell_type": "code",
      "execution_count": null,
      "metadata": {
        "id": "Kso8FZs6nQa0",
        "vscode": {
          "languageId": "python"
        }
      },
      "outputs": [],
      "source": [
        "#処理Aのための関数\n",
        "#input_strが、\"年月日 時刻(h:m:s) 午前/午後 GMT+9\" という文字列である、という文字列の[構造]を知った上での実装になっていることに注意\n",
        "def make_time_24h(input_str):        \n",
        "    time  = input_str.split()[1]\n",
        "    AMPM = input_str.split()[2]\n",
        "    hms = time.split(\":\")\n",
        "    h = int(hms[0])\n",
        "    if AMPM == \"午前\":\n",
        "        output_str = time \n",
        "    else :\n",
        "        if h != 12:\n",
        "            output_str = str(h +12)+\":\"+hms[1]+\":\"+hms[2]\n",
        "        else:\n",
        "            output_str = str(h)+\":\"+hms[1]+\":\"+hms[2] # 12時xx分だけは別の取り扱いが必要\n",
        "    return output_str\n",
        "\n",
        "nlines=[] #整理したものをリストとしてまとめるための空のリスト\n",
        "for nth,line in enumerate(csv_lines[1:]): \n",
        "    nline = line.rstrip().replace('\"','').split(\",\") # 改行文字の除去、ダブルクォーテーションの除去, カンマで分割    \n",
        "    # この時点でnlineは0:時刻 1:性別, ...のリストとなっているはず print()でcheckしてみよう\n",
        "    # 処理A)\n",
        "    time = make_time_24h(nline[0])\n",
        "    #print(\"nline[0]\", nline[0], \"time\", time)\n",
        "    M_or_F = nline[1] #性別\n",
        "\n",
        "    #　処理B)\n",
        "    points = [ int(nline[k].split()[0]) for k in range(2,7)] #各科目の値だけのリスト(points)を作成\n",
        "    # 上記をmap関数にしてみよう。\n",
        "\n",
        "    nline = [time, M_or_F]+points  #リストを連結(時刻,性別と各科目の値を同じ階層で結合)して、nlineという名前で上書き\n",
        "    nlines += [ nline ]\n",
        "\n",
        "    # うまく編集できたか400行おきほどでprintしてチェックしてみる\n",
        "    if nth % 400 == 0 :\n",
        "        print(\"編集前\", line.rstrip())\n",
        "        print(\"編集後\", nline)\n",
        "        print(\"\")"
      ]
    },
    {
      "cell_type": "markdown",
      "metadata": {
        "id": "VVxC-_FanOp2"
      },
      "source": [
        "最後に、各項目の得点を適当なリスト(あるいはnp.array)に整形しておけば、種々の分析を行うことができます。\n",
        "\n"
      ]
    },
    {
      "cell_type": "code",
      "execution_count": null,
      "metadata": {
        "id": "38OyKcL4DVtR",
        "vscode": {
          "languageId": "python"
        }
      },
      "outputs": [],
      "source": [
        "import numpy as np\n",
        "points = [ [] for i in range(5)]\n",
        "for tmp in nlines:\n",
        "    for i in range(5):\n",
        "        points[i]+=[tmp[2+i]]\n",
        "print(\"points\", np.array(points))\n",
        "print(\"各科目の平均スコア:\", [np.mean(points[i]) for i in range(5)])"
      ]
    },
    {
      "cell_type": "markdown",
      "metadata": {
        "id": "gplM2Js9DWwP"
      },
      "source": [
        "相関分析は以降の章で扱うので具体例は省略します。\n"
      ]
    },
    {
      "cell_type": "markdown",
      "metadata": {
        "id": "2_SWNlqrhMLY"
      },
      "source": [
        "## $\\clubsuit$ 複雑なエクセルファイルの操作\n",
        "\n",
        "```kakei.xlsx```はエクセルファイルで以降では、2020年度前期のデータサイエンス入門(一部学科を除く)の  \n",
        "相関分析で使用されたエクセルファイル、[kakei.xlsx](https://drive.google.com/file/d/1gJMVHivmP7R9Qf4LdqRhdPVc3x0IzD8v/view?usp=sharing)を使用します。  \n",
        "\n",
        "\n",
        "以下では、google driveのマイドライブ直下のAdDSというフォルダにファイルを置いたと思って処理を行いますので、適宜ご自身の環境に置き換えてください。\n",
        "\n",
        "※もともとはxlrdというライブラリを使って実装していましたが.xlsx形式をサポートしなくなるとのことで、pandasライブラリを用いた実装に変更しました。"
      ]
    },
    {
      "cell_type": "code",
      "execution_count": null,
      "metadata": {
        "id": "FXWuDrYahMXf",
        "vscode": {
          "languageId": "python"
        }
      },
      "outputs": [],
      "source": [
        "filename = \"/content/drive/My Drive/AdDS/chapter5_data/kakei.xlsx\" #読み込むファイルのパスの指定"
      ]
    },
    {
      "cell_type": "markdown",
      "metadata": {
        "id": "CcnorJJvmAR6"
      },
      "source": [
        "まずはxlsxファイルをPythonで読み込んで、どんな\"シート\"があるのかを確認してみましょう。"
      ]
    },
    {
      "cell_type": "code",
      "execution_count": null,
      "metadata": {
        "id": "vsLXQKlG8WYL",
        "vscode": {
          "languageId": "python"
        }
      },
      "outputs": [],
      "source": [
        "import pandas as pd\n",
        "input_file = pd.ExcelFile(filename)\n",
        "sheet_names = input_file.sheet_names\n",
        "print(\"pandas: シート名\",sheet_names)"
      ]
    },
    {
      "cell_type": "markdown",
      "metadata": {
        "id": "SRyFwkbDqGjP"
      },
      "source": [
        "たくさんシートがあることが分かります。 \n"
      ]
    },
    {
      "cell_type": "markdown",
      "metadata": {
        "id": "X1HOxhl6edOF"
      },
      "source": [
        "Sheet1の中身をのぞいてみましょう。まずは行と列の数を取得してみます。"
      ]
    },
    {
      "cell_type": "code",
      "execution_count": null,
      "metadata": {
        "id": "0YivHM_Yed3Y",
        "vscode": {
          "languageId": "python"
        }
      },
      "outputs": [],
      "source": [
        "Sheet1 = pd.read_excel(filename, sheet_name=\"Sheet1\")\n",
        "print(\"行,列の数\", Sheet1.shape)"
      ]
    },
    {
      "cell_type": "markdown",
      "metadata": {
        "id": "X5mDZqBWgXSD"
      },
      "source": [
        "0-5番目の行にはどんな値がセルに入っているのかな...と思ったら"
      ]
    },
    {
      "cell_type": "code",
      "execution_count": null,
      "metadata": {
        "id": "nu6LskLOf7zz",
        "vscode": {
          "languageId": "python"
        }
      },
      "outputs": [],
      "source": [
        "for i in range(5):\n",
        "    print( list(Sheet1.iloc[i]) )"
      ]
    },
    {
      "cell_type": "markdown",
      "metadata": {
        "id": "xkzCNbhDpbOT"
      },
      "source": [
        "などとする。このように、エクセルシートの\"構造\"を知ることが、やりたい操作を系統的に実行するための第一歩です。\n",
        "このエクセルを実際に開くとSheet1からSheet12までが複数都市の家計調査のデータで、S1からS12までが気候データになっていて、1-12までの数字が2017年の1月から12月までに対応していることが分かります。\n",
        "\n",
        "実際のデータを触っていると「2006年までとそれ以降とでデータファイル(.xlsx)の\"構造\"が違う」  \n",
        "といったことも出てきます。最初は特定のものに合わせたコードを作り、徐々に\"汎用性の高い\"コードにしていくのがよいでしょう。\n",
        "\n",
        "このエクセルを使って実際に作業をするには、[細かいライブラリの使い方]などを説明することになるため   \n",
        "授業ではやらず、以下の\"おまけ\"にいれておきます。この作業や実践DSに限らず\n",
        "* 自分がやりたい操作をきちんと言語化する\n",
        "* 公式ドキュメントやWebから情報を探す\n",
        "* とにかく試してみる\n",
        "\n",
        "という意識が重要です。\n"
      ]
    },
    {
      "cell_type": "markdown",
      "metadata": {
        "id": "av5JlFQiKLst"
      },
      "source": [
        "### $\\clubsuit$おまけ"
      ]
    },
    {
      "cell_type": "markdown",
      "metadata": {
        "id": "HJJ1Rd9XkITb"
      },
      "source": [
        "以下のコードは、プログラミングの\"ありがたみ\"を感じてもらうためのお試し用です。   \n",
        "かなり読みにくいコードなのであまり真剣に読まないでください.\n",
        "\n",
        "**大量の画像ファイルをドライブに生成するので、以下を読んだ上で実行してください**\n",
        "\n",
        "以下のコードたちを何もいじらずに実行すると、  \n",
        "全都市の月別平均気温と全品目の世帯平均支出のうち、  \n",
        "相関係数の絶対値が0.9以上のもの(291通り)をプロットして画像として保存します。  \n",
        "```pthre```の値を小さくすると、生成される画像の数がとんでもなく増えるのでやらないでください。\n",
        "(0.9 →  291通り, 0.8 → 1234通り, 0.7 → 2871通り,  \n",
        " 0.6 → 5233通り, 0.5 → 8375通り, 0.0 → 32876通り)\n",
        "\n",
        "Google Colab上で実行して291枚の画像が生成されるまでに110秒程度かかりました(私の手元のPCでは通信がない分か、数十秒くらい)\n",
        "\n",
        "この時間未満でエクセルで操作をして同様の処理を完了出来るという方は...おそらく地球上にいないでしょう(要出典)\n",
        "\n"
      ]
    },
    {
      "cell_type": "code",
      "execution_count": null,
      "metadata": {
        "id": "ALOn2XR5lfT-",
        "vscode": {
          "languageId": "python"
        }
      },
      "outputs": [],
      "source": [
        "# 画像がいっぱい生成されると面倒なので画像を保存するフォルダを作成しておく\n",
        "!mkdir /content/drive/MyDrive/AdDS/chapter5_data/kakei_cor_pic "
      ]
    },
    {
      "cell_type": "code",
      "execution_count": null,
      "metadata": {
        "id": "dsPxfNhrr5e2",
        "vscode": {
          "languageId": "python"
        }
      },
      "outputs": [],
      "source": [
        "!pip install japanize_matplotlib "
      ]
    },
    {
      "cell_type": "code",
      "execution_count": null,
      "metadata": {
        "id": "rZHYbCjWmXgG",
        "vscode": {
          "languageId": "python"
        }
      },
      "outputs": [],
      "source": [
        "## ※xlrdを使用しているので将来的に動かない可能性アリ\n",
        "import xlrd\n",
        "import numpy as np\n",
        "import pandas as pd\n",
        "from matplotlib import pyplot as plt\n",
        "import japanize_matplotlib\n",
        "import time\n",
        "\n",
        "class ebook:\n",
        "    def __init__(self,inpf):\n",
        "        self.inpf = inpf\n",
        "        self.wb = xlrd.open_workbook(inpf)\n",
        "        self.sheets = self.wb.sheets\n",
        "        self.ns,self.sname = self.wb.nsheets, self.wb.sheet_names()\n",
        "        s_kikou=[]; s_kakei=[]\n",
        "        for i, sheetname in enumerate(self.sname):\n",
        "            if \"Sheet\" in sheetname :\n",
        "                s_kakei += [ i ]\n",
        "            elif \"S\" in sheetname :\n",
        "                s_kikou += [ i ]\n",
        "        self.s_kakei,self.s_kikou = s_kakei,s_kikou\n",
        "    def indices(self):\n",
        "        return self.s_kakei, self.s_kikou\n",
        "    def readkakei(self,ikakei) :\n",
        "        ws = self.wb.sheet_by_index(ikakei)\n",
        "        nr = ws.nrows; nc=ws.ncols\n",
        "        premode = True\n",
        "        items = []\n",
        "        for ii in range(nr): \n",
        "            trow = ws.row_values(ii)\n",
        "            hit = 0\n",
        "            if premode == True:\n",
        "                for jj,tmp in enumerate(trow):\n",
        "                    try :\n",
        "                        if \"市\" in tmp:\n",
        "                            hit += 1\n",
        "                    except:\n",
        "                        hit = hit\n",
        "                if hit > 5:\n",
        "                    premode=False\n",
        "                    i_kakei=[];p_kakei=[]\n",
        "                    for jj,tmp in enumerate(trow):\n",
        "                        if \"市\" in tmp:\n",
        "                            i_kakei += [jj]\n",
        "                            p_kakei +=[ tmp ] \n",
        "                    v_kakei = [ ]\n",
        "            else:                    \n",
        "                if ii >= 22:\n",
        "                    if type(trow[8]) is str and trow[8] != \"\":\n",
        "                        v_kakei += [ [trow[jj+1] for jj in i_kakei] ]\n",
        "                        items += [trow[8]]                         \n",
        "        return i_kakei, p_kakei, v_kakei,items\n",
        "    def readkikou(self,ikikou):\n",
        "        ws = self.wb.sheet_by_index(ikikou)\n",
        "        nr = ws.nrows; nc=ws.ncols\n",
        "        quantities = [];v_kikou=[]\n",
        "        premode=True\n",
        "        for ii in range(nr): \n",
        "            trow = ws.row_values(ii)\n",
        "            if premode :\n",
        "                if any([\"市\" in tmp for tmp in trow]):\n",
        "                    Tplaces = trow[1:]\n",
        "                    premode=False\n",
        "            else:\n",
        "                quantities += [ trow[0] ]\n",
        "                v_kikou += [ trow[1:] ]\n",
        "        return Tplaces, v_kikou,quantities\n",
        "\n",
        "def seasoncolor(month):\n",
        "    if month <= 2 or month ==12:\n",
        "        return \"blue\"\n",
        "    elif 3 <= month <=5:\n",
        "        return \"green\"\n",
        "    elif 6 <= month <=8:\n",
        "        return \"red\"\n",
        "    elif 9<= month <=11:\n",
        "        return \"orange\"\n",
        "    return tcol\n",
        "\n",
        "def plot_cor(x,y,item,quantity,place,corrcoef):    \n",
        "    fig = plt.figure(figsize=(4,4))\n",
        "    ax = fig.add_subplot(1,1,1)\n",
        "    ax.set_facecolor(\"#e0e0e0\")\n",
        "    ax.set_title(place+\"   r=\"+str(\"%8.2f\" % corrcoef).strip())\n",
        "    ax.set_xlabel(item);ax.set_ylabel(quantity)\n",
        "    ax.grid(True,axis=\"both\",color=\"w\", linestyle=\"dotted\", linewidth=0.8)\n",
        "    for i in range(len(x)):\n",
        "        tcol=seasoncolor(i+1)\n",
        "        ax.scatter(x[i],y[i],marker=\"o\",s=5,color=tcol,zorder=20000,alpha=0.7)\n",
        "        ax.text(x[i],y[i],str(i+1)+\"月\",color=\"k\",fontsize=8)\n",
        "    plt.savefig(oupdir + \"corr_\"+item+\"vs\"+quantity+\"_at_\"+place+\".png\",dpi=300) \n",
        "    plt.close()\n",
        "\n",
        "def calcor(date,places,items, Vs_kakei,Tplaces,quantities,Vs_kikou):\n",
        "    hit = 0; num_pic=0\n",
        "    Vs = [] \n",
        "    for j_K,place in enumerate(places):\n",
        "        for j_T, Tplace in enumerate(Tplaces):\n",
        "            if place != Tplace :\n",
        "                continue\n",
        "            for ik,item in enumerate(items):\n",
        "                kvalue = np.array([ Vs_kakei[i][ik][j_K] for i in range(len(Vs_kakei))])\n",
        "                quantity=quantities[iT]\n",
        "                Tvalue = np.array([ Vs_kikou[i][iT][j_T] for i in range(len(Vs_kikou))])\n",
        "                if all(Tvalue) == 0.0: ## missing value in climate data\n",
        "                    continue\n",
        "                if printlog:\n",
        "                    print(\"@\", place,\" \",item,kvalue,\" VS \",quantity, \",\",Tvalue)\n",
        "                corrcoef=np.corrcoef(kvalue,Tvalue)[0][1]\n",
        "                Vs += [ [ corrcoef, item, quantity, place] ]\n",
        "                if abs(corrcoef) > pthre:\n",
        "                    hit += 1\n",
        "                    if pltmode==True:\n",
        "                        plot_cor(kvalue,Tvalue,item,quantity,place,corrcoef)                       \n",
        "                        num_pic += 1\n",
        "    print(\"hit:\",hit, \" number of picture\", num_pic)\n",
        "\n",
        "if __name__ == \"__main__\":\n",
        "    ti=time.time()\n",
        "    T=True; F=False\n",
        "\n",
        "    inpf = \"/content/drive/My Drive/AdDS2021/chapter5_data/kakei.xlsx\"\n",
        "    oupdir = \"/content/drive/My Drive/AdDS2021/chapter5_data/kakei_cor_pic/\" #適宜置き換える\n",
        "    iT = 6  # iT=6: 日平均気温\n",
        "    printlog= F #条件にhitした都市の品目と気候データを逐次printするかどうか. (Fを推奨)\n",
        "    pthre= 0.90 ## corrplotを描く相関係数のthreshold \n",
        "    pltmode = T ## T:plotする F:計算のみ ** 画像をいちいちplotして保存する必要がない場合Fを推奨\n",
        "    year=\"2017\" \n",
        "\n",
        "    wb=ebook(inpf)\n",
        "    s_kakei,s_kikou=wb.indices()   \n",
        "    Vs_kakei=[]; Vs_kikou=[];dates=[]\n",
        "    for i,ind_kakei in enumerate(s_kakei):\n",
        "        i_places,places, v_kakei,items = wb.readkakei(ind_kakei)\n",
        "        Tplaces, v_kikou, quantities  = wb.readkikou(s_kikou[i])\n",
        "        if i+1 < 10:\n",
        "            date=year+\"0\"+str(i+1)\n",
        "        else:\n",
        "            date=year+str(i+1)\n",
        "        dates += [date]\n",
        "        Vs_kakei += [ v_kakei ]\n",
        "        Vs_kikou += [ v_kikou ]\n",
        "    calcor(dates,places,items,Vs_kakei,Tplaces,quantities,Vs_kikou)    \n",
        "\n",
        "    tf=time.time()\n",
        "    print(\"Elapced time[sec]:\", tf-ti)"
      ]
    },
    {
      "cell_type": "markdown",
      "metadata": {
        "id": "jH_bE8PSMP89"
      },
      "source": [
        "## パスの指定\n",
        "\n",
        "ファイルがコンピュータ上でどこにあるかを指し示す文字列はファイルパス(path)と呼ばれる。  \n",
        "```\"/content/drive/My Drive/XXX.png\"```もファイルパスの一例になっている。\n",
        "\n",
        "たとえば...  \n",
        ">[Sota]というユーザの[ドキュメント] (あるいは[書類])フォルダに  \n",
        "[csv_file]というフォルダがあり[test.csv]というcsvファイルが入っている\n",
        "\n",
        "とするとそのファイルを指し示すパスは  \n",
        "Windowsの場合→ ```C:\\Users\\Sota\\Douments\\csv_file\\test.csv```  \n",
        "macOSの場合→ ```/Users/Sota/Documents/csv_file/test.csv```\n",
        "となる。\n",
        "\n",
        "注:  \n",
        "* Windowsの場合→\"C\"の部分は皆さんのディスク環境に依存\n",
        "* Google Colab.環境では、Unix(Mac)やLinuxと同様の方式(スラッシュを使用)  \n",
        "* バックスラッシュ\\はWindowsの日本語環境では¥円記号で表示される  \n",
        "(プログラムなどを書く人には厄介な仕様だったりする)  \n",
        "\n",
        "コンピュータには、ホームディレクトリというものが指定されておりWindowsなら ```C:\\Users\\ユーザー名```,Macなら ```/Users/ユーザー名```に通常設定されていて、ユーザーがよく使うデスクトップや写真・ドキュメントなどのフォルダはホームディレクトリ直下に配置されている。また、ホームディレクトリは```~/```で簡略化して指定することもできる。\n",
        "OSにもよるが...ライトユーザーはホームディレクトリより上の階層をあまり触らないことが推奨されている(と思う)。理由は、システムファイルが入っていることが多いため。\n",
        "\n",
        "パスの指定の仕方にはその他にも方法があり、ピリオドやスラッシュを駆使して現在のディレクトリからの[相対パス]で指定する事もできる。たとえば...\n",
        "\n",
        "Home  \n",
        "├ Documents  \n",
        "│└─ AdDS2021  \n",
        "││   　└─ Report1  \n",
        "│└─ AdDS2020  \n",
        "││   　└─ Report1  \n",
        "││   　│　 └─ StudentA  \n",
        "││   　│　 └─ StudentB  \n",
        "││   　└─ Report2  \n",
        "│└─ AdDS2019  \n",
        "├ Picures  \n",
        "︙\n",
        "\n",
        "こういう階層構造になっていて、現在```Home/Documents/AdDS2020/Report1```という\n",
        "ディレクトリにいるとすると、そこから\n",
        "* StudentAへの相対パスは ```./StudentA```\n",
        "* Report2への相対パスは ```../Report2```\n",
        "* AdDS2019への相対パスは ```../../AdDS2019```\n",
        "* Pictureへの相対パスは```../../../Pictures```\n",
        "\n",
        "といった感じ。前述のように愚直にReport1フォルダを指定するときは```/Users/Sota/Documents/AdDS2020/Report1```といった感じで、これを相対パスと対比させて絶対パスと呼んだりする。"
      ]
    },
    {
      "cell_type": "markdown",
      "metadata": {
        "id": "kkrEMQUfhqzA"
      },
      "source": [
        "### 余談: ファイル名に使用すべきでない文字\n",
        "\n",
        "授業で公開しているノートブックの名前は基本的に半角英数字とアンダースコアのみで構成されている。これは別に作成者(吉田)がイキってる訳ではない。\n",
        "\n",
        "* 半角スペース(以下␣という記号で表現する)\n",
        "* 各種括弧 (),{},[]\n",
        "* カンマ ,\n",
        "* ピリオド .\n",
        "* ハイフン -\n",
        "* スラッシュ /\n",
        "* エクスクラメーションマーク !\n",
        "* 円記号(バックスラッシュ) ¥\n",
        "* その他、機種依存文字などはもちろん、全角記号等\n",
        "\n",
        "などは、(プログラムで扱う予定がある)ファイルの名前には使用しないことが推奨される。その理由は色々あるが\n",
        "\n",
        "1. 機械の解釈にambiguity(あいまいさ)が生じる\n",
        "2. (1.により人間側の操作が増えて)面倒\n",
        "\n",
        "というところに尽きる。例を示そう。  \n",
        "Google Colab.上では冒頭に!を付けることで、以下に例を示すようなLinuxコマンドを実行できる。\n",
        "\n",
        "```!ls hogehoge.pdf``` #← lsコマンド　リスト(該当ファイル等)を表示  \n",
        "```!mkdir hogehoge``` #← make directoryコマンド  \n",
        "```!rm hogehoge``` #←remove(削除)コマンド  "
      ]
    },
    {
      "cell_type": "markdown",
      "metadata": {
        "id": "i7-Lssixk1ig"
      },
      "source": [
        "たとえば半角スペースが入った```test␣.pdf```というファイルがあったとする。  \n",
        "これをlsコマンドで表示させようとして\n",
        "\n",
        "```\n",
        "!ls test .pdf\n",
        "```\n",
        "\n",
        "という命令を行うと、```test␣.pdf```という指定ではなく```test```と```.pdf```という2つのファイルが存在するかどうかを尋ねる命令になってしまう。  \n",
        "この場合、```test␣.pdf```の有無を調べたければ、別途バックスラッシュを入れて「記号としての空白です」と機械に教えなくてはならない。  \n",
        "```\n",
        "!ls test\\ .pdf\n",
        "```\n",
        "\n",
        "といった具合に、人間側の手間が必要になってしまう。  \n",
        "人間が目で見るフォルダ名と機械に与えるべきパスが異なるというのは...やっぱり色んな場面で不便が生じる。\n",
        "上記の記号や\"２バイト文字\"はファイル(フォルダ)名に使わないのがコンピューターにとっては無難なのだ。\n",
        "こういうことは小中高や大学でも理由付きで教えてくれなかったりするので、プログラミングをやって初めて気がつく(気にするようになった)という人も多いかもしれない。\n"
      ]
    }
  ],
  "metadata": {
    "colab": {
      "collapsed_sections": [],
      "include_colab_link": true,
      "name": "Python_chapter5_handling_files.ipynb",
      "provenance": []
    },
    "kernelspec": {
      "display_name": "Python 3",
      "name": "python3"
    }
  },
  "nbformat": 4,
  "nbformat_minor": 0
}
