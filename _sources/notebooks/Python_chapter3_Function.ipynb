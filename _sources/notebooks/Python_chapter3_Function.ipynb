{
  "cells": [
    {
      "cell_type": "markdown",
      "metadata": {
        "colab_type": "text",
        "id": "view-in-github"
      },
      "source": [
        "<a href=\"https://colab.research.google.com/github/SotaYoshida/Lecture_DataScience/blob/main/notebooks/Python_chapter3_Function.ipynb\" target=\"_parent\"><img src=\"https://colab.research.google.com/assets/colab-badge.svg\" alt=\"Open In Colab\"/></a>"
      ]
    },
    {
      "cell_type": "markdown",
      "metadata": {
        "id": "7Id5T1JiYLyY"
      },
      "source": [
        "# 自作関数\n",
        "\n",
        "[この章の目的]プログラム内での自作関数と戻り値,スコープの概念を獲得する。\n",
        "\n",
        "ここでは、Pythonにおける関数の定義と関数が返す値[戻り値(返り値とも呼ぶ)]と、変数のスコープについて説明する。  "
      ]
    },
    {
      "cell_type": "markdown",
      "metadata": {
        "id": "39hwOTPKHdBK"
      },
      "source": [
        "## 関数の定義"
      ]
    },
    {
      "cell_type": "markdown",
      "metadata": {
        "id": "8YqBoNnXHjDe"
      },
      "source": [
        "既に現れた```print```や```len```などはPythonに備え付けられた\"組み込み関数\"と呼ばれるものの一種である。\n",
        "以下に示すように、組み込み関数とは別にユーザーが独自の関数を定義することもできる。\n",
        "これを指してこの章では\"自作関数\"あるいは単に\"関数\"と呼ぶことにする。\n",
        "\n",
        "関数とは「処理を抽象化して、再利用可能な形でまとめたもの」である。関数を使うことで、同じ処理を何度も書く必要がなくなり、プログラムの見通しがよくなる。\n",
        "\n",
        "\n",
        "まずはPythonで関数を\"定義\"(define)する方法を以下に示した:\n",
        "\n",
        "```python\n",
        "def 関数名(引数1,引数2,...):\n",
        "    処理1\n",
        "    処理2\n",
        "    ...\n",
        "    return 戻り値\n",
        "```\n",
        "\n",
        "関数の構成要素は\n",
        "\n",
        "- **関数名**: 関数を呼び出す際に使う名前\n",
        "- **引数**: 関数に渡す値。  \n",
        "   なくてもよいし、配列や辞書など様々な変数を渡すことができる。\n",
        "- **処理**: 関数が行う処理\n",
        "- **戻り値**: 関数が返す値。 なくてもよいし、複数値も返せる。  \n",
        "  return文を省略すると関数の返り値は`None`(値なし)となる\n",
        "\n",
        "である。\n",
        "\n",
        "関数名のあとに付けたコロン`:`は「以下で関数の中身を記述するブロックが開始する」ことを意味していて、\n",
        "インデントによってどこまでが関数のブロックかがわかるようになっている。(ブロックについては```if```や```for```を思い出そう)\n",
        "\n",
        "たとえば、作業を複数の工程に分けて、それぞれの工程を関数として定義することで、プログラムの構造を整理することができる。\n",
        "これまでの内容は、実行の度に出力をするような操作が多かったが、プログラムの用途はそれだけではない。\n",
        "関数Aに引数を渡して、関数Bにその結果を渡して、関数Cにその結果を渡す、といったように、関数を組み合わせて処理を行うことができる。\n",
        "\n",
        "幾つか例を挙げながら、関数の定義の仕方と使い方に慣れていこう。\n",
        "\n"
      ]
    },
    {
      "cell_type": "markdown",
      "metadata": {},
      "source": [
        "**例1: 摂氏温度を受け取り、絶対温度に変換する関数**"
      ]
    },
    {
      "cell_type": "code",
      "execution_count": 1,
      "metadata": {},
      "outputs": [],
      "source": [
        "def Celsius_to_Kelvin(cval):\n",
        "    K = cval + 273.15\n",
        "    return K"
      ]
    },
    {
      "cell_type": "markdown",
      "metadata": {},
      "source": [
        "上で述べた関数の構成要素と照らし合わせると以下のようになる:\n",
        "\n",
        "- 関数名: `Celsius_to_Kelvin`\n",
        "- 引数: `cval` (摂氏温度, intやfloatを想定)\n",
        "- 処理: 摂氏温度`cval`を絶対温度に変換して変数`K`として定義\n",
        "- 戻り値: 計算した`K`を関数の外に返す(returnする)\n",
        "\n",
        "この関数を呼び出す(使う)には以下のようにすればよい:"
      ]
    },
    {
      "cell_type": "code",
      "execution_count": 19,
      "metadata": {},
      "outputs": [
        {
          "name": "stdout",
          "output_type": "stream",
          "text": [
            "関数に数値0を入れた場合→ 273.15 関数に数値100.0を入れた場合→ 373.15\n"
          ]
        }
      ],
      "source": [
        "print(\"関数に数値0を入れた場合→\", Celsius_to_Kelvin(0), \"関数に数値100.0を入れた場合→\", Celsius_to_Kelvin(100.0))"
      ]
    },
    {
      "cell_type": "markdown",
      "metadata": {},
      "source": [
        "変数を関数に渡すことももちろんできる。"
      ]
    },
    {
      "cell_type": "code",
      "execution_count": 20,
      "metadata": {},
      "outputs": [
        {
          "name": "stdout",
          "output_type": "stream",
          "text": [
            "摂氏 -123.45 度は、 149.7 Kです。\n"
          ]
        }
      ],
      "source": [
        "C = -123.45\n",
        "print(\"摂氏\", C, \"度は、\", Celsius_to_Kelvin(C), \"Kです。\")"
      ]
    },
    {
      "cell_type": "markdown",
      "metadata": {},
      "source": [
        "**注意: 関数の定義**\n",
        "\n",
        "当然だが、関数の定義は関数の呼び出しよりも前に行う必要がある。\n",
        "関数1の中で自作関数2を読み出すような書き方(定義の順序が前後すること)はOKだが、"
      ]
    },
    {
      "cell_type": "code",
      "execution_count": 21,
      "metadata": {},
      "outputs": [
        {
          "name": "stdout",
          "output_type": "stream",
          "text": [
            "これは関数1です\n",
            "これは関数2です\n"
          ]
        }
      ],
      "source": [
        "def func_1():\n",
        "    print(\"これは関数1です\")\n",
        "    func_2()\n",
        "\n",
        "def func_2():\n",
        "    print(\"これは関数2です\")\n",
        "\n",
        "func_1()"
      ]
    },
    {
      "cell_type": "markdown",
      "metadata": {},
      "source": [
        "実行時に定義されていない関数は当然ながら使用できず、エラーが出る。\n"
      ]
    },
    {
      "cell_type": "code",
      "execution_count": 22,
      "metadata": {},
      "outputs": [
        {
          "ename": "NameError",
          "evalue": "name 'your_function' is not defined",
          "output_type": "error",
          "traceback": [
            "\u001b[0;31m---------------------------------------------------------------------------\u001b[0m",
            "\u001b[0;31mNameError\u001b[0m                                 Traceback (most recent call last)",
            "Cell \u001b[0;32mIn[22], line 1\u001b[0m\n\u001b[0;32m----> 1\u001b[0m \u001b[43myour_function\u001b[49m()\n\u001b[1;32m      3\u001b[0m \u001b[38;5;28;01mdef\u001b[39;00m \u001b[38;5;21myour_funtion\u001b[39m():\n\u001b[1;32m      4\u001b[0m     \u001b[38;5;28mprint\u001b[39m(\u001b[38;5;124m\"\u001b[39m\u001b[38;5;124m定義されていない関数は実行できないので、ココは読まれないよ！！\u001b[39m\u001b[38;5;124m\"\u001b[39m)\n",
            "\u001b[0;31mNameError\u001b[0m: name 'your_function' is not defined"
          ]
        }
      ],
      "source": [
        "your_function()\n",
        "\n",
        "def your_funtion():\n",
        "    print(\"定義されていない関数は実行できないので、ココは読まれないよ！！\")\n",
        "    return None"
      ]
    },
    {
      "cell_type": "markdown",
      "metadata": {},
      "source": [
        "**例2: 3成分の数値を持つリストを２つ受け取り、座標間の距離を返す関数**"
      ]
    },
    {
      "cell_type": "markdown",
      "metadata": {},
      "source": [
        "以下のように$x,y,z$ 座標に対応するような3成分のリストがたくさん(たとえば100個)あったとき"
      ]
    },
    {
      "cell_type": "code",
      "execution_count": 23,
      "metadata": {
        "id": "oeG9EoBPYflr"
      },
      "outputs": [],
      "source": [
        "p1 = [2.0, 4.0, -5.0]\n",
        "p2 = [1.0, 3.0, -4.0]\n",
        "#...中略\n",
        "p100 = [5.5,-2.0, 3.0]"
      ]
    },
    {
      "cell_type": "markdown",
      "metadata": {
        "id": "f-1OoOC3ZFfW"
      },
      "source": [
        "それらの任意の２つの点の距離を求める操作が必要だったとする。\n",
        "そんなとき${}_{100}C_2=4950$通りに対して毎回"
      ]
    },
    {
      "cell_type": "code",
      "execution_count": 24,
      "metadata": {
        "id": "lrWeMpk5ZGy6"
      },
      "outputs": [],
      "source": [
        "d_1_2 = ( (p1[0] - p2[0])**2 + (p1[1] - p2[1])**2 + (p1[2] - p2[2])**2 ) ** 0.5\n",
        "d_1_100 = ( (p1[0] - p100[0])**2 + (p1[1] - p100[1])**2 + (p1[2] - p100[2])**2 ) ** 0.5"
      ]
    },
    {
      "cell_type": "markdown",
      "metadata": {
        "id": "lyuVwV40Ytk8"
      },
      "source": [
        "などと書くのは面倒だし、コードが4950行かそれ以上になってしまう。\n",
        "やはりこの場合も関数を使って処理を抽象化することが望ましい。"
      ]
    },
    {
      "cell_type": "code",
      "execution_count": 25,
      "metadata": {
        "colab": {
          "base_uri": "https://localhost:8080/"
        },
        "id": "f0iYOWb5Zfcp",
        "outputId": "b42f1ff6-dd82-4cb7-e8a3-4f4a29676c14"
      },
      "outputs": [
        {
          "name": "stdout",
          "output_type": "stream",
          "text": [
            "点1 [2.0, 4.0, -5.0] と点2 [1.0, 3.0, -4.0] の距離は 1.7320508075688772 です\n"
          ]
        }
      ],
      "source": [
        "def calc_distance(l1,l2):           \n",
        "    return ( (l1[0] - l2[0])**2 + (l1[1] - l2[1])**2 + (l1[2] - l2[2])**2 ) ** 0.5\n",
        "\n",
        "t = calc_distance(p1,p2) \n",
        "print(\"点1\",p1, \"と点2\", p2, \"の距離は\", t, \"です\")"
      ]
    },
    {
      "cell_type": "code",
      "execution_count": 27,
      "metadata": {},
      "outputs": [
        {
          "name": "stdout",
          "output_type": "stream",
          "text": [
            "10.594810050208546\n",
            "24.45914961727002\n"
          ]
        }
      ],
      "source": [
        "print(calc_distance(p1,p100)) #←これでも使えるし\n",
        "print(calc_distance([20.0, 1.0, -5.0], [-2.0, 3.0, 5.5])) #←などとして変数でなく値を直接書いても使える"
      ]
    },
    {
      "cell_type": "markdown",
      "metadata": {
        "id": "r6JbFf61Zv3l"
      },
      "source": [
        "- 関数名 = `calc_distance`\n",
        "- 引数: `l1,l2` (それぞれ座標を表す3成分のリスト or リストと互換性のある型を想定)\n",
        "- 処理: ユークリッド距離 (成分間の差分の２乗和の平方根)を計算\n",
        "- 戻り値: 計算した距離 (float)\n"
      ]
    },
    {
      "cell_type": "markdown",
      "metadata": {
        "id": "JYEIUOkRx34k"
      },
      "source": [
        "上の例のように100個の点の3次元座標に対応するリストがある場合、ループ(`for`文)と組み合わせて"
      ]
    },
    {
      "cell_type": "code",
      "execution_count": 29,
      "metadata": {
        "colab": {
          "base_uri": "https://localhost:8080/"
        },
        "id": "rQeQdGnqytj6",
        "outputId": "57e68e0c-4e6c-49c9-de91-51e56a20adea"
      },
      "outputs": [
        {
          "name": "stdout",
          "output_type": "stream",
          "text": [
            "4950\n"
          ]
        }
      ],
      "source": [
        "#リスト内包表記で3次元の座標点をランダムに100個作る n,iはダミー変数\n",
        "import random \n",
        "lists = [ [ random.gauss(0,1) for n in range(3)] for i in range(100)] \n",
        "\n",
        "count = 0\n",
        "for j in range(100):\n",
        "    for i in range(j+1,100): # i>j\n",
        "        count += 1 \n",
        "        distance = calc_distance( lists[j], lists[i])\n",
        "        #print(j,i, distance) # 4950回文の計算結果をprintすると邪魔なのでコメントアウトした\n",
        "print(count) #回数だけ表示しよう\n",
        "#上のjのループ内で、iはj+1から99までを回る。 j+1= 100つまり j=99のとき range(j+1,100)はちゃんと空になる\n",
        "#つまり、長さ100のリストにindex=100でアクセス(範囲外参照)したりすることはない。"
      ]
    },
    {
      "cell_type": "markdown",
      "metadata": {
        "id": "YsUvuSp0hHta"
      },
      "source": [
        "などとすれば、全組み合わせ(${}_{100}C_2$=4950組)に対して即座に距離を計算することが出来る。  \n",
        "\n",
        "上の例はあくまで「任意の長さが3の数値リストに対して3次元空間での距離を計算する関数」であり、3成分以上のリストに対しては対応していない。\n",
        "実際に関数を定義する際には、より汎用的な関数を作ることが望ましい場合も多い。\n",
        "上の例で言えば、「長さが共通の任意の２つの数値リストに対して距離を計算する関数」に拡張することで、\n",
        "汎用性の高いN次元空間でのユークリッド距離を計算する関数にすることができる。"
      ]
    },
    {
      "cell_type": "code",
      "execution_count": null,
      "metadata": {},
      "outputs": [],
      "source": [
        "# 3つ以外の成分でも使えるユークリッド距離を計算する関数\n",
        "def calc_d_Re(l1,l2):           \n",
        "    if len(l1) != len(l2):\n",
        "        print(\"次元が違います!\")\n",
        "        return None\n",
        "    distance = 0\n",
        "    for i in range(len(l1)):\n",
        "        distance += (l1[i] - l2[i])**2\n",
        "    distance = distance ** 0.5\n",
        "    return distance"
      ]
    },
    {
      "cell_type": "markdown",
      "metadata": {},
      "source": [
        "**注意: 関数の引数**\n",
        "\n",
        "関数に入れる引数に用いる変数名は、実際に関数を用いる際の引数として使う変数名とは関係がなく、\n",
        "関数の外側で扱う変数を上の例でいう`l1`,`l2`という名前にあわせて定義しておく必要はない。\n",
        "\n",
        "関数の定義文にある引数名はあくまで、外から与えられた引数を関数内部で使う際の名前であることに注意しよう。"
      ]
    },
    {
      "cell_type": "markdown",
      "metadata": {},
      "source": [
        "**例3: 文字列を受け取り、別の文字列を返したり表示する関数**"
      ]
    },
    {
      "cell_type": "markdown",
      "metadata": {},
      "source": [
        "関数内の操作に関数外からの情報(インプット)が必要ない場合は引数なしの関数でも構わないし、\n",
        "関数の外に値を渡す(アウトプットする)必要がなければ`return`文を明示的に書かなくても問題ない。\n",
        "`return`文がない場合は自動で```None```(値なし)が返される関数となる。\n",
        "\n",
        "「なぜ返り値とは何なのか、なぜreturnが必要なのか分からない」という質問がたまにある。  \n",
        "これまでは単になにか操作をした値を`print`で表示していたが、\n",
        "実際にプログラムを書く場合には、関数の結果を他の処理に使いたい場合が多い。\n",
        "\n",
        "作業工程が単体で完結する場合は`return`を省略してもよいが、\n",
        "関数の結果を他の処理に使いたい場合は`return`を使って返り値を指定する必要がある。\n",
        "「それぞれの処理がいつどこで必要か？」などを意識すると理解が深まるように思う。\n",
        "\n",
        "以下の２つの違いに注目しながら、関数を定義してみよう。\n",
        "\n",
        "1. 文字列を受け取り、上下左右をシャープ記号で装飾した文字列を**表示する**関数\n",
        "\n",
        "2. 文字列を受け取り、上下左右をシャープ記号で装飾した文字列を**返す**関数\n",
        "\n"
      ]
    },
    {
      "cell_type": "code",
      "execution_count": null,
      "metadata": {},
      "outputs": [],
      "source": [
        "def function_3_1(text_input):    \n",
        "    text = \"#\" * 50 + \"\\n\" +  str(text_input).center(50, '#') + \"\\n\" + \"#\" * 50\n",
        "    print(text)\n",
        "\n",
        "def function_3_2(text_input):    \n",
        "    text = \"#\" * 50 + \"\\n\" +  str(text_input).center(50, '#') + \"\\n\" + \"#\" * 50\n",
        "    return text"
      ]
    },
    {
      "cell_type": "markdown",
      "metadata": {},
      "source": [
        "一見すると、どちらも同じような操作を行っているように見える(実際に、text=の行は完全に一緒だ)が、\n",
        "最後に、関数の中でprintで表示をしているのか、関数の外に値を返しているのか、という違いがある。\n",
        "\n",
        "実際に関数を使ってみよう。"
      ]
    },
    {
      "cell_type": "code",
      "execution_count": 31,
      "metadata": {},
      "outputs": [
        {
          "name": "stdout",
          "output_type": "stream",
          "text": [
            "##################################################\n",
            "################## Hello World! ##################\n",
            "##################################################\n",
            "##################################################\n",
            "################# Hello World!! ##################\n",
            "##################################################\n"
          ]
        }
      ],
      "source": [
        "function_3_1(\" Hello World! \")\n",
        "function_3_1(\" Hello World!! \")"
      ]
    },
    {
      "cell_type": "markdown",
      "metadata": {},
      "source": [
        "関数に引数として与えた文字列の周りをシャープ記号で囲って表示することができた。\n",
        "関数の中にprint関数が用いられているため、`function_3_1`を呼び出すたび、装飾された文字列が表示される。\n",
        "\n",
        "では、この関数の**返り値**をprintしてみると..."
      ]
    },
    {
      "cell_type": "code",
      "execution_count": 9,
      "metadata": {},
      "outputs": [
        {
          "name": "stdout",
          "output_type": "stream",
          "text": [
            "##################################################\n",
            "################## Hello World! ##################\n",
            "##################################################\n",
            "None\n"
          ]
        }
      ],
      "source": [
        "print( function_3_1(\" Hello World! \") )"
      ]
    },
    {
      "cell_type": "markdown",
      "metadata": {},
      "source": [
        "`function_3_1`が呼び出されて表示された後、その関数の返り値Noneが表示されていることがわかる。\n",
        "\n",
        "では次に、関数3_2を使ってみよう。"
      ]
    },
    {
      "cell_type": "code",
      "execution_count": 33,
      "metadata": {},
      "outputs": [],
      "source": [
        "def function_3_2(text_input):    \n",
        "    text = \"#\" * 50 + \"\\n\" +  str(text_input).center(50, '#') + \"\\n\" + \"#\" * 50\n",
        "    return text\n",
        "\n",
        "function_3_2(\" ByeBye! \")\n",
        "ret = function_3_2(\" ByeBye!! \")"
      ]
    },
    {
      "cell_type": "markdown",
      "metadata": {},
      "source": [
        "関数3_2の場合、関数の中にprint関数を使うところはないため、関数が実行されても何も表示されない。\n",
        "\n",
        "また、最後の行のように関数の外で返り値を受け取って、`print`関数を使って表示したり他の関数の引数として使うこともできる。"
      ]
    },
    {
      "cell_type": "code",
      "execution_count": 34,
      "metadata": {},
      "outputs": [
        {
          "name": "stdout",
          "output_type": "stream",
          "text": [
            "##################################################\n",
            "#################### ByeBye!! ####################\n",
            "##################################################\n"
          ]
        }
      ],
      "source": [
        "print(ret)"
      ]
    },
    {
      "cell_type": "markdown",
      "metadata": {},
      "source": [
        "例えば、「入力した文字列を装飾する関数」と「入力された文字列を、指定されたアドレスに送信する関数」を作って、\n",
        "それぞれの関数を組み合わせて「入力された文字列を装飾してから指定されたアドレスに送信する」といった処理を行うことができる。\n",
        "\n",
        "**$\\clubsuit$進んだ注**\n",
        "\n",
        "返り値の説明をするうえで、少し厄介なのはGoogle Colab. (Jupyter Notebook)などの環境では、\n",
        "コードセルの末尾にあるコードが代入を伴わない操作(関数の呼び出しや変数名単体の記載)の場合、\n",
        "(あたかも`print`関数を使ったかのように)その値が表示される便利機能？が備わっていることである。\n",
        "\n",
        "したがって、以下のように関数の呼び出しだけ末尾に書くと、"
      ]
    },
    {
      "cell_type": "code",
      "execution_count": 18,
      "metadata": {},
      "outputs": [
        {
          "data": {
            "text/plain": [
              "'##################################################\\n#################### ByeBye! #####################\\n##################################################'"
            ]
          },
          "execution_count": 18,
          "metadata": {},
          "output_type": "execute_result"
        }
      ],
      "source": [
        "function_3_2(\" ByeBye! \")"
      ]
    },
    {
      "cell_type": "markdown",
      "metadata": {},
      "source": [
        "関数の返り値が表示されることになり、3_1との違いがわかりにくい。\n",
        "\n",
        "上の行は本来、関数を呼び出しているだけなので、返り値が表示されているのはあくまでJupyter Notebookの機能であることに注意しよう。"
      ]
    },
    {
      "cell_type": "markdown",
      "metadata": {
        "id": "KfNDxdUVaxhm"
      },
      "source": [
        "**例4: 2つの数値$(a,b)$を受け取り、要素の和と積、二乗和とexp(a+b)のリストを返す関数**\n",
        "\n",
        "戻り値```return```は単一の値や文字列に限らず、複数の値やリスト、辞書なども返すことができる。\n"
      ]
    },
    {
      "cell_type": "code",
      "execution_count": 35,
      "metadata": {},
      "outputs": [
        {
          "data": {
            "text/plain": [
              "(50, 400, [1700, 5.184705528587072e+21])"
            ]
          },
          "execution_count": 35,
          "metadata": {},
          "output_type": "execute_result"
        }
      ],
      "source": [
        "import math #指数関数を使うためにmathモジュールをインポート\n",
        "def ret_sum_product(a,b):\n",
        "    return a+b, a*b, [ a**2 + b**2, math.exp(a+b)]\n",
        "\n",
        "ret_sum_product(10, 40)"
      ]
    },
    {
      "cell_type": "markdown",
      "metadata": {},
      "source": [
        "複数値の返り値の場合はそれらをタプルとしてラップして返してくれていることもわかる。"
      ]
    },
    {
      "cell_type": "code",
      "execution_count": 36,
      "metadata": {},
      "outputs": [
        {
          "name": "stdout",
          "output_type": "stream",
          "text": [
            "(50, 400, [1700, 5.184705528587072e+21]) type <class 'tuple'> tmp[0] 50\n"
          ]
        }
      ],
      "source": [
        "tmp = ret_sum_product(10, 40)\n",
        "print(tmp, \"type\", type(tmp), \"tmp[0]\", tmp[0]) "
      ]
    },
    {
      "cell_type": "markdown",
      "metadata": {},
      "source": [
        "### 引数のデフォルト値"
      ]
    },
    {
      "cell_type": "markdown",
      "metadata": {
        "id": "gwbplPrRy35O"
      },
      "source": [
        "関数を定義するときに、引数にデフォルト値(とくに値を指定しなければこの値が選ばれる)を設定することも出来る。\n"
      ]
    },
    {
      "cell_type": "code",
      "execution_count": null,
      "metadata": {
        "colab": {
          "base_uri": "https://localhost:8080/"
        },
        "id": "EGy5tiLSzKHq",
        "outputId": "1c4fc107-7cf3-43d8-b6be-1f7e296db0d2"
      },
      "outputs": [],
      "source": [
        "#数値リストの要素のp乗和を計算する関数\n",
        "def sump(tmp,p=2): \n",
        "    return sum([tmp[i]**p for i in range(len(tmp))])\n",
        "\n",
        "list1 = [10.0, 20.0, 30.0, 40.0]\n",
        "print(\"default\", sump(list1)) #pを指定しなければp=2が選ばれる\n",
        "print(\"p=1\", sump(list1,p=1))\n",
        "print(\"p=2\", sump(list1,2))\n",
        "print(\"p=3\", sump(list1,3))"
      ]
    },
    {
      "cell_type": "markdown",
      "metadata": {
        "id": "hOiz1XSGKDyx"
      },
      "source": [
        "上の場合、引数を指定する際に`p=`などは書いても書かなくてもなくてもOKだが、デフォルト値が複数設定されている関数を作った場合には、どの変数を指定しているのかを明示的にするため、`p=3`などと引数に入力する。\n",
        "\n",
        "\n",
        "ココまでで説明したように、自作の関数を定義することで作業を再利用可能なものとして抽象化しコードを簡略化することができます。「繰り返しの操作は関数にする」ことを心がけよう。"
      ]
    },
    {
      "cell_type": "markdown",
      "metadata": {
        "id": "Hi4Bw-xWK3d5"
      },
      "source": [
        "## 変数のスコープについて\n",
        "\n",
        "以下の内容は、これまで学習したfor文や関数のインデントとも関連した話題で、非常に重要な反面、初学者がつまづきやすい点でもある。\n",
        "\n",
        "一般に、プログラミングでは**グローバル変数**と**ローカル変数**と呼ばれるものがある。\n",
        "その名(global/local)が示すとおりグローバル変数とはどこからでも参照できる変数で、\n",
        "ローカル変数とは、ある有効範囲(たとえば関数内)のみで参照できる変数になる。\n",
        "\n",
        "例を見ながら理解していこう。\n"
      ]
    },
    {
      "cell_type": "code",
      "execution_count": null,
      "metadata": {
        "id": "SDXBYARcMssS"
      },
      "outputs": [],
      "source": [
        "a = 2\n",
        "list1 = [10.0, 20.0, 30.0, 40.0]"
      ]
    },
    {
      "cell_type": "markdown",
      "metadata": {
        "id": "Hz1s_N4CM5GE"
      },
      "source": [
        "のように、関数内などに書かれたものでない場合、変数はグローバル変数として定義される。  \n",
        "そのため、一度定義されれば関数に引数として渡さなくても参照することができる。"
      ]
    },
    {
      "cell_type": "code",
      "execution_count": null,
      "metadata": {
        "colab": {
          "base_uri": "https://localhost:8080/"
        },
        "id": "lqCI3oOSNCWs",
        "outputId": "681dbaae-556a-457c-d82e-32a9291921c6"
      },
      "outputs": [],
      "source": [
        "def testfunc():\n",
        "    print(a)\n",
        "\n",
        "a = 2\n",
        "testfunc()"
      ]
    },
    {
      "cell_type": "markdown",
      "metadata": {
        "id": "sXaRD7zMO7gq"
      },
      "source": [
        "一方、関数の中で定義(代入)されるローカル変数は、関数の外で参照することはできない。   \n",
        "(注: あとで説明するように関数内でglobal変数であることを宣言すれば関数の外でも参照できるがあまり推奨はされない)\n",
        "\n",
        "以下のコードを実行して,関数の中で定義された変数`abcd`を`print`しようとしてもエラーが起こってしまう。"
      ]
    },
    {
      "cell_type": "code",
      "execution_count": null,
      "metadata": {
        "colab": {
          "base_uri": "https://localhost:8080/",
          "height": 202
        },
        "id": "0C7YGdYCPGZ0",
        "outputId": "4f82d90c-791e-4946-f384-526d3178cb72"
      },
      "outputs": [],
      "source": [
        "def testfunc():\n",
        "    abcd = 1.000\n",
        "testfunc()\n",
        "print(abcd)"
      ]
    },
    {
      "cell_type": "markdown",
      "metadata": {
        "id": "Skv7X7b3N2vc"
      },
      "source": [
        "では、次のコードを実行すると、最後に表示される`a`の値はどうなるだろうか？  \n",
        "\n",
        "2？それとも5?"
      ]
    },
    {
      "cell_type": "code",
      "execution_count": null,
      "metadata": {
        "colab": {
          "base_uri": "https://localhost:8080/"
        },
        "id": "MRy8oApxN8em",
        "outputId": "321ced5c-3002-4eee-e298-7a172cf3effc"
      },
      "outputs": [],
      "source": [
        "def testfunc():\n",
        "    a = 5\n",
        "a= 2\n",
        "testfunc()\n",
        "print(a)"
      ]
    },
    {
      "cell_type": "markdown",
      "metadata": {
        "id": "wNbcnDiiOPqV"
      },
      "source": [
        "となり`a`の値は更新されない。\n",
        "これは`testfunc`の中で定義されている`a`は、関数の内部で定義(代入)される変数であるため、ローカル変数とみなされて処理が行われるため。\n",
        "\n",
        "実際`id`関数を用いて取得できる変数のIDを`print`させてみると、関数の内と外とで`id`が異なることも分かる。"
      ]
    },
    {
      "cell_type": "code",
      "execution_count": null,
      "metadata": {
        "colab": {
          "base_uri": "https://localhost:8080/"
        },
        "id": "feLgu_e4OPcc",
        "outputId": "6e647e2f-2a1c-411a-ef4b-365e61e9e906"
      },
      "outputs": [],
      "source": [
        "def testfunc():\n",
        "    a = 5\n",
        "    print(\"関数の内部\", a, id(a))\n",
        "    \n",
        "a= 2 \n",
        "print(\"関数の実行前\", a, id(a))\n",
        "testfunc()\n",
        "print(\"関数の実行後\", a, id(a)) "
      ]
    },
    {
      "cell_type": "markdown",
      "metadata": {
        "id": "-y5mwt3OPiFY"
      },
      "source": [
        "一方で、関数の中で使う変数をグローバル変数として宣言すれば、関数の外でもその変数を使うこともできる。"
      ]
    },
    {
      "cell_type": "code",
      "execution_count": null,
      "metadata": {
        "colab": {
          "base_uri": "https://localhost:8080/"
        },
        "id": "csjHT3p_Pl3D",
        "outputId": "6a5ad181-d94e-4f56-da8c-aa85f4a3c604"
      },
      "outputs": [],
      "source": [
        "def testfunc():\n",
        "    global abc, a #global変数の宣言\n",
        "    abc = 5\n",
        "    a += 2\n",
        "\n",
        "a=2\n",
        "print(\"実行前\")\n",
        "print(\"a\",a , id(a))\n",
        "testfunc()\n",
        "print(\"実行後\")\n",
        "print(\"a\", a, id(a))  #別の変数として再定義されていることが分かる\n",
        "print(\"abc\", abc)"
      ]
    },
    {
      "cell_type": "markdown",
      "metadata": {
        "id": "qctKvajGMmO9"
      },
      "source": [
        "ただし、このようなコードの書き方は、処理が複雑化してくると、**どこでその変数が定義されたり更新されたりしているか**がわかりづらく、予期しない挙動の原因にもなるため一般には**非推奨**である。\n",
        "\n",
        "[関数には引数として変数を渡して、必要な戻り値を取得する]というコードを書くのがあくまで基本となる。\n",
        "(まぁ細かいことを言うと、Pythonは、それともちょっと設計思想が違うのですが...)\n",
        "\n",
        "Pythonでは、インデントでブロックを定義したりすることで短いコードを書くことができるが、一方で変数のスコープが分かりづらいことがしばしばある。\n",
        "たとえば関数内で、定義されていない変数を用いたコードがあればPythonでは「global変数で定義されているのでは？」と解釈され実行が試行されるが、このことを「気が利いている」と感じる人もいれば、「意図しない参照が起きて余計なバグの温床になる」と、見る人によって違う捉え方になったりする。\n",
        "\n",
        "関数を用いる際に、変数のスコープに関して混乱を避ける手助けとなる方法は...メインプログラムと関数内とで変数の命名規則を区別しておく:   \n",
        "たとえば...メインコード(global変数)で使うリストの名前の区別には数字を使う、関数の引数にはアルファベットを使うなどの工夫(ルール作り)も良い。"
      ]
    },
    {
      "cell_type": "code",
      "execution_count": null,
      "metadata": {
        "id": "RKaOuz0HQsVh"
      },
      "outputs": [],
      "source": [
        "def func_join(listA,listB): #特殊なリストの結合をして返す関数, 処理に特に意味はない。\n",
        "    return listA + 2 * listB \n",
        "\n",
        "list1 = [2.0, 30.0, 18.0]\n",
        "list2 = [9.0, 4.0, 8.0]\n",
        "nlist = func_join(list1, list2)"
      ]
    },
    {
      "cell_type": "markdown",
      "metadata": {
        "id": "6TUuABHM4ei0"
      },
      "source": [
        "### $\\clubsuit$ 関数内でのリスト更新\n"
      ]
    },
    {
      "cell_type": "markdown",
      "metadata": {
        "id": "vRetz7vT4iyg"
      },
      "source": [
        "上では、数値(float)と関数を例に説明しましたが、リストの場合はもう少し挙動が複雑になる。"
      ]
    },
    {
      "cell_type": "code",
      "execution_count": null,
      "metadata": {
        "colab": {
          "base_uri": "https://localhost:8080/"
        },
        "id": "5rZLX1Vh4p2f",
        "outputId": "ca13440a-d6b6-44c9-8521-f6ea3ce39efe"
      },
      "outputs": [],
      "source": [
        "def func_update_list(in_list):\n",
        "    in_list[0] = \"AAA\"\n",
        "\n",
        "tmp = [\"SS\", 1, 2, 3]\n",
        "print(\"実行前\", tmp, id(tmp), id(tmp[0]))\n",
        "func_update_list(tmp)\n",
        "print(\"実行後\", tmp,id(tmp),id(tmp[0])) "
      ]
    },
    {
      "cell_type": "markdown",
      "metadata": {
        "id": "5w-Zo7Pw5YyA"
      },
      "source": [
        "リストオブジェクト自体のidは引き継がれていて、リスト内要素(0番目)の更新が反映されていることがわかる。"
      ]
    },
    {
      "cell_type": "code",
      "execution_count": null,
      "metadata": {
        "colab": {
          "base_uri": "https://localhost:8080/"
        },
        "id": "OgGkbM7u-k15",
        "outputId": "8283c13a-5d99-48cc-b879-ea53284581a3"
      },
      "outputs": [],
      "source": [
        "def func_update_list(in_list):\n",
        "    in_list[0] = \"AAA\" \n",
        "    in_list = [\"BBB\", 0, 1, 2]  ##ココはローカル変数扱い\n",
        "    return in_list\n",
        "\n",
        "tmp = [\"SS\", 1, 2, 3]\n",
        "print(\"実行前\", tmp, id(tmp), id(tmp[0]))\n",
        "ret = func_update_list(tmp)\n",
        "print(\"実行後\", tmp,id(tmp),id(tmp[0])) \n",
        "print(\"ret\", ret,id(ret),id(ret[0])) "
      ]
    },
    {
      "cell_type": "markdown",
      "metadata": {},
      "source": [
        "## 関数とメソッド\n",
        "\n",
        "これまで登場してきた`print`や`len`などの関数は、Pythonに組み込まれている関数で、`関数()`という自作関数と同じ方法で呼び出せた。\n",
        "\n",
        "一方で、リストや文字列などのオブジェクトに対して、`オブジェクト.関数()`という形で呼び出せる関数がある。\n",
        "\n",
        "これらは**メソッド**と呼ばれ、それぞれのオブジェクト(正確にはクラス)に対して定義された関数になっている。\n",
        "\n",
        "たとえば、リストに対して`append`というメソッドを呼び出すと、リストの末尾に要素を追加することができた:"
      ]
    },
    {
      "cell_type": "code",
      "execution_count": null,
      "metadata": {},
      "outputs": [],
      "source": [
        "a = [1,2,3]\n",
        "a.append(4)\n",
        "print(a)"
      ]
    },
    {
      "cell_type": "markdown",
      "metadata": {},
      "source": [
        "\n",
        "関数もメソッドも、引数を取り何らかの操作をするという点では同じだが、両者はその設計思想が異なるため、混乱しないように注意する必要がある。\n",
        "大雑把に言えば、**関数は引数を取り、何らかの操作を行い、戻り値を返す**という設計思想であるのに対し、**メソッドはオブジェクトに対して何らかの操作を行う**という設計思想である。\n",
        "\n",
        "この授業では、`クラス`についての説明を行わないため、自分でクラスないしメソッドを定義することはないとは思うが、\n",
        "ライブラリ等で用意されているクラス・メソッドを用いることも多いため、混乱した場合はこの違いを意識するようにすると良い。"
      ]
    },
    {
      "cell_type": "markdown",
      "metadata": {},
      "source": [
        "### 組み込み関数の一覧\n",
        "\n",
        "Pythonのdocumentから組み込み関数の一覧を確認することが出来る: https://docs.python.org/ja/3/library/functions.html\n",
        "\n",
        "授業資料で既に使用したものとしては`print`,`type`, `len`, `range`, `id`, `str`などがある。\n",
        "\n",
        "\n",
        "| 関数名 | 出来ること | 実行例 |\n",
        "|--------|------------|--------|\n",
        "| `print` | 表示する (書き出しも可能) | `print(\"Hello, World!\")` |\n",
        "| `type` | オブジェクトの型を返す | `type(10)` |\n",
        "| `len` | オブジェクトの長さを返す | `len([1, 2, 3])` |\n",
        "| `range` | 指定された範囲の整数を生成する | `range(5)` |\n",
        "| `id` | オブジェクトの識別子を返す | `id(\"Hello\")` |\n",
        "| `str` | オブジェクトを文字列に変換する | `str(3.14)` |\n",
        "| `abs` | 数値の絶対値を返す | `abs(-5)` |\n",
        "| `sum` | リストの要素の合計を返す | `sum([1, 2, 3, 4])` |\n",
        "| `min` | リストの最小値を返す | `min([5, 2, 8, 1])` |\n",
        "| `max` | リストの最大値を返す | `max([5, 2, 8, 1])` |\n",
        "| `sort` | リストをソートする | `l = [5, 2, 8, 1]; l.sort()` |\n",
        "| `open` | ファイルを開く | `file = open(\"data.txt\", \"r\")` |\n",
        "| `int` | 文字列や浮動小数点数を整数に変換する | `int(\"10\")` |\n",
        "| `float` | 文字列や整数を浮動小数点数に変換する | `float(\"3.14\")` |\n",
        "| `complex` | 実数と虚数から複素数を作成する | `complex(2, 3)` |\n",
        "| `list` | リストと互換性のあるものをリストに変換する | `list((1, 2, 3))` |\n",
        "| `dict` | キーと値のペアから辞書を作成する | `dict([('a', 1), ('b', 2)])` |\n",
        "\n",
        "上で書いた**出来ること**はあくまで一例であり、それぞれの関数には他にも様々な機能がある。\n",
        "上で\"変換する\"や\"互換性\"と書いたように、幾つかの型やクラスの間には互換性があり、関数(やメソッド)で相互に変換する事ができることも多い。\n",
        "\n",
        "例えばfor文で頻出する`range`はリストに変換することができた(２章も参照):"
      ]
    },
    {
      "cell_type": "code",
      "execution_count": null,
      "metadata": {},
      "outputs": [],
      "source": [
        "list(range(10))"
      ]
    }
  ],
  "metadata": {
    "colab": {
      "authorship_tag": "ABX9TyM6vO7bZgJuLDdF+5NjdpNA",
      "collapsed_sections": [],
      "include_colab_link": true,
      "name": "Python_chapter3_Function.ipynb",
      "provenance": []
    },
    "kernelspec": {
      "display_name": "3.10.9",
      "language": "python",
      "name": "python3"
    },
    "language_info": {
      "codemirror_mode": {
        "name": "ipython",
        "version": 3
      },
      "file_extension": ".py",
      "mimetype": "text/x-python",
      "name": "python",
      "nbconvert_exporter": "python",
      "pygments_lexer": "ipython3",
      "version": "3.10.9"
    }
  },
  "nbformat": 4,
  "nbformat_minor": 0
}
